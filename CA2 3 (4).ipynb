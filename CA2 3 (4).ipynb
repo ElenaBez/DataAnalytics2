{
 "cells": [
  {
   "cell_type": "code",
   "execution_count": 3,
   "id": "70bb6cd1",
   "metadata": {},
   "outputs": [],
   "source": [
    "import pandas as pd"
   ]
  },
  {
   "cell_type": "code",
   "execution_count": 198,
   "id": "1a457d29",
   "metadata": {},
   "outputs": [
    {
     "data": {
      "text/html": [
       "<div>\n",
       "<style scoped>\n",
       "    .dataframe tbody tr th:only-of-type {\n",
       "        vertical-align: middle;\n",
       "    }\n",
       "\n",
       "    .dataframe tbody tr th {\n",
       "        vertical-align: top;\n",
       "    }\n",
       "\n",
       "    .dataframe thead th {\n",
       "        text-align: right;\n",
       "    }\n",
       "</style>\n",
       "<table border=\"1\" class=\"dataframe\">\n",
       "  <thead>\n",
       "    <tr style=\"text-align: right;\">\n",
       "      <th></th>\n",
       "      <th>Statistic Label</th>\n",
       "      <th>Month</th>\n",
       "      <th>Airports in Ireland</th>\n",
       "      <th>Country</th>\n",
       "      <th>Direction</th>\n",
       "      <th>Flight Type</th>\n",
       "      <th>UNIT</th>\n",
       "      <th>VALUE</th>\n",
       "    </tr>\n",
       "  </thead>\n",
       "  <tbody>\n",
       "    <tr>\n",
       "      <th>0</th>\n",
       "      <td>Passengers</td>\n",
       "      <td>2013M01</td>\n",
       "      <td>All main airports</td>\n",
       "      <td>All Countries</td>\n",
       "      <td>All directions</td>\n",
       "      <td>All flights</td>\n",
       "      <td>Thousand</td>\n",
       "      <td>1398.7</td>\n",
       "    </tr>\n",
       "    <tr>\n",
       "      <th>1</th>\n",
       "      <td>Passengers</td>\n",
       "      <td>2013M01</td>\n",
       "      <td>All main airports</td>\n",
       "      <td>All Countries</td>\n",
       "      <td>All directions</td>\n",
       "      <td>Scheduled</td>\n",
       "      <td>Thousand</td>\n",
       "      <td>1372.4</td>\n",
       "    </tr>\n",
       "    <tr>\n",
       "      <th>2</th>\n",
       "      <td>Passengers</td>\n",
       "      <td>2013M01</td>\n",
       "      <td>All main airports</td>\n",
       "      <td>All Countries</td>\n",
       "      <td>All directions</td>\n",
       "      <td>Unscheduled</td>\n",
       "      <td>Thousand</td>\n",
       "      <td>26.3</td>\n",
       "    </tr>\n",
       "    <tr>\n",
       "      <th>3</th>\n",
       "      <td>Passengers</td>\n",
       "      <td>2013M01</td>\n",
       "      <td>All main airports</td>\n",
       "      <td>All Countries</td>\n",
       "      <td>Arrival</td>\n",
       "      <td>All flights</td>\n",
       "      <td>Thousand</td>\n",
       "      <td>687.1</td>\n",
       "    </tr>\n",
       "    <tr>\n",
       "      <th>4</th>\n",
       "      <td>Passengers</td>\n",
       "      <td>2013M01</td>\n",
       "      <td>All main airports</td>\n",
       "      <td>All Countries</td>\n",
       "      <td>Arrival</td>\n",
       "      <td>Scheduled</td>\n",
       "      <td>Thousand</td>\n",
       "      <td>674.0</td>\n",
       "    </tr>\n",
       "  </tbody>\n",
       "</table>\n",
       "</div>"
      ],
      "text/plain": [
       "  Statistic Label    Month Airports in Ireland        Country       Direction  \\\n",
       "0      Passengers  2013M01   All main airports  All Countries  All directions   \n",
       "1      Passengers  2013M01   All main airports  All Countries  All directions   \n",
       "2      Passengers  2013M01   All main airports  All Countries  All directions   \n",
       "3      Passengers  2013M01   All main airports  All Countries         Arrival   \n",
       "4      Passengers  2013M01   All main airports  All Countries         Arrival   \n",
       "\n",
       "   Flight Type      UNIT   VALUE  \n",
       "0  All flights  Thousand  1398.7  \n",
       "1    Scheduled  Thousand  1372.4  \n",
       "2  Unscheduled  Thousand    26.3  \n",
       "3  All flights  Thousand   687.1  \n",
       "4    Scheduled  Thousand   674.0  "
      ]
     },
     "execution_count": 198,
     "metadata": {},
     "output_type": "execute_result"
    }
   ],
   "source": [
    "Ireland = pd.read_csv('Ireland.csv')\n",
    "Ireland.head()"
   ]
  },
  {
   "cell_type": "code",
   "execution_count": 199,
   "id": "07a65a86",
   "metadata": {},
   "outputs": [
    {
     "data": {
      "text/html": [
       "<div>\n",
       "<style scoped>\n",
       "    .dataframe tbody tr th:only-of-type {\n",
       "        vertical-align: middle;\n",
       "    }\n",
       "\n",
       "    .dataframe tbody tr th {\n",
       "        vertical-align: top;\n",
       "    }\n",
       "\n",
       "    .dataframe thead th {\n",
       "        text-align: right;\n",
       "    }\n",
       "</style>\n",
       "<table border=\"1\" class=\"dataframe\">\n",
       "  <thead>\n",
       "    <tr style=\"text-align: right;\">\n",
       "      <th></th>\n",
       "      <th>Month</th>\n",
       "      <th>Reporting airport</th>\n",
       "      <th>Type of flight</th>\n",
       "      <th>Arrival/departure</th>\n",
       "      <th>Total Number of passengers</th>\n",
       "      <th>Total Freight and mail total, tonne</th>\n",
       "      <th>Total Number of passengers, cumulative from the beginning of the year</th>\n",
       "      <th>Total Freight and mail, cumulative from the beginning of the year, tonnes</th>\n",
       "      <th>Helsinki-Vantaa Number of passengers</th>\n",
       "      <th>Helsinki-Vantaa Freight and mail total, tonne</th>\n",
       "      <th>Helsinki-Vantaa Number of passengers, cumulative from the beginning of the year</th>\n",
       "      <th>Helsinki-Vantaa Freight and mail, cumulative from the beginning of the year, tonnes</th>\n",
       "      <th>Other domestic airports Number of passengers</th>\n",
       "      <th>Other domestic airports Freight and mail total, tonne</th>\n",
       "      <th>Other domestic airports Number of passengers, cumulative from the beginning of the year</th>\n",
       "      <th>Other domestic airports Freight and mail, cumulative from the beginning of the year, tonnes</th>\n",
       "      <th>International Number of passengers</th>\n",
       "      <th>International Freight and mail total, tonne</th>\n",
       "      <th>International Number of passengers, cumulative from the beginning of the year</th>\n",
       "      <th>International Freight and mail, cumulative from the beginning of the year, tonnes</th>\n",
       "    </tr>\n",
       "  </thead>\n",
       "  <tbody>\n",
       "    <tr>\n",
       "      <th>0</th>\n",
       "      <td>2019M01</td>\n",
       "      <td>Total</td>\n",
       "      <td>Total</td>\n",
       "      <td>Arrivals/departures total</td>\n",
       "      <td>1969169</td>\n",
       "      <td>16265</td>\n",
       "      <td>1969169</td>\n",
       "      <td>16265</td>\n",
       "      <td>276932</td>\n",
       "      <td>55</td>\n",
       "      <td>276932</td>\n",
       "      <td>55</td>\n",
       "      <td>279130</td>\n",
       "      <td>177</td>\n",
       "      <td>279130</td>\n",
       "      <td>177</td>\n",
       "      <td>1413107</td>\n",
       "      <td>16033</td>\n",
       "      <td>1413107</td>\n",
       "      <td>16033</td>\n",
       "    </tr>\n",
       "    <tr>\n",
       "      <th>1</th>\n",
       "      <td>2019M01</td>\n",
       "      <td>Total</td>\n",
       "      <td>Total</td>\n",
       "      <td>Arrivals</td>\n",
       "      <td>984340</td>\n",
       "      <td>7550</td>\n",
       "      <td>984340</td>\n",
       "      <td>7550</td>\n",
       "      <td>129975</td>\n",
       "      <td>41</td>\n",
       "      <td>129975</td>\n",
       "      <td>41</td>\n",
       "      <td>147386</td>\n",
       "      <td>13</td>\n",
       "      <td>147386</td>\n",
       "      <td>13</td>\n",
       "      <td>706979</td>\n",
       "      <td>7495</td>\n",
       "      <td>706979</td>\n",
       "      <td>7495</td>\n",
       "    </tr>\n",
       "    <tr>\n",
       "      <th>2</th>\n",
       "      <td>2019M01</td>\n",
       "      <td>Total</td>\n",
       "      <td>Total</td>\n",
       "      <td>Departures</td>\n",
       "      <td>984829</td>\n",
       "      <td>8715</td>\n",
       "      <td>984829</td>\n",
       "      <td>8715</td>\n",
       "      <td>146957</td>\n",
       "      <td>13</td>\n",
       "      <td>146957</td>\n",
       "      <td>13</td>\n",
       "      <td>131744</td>\n",
       "      <td>164</td>\n",
       "      <td>131744</td>\n",
       "      <td>164</td>\n",
       "      <td>706128</td>\n",
       "      <td>8538</td>\n",
       "      <td>706128</td>\n",
       "      <td>8538</td>\n",
       "    </tr>\n",
       "    <tr>\n",
       "      <th>3</th>\n",
       "      <td>2019M01</td>\n",
       "      <td>Total</td>\n",
       "      <td>Scheduled flight</td>\n",
       "      <td>Arrivals/departures total</td>\n",
       "      <td>1857115</td>\n",
       "      <td>14743</td>\n",
       "      <td>1857115</td>\n",
       "      <td>14743</td>\n",
       "      <td>276649</td>\n",
       "      <td>55</td>\n",
       "      <td>276649</td>\n",
       "      <td>55</td>\n",
       "      <td>278772</td>\n",
       "      <td>177</td>\n",
       "      <td>278772</td>\n",
       "      <td>177</td>\n",
       "      <td>1301694</td>\n",
       "      <td>14511</td>\n",
       "      <td>1301694</td>\n",
       "      <td>14511</td>\n",
       "    </tr>\n",
       "    <tr>\n",
       "      <th>4</th>\n",
       "      <td>2019M01</td>\n",
       "      <td>Total</td>\n",
       "      <td>Scheduled flight</td>\n",
       "      <td>Arrivals</td>\n",
       "      <td>931756</td>\n",
       "      <td>6733</td>\n",
       "      <td>931756</td>\n",
       "      <td>6733</td>\n",
       "      <td>129719</td>\n",
       "      <td>41</td>\n",
       "      <td>129719</td>\n",
       "      <td>41</td>\n",
       "      <td>147185</td>\n",
       "      <td>13</td>\n",
       "      <td>147185</td>\n",
       "      <td>13</td>\n",
       "      <td>654852</td>\n",
       "      <td>6678</td>\n",
       "      <td>654852</td>\n",
       "      <td>6678</td>\n",
       "    </tr>\n",
       "  </tbody>\n",
       "</table>\n",
       "</div>"
      ],
      "text/plain": [
       "     Month Reporting airport    Type of flight          Arrival/departure  \\\n",
       "0  2019M01             Total             Total  Arrivals/departures total   \n",
       "1  2019M01             Total             Total                   Arrivals   \n",
       "2  2019M01             Total             Total                 Departures   \n",
       "3  2019M01             Total  Scheduled flight  Arrivals/departures total   \n",
       "4  2019M01             Total  Scheduled flight                   Arrivals   \n",
       "\n",
       "   Total Number of passengers  Total Freight and mail total, tonne  \\\n",
       "0                     1969169                                16265   \n",
       "1                      984340                                 7550   \n",
       "2                      984829                                 8715   \n",
       "3                     1857115                                14743   \n",
       "4                      931756                                 6733   \n",
       "\n",
       "   Total Number of passengers, cumulative from the beginning of the year  \\\n",
       "0                                            1969169                       \n",
       "1                                             984340                       \n",
       "2                                             984829                       \n",
       "3                                            1857115                       \n",
       "4                                             931756                       \n",
       "\n",
       "   Total Freight and mail, cumulative from the beginning of the year, tonnes  \\\n",
       "0                                              16265                           \n",
       "1                                               7550                           \n",
       "2                                               8715                           \n",
       "3                                              14743                           \n",
       "4                                               6733                           \n",
       "\n",
       "   Helsinki-Vantaa Number of passengers  \\\n",
       "0                                276932   \n",
       "1                                129975   \n",
       "2                                146957   \n",
       "3                                276649   \n",
       "4                                129719   \n",
       "\n",
       "   Helsinki-Vantaa Freight and mail total, tonne  \\\n",
       "0                                             55   \n",
       "1                                             41   \n",
       "2                                             13   \n",
       "3                                             55   \n",
       "4                                             41   \n",
       "\n",
       "   Helsinki-Vantaa Number of passengers, cumulative from the beginning of the year  \\\n",
       "0                                             276932                                 \n",
       "1                                             129975                                 \n",
       "2                                             146957                                 \n",
       "3                                             276649                                 \n",
       "4                                             129719                                 \n",
       "\n",
       "   Helsinki-Vantaa Freight and mail, cumulative from the beginning of the year, tonnes  \\\n",
       "0                                                 55                                     \n",
       "1                                                 41                                     \n",
       "2                                                 13                                     \n",
       "3                                                 55                                     \n",
       "4                                                 41                                     \n",
       "\n",
       "   Other domestic airports Number of passengers  \\\n",
       "0                                        279130   \n",
       "1                                        147386   \n",
       "2                                        131744   \n",
       "3                                        278772   \n",
       "4                                        147185   \n",
       "\n",
       "   Other domestic airports Freight and mail total, tonne  \\\n",
       "0                                                177       \n",
       "1                                                 13       \n",
       "2                                                164       \n",
       "3                                                177       \n",
       "4                                                 13       \n",
       "\n",
       "   Other domestic airports Number of passengers, cumulative from the beginning of the year  \\\n",
       "0                                             279130                                         \n",
       "1                                             147386                                         \n",
       "2                                             131744                                         \n",
       "3                                             278772                                         \n",
       "4                                             147185                                         \n",
       "\n",
       "   Other domestic airports Freight and mail, cumulative from the beginning of the year, tonnes  \\\n",
       "0                                                177                                             \n",
       "1                                                 13                                             \n",
       "2                                                164                                             \n",
       "3                                                177                                             \n",
       "4                                                 13                                             \n",
       "\n",
       "   International Number of passengers  \\\n",
       "0                             1413107   \n",
       "1                              706979   \n",
       "2                              706128   \n",
       "3                             1301694   \n",
       "4                              654852   \n",
       "\n",
       "   International Freight and mail total, tonne  \\\n",
       "0                                        16033   \n",
       "1                                         7495   \n",
       "2                                         8538   \n",
       "3                                        14511   \n",
       "4                                         6678   \n",
       "\n",
       "   International Number of passengers, cumulative from the beginning of the year  \\\n",
       "0                                            1413107                               \n",
       "1                                             706979                               \n",
       "2                                             706128                               \n",
       "3                                            1301694                               \n",
       "4                                             654852                               \n",
       "\n",
       "   International Freight and mail, cumulative from the beginning of the year, tonnes  \n",
       "0                                              16033                                  \n",
       "1                                               7495                                  \n",
       "2                                               8538                                  \n",
       "3                                              14511                                  \n",
       "4                                               6678                                  "
      ]
     },
     "execution_count": 199,
     "metadata": {},
     "output_type": "execute_result"
    }
   ],
   "source": [
    "Finland = pd.read_csv('Finland.csv', encoding='latin-1')\n",
    "Finland.head()"
   ]
  },
  {
   "cell_type": "code",
   "execution_count": 200,
   "id": "a0302ff2",
   "metadata": {},
   "outputs": [
    {
     "name": "stdout",
     "output_type": "stream",
     "text": [
      "['Passengers' 'Freight']\n"
     ]
    }
   ],
   "source": [
    "unique_values = Ireland['Statistic Label'].unique()\n",
    "print(unique_values)"
   ]
  },
  {
   "cell_type": "code",
   "execution_count": 201,
   "id": "179f3e32",
   "metadata": {},
   "outputs": [
    {
     "name": "stdout",
     "output_type": "stream",
     "text": [
      "<class 'pandas.core.frame.DataFrame'>\n",
      "RangeIndex: 783756 entries, 0 to 783755\n",
      "Data columns (total 8 columns):\n",
      " #   Column               Non-Null Count   Dtype  \n",
      "---  ------               --------------   -----  \n",
      " 0   Statistic Label      783756 non-null  object \n",
      " 1   Month                783756 non-null  object \n",
      " 2   Airports in Ireland  783756 non-null  object \n",
      " 3   Country              783756 non-null  object \n",
      " 4   Direction            783756 non-null  object \n",
      " 5   Flight Type          783756 non-null  object \n",
      " 6   UNIT                 783756 non-null  object \n",
      " 7   VALUE                783756 non-null  float64\n",
      "dtypes: float64(1), object(7)\n",
      "memory usage: 47.8+ MB\n"
     ]
    }
   ],
   "source": [
    "Ireland.info()"
   ]
  },
  {
   "cell_type": "code",
   "execution_count": 202,
   "id": "e807e7a7",
   "metadata": {},
   "outputs": [
    {
     "data": {
      "text/html": [
       "<div>\n",
       "<style scoped>\n",
       "    .dataframe tbody tr th:only-of-type {\n",
       "        vertical-align: middle;\n",
       "    }\n",
       "\n",
       "    .dataframe tbody tr th {\n",
       "        vertical-align: top;\n",
       "    }\n",
       "\n",
       "    .dataframe thead th {\n",
       "        text-align: right;\n",
       "    }\n",
       "</style>\n",
       "<table border=\"1\" class=\"dataframe\">\n",
       "  <thead>\n",
       "    <tr style=\"text-align: right;\">\n",
       "      <th></th>\n",
       "      <th>Statistic Label</th>\n",
       "      <th>Month</th>\n",
       "      <th>Airports in Ireland</th>\n",
       "      <th>Country</th>\n",
       "      <th>Direction</th>\n",
       "      <th>Flight Type</th>\n",
       "      <th>UNIT</th>\n",
       "      <th>VALUE</th>\n",
       "      <th>Passengers</th>\n",
       "      <th>Freight</th>\n",
       "    </tr>\n",
       "  </thead>\n",
       "  <tbody>\n",
       "    <tr>\n",
       "      <th>783751</th>\n",
       "      <td>Freight</td>\n",
       "      <td>2023M03</td>\n",
       "      <td>Shannon</td>\n",
       "      <td>Oceania and Polar regions (1)</td>\n",
       "      <td>Arrival</td>\n",
       "      <td>Scheduled</td>\n",
       "      <td>000 Tonnes</td>\n",
       "      <td>0.0</td>\n",
       "      <td>0.0</td>\n",
       "      <td>0.0</td>\n",
       "    </tr>\n",
       "    <tr>\n",
       "      <th>783752</th>\n",
       "      <td>Freight</td>\n",
       "      <td>2023M03</td>\n",
       "      <td>Shannon</td>\n",
       "      <td>Oceania and Polar regions (1)</td>\n",
       "      <td>Arrival</td>\n",
       "      <td>Unscheduled</td>\n",
       "      <td>000 Tonnes</td>\n",
       "      <td>0.0</td>\n",
       "      <td>0.0</td>\n",
       "      <td>0.0</td>\n",
       "    </tr>\n",
       "    <tr>\n",
       "      <th>783753</th>\n",
       "      <td>Freight</td>\n",
       "      <td>2023M03</td>\n",
       "      <td>Shannon</td>\n",
       "      <td>Oceania and Polar regions (1)</td>\n",
       "      <td>Departure</td>\n",
       "      <td>All flights</td>\n",
       "      <td>000 Tonnes</td>\n",
       "      <td>0.0</td>\n",
       "      <td>0.0</td>\n",
       "      <td>0.0</td>\n",
       "    </tr>\n",
       "    <tr>\n",
       "      <th>783754</th>\n",
       "      <td>Freight</td>\n",
       "      <td>2023M03</td>\n",
       "      <td>Shannon</td>\n",
       "      <td>Oceania and Polar regions (1)</td>\n",
       "      <td>Departure</td>\n",
       "      <td>Scheduled</td>\n",
       "      <td>000 Tonnes</td>\n",
       "      <td>0.0</td>\n",
       "      <td>0.0</td>\n",
       "      <td>0.0</td>\n",
       "    </tr>\n",
       "    <tr>\n",
       "      <th>783755</th>\n",
       "      <td>Freight</td>\n",
       "      <td>2023M03</td>\n",
       "      <td>Shannon</td>\n",
       "      <td>Oceania and Polar regions (1)</td>\n",
       "      <td>Departure</td>\n",
       "      <td>Unscheduled</td>\n",
       "      <td>000 Tonnes</td>\n",
       "      <td>0.0</td>\n",
       "      <td>0.0</td>\n",
       "      <td>0.0</td>\n",
       "    </tr>\n",
       "  </tbody>\n",
       "</table>\n",
       "</div>"
      ],
      "text/plain": [
       "       Statistic Label    Month Airports in Ireland  \\\n",
       "783751         Freight  2023M03             Shannon   \n",
       "783752         Freight  2023M03             Shannon   \n",
       "783753         Freight  2023M03             Shannon   \n",
       "783754         Freight  2023M03             Shannon   \n",
       "783755         Freight  2023M03             Shannon   \n",
       "\n",
       "                              Country  Direction  Flight Type        UNIT  \\\n",
       "783751  Oceania and Polar regions (1)    Arrival    Scheduled  000 Tonnes   \n",
       "783752  Oceania and Polar regions (1)    Arrival  Unscheduled  000 Tonnes   \n",
       "783753  Oceania and Polar regions (1)  Departure  All flights  000 Tonnes   \n",
       "783754  Oceania and Polar regions (1)  Departure    Scheduled  000 Tonnes   \n",
       "783755  Oceania and Polar regions (1)  Departure  Unscheduled  000 Tonnes   \n",
       "\n",
       "        VALUE  Passengers  Freight  \n",
       "783751    0.0         0.0      0.0  \n",
       "783752    0.0         0.0      0.0  \n",
       "783753    0.0         0.0      0.0  \n",
       "783754    0.0         0.0      0.0  \n",
       "783755    0.0         0.0      0.0  "
      ]
     },
     "execution_count": 202,
     "metadata": {},
     "output_type": "execute_result"
    }
   ],
   "source": [
    "# Create 'Passengers' and 'Freight' columns based on 'Statistic Label'\n",
    "Ireland['Passengers'] = (Ireland['Statistic Label'] == 'Passengers') * Ireland['VALUE']\n",
    "Ireland['Freight'] = (Ireland['Statistic Label'] == 'Freight') * Ireland['VALUE']\n",
    "\n",
    "Ireland.tail()"
   ]
  },
  {
   "cell_type": "code",
   "execution_count": 203,
   "id": "91380648",
   "metadata": {},
   "outputs": [
    {
     "name": "stdout",
     "output_type": "stream",
     "text": [
      "<class 'pandas.core.frame.DataFrame'>\n",
      "RangeIndex: 783756 entries, 0 to 783755\n",
      "Data columns (total 4 columns):\n",
      " #   Column               Non-Null Count   Dtype  \n",
      "---  ------               --------------   -----  \n",
      " 0   Month                783756 non-null  object \n",
      " 1   Airports in Ireland  783756 non-null  object \n",
      " 2   Passengers           783756 non-null  float64\n",
      " 3   Freight              783756 non-null  float64\n",
      "dtypes: float64(2), object(2)\n",
      "memory usage: 23.9+ MB\n"
     ]
    }
   ],
   "source": [
    "columns_to_drop = [\"Statistic Label\",\n",
    "    \"Country\", \"Direction\", \"Flight Type\", \"UNIT\", \"VALUE\", \"Type of flight\"]\n",
    "\n",
    "# Ensure column names exist in the DataFrame before dropping\n",
    "columns_to_drop = [col for col in columns_to_drop if col in Ireland.columns]\n",
    "\n",
    "# Drop the specified columns\n",
    "Ireland.drop(columns=columns_to_drop, axis=1, inplace=True)\n",
    "Ireland.info()"
   ]
  },
  {
   "cell_type": "code",
   "execution_count": 204,
   "id": "00825aa0",
   "metadata": {},
   "outputs": [],
   "source": [
    "Ireland_gr=Ireland.groupby(['Month', 'Airports in Ireland']).agg({'Passengers': 'sum', 'Freight': 'sum'}).reset_index()"
   ]
  },
  {
   "cell_type": "code",
   "execution_count": 205,
   "id": "387c7350",
   "metadata": {},
   "outputs": [
    {
     "data": {
      "text/html": [
       "<div>\n",
       "<style scoped>\n",
       "    .dataframe tbody tr th:only-of-type {\n",
       "        vertical-align: middle;\n",
       "    }\n",
       "\n",
       "    .dataframe tbody tr th {\n",
       "        vertical-align: top;\n",
       "    }\n",
       "\n",
       "    .dataframe thead th {\n",
       "        text-align: right;\n",
       "    }\n",
       "</style>\n",
       "<table border=\"1\" class=\"dataframe\">\n",
       "  <thead>\n",
       "    <tr style=\"text-align: right;\">\n",
       "      <th></th>\n",
       "      <th>Month</th>\n",
       "      <th>Airports in Ireland</th>\n",
       "      <th>Passengers</th>\n",
       "      <th>Freight</th>\n",
       "    </tr>\n",
       "  </thead>\n",
       "  <tbody>\n",
       "    <tr>\n",
       "      <th>1</th>\n",
       "      <td>2013M01</td>\n",
       "      <td>Cork</td>\n",
       "      <td>2461600.0</td>\n",
       "      <td>400.0</td>\n",
       "    </tr>\n",
       "    <tr>\n",
       "      <th>2</th>\n",
       "      <td>2013M01</td>\n",
       "      <td>Dublin</td>\n",
       "      <td>19657800.0</td>\n",
       "      <td>141900.0</td>\n",
       "    </tr>\n",
       "    <tr>\n",
       "      <th>3</th>\n",
       "      <td>2013M01</td>\n",
       "      <td>Kerry</td>\n",
       "      <td>256200.0</td>\n",
       "      <td>0.0</td>\n",
       "    </tr>\n",
       "    <tr>\n",
       "      <th>4</th>\n",
       "      <td>2013M01</td>\n",
       "      <td>Knock</td>\n",
       "      <td>634800.0</td>\n",
       "      <td>0.0</td>\n",
       "    </tr>\n",
       "    <tr>\n",
       "      <th>5</th>\n",
       "      <td>2013M01</td>\n",
       "      <td>Shannon</td>\n",
       "      <td>1073100.0</td>\n",
       "      <td>20000.0</td>\n",
       "    </tr>\n",
       "  </tbody>\n",
       "</table>\n",
       "</div>"
      ],
      "text/plain": [
       "     Month Airports in Ireland  Passengers   Freight\n",
       "1  2013M01                Cork   2461600.0     400.0\n",
       "2  2013M01              Dublin  19657800.0  141900.0\n",
       "3  2013M01               Kerry    256200.0       0.0\n",
       "4  2013M01               Knock    634800.0       0.0\n",
       "5  2013M01             Shannon   1073100.0   20000.0"
      ]
     },
     "execution_count": 205,
     "metadata": {},
     "output_type": "execute_result"
    }
   ],
   "source": [
    "Ireland_gr= Ireland_gr[Ireland_gr['Airports in Ireland'] != 'All main airports']\n",
    "Ireland_gr[['Passengers', 'Freight']] *= 1000\n",
    "Ireland_gr.head()"
   ]
  },
  {
   "cell_type": "code",
   "execution_count": 206,
   "id": "2eb0b355",
   "metadata": {},
   "outputs": [
    {
     "data": {
      "text/html": [
       "<div>\n",
       "<style scoped>\n",
       "    .dataframe tbody tr th:only-of-type {\n",
       "        vertical-align: middle;\n",
       "    }\n",
       "\n",
       "    .dataframe tbody tr th {\n",
       "        vertical-align: top;\n",
       "    }\n",
       "\n",
       "    .dataframe thead th {\n",
       "        text-align: right;\n",
       "    }\n",
       "</style>\n",
       "<table border=\"1\" class=\"dataframe\">\n",
       "  <thead>\n",
       "    <tr style=\"text-align: right;\">\n",
       "      <th></th>\n",
       "      <th>Month</th>\n",
       "      <th>Airports in Ireland</th>\n",
       "      <th>Passengers</th>\n",
       "      <th>Freight</th>\n",
       "    </tr>\n",
       "  </thead>\n",
       "  <tbody>\n",
       "    <tr>\n",
       "      <th>1</th>\n",
       "      <td>2013M01</td>\n",
       "      <td>Cork</td>\n",
       "      <td>2461600.0</td>\n",
       "      <td>400.0</td>\n",
       "    </tr>\n",
       "    <tr>\n",
       "      <th>2</th>\n",
       "      <td>2013M01</td>\n",
       "      <td>Dublin</td>\n",
       "      <td>19657800.0</td>\n",
       "      <td>141900.0</td>\n",
       "    </tr>\n",
       "    <tr>\n",
       "      <th>3</th>\n",
       "      <td>2013M01</td>\n",
       "      <td>Kerry</td>\n",
       "      <td>256200.0</td>\n",
       "      <td>0.0</td>\n",
       "    </tr>\n",
       "    <tr>\n",
       "      <th>4</th>\n",
       "      <td>2013M01</td>\n",
       "      <td>Knock</td>\n",
       "      <td>634800.0</td>\n",
       "      <td>0.0</td>\n",
       "    </tr>\n",
       "    <tr>\n",
       "      <th>5</th>\n",
       "      <td>2013M01</td>\n",
       "      <td>Shannon</td>\n",
       "      <td>1073100.0</td>\n",
       "      <td>20000.0</td>\n",
       "    </tr>\n",
       "    <tr>\n",
       "      <th>...</th>\n",
       "      <td>...</td>\n",
       "      <td>...</td>\n",
       "      <td>...</td>\n",
       "      <td>...</td>\n",
       "    </tr>\n",
       "    <tr>\n",
       "      <th>733</th>\n",
       "      <td>2023M03</td>\n",
       "      <td>Cork</td>\n",
       "      <td>3334400.0</td>\n",
       "      <td>0.0</td>\n",
       "    </tr>\n",
       "    <tr>\n",
       "      <th>734</th>\n",
       "      <td>2023M03</td>\n",
       "      <td>Dublin</td>\n",
       "      <td>40635100.0</td>\n",
       "      <td>179300.0</td>\n",
       "    </tr>\n",
       "    <tr>\n",
       "      <th>735</th>\n",
       "      <td>2023M03</td>\n",
       "      <td>Kerry</td>\n",
       "      <td>459800.0</td>\n",
       "      <td>0.0</td>\n",
       "    </tr>\n",
       "    <tr>\n",
       "      <th>736</th>\n",
       "      <td>2023M03</td>\n",
       "      <td>Knock</td>\n",
       "      <td>1004000.0</td>\n",
       "      <td>0.0</td>\n",
       "    </tr>\n",
       "    <tr>\n",
       "      <th>737</th>\n",
       "      <td>2023M03</td>\n",
       "      <td>Shannon</td>\n",
       "      <td>2190700.0</td>\n",
       "      <td>22900.0</td>\n",
       "    </tr>\n",
       "  </tbody>\n",
       "</table>\n",
       "<p>555 rows × 4 columns</p>\n",
       "</div>"
      ],
      "text/plain": [
       "       Month Airports in Ireland  Passengers   Freight\n",
       "1    2013M01                Cork   2461600.0     400.0\n",
       "2    2013M01              Dublin  19657800.0  141900.0\n",
       "3    2013M01               Kerry    256200.0       0.0\n",
       "4    2013M01               Knock    634800.0       0.0\n",
       "5    2013M01             Shannon   1073100.0   20000.0\n",
       "..       ...                 ...         ...       ...\n",
       "733  2023M03                Cork   3334400.0       0.0\n",
       "734  2023M03              Dublin  40635100.0  179300.0\n",
       "735  2023M03               Kerry    459800.0       0.0\n",
       "736  2023M03               Knock   1004000.0       0.0\n",
       "737  2023M03             Shannon   2190700.0   22900.0\n",
       "\n",
       "[555 rows x 4 columns]"
      ]
     },
     "execution_count": 206,
     "metadata": {},
     "output_type": "execute_result"
    }
   ],
   "source": [
    "import re\n",
    "# Define the pattern to exclude\n",
    "pattern_to_exclude = re.compile(r'^(201[3-8]|2019M(0[1-9]|1[0-2]))$')\n",
    "\n",
    "# Use the pattern to filter rows\n",
    "Ireland_gr_fil = Ireland_gr[~Ireland_gr['Month'].str.match(pattern_to_exclude)]\n",
    "\n",
    "# Display the result\n",
    "Ireland_gr_fil"
   ]
  },
  {
   "cell_type": "code",
   "execution_count": 207,
   "id": "29c3d10f",
   "metadata": {},
   "outputs": [
    {
     "name": "stdout",
     "output_type": "stream",
     "text": [
      "<class 'pandas.core.frame.DataFrame'>\n",
      "RangeIndex: 11151 entries, 0 to 11150\n",
      "Data columns (total 4 columns):\n",
      " #   Column                               Non-Null Count  Dtype \n",
      "---  ------                               --------------  ----- \n",
      " 0   Month                                11151 non-null  object\n",
      " 1   Reporting airport                    11151 non-null  object\n",
      " 2   Total Number of passengers           11151 non-null  int64 \n",
      " 3   Total Freight and mail total, tonne  11151 non-null  int64 \n",
      "dtypes: int64(2), object(2)\n",
      "memory usage: 348.6+ KB\n"
     ]
    }
   ],
   "source": [
    "columns_to_drop = [\"Type of flight\",\n",
    "    \"Arrival/departure\", \"Total Number of passengers, cumulative from the beginning of the year\",\n",
    "    \"Total Freight and mail, cumulative from the beginning of the year, tonnes\",\n",
    "    \"Helsinki-Vantaa Number of passengers\", \"Helsinki-Vantaa Freight and mail total, tonne\",\n",
    "    \"Helsinki-Vantaa Number of passengers, cumulative from the beginning of the year\",\n",
    "    \"Helsinki-Vantaa Freight and mail, cumulative from the beginning of the year, tonnes\",\n",
    "    \"Other domestic airports Number of passengers\",\n",
    "    \"Other domestic airports Freight and mail total, tonne\",\n",
    "    \"Other domestic airports Number of passengers, cumulative from the beginning of the year\",\n",
    "    \"Other domestic airports Number of passengers, cumulative from the beginning of the year\",\n",
    "    \"Other domestic airports Freight and mail, cumulative from the beginning of the year, tonnes\",\n",
    "    \"International Number of passengers\",\n",
    "    \"International Freight and mail total, tonne\",\n",
    "    \"International Number of passengers, cumulative from the beginning of the year\",\n",
    "    \"International Freight and mail, cumulative from the beginning of the year, tonnes\"\n",
    "]\n",
    "\n",
    "# Ensure column names exist in the DataFrame before dropping\n",
    "columns_to_drop = [col for col in columns_to_drop if col in Finland.columns]\n",
    "\n",
    "# Drop the specified columns\n",
    "Finland.drop(columns=columns_to_drop, axis=1, inplace=True)\n",
    "Finland.info()"
   ]
  },
  {
   "cell_type": "code",
   "execution_count": 208,
   "id": "479dddc0",
   "metadata": {},
   "outputs": [
    {
     "data": {
      "text/html": [
       "<div>\n",
       "<style scoped>\n",
       "    .dataframe tbody tr th:only-of-type {\n",
       "        vertical-align: middle;\n",
       "    }\n",
       "\n",
       "    .dataframe tbody tr th {\n",
       "        vertical-align: top;\n",
       "    }\n",
       "\n",
       "    .dataframe thead th {\n",
       "        text-align: right;\n",
       "    }\n",
       "</style>\n",
       "<table border=\"1\" class=\"dataframe\">\n",
       "  <thead>\n",
       "    <tr style=\"text-align: right;\">\n",
       "      <th></th>\n",
       "      <th>Month</th>\n",
       "      <th>Reporting airport</th>\n",
       "      <th>Total Number of passengers</th>\n",
       "      <th>Total Freight and mail total, tonne</th>\n",
       "    </tr>\n",
       "  </thead>\n",
       "  <tbody>\n",
       "    <tr>\n",
       "      <th>9</th>\n",
       "      <td>2019M01</td>\n",
       "      <td>Helsinki-Vantaa</td>\n",
       "      <td>1574950</td>\n",
       "      <td>15841</td>\n",
       "    </tr>\n",
       "    <tr>\n",
       "      <th>10</th>\n",
       "      <td>2019M01</td>\n",
       "      <td>Helsinki-Vantaa</td>\n",
       "      <td>798402</td>\n",
       "      <td>7322</td>\n",
       "    </tr>\n",
       "    <tr>\n",
       "      <th>11</th>\n",
       "      <td>2019M01</td>\n",
       "      <td>Helsinki-Vantaa</td>\n",
       "      <td>776548</td>\n",
       "      <td>8518</td>\n",
       "    </tr>\n",
       "    <tr>\n",
       "      <th>12</th>\n",
       "      <td>2019M01</td>\n",
       "      <td>Helsinki-Vantaa</td>\n",
       "      <td>1525370</td>\n",
       "      <td>14328</td>\n",
       "    </tr>\n",
       "    <tr>\n",
       "      <th>13</th>\n",
       "      <td>2019M01</td>\n",
       "      <td>Helsinki-Vantaa</td>\n",
       "      <td>774769</td>\n",
       "      <td>6509</td>\n",
       "    </tr>\n",
       "    <tr>\n",
       "      <th>...</th>\n",
       "      <td>...</td>\n",
       "      <td>...</td>\n",
       "      <td>...</td>\n",
       "      <td>...</td>\n",
       "    </tr>\n",
       "    <tr>\n",
       "      <th>11146</th>\n",
       "      <td>2023M11</td>\n",
       "      <td>Vaasa</td>\n",
       "      <td>5721</td>\n",
       "      <td>0</td>\n",
       "    </tr>\n",
       "    <tr>\n",
       "      <th>11147</th>\n",
       "      <td>2023M11</td>\n",
       "      <td>Vaasa</td>\n",
       "      <td>5784</td>\n",
       "      <td>0</td>\n",
       "    </tr>\n",
       "    <tr>\n",
       "      <th>11148</th>\n",
       "      <td>2023M11</td>\n",
       "      <td>Vaasa</td>\n",
       "      <td>2735</td>\n",
       "      <td>0</td>\n",
       "    </tr>\n",
       "    <tr>\n",
       "      <th>11149</th>\n",
       "      <td>2023M11</td>\n",
       "      <td>Vaasa</td>\n",
       "      <td>1358</td>\n",
       "      <td>0</td>\n",
       "    </tr>\n",
       "    <tr>\n",
       "      <th>11150</th>\n",
       "      <td>2023M11</td>\n",
       "      <td>Vaasa</td>\n",
       "      <td>1377</td>\n",
       "      <td>0</td>\n",
       "    </tr>\n",
       "  </tbody>\n",
       "</table>\n",
       "<p>10620 rows × 4 columns</p>\n",
       "</div>"
      ],
      "text/plain": [
       "         Month Reporting airport  Total Number of passengers  \\\n",
       "9      2019M01   Helsinki-Vantaa                     1574950   \n",
       "10     2019M01   Helsinki-Vantaa                      798402   \n",
       "11     2019M01   Helsinki-Vantaa                      776548   \n",
       "12     2019M01   Helsinki-Vantaa                     1525370   \n",
       "13     2019M01   Helsinki-Vantaa                      774769   \n",
       "...        ...               ...                         ...   \n",
       "11146  2023M11             Vaasa                        5721   \n",
       "11147  2023M11             Vaasa                        5784   \n",
       "11148  2023M11             Vaasa                        2735   \n",
       "11149  2023M11             Vaasa                        1358   \n",
       "11150  2023M11             Vaasa                        1377   \n",
       "\n",
       "       Total Freight and mail total, tonne  \n",
       "9                                    15841  \n",
       "10                                    7322  \n",
       "11                                    8518  \n",
       "12                                   14328  \n",
       "13                                    6509  \n",
       "...                                    ...  \n",
       "11146                                    0  \n",
       "11147                                    0  \n",
       "11148                                    0  \n",
       "11149                                    0  \n",
       "11150                                    0  \n",
       "\n",
       "[10620 rows x 4 columns]"
      ]
     },
     "execution_count": 208,
     "metadata": {},
     "output_type": "execute_result"
    }
   ],
   "source": [
    "Finland = Finland[Finland['Reporting airport'] != 'Total']\n",
    "Finland"
   ]
  },
  {
   "cell_type": "code",
   "execution_count": 209,
   "id": "38a6aede",
   "metadata": {},
   "outputs": [],
   "source": [
    "Finland.rename(columns={\"Reporting airport\": \"Airports in Finland\", \"Total Number of passengers\":\"Passengers Finland\",\"Total Freight and mail total, tonne\":\"Freight Finland\" }, inplace=True)"
   ]
  },
  {
   "cell_type": "code",
   "execution_count": 210,
   "id": "0de3e9e3",
   "metadata": {},
   "outputs": [],
   "source": [
    "Finland_gr=Finland.groupby(['Month', 'Airports in Finland']).agg({'Passengers Finland': 'sum', 'Freight Finland': 'sum'}).reset_index()"
   ]
  },
  {
   "cell_type": "code",
   "execution_count": 211,
   "id": "a646ed26",
   "metadata": {},
   "outputs": [
    {
     "data": {
      "text/html": [
       "<div>\n",
       "<style scoped>\n",
       "    .dataframe tbody tr th:only-of-type {\n",
       "        vertical-align: middle;\n",
       "    }\n",
       "\n",
       "    .dataframe tbody tr th {\n",
       "        vertical-align: top;\n",
       "    }\n",
       "\n",
       "    .dataframe thead th {\n",
       "        text-align: right;\n",
       "    }\n",
       "</style>\n",
       "<table border=\"1\" class=\"dataframe\">\n",
       "  <thead>\n",
       "    <tr style=\"text-align: right;\">\n",
       "      <th></th>\n",
       "      <th>Month</th>\n",
       "      <th>Airports in Finland</th>\n",
       "      <th>Passengers Finland</th>\n",
       "      <th>Freight Finland</th>\n",
       "    </tr>\n",
       "  </thead>\n",
       "  <tbody>\n",
       "    <tr>\n",
       "      <th>0</th>\n",
       "      <td>2019M01</td>\n",
       "      <td>Enontekiö</td>\n",
       "      <td>7076</td>\n",
       "      <td>0</td>\n",
       "    </tr>\n",
       "    <tr>\n",
       "      <th>1</th>\n",
       "      <td>2019M01</td>\n",
       "      <td>Helsinki-Vantaa</td>\n",
       "      <td>6299800</td>\n",
       "      <td>63361</td>\n",
       "    </tr>\n",
       "    <tr>\n",
       "      <th>2</th>\n",
       "      <td>2019M01</td>\n",
       "      <td>Ivalo</td>\n",
       "      <td>136644</td>\n",
       "      <td>0</td>\n",
       "    </tr>\n",
       "    <tr>\n",
       "      <th>3</th>\n",
       "      <td>2019M01</td>\n",
       "      <td>Joensuu</td>\n",
       "      <td>35368</td>\n",
       "      <td>8</td>\n",
       "    </tr>\n",
       "    <tr>\n",
       "      <th>4</th>\n",
       "      <td>2019M01</td>\n",
       "      <td>Jyväskylä</td>\n",
       "      <td>17200</td>\n",
       "      <td>4</td>\n",
       "    </tr>\n",
       "  </tbody>\n",
       "</table>\n",
       "</div>"
      ],
      "text/plain": [
       "     Month Airports in Finland  Passengers Finland  Freight Finland\n",
       "0  2019M01           Enontekiö                7076                0\n",
       "1  2019M01     Helsinki-Vantaa             6299800            63361\n",
       "2  2019M01               Ivalo              136644                0\n",
       "3  2019M01             Joensuu               35368                8\n",
       "4  2019M01           Jyväskylä               17200                4"
      ]
     },
     "execution_count": 211,
     "metadata": {},
     "output_type": "execute_result"
    }
   ],
   "source": [
    "Finland_gr.head()"
   ]
  },
  {
   "cell_type": "code",
   "execution_count": 253,
   "id": "750b2c01",
   "metadata": {},
   "outputs": [
    {
     "data": {
      "text/html": [
       "<div>\n",
       "<style scoped>\n",
       "    .dataframe tbody tr th:only-of-type {\n",
       "        vertical-align: middle;\n",
       "    }\n",
       "\n",
       "    .dataframe tbody tr th {\n",
       "        vertical-align: top;\n",
       "    }\n",
       "\n",
       "    .dataframe thead th {\n",
       "        text-align: right;\n",
       "    }\n",
       "</style>\n",
       "<table border=\"1\" class=\"dataframe\">\n",
       "  <thead>\n",
       "    <tr style=\"text-align: right;\">\n",
       "      <th></th>\n",
       "      <th>Month</th>\n",
       "      <th>Airports in Finland</th>\n",
       "      <th>Passengers Finland</th>\n",
       "      <th>Freight Finland</th>\n",
       "    </tr>\n",
       "  </thead>\n",
       "  <tbody>\n",
       "    <tr>\n",
       "      <th>0</th>\n",
       "      <td>2019M01</td>\n",
       "      <td>Enontekiö</td>\n",
       "      <td>7076</td>\n",
       "      <td>0</td>\n",
       "    </tr>\n",
       "    <tr>\n",
       "      <th>1</th>\n",
       "      <td>2019M01</td>\n",
       "      <td>Helsinki-Vantaa</td>\n",
       "      <td>6299800</td>\n",
       "      <td>63361</td>\n",
       "    </tr>\n",
       "    <tr>\n",
       "      <th>2</th>\n",
       "      <td>2019M01</td>\n",
       "      <td>Ivalo</td>\n",
       "      <td>136644</td>\n",
       "      <td>0</td>\n",
       "    </tr>\n",
       "    <tr>\n",
       "      <th>3</th>\n",
       "      <td>2019M01</td>\n",
       "      <td>Joensuu</td>\n",
       "      <td>35368</td>\n",
       "      <td>8</td>\n",
       "    </tr>\n",
       "    <tr>\n",
       "      <th>4</th>\n",
       "      <td>2019M01</td>\n",
       "      <td>Jyväskylä</td>\n",
       "      <td>17200</td>\n",
       "      <td>4</td>\n",
       "    </tr>\n",
       "    <tr>\n",
       "      <th>...</th>\n",
       "      <td>...</td>\n",
       "      <td>...</td>\n",
       "      <td>...</td>\n",
       "      <td>...</td>\n",
       "    </tr>\n",
       "    <tr>\n",
       "      <th>1015</th>\n",
       "      <td>2023M03</td>\n",
       "      <td>Rovaniemi</td>\n",
       "      <td>326800</td>\n",
       "      <td>24</td>\n",
       "    </tr>\n",
       "    <tr>\n",
       "      <th>1016</th>\n",
       "      <td>2023M03</td>\n",
       "      <td>Savonlinna</td>\n",
       "      <td>624</td>\n",
       "      <td>0</td>\n",
       "    </tr>\n",
       "    <tr>\n",
       "      <th>1017</th>\n",
       "      <td>2023M03</td>\n",
       "      <td>Tampere-Pirkkala</td>\n",
       "      <td>60796</td>\n",
       "      <td>56</td>\n",
       "    </tr>\n",
       "    <tr>\n",
       "      <th>1018</th>\n",
       "      <td>2023M03</td>\n",
       "      <td>Turku</td>\n",
       "      <td>76452</td>\n",
       "      <td>1576</td>\n",
       "    </tr>\n",
       "    <tr>\n",
       "      <th>1019</th>\n",
       "      <td>2023M03</td>\n",
       "      <td>Vaasa</td>\n",
       "      <td>47532</td>\n",
       "      <td>0</td>\n",
       "    </tr>\n",
       "  </tbody>\n",
       "</table>\n",
       "<p>1020 rows × 4 columns</p>\n",
       "</div>"
      ],
      "text/plain": [
       "        Month Airports in Finland  Passengers Finland  Freight Finland\n",
       "0     2019M01           Enontekiö                7076                0\n",
       "1     2019M01     Helsinki-Vantaa             6299800            63361\n",
       "2     2019M01               Ivalo              136644                0\n",
       "3     2019M01             Joensuu               35368                8\n",
       "4     2019M01           Jyväskylä               17200                4\n",
       "...       ...                 ...                 ...              ...\n",
       "1015  2023M03           Rovaniemi              326800               24\n",
       "1016  2023M03          Savonlinna                 624                0\n",
       "1017  2023M03    Tampere-Pirkkala               60796               56\n",
       "1018  2023M03               Turku               76452             1576\n",
       "1019  2023M03               Vaasa               47532                0\n",
       "\n",
       "[1020 rows x 4 columns]"
      ]
     },
     "execution_count": 253,
     "metadata": {},
     "output_type": "execute_result"
    }
   ],
   "source": [
    "#Drop totals from the dataset\n",
    "# Define the pattern to exclude\n",
    "pattern_to_exclude = re.compile(r'^2023M(0[4-9]|1[0-1])$')\n",
    "\n",
    "# Use the pattern to filter rows\n",
    "Finland_gr_fil = Finland_gr[~Finland_gr['Month'].str.match(pattern_to_exclude)]\n",
    "\n",
    "# Display the result\n",
    "Finland_gr_fil"
   ]
  },
  {
   "cell_type": "code",
   "execution_count": 254,
   "id": "c9b45830",
   "metadata": {},
   "outputs": [
    {
     "name": "stdout",
     "output_type": "stream",
     "text": [
      "<class 'pandas.core.frame.DataFrame'>\n",
      "Index: 1020 entries, 0 to 1019\n",
      "Data columns (total 4 columns):\n",
      " #   Column               Non-Null Count  Dtype \n",
      "---  ------               --------------  ----- \n",
      " 0   Month                1020 non-null   object\n",
      " 1   Airports in Finland  1020 non-null   object\n",
      " 2   Passengers Finland   1020 non-null   int64 \n",
      " 3   Freight Finland      1020 non-null   int64 \n",
      "dtypes: int64(2), object(2)\n",
      "memory usage: 39.8+ KB\n"
     ]
    }
   ],
   "source": [
    "Finland_gr_fil.info()"
   ]
  },
  {
   "cell_type": "code",
   "execution_count": 255,
   "id": "e61546ac",
   "metadata": {},
   "outputs": [
    {
     "name": "stdout",
     "output_type": "stream",
     "text": [
      "['Enontekiö' 'Helsinki-Vantaa' 'Ivalo' 'Joensuu' 'Jyväskylä' 'Kajaani'\n",
      " 'Kemi-Tornio' 'Kittilä' 'Kokkola-Pietarsaari' 'Kuopio' 'Kuusamo'\n",
      " 'Lappeenranta' 'Mariehamn' 'Oulu' 'Pori' 'Rovaniemi' 'Savonlinna'\n",
      " 'Tampere-Pirkkala' 'Turku' 'Vaasa']\n"
     ]
    }
   ],
   "source": [
    "unique_airports = Finland_gr_fil['Airports in Finland'].unique()\n",
    "print(unique_airports)"
   ]
  },
  {
   "cell_type": "code",
   "execution_count": 256,
   "id": "1b7cc825",
   "metadata": {},
   "outputs": [],
   "source": [
    "import plotly.graph_objects as go\n",
    "import plotly.express as px\n",
    " "
   ]
  },
  {
   "cell_type": "code",
   "execution_count": 257,
   "id": "cc857545",
   "metadata": {},
   "outputs": [
    {
     "data": {
      "text/html": [
       "<div>\n",
       "<style scoped>\n",
       "    .dataframe tbody tr th:only-of-type {\n",
       "        vertical-align: middle;\n",
       "    }\n",
       "\n",
       "    .dataframe tbody tr th {\n",
       "        vertical-align: top;\n",
       "    }\n",
       "\n",
       "    .dataframe thead th {\n",
       "        text-align: right;\n",
       "    }\n",
       "</style>\n",
       "<table border=\"1\" class=\"dataframe\">\n",
       "  <thead>\n",
       "    <tr style=\"text-align: right;\">\n",
       "      <th></th>\n",
       "      <th>Month</th>\n",
       "      <th>Airports in Finland</th>\n",
       "      <th>Passengers Finland</th>\n",
       "      <th>Freight Finland</th>\n",
       "    </tr>\n",
       "  </thead>\n",
       "  <tbody>\n",
       "    <tr>\n",
       "      <th>1015</th>\n",
       "      <td>2023M03</td>\n",
       "      <td>Rovaniemi</td>\n",
       "      <td>326800</td>\n",
       "      <td>24</td>\n",
       "    </tr>\n",
       "    <tr>\n",
       "      <th>1016</th>\n",
       "      <td>2023M03</td>\n",
       "      <td>Savonlinna</td>\n",
       "      <td>624</td>\n",
       "      <td>0</td>\n",
       "    </tr>\n",
       "    <tr>\n",
       "      <th>1017</th>\n",
       "      <td>2023M03</td>\n",
       "      <td>Tampere-Pirkkala</td>\n",
       "      <td>60796</td>\n",
       "      <td>56</td>\n",
       "    </tr>\n",
       "    <tr>\n",
       "      <th>1018</th>\n",
       "      <td>2023M03</td>\n",
       "      <td>Turku</td>\n",
       "      <td>76452</td>\n",
       "      <td>1576</td>\n",
       "    </tr>\n",
       "    <tr>\n",
       "      <th>1019</th>\n",
       "      <td>2023M03</td>\n",
       "      <td>Vaasa</td>\n",
       "      <td>47532</td>\n",
       "      <td>0</td>\n",
       "    </tr>\n",
       "  </tbody>\n",
       "</table>\n",
       "</div>"
      ],
      "text/plain": [
       "        Month Airports in Finland  Passengers Finland  Freight Finland\n",
       "1015  2023M03           Rovaniemi              326800               24\n",
       "1016  2023M03          Savonlinna                 624                0\n",
       "1017  2023M03    Tampere-Pirkkala               60796               56\n",
       "1018  2023M03               Turku               76452             1576\n",
       "1019  2023M03               Vaasa               47532                0"
      ]
     },
     "execution_count": 257,
     "metadata": {},
     "output_type": "execute_result"
    }
   ],
   "source": [
    "Finland_gr_fil. tail()"
   ]
  },
  {
   "cell_type": "code",
   "execution_count": 259,
   "id": "358ee38f",
   "metadata": {},
   "outputs": [
    {
     "name": "stdout",
     "output_type": "stream",
     "text": [
      "           Airport Name  Latitude  Longitude\n",
      "0       Helsinki-Vantaa   60.3172    24.9633\n",
      "1                 Ivalo   68.6075    27.4058\n",
      "2               Joensuu   62.6604    29.6195\n",
      "3             Jyväskylä   62.3997    25.6777\n",
      "4               Kajaani   64.2859    27.7226\n",
      "5           Kemi-Tornio   65.7805    24.5657\n",
      "6               Kittilä   67.7006    24.8441\n",
      "7   Kokkola-Pietarsaari   63.7218    23.1556\n",
      "8                Kuopio   63.0071    27.7536\n",
      "9               Kuusamo   65.9876    29.2390\n",
      "10         Lappeenranta   61.0447    28.1447\n",
      "11            Mariehamn   60.1226    19.9440\n",
      "12                 Oulu   64.9304    25.4395\n",
      "13                 Pori   61.4616    21.7910\n",
      "14            Rovaniemi   66.4970    25.7241\n",
      "15           Savonlinna   61.9421    28.9163\n",
      "16     Tampere-Pirkkala   61.4180    23.6178\n",
      "17                Turku   60.5149    22.2617\n",
      "18                Vaasa   63.0960    21.6158\n"
     ]
    }
   ],
   "source": [
    "# Given lists of airport names, latitude, and longitude\n",
    "airport_names = ['Helsinki-Vantaa', 'Ivalo', 'Joensuu', 'Jyväskylä', 'Kajaani', 'Kemi-Tornio', 'Kittilä', 'Kokkola-Pietarsaari', 'Kuopio', 'Kuusamo', 'Lappeenranta', 'Mariehamn', 'Oulu', 'Pori', 'Rovaniemi', 'Savonlinna', 'Tampere-Pirkkala', 'Turku', 'Vaasa']\n",
    "latitude_list = [60.3172, 68.6075, 62.6604, 62.3997, 64.2859, 65.7805, 67.7006, 63.7218, 63.0071, 65.9876, 61.0447, 60.1226, 64.9304, 61.4616, 66.4970, 61.9421, 61.4180, 60.5149, 63.0960]\n",
    "longitude_list = [24.9633, 27.4058, 29.6195, 25.6777, 27.7226, 24.5657, 24.8441, 23.1556, 27.7536, 29.2390, 28.1447, 19.9440, 25.4395, 21.7910, 25.7241, 28.9163, 23.6178, 22.2617, 21.6158]\n",
    "\n",
    "# Create a new DataFrame\n",
    "airport_df = pd.DataFrame({\n",
    "    'Airport Name': airport_names,\n",
    "    'Latitude': latitude_list,\n",
    "    'Longitude': longitude_list\n",
    "})\n",
    "\n",
    "# Print the new DataFrame\n",
    "print(airport_df)"
   ]
  },
  {
   "cell_type": "code",
   "execution_count": 260,
   "id": "72cf9842",
   "metadata": {},
   "outputs": [
    {
     "name": "stdout",
     "output_type": "stream",
     "text": [
      "        Month Airports in Finland  Passengers Finland  Freight Finland  \\\n",
      "0     2019M01           Enontekiö                7076                0   \n",
      "1     2019M01     Helsinki-Vantaa             6299800            63361   \n",
      "2     2019M01               Ivalo              136644                0   \n",
      "3     2019M01             Joensuu               35368                8   \n",
      "4     2019M01           Jyväskylä               17200                4   \n",
      "...       ...                 ...                 ...              ...   \n",
      "1015  2023M03           Rovaniemi              326800               24   \n",
      "1016  2023M03          Savonlinna                 624                0   \n",
      "1017  2023M03    Tampere-Pirkkala               60796               56   \n",
      "1018  2023M03               Turku               76452             1576   \n",
      "1019  2023M03               Vaasa               47532                0   \n",
      "\n",
      "      Airport Longitude  Airport Latitude  \n",
      "0                   NaN               NaN  \n",
      "1               24.9633           60.3172  \n",
      "2               27.4058           68.6075  \n",
      "3               29.6195           62.6604  \n",
      "4               25.6777           62.3997  \n",
      "...                 ...               ...  \n",
      "1015            25.7241           66.4970  \n",
      "1016            28.9163           61.9421  \n",
      "1017            23.6178           61.4180  \n",
      "1018            22.2617           60.5149  \n",
      "1019            21.6158           63.0960  \n",
      "\n",
      "[1020 rows x 6 columns]\n"
     ]
    }
   ],
   "source": [
    "# Merge on 'Airport Name' and 'Airports in Finland'\n",
    "merged_df = pd.merge(Finland_gr_fil, airport_df[['Airport Name', 'Longitude', 'Latitude']], left_on='Airports in Finland', right_on='Airport Name', how='left')\n",
    "\n",
    "# Drop the duplicate 'Airport Name' column\n",
    "merged_df = merged_df.drop(columns='Airport Name')\n",
    "\n",
    "# Rename the columns for clarity\n",
    "merged_df = merged_df.rename(columns={'Longitude': 'Airport Longitude', 'Latitude': 'Airport Latitude'})\n",
    "\n",
    "# Print the merged DataFrame\n",
    "print(merged_df)"
   ]
  },
  {
   "cell_type": "code",
   "execution_count": 268,
   "id": "d7259d7a",
   "metadata": {},
   "outputs": [
    {
     "data": {
      "application/vnd.plotly.v1+json": {
       "config": {
        "plotlyServerURL": "https://plot.ly"
       },
       "data": [
        {
         "geo": "geo",
         "hovertemplate": "Passenger Count=%{marker.size}<br>Airports in Finland=%{text}<br>Airport Latitude=%{lat}<br>Airport Longitude=%{lon}<extra></extra>",
         "lat": [
          null,
          60.3172,
          68.6075,
          62.6604,
          62.3997,
          64.2859,
          65.7805,
          67.7006,
          63.7218,
          63.0071,
          65.9876,
          61.0447,
          60.1226,
          64.9304,
          61.4616,
          66.497,
          61.9421,
          61.418,
          60.5149,
          63.096,
          null,
          60.3172,
          68.6075,
          62.6604,
          62.3997,
          64.2859,
          65.7805,
          67.7006,
          63.7218,
          63.0071,
          65.9876,
          61.0447,
          60.1226,
          64.9304,
          61.4616,
          66.497,
          61.9421,
          61.418,
          60.5149,
          63.096,
          null,
          60.3172,
          68.6075,
          62.6604,
          62.3997,
          64.2859,
          65.7805,
          67.7006,
          63.7218,
          63.0071,
          65.9876,
          61.0447,
          60.1226,
          64.9304,
          61.4616,
          66.497,
          61.9421,
          61.418,
          60.5149,
          63.096,
          null,
          60.3172,
          68.6075,
          62.6604,
          62.3997,
          64.2859,
          65.7805,
          67.7006,
          63.7218,
          63.0071,
          65.9876,
          61.0447,
          60.1226,
          64.9304,
          61.4616,
          66.497,
          61.9421,
          61.418,
          60.5149,
          63.096,
          null,
          60.3172,
          68.6075,
          62.6604,
          62.3997,
          64.2859,
          65.7805,
          67.7006,
          63.7218,
          63.0071,
          65.9876,
          61.0447,
          60.1226,
          64.9304,
          61.4616,
          66.497,
          61.9421,
          61.418,
          60.5149,
          63.096,
          null,
          60.3172,
          68.6075,
          62.6604,
          62.3997,
          64.2859,
          65.7805,
          67.7006,
          63.7218,
          63.0071,
          65.9876,
          61.0447,
          60.1226,
          64.9304,
          61.4616,
          66.497,
          61.9421,
          61.418,
          60.5149,
          63.096,
          null,
          60.3172,
          68.6075,
          62.6604,
          62.3997,
          64.2859,
          65.7805,
          67.7006,
          63.7218,
          63.0071,
          65.9876,
          61.0447,
          60.1226,
          64.9304,
          61.4616,
          66.497,
          61.9421,
          61.418,
          60.5149,
          63.096,
          null,
          60.3172,
          68.6075,
          62.6604,
          62.3997,
          64.2859,
          65.7805,
          67.7006,
          63.7218,
          63.0071,
          65.9876,
          61.0447,
          60.1226,
          64.9304,
          61.4616,
          66.497,
          61.9421,
          61.418,
          60.5149,
          63.096,
          null,
          60.3172,
          68.6075,
          62.6604,
          62.3997,
          64.2859,
          65.7805,
          67.7006,
          63.7218,
          63.0071,
          65.9876,
          61.0447,
          60.1226,
          64.9304,
          61.4616,
          66.497,
          61.9421,
          61.418,
          60.5149,
          63.096,
          null,
          60.3172,
          68.6075,
          62.6604,
          62.3997,
          64.2859,
          65.7805,
          67.7006,
          63.7218,
          63.0071,
          65.9876,
          61.0447,
          60.1226,
          64.9304,
          61.4616,
          66.497,
          61.9421,
          61.418,
          60.5149,
          63.096,
          null,
          60.3172,
          68.6075,
          62.6604,
          62.3997,
          64.2859,
          65.7805,
          67.7006,
          63.7218,
          63.0071,
          65.9876,
          61.0447,
          60.1226,
          64.9304,
          61.4616,
          66.497,
          61.9421,
          61.418,
          60.5149,
          63.096,
          null,
          60.3172,
          68.6075,
          62.6604,
          62.3997,
          64.2859,
          65.7805,
          67.7006,
          63.7218,
          63.0071,
          65.9876,
          61.0447,
          60.1226,
          64.9304,
          61.4616,
          66.497,
          61.9421,
          61.418,
          60.5149,
          63.096,
          null,
          60.3172,
          68.6075,
          62.6604,
          62.3997,
          64.2859,
          65.7805,
          67.7006,
          63.7218,
          63.0071,
          65.9876,
          61.0447,
          60.1226,
          64.9304,
          61.4616,
          66.497,
          61.9421,
          61.418,
          60.5149,
          63.096,
          null,
          60.3172,
          68.6075,
          62.6604,
          62.3997,
          64.2859,
          65.7805,
          67.7006,
          63.7218,
          63.0071,
          65.9876,
          61.0447,
          60.1226,
          64.9304,
          61.4616,
          66.497,
          61.9421,
          61.418,
          60.5149,
          63.096,
          null,
          60.3172,
          68.6075,
          62.6604,
          62.3997,
          64.2859,
          65.7805,
          67.7006,
          63.7218,
          63.0071,
          65.9876,
          61.0447,
          60.1226,
          64.9304,
          61.4616,
          66.497,
          61.9421,
          61.418,
          60.5149,
          63.096,
          null,
          60.3172,
          68.6075,
          62.6604,
          62.3997,
          64.2859,
          65.7805,
          67.7006,
          63.7218,
          63.0071,
          65.9876,
          61.0447,
          60.1226,
          64.9304,
          61.4616,
          66.497,
          61.9421,
          61.418,
          60.5149,
          63.096,
          null,
          60.3172,
          68.6075,
          62.6604,
          62.3997,
          64.2859,
          65.7805,
          67.7006,
          63.7218,
          63.0071,
          65.9876,
          61.0447,
          60.1226,
          64.9304,
          61.4616,
          66.497,
          61.9421,
          61.418,
          60.5149,
          63.096,
          null,
          60.3172,
          68.6075,
          62.6604,
          62.3997,
          64.2859,
          65.7805,
          67.7006,
          63.7218,
          63.0071,
          65.9876,
          61.0447,
          60.1226,
          64.9304,
          61.4616,
          66.497,
          61.9421,
          61.418,
          60.5149,
          63.096,
          null,
          60.3172,
          68.6075,
          62.6604,
          62.3997,
          64.2859,
          65.7805,
          67.7006,
          63.7218,
          63.0071,
          65.9876,
          61.0447,
          60.1226,
          64.9304,
          61.4616,
          66.497,
          61.9421,
          61.418,
          60.5149,
          63.096,
          null,
          60.3172,
          68.6075,
          62.6604,
          62.3997,
          64.2859,
          65.7805,
          67.7006,
          63.7218,
          63.0071,
          65.9876,
          61.0447,
          60.1226,
          64.9304,
          61.4616,
          66.497,
          61.9421,
          61.418,
          60.5149,
          63.096,
          null,
          60.3172,
          68.6075,
          62.6604,
          62.3997,
          64.2859,
          65.7805,
          67.7006,
          63.7218,
          63.0071,
          65.9876,
          61.0447,
          60.1226,
          64.9304,
          61.4616,
          66.497,
          61.9421,
          61.418,
          60.5149,
          63.096,
          null,
          60.3172,
          68.6075,
          62.6604,
          62.3997,
          64.2859,
          65.7805,
          67.7006,
          63.7218,
          63.0071,
          65.9876,
          61.0447,
          60.1226,
          64.9304,
          61.4616,
          66.497,
          61.9421,
          61.418,
          60.5149,
          63.096,
          null,
          60.3172,
          68.6075,
          62.6604,
          62.3997,
          64.2859,
          65.7805,
          67.7006,
          63.7218,
          63.0071,
          65.9876,
          61.0447,
          60.1226,
          64.9304,
          61.4616,
          66.497,
          61.9421,
          61.418,
          60.5149,
          63.096,
          null,
          60.3172,
          68.6075,
          62.6604,
          62.3997,
          64.2859,
          65.7805,
          67.7006,
          63.7218,
          63.0071,
          65.9876,
          61.0447,
          60.1226,
          64.9304,
          61.4616,
          66.497,
          61.9421,
          61.418,
          60.5149,
          63.096,
          null,
          60.3172,
          68.6075,
          62.6604,
          62.3997,
          64.2859,
          65.7805,
          67.7006,
          63.7218,
          63.0071,
          65.9876,
          61.0447,
          60.1226,
          64.9304,
          61.4616,
          66.497,
          61.9421,
          61.418,
          60.5149,
          63.096,
          null,
          60.3172,
          68.6075,
          62.6604,
          62.3997,
          64.2859,
          65.7805,
          67.7006,
          63.7218,
          63.0071,
          65.9876,
          61.0447,
          60.1226,
          64.9304,
          61.4616,
          66.497,
          61.9421,
          61.418,
          60.5149,
          63.096,
          null,
          60.3172,
          68.6075,
          62.6604,
          62.3997,
          64.2859,
          65.7805,
          67.7006,
          63.7218,
          63.0071,
          65.9876,
          61.0447,
          60.1226,
          64.9304,
          61.4616,
          66.497,
          61.9421,
          61.418,
          60.5149,
          63.096,
          null,
          60.3172,
          68.6075,
          62.6604,
          62.3997,
          64.2859,
          65.7805,
          67.7006,
          63.7218,
          63.0071,
          65.9876,
          61.0447,
          60.1226,
          64.9304,
          61.4616,
          66.497,
          61.9421,
          61.418,
          60.5149,
          63.096,
          null,
          60.3172,
          68.6075,
          62.6604,
          62.3997,
          64.2859,
          65.7805,
          67.7006,
          63.7218,
          63.0071,
          65.9876,
          61.0447,
          60.1226,
          64.9304,
          61.4616,
          66.497,
          61.9421,
          61.418,
          60.5149,
          63.096,
          null,
          60.3172,
          68.6075,
          62.6604,
          62.3997,
          64.2859,
          65.7805,
          67.7006,
          63.7218,
          63.0071,
          65.9876,
          61.0447,
          60.1226,
          64.9304,
          61.4616,
          66.497,
          61.9421,
          61.418,
          60.5149,
          63.096,
          null,
          60.3172,
          68.6075,
          62.6604,
          62.3997,
          64.2859,
          65.7805,
          67.7006,
          63.7218,
          63.0071,
          65.9876,
          61.0447,
          60.1226,
          64.9304,
          61.4616,
          66.497,
          61.9421,
          61.418,
          60.5149,
          63.096,
          null,
          60.3172,
          68.6075,
          62.6604,
          62.3997,
          64.2859,
          65.7805,
          67.7006,
          63.7218,
          63.0071,
          65.9876,
          61.0447,
          60.1226,
          64.9304,
          61.4616,
          66.497,
          61.9421,
          61.418,
          60.5149,
          63.096,
          null,
          60.3172,
          68.6075,
          62.6604,
          62.3997,
          64.2859,
          65.7805,
          67.7006,
          63.7218,
          63.0071,
          65.9876,
          61.0447,
          60.1226,
          64.9304,
          61.4616,
          66.497,
          61.9421,
          61.418,
          60.5149,
          63.096,
          null,
          60.3172,
          68.6075,
          62.6604,
          62.3997,
          64.2859,
          65.7805,
          67.7006,
          63.7218,
          63.0071,
          65.9876,
          61.0447,
          60.1226,
          64.9304,
          61.4616,
          66.497,
          61.9421,
          61.418,
          60.5149,
          63.096,
          null,
          60.3172,
          68.6075,
          62.6604,
          62.3997,
          64.2859,
          65.7805,
          67.7006,
          63.7218,
          63.0071,
          65.9876,
          61.0447,
          60.1226,
          64.9304,
          61.4616,
          66.497,
          61.9421,
          61.418,
          60.5149,
          63.096,
          null,
          60.3172,
          68.6075,
          62.6604,
          62.3997,
          64.2859,
          65.7805,
          67.7006,
          63.7218,
          63.0071,
          65.9876,
          61.0447,
          60.1226,
          64.9304,
          61.4616,
          66.497,
          61.9421,
          61.418,
          60.5149,
          63.096,
          null,
          60.3172,
          68.6075,
          62.6604,
          62.3997,
          64.2859,
          65.7805,
          67.7006,
          63.7218,
          63.0071,
          65.9876,
          61.0447,
          60.1226,
          64.9304,
          61.4616,
          66.497,
          61.9421,
          61.418,
          60.5149,
          63.096,
          null,
          60.3172,
          68.6075,
          62.6604,
          62.3997,
          64.2859,
          65.7805,
          67.7006,
          63.7218,
          63.0071,
          65.9876,
          61.0447,
          60.1226,
          64.9304,
          61.4616,
          66.497,
          61.9421,
          61.418,
          60.5149,
          63.096,
          null,
          60.3172,
          68.6075,
          62.6604,
          62.3997,
          64.2859,
          65.7805,
          67.7006,
          63.7218,
          63.0071,
          65.9876,
          61.0447,
          60.1226,
          64.9304,
          61.4616,
          66.497,
          61.9421,
          61.418,
          60.5149,
          63.096,
          null,
          60.3172,
          68.6075,
          62.6604,
          62.3997,
          64.2859,
          65.7805,
          67.7006,
          63.7218,
          63.0071,
          65.9876,
          61.0447,
          60.1226,
          64.9304,
          61.4616,
          66.497,
          61.9421,
          61.418,
          60.5149,
          63.096,
          null,
          60.3172,
          68.6075,
          62.6604,
          62.3997,
          64.2859,
          65.7805,
          67.7006,
          63.7218,
          63.0071,
          65.9876,
          61.0447,
          60.1226,
          64.9304,
          61.4616,
          66.497,
          61.9421,
          61.418,
          60.5149,
          63.096,
          null,
          60.3172,
          68.6075,
          62.6604,
          62.3997,
          64.2859,
          65.7805,
          67.7006,
          63.7218,
          63.0071,
          65.9876,
          61.0447,
          60.1226,
          64.9304,
          61.4616,
          66.497,
          61.9421,
          61.418,
          60.5149,
          63.096,
          null,
          60.3172,
          68.6075,
          62.6604,
          62.3997,
          64.2859,
          65.7805,
          67.7006,
          63.7218,
          63.0071,
          65.9876,
          61.0447,
          60.1226,
          64.9304,
          61.4616,
          66.497,
          61.9421,
          61.418,
          60.5149,
          63.096,
          null,
          60.3172,
          68.6075,
          62.6604,
          62.3997,
          64.2859,
          65.7805,
          67.7006,
          63.7218,
          63.0071,
          65.9876,
          61.0447,
          60.1226,
          64.9304,
          61.4616,
          66.497,
          61.9421,
          61.418,
          60.5149,
          63.096,
          null,
          60.3172,
          68.6075,
          62.6604,
          62.3997,
          64.2859,
          65.7805,
          67.7006,
          63.7218,
          63.0071,
          65.9876,
          61.0447,
          60.1226,
          64.9304,
          61.4616,
          66.497,
          61.9421,
          61.418,
          60.5149,
          63.096,
          null,
          60.3172,
          68.6075,
          62.6604,
          62.3997,
          64.2859,
          65.7805,
          67.7006,
          63.7218,
          63.0071,
          65.9876,
          61.0447,
          60.1226,
          64.9304,
          61.4616,
          66.497,
          61.9421,
          61.418,
          60.5149,
          63.096,
          null,
          60.3172,
          68.6075,
          62.6604,
          62.3997,
          64.2859,
          65.7805,
          67.7006,
          63.7218,
          63.0071,
          65.9876,
          61.0447,
          60.1226,
          64.9304,
          61.4616,
          66.497,
          61.9421,
          61.418,
          60.5149,
          63.096,
          null,
          60.3172,
          68.6075,
          62.6604,
          62.3997,
          64.2859,
          65.7805,
          67.7006,
          63.7218,
          63.0071,
          65.9876,
          61.0447,
          60.1226,
          64.9304,
          61.4616,
          66.497,
          61.9421,
          61.418,
          60.5149,
          63.096,
          null,
          60.3172,
          68.6075,
          62.6604,
          62.3997,
          64.2859,
          65.7805,
          67.7006,
          63.7218,
          63.0071,
          65.9876,
          61.0447,
          60.1226,
          64.9304,
          61.4616,
          66.497,
          61.9421,
          61.418,
          60.5149,
          63.096,
          null,
          60.3172,
          68.6075,
          62.6604,
          62.3997,
          64.2859,
          65.7805,
          67.7006,
          63.7218,
          63.0071,
          65.9876,
          61.0447,
          60.1226,
          64.9304,
          61.4616,
          66.497,
          61.9421,
          61.418,
          60.5149,
          63.096,
          null,
          60.3172,
          68.6075,
          62.6604,
          62.3997,
          64.2859,
          65.7805,
          67.7006,
          63.7218,
          63.0071,
          65.9876,
          61.0447,
          60.1226,
          64.9304,
          61.4616,
          66.497,
          61.9421,
          61.418,
          60.5149,
          63.096
         ],
         "legendgroup": "",
         "lon": [
          null,
          24.9633,
          27.4058,
          29.6195,
          25.6777,
          27.7226,
          24.5657,
          24.8441,
          23.1556,
          27.7536,
          29.239,
          28.1447,
          19.944,
          25.4395,
          21.791,
          25.7241,
          28.9163,
          23.6178,
          22.2617,
          21.6158,
          null,
          24.9633,
          27.4058,
          29.6195,
          25.6777,
          27.7226,
          24.5657,
          24.8441,
          23.1556,
          27.7536,
          29.239,
          28.1447,
          19.944,
          25.4395,
          21.791,
          25.7241,
          28.9163,
          23.6178,
          22.2617,
          21.6158,
          null,
          24.9633,
          27.4058,
          29.6195,
          25.6777,
          27.7226,
          24.5657,
          24.8441,
          23.1556,
          27.7536,
          29.239,
          28.1447,
          19.944,
          25.4395,
          21.791,
          25.7241,
          28.9163,
          23.6178,
          22.2617,
          21.6158,
          null,
          24.9633,
          27.4058,
          29.6195,
          25.6777,
          27.7226,
          24.5657,
          24.8441,
          23.1556,
          27.7536,
          29.239,
          28.1447,
          19.944,
          25.4395,
          21.791,
          25.7241,
          28.9163,
          23.6178,
          22.2617,
          21.6158,
          null,
          24.9633,
          27.4058,
          29.6195,
          25.6777,
          27.7226,
          24.5657,
          24.8441,
          23.1556,
          27.7536,
          29.239,
          28.1447,
          19.944,
          25.4395,
          21.791,
          25.7241,
          28.9163,
          23.6178,
          22.2617,
          21.6158,
          null,
          24.9633,
          27.4058,
          29.6195,
          25.6777,
          27.7226,
          24.5657,
          24.8441,
          23.1556,
          27.7536,
          29.239,
          28.1447,
          19.944,
          25.4395,
          21.791,
          25.7241,
          28.9163,
          23.6178,
          22.2617,
          21.6158,
          null,
          24.9633,
          27.4058,
          29.6195,
          25.6777,
          27.7226,
          24.5657,
          24.8441,
          23.1556,
          27.7536,
          29.239,
          28.1447,
          19.944,
          25.4395,
          21.791,
          25.7241,
          28.9163,
          23.6178,
          22.2617,
          21.6158,
          null,
          24.9633,
          27.4058,
          29.6195,
          25.6777,
          27.7226,
          24.5657,
          24.8441,
          23.1556,
          27.7536,
          29.239,
          28.1447,
          19.944,
          25.4395,
          21.791,
          25.7241,
          28.9163,
          23.6178,
          22.2617,
          21.6158,
          null,
          24.9633,
          27.4058,
          29.6195,
          25.6777,
          27.7226,
          24.5657,
          24.8441,
          23.1556,
          27.7536,
          29.239,
          28.1447,
          19.944,
          25.4395,
          21.791,
          25.7241,
          28.9163,
          23.6178,
          22.2617,
          21.6158,
          null,
          24.9633,
          27.4058,
          29.6195,
          25.6777,
          27.7226,
          24.5657,
          24.8441,
          23.1556,
          27.7536,
          29.239,
          28.1447,
          19.944,
          25.4395,
          21.791,
          25.7241,
          28.9163,
          23.6178,
          22.2617,
          21.6158,
          null,
          24.9633,
          27.4058,
          29.6195,
          25.6777,
          27.7226,
          24.5657,
          24.8441,
          23.1556,
          27.7536,
          29.239,
          28.1447,
          19.944,
          25.4395,
          21.791,
          25.7241,
          28.9163,
          23.6178,
          22.2617,
          21.6158,
          null,
          24.9633,
          27.4058,
          29.6195,
          25.6777,
          27.7226,
          24.5657,
          24.8441,
          23.1556,
          27.7536,
          29.239,
          28.1447,
          19.944,
          25.4395,
          21.791,
          25.7241,
          28.9163,
          23.6178,
          22.2617,
          21.6158,
          null,
          24.9633,
          27.4058,
          29.6195,
          25.6777,
          27.7226,
          24.5657,
          24.8441,
          23.1556,
          27.7536,
          29.239,
          28.1447,
          19.944,
          25.4395,
          21.791,
          25.7241,
          28.9163,
          23.6178,
          22.2617,
          21.6158,
          null,
          24.9633,
          27.4058,
          29.6195,
          25.6777,
          27.7226,
          24.5657,
          24.8441,
          23.1556,
          27.7536,
          29.239,
          28.1447,
          19.944,
          25.4395,
          21.791,
          25.7241,
          28.9163,
          23.6178,
          22.2617,
          21.6158,
          null,
          24.9633,
          27.4058,
          29.6195,
          25.6777,
          27.7226,
          24.5657,
          24.8441,
          23.1556,
          27.7536,
          29.239,
          28.1447,
          19.944,
          25.4395,
          21.791,
          25.7241,
          28.9163,
          23.6178,
          22.2617,
          21.6158,
          null,
          24.9633,
          27.4058,
          29.6195,
          25.6777,
          27.7226,
          24.5657,
          24.8441,
          23.1556,
          27.7536,
          29.239,
          28.1447,
          19.944,
          25.4395,
          21.791,
          25.7241,
          28.9163,
          23.6178,
          22.2617,
          21.6158,
          null,
          24.9633,
          27.4058,
          29.6195,
          25.6777,
          27.7226,
          24.5657,
          24.8441,
          23.1556,
          27.7536,
          29.239,
          28.1447,
          19.944,
          25.4395,
          21.791,
          25.7241,
          28.9163,
          23.6178,
          22.2617,
          21.6158,
          null,
          24.9633,
          27.4058,
          29.6195,
          25.6777,
          27.7226,
          24.5657,
          24.8441,
          23.1556,
          27.7536,
          29.239,
          28.1447,
          19.944,
          25.4395,
          21.791,
          25.7241,
          28.9163,
          23.6178,
          22.2617,
          21.6158,
          null,
          24.9633,
          27.4058,
          29.6195,
          25.6777,
          27.7226,
          24.5657,
          24.8441,
          23.1556,
          27.7536,
          29.239,
          28.1447,
          19.944,
          25.4395,
          21.791,
          25.7241,
          28.9163,
          23.6178,
          22.2617,
          21.6158,
          null,
          24.9633,
          27.4058,
          29.6195,
          25.6777,
          27.7226,
          24.5657,
          24.8441,
          23.1556,
          27.7536,
          29.239,
          28.1447,
          19.944,
          25.4395,
          21.791,
          25.7241,
          28.9163,
          23.6178,
          22.2617,
          21.6158,
          null,
          24.9633,
          27.4058,
          29.6195,
          25.6777,
          27.7226,
          24.5657,
          24.8441,
          23.1556,
          27.7536,
          29.239,
          28.1447,
          19.944,
          25.4395,
          21.791,
          25.7241,
          28.9163,
          23.6178,
          22.2617,
          21.6158,
          null,
          24.9633,
          27.4058,
          29.6195,
          25.6777,
          27.7226,
          24.5657,
          24.8441,
          23.1556,
          27.7536,
          29.239,
          28.1447,
          19.944,
          25.4395,
          21.791,
          25.7241,
          28.9163,
          23.6178,
          22.2617,
          21.6158,
          null,
          24.9633,
          27.4058,
          29.6195,
          25.6777,
          27.7226,
          24.5657,
          24.8441,
          23.1556,
          27.7536,
          29.239,
          28.1447,
          19.944,
          25.4395,
          21.791,
          25.7241,
          28.9163,
          23.6178,
          22.2617,
          21.6158,
          null,
          24.9633,
          27.4058,
          29.6195,
          25.6777,
          27.7226,
          24.5657,
          24.8441,
          23.1556,
          27.7536,
          29.239,
          28.1447,
          19.944,
          25.4395,
          21.791,
          25.7241,
          28.9163,
          23.6178,
          22.2617,
          21.6158,
          null,
          24.9633,
          27.4058,
          29.6195,
          25.6777,
          27.7226,
          24.5657,
          24.8441,
          23.1556,
          27.7536,
          29.239,
          28.1447,
          19.944,
          25.4395,
          21.791,
          25.7241,
          28.9163,
          23.6178,
          22.2617,
          21.6158,
          null,
          24.9633,
          27.4058,
          29.6195,
          25.6777,
          27.7226,
          24.5657,
          24.8441,
          23.1556,
          27.7536,
          29.239,
          28.1447,
          19.944,
          25.4395,
          21.791,
          25.7241,
          28.9163,
          23.6178,
          22.2617,
          21.6158,
          null,
          24.9633,
          27.4058,
          29.6195,
          25.6777,
          27.7226,
          24.5657,
          24.8441,
          23.1556,
          27.7536,
          29.239,
          28.1447,
          19.944,
          25.4395,
          21.791,
          25.7241,
          28.9163,
          23.6178,
          22.2617,
          21.6158,
          null,
          24.9633,
          27.4058,
          29.6195,
          25.6777,
          27.7226,
          24.5657,
          24.8441,
          23.1556,
          27.7536,
          29.239,
          28.1447,
          19.944,
          25.4395,
          21.791,
          25.7241,
          28.9163,
          23.6178,
          22.2617,
          21.6158,
          null,
          24.9633,
          27.4058,
          29.6195,
          25.6777,
          27.7226,
          24.5657,
          24.8441,
          23.1556,
          27.7536,
          29.239,
          28.1447,
          19.944,
          25.4395,
          21.791,
          25.7241,
          28.9163,
          23.6178,
          22.2617,
          21.6158,
          null,
          24.9633,
          27.4058,
          29.6195,
          25.6777,
          27.7226,
          24.5657,
          24.8441,
          23.1556,
          27.7536,
          29.239,
          28.1447,
          19.944,
          25.4395,
          21.791,
          25.7241,
          28.9163,
          23.6178,
          22.2617,
          21.6158,
          null,
          24.9633,
          27.4058,
          29.6195,
          25.6777,
          27.7226,
          24.5657,
          24.8441,
          23.1556,
          27.7536,
          29.239,
          28.1447,
          19.944,
          25.4395,
          21.791,
          25.7241,
          28.9163,
          23.6178,
          22.2617,
          21.6158,
          null,
          24.9633,
          27.4058,
          29.6195,
          25.6777,
          27.7226,
          24.5657,
          24.8441,
          23.1556,
          27.7536,
          29.239,
          28.1447,
          19.944,
          25.4395,
          21.791,
          25.7241,
          28.9163,
          23.6178,
          22.2617,
          21.6158,
          null,
          24.9633,
          27.4058,
          29.6195,
          25.6777,
          27.7226,
          24.5657,
          24.8441,
          23.1556,
          27.7536,
          29.239,
          28.1447,
          19.944,
          25.4395,
          21.791,
          25.7241,
          28.9163,
          23.6178,
          22.2617,
          21.6158,
          null,
          24.9633,
          27.4058,
          29.6195,
          25.6777,
          27.7226,
          24.5657,
          24.8441,
          23.1556,
          27.7536,
          29.239,
          28.1447,
          19.944,
          25.4395,
          21.791,
          25.7241,
          28.9163,
          23.6178,
          22.2617,
          21.6158,
          null,
          24.9633,
          27.4058,
          29.6195,
          25.6777,
          27.7226,
          24.5657,
          24.8441,
          23.1556,
          27.7536,
          29.239,
          28.1447,
          19.944,
          25.4395,
          21.791,
          25.7241,
          28.9163,
          23.6178,
          22.2617,
          21.6158,
          null,
          24.9633,
          27.4058,
          29.6195,
          25.6777,
          27.7226,
          24.5657,
          24.8441,
          23.1556,
          27.7536,
          29.239,
          28.1447,
          19.944,
          25.4395,
          21.791,
          25.7241,
          28.9163,
          23.6178,
          22.2617,
          21.6158,
          null,
          24.9633,
          27.4058,
          29.6195,
          25.6777,
          27.7226,
          24.5657,
          24.8441,
          23.1556,
          27.7536,
          29.239,
          28.1447,
          19.944,
          25.4395,
          21.791,
          25.7241,
          28.9163,
          23.6178,
          22.2617,
          21.6158,
          null,
          24.9633,
          27.4058,
          29.6195,
          25.6777,
          27.7226,
          24.5657,
          24.8441,
          23.1556,
          27.7536,
          29.239,
          28.1447,
          19.944,
          25.4395,
          21.791,
          25.7241,
          28.9163,
          23.6178,
          22.2617,
          21.6158,
          null,
          24.9633,
          27.4058,
          29.6195,
          25.6777,
          27.7226,
          24.5657,
          24.8441,
          23.1556,
          27.7536,
          29.239,
          28.1447,
          19.944,
          25.4395,
          21.791,
          25.7241,
          28.9163,
          23.6178,
          22.2617,
          21.6158,
          null,
          24.9633,
          27.4058,
          29.6195,
          25.6777,
          27.7226,
          24.5657,
          24.8441,
          23.1556,
          27.7536,
          29.239,
          28.1447,
          19.944,
          25.4395,
          21.791,
          25.7241,
          28.9163,
          23.6178,
          22.2617,
          21.6158,
          null,
          24.9633,
          27.4058,
          29.6195,
          25.6777,
          27.7226,
          24.5657,
          24.8441,
          23.1556,
          27.7536,
          29.239,
          28.1447,
          19.944,
          25.4395,
          21.791,
          25.7241,
          28.9163,
          23.6178,
          22.2617,
          21.6158,
          null,
          24.9633,
          27.4058,
          29.6195,
          25.6777,
          27.7226,
          24.5657,
          24.8441,
          23.1556,
          27.7536,
          29.239,
          28.1447,
          19.944,
          25.4395,
          21.791,
          25.7241,
          28.9163,
          23.6178,
          22.2617,
          21.6158,
          null,
          24.9633,
          27.4058,
          29.6195,
          25.6777,
          27.7226,
          24.5657,
          24.8441,
          23.1556,
          27.7536,
          29.239,
          28.1447,
          19.944,
          25.4395,
          21.791,
          25.7241,
          28.9163,
          23.6178,
          22.2617,
          21.6158,
          null,
          24.9633,
          27.4058,
          29.6195,
          25.6777,
          27.7226,
          24.5657,
          24.8441,
          23.1556,
          27.7536,
          29.239,
          28.1447,
          19.944,
          25.4395,
          21.791,
          25.7241,
          28.9163,
          23.6178,
          22.2617,
          21.6158,
          null,
          24.9633,
          27.4058,
          29.6195,
          25.6777,
          27.7226,
          24.5657,
          24.8441,
          23.1556,
          27.7536,
          29.239,
          28.1447,
          19.944,
          25.4395,
          21.791,
          25.7241,
          28.9163,
          23.6178,
          22.2617,
          21.6158,
          null,
          24.9633,
          27.4058,
          29.6195,
          25.6777,
          27.7226,
          24.5657,
          24.8441,
          23.1556,
          27.7536,
          29.239,
          28.1447,
          19.944,
          25.4395,
          21.791,
          25.7241,
          28.9163,
          23.6178,
          22.2617,
          21.6158,
          null,
          24.9633,
          27.4058,
          29.6195,
          25.6777,
          27.7226,
          24.5657,
          24.8441,
          23.1556,
          27.7536,
          29.239,
          28.1447,
          19.944,
          25.4395,
          21.791,
          25.7241,
          28.9163,
          23.6178,
          22.2617,
          21.6158,
          null,
          24.9633,
          27.4058,
          29.6195,
          25.6777,
          27.7226,
          24.5657,
          24.8441,
          23.1556,
          27.7536,
          29.239,
          28.1447,
          19.944,
          25.4395,
          21.791,
          25.7241,
          28.9163,
          23.6178,
          22.2617,
          21.6158,
          null,
          24.9633,
          27.4058,
          29.6195,
          25.6777,
          27.7226,
          24.5657,
          24.8441,
          23.1556,
          27.7536,
          29.239,
          28.1447,
          19.944,
          25.4395,
          21.791,
          25.7241,
          28.9163,
          23.6178,
          22.2617,
          21.6158,
          null,
          24.9633,
          27.4058,
          29.6195,
          25.6777,
          27.7226,
          24.5657,
          24.8441,
          23.1556,
          27.7536,
          29.239,
          28.1447,
          19.944,
          25.4395,
          21.791,
          25.7241,
          28.9163,
          23.6178,
          22.2617,
          21.6158,
          null,
          24.9633,
          27.4058,
          29.6195,
          25.6777,
          27.7226,
          24.5657,
          24.8441,
          23.1556,
          27.7536,
          29.239,
          28.1447,
          19.944,
          25.4395,
          21.791,
          25.7241,
          28.9163,
          23.6178,
          22.2617,
          21.6158
         ],
         "marker": {
          "color": "blue",
          "size": [
           7076,
           6299800,
           136644,
           35368,
           17200,
           33300,
           23624,
           235952,
           16444,
           74620,
           66500,
           40,
           16848,
           340996,
           56,
           307672,
           1888,
           68336,
           106112,
           88200,
           6092,
           6158928,
           150976,
           36144,
           20156,
           31180,
           26680,
           275160,
           15680,
           74620,
           80188,
           708,
           14216,
           341116,
           1504,
           300304,
           1300,
           72624,
           115756,
           84036,
           3920,
           7031408,
           157748,
           45148,
           22392,
           35412,
           26292,
           294992,
           17580,
           88456,
           73168,
           684,
           16316,
           376300,
           1444,
           291308,
           2496,
           85256,
           138044,
           106224,
           0,
           7231532,
           43584,
           50360,
           30788,
           28516,
           22668,
           119072,
           22316,
           91684,
           34452,
           35636,
           17232,
           349264,
           4804,
           135376,
           3116,
           79384,
           135464,
           108220,
           0,
           7782008,
           11984,
           52736,
           33932,
           31696,
           19928,
           9584,
           21188,
           105748,
           12024,
           32972,
           22796,
           434136,
           3200,
           131140,
           2972,
           86952,
           158348,
           124260,
           0,
           8265896,
           19312,
           41528,
           27032,
           26692,
           19060,
           11732,
           17724,
           80744,
           13896,
           34116,
           19844,
           363344,
           128,
           129448,
           3164,
           84404,
           158452,
           105472,
           32,
           8470452,
           23848,
           28524,
           12020,
           20484,
           17404,
           13740,
           18436,
           42428,
           15360,
           38328,
           11344,
           249944,
           368,
           125376,
           5772,
           56280,
           158228,
           83856,
           32,
           8149056,
           27532,
           34964,
           17892,
           23424,
           18464,
           15844,
           16216,
           62020,
           6896,
           37684,
           16228,
           327300,
           3724,
           131940,
           1660,
           65212,
           185012,
           92396,
           0,
           7733768,
           37244,
           52840,
           27588,
           33696,
           20388,
           21880,
           20660,
           107148,
           16628,
           35228,
           22780,
           390300,
           9396,
           144196,
           5540,
           91028,
           185672,
           118984,
           0,
           7651848,
           27008,
           57748,
           24208,
           31728,
           17388,
           14752,
           27836,
           100464,
           16332,
           39492,
           18520,
           412444,
           21752,
           160688,
           8052,
           84300,
           185580,
           123128,
           5552,
           6399640,
           60776,
           40644,
           18740,
           27472,
           20980,
           55088,
           17436,
           81880,
           21148,
           34120,
           18076,
           362032,
           7472,
           234020,
           3812,
           65736,
           151528,
           100060,
           89424,
           6819372,
           266324,
           33772,
           14924,
           27936,
           24060,
           396956,
           14672,
           69164,
           103772,
           35632,
           12824,
           312492,
           3848,
           567372,
           2184,
           52344,
           141424,
           88844,
           8428,
           6467108,
           141272,
           32152,
           17276,
           27668,
           21380,
           237184,
           14568,
           66332,
           76640,
           36360,
           14848,
           318052,
           5072,
           333804,
           2524,
           51980,
           120472,
           87508,
           7972,
           6026528,
           155848,
           34660,
           18520,
           26148,
           21988,
           294160,
           14736,
           72756,
           95928,
           31476,
           14096,
           311732,
           5820,
           307280,
           1092,
           56964,
           130424,
           85620,
           4664,
           3002136,
           80312,
           18436,
           6048,
           13452,
           9848,
           163676,
           6632,
           33652,
           45324,
           11916,
           10036,
           151728,
           3136,
           149600,
           1180,
           26584,
           63836,
           45084,
           0,
           85752,
           0,
           0,
           0,
           0,
           0,
           0,
           0,
           336,
           0,
           0,
           3292,
           4808,
           0,
           5052,
           12,
           64,
           1576,
           0,
           0,
           146748,
           0,
           0,
           0,
           0,
           0,
           0,
           0,
           1440,
           0,
           0,
           4200,
           15888,
           0,
           11380,
           0,
           240,
           1736,
           96,
           0,
           328632,
           0,
           0,
           0,
           0,
           0,
           0,
           88,
           4484,
           0,
           32,
           6036,
           32976,
           0,
           22368,
           0,
           448,
           8128,
           0,
           0,
           867592,
           0,
           0,
           0,
           0,
           0,
           28,
           64,
           10428,
           0,
           2688,
           8480,
           65272,
           1120,
           43400,
           0,
           1728,
           42924,
           6732,
           0,
           1092912,
           13432,
           0,
           36,
           0,
           12,
           6840,
           8,
           15692,
           2864,
           4452,
           10440,
           95488,
           1288,
           44236,
           0,
           944,
           37788,
           7284,
           0,
           648560,
           21708,
           0,
           64,
           0,
           0,
           21996,
           36,
           8120,
           13636,
           0,
           7924,
           84272,
           1460,
           44964,
           0,
           1792,
           14372,
           3344,
           0,
           591384,
           14812,
           64,
           28,
           0,
           0,
           19716,
           40,
           7376,
           12716,
           8,
           7276,
           71696,
           1320,
           39452,
           0,
           392,
           17368,
           1908,
           0,
           490972,
           14016,
           856,
           196,
           1072,
           836,
           32928,
           324,
           5792,
           16484,
           96,
           5392,
           64624,
           1284,
           39864,
           0,
           1368,
           6724,
           1252,
           0,
           591608,
           20372,
           2188,
           212,
           1372,
           1104,
           53820,
           360,
           5344,
           22564,
           0,
           4220,
           43848,
           752,
           37104,
           0,
           1180,
           8620,
           1568,
           0,
           532052,
           17816,
           572,
           96,
           1256,
           664,
           50056,
           272,
           4748,
           21664,
           0,
           3708,
           45356,
           612,
           32376,
           0,
           264,
           7252,
           1492,
           0,
           462404,
           19608,
           432,
           112,
           1388,
           1224,
           56552,
           192,
           4864,
           25584,
           0,
           3968,
           49392,
           716,
           35048,
           0,
           344,
           3612,
           1016,
           0,
           478372,
           21780,
           492,
           96,
           1616,
           1220,
           63216,
           136,
           4008,
           21596,
           0,
           3584,
           38396,
           812,
           30692,
           0,
           364,
           3940,
           964,
           0,
           457740,
           16792,
           412,
           52,
           728,
           888,
           40628,
           248,
           3744,
           18224,
           0,
           3924,
           40040,
           964,
           29484,
           0,
           148,
           4608,
           808,
           0,
           501044,
           4712,
           1588,
           192,
           1132,
           2548,
           7932,
           1136,
           5132,
           5104,
           0,
           2384,
           53104,
           1076,
           20240,
           0,
           780,
           10968,
           1560,
           0,
           811112,
           10464,
           1944,
           432,
           5784,
           7552,
           11740,
           2456,
           15760,
           8968,
           0,
           8,
           65548,
           984,
           28072,
           0,
           116,
           21232,
           2908,
           56,
           1425012,
           15612,
           2108,
           372,
           6780,
           9620,
           16004,
           2996,
           12636,
           13456,
           64,
           8016,
           99052,
           64,
           44600,
           24,
           0,
           29656,
           4456,
           0,
           1778612,
           18696,
           4072,
           952,
           7924,
           8140,
           15564,
           3028,
           10404,
           11392,
           5876,
           10812,
           125900,
           1900,
           53780,
           48,
           368,
           27564,
           4792,
           0,
           1919844,
           35924,
           5432,
           4248,
           9484,
           8232,
           33260,
           3156,
           15756,
           17700,
           5744,
           9972,
           146996,
           2312,
           68116,
           0,
           1460,
           21500,
           6216,
           0,
           2642732,
           21524,
           7084,
           7820,
           12088,
           9244,
           24104,
           4144,
           19548,
           14632,
           10204,
           10028,
           187224,
           4180,
           73036,
           612,
           4796,
           26932,
           10332,
           9584,
           2820960,
           52188,
           7732,
           2732,
           11940,
           9164,
           54388,
           5048,
           25124,
           20756,
           9520,
           9768,
           193152,
           3396,
           155932,
           1120,
           11544,
           20108,
           18344,
           69548,
           3351272,
           209364,
           5504,
           980,
           11432,
           9568,
           362788,
           3124,
           24516,
           121228,
           23472,
           7048,
           167276,
           1828,
           454752,
           648,
           11920,
           28768,
           24744,
           9400,
           2444936,
           100388,
           2776,
           492,
           6224,
           4780,
           247860,
           1764,
           16276,
           72700,
           8708,
           4588,
           103072,
           1148,
           210484,
           376,
           7020,
           22480,
           15836,
           7208,
           2457708,
           113580,
           3684,
           1264,
           6844,
           6256,
           247096,
           2692,
           18892,
           69652,
           0,
           3296,
           107624,
           1648,
           228624,
           668,
           8204,
           17668,
           18104,
           0,
           3379696,
           115452,
           7640,
           7096,
           14964,
           7852,
           209828,
           4300,
           32280,
           58608,
           23280,
           5508,
           172180,
           3228,
           232412,
           600,
           7812,
           14584,
           22544,
           0,
           3880376,
           39608,
           6196,
           7464,
           10900,
           9160,
           92456,
           5084,
           27176,
           22380,
           24688,
           7700,
           215644,
           3192,
           99848,
           1024,
           16524,
           26236,
           29236,
           0,
           4593776,
           10608,
           11016,
           11140,
           13048,
           10704,
           11736,
           7552,
           55116,
           11768,
           10752,
           11576,
           283020,
           4372,
           83956,
           0,
           68156,
           35576,
           51736,
           0,
           5223824,
           14652,
           12356,
           5772,
           13672,
           12036,
           10620,
           7688,
           50572,
           11424,
           10664,
           10560,
           257516,
           3632,
           93688,
           304,
           83400,
           46948,
           45804,
           0,
           5623628,
           19224,
           7584,
           168,
           11332,
           10868,
           12164,
           5852,
           37112,
           13836,
           13368,
           8552,
           198340,
           608,
           97572,
           2896,
           101996,
           59420,
           36716,
           0,
           5115080,
           17616,
           1520,
           376,
           3284,
           4352,
           12180,
           3588,
           46620,
           12248,
           13148,
           10424,
           225452,
           2852,
           97136,
           708,
           80568,
           55216,
           38996,
           0,
           5149848,
           23708,
           2268,
           4344,
           1496,
           0,
           26300,
           3836,
           63840,
           13536,
           12604,
           13812,
           279684,
           6136,
           114280,
           1700,
           83620,
           50408,
           51508,
           0,
           5080536,
           20376,
           3424,
           32,
           364,
           2708,
           15076,
           8540,
           57796,
           12592,
           9408,
           12588,
           288760,
           12236,
           120944,
           2584,
           85576,
           60876,
           52020,
           3740,
           4248964,
           61692,
           9564,
           848,
           11796,
           12148,
           62276,
           9432,
           54604,
           24328,
           7704,
           10624,
           229600,
           4744,
           239436,
           1280,
           55580,
           67888,
           50032,
           97600,
           4712436,
           258332,
           9576,
           4592,
           10320,
           10544,
           409300,
           8628,
           46060,
           149448,
           8860,
           7760,
           184648,
           2760,
           637844,
           500,
           76348,
           76788,
           43576,
           11576,
           4484696,
           135248,
           9196,
           6088,
           10192,
           10864,
           267656,
           8188,
           45712,
           85312,
           7788,
           9624,
           197508,
           2104,
           389416,
           0,
           53808,
           63220,
           38416,
           9096,
           4428264,
           143932,
           11084,
           6804,
           12692,
           11384,
           290444,
           7772,
           47728,
           83372,
           8692,
           10860,
           190416,
           3460,
           376824,
           0,
           49532,
           63232,
           38464,
           2780,
           5148608,
           130648,
           15576,
           9160,
           15556,
           14232,
           250268,
           10808,
           60176,
           62056,
           13164,
           12996,
           231600,
           4108,
           326800,
           624,
           60796,
           76452,
           47532
          ],
          "sizemode": "area",
          "sizeref": 5294.0325,
          "symbol": "circle"
         },
         "mode": "markers+text",
         "name": "",
         "showlegend": false,
         "text": [
          "Enontekiö",
          "Helsinki-Vantaa",
          "Ivalo",
          "Joensuu",
          "Jyväskylä",
          "Kajaani",
          "Kemi-Tornio",
          "Kittilä",
          "Kokkola-Pietarsaari",
          "Kuopio",
          "Kuusamo",
          "Lappeenranta",
          "Mariehamn",
          "Oulu",
          "Pori",
          "Rovaniemi",
          "Savonlinna",
          "Tampere-Pirkkala",
          "Turku",
          "Vaasa",
          "Enontekiö",
          "Helsinki-Vantaa",
          "Ivalo",
          "Joensuu",
          "Jyväskylä",
          "Kajaani",
          "Kemi-Tornio",
          "Kittilä",
          "Kokkola-Pietarsaari",
          "Kuopio",
          "Kuusamo",
          "Lappeenranta",
          "Mariehamn",
          "Oulu",
          "Pori",
          "Rovaniemi",
          "Savonlinna",
          "Tampere-Pirkkala",
          "Turku",
          "Vaasa",
          "Enontekiö",
          "Helsinki-Vantaa",
          "Ivalo",
          "Joensuu",
          "Jyväskylä",
          "Kajaani",
          "Kemi-Tornio",
          "Kittilä",
          "Kokkola-Pietarsaari",
          "Kuopio",
          "Kuusamo",
          "Lappeenranta",
          "Mariehamn",
          "Oulu",
          "Pori",
          "Rovaniemi",
          "Savonlinna",
          "Tampere-Pirkkala",
          "Turku",
          "Vaasa",
          "Enontekiö",
          "Helsinki-Vantaa",
          "Ivalo",
          "Joensuu",
          "Jyväskylä",
          "Kajaani",
          "Kemi-Tornio",
          "Kittilä",
          "Kokkola-Pietarsaari",
          "Kuopio",
          "Kuusamo",
          "Lappeenranta",
          "Mariehamn",
          "Oulu",
          "Pori",
          "Rovaniemi",
          "Savonlinna",
          "Tampere-Pirkkala",
          "Turku",
          "Vaasa",
          "Enontekiö",
          "Helsinki-Vantaa",
          "Ivalo",
          "Joensuu",
          "Jyväskylä",
          "Kajaani",
          "Kemi-Tornio",
          "Kittilä",
          "Kokkola-Pietarsaari",
          "Kuopio",
          "Kuusamo",
          "Lappeenranta",
          "Mariehamn",
          "Oulu",
          "Pori",
          "Rovaniemi",
          "Savonlinna",
          "Tampere-Pirkkala",
          "Turku",
          "Vaasa",
          "Enontekiö",
          "Helsinki-Vantaa",
          "Ivalo",
          "Joensuu",
          "Jyväskylä",
          "Kajaani",
          "Kemi-Tornio",
          "Kittilä",
          "Kokkola-Pietarsaari",
          "Kuopio",
          "Kuusamo",
          "Lappeenranta",
          "Mariehamn",
          "Oulu",
          "Pori",
          "Rovaniemi",
          "Savonlinna",
          "Tampere-Pirkkala",
          "Turku",
          "Vaasa",
          "Enontekiö",
          "Helsinki-Vantaa",
          "Ivalo",
          "Joensuu",
          "Jyväskylä",
          "Kajaani",
          "Kemi-Tornio",
          "Kittilä",
          "Kokkola-Pietarsaari",
          "Kuopio",
          "Kuusamo",
          "Lappeenranta",
          "Mariehamn",
          "Oulu",
          "Pori",
          "Rovaniemi",
          "Savonlinna",
          "Tampere-Pirkkala",
          "Turku",
          "Vaasa",
          "Enontekiö",
          "Helsinki-Vantaa",
          "Ivalo",
          "Joensuu",
          "Jyväskylä",
          "Kajaani",
          "Kemi-Tornio",
          "Kittilä",
          "Kokkola-Pietarsaari",
          "Kuopio",
          "Kuusamo",
          "Lappeenranta",
          "Mariehamn",
          "Oulu",
          "Pori",
          "Rovaniemi",
          "Savonlinna",
          "Tampere-Pirkkala",
          "Turku",
          "Vaasa",
          "Enontekiö",
          "Helsinki-Vantaa",
          "Ivalo",
          "Joensuu",
          "Jyväskylä",
          "Kajaani",
          "Kemi-Tornio",
          "Kittilä",
          "Kokkola-Pietarsaari",
          "Kuopio",
          "Kuusamo",
          "Lappeenranta",
          "Mariehamn",
          "Oulu",
          "Pori",
          "Rovaniemi",
          "Savonlinna",
          "Tampere-Pirkkala",
          "Turku",
          "Vaasa",
          "Enontekiö",
          "Helsinki-Vantaa",
          "Ivalo",
          "Joensuu",
          "Jyväskylä",
          "Kajaani",
          "Kemi-Tornio",
          "Kittilä",
          "Kokkola-Pietarsaari",
          "Kuopio",
          "Kuusamo",
          "Lappeenranta",
          "Mariehamn",
          "Oulu",
          "Pori",
          "Rovaniemi",
          "Savonlinna",
          "Tampere-Pirkkala",
          "Turku",
          "Vaasa",
          "Enontekiö",
          "Helsinki-Vantaa",
          "Ivalo",
          "Joensuu",
          "Jyväskylä",
          "Kajaani",
          "Kemi-Tornio",
          "Kittilä",
          "Kokkola-Pietarsaari",
          "Kuopio",
          "Kuusamo",
          "Lappeenranta",
          "Mariehamn",
          "Oulu",
          "Pori",
          "Rovaniemi",
          "Savonlinna",
          "Tampere-Pirkkala",
          "Turku",
          "Vaasa",
          "Enontekiö",
          "Helsinki-Vantaa",
          "Ivalo",
          "Joensuu",
          "Jyväskylä",
          "Kajaani",
          "Kemi-Tornio",
          "Kittilä",
          "Kokkola-Pietarsaari",
          "Kuopio",
          "Kuusamo",
          "Lappeenranta",
          "Mariehamn",
          "Oulu",
          "Pori",
          "Rovaniemi",
          "Savonlinna",
          "Tampere-Pirkkala",
          "Turku",
          "Vaasa",
          "Enontekiö",
          "Helsinki-Vantaa",
          "Ivalo",
          "Joensuu",
          "Jyväskylä",
          "Kajaani",
          "Kemi-Tornio",
          "Kittilä",
          "Kokkola-Pietarsaari",
          "Kuopio",
          "Kuusamo",
          "Lappeenranta",
          "Mariehamn",
          "Oulu",
          "Pori",
          "Rovaniemi",
          "Savonlinna",
          "Tampere-Pirkkala",
          "Turku",
          "Vaasa",
          "Enontekiö",
          "Helsinki-Vantaa",
          "Ivalo",
          "Joensuu",
          "Jyväskylä",
          "Kajaani",
          "Kemi-Tornio",
          "Kittilä",
          "Kokkola-Pietarsaari",
          "Kuopio",
          "Kuusamo",
          "Lappeenranta",
          "Mariehamn",
          "Oulu",
          "Pori",
          "Rovaniemi",
          "Savonlinna",
          "Tampere-Pirkkala",
          "Turku",
          "Vaasa",
          "Enontekiö",
          "Helsinki-Vantaa",
          "Ivalo",
          "Joensuu",
          "Jyväskylä",
          "Kajaani",
          "Kemi-Tornio",
          "Kittilä",
          "Kokkola-Pietarsaari",
          "Kuopio",
          "Kuusamo",
          "Lappeenranta",
          "Mariehamn",
          "Oulu",
          "Pori",
          "Rovaniemi",
          "Savonlinna",
          "Tampere-Pirkkala",
          "Turku",
          "Vaasa",
          "Enontekiö",
          "Helsinki-Vantaa",
          "Ivalo",
          "Joensuu",
          "Jyväskylä",
          "Kajaani",
          "Kemi-Tornio",
          "Kittilä",
          "Kokkola-Pietarsaari",
          "Kuopio",
          "Kuusamo",
          "Lappeenranta",
          "Mariehamn",
          "Oulu",
          "Pori",
          "Rovaniemi",
          "Savonlinna",
          "Tampere-Pirkkala",
          "Turku",
          "Vaasa",
          "Enontekiö",
          "Helsinki-Vantaa",
          "Ivalo",
          "Joensuu",
          "Jyväskylä",
          "Kajaani",
          "Kemi-Tornio",
          "Kittilä",
          "Kokkola-Pietarsaari",
          "Kuopio",
          "Kuusamo",
          "Lappeenranta",
          "Mariehamn",
          "Oulu",
          "Pori",
          "Rovaniemi",
          "Savonlinna",
          "Tampere-Pirkkala",
          "Turku",
          "Vaasa",
          "Enontekiö",
          "Helsinki-Vantaa",
          "Ivalo",
          "Joensuu",
          "Jyväskylä",
          "Kajaani",
          "Kemi-Tornio",
          "Kittilä",
          "Kokkola-Pietarsaari",
          "Kuopio",
          "Kuusamo",
          "Lappeenranta",
          "Mariehamn",
          "Oulu",
          "Pori",
          "Rovaniemi",
          "Savonlinna",
          "Tampere-Pirkkala",
          "Turku",
          "Vaasa",
          "Enontekiö",
          "Helsinki-Vantaa",
          "Ivalo",
          "Joensuu",
          "Jyväskylä",
          "Kajaani",
          "Kemi-Tornio",
          "Kittilä",
          "Kokkola-Pietarsaari",
          "Kuopio",
          "Kuusamo",
          "Lappeenranta",
          "Mariehamn",
          "Oulu",
          "Pori",
          "Rovaniemi",
          "Savonlinna",
          "Tampere-Pirkkala",
          "Turku",
          "Vaasa",
          "Enontekiö",
          "Helsinki-Vantaa",
          "Ivalo",
          "Joensuu",
          "Jyväskylä",
          "Kajaani",
          "Kemi-Tornio",
          "Kittilä",
          "Kokkola-Pietarsaari",
          "Kuopio",
          "Kuusamo",
          "Lappeenranta",
          "Mariehamn",
          "Oulu",
          "Pori",
          "Rovaniemi",
          "Savonlinna",
          "Tampere-Pirkkala",
          "Turku",
          "Vaasa",
          "Enontekiö",
          "Helsinki-Vantaa",
          "Ivalo",
          "Joensuu",
          "Jyväskylä",
          "Kajaani",
          "Kemi-Tornio",
          "Kittilä",
          "Kokkola-Pietarsaari",
          "Kuopio",
          "Kuusamo",
          "Lappeenranta",
          "Mariehamn",
          "Oulu",
          "Pori",
          "Rovaniemi",
          "Savonlinna",
          "Tampere-Pirkkala",
          "Turku",
          "Vaasa",
          "Enontekiö",
          "Helsinki-Vantaa",
          "Ivalo",
          "Joensuu",
          "Jyväskylä",
          "Kajaani",
          "Kemi-Tornio",
          "Kittilä",
          "Kokkola-Pietarsaari",
          "Kuopio",
          "Kuusamo",
          "Lappeenranta",
          "Mariehamn",
          "Oulu",
          "Pori",
          "Rovaniemi",
          "Savonlinna",
          "Tampere-Pirkkala",
          "Turku",
          "Vaasa",
          "Enontekiö",
          "Helsinki-Vantaa",
          "Ivalo",
          "Joensuu",
          "Jyväskylä",
          "Kajaani",
          "Kemi-Tornio",
          "Kittilä",
          "Kokkola-Pietarsaari",
          "Kuopio",
          "Kuusamo",
          "Lappeenranta",
          "Mariehamn",
          "Oulu",
          "Pori",
          "Rovaniemi",
          "Savonlinna",
          "Tampere-Pirkkala",
          "Turku",
          "Vaasa",
          "Enontekiö",
          "Helsinki-Vantaa",
          "Ivalo",
          "Joensuu",
          "Jyväskylä",
          "Kajaani",
          "Kemi-Tornio",
          "Kittilä",
          "Kokkola-Pietarsaari",
          "Kuopio",
          "Kuusamo",
          "Lappeenranta",
          "Mariehamn",
          "Oulu",
          "Pori",
          "Rovaniemi",
          "Savonlinna",
          "Tampere-Pirkkala",
          "Turku",
          "Vaasa",
          "Enontekiö",
          "Helsinki-Vantaa",
          "Ivalo",
          "Joensuu",
          "Jyväskylä",
          "Kajaani",
          "Kemi-Tornio",
          "Kittilä",
          "Kokkola-Pietarsaari",
          "Kuopio",
          "Kuusamo",
          "Lappeenranta",
          "Mariehamn",
          "Oulu",
          "Pori",
          "Rovaniemi",
          "Savonlinna",
          "Tampere-Pirkkala",
          "Turku",
          "Vaasa",
          "Enontekiö",
          "Helsinki-Vantaa",
          "Ivalo",
          "Joensuu",
          "Jyväskylä",
          "Kajaani",
          "Kemi-Tornio",
          "Kittilä",
          "Kokkola-Pietarsaari",
          "Kuopio",
          "Kuusamo",
          "Lappeenranta",
          "Mariehamn",
          "Oulu",
          "Pori",
          "Rovaniemi",
          "Savonlinna",
          "Tampere-Pirkkala",
          "Turku",
          "Vaasa",
          "Enontekiö",
          "Helsinki-Vantaa",
          "Ivalo",
          "Joensuu",
          "Jyväskylä",
          "Kajaani",
          "Kemi-Tornio",
          "Kittilä",
          "Kokkola-Pietarsaari",
          "Kuopio",
          "Kuusamo",
          "Lappeenranta",
          "Mariehamn",
          "Oulu",
          "Pori",
          "Rovaniemi",
          "Savonlinna",
          "Tampere-Pirkkala",
          "Turku",
          "Vaasa",
          "Enontekiö",
          "Helsinki-Vantaa",
          "Ivalo",
          "Joensuu",
          "Jyväskylä",
          "Kajaani",
          "Kemi-Tornio",
          "Kittilä",
          "Kokkola-Pietarsaari",
          "Kuopio",
          "Kuusamo",
          "Lappeenranta",
          "Mariehamn",
          "Oulu",
          "Pori",
          "Rovaniemi",
          "Savonlinna",
          "Tampere-Pirkkala",
          "Turku",
          "Vaasa",
          "Enontekiö",
          "Helsinki-Vantaa",
          "Ivalo",
          "Joensuu",
          "Jyväskylä",
          "Kajaani",
          "Kemi-Tornio",
          "Kittilä",
          "Kokkola-Pietarsaari",
          "Kuopio",
          "Kuusamo",
          "Lappeenranta",
          "Mariehamn",
          "Oulu",
          "Pori",
          "Rovaniemi",
          "Savonlinna",
          "Tampere-Pirkkala",
          "Turku",
          "Vaasa",
          "Enontekiö",
          "Helsinki-Vantaa",
          "Ivalo",
          "Joensuu",
          "Jyväskylä",
          "Kajaani",
          "Kemi-Tornio",
          "Kittilä",
          "Kokkola-Pietarsaari",
          "Kuopio",
          "Kuusamo",
          "Lappeenranta",
          "Mariehamn",
          "Oulu",
          "Pori",
          "Rovaniemi",
          "Savonlinna",
          "Tampere-Pirkkala",
          "Turku",
          "Vaasa",
          "Enontekiö",
          "Helsinki-Vantaa",
          "Ivalo",
          "Joensuu",
          "Jyväskylä",
          "Kajaani",
          "Kemi-Tornio",
          "Kittilä",
          "Kokkola-Pietarsaari",
          "Kuopio",
          "Kuusamo",
          "Lappeenranta",
          "Mariehamn",
          "Oulu",
          "Pori",
          "Rovaniemi",
          "Savonlinna",
          "Tampere-Pirkkala",
          "Turku",
          "Vaasa",
          "Enontekiö",
          "Helsinki-Vantaa",
          "Ivalo",
          "Joensuu",
          "Jyväskylä",
          "Kajaani",
          "Kemi-Tornio",
          "Kittilä",
          "Kokkola-Pietarsaari",
          "Kuopio",
          "Kuusamo",
          "Lappeenranta",
          "Mariehamn",
          "Oulu",
          "Pori",
          "Rovaniemi",
          "Savonlinna",
          "Tampere-Pirkkala",
          "Turku",
          "Vaasa",
          "Enontekiö",
          "Helsinki-Vantaa",
          "Ivalo",
          "Joensuu",
          "Jyväskylä",
          "Kajaani",
          "Kemi-Tornio",
          "Kittilä",
          "Kokkola-Pietarsaari",
          "Kuopio",
          "Kuusamo",
          "Lappeenranta",
          "Mariehamn",
          "Oulu",
          "Pori",
          "Rovaniemi",
          "Savonlinna",
          "Tampere-Pirkkala",
          "Turku",
          "Vaasa",
          "Enontekiö",
          "Helsinki-Vantaa",
          "Ivalo",
          "Joensuu",
          "Jyväskylä",
          "Kajaani",
          "Kemi-Tornio",
          "Kittilä",
          "Kokkola-Pietarsaari",
          "Kuopio",
          "Kuusamo",
          "Lappeenranta",
          "Mariehamn",
          "Oulu",
          "Pori",
          "Rovaniemi",
          "Savonlinna",
          "Tampere-Pirkkala",
          "Turku",
          "Vaasa",
          "Enontekiö",
          "Helsinki-Vantaa",
          "Ivalo",
          "Joensuu",
          "Jyväskylä",
          "Kajaani",
          "Kemi-Tornio",
          "Kittilä",
          "Kokkola-Pietarsaari",
          "Kuopio",
          "Kuusamo",
          "Lappeenranta",
          "Mariehamn",
          "Oulu",
          "Pori",
          "Rovaniemi",
          "Savonlinna",
          "Tampere-Pirkkala",
          "Turku",
          "Vaasa",
          "Enontekiö",
          "Helsinki-Vantaa",
          "Ivalo",
          "Joensuu",
          "Jyväskylä",
          "Kajaani",
          "Kemi-Tornio",
          "Kittilä",
          "Kokkola-Pietarsaari",
          "Kuopio",
          "Kuusamo",
          "Lappeenranta",
          "Mariehamn",
          "Oulu",
          "Pori",
          "Rovaniemi",
          "Savonlinna",
          "Tampere-Pirkkala",
          "Turku",
          "Vaasa",
          "Enontekiö",
          "Helsinki-Vantaa",
          "Ivalo",
          "Joensuu",
          "Jyväskylä",
          "Kajaani",
          "Kemi-Tornio",
          "Kittilä",
          "Kokkola-Pietarsaari",
          "Kuopio",
          "Kuusamo",
          "Lappeenranta",
          "Mariehamn",
          "Oulu",
          "Pori",
          "Rovaniemi",
          "Savonlinna",
          "Tampere-Pirkkala",
          "Turku",
          "Vaasa",
          "Enontekiö",
          "Helsinki-Vantaa",
          "Ivalo",
          "Joensuu",
          "Jyväskylä",
          "Kajaani",
          "Kemi-Tornio",
          "Kittilä",
          "Kokkola-Pietarsaari",
          "Kuopio",
          "Kuusamo",
          "Lappeenranta",
          "Mariehamn",
          "Oulu",
          "Pori",
          "Rovaniemi",
          "Savonlinna",
          "Tampere-Pirkkala",
          "Turku",
          "Vaasa",
          "Enontekiö",
          "Helsinki-Vantaa",
          "Ivalo",
          "Joensuu",
          "Jyväskylä",
          "Kajaani",
          "Kemi-Tornio",
          "Kittilä",
          "Kokkola-Pietarsaari",
          "Kuopio",
          "Kuusamo",
          "Lappeenranta",
          "Mariehamn",
          "Oulu",
          "Pori",
          "Rovaniemi",
          "Savonlinna",
          "Tampere-Pirkkala",
          "Turku",
          "Vaasa",
          "Enontekiö",
          "Helsinki-Vantaa",
          "Ivalo",
          "Joensuu",
          "Jyväskylä",
          "Kajaani",
          "Kemi-Tornio",
          "Kittilä",
          "Kokkola-Pietarsaari",
          "Kuopio",
          "Kuusamo",
          "Lappeenranta",
          "Mariehamn",
          "Oulu",
          "Pori",
          "Rovaniemi",
          "Savonlinna",
          "Tampere-Pirkkala",
          "Turku",
          "Vaasa",
          "Enontekiö",
          "Helsinki-Vantaa",
          "Ivalo",
          "Joensuu",
          "Jyväskylä",
          "Kajaani",
          "Kemi-Tornio",
          "Kittilä",
          "Kokkola-Pietarsaari",
          "Kuopio",
          "Kuusamo",
          "Lappeenranta",
          "Mariehamn",
          "Oulu",
          "Pori",
          "Rovaniemi",
          "Savonlinna",
          "Tampere-Pirkkala",
          "Turku",
          "Vaasa",
          "Enontekiö",
          "Helsinki-Vantaa",
          "Ivalo",
          "Joensuu",
          "Jyväskylä",
          "Kajaani",
          "Kemi-Tornio",
          "Kittilä",
          "Kokkola-Pietarsaari",
          "Kuopio",
          "Kuusamo",
          "Lappeenranta",
          "Mariehamn",
          "Oulu",
          "Pori",
          "Rovaniemi",
          "Savonlinna",
          "Tampere-Pirkkala",
          "Turku",
          "Vaasa",
          "Enontekiö",
          "Helsinki-Vantaa",
          "Ivalo",
          "Joensuu",
          "Jyväskylä",
          "Kajaani",
          "Kemi-Tornio",
          "Kittilä",
          "Kokkola-Pietarsaari",
          "Kuopio",
          "Kuusamo",
          "Lappeenranta",
          "Mariehamn",
          "Oulu",
          "Pori",
          "Rovaniemi",
          "Savonlinna",
          "Tampere-Pirkkala",
          "Turku",
          "Vaasa",
          "Enontekiö",
          "Helsinki-Vantaa",
          "Ivalo",
          "Joensuu",
          "Jyväskylä",
          "Kajaani",
          "Kemi-Tornio",
          "Kittilä",
          "Kokkola-Pietarsaari",
          "Kuopio",
          "Kuusamo",
          "Lappeenranta",
          "Mariehamn",
          "Oulu",
          "Pori",
          "Rovaniemi",
          "Savonlinna",
          "Tampere-Pirkkala",
          "Turku",
          "Vaasa",
          "Enontekiö",
          "Helsinki-Vantaa",
          "Ivalo",
          "Joensuu",
          "Jyväskylä",
          "Kajaani",
          "Kemi-Tornio",
          "Kittilä",
          "Kokkola-Pietarsaari",
          "Kuopio",
          "Kuusamo",
          "Lappeenranta",
          "Mariehamn",
          "Oulu",
          "Pori",
          "Rovaniemi",
          "Savonlinna",
          "Tampere-Pirkkala",
          "Turku",
          "Vaasa",
          "Enontekiö",
          "Helsinki-Vantaa",
          "Ivalo",
          "Joensuu",
          "Jyväskylä",
          "Kajaani",
          "Kemi-Tornio",
          "Kittilä",
          "Kokkola-Pietarsaari",
          "Kuopio",
          "Kuusamo",
          "Lappeenranta",
          "Mariehamn",
          "Oulu",
          "Pori",
          "Rovaniemi",
          "Savonlinna",
          "Tampere-Pirkkala",
          "Turku",
          "Vaasa",
          "Enontekiö",
          "Helsinki-Vantaa",
          "Ivalo",
          "Joensuu",
          "Jyväskylä",
          "Kajaani",
          "Kemi-Tornio",
          "Kittilä",
          "Kokkola-Pietarsaari",
          "Kuopio",
          "Kuusamo",
          "Lappeenranta",
          "Mariehamn",
          "Oulu",
          "Pori",
          "Rovaniemi",
          "Savonlinna",
          "Tampere-Pirkkala",
          "Turku",
          "Vaasa",
          "Enontekiö",
          "Helsinki-Vantaa",
          "Ivalo",
          "Joensuu",
          "Jyväskylä",
          "Kajaani",
          "Kemi-Tornio",
          "Kittilä",
          "Kokkola-Pietarsaari",
          "Kuopio",
          "Kuusamo",
          "Lappeenranta",
          "Mariehamn",
          "Oulu",
          "Pori",
          "Rovaniemi",
          "Savonlinna",
          "Tampere-Pirkkala",
          "Turku",
          "Vaasa",
          "Enontekiö",
          "Helsinki-Vantaa",
          "Ivalo",
          "Joensuu",
          "Jyväskylä",
          "Kajaani",
          "Kemi-Tornio",
          "Kittilä",
          "Kokkola-Pietarsaari",
          "Kuopio",
          "Kuusamo",
          "Lappeenranta",
          "Mariehamn",
          "Oulu",
          "Pori",
          "Rovaniemi",
          "Savonlinna",
          "Tampere-Pirkkala",
          "Turku",
          "Vaasa",
          "Enontekiö",
          "Helsinki-Vantaa",
          "Ivalo",
          "Joensuu",
          "Jyväskylä",
          "Kajaani",
          "Kemi-Tornio",
          "Kittilä",
          "Kokkola-Pietarsaari",
          "Kuopio",
          "Kuusamo",
          "Lappeenranta",
          "Mariehamn",
          "Oulu",
          "Pori",
          "Rovaniemi",
          "Savonlinna",
          "Tampere-Pirkkala",
          "Turku",
          "Vaasa",
          "Enontekiö",
          "Helsinki-Vantaa",
          "Ivalo",
          "Joensuu",
          "Jyväskylä",
          "Kajaani",
          "Kemi-Tornio",
          "Kittilä",
          "Kokkola-Pietarsaari",
          "Kuopio",
          "Kuusamo",
          "Lappeenranta",
          "Mariehamn",
          "Oulu",
          "Pori",
          "Rovaniemi",
          "Savonlinna",
          "Tampere-Pirkkala",
          "Turku",
          "Vaasa"
         ],
         "textfont": {
          "size": 8
         },
         "type": "scattergeo"
        }
       ],
       "layout": {
        "geo": {
         "center": {
          "lat": 60,
          "lon": 24
         },
         "coastlinecolor": "Black",
         "domain": {
          "x": [
           0,
           1
          ],
          "y": [
           0,
           1
          ]
         },
         "landcolor": "white",
         "projection": {
          "type": "natural earth"
         },
         "resolution": 50,
         "scope": "europe",
         "showcoastlines": true,
         "showland": true
        },
        "legend": {
         "itemsizing": "constant",
         "tracegroupgap": 0
        },
        "template": {
         "data": {
          "bar": [
           {
            "error_x": {
             "color": "#2a3f5f"
            },
            "error_y": {
             "color": "#2a3f5f"
            },
            "marker": {
             "line": {
              "color": "#E5ECF6",
              "width": 0.5
             },
             "pattern": {
              "fillmode": "overlay",
              "size": 10,
              "solidity": 0.2
             }
            },
            "type": "bar"
           }
          ],
          "barpolar": [
           {
            "marker": {
             "line": {
              "color": "#E5ECF6",
              "width": 0.5
             },
             "pattern": {
              "fillmode": "overlay",
              "size": 10,
              "solidity": 0.2
             }
            },
            "type": "barpolar"
           }
          ],
          "carpet": [
           {
            "aaxis": {
             "endlinecolor": "#2a3f5f",
             "gridcolor": "white",
             "linecolor": "white",
             "minorgridcolor": "white",
             "startlinecolor": "#2a3f5f"
            },
            "baxis": {
             "endlinecolor": "#2a3f5f",
             "gridcolor": "white",
             "linecolor": "white",
             "minorgridcolor": "white",
             "startlinecolor": "#2a3f5f"
            },
            "type": "carpet"
           }
          ],
          "choropleth": [
           {
            "colorbar": {
             "outlinewidth": 0,
             "ticks": ""
            },
            "type": "choropleth"
           }
          ],
          "contour": [
           {
            "colorbar": {
             "outlinewidth": 0,
             "ticks": ""
            },
            "colorscale": [
             [
              0,
              "#0d0887"
             ],
             [
              0.1111111111111111,
              "#46039f"
             ],
             [
              0.2222222222222222,
              "#7201a8"
             ],
             [
              0.3333333333333333,
              "#9c179e"
             ],
             [
              0.4444444444444444,
              "#bd3786"
             ],
             [
              0.5555555555555556,
              "#d8576b"
             ],
             [
              0.6666666666666666,
              "#ed7953"
             ],
             [
              0.7777777777777778,
              "#fb9f3a"
             ],
             [
              0.8888888888888888,
              "#fdca26"
             ],
             [
              1,
              "#f0f921"
             ]
            ],
            "type": "contour"
           }
          ],
          "contourcarpet": [
           {
            "colorbar": {
             "outlinewidth": 0,
             "ticks": ""
            },
            "type": "contourcarpet"
           }
          ],
          "heatmap": [
           {
            "colorbar": {
             "outlinewidth": 0,
             "ticks": ""
            },
            "colorscale": [
             [
              0,
              "#0d0887"
             ],
             [
              0.1111111111111111,
              "#46039f"
             ],
             [
              0.2222222222222222,
              "#7201a8"
             ],
             [
              0.3333333333333333,
              "#9c179e"
             ],
             [
              0.4444444444444444,
              "#bd3786"
             ],
             [
              0.5555555555555556,
              "#d8576b"
             ],
             [
              0.6666666666666666,
              "#ed7953"
             ],
             [
              0.7777777777777778,
              "#fb9f3a"
             ],
             [
              0.8888888888888888,
              "#fdca26"
             ],
             [
              1,
              "#f0f921"
             ]
            ],
            "type": "heatmap"
           }
          ],
          "heatmapgl": [
           {
            "colorbar": {
             "outlinewidth": 0,
             "ticks": ""
            },
            "colorscale": [
             [
              0,
              "#0d0887"
             ],
             [
              0.1111111111111111,
              "#46039f"
             ],
             [
              0.2222222222222222,
              "#7201a8"
             ],
             [
              0.3333333333333333,
              "#9c179e"
             ],
             [
              0.4444444444444444,
              "#bd3786"
             ],
             [
              0.5555555555555556,
              "#d8576b"
             ],
             [
              0.6666666666666666,
              "#ed7953"
             ],
             [
              0.7777777777777778,
              "#fb9f3a"
             ],
             [
              0.8888888888888888,
              "#fdca26"
             ],
             [
              1,
              "#f0f921"
             ]
            ],
            "type": "heatmapgl"
           }
          ],
          "histogram": [
           {
            "marker": {
             "pattern": {
              "fillmode": "overlay",
              "size": 10,
              "solidity": 0.2
             }
            },
            "type": "histogram"
           }
          ],
          "histogram2d": [
           {
            "colorbar": {
             "outlinewidth": 0,
             "ticks": ""
            },
            "colorscale": [
             [
              0,
              "#0d0887"
             ],
             [
              0.1111111111111111,
              "#46039f"
             ],
             [
              0.2222222222222222,
              "#7201a8"
             ],
             [
              0.3333333333333333,
              "#9c179e"
             ],
             [
              0.4444444444444444,
              "#bd3786"
             ],
             [
              0.5555555555555556,
              "#d8576b"
             ],
             [
              0.6666666666666666,
              "#ed7953"
             ],
             [
              0.7777777777777778,
              "#fb9f3a"
             ],
             [
              0.8888888888888888,
              "#fdca26"
             ],
             [
              1,
              "#f0f921"
             ]
            ],
            "type": "histogram2d"
           }
          ],
          "histogram2dcontour": [
           {
            "colorbar": {
             "outlinewidth": 0,
             "ticks": ""
            },
            "colorscale": [
             [
              0,
              "#0d0887"
             ],
             [
              0.1111111111111111,
              "#46039f"
             ],
             [
              0.2222222222222222,
              "#7201a8"
             ],
             [
              0.3333333333333333,
              "#9c179e"
             ],
             [
              0.4444444444444444,
              "#bd3786"
             ],
             [
              0.5555555555555556,
              "#d8576b"
             ],
             [
              0.6666666666666666,
              "#ed7953"
             ],
             [
              0.7777777777777778,
              "#fb9f3a"
             ],
             [
              0.8888888888888888,
              "#fdca26"
             ],
             [
              1,
              "#f0f921"
             ]
            ],
            "type": "histogram2dcontour"
           }
          ],
          "mesh3d": [
           {
            "colorbar": {
             "outlinewidth": 0,
             "ticks": ""
            },
            "type": "mesh3d"
           }
          ],
          "parcoords": [
           {
            "line": {
             "colorbar": {
              "outlinewidth": 0,
              "ticks": ""
             }
            },
            "type": "parcoords"
           }
          ],
          "pie": [
           {
            "automargin": true,
            "type": "pie"
           }
          ],
          "scatter": [
           {
            "fillpattern": {
             "fillmode": "overlay",
             "size": 10,
             "solidity": 0.2
            },
            "type": "scatter"
           }
          ],
          "scatter3d": [
           {
            "line": {
             "colorbar": {
              "outlinewidth": 0,
              "ticks": ""
             }
            },
            "marker": {
             "colorbar": {
              "outlinewidth": 0,
              "ticks": ""
             }
            },
            "type": "scatter3d"
           }
          ],
          "scattercarpet": [
           {
            "marker": {
             "colorbar": {
              "outlinewidth": 0,
              "ticks": ""
             }
            },
            "type": "scattercarpet"
           }
          ],
          "scattergeo": [
           {
            "marker": {
             "colorbar": {
              "outlinewidth": 0,
              "ticks": ""
             }
            },
            "type": "scattergeo"
           }
          ],
          "scattergl": [
           {
            "marker": {
             "colorbar": {
              "outlinewidth": 0,
              "ticks": ""
             }
            },
            "type": "scattergl"
           }
          ],
          "scattermapbox": [
           {
            "marker": {
             "colorbar": {
              "outlinewidth": 0,
              "ticks": ""
             }
            },
            "type": "scattermapbox"
           }
          ],
          "scatterpolar": [
           {
            "marker": {
             "colorbar": {
              "outlinewidth": 0,
              "ticks": ""
             }
            },
            "type": "scatterpolar"
           }
          ],
          "scatterpolargl": [
           {
            "marker": {
             "colorbar": {
              "outlinewidth": 0,
              "ticks": ""
             }
            },
            "type": "scatterpolargl"
           }
          ],
          "scatterternary": [
           {
            "marker": {
             "colorbar": {
              "outlinewidth": 0,
              "ticks": ""
             }
            },
            "type": "scatterternary"
           }
          ],
          "surface": [
           {
            "colorbar": {
             "outlinewidth": 0,
             "ticks": ""
            },
            "colorscale": [
             [
              0,
              "#0d0887"
             ],
             [
              0.1111111111111111,
              "#46039f"
             ],
             [
              0.2222222222222222,
              "#7201a8"
             ],
             [
              0.3333333333333333,
              "#9c179e"
             ],
             [
              0.4444444444444444,
              "#bd3786"
             ],
             [
              0.5555555555555556,
              "#d8576b"
             ],
             [
              0.6666666666666666,
              "#ed7953"
             ],
             [
              0.7777777777777778,
              "#fb9f3a"
             ],
             [
              0.8888888888888888,
              "#fdca26"
             ],
             [
              1,
              "#f0f921"
             ]
            ],
            "type": "surface"
           }
          ],
          "table": [
           {
            "cells": {
             "fill": {
              "color": "#EBF0F8"
             },
             "line": {
              "color": "white"
             }
            },
            "header": {
             "fill": {
              "color": "#C8D4E3"
             },
             "line": {
              "color": "white"
             }
            },
            "type": "table"
           }
          ]
         },
         "layout": {
          "annotationdefaults": {
           "arrowcolor": "#2a3f5f",
           "arrowhead": 0,
           "arrowwidth": 1
          },
          "autotypenumbers": "strict",
          "coloraxis": {
           "colorbar": {
            "outlinewidth": 0,
            "ticks": ""
           }
          },
          "colorscale": {
           "diverging": [
            [
             0,
             "#8e0152"
            ],
            [
             0.1,
             "#c51b7d"
            ],
            [
             0.2,
             "#de77ae"
            ],
            [
             0.3,
             "#f1b6da"
            ],
            [
             0.4,
             "#fde0ef"
            ],
            [
             0.5,
             "#f7f7f7"
            ],
            [
             0.6,
             "#e6f5d0"
            ],
            [
             0.7,
             "#b8e186"
            ],
            [
             0.8,
             "#7fbc41"
            ],
            [
             0.9,
             "#4d9221"
            ],
            [
             1,
             "#276419"
            ]
           ],
           "sequential": [
            [
             0,
             "#0d0887"
            ],
            [
             0.1111111111111111,
             "#46039f"
            ],
            [
             0.2222222222222222,
             "#7201a8"
            ],
            [
             0.3333333333333333,
             "#9c179e"
            ],
            [
             0.4444444444444444,
             "#bd3786"
            ],
            [
             0.5555555555555556,
             "#d8576b"
            ],
            [
             0.6666666666666666,
             "#ed7953"
            ],
            [
             0.7777777777777778,
             "#fb9f3a"
            ],
            [
             0.8888888888888888,
             "#fdca26"
            ],
            [
             1,
             "#f0f921"
            ]
           ],
           "sequentialminus": [
            [
             0,
             "#0d0887"
            ],
            [
             0.1111111111111111,
             "#46039f"
            ],
            [
             0.2222222222222222,
             "#7201a8"
            ],
            [
             0.3333333333333333,
             "#9c179e"
            ],
            [
             0.4444444444444444,
             "#bd3786"
            ],
            [
             0.5555555555555556,
             "#d8576b"
            ],
            [
             0.6666666666666666,
             "#ed7953"
            ],
            [
             0.7777777777777778,
             "#fb9f3a"
            ],
            [
             0.8888888888888888,
             "#fdca26"
            ],
            [
             1,
             "#f0f921"
            ]
           ]
          },
          "colorway": [
           "#636efa",
           "#EF553B",
           "#00cc96",
           "#ab63fa",
           "#FFA15A",
           "#19d3f3",
           "#FF6692",
           "#B6E880",
           "#FF97FF",
           "#FECB52"
          ],
          "font": {
           "color": "#2a3f5f"
          },
          "geo": {
           "bgcolor": "white",
           "lakecolor": "white",
           "landcolor": "#E5ECF6",
           "showlakes": true,
           "showland": true,
           "subunitcolor": "white"
          },
          "hoverlabel": {
           "align": "left"
          },
          "hovermode": "closest",
          "mapbox": {
           "style": "light"
          },
          "paper_bgcolor": "white",
          "plot_bgcolor": "#E5ECF6",
          "polar": {
           "angularaxis": {
            "gridcolor": "white",
            "linecolor": "white",
            "ticks": ""
           },
           "bgcolor": "#E5ECF6",
           "radialaxis": {
            "gridcolor": "white",
            "linecolor": "white",
            "ticks": ""
           }
          },
          "scene": {
           "xaxis": {
            "backgroundcolor": "#E5ECF6",
            "gridcolor": "white",
            "gridwidth": 2,
            "linecolor": "white",
            "showbackground": true,
            "ticks": "",
            "zerolinecolor": "white"
           },
           "yaxis": {
            "backgroundcolor": "#E5ECF6",
            "gridcolor": "white",
            "gridwidth": 2,
            "linecolor": "white",
            "showbackground": true,
            "ticks": "",
            "zerolinecolor": "white"
           },
           "zaxis": {
            "backgroundcolor": "#E5ECF6",
            "gridcolor": "white",
            "gridwidth": 2,
            "linecolor": "white",
            "showbackground": true,
            "ticks": "",
            "zerolinecolor": "white"
           }
          },
          "shapedefaults": {
           "line": {
            "color": "#2a3f5f"
           }
          },
          "ternary": {
           "aaxis": {
            "gridcolor": "white",
            "linecolor": "white",
            "ticks": ""
           },
           "baxis": {
            "gridcolor": "white",
            "linecolor": "white",
            "ticks": ""
           },
           "bgcolor": "#E5ECF6",
           "caxis": {
            "gridcolor": "white",
            "linecolor": "white",
            "ticks": ""
           }
          },
          "title": {
           "x": 0.05
          },
          "xaxis": {
           "automargin": true,
           "gridcolor": "white",
           "linecolor": "white",
           "ticks": "",
           "title": {
            "standoff": 15
           },
           "zerolinecolor": "white",
           "zerolinewidth": 2
          },
          "yaxis": {
           "automargin": true,
           "gridcolor": "white",
           "linecolor": "white",
           "ticks": "",
           "title": {
            "standoff": 15
           },
           "zerolinecolor": "white",
           "zerolinewidth": 2
          }
         }
        },
        "title": {
         "text": "Passenger Counts at Airports in Northern Europe"
        }
       }
      },
      "text/html": [
       "<div>                            <div id=\"8982ab32-3b6a-40c7-90fe-b4ba3bd7582c\" class=\"plotly-graph-div\" style=\"height:525px; width:100%;\"></div>            <script type=\"text/javascript\">                require([\"plotly\"], function(Plotly) {                    window.PLOTLYENV=window.PLOTLYENV || {};                                    if (document.getElementById(\"8982ab32-3b6a-40c7-90fe-b4ba3bd7582c\")) {                    Plotly.newPlot(                        \"8982ab32-3b6a-40c7-90fe-b4ba3bd7582c\",                        [{\"geo\":\"geo\",\"hovertemplate\":\"Passenger Count=%{marker.size}<br>Airports in Finland=%{text}<br>Airport Latitude=%{lat}<br>Airport Longitude=%{lon}<extra></extra>\",\"lat\":[null,60.3172,68.6075,62.6604,62.3997,64.2859,65.7805,67.7006,63.7218,63.0071,65.9876,61.0447,60.1226,64.9304,61.4616,66.497,61.9421,61.418,60.5149,63.096,null,60.3172,68.6075,62.6604,62.3997,64.2859,65.7805,67.7006,63.7218,63.0071,65.9876,61.0447,60.1226,64.9304,61.4616,66.497,61.9421,61.418,60.5149,63.096,null,60.3172,68.6075,62.6604,62.3997,64.2859,65.7805,67.7006,63.7218,63.0071,65.9876,61.0447,60.1226,64.9304,61.4616,66.497,61.9421,61.418,60.5149,63.096,null,60.3172,68.6075,62.6604,62.3997,64.2859,65.7805,67.7006,63.7218,63.0071,65.9876,61.0447,60.1226,64.9304,61.4616,66.497,61.9421,61.418,60.5149,63.096,null,60.3172,68.6075,62.6604,62.3997,64.2859,65.7805,67.7006,63.7218,63.0071,65.9876,61.0447,60.1226,64.9304,61.4616,66.497,61.9421,61.418,60.5149,63.096,null,60.3172,68.6075,62.6604,62.3997,64.2859,65.7805,67.7006,63.7218,63.0071,65.9876,61.0447,60.1226,64.9304,61.4616,66.497,61.9421,61.418,60.5149,63.096,null,60.3172,68.6075,62.6604,62.3997,64.2859,65.7805,67.7006,63.7218,63.0071,65.9876,61.0447,60.1226,64.9304,61.4616,66.497,61.9421,61.418,60.5149,63.096,null,60.3172,68.6075,62.6604,62.3997,64.2859,65.7805,67.7006,63.7218,63.0071,65.9876,61.0447,60.1226,64.9304,61.4616,66.497,61.9421,61.418,60.5149,63.096,null,60.3172,68.6075,62.6604,62.3997,64.2859,65.7805,67.7006,63.7218,63.0071,65.9876,61.0447,60.1226,64.9304,61.4616,66.497,61.9421,61.418,60.5149,63.096,null,60.3172,68.6075,62.6604,62.3997,64.2859,65.7805,67.7006,63.7218,63.0071,65.9876,61.0447,60.1226,64.9304,61.4616,66.497,61.9421,61.418,60.5149,63.096,null,60.3172,68.6075,62.6604,62.3997,64.2859,65.7805,67.7006,63.7218,63.0071,65.9876,61.0447,60.1226,64.9304,61.4616,66.497,61.9421,61.418,60.5149,63.096,null,60.3172,68.6075,62.6604,62.3997,64.2859,65.7805,67.7006,63.7218,63.0071,65.9876,61.0447,60.1226,64.9304,61.4616,66.497,61.9421,61.418,60.5149,63.096,null,60.3172,68.6075,62.6604,62.3997,64.2859,65.7805,67.7006,63.7218,63.0071,65.9876,61.0447,60.1226,64.9304,61.4616,66.497,61.9421,61.418,60.5149,63.096,null,60.3172,68.6075,62.6604,62.3997,64.2859,65.7805,67.7006,63.7218,63.0071,65.9876,61.0447,60.1226,64.9304,61.4616,66.497,61.9421,61.418,60.5149,63.096,null,60.3172,68.6075,62.6604,62.3997,64.2859,65.7805,67.7006,63.7218,63.0071,65.9876,61.0447,60.1226,64.9304,61.4616,66.497,61.9421,61.418,60.5149,63.096,null,60.3172,68.6075,62.6604,62.3997,64.2859,65.7805,67.7006,63.7218,63.0071,65.9876,61.0447,60.1226,64.9304,61.4616,66.497,61.9421,61.418,60.5149,63.096,null,60.3172,68.6075,62.6604,62.3997,64.2859,65.7805,67.7006,63.7218,63.0071,65.9876,61.0447,60.1226,64.9304,61.4616,66.497,61.9421,61.418,60.5149,63.096,null,60.3172,68.6075,62.6604,62.3997,64.2859,65.7805,67.7006,63.7218,63.0071,65.9876,61.0447,60.1226,64.9304,61.4616,66.497,61.9421,61.418,60.5149,63.096,null,60.3172,68.6075,62.6604,62.3997,64.2859,65.7805,67.7006,63.7218,63.0071,65.9876,61.0447,60.1226,64.9304,61.4616,66.497,61.9421,61.418,60.5149,63.096,null,60.3172,68.6075,62.6604,62.3997,64.2859,65.7805,67.7006,63.7218,63.0071,65.9876,61.0447,60.1226,64.9304,61.4616,66.497,61.9421,61.418,60.5149,63.096,null,60.3172,68.6075,62.6604,62.3997,64.2859,65.7805,67.7006,63.7218,63.0071,65.9876,61.0447,60.1226,64.9304,61.4616,66.497,61.9421,61.418,60.5149,63.096,null,60.3172,68.6075,62.6604,62.3997,64.2859,65.7805,67.7006,63.7218,63.0071,65.9876,61.0447,60.1226,64.9304,61.4616,66.497,61.9421,61.418,60.5149,63.096,null,60.3172,68.6075,62.6604,62.3997,64.2859,65.7805,67.7006,63.7218,63.0071,65.9876,61.0447,60.1226,64.9304,61.4616,66.497,61.9421,61.418,60.5149,63.096,null,60.3172,68.6075,62.6604,62.3997,64.2859,65.7805,67.7006,63.7218,63.0071,65.9876,61.0447,60.1226,64.9304,61.4616,66.497,61.9421,61.418,60.5149,63.096,null,60.3172,68.6075,62.6604,62.3997,64.2859,65.7805,67.7006,63.7218,63.0071,65.9876,61.0447,60.1226,64.9304,61.4616,66.497,61.9421,61.418,60.5149,63.096,null,60.3172,68.6075,62.6604,62.3997,64.2859,65.7805,67.7006,63.7218,63.0071,65.9876,61.0447,60.1226,64.9304,61.4616,66.497,61.9421,61.418,60.5149,63.096,null,60.3172,68.6075,62.6604,62.3997,64.2859,65.7805,67.7006,63.7218,63.0071,65.9876,61.0447,60.1226,64.9304,61.4616,66.497,61.9421,61.418,60.5149,63.096,null,60.3172,68.6075,62.6604,62.3997,64.2859,65.7805,67.7006,63.7218,63.0071,65.9876,61.0447,60.1226,64.9304,61.4616,66.497,61.9421,61.418,60.5149,63.096,null,60.3172,68.6075,62.6604,62.3997,64.2859,65.7805,67.7006,63.7218,63.0071,65.9876,61.0447,60.1226,64.9304,61.4616,66.497,61.9421,61.418,60.5149,63.096,null,60.3172,68.6075,62.6604,62.3997,64.2859,65.7805,67.7006,63.7218,63.0071,65.9876,61.0447,60.1226,64.9304,61.4616,66.497,61.9421,61.418,60.5149,63.096,null,60.3172,68.6075,62.6604,62.3997,64.2859,65.7805,67.7006,63.7218,63.0071,65.9876,61.0447,60.1226,64.9304,61.4616,66.497,61.9421,61.418,60.5149,63.096,null,60.3172,68.6075,62.6604,62.3997,64.2859,65.7805,67.7006,63.7218,63.0071,65.9876,61.0447,60.1226,64.9304,61.4616,66.497,61.9421,61.418,60.5149,63.096,null,60.3172,68.6075,62.6604,62.3997,64.2859,65.7805,67.7006,63.7218,63.0071,65.9876,61.0447,60.1226,64.9304,61.4616,66.497,61.9421,61.418,60.5149,63.096,null,60.3172,68.6075,62.6604,62.3997,64.2859,65.7805,67.7006,63.7218,63.0071,65.9876,61.0447,60.1226,64.9304,61.4616,66.497,61.9421,61.418,60.5149,63.096,null,60.3172,68.6075,62.6604,62.3997,64.2859,65.7805,67.7006,63.7218,63.0071,65.9876,61.0447,60.1226,64.9304,61.4616,66.497,61.9421,61.418,60.5149,63.096,null,60.3172,68.6075,62.6604,62.3997,64.2859,65.7805,67.7006,63.7218,63.0071,65.9876,61.0447,60.1226,64.9304,61.4616,66.497,61.9421,61.418,60.5149,63.096,null,60.3172,68.6075,62.6604,62.3997,64.2859,65.7805,67.7006,63.7218,63.0071,65.9876,61.0447,60.1226,64.9304,61.4616,66.497,61.9421,61.418,60.5149,63.096,null,60.3172,68.6075,62.6604,62.3997,64.2859,65.7805,67.7006,63.7218,63.0071,65.9876,61.0447,60.1226,64.9304,61.4616,66.497,61.9421,61.418,60.5149,63.096,null,60.3172,68.6075,62.6604,62.3997,64.2859,65.7805,67.7006,63.7218,63.0071,65.9876,61.0447,60.1226,64.9304,61.4616,66.497,61.9421,61.418,60.5149,63.096,null,60.3172,68.6075,62.6604,62.3997,64.2859,65.7805,67.7006,63.7218,63.0071,65.9876,61.0447,60.1226,64.9304,61.4616,66.497,61.9421,61.418,60.5149,63.096,null,60.3172,68.6075,62.6604,62.3997,64.2859,65.7805,67.7006,63.7218,63.0071,65.9876,61.0447,60.1226,64.9304,61.4616,66.497,61.9421,61.418,60.5149,63.096,null,60.3172,68.6075,62.6604,62.3997,64.2859,65.7805,67.7006,63.7218,63.0071,65.9876,61.0447,60.1226,64.9304,61.4616,66.497,61.9421,61.418,60.5149,63.096,null,60.3172,68.6075,62.6604,62.3997,64.2859,65.7805,67.7006,63.7218,63.0071,65.9876,61.0447,60.1226,64.9304,61.4616,66.497,61.9421,61.418,60.5149,63.096,null,60.3172,68.6075,62.6604,62.3997,64.2859,65.7805,67.7006,63.7218,63.0071,65.9876,61.0447,60.1226,64.9304,61.4616,66.497,61.9421,61.418,60.5149,63.096,null,60.3172,68.6075,62.6604,62.3997,64.2859,65.7805,67.7006,63.7218,63.0071,65.9876,61.0447,60.1226,64.9304,61.4616,66.497,61.9421,61.418,60.5149,63.096,null,60.3172,68.6075,62.6604,62.3997,64.2859,65.7805,67.7006,63.7218,63.0071,65.9876,61.0447,60.1226,64.9304,61.4616,66.497,61.9421,61.418,60.5149,63.096,null,60.3172,68.6075,62.6604,62.3997,64.2859,65.7805,67.7006,63.7218,63.0071,65.9876,61.0447,60.1226,64.9304,61.4616,66.497,61.9421,61.418,60.5149,63.096,null,60.3172,68.6075,62.6604,62.3997,64.2859,65.7805,67.7006,63.7218,63.0071,65.9876,61.0447,60.1226,64.9304,61.4616,66.497,61.9421,61.418,60.5149,63.096,null,60.3172,68.6075,62.6604,62.3997,64.2859,65.7805,67.7006,63.7218,63.0071,65.9876,61.0447,60.1226,64.9304,61.4616,66.497,61.9421,61.418,60.5149,63.096,null,60.3172,68.6075,62.6604,62.3997,64.2859,65.7805,67.7006,63.7218,63.0071,65.9876,61.0447,60.1226,64.9304,61.4616,66.497,61.9421,61.418,60.5149,63.096,null,60.3172,68.6075,62.6604,62.3997,64.2859,65.7805,67.7006,63.7218,63.0071,65.9876,61.0447,60.1226,64.9304,61.4616,66.497,61.9421,61.418,60.5149,63.096],\"legendgroup\":\"\",\"lon\":[null,24.9633,27.4058,29.6195,25.6777,27.7226,24.5657,24.8441,23.1556,27.7536,29.239,28.1447,19.944,25.4395,21.791,25.7241,28.9163,23.6178,22.2617,21.6158,null,24.9633,27.4058,29.6195,25.6777,27.7226,24.5657,24.8441,23.1556,27.7536,29.239,28.1447,19.944,25.4395,21.791,25.7241,28.9163,23.6178,22.2617,21.6158,null,24.9633,27.4058,29.6195,25.6777,27.7226,24.5657,24.8441,23.1556,27.7536,29.239,28.1447,19.944,25.4395,21.791,25.7241,28.9163,23.6178,22.2617,21.6158,null,24.9633,27.4058,29.6195,25.6777,27.7226,24.5657,24.8441,23.1556,27.7536,29.239,28.1447,19.944,25.4395,21.791,25.7241,28.9163,23.6178,22.2617,21.6158,null,24.9633,27.4058,29.6195,25.6777,27.7226,24.5657,24.8441,23.1556,27.7536,29.239,28.1447,19.944,25.4395,21.791,25.7241,28.9163,23.6178,22.2617,21.6158,null,24.9633,27.4058,29.6195,25.6777,27.7226,24.5657,24.8441,23.1556,27.7536,29.239,28.1447,19.944,25.4395,21.791,25.7241,28.9163,23.6178,22.2617,21.6158,null,24.9633,27.4058,29.6195,25.6777,27.7226,24.5657,24.8441,23.1556,27.7536,29.239,28.1447,19.944,25.4395,21.791,25.7241,28.9163,23.6178,22.2617,21.6158,null,24.9633,27.4058,29.6195,25.6777,27.7226,24.5657,24.8441,23.1556,27.7536,29.239,28.1447,19.944,25.4395,21.791,25.7241,28.9163,23.6178,22.2617,21.6158,null,24.9633,27.4058,29.6195,25.6777,27.7226,24.5657,24.8441,23.1556,27.7536,29.239,28.1447,19.944,25.4395,21.791,25.7241,28.9163,23.6178,22.2617,21.6158,null,24.9633,27.4058,29.6195,25.6777,27.7226,24.5657,24.8441,23.1556,27.7536,29.239,28.1447,19.944,25.4395,21.791,25.7241,28.9163,23.6178,22.2617,21.6158,null,24.9633,27.4058,29.6195,25.6777,27.7226,24.5657,24.8441,23.1556,27.7536,29.239,28.1447,19.944,25.4395,21.791,25.7241,28.9163,23.6178,22.2617,21.6158,null,24.9633,27.4058,29.6195,25.6777,27.7226,24.5657,24.8441,23.1556,27.7536,29.239,28.1447,19.944,25.4395,21.791,25.7241,28.9163,23.6178,22.2617,21.6158,null,24.9633,27.4058,29.6195,25.6777,27.7226,24.5657,24.8441,23.1556,27.7536,29.239,28.1447,19.944,25.4395,21.791,25.7241,28.9163,23.6178,22.2617,21.6158,null,24.9633,27.4058,29.6195,25.6777,27.7226,24.5657,24.8441,23.1556,27.7536,29.239,28.1447,19.944,25.4395,21.791,25.7241,28.9163,23.6178,22.2617,21.6158,null,24.9633,27.4058,29.6195,25.6777,27.7226,24.5657,24.8441,23.1556,27.7536,29.239,28.1447,19.944,25.4395,21.791,25.7241,28.9163,23.6178,22.2617,21.6158,null,24.9633,27.4058,29.6195,25.6777,27.7226,24.5657,24.8441,23.1556,27.7536,29.239,28.1447,19.944,25.4395,21.791,25.7241,28.9163,23.6178,22.2617,21.6158,null,24.9633,27.4058,29.6195,25.6777,27.7226,24.5657,24.8441,23.1556,27.7536,29.239,28.1447,19.944,25.4395,21.791,25.7241,28.9163,23.6178,22.2617,21.6158,null,24.9633,27.4058,29.6195,25.6777,27.7226,24.5657,24.8441,23.1556,27.7536,29.239,28.1447,19.944,25.4395,21.791,25.7241,28.9163,23.6178,22.2617,21.6158,null,24.9633,27.4058,29.6195,25.6777,27.7226,24.5657,24.8441,23.1556,27.7536,29.239,28.1447,19.944,25.4395,21.791,25.7241,28.9163,23.6178,22.2617,21.6158,null,24.9633,27.4058,29.6195,25.6777,27.7226,24.5657,24.8441,23.1556,27.7536,29.239,28.1447,19.944,25.4395,21.791,25.7241,28.9163,23.6178,22.2617,21.6158,null,24.9633,27.4058,29.6195,25.6777,27.7226,24.5657,24.8441,23.1556,27.7536,29.239,28.1447,19.944,25.4395,21.791,25.7241,28.9163,23.6178,22.2617,21.6158,null,24.9633,27.4058,29.6195,25.6777,27.7226,24.5657,24.8441,23.1556,27.7536,29.239,28.1447,19.944,25.4395,21.791,25.7241,28.9163,23.6178,22.2617,21.6158,null,24.9633,27.4058,29.6195,25.6777,27.7226,24.5657,24.8441,23.1556,27.7536,29.239,28.1447,19.944,25.4395,21.791,25.7241,28.9163,23.6178,22.2617,21.6158,null,24.9633,27.4058,29.6195,25.6777,27.7226,24.5657,24.8441,23.1556,27.7536,29.239,28.1447,19.944,25.4395,21.791,25.7241,28.9163,23.6178,22.2617,21.6158,null,24.9633,27.4058,29.6195,25.6777,27.7226,24.5657,24.8441,23.1556,27.7536,29.239,28.1447,19.944,25.4395,21.791,25.7241,28.9163,23.6178,22.2617,21.6158,null,24.9633,27.4058,29.6195,25.6777,27.7226,24.5657,24.8441,23.1556,27.7536,29.239,28.1447,19.944,25.4395,21.791,25.7241,28.9163,23.6178,22.2617,21.6158,null,24.9633,27.4058,29.6195,25.6777,27.7226,24.5657,24.8441,23.1556,27.7536,29.239,28.1447,19.944,25.4395,21.791,25.7241,28.9163,23.6178,22.2617,21.6158,null,24.9633,27.4058,29.6195,25.6777,27.7226,24.5657,24.8441,23.1556,27.7536,29.239,28.1447,19.944,25.4395,21.791,25.7241,28.9163,23.6178,22.2617,21.6158,null,24.9633,27.4058,29.6195,25.6777,27.7226,24.5657,24.8441,23.1556,27.7536,29.239,28.1447,19.944,25.4395,21.791,25.7241,28.9163,23.6178,22.2617,21.6158,null,24.9633,27.4058,29.6195,25.6777,27.7226,24.5657,24.8441,23.1556,27.7536,29.239,28.1447,19.944,25.4395,21.791,25.7241,28.9163,23.6178,22.2617,21.6158,null,24.9633,27.4058,29.6195,25.6777,27.7226,24.5657,24.8441,23.1556,27.7536,29.239,28.1447,19.944,25.4395,21.791,25.7241,28.9163,23.6178,22.2617,21.6158,null,24.9633,27.4058,29.6195,25.6777,27.7226,24.5657,24.8441,23.1556,27.7536,29.239,28.1447,19.944,25.4395,21.791,25.7241,28.9163,23.6178,22.2617,21.6158,null,24.9633,27.4058,29.6195,25.6777,27.7226,24.5657,24.8441,23.1556,27.7536,29.239,28.1447,19.944,25.4395,21.791,25.7241,28.9163,23.6178,22.2617,21.6158,null,24.9633,27.4058,29.6195,25.6777,27.7226,24.5657,24.8441,23.1556,27.7536,29.239,28.1447,19.944,25.4395,21.791,25.7241,28.9163,23.6178,22.2617,21.6158,null,24.9633,27.4058,29.6195,25.6777,27.7226,24.5657,24.8441,23.1556,27.7536,29.239,28.1447,19.944,25.4395,21.791,25.7241,28.9163,23.6178,22.2617,21.6158,null,24.9633,27.4058,29.6195,25.6777,27.7226,24.5657,24.8441,23.1556,27.7536,29.239,28.1447,19.944,25.4395,21.791,25.7241,28.9163,23.6178,22.2617,21.6158,null,24.9633,27.4058,29.6195,25.6777,27.7226,24.5657,24.8441,23.1556,27.7536,29.239,28.1447,19.944,25.4395,21.791,25.7241,28.9163,23.6178,22.2617,21.6158,null,24.9633,27.4058,29.6195,25.6777,27.7226,24.5657,24.8441,23.1556,27.7536,29.239,28.1447,19.944,25.4395,21.791,25.7241,28.9163,23.6178,22.2617,21.6158,null,24.9633,27.4058,29.6195,25.6777,27.7226,24.5657,24.8441,23.1556,27.7536,29.239,28.1447,19.944,25.4395,21.791,25.7241,28.9163,23.6178,22.2617,21.6158,null,24.9633,27.4058,29.6195,25.6777,27.7226,24.5657,24.8441,23.1556,27.7536,29.239,28.1447,19.944,25.4395,21.791,25.7241,28.9163,23.6178,22.2617,21.6158,null,24.9633,27.4058,29.6195,25.6777,27.7226,24.5657,24.8441,23.1556,27.7536,29.239,28.1447,19.944,25.4395,21.791,25.7241,28.9163,23.6178,22.2617,21.6158,null,24.9633,27.4058,29.6195,25.6777,27.7226,24.5657,24.8441,23.1556,27.7536,29.239,28.1447,19.944,25.4395,21.791,25.7241,28.9163,23.6178,22.2617,21.6158,null,24.9633,27.4058,29.6195,25.6777,27.7226,24.5657,24.8441,23.1556,27.7536,29.239,28.1447,19.944,25.4395,21.791,25.7241,28.9163,23.6178,22.2617,21.6158,null,24.9633,27.4058,29.6195,25.6777,27.7226,24.5657,24.8441,23.1556,27.7536,29.239,28.1447,19.944,25.4395,21.791,25.7241,28.9163,23.6178,22.2617,21.6158,null,24.9633,27.4058,29.6195,25.6777,27.7226,24.5657,24.8441,23.1556,27.7536,29.239,28.1447,19.944,25.4395,21.791,25.7241,28.9163,23.6178,22.2617,21.6158,null,24.9633,27.4058,29.6195,25.6777,27.7226,24.5657,24.8441,23.1556,27.7536,29.239,28.1447,19.944,25.4395,21.791,25.7241,28.9163,23.6178,22.2617,21.6158,null,24.9633,27.4058,29.6195,25.6777,27.7226,24.5657,24.8441,23.1556,27.7536,29.239,28.1447,19.944,25.4395,21.791,25.7241,28.9163,23.6178,22.2617,21.6158,null,24.9633,27.4058,29.6195,25.6777,27.7226,24.5657,24.8441,23.1556,27.7536,29.239,28.1447,19.944,25.4395,21.791,25.7241,28.9163,23.6178,22.2617,21.6158,null,24.9633,27.4058,29.6195,25.6777,27.7226,24.5657,24.8441,23.1556,27.7536,29.239,28.1447,19.944,25.4395,21.791,25.7241,28.9163,23.6178,22.2617,21.6158,null,24.9633,27.4058,29.6195,25.6777,27.7226,24.5657,24.8441,23.1556,27.7536,29.239,28.1447,19.944,25.4395,21.791,25.7241,28.9163,23.6178,22.2617,21.6158,null,24.9633,27.4058,29.6195,25.6777,27.7226,24.5657,24.8441,23.1556,27.7536,29.239,28.1447,19.944,25.4395,21.791,25.7241,28.9163,23.6178,22.2617,21.6158],\"marker\":{\"color\":\"blue\",\"size\":[7076,6299800,136644,35368,17200,33300,23624,235952,16444,74620,66500,40,16848,340996,56,307672,1888,68336,106112,88200,6092,6158928,150976,36144,20156,31180,26680,275160,15680,74620,80188,708,14216,341116,1504,300304,1300,72624,115756,84036,3920,7031408,157748,45148,22392,35412,26292,294992,17580,88456,73168,684,16316,376300,1444,291308,2496,85256,138044,106224,0,7231532,43584,50360,30788,28516,22668,119072,22316,91684,34452,35636,17232,349264,4804,135376,3116,79384,135464,108220,0,7782008,11984,52736,33932,31696,19928,9584,21188,105748,12024,32972,22796,434136,3200,131140,2972,86952,158348,124260,0,8265896,19312,41528,27032,26692,19060,11732,17724,80744,13896,34116,19844,363344,128,129448,3164,84404,158452,105472,32,8470452,23848,28524,12020,20484,17404,13740,18436,42428,15360,38328,11344,249944,368,125376,5772,56280,158228,83856,32,8149056,27532,34964,17892,23424,18464,15844,16216,62020,6896,37684,16228,327300,3724,131940,1660,65212,185012,92396,0,7733768,37244,52840,27588,33696,20388,21880,20660,107148,16628,35228,22780,390300,9396,144196,5540,91028,185672,118984,0,7651848,27008,57748,24208,31728,17388,14752,27836,100464,16332,39492,18520,412444,21752,160688,8052,84300,185580,123128,5552,6399640,60776,40644,18740,27472,20980,55088,17436,81880,21148,34120,18076,362032,7472,234020,3812,65736,151528,100060,89424,6819372,266324,33772,14924,27936,24060,396956,14672,69164,103772,35632,12824,312492,3848,567372,2184,52344,141424,88844,8428,6467108,141272,32152,17276,27668,21380,237184,14568,66332,76640,36360,14848,318052,5072,333804,2524,51980,120472,87508,7972,6026528,155848,34660,18520,26148,21988,294160,14736,72756,95928,31476,14096,311732,5820,307280,1092,56964,130424,85620,4664,3002136,80312,18436,6048,13452,9848,163676,6632,33652,45324,11916,10036,151728,3136,149600,1180,26584,63836,45084,0,85752,0,0,0,0,0,0,0,336,0,0,3292,4808,0,5052,12,64,1576,0,0,146748,0,0,0,0,0,0,0,1440,0,0,4200,15888,0,11380,0,240,1736,96,0,328632,0,0,0,0,0,0,88,4484,0,32,6036,32976,0,22368,0,448,8128,0,0,867592,0,0,0,0,0,28,64,10428,0,2688,8480,65272,1120,43400,0,1728,42924,6732,0,1092912,13432,0,36,0,12,6840,8,15692,2864,4452,10440,95488,1288,44236,0,944,37788,7284,0,648560,21708,0,64,0,0,21996,36,8120,13636,0,7924,84272,1460,44964,0,1792,14372,3344,0,591384,14812,64,28,0,0,19716,40,7376,12716,8,7276,71696,1320,39452,0,392,17368,1908,0,490972,14016,856,196,1072,836,32928,324,5792,16484,96,5392,64624,1284,39864,0,1368,6724,1252,0,591608,20372,2188,212,1372,1104,53820,360,5344,22564,0,4220,43848,752,37104,0,1180,8620,1568,0,532052,17816,572,96,1256,664,50056,272,4748,21664,0,3708,45356,612,32376,0,264,7252,1492,0,462404,19608,432,112,1388,1224,56552,192,4864,25584,0,3968,49392,716,35048,0,344,3612,1016,0,478372,21780,492,96,1616,1220,63216,136,4008,21596,0,3584,38396,812,30692,0,364,3940,964,0,457740,16792,412,52,728,888,40628,248,3744,18224,0,3924,40040,964,29484,0,148,4608,808,0,501044,4712,1588,192,1132,2548,7932,1136,5132,5104,0,2384,53104,1076,20240,0,780,10968,1560,0,811112,10464,1944,432,5784,7552,11740,2456,15760,8968,0,8,65548,984,28072,0,116,21232,2908,56,1425012,15612,2108,372,6780,9620,16004,2996,12636,13456,64,8016,99052,64,44600,24,0,29656,4456,0,1778612,18696,4072,952,7924,8140,15564,3028,10404,11392,5876,10812,125900,1900,53780,48,368,27564,4792,0,1919844,35924,5432,4248,9484,8232,33260,3156,15756,17700,5744,9972,146996,2312,68116,0,1460,21500,6216,0,2642732,21524,7084,7820,12088,9244,24104,4144,19548,14632,10204,10028,187224,4180,73036,612,4796,26932,10332,9584,2820960,52188,7732,2732,11940,9164,54388,5048,25124,20756,9520,9768,193152,3396,155932,1120,11544,20108,18344,69548,3351272,209364,5504,980,11432,9568,362788,3124,24516,121228,23472,7048,167276,1828,454752,648,11920,28768,24744,9400,2444936,100388,2776,492,6224,4780,247860,1764,16276,72700,8708,4588,103072,1148,210484,376,7020,22480,15836,7208,2457708,113580,3684,1264,6844,6256,247096,2692,18892,69652,0,3296,107624,1648,228624,668,8204,17668,18104,0,3379696,115452,7640,7096,14964,7852,209828,4300,32280,58608,23280,5508,172180,3228,232412,600,7812,14584,22544,0,3880376,39608,6196,7464,10900,9160,92456,5084,27176,22380,24688,7700,215644,3192,99848,1024,16524,26236,29236,0,4593776,10608,11016,11140,13048,10704,11736,7552,55116,11768,10752,11576,283020,4372,83956,0,68156,35576,51736,0,5223824,14652,12356,5772,13672,12036,10620,7688,50572,11424,10664,10560,257516,3632,93688,304,83400,46948,45804,0,5623628,19224,7584,168,11332,10868,12164,5852,37112,13836,13368,8552,198340,608,97572,2896,101996,59420,36716,0,5115080,17616,1520,376,3284,4352,12180,3588,46620,12248,13148,10424,225452,2852,97136,708,80568,55216,38996,0,5149848,23708,2268,4344,1496,0,26300,3836,63840,13536,12604,13812,279684,6136,114280,1700,83620,50408,51508,0,5080536,20376,3424,32,364,2708,15076,8540,57796,12592,9408,12588,288760,12236,120944,2584,85576,60876,52020,3740,4248964,61692,9564,848,11796,12148,62276,9432,54604,24328,7704,10624,229600,4744,239436,1280,55580,67888,50032,97600,4712436,258332,9576,4592,10320,10544,409300,8628,46060,149448,8860,7760,184648,2760,637844,500,76348,76788,43576,11576,4484696,135248,9196,6088,10192,10864,267656,8188,45712,85312,7788,9624,197508,2104,389416,0,53808,63220,38416,9096,4428264,143932,11084,6804,12692,11384,290444,7772,47728,83372,8692,10860,190416,3460,376824,0,49532,63232,38464,2780,5148608,130648,15576,9160,15556,14232,250268,10808,60176,62056,13164,12996,231600,4108,326800,624,60796,76452,47532],\"sizemode\":\"area\",\"sizeref\":5294.0325,\"symbol\":\"circle\"},\"mode\":\"markers+text\",\"name\":\"\",\"showlegend\":false,\"text\":[\"Enonteki\\u00f6\",\"Helsinki-Vantaa\",\"Ivalo\",\"Joensuu\",\"Jyv\\u00e4skyl\\u00e4\",\"Kajaani\",\"Kemi-Tornio\",\"Kittil\\u00e4\",\"Kokkola-Pietarsaari\",\"Kuopio\",\"Kuusamo\",\"Lappeenranta\",\"Mariehamn\",\"Oulu\",\"Pori\",\"Rovaniemi\",\"Savonlinna\",\"Tampere-Pirkkala\",\"Turku\",\"Vaasa\",\"Enonteki\\u00f6\",\"Helsinki-Vantaa\",\"Ivalo\",\"Joensuu\",\"Jyv\\u00e4skyl\\u00e4\",\"Kajaani\",\"Kemi-Tornio\",\"Kittil\\u00e4\",\"Kokkola-Pietarsaari\",\"Kuopio\",\"Kuusamo\",\"Lappeenranta\",\"Mariehamn\",\"Oulu\",\"Pori\",\"Rovaniemi\",\"Savonlinna\",\"Tampere-Pirkkala\",\"Turku\",\"Vaasa\",\"Enonteki\\u00f6\",\"Helsinki-Vantaa\",\"Ivalo\",\"Joensuu\",\"Jyv\\u00e4skyl\\u00e4\",\"Kajaani\",\"Kemi-Tornio\",\"Kittil\\u00e4\",\"Kokkola-Pietarsaari\",\"Kuopio\",\"Kuusamo\",\"Lappeenranta\",\"Mariehamn\",\"Oulu\",\"Pori\",\"Rovaniemi\",\"Savonlinna\",\"Tampere-Pirkkala\",\"Turku\",\"Vaasa\",\"Enonteki\\u00f6\",\"Helsinki-Vantaa\",\"Ivalo\",\"Joensuu\",\"Jyv\\u00e4skyl\\u00e4\",\"Kajaani\",\"Kemi-Tornio\",\"Kittil\\u00e4\",\"Kokkola-Pietarsaari\",\"Kuopio\",\"Kuusamo\",\"Lappeenranta\",\"Mariehamn\",\"Oulu\",\"Pori\",\"Rovaniemi\",\"Savonlinna\",\"Tampere-Pirkkala\",\"Turku\",\"Vaasa\",\"Enonteki\\u00f6\",\"Helsinki-Vantaa\",\"Ivalo\",\"Joensuu\",\"Jyv\\u00e4skyl\\u00e4\",\"Kajaani\",\"Kemi-Tornio\",\"Kittil\\u00e4\",\"Kokkola-Pietarsaari\",\"Kuopio\",\"Kuusamo\",\"Lappeenranta\",\"Mariehamn\",\"Oulu\",\"Pori\",\"Rovaniemi\",\"Savonlinna\",\"Tampere-Pirkkala\",\"Turku\",\"Vaasa\",\"Enonteki\\u00f6\",\"Helsinki-Vantaa\",\"Ivalo\",\"Joensuu\",\"Jyv\\u00e4skyl\\u00e4\",\"Kajaani\",\"Kemi-Tornio\",\"Kittil\\u00e4\",\"Kokkola-Pietarsaari\",\"Kuopio\",\"Kuusamo\",\"Lappeenranta\",\"Mariehamn\",\"Oulu\",\"Pori\",\"Rovaniemi\",\"Savonlinna\",\"Tampere-Pirkkala\",\"Turku\",\"Vaasa\",\"Enonteki\\u00f6\",\"Helsinki-Vantaa\",\"Ivalo\",\"Joensuu\",\"Jyv\\u00e4skyl\\u00e4\",\"Kajaani\",\"Kemi-Tornio\",\"Kittil\\u00e4\",\"Kokkola-Pietarsaari\",\"Kuopio\",\"Kuusamo\",\"Lappeenranta\",\"Mariehamn\",\"Oulu\",\"Pori\",\"Rovaniemi\",\"Savonlinna\",\"Tampere-Pirkkala\",\"Turku\",\"Vaasa\",\"Enonteki\\u00f6\",\"Helsinki-Vantaa\",\"Ivalo\",\"Joensuu\",\"Jyv\\u00e4skyl\\u00e4\",\"Kajaani\",\"Kemi-Tornio\",\"Kittil\\u00e4\",\"Kokkola-Pietarsaari\",\"Kuopio\",\"Kuusamo\",\"Lappeenranta\",\"Mariehamn\",\"Oulu\",\"Pori\",\"Rovaniemi\",\"Savonlinna\",\"Tampere-Pirkkala\",\"Turku\",\"Vaasa\",\"Enonteki\\u00f6\",\"Helsinki-Vantaa\",\"Ivalo\",\"Joensuu\",\"Jyv\\u00e4skyl\\u00e4\",\"Kajaani\",\"Kemi-Tornio\",\"Kittil\\u00e4\",\"Kokkola-Pietarsaari\",\"Kuopio\",\"Kuusamo\",\"Lappeenranta\",\"Mariehamn\",\"Oulu\",\"Pori\",\"Rovaniemi\",\"Savonlinna\",\"Tampere-Pirkkala\",\"Turku\",\"Vaasa\",\"Enonteki\\u00f6\",\"Helsinki-Vantaa\",\"Ivalo\",\"Joensuu\",\"Jyv\\u00e4skyl\\u00e4\",\"Kajaani\",\"Kemi-Tornio\",\"Kittil\\u00e4\",\"Kokkola-Pietarsaari\",\"Kuopio\",\"Kuusamo\",\"Lappeenranta\",\"Mariehamn\",\"Oulu\",\"Pori\",\"Rovaniemi\",\"Savonlinna\",\"Tampere-Pirkkala\",\"Turku\",\"Vaasa\",\"Enonteki\\u00f6\",\"Helsinki-Vantaa\",\"Ivalo\",\"Joensuu\",\"Jyv\\u00e4skyl\\u00e4\",\"Kajaani\",\"Kemi-Tornio\",\"Kittil\\u00e4\",\"Kokkola-Pietarsaari\",\"Kuopio\",\"Kuusamo\",\"Lappeenranta\",\"Mariehamn\",\"Oulu\",\"Pori\",\"Rovaniemi\",\"Savonlinna\",\"Tampere-Pirkkala\",\"Turku\",\"Vaasa\",\"Enonteki\\u00f6\",\"Helsinki-Vantaa\",\"Ivalo\",\"Joensuu\",\"Jyv\\u00e4skyl\\u00e4\",\"Kajaani\",\"Kemi-Tornio\",\"Kittil\\u00e4\",\"Kokkola-Pietarsaari\",\"Kuopio\",\"Kuusamo\",\"Lappeenranta\",\"Mariehamn\",\"Oulu\",\"Pori\",\"Rovaniemi\",\"Savonlinna\",\"Tampere-Pirkkala\",\"Turku\",\"Vaasa\",\"Enonteki\\u00f6\",\"Helsinki-Vantaa\",\"Ivalo\",\"Joensuu\",\"Jyv\\u00e4skyl\\u00e4\",\"Kajaani\",\"Kemi-Tornio\",\"Kittil\\u00e4\",\"Kokkola-Pietarsaari\",\"Kuopio\",\"Kuusamo\",\"Lappeenranta\",\"Mariehamn\",\"Oulu\",\"Pori\",\"Rovaniemi\",\"Savonlinna\",\"Tampere-Pirkkala\",\"Turku\",\"Vaasa\",\"Enonteki\\u00f6\",\"Helsinki-Vantaa\",\"Ivalo\",\"Joensuu\",\"Jyv\\u00e4skyl\\u00e4\",\"Kajaani\",\"Kemi-Tornio\",\"Kittil\\u00e4\",\"Kokkola-Pietarsaari\",\"Kuopio\",\"Kuusamo\",\"Lappeenranta\",\"Mariehamn\",\"Oulu\",\"Pori\",\"Rovaniemi\",\"Savonlinna\",\"Tampere-Pirkkala\",\"Turku\",\"Vaasa\",\"Enonteki\\u00f6\",\"Helsinki-Vantaa\",\"Ivalo\",\"Joensuu\",\"Jyv\\u00e4skyl\\u00e4\",\"Kajaani\",\"Kemi-Tornio\",\"Kittil\\u00e4\",\"Kokkola-Pietarsaari\",\"Kuopio\",\"Kuusamo\",\"Lappeenranta\",\"Mariehamn\",\"Oulu\",\"Pori\",\"Rovaniemi\",\"Savonlinna\",\"Tampere-Pirkkala\",\"Turku\",\"Vaasa\",\"Enonteki\\u00f6\",\"Helsinki-Vantaa\",\"Ivalo\",\"Joensuu\",\"Jyv\\u00e4skyl\\u00e4\",\"Kajaani\",\"Kemi-Tornio\",\"Kittil\\u00e4\",\"Kokkola-Pietarsaari\",\"Kuopio\",\"Kuusamo\",\"Lappeenranta\",\"Mariehamn\",\"Oulu\",\"Pori\",\"Rovaniemi\",\"Savonlinna\",\"Tampere-Pirkkala\",\"Turku\",\"Vaasa\",\"Enonteki\\u00f6\",\"Helsinki-Vantaa\",\"Ivalo\",\"Joensuu\",\"Jyv\\u00e4skyl\\u00e4\",\"Kajaani\",\"Kemi-Tornio\",\"Kittil\\u00e4\",\"Kokkola-Pietarsaari\",\"Kuopio\",\"Kuusamo\",\"Lappeenranta\",\"Mariehamn\",\"Oulu\",\"Pori\",\"Rovaniemi\",\"Savonlinna\",\"Tampere-Pirkkala\",\"Turku\",\"Vaasa\",\"Enonteki\\u00f6\",\"Helsinki-Vantaa\",\"Ivalo\",\"Joensuu\",\"Jyv\\u00e4skyl\\u00e4\",\"Kajaani\",\"Kemi-Tornio\",\"Kittil\\u00e4\",\"Kokkola-Pietarsaari\",\"Kuopio\",\"Kuusamo\",\"Lappeenranta\",\"Mariehamn\",\"Oulu\",\"Pori\",\"Rovaniemi\",\"Savonlinna\",\"Tampere-Pirkkala\",\"Turku\",\"Vaasa\",\"Enonteki\\u00f6\",\"Helsinki-Vantaa\",\"Ivalo\",\"Joensuu\",\"Jyv\\u00e4skyl\\u00e4\",\"Kajaani\",\"Kemi-Tornio\",\"Kittil\\u00e4\",\"Kokkola-Pietarsaari\",\"Kuopio\",\"Kuusamo\",\"Lappeenranta\",\"Mariehamn\",\"Oulu\",\"Pori\",\"Rovaniemi\",\"Savonlinna\",\"Tampere-Pirkkala\",\"Turku\",\"Vaasa\",\"Enonteki\\u00f6\",\"Helsinki-Vantaa\",\"Ivalo\",\"Joensuu\",\"Jyv\\u00e4skyl\\u00e4\",\"Kajaani\",\"Kemi-Tornio\",\"Kittil\\u00e4\",\"Kokkola-Pietarsaari\",\"Kuopio\",\"Kuusamo\",\"Lappeenranta\",\"Mariehamn\",\"Oulu\",\"Pori\",\"Rovaniemi\",\"Savonlinna\",\"Tampere-Pirkkala\",\"Turku\",\"Vaasa\",\"Enonteki\\u00f6\",\"Helsinki-Vantaa\",\"Ivalo\",\"Joensuu\",\"Jyv\\u00e4skyl\\u00e4\",\"Kajaani\",\"Kemi-Tornio\",\"Kittil\\u00e4\",\"Kokkola-Pietarsaari\",\"Kuopio\",\"Kuusamo\",\"Lappeenranta\",\"Mariehamn\",\"Oulu\",\"Pori\",\"Rovaniemi\",\"Savonlinna\",\"Tampere-Pirkkala\",\"Turku\",\"Vaasa\",\"Enonteki\\u00f6\",\"Helsinki-Vantaa\",\"Ivalo\",\"Joensuu\",\"Jyv\\u00e4skyl\\u00e4\",\"Kajaani\",\"Kemi-Tornio\",\"Kittil\\u00e4\",\"Kokkola-Pietarsaari\",\"Kuopio\",\"Kuusamo\",\"Lappeenranta\",\"Mariehamn\",\"Oulu\",\"Pori\",\"Rovaniemi\",\"Savonlinna\",\"Tampere-Pirkkala\",\"Turku\",\"Vaasa\",\"Enonteki\\u00f6\",\"Helsinki-Vantaa\",\"Ivalo\",\"Joensuu\",\"Jyv\\u00e4skyl\\u00e4\",\"Kajaani\",\"Kemi-Tornio\",\"Kittil\\u00e4\",\"Kokkola-Pietarsaari\",\"Kuopio\",\"Kuusamo\",\"Lappeenranta\",\"Mariehamn\",\"Oulu\",\"Pori\",\"Rovaniemi\",\"Savonlinna\",\"Tampere-Pirkkala\",\"Turku\",\"Vaasa\",\"Enonteki\\u00f6\",\"Helsinki-Vantaa\",\"Ivalo\",\"Joensuu\",\"Jyv\\u00e4skyl\\u00e4\",\"Kajaani\",\"Kemi-Tornio\",\"Kittil\\u00e4\",\"Kokkola-Pietarsaari\",\"Kuopio\",\"Kuusamo\",\"Lappeenranta\",\"Mariehamn\",\"Oulu\",\"Pori\",\"Rovaniemi\",\"Savonlinna\",\"Tampere-Pirkkala\",\"Turku\",\"Vaasa\",\"Enonteki\\u00f6\",\"Helsinki-Vantaa\",\"Ivalo\",\"Joensuu\",\"Jyv\\u00e4skyl\\u00e4\",\"Kajaani\",\"Kemi-Tornio\",\"Kittil\\u00e4\",\"Kokkola-Pietarsaari\",\"Kuopio\",\"Kuusamo\",\"Lappeenranta\",\"Mariehamn\",\"Oulu\",\"Pori\",\"Rovaniemi\",\"Savonlinna\",\"Tampere-Pirkkala\",\"Turku\",\"Vaasa\",\"Enonteki\\u00f6\",\"Helsinki-Vantaa\",\"Ivalo\",\"Joensuu\",\"Jyv\\u00e4skyl\\u00e4\",\"Kajaani\",\"Kemi-Tornio\",\"Kittil\\u00e4\",\"Kokkola-Pietarsaari\",\"Kuopio\",\"Kuusamo\",\"Lappeenranta\",\"Mariehamn\",\"Oulu\",\"Pori\",\"Rovaniemi\",\"Savonlinna\",\"Tampere-Pirkkala\",\"Turku\",\"Vaasa\",\"Enonteki\\u00f6\",\"Helsinki-Vantaa\",\"Ivalo\",\"Joensuu\",\"Jyv\\u00e4skyl\\u00e4\",\"Kajaani\",\"Kemi-Tornio\",\"Kittil\\u00e4\",\"Kokkola-Pietarsaari\",\"Kuopio\",\"Kuusamo\",\"Lappeenranta\",\"Mariehamn\",\"Oulu\",\"Pori\",\"Rovaniemi\",\"Savonlinna\",\"Tampere-Pirkkala\",\"Turku\",\"Vaasa\",\"Enonteki\\u00f6\",\"Helsinki-Vantaa\",\"Ivalo\",\"Joensuu\",\"Jyv\\u00e4skyl\\u00e4\",\"Kajaani\",\"Kemi-Tornio\",\"Kittil\\u00e4\",\"Kokkola-Pietarsaari\",\"Kuopio\",\"Kuusamo\",\"Lappeenranta\",\"Mariehamn\",\"Oulu\",\"Pori\",\"Rovaniemi\",\"Savonlinna\",\"Tampere-Pirkkala\",\"Turku\",\"Vaasa\",\"Enonteki\\u00f6\",\"Helsinki-Vantaa\",\"Ivalo\",\"Joensuu\",\"Jyv\\u00e4skyl\\u00e4\",\"Kajaani\",\"Kemi-Tornio\",\"Kittil\\u00e4\",\"Kokkola-Pietarsaari\",\"Kuopio\",\"Kuusamo\",\"Lappeenranta\",\"Mariehamn\",\"Oulu\",\"Pori\",\"Rovaniemi\",\"Savonlinna\",\"Tampere-Pirkkala\",\"Turku\",\"Vaasa\",\"Enonteki\\u00f6\",\"Helsinki-Vantaa\",\"Ivalo\",\"Joensuu\",\"Jyv\\u00e4skyl\\u00e4\",\"Kajaani\",\"Kemi-Tornio\",\"Kittil\\u00e4\",\"Kokkola-Pietarsaari\",\"Kuopio\",\"Kuusamo\",\"Lappeenranta\",\"Mariehamn\",\"Oulu\",\"Pori\",\"Rovaniemi\",\"Savonlinna\",\"Tampere-Pirkkala\",\"Turku\",\"Vaasa\",\"Enonteki\\u00f6\",\"Helsinki-Vantaa\",\"Ivalo\",\"Joensuu\",\"Jyv\\u00e4skyl\\u00e4\",\"Kajaani\",\"Kemi-Tornio\",\"Kittil\\u00e4\",\"Kokkola-Pietarsaari\",\"Kuopio\",\"Kuusamo\",\"Lappeenranta\",\"Mariehamn\",\"Oulu\",\"Pori\",\"Rovaniemi\",\"Savonlinna\",\"Tampere-Pirkkala\",\"Turku\",\"Vaasa\",\"Enonteki\\u00f6\",\"Helsinki-Vantaa\",\"Ivalo\",\"Joensuu\",\"Jyv\\u00e4skyl\\u00e4\",\"Kajaani\",\"Kemi-Tornio\",\"Kittil\\u00e4\",\"Kokkola-Pietarsaari\",\"Kuopio\",\"Kuusamo\",\"Lappeenranta\",\"Mariehamn\",\"Oulu\",\"Pori\",\"Rovaniemi\",\"Savonlinna\",\"Tampere-Pirkkala\",\"Turku\",\"Vaasa\",\"Enonteki\\u00f6\",\"Helsinki-Vantaa\",\"Ivalo\",\"Joensuu\",\"Jyv\\u00e4skyl\\u00e4\",\"Kajaani\",\"Kemi-Tornio\",\"Kittil\\u00e4\",\"Kokkola-Pietarsaari\",\"Kuopio\",\"Kuusamo\",\"Lappeenranta\",\"Mariehamn\",\"Oulu\",\"Pori\",\"Rovaniemi\",\"Savonlinna\",\"Tampere-Pirkkala\",\"Turku\",\"Vaasa\",\"Enonteki\\u00f6\",\"Helsinki-Vantaa\",\"Ivalo\",\"Joensuu\",\"Jyv\\u00e4skyl\\u00e4\",\"Kajaani\",\"Kemi-Tornio\",\"Kittil\\u00e4\",\"Kokkola-Pietarsaari\",\"Kuopio\",\"Kuusamo\",\"Lappeenranta\",\"Mariehamn\",\"Oulu\",\"Pori\",\"Rovaniemi\",\"Savonlinna\",\"Tampere-Pirkkala\",\"Turku\",\"Vaasa\",\"Enonteki\\u00f6\",\"Helsinki-Vantaa\",\"Ivalo\",\"Joensuu\",\"Jyv\\u00e4skyl\\u00e4\",\"Kajaani\",\"Kemi-Tornio\",\"Kittil\\u00e4\",\"Kokkola-Pietarsaari\",\"Kuopio\",\"Kuusamo\",\"Lappeenranta\",\"Mariehamn\",\"Oulu\",\"Pori\",\"Rovaniemi\",\"Savonlinna\",\"Tampere-Pirkkala\",\"Turku\",\"Vaasa\",\"Enonteki\\u00f6\",\"Helsinki-Vantaa\",\"Ivalo\",\"Joensuu\",\"Jyv\\u00e4skyl\\u00e4\",\"Kajaani\",\"Kemi-Tornio\",\"Kittil\\u00e4\",\"Kokkola-Pietarsaari\",\"Kuopio\",\"Kuusamo\",\"Lappeenranta\",\"Mariehamn\",\"Oulu\",\"Pori\",\"Rovaniemi\",\"Savonlinna\",\"Tampere-Pirkkala\",\"Turku\",\"Vaasa\",\"Enonteki\\u00f6\",\"Helsinki-Vantaa\",\"Ivalo\",\"Joensuu\",\"Jyv\\u00e4skyl\\u00e4\",\"Kajaani\",\"Kemi-Tornio\",\"Kittil\\u00e4\",\"Kokkola-Pietarsaari\",\"Kuopio\",\"Kuusamo\",\"Lappeenranta\",\"Mariehamn\",\"Oulu\",\"Pori\",\"Rovaniemi\",\"Savonlinna\",\"Tampere-Pirkkala\",\"Turku\",\"Vaasa\",\"Enonteki\\u00f6\",\"Helsinki-Vantaa\",\"Ivalo\",\"Joensuu\",\"Jyv\\u00e4skyl\\u00e4\",\"Kajaani\",\"Kemi-Tornio\",\"Kittil\\u00e4\",\"Kokkola-Pietarsaari\",\"Kuopio\",\"Kuusamo\",\"Lappeenranta\",\"Mariehamn\",\"Oulu\",\"Pori\",\"Rovaniemi\",\"Savonlinna\",\"Tampere-Pirkkala\",\"Turku\",\"Vaasa\",\"Enonteki\\u00f6\",\"Helsinki-Vantaa\",\"Ivalo\",\"Joensuu\",\"Jyv\\u00e4skyl\\u00e4\",\"Kajaani\",\"Kemi-Tornio\",\"Kittil\\u00e4\",\"Kokkola-Pietarsaari\",\"Kuopio\",\"Kuusamo\",\"Lappeenranta\",\"Mariehamn\",\"Oulu\",\"Pori\",\"Rovaniemi\",\"Savonlinna\",\"Tampere-Pirkkala\",\"Turku\",\"Vaasa\",\"Enonteki\\u00f6\",\"Helsinki-Vantaa\",\"Ivalo\",\"Joensuu\",\"Jyv\\u00e4skyl\\u00e4\",\"Kajaani\",\"Kemi-Tornio\",\"Kittil\\u00e4\",\"Kokkola-Pietarsaari\",\"Kuopio\",\"Kuusamo\",\"Lappeenranta\",\"Mariehamn\",\"Oulu\",\"Pori\",\"Rovaniemi\",\"Savonlinna\",\"Tampere-Pirkkala\",\"Turku\",\"Vaasa\",\"Enonteki\\u00f6\",\"Helsinki-Vantaa\",\"Ivalo\",\"Joensuu\",\"Jyv\\u00e4skyl\\u00e4\",\"Kajaani\",\"Kemi-Tornio\",\"Kittil\\u00e4\",\"Kokkola-Pietarsaari\",\"Kuopio\",\"Kuusamo\",\"Lappeenranta\",\"Mariehamn\",\"Oulu\",\"Pori\",\"Rovaniemi\",\"Savonlinna\",\"Tampere-Pirkkala\",\"Turku\",\"Vaasa\",\"Enonteki\\u00f6\",\"Helsinki-Vantaa\",\"Ivalo\",\"Joensuu\",\"Jyv\\u00e4skyl\\u00e4\",\"Kajaani\",\"Kemi-Tornio\",\"Kittil\\u00e4\",\"Kokkola-Pietarsaari\",\"Kuopio\",\"Kuusamo\",\"Lappeenranta\",\"Mariehamn\",\"Oulu\",\"Pori\",\"Rovaniemi\",\"Savonlinna\",\"Tampere-Pirkkala\",\"Turku\",\"Vaasa\",\"Enonteki\\u00f6\",\"Helsinki-Vantaa\",\"Ivalo\",\"Joensuu\",\"Jyv\\u00e4skyl\\u00e4\",\"Kajaani\",\"Kemi-Tornio\",\"Kittil\\u00e4\",\"Kokkola-Pietarsaari\",\"Kuopio\",\"Kuusamo\",\"Lappeenranta\",\"Mariehamn\",\"Oulu\",\"Pori\",\"Rovaniemi\",\"Savonlinna\",\"Tampere-Pirkkala\",\"Turku\",\"Vaasa\",\"Enonteki\\u00f6\",\"Helsinki-Vantaa\",\"Ivalo\",\"Joensuu\",\"Jyv\\u00e4skyl\\u00e4\",\"Kajaani\",\"Kemi-Tornio\",\"Kittil\\u00e4\",\"Kokkola-Pietarsaari\",\"Kuopio\",\"Kuusamo\",\"Lappeenranta\",\"Mariehamn\",\"Oulu\",\"Pori\",\"Rovaniemi\",\"Savonlinna\",\"Tampere-Pirkkala\",\"Turku\",\"Vaasa\",\"Enonteki\\u00f6\",\"Helsinki-Vantaa\",\"Ivalo\",\"Joensuu\",\"Jyv\\u00e4skyl\\u00e4\",\"Kajaani\",\"Kemi-Tornio\",\"Kittil\\u00e4\",\"Kokkola-Pietarsaari\",\"Kuopio\",\"Kuusamo\",\"Lappeenranta\",\"Mariehamn\",\"Oulu\",\"Pori\",\"Rovaniemi\",\"Savonlinna\",\"Tampere-Pirkkala\",\"Turku\",\"Vaasa\",\"Enonteki\\u00f6\",\"Helsinki-Vantaa\",\"Ivalo\",\"Joensuu\",\"Jyv\\u00e4skyl\\u00e4\",\"Kajaani\",\"Kemi-Tornio\",\"Kittil\\u00e4\",\"Kokkola-Pietarsaari\",\"Kuopio\",\"Kuusamo\",\"Lappeenranta\",\"Mariehamn\",\"Oulu\",\"Pori\",\"Rovaniemi\",\"Savonlinna\",\"Tampere-Pirkkala\",\"Turku\",\"Vaasa\",\"Enonteki\\u00f6\",\"Helsinki-Vantaa\",\"Ivalo\",\"Joensuu\",\"Jyv\\u00e4skyl\\u00e4\",\"Kajaani\",\"Kemi-Tornio\",\"Kittil\\u00e4\",\"Kokkola-Pietarsaari\",\"Kuopio\",\"Kuusamo\",\"Lappeenranta\",\"Mariehamn\",\"Oulu\",\"Pori\",\"Rovaniemi\",\"Savonlinna\",\"Tampere-Pirkkala\",\"Turku\",\"Vaasa\",\"Enonteki\\u00f6\",\"Helsinki-Vantaa\",\"Ivalo\",\"Joensuu\",\"Jyv\\u00e4skyl\\u00e4\",\"Kajaani\",\"Kemi-Tornio\",\"Kittil\\u00e4\",\"Kokkola-Pietarsaari\",\"Kuopio\",\"Kuusamo\",\"Lappeenranta\",\"Mariehamn\",\"Oulu\",\"Pori\",\"Rovaniemi\",\"Savonlinna\",\"Tampere-Pirkkala\",\"Turku\",\"Vaasa\",\"Enonteki\\u00f6\",\"Helsinki-Vantaa\",\"Ivalo\",\"Joensuu\",\"Jyv\\u00e4skyl\\u00e4\",\"Kajaani\",\"Kemi-Tornio\",\"Kittil\\u00e4\",\"Kokkola-Pietarsaari\",\"Kuopio\",\"Kuusamo\",\"Lappeenranta\",\"Mariehamn\",\"Oulu\",\"Pori\",\"Rovaniemi\",\"Savonlinna\",\"Tampere-Pirkkala\",\"Turku\",\"Vaasa\",\"Enonteki\\u00f6\",\"Helsinki-Vantaa\",\"Ivalo\",\"Joensuu\",\"Jyv\\u00e4skyl\\u00e4\",\"Kajaani\",\"Kemi-Tornio\",\"Kittil\\u00e4\",\"Kokkola-Pietarsaari\",\"Kuopio\",\"Kuusamo\",\"Lappeenranta\",\"Mariehamn\",\"Oulu\",\"Pori\",\"Rovaniemi\",\"Savonlinna\",\"Tampere-Pirkkala\",\"Turku\",\"Vaasa\",\"Enonteki\\u00f6\",\"Helsinki-Vantaa\",\"Ivalo\",\"Joensuu\",\"Jyv\\u00e4skyl\\u00e4\",\"Kajaani\",\"Kemi-Tornio\",\"Kittil\\u00e4\",\"Kokkola-Pietarsaari\",\"Kuopio\",\"Kuusamo\",\"Lappeenranta\",\"Mariehamn\",\"Oulu\",\"Pori\",\"Rovaniemi\",\"Savonlinna\",\"Tampere-Pirkkala\",\"Turku\",\"Vaasa\"],\"type\":\"scattergeo\",\"textfont\":{\"size\":8}}],                        {\"template\":{\"data\":{\"histogram2dcontour\":[{\"type\":\"histogram2dcontour\",\"colorbar\":{\"outlinewidth\":0,\"ticks\":\"\"},\"colorscale\":[[0.0,\"#0d0887\"],[0.1111111111111111,\"#46039f\"],[0.2222222222222222,\"#7201a8\"],[0.3333333333333333,\"#9c179e\"],[0.4444444444444444,\"#bd3786\"],[0.5555555555555556,\"#d8576b\"],[0.6666666666666666,\"#ed7953\"],[0.7777777777777778,\"#fb9f3a\"],[0.8888888888888888,\"#fdca26\"],[1.0,\"#f0f921\"]]}],\"choropleth\":[{\"type\":\"choropleth\",\"colorbar\":{\"outlinewidth\":0,\"ticks\":\"\"}}],\"histogram2d\":[{\"type\":\"histogram2d\",\"colorbar\":{\"outlinewidth\":0,\"ticks\":\"\"},\"colorscale\":[[0.0,\"#0d0887\"],[0.1111111111111111,\"#46039f\"],[0.2222222222222222,\"#7201a8\"],[0.3333333333333333,\"#9c179e\"],[0.4444444444444444,\"#bd3786\"],[0.5555555555555556,\"#d8576b\"],[0.6666666666666666,\"#ed7953\"],[0.7777777777777778,\"#fb9f3a\"],[0.8888888888888888,\"#fdca26\"],[1.0,\"#f0f921\"]]}],\"heatmap\":[{\"type\":\"heatmap\",\"colorbar\":{\"outlinewidth\":0,\"ticks\":\"\"},\"colorscale\":[[0.0,\"#0d0887\"],[0.1111111111111111,\"#46039f\"],[0.2222222222222222,\"#7201a8\"],[0.3333333333333333,\"#9c179e\"],[0.4444444444444444,\"#bd3786\"],[0.5555555555555556,\"#d8576b\"],[0.6666666666666666,\"#ed7953\"],[0.7777777777777778,\"#fb9f3a\"],[0.8888888888888888,\"#fdca26\"],[1.0,\"#f0f921\"]]}],\"heatmapgl\":[{\"type\":\"heatmapgl\",\"colorbar\":{\"outlinewidth\":0,\"ticks\":\"\"},\"colorscale\":[[0.0,\"#0d0887\"],[0.1111111111111111,\"#46039f\"],[0.2222222222222222,\"#7201a8\"],[0.3333333333333333,\"#9c179e\"],[0.4444444444444444,\"#bd3786\"],[0.5555555555555556,\"#d8576b\"],[0.6666666666666666,\"#ed7953\"],[0.7777777777777778,\"#fb9f3a\"],[0.8888888888888888,\"#fdca26\"],[1.0,\"#f0f921\"]]}],\"contourcarpet\":[{\"type\":\"contourcarpet\",\"colorbar\":{\"outlinewidth\":0,\"ticks\":\"\"}}],\"contour\":[{\"type\":\"contour\",\"colorbar\":{\"outlinewidth\":0,\"ticks\":\"\"},\"colorscale\":[[0.0,\"#0d0887\"],[0.1111111111111111,\"#46039f\"],[0.2222222222222222,\"#7201a8\"],[0.3333333333333333,\"#9c179e\"],[0.4444444444444444,\"#bd3786\"],[0.5555555555555556,\"#d8576b\"],[0.6666666666666666,\"#ed7953\"],[0.7777777777777778,\"#fb9f3a\"],[0.8888888888888888,\"#fdca26\"],[1.0,\"#f0f921\"]]}],\"surface\":[{\"type\":\"surface\",\"colorbar\":{\"outlinewidth\":0,\"ticks\":\"\"},\"colorscale\":[[0.0,\"#0d0887\"],[0.1111111111111111,\"#46039f\"],[0.2222222222222222,\"#7201a8\"],[0.3333333333333333,\"#9c179e\"],[0.4444444444444444,\"#bd3786\"],[0.5555555555555556,\"#d8576b\"],[0.6666666666666666,\"#ed7953\"],[0.7777777777777778,\"#fb9f3a\"],[0.8888888888888888,\"#fdca26\"],[1.0,\"#f0f921\"]]}],\"mesh3d\":[{\"type\":\"mesh3d\",\"colorbar\":{\"outlinewidth\":0,\"ticks\":\"\"}}],\"scatter\":[{\"fillpattern\":{\"fillmode\":\"overlay\",\"size\":10,\"solidity\":0.2},\"type\":\"scatter\"}],\"parcoords\":[{\"type\":\"parcoords\",\"line\":{\"colorbar\":{\"outlinewidth\":0,\"ticks\":\"\"}}}],\"scatterpolargl\":[{\"type\":\"scatterpolargl\",\"marker\":{\"colorbar\":{\"outlinewidth\":0,\"ticks\":\"\"}}}],\"bar\":[{\"error_x\":{\"color\":\"#2a3f5f\"},\"error_y\":{\"color\":\"#2a3f5f\"},\"marker\":{\"line\":{\"color\":\"#E5ECF6\",\"width\":0.5},\"pattern\":{\"fillmode\":\"overlay\",\"size\":10,\"solidity\":0.2}},\"type\":\"bar\"}],\"scattergeo\":[{\"type\":\"scattergeo\",\"marker\":{\"colorbar\":{\"outlinewidth\":0,\"ticks\":\"\"}}}],\"scatterpolar\":[{\"type\":\"scatterpolar\",\"marker\":{\"colorbar\":{\"outlinewidth\":0,\"ticks\":\"\"}}}],\"histogram\":[{\"marker\":{\"pattern\":{\"fillmode\":\"overlay\",\"size\":10,\"solidity\":0.2}},\"type\":\"histogram\"}],\"scattergl\":[{\"type\":\"scattergl\",\"marker\":{\"colorbar\":{\"outlinewidth\":0,\"ticks\":\"\"}}}],\"scatter3d\":[{\"type\":\"scatter3d\",\"line\":{\"colorbar\":{\"outlinewidth\":0,\"ticks\":\"\"}},\"marker\":{\"colorbar\":{\"outlinewidth\":0,\"ticks\":\"\"}}}],\"scattermapbox\":[{\"type\":\"scattermapbox\",\"marker\":{\"colorbar\":{\"outlinewidth\":0,\"ticks\":\"\"}}}],\"scatterternary\":[{\"type\":\"scatterternary\",\"marker\":{\"colorbar\":{\"outlinewidth\":0,\"ticks\":\"\"}}}],\"scattercarpet\":[{\"type\":\"scattercarpet\",\"marker\":{\"colorbar\":{\"outlinewidth\":0,\"ticks\":\"\"}}}],\"carpet\":[{\"aaxis\":{\"endlinecolor\":\"#2a3f5f\",\"gridcolor\":\"white\",\"linecolor\":\"white\",\"minorgridcolor\":\"white\",\"startlinecolor\":\"#2a3f5f\"},\"baxis\":{\"endlinecolor\":\"#2a3f5f\",\"gridcolor\":\"white\",\"linecolor\":\"white\",\"minorgridcolor\":\"white\",\"startlinecolor\":\"#2a3f5f\"},\"type\":\"carpet\"}],\"table\":[{\"cells\":{\"fill\":{\"color\":\"#EBF0F8\"},\"line\":{\"color\":\"white\"}},\"header\":{\"fill\":{\"color\":\"#C8D4E3\"},\"line\":{\"color\":\"white\"}},\"type\":\"table\"}],\"barpolar\":[{\"marker\":{\"line\":{\"color\":\"#E5ECF6\",\"width\":0.5},\"pattern\":{\"fillmode\":\"overlay\",\"size\":10,\"solidity\":0.2}},\"type\":\"barpolar\"}],\"pie\":[{\"automargin\":true,\"type\":\"pie\"}]},\"layout\":{\"autotypenumbers\":\"strict\",\"colorway\":[\"#636efa\",\"#EF553B\",\"#00cc96\",\"#ab63fa\",\"#FFA15A\",\"#19d3f3\",\"#FF6692\",\"#B6E880\",\"#FF97FF\",\"#FECB52\"],\"font\":{\"color\":\"#2a3f5f\"},\"hovermode\":\"closest\",\"hoverlabel\":{\"align\":\"left\"},\"paper_bgcolor\":\"white\",\"plot_bgcolor\":\"#E5ECF6\",\"polar\":{\"bgcolor\":\"#E5ECF6\",\"angularaxis\":{\"gridcolor\":\"white\",\"linecolor\":\"white\",\"ticks\":\"\"},\"radialaxis\":{\"gridcolor\":\"white\",\"linecolor\":\"white\",\"ticks\":\"\"}},\"ternary\":{\"bgcolor\":\"#E5ECF6\",\"aaxis\":{\"gridcolor\":\"white\",\"linecolor\":\"white\",\"ticks\":\"\"},\"baxis\":{\"gridcolor\":\"white\",\"linecolor\":\"white\",\"ticks\":\"\"},\"caxis\":{\"gridcolor\":\"white\",\"linecolor\":\"white\",\"ticks\":\"\"}},\"coloraxis\":{\"colorbar\":{\"outlinewidth\":0,\"ticks\":\"\"}},\"colorscale\":{\"sequential\":[[0.0,\"#0d0887\"],[0.1111111111111111,\"#46039f\"],[0.2222222222222222,\"#7201a8\"],[0.3333333333333333,\"#9c179e\"],[0.4444444444444444,\"#bd3786\"],[0.5555555555555556,\"#d8576b\"],[0.6666666666666666,\"#ed7953\"],[0.7777777777777778,\"#fb9f3a\"],[0.8888888888888888,\"#fdca26\"],[1.0,\"#f0f921\"]],\"sequentialminus\":[[0.0,\"#0d0887\"],[0.1111111111111111,\"#46039f\"],[0.2222222222222222,\"#7201a8\"],[0.3333333333333333,\"#9c179e\"],[0.4444444444444444,\"#bd3786\"],[0.5555555555555556,\"#d8576b\"],[0.6666666666666666,\"#ed7953\"],[0.7777777777777778,\"#fb9f3a\"],[0.8888888888888888,\"#fdca26\"],[1.0,\"#f0f921\"]],\"diverging\":[[0,\"#8e0152\"],[0.1,\"#c51b7d\"],[0.2,\"#de77ae\"],[0.3,\"#f1b6da\"],[0.4,\"#fde0ef\"],[0.5,\"#f7f7f7\"],[0.6,\"#e6f5d0\"],[0.7,\"#b8e186\"],[0.8,\"#7fbc41\"],[0.9,\"#4d9221\"],[1,\"#276419\"]]},\"xaxis\":{\"gridcolor\":\"white\",\"linecolor\":\"white\",\"ticks\":\"\",\"title\":{\"standoff\":15},\"zerolinecolor\":\"white\",\"automargin\":true,\"zerolinewidth\":2},\"yaxis\":{\"gridcolor\":\"white\",\"linecolor\":\"white\",\"ticks\":\"\",\"title\":{\"standoff\":15},\"zerolinecolor\":\"white\",\"automargin\":true,\"zerolinewidth\":2},\"scene\":{\"xaxis\":{\"backgroundcolor\":\"#E5ECF6\",\"gridcolor\":\"white\",\"linecolor\":\"white\",\"showbackground\":true,\"ticks\":\"\",\"zerolinecolor\":\"white\",\"gridwidth\":2},\"yaxis\":{\"backgroundcolor\":\"#E5ECF6\",\"gridcolor\":\"white\",\"linecolor\":\"white\",\"showbackground\":true,\"ticks\":\"\",\"zerolinecolor\":\"white\",\"gridwidth\":2},\"zaxis\":{\"backgroundcolor\":\"#E5ECF6\",\"gridcolor\":\"white\",\"linecolor\":\"white\",\"showbackground\":true,\"ticks\":\"\",\"zerolinecolor\":\"white\",\"gridwidth\":2}},\"shapedefaults\":{\"line\":{\"color\":\"#2a3f5f\"}},\"annotationdefaults\":{\"arrowcolor\":\"#2a3f5f\",\"arrowhead\":0,\"arrowwidth\":1},\"geo\":{\"bgcolor\":\"white\",\"landcolor\":\"#E5ECF6\",\"subunitcolor\":\"white\",\"showland\":true,\"showlakes\":true,\"lakecolor\":\"white\"},\"title\":{\"x\":0.05},\"mapbox\":{\"style\":\"light\"}}},\"geo\":{\"domain\":{\"x\":[0.0,1.0],\"y\":[0.0,1.0]},\"projection\":{\"type\":\"natural earth\"},\"center\":{\"lon\":24,\"lat\":60},\"resolution\":50,\"showcoastlines\":true,\"coastlinecolor\":\"Black\",\"showland\":true,\"landcolor\":\"white\",\"scope\":\"europe\"},\"legend\":{\"tracegroupgap\":0,\"itemsizing\":\"constant\"},\"title\":{\"text\":\"Passenger Counts at Airports in Northern Europe\"}},                        {\"responsive\": true}                    ).then(function(){\n",
       "                            \n",
       "var gd = document.getElementById('8982ab32-3b6a-40c7-90fe-b4ba3bd7582c');\n",
       "var x = new MutationObserver(function (mutations, observer) {{\n",
       "        var display = window.getComputedStyle(gd).display;\n",
       "        if (!display || display === 'none') {{\n",
       "            console.log([gd, 'removed!']);\n",
       "            Plotly.purge(gd);\n",
       "            observer.disconnect();\n",
       "        }}\n",
       "}});\n",
       "\n",
       "// Listen for the removal of the full notebook cells\n",
       "var notebookContainer = gd.closest('#notebook-container');\n",
       "if (notebookContainer) {{\n",
       "    x.observe(notebookContainer, {childList: true});\n",
       "}}\n",
       "\n",
       "// Listen for the clearing of the current output cell\n",
       "var outputEl = gd.closest('.output');\n",
       "if (outputEl) {{\n",
       "    x.observe(outputEl, {childList: true});\n",
       "}}\n",
       "\n",
       "                        })                };                });            </script>        </div>"
      ]
     },
     "metadata": {},
     "output_type": "display_data"
    }
   ],
   "source": [
    "fig = px.scatter_geo(\n",
    "    merged_df,\n",
    "    lon='Airport Longitude',\n",
    "    lat='Airport Latitude',\n",
    "    size='Passengers Finland',\n",
    "    size_max=40,\n",
    "    text='Airports in Finland',  # Add airport names as text labels\n",
    "    projection='natural earth',\n",
    "    title='Passenger Counts at Airports in Northern Europe',\n",
    "    labels={'Passengers Finland': 'Passenger Count'},\n",
    "    template='plotly',\n",
    "    color_discrete_sequence=['blue']\n",
    ")\n",
    "\n",
    "fig.update_geos(\n",
    "    resolution=50,\n",
    "    showcoastlines=True,\n",
    "    coastlinecolor=\"Black\",\n",
    "    showland=True,\n",
    "    landcolor=\"white\",\n",
    "    scope='europe',  # Set the geographic scope to Europe\n",
    "    center=dict(lon=24, lat=60),  # Center the map on Northern Europe\n",
    ")\n",
    "\n",
    "fig.update_traces(\n",
    "    textfont=dict(size=8),  # Set the font size for airport names\n",
    ")\n",
    "\n",
    "fig.show()"
   ]
  },
  {
   "cell_type": "code",
   "execution_count": null,
   "id": "cf89c30e",
   "metadata": {},
   "outputs": [],
   "source": []
  },
  {
   "cell_type": "code",
   "execution_count": 40,
   "id": "ce9abee7",
   "metadata": {},
   "outputs": [
    {
     "data": {
      "text/html": [
       "<div>\n",
       "<style scoped>\n",
       "    .dataframe tbody tr th:only-of-type {\n",
       "        vertical-align: middle;\n",
       "    }\n",
       "\n",
       "    .dataframe tbody tr th {\n",
       "        vertical-align: top;\n",
       "    }\n",
       "\n",
       "    .dataframe thead th {\n",
       "        text-align: right;\n",
       "    }\n",
       "</style>\n",
       "<table border=\"1\" class=\"dataframe\">\n",
       "  <thead>\n",
       "    <tr style=\"text-align: right;\">\n",
       "      <th></th>\n",
       "      <th>Month</th>\n",
       "      <th>Passengers Finland</th>\n",
       "    </tr>\n",
       "  </thead>\n",
       "  <tbody>\n",
       "    <tr>\n",
       "      <th>0</th>\n",
       "      <td>2019M01</td>\n",
       "      <td>6299800</td>\n",
       "    </tr>\n",
       "    <tr>\n",
       "      <th>1</th>\n",
       "      <td>2019M02</td>\n",
       "      <td>6158928</td>\n",
       "    </tr>\n",
       "    <tr>\n",
       "      <th>2</th>\n",
       "      <td>2019M03</td>\n",
       "      <td>7031408</td>\n",
       "    </tr>\n",
       "    <tr>\n",
       "      <th>3</th>\n",
       "      <td>2019M04</td>\n",
       "      <td>7231532</td>\n",
       "    </tr>\n",
       "    <tr>\n",
       "      <th>4</th>\n",
       "      <td>2019M05</td>\n",
       "      <td>7782008</td>\n",
       "    </tr>\n",
       "  </tbody>\n",
       "</table>\n",
       "</div>"
      ],
      "text/plain": [
       "     Month  Passengers Finland\n",
       "0  2019M01             6299800\n",
       "1  2019M02             6158928\n",
       "2  2019M03             7031408\n",
       "3  2019M04             7231532\n",
       "4  2019M05             7782008"
      ]
     },
     "execution_count": 40,
     "metadata": {},
     "output_type": "execute_result"
    }
   ],
   "source": [
    "#Create two dataset for Finland, grouping Passengers and Freight in the capital and province\n",
    "\n",
    "# Create passenger and freight  dataset for Finland  capital\n",
    "# Filter on \"Helsinki-Vantaa\" airport\n",
    "df_Helsinki_Pass = Finland_gr_fil[Finland_gr_fil['Airports in Finland'] == 'Helsinki-Vantaa']\n",
    "\n",
    "# Group by Month and sum the values in Passengers Finland\n",
    "df_Helsinki_Pass = df_Helsinki_Pass.groupby('Month')['Passengers Finland'].sum().reset_index()\n",
    "\n",
    "# Print\n",
    "df_Helsinki_Pass.head()"
   ]
  },
  {
   "cell_type": "code",
   "execution_count": 41,
   "id": "e37a76fa",
   "metadata": {},
   "outputs": [
    {
     "data": {
      "text/html": [
       "<div>\n",
       "<style scoped>\n",
       "    .dataframe tbody tr th:only-of-type {\n",
       "        vertical-align: middle;\n",
       "    }\n",
       "\n",
       "    .dataframe tbody tr th {\n",
       "        vertical-align: top;\n",
       "    }\n",
       "\n",
       "    .dataframe thead th {\n",
       "        text-align: right;\n",
       "    }\n",
       "</style>\n",
       "<table border=\"1\" class=\"dataframe\">\n",
       "  <thead>\n",
       "    <tr style=\"text-align: right;\">\n",
       "      <th></th>\n",
       "      <th>Month</th>\n",
       "      <th>Freight Finland</th>\n",
       "    </tr>\n",
       "  </thead>\n",
       "  <tbody>\n",
       "    <tr>\n",
       "      <th>0</th>\n",
       "      <td>2019M01</td>\n",
       "      <td>63361</td>\n",
       "    </tr>\n",
       "    <tr>\n",
       "      <th>1</th>\n",
       "      <td>2019M02</td>\n",
       "      <td>58079</td>\n",
       "    </tr>\n",
       "    <tr>\n",
       "      <th>2</th>\n",
       "      <td>2019M03</td>\n",
       "      <td>72316</td>\n",
       "    </tr>\n",
       "    <tr>\n",
       "      <th>3</th>\n",
       "      <td>2019M04</td>\n",
       "      <td>72131</td>\n",
       "    </tr>\n",
       "    <tr>\n",
       "      <th>4</th>\n",
       "      <td>2019M05</td>\n",
       "      <td>78331</td>\n",
       "    </tr>\n",
       "  </tbody>\n",
       "</table>\n",
       "</div>"
      ],
      "text/plain": [
       "     Month  Freight Finland\n",
       "0  2019M01            63361\n",
       "1  2019M02            58079\n",
       "2  2019M03            72316\n",
       "3  2019M04            72131\n",
       "4  2019M05            78331"
      ]
     },
     "execution_count": 41,
     "metadata": {},
     "output_type": "execute_result"
    }
   ],
   "source": [
    "\n",
    "# Create  freight  dataset for Finland  capital\n",
    "# Filter on \"Helsinki-Vantaa\" airport\n",
    "df_Helsinki_Freight = Finland_gr_fil[Finland_gr_fil['Airports in Finland'] == 'Helsinki-Vantaa']\n",
    "\n",
    "# Group by Month and sum the values in Passengers Finland\n",
    "df_Helsinki_Freight = df_Helsinki_Freight.groupby('Month')['Freight Finland'].sum().reset_index()\n",
    "\n",
    "# Print \n",
    "df_Helsinki_Freight.head()"
   ]
  },
  {
   "cell_type": "code",
   "execution_count": 42,
   "id": "027519f4",
   "metadata": {},
   "outputs": [],
   "source": [
    "#Combine freight and passengers dataset for Helsinki\n",
    "merged_data_Helsinki = pd.merge(df_Helsinki_Freight, df_Helsinki_Pass, on=[\"Month\"], how=\"right\")\n",
    "# Rename 'Freight Finland' to Freight Helsinki\n",
    "merged_data_Helsinki.rename(columns={'Freight Finland': 'Freight Helsinki'}, inplace=True)\n",
    "# Rename 'Passengers Finland' to Passenger Helsinki\n",
    "merged_data_Helsinki.rename(columns={'Passengers Finland': 'Passengers Helsinki'}, inplace=True)\n",
    "#  Reset the index and drop the default index column\n",
    "merged_data_Helsinki = merged_data_Helsinki.reset_index(drop=True)\n"
   ]
  },
  {
   "cell_type": "code",
   "execution_count": 43,
   "id": "483e013e",
   "metadata": {},
   "outputs": [
    {
     "data": {
      "text/html": [
       "<div>\n",
       "<style scoped>\n",
       "    .dataframe tbody tr th:only-of-type {\n",
       "        vertical-align: middle;\n",
       "    }\n",
       "\n",
       "    .dataframe tbody tr th {\n",
       "        vertical-align: top;\n",
       "    }\n",
       "\n",
       "    .dataframe thead th {\n",
       "        text-align: right;\n",
       "    }\n",
       "</style>\n",
       "<table border=\"1\" class=\"dataframe\">\n",
       "  <thead>\n",
       "    <tr style=\"text-align: right;\">\n",
       "      <th></th>\n",
       "      <th>Month</th>\n",
       "      <th>Freight Helsinki</th>\n",
       "      <th>Passengers Helsinki</th>\n",
       "    </tr>\n",
       "  </thead>\n",
       "  <tbody>\n",
       "    <tr>\n",
       "      <th>0</th>\n",
       "      <td>2019M01</td>\n",
       "      <td>63361</td>\n",
       "      <td>6299800</td>\n",
       "    </tr>\n",
       "    <tr>\n",
       "      <th>1</th>\n",
       "      <td>2019M02</td>\n",
       "      <td>58079</td>\n",
       "      <td>6158928</td>\n",
       "    </tr>\n",
       "    <tr>\n",
       "      <th>2</th>\n",
       "      <td>2019M03</td>\n",
       "      <td>72316</td>\n",
       "      <td>7031408</td>\n",
       "    </tr>\n",
       "    <tr>\n",
       "      <th>3</th>\n",
       "      <td>2019M04</td>\n",
       "      <td>72131</td>\n",
       "      <td>7231532</td>\n",
       "    </tr>\n",
       "    <tr>\n",
       "      <th>4</th>\n",
       "      <td>2019M05</td>\n",
       "      <td>78331</td>\n",
       "      <td>7782008</td>\n",
       "    </tr>\n",
       "  </tbody>\n",
       "</table>\n",
       "</div>"
      ],
      "text/plain": [
       "     Month  Freight Helsinki  Passengers Helsinki\n",
       "0  2019M01             63361              6299800\n",
       "1  2019M02             58079              6158928\n",
       "2  2019M03             72316              7031408\n",
       "3  2019M04             72131              7231532\n",
       "4  2019M05             78331              7782008"
      ]
     },
     "execution_count": 43,
     "metadata": {},
     "output_type": "execute_result"
    }
   ],
   "source": [
    "merged_data_Helsinki.head()"
   ]
  },
  {
   "cell_type": "code",
   "execution_count": 44,
   "id": "257d2050",
   "metadata": {},
   "outputs": [
    {
     "data": {
      "text/html": [
       "<div>\n",
       "<style scoped>\n",
       "    .dataframe tbody tr th:only-of-type {\n",
       "        vertical-align: middle;\n",
       "    }\n",
       "\n",
       "    .dataframe tbody tr th {\n",
       "        vertical-align: top;\n",
       "    }\n",
       "\n",
       "    .dataframe thead th {\n",
       "        text-align: right;\n",
       "    }\n",
       "</style>\n",
       "<table border=\"1\" class=\"dataframe\">\n",
       "  <thead>\n",
       "    <tr style=\"text-align: right;\">\n",
       "      <th></th>\n",
       "      <th>Month</th>\n",
       "      <th>Passengers</th>\n",
       "    </tr>\n",
       "  </thead>\n",
       "  <tbody>\n",
       "    <tr>\n",
       "      <th>0</th>\n",
       "      <td>2013M01</td>\n",
       "      <td>19657800.0</td>\n",
       "    </tr>\n",
       "    <tr>\n",
       "      <th>1</th>\n",
       "      <td>2013M02</td>\n",
       "      <td>20100200.0</td>\n",
       "    </tr>\n",
       "    <tr>\n",
       "      <th>2</th>\n",
       "      <td>2013M03</td>\n",
       "      <td>26334900.0</td>\n",
       "    </tr>\n",
       "    <tr>\n",
       "      <th>3</th>\n",
       "      <td>2013M04</td>\n",
       "      <td>27151000.0</td>\n",
       "    </tr>\n",
       "    <tr>\n",
       "      <th>4</th>\n",
       "      <td>2013M05</td>\n",
       "      <td>30912800.0</td>\n",
       "    </tr>\n",
       "  </tbody>\n",
       "</table>\n",
       "</div>"
      ],
      "text/plain": [
       "     Month  Passengers\n",
       "0  2013M01  19657800.0\n",
       "1  2013M02  20100200.0\n",
       "2  2013M03  26334900.0\n",
       "3  2013M04  27151000.0\n",
       "4  2013M05  30912800.0"
      ]
     },
     "execution_count": 44,
     "metadata": {},
     "output_type": "execute_result"
    }
   ],
   "source": [
    "#Create two dataset for Ireland, grouping Passengers and Freight in the capital and province\n",
    "\n",
    "# Create passenger and freight  dataset for Finland  capital\n",
    "# Filter on \"Helsinki-Vantaa\" airport\n",
    "df_Dublin_Pass = Ireland_gr_fil[Ireland_gr_fil['Airports in Ireland'] == 'Dublin']\n",
    "\n",
    "# Group by Month and sum the values in Passengers Finland\n",
    "df_Dublin_Pass = df_Dublin_Pass.groupby('Month')['Passengers'].sum().reset_index()\n",
    "\n",
    "# Print\n",
    "df_Dublin_Pass.head()"
   ]
  },
  {
   "cell_type": "code",
   "execution_count": 45,
   "id": "7205e78d",
   "metadata": {},
   "outputs": [
    {
     "data": {
      "text/html": [
       "<div>\n",
       "<style scoped>\n",
       "    .dataframe tbody tr th:only-of-type {\n",
       "        vertical-align: middle;\n",
       "    }\n",
       "\n",
       "    .dataframe tbody tr th {\n",
       "        vertical-align: top;\n",
       "    }\n",
       "\n",
       "    .dataframe thead th {\n",
       "        text-align: right;\n",
       "    }\n",
       "</style>\n",
       "<table border=\"1\" class=\"dataframe\">\n",
       "  <thead>\n",
       "    <tr style=\"text-align: right;\">\n",
       "      <th></th>\n",
       "      <th>Month</th>\n",
       "      <th>Freight</th>\n",
       "    </tr>\n",
       "  </thead>\n",
       "  <tbody>\n",
       "    <tr>\n",
       "      <th>0</th>\n",
       "      <td>2013M01</td>\n",
       "      <td>141900.0</td>\n",
       "    </tr>\n",
       "    <tr>\n",
       "      <th>1</th>\n",
       "      <td>2013M02</td>\n",
       "      <td>134300.0</td>\n",
       "    </tr>\n",
       "    <tr>\n",
       "      <th>2</th>\n",
       "      <td>2013M03</td>\n",
       "      <td>142400.0</td>\n",
       "    </tr>\n",
       "    <tr>\n",
       "      <th>3</th>\n",
       "      <td>2013M04</td>\n",
       "      <td>134200.0</td>\n",
       "    </tr>\n",
       "    <tr>\n",
       "      <th>4</th>\n",
       "      <td>2013M05</td>\n",
       "      <td>141600.0</td>\n",
       "    </tr>\n",
       "  </tbody>\n",
       "</table>\n",
       "</div>"
      ],
      "text/plain": [
       "     Month   Freight\n",
       "0  2013M01  141900.0\n",
       "1  2013M02  134300.0\n",
       "2  2013M03  142400.0\n",
       "3  2013M04  134200.0\n",
       "4  2013M05  141600.0"
      ]
     },
     "execution_count": 45,
     "metadata": {},
     "output_type": "execute_result"
    }
   ],
   "source": [
    "# Create  freight  dataset for Ireland's capital\n",
    "# Filter on \"Dublin\" airport\n",
    "df_Dublin_Freight = Ireland_gr_fil[Ireland_gr_fil['Airports in Ireland'] == 'Dublin']\n",
    "\n",
    "# Group by Month and sum the values in Passengers Finland\n",
    "df_Dublin_Freight = df_Dublin_Freight.groupby('Month')['Freight'].sum().reset_index()\n",
    "\n",
    "# Print \n",
    "df_Dublin_Freight.head()"
   ]
  },
  {
   "cell_type": "code",
   "execution_count": 46,
   "id": "911fff3f",
   "metadata": {},
   "outputs": [
    {
     "data": {
      "text/html": [
       "<div>\n",
       "<style scoped>\n",
       "    .dataframe tbody tr th:only-of-type {\n",
       "        vertical-align: middle;\n",
       "    }\n",
       "\n",
       "    .dataframe tbody tr th {\n",
       "        vertical-align: top;\n",
       "    }\n",
       "\n",
       "    .dataframe thead th {\n",
       "        text-align: right;\n",
       "    }\n",
       "</style>\n",
       "<table border=\"1\" class=\"dataframe\">\n",
       "  <thead>\n",
       "    <tr style=\"text-align: right;\">\n",
       "      <th></th>\n",
       "      <th>Month</th>\n",
       "      <th>Freight Dublin</th>\n",
       "      <th>Passengers Dublin</th>\n",
       "    </tr>\n",
       "  </thead>\n",
       "  <tbody>\n",
       "    <tr>\n",
       "      <th>0</th>\n",
       "      <td>2013M01</td>\n",
       "      <td>141900.0</td>\n",
       "      <td>19657800.0</td>\n",
       "    </tr>\n",
       "    <tr>\n",
       "      <th>1</th>\n",
       "      <td>2013M02</td>\n",
       "      <td>134300.0</td>\n",
       "      <td>20100200.0</td>\n",
       "    </tr>\n",
       "    <tr>\n",
       "      <th>2</th>\n",
       "      <td>2013M03</td>\n",
       "      <td>142400.0</td>\n",
       "      <td>26334900.0</td>\n",
       "    </tr>\n",
       "    <tr>\n",
       "      <th>3</th>\n",
       "      <td>2013M04</td>\n",
       "      <td>134200.0</td>\n",
       "      <td>27151000.0</td>\n",
       "    </tr>\n",
       "    <tr>\n",
       "      <th>4</th>\n",
       "      <td>2013M05</td>\n",
       "      <td>141600.0</td>\n",
       "      <td>30912800.0</td>\n",
       "    </tr>\n",
       "  </tbody>\n",
       "</table>\n",
       "</div>"
      ],
      "text/plain": [
       "     Month  Freight Dublin  Passengers Dublin\n",
       "0  2013M01        141900.0         19657800.0\n",
       "1  2013M02        134300.0         20100200.0\n",
       "2  2013M03        142400.0         26334900.0\n",
       "3  2013M04        134200.0         27151000.0\n",
       "4  2013M05        141600.0         30912800.0"
      ]
     },
     "execution_count": 46,
     "metadata": {},
     "output_type": "execute_result"
    }
   ],
   "source": [
    "#Combine freight and passengers dataset for Dublin\n",
    "merged_data_Dublin = pd.merge(df_Dublin_Freight, df_Dublin_Pass, on=[\"Month\"], how=\"inner\")\n",
    "# Rename 'Freight Finland' to Freight Helsinki\n",
    "merged_data_Dublin.rename(columns={'Freight': 'Freight Dublin'}, inplace=True)\n",
    "# Rename 'Passengers Finland' to Passenger Helsinki\n",
    "merged_data_Dublin.rename(columns={'Passengers': 'Passengers Dublin'}, inplace=True)\n",
    "#  Reset the index and drop the default index column\n",
    "merged_data_Dublin = merged_data_Dublin.reset_index(drop=True)\n",
    "merged_data_Dublin.head()"
   ]
  },
  {
   "cell_type": "code",
   "execution_count": 47,
   "id": "433f99b7",
   "metadata": {},
   "outputs": [
    {
     "data": {
      "text/html": [
       "<div>\n",
       "<style scoped>\n",
       "    .dataframe tbody tr th:only-of-type {\n",
       "        vertical-align: middle;\n",
       "    }\n",
       "\n",
       "    .dataframe tbody tr th {\n",
       "        vertical-align: top;\n",
       "    }\n",
       "\n",
       "    .dataframe thead th {\n",
       "        text-align: right;\n",
       "    }\n",
       "</style>\n",
       "<table border=\"1\" class=\"dataframe\">\n",
       "  <thead>\n",
       "    <tr style=\"text-align: right;\">\n",
       "      <th></th>\n",
       "      <th>Month</th>\n",
       "      <th>Freight Dublin</th>\n",
       "      <th>Passengers Dublin</th>\n",
       "      <th>Freight Helsinki</th>\n",
       "      <th>Passengers Helsinki</th>\n",
       "    </tr>\n",
       "  </thead>\n",
       "  <tbody>\n",
       "    <tr>\n",
       "      <th>0</th>\n",
       "      <td>2020M01</td>\n",
       "      <td>169200.0</td>\n",
       "      <td>34921200.0</td>\n",
       "      <td>66509</td>\n",
       "      <td>6467108</td>\n",
       "    </tr>\n",
       "    <tr>\n",
       "      <th>1</th>\n",
       "      <td>2020M02</td>\n",
       "      <td>161800.0</td>\n",
       "      <td>34365900.0</td>\n",
       "      <td>59276</td>\n",
       "      <td>6026528</td>\n",
       "    </tr>\n",
       "    <tr>\n",
       "      <th>2</th>\n",
       "      <td>2020M03</td>\n",
       "      <td>164000.0</td>\n",
       "      <td>17109000.0</td>\n",
       "      <td>54947</td>\n",
       "      <td>3002136</td>\n",
       "    </tr>\n",
       "    <tr>\n",
       "      <th>3</th>\n",
       "      <td>2020M04</td>\n",
       "      <td>119200.0</td>\n",
       "      <td>395700.0</td>\n",
       "      <td>30088</td>\n",
       "      <td>85752</td>\n",
       "    </tr>\n",
       "    <tr>\n",
       "      <th>4</th>\n",
       "      <td>2020M05</td>\n",
       "      <td>149000.0</td>\n",
       "      <td>713900.0</td>\n",
       "      <td>40652</td>\n",
       "      <td>146748</td>\n",
       "    </tr>\n",
       "  </tbody>\n",
       "</table>\n",
       "</div>"
      ],
      "text/plain": [
       "     Month  Freight Dublin  Passengers Dublin  Freight Helsinki  \\\n",
       "0  2020M01        169200.0         34921200.0             66509   \n",
       "1  2020M02        161800.0         34365900.0             59276   \n",
       "2  2020M03        164000.0         17109000.0             54947   \n",
       "3  2020M04        119200.0           395700.0             30088   \n",
       "4  2020M05        149000.0           713900.0             40652   \n",
       "\n",
       "   Passengers Helsinki  \n",
       "0              6467108  \n",
       "1              6026528  \n",
       "2              3002136  \n",
       "3                85752  \n",
       "4               146748  "
      ]
     },
     "execution_count": 47,
     "metadata": {},
     "output_type": "execute_result"
    }
   ],
   "source": [
    "# Merge data for Finland and Ireland capital\n",
    "merged_data_Capital=pd.merge(merged_data_Dublin,merged_data_Helsinki,on=[\"Month\"], how=\"inner\") \n",
    "merged_data_Capital.head()"
   ]
  },
  {
   "cell_type": "code",
   "execution_count": 48,
   "id": "0eaefb1a",
   "metadata": {},
   "outputs": [
    {
     "name": "stdout",
     "output_type": "stream",
     "text": [
      "    Country      Time     Value\n",
      "0   Ireland  Jan-2020  0.182677\n",
      "1   Ireland  Feb-2020  0.202604\n",
      "2   Ireland  Mar-2020 -0.283073\n",
      "3   Ireland  Apr-2020 -1.710016\n",
      "4   Ireland  May-2020  0.378210\n",
      "..      ...       ...       ...\n",
      "79  Finland  Jul-2023 -0.016982\n",
      "80  Finland  Aug-2023  0.118892\n",
      "81  Finland  Sep-2023 -0.610718\n",
      "82  Finland  Oct-2023 -0.102412\n",
      "83  Finland  Nov-2023  0.051258\n",
      "\n",
      "[84 rows x 3 columns]\n"
     ]
    }
   ],
   "source": [
    "# Read the 'CS.csv' dataset and keep only specified columns\n",
    "Consumer = pd.read_csv('CS.csv', usecols=['Country', 'Time', 'Value'])\n",
    "\n",
    "# Display the DataFrame\n",
    "print(Consumer)"
   ]
  },
  {
   "cell_type": "code",
   "execution_count": 49,
   "id": "c9e6891b",
   "metadata": {},
   "outputs": [
    {
     "name": "stdout",
     "output_type": "stream",
     "text": [
      "    Country     Time     Value\n",
      "0   Ireland  2020M01  0.182677\n",
      "1   Ireland  2020M02  0.202604\n",
      "2   Ireland  2020M03 -0.283073\n",
      "3   Ireland  2020M04 -1.710016\n",
      "4   Ireland  2020M05  0.378210\n",
      "..      ...      ...       ...\n",
      "79  Finland  2023M07 -0.016982\n",
      "80  Finland  2023M08  0.118892\n",
      "81  Finland  2023M09 -0.610718\n",
      "82  Finland  2023M10 -0.102412\n",
      "83  Finland  2023M11  0.051258\n",
      "\n",
      "[84 rows x 3 columns]\n"
     ]
    }
   ],
   "source": [
    "\n",
    "# Convert 'Time' column to datetime\n",
    "Consumer['Time'] = pd.to_datetime(Consumer['Time'], format='%b-%Y')\n",
    "\n",
    "# Format 'Time' column as \"2020M01\" and convert to object\n",
    "Consumer['Time'] = Consumer['Time'].dt.strftime('%YM%m').astype(str)\n",
    "\n",
    "# Display the updated DataFrame\n",
    "print(Consumer)"
   ]
  },
  {
   "cell_type": "code",
   "execution_count": 50,
   "id": "fd1fd733",
   "metadata": {},
   "outputs": [
    {
     "name": "stdout",
     "output_type": "stream",
     "text": [
      "Country     object\n",
      "Time        object\n",
      "Value      float64\n",
      "dtype: object\n"
     ]
    }
   ],
   "source": [
    "print(Consumer.dtypes)"
   ]
  },
  {
   "cell_type": "code",
   "execution_count": 51,
   "id": "e38f782f",
   "metadata": {},
   "outputs": [
    {
     "data": {
      "text/html": [
       "<div>\n",
       "<style scoped>\n",
       "    .dataframe tbody tr th:only-of-type {\n",
       "        vertical-align: middle;\n",
       "    }\n",
       "\n",
       "    .dataframe tbody tr th {\n",
       "        vertical-align: top;\n",
       "    }\n",
       "\n",
       "    .dataframe thead th {\n",
       "        text-align: right;\n",
       "    }\n",
       "</style>\n",
       "<table border=\"1\" class=\"dataframe\">\n",
       "  <thead>\n",
       "    <tr style=\"text-align: right;\">\n",
       "      <th></th>\n",
       "      <th>Month</th>\n",
       "      <th>Freight Dublin</th>\n",
       "      <th>Passengers Dublin</th>\n",
       "      <th>Freight Helsinki</th>\n",
       "      <th>Passengers Helsinki</th>\n",
       "      <th>Ireland Index</th>\n",
       "      <th>Finland Index</th>\n",
       "    </tr>\n",
       "  </thead>\n",
       "  <tbody>\n",
       "    <tr>\n",
       "      <th>0</th>\n",
       "      <td>2020M01</td>\n",
       "      <td>338400.0</td>\n",
       "      <td>69842400.0</td>\n",
       "      <td>133018</td>\n",
       "      <td>12934216</td>\n",
       "      <td>0.182677</td>\n",
       "      <td>0.050559</td>\n",
       "    </tr>\n",
       "    <tr>\n",
       "      <th>1</th>\n",
       "      <td>2020M02</td>\n",
       "      <td>323600.0</td>\n",
       "      <td>68731800.0</td>\n",
       "      <td>118552</td>\n",
       "      <td>12053056</td>\n",
       "      <td>0.202604</td>\n",
       "      <td>-0.117911</td>\n",
       "    </tr>\n",
       "    <tr>\n",
       "      <th>2</th>\n",
       "      <td>2020M03</td>\n",
       "      <td>328000.0</td>\n",
       "      <td>34218000.0</td>\n",
       "      <td>109894</td>\n",
       "      <td>6004272</td>\n",
       "      <td>-0.283073</td>\n",
       "      <td>-0.387878</td>\n",
       "    </tr>\n",
       "    <tr>\n",
       "      <th>3</th>\n",
       "      <td>2020M04</td>\n",
       "      <td>238400.0</td>\n",
       "      <td>791400.0</td>\n",
       "      <td>60176</td>\n",
       "      <td>171504</td>\n",
       "      <td>-1.710016</td>\n",
       "      <td>-1.100445</td>\n",
       "    </tr>\n",
       "    <tr>\n",
       "      <th>4</th>\n",
       "      <td>2020M05</td>\n",
       "      <td>298000.0</td>\n",
       "      <td>1427800.0</td>\n",
       "      <td>81304</td>\n",
       "      <td>293496</td>\n",
       "      <td>0.378210</td>\n",
       "      <td>0.873033</td>\n",
       "    </tr>\n",
       "  </tbody>\n",
       "</table>\n",
       "</div>"
      ],
      "text/plain": [
       "     Month  Freight Dublin  Passengers Dublin  Freight Helsinki  \\\n",
       "0  2020M01        338400.0         69842400.0            133018   \n",
       "1  2020M02        323600.0         68731800.0            118552   \n",
       "2  2020M03        328000.0         34218000.0            109894   \n",
       "3  2020M04        238400.0           791400.0             60176   \n",
       "4  2020M05        298000.0          1427800.0             81304   \n",
       "\n",
       "   Passengers Helsinki  Ireland Index  Finland Index  \n",
       "0             12934216       0.182677       0.050559  \n",
       "1             12053056       0.202604      -0.117911  \n",
       "2              6004272      -0.283073      -0.387878  \n",
       "3               171504      -1.710016      -1.100445  \n",
       "4               293496       0.378210       0.873033  "
      ]
     },
     "execution_count": 51,
     "metadata": {},
     "output_type": "execute_result"
    }
   ],
   "source": [
    " #Merge the two DataFrames based on 'Time' and \"Month\"columns with inner join\n",
    "merged_data_CapitalCS = pd.merge(merged_data_Capital, Consumer, left_on='Month', right_on='Time', how='inner')\n",
    "# Create new columns 'Ireland Index' and 'Finland Index' based on the 'Country' variable\n",
    "merged_data_CapitalCS['Ireland Index'] = merged_data_CapitalCS.apply(lambda row: row['Value'] if row['Country'] == 'Ireland' else None, axis=1)\n",
    "merged_data_CapitalCS['Finland Index'] = merged_data_CapitalCS.apply(lambda row: row['Value'] if row['Country'] == 'Finland' else None, axis=1)\n",
    "\n",
    "# Group by 'Month' and aggregate the values\n",
    "merged_data_CapitalCS = merged_data_CapitalCS.groupby('Month').agg({\n",
    "    'Freight Dublin': 'sum',\n",
    "    'Passengers Dublin': 'sum',\n",
    "    'Freight Helsinki': 'sum',\n",
    "    'Passengers Helsinki': 'sum',\n",
    "    'Ireland Index': 'first',  # Assuming 'Ireland Index' is the same for both Finland and Ireland\n",
    "    'Finland Index': 'first'   # Assuming 'Finland Index' is the same for both Finland and Ireland\n",
    "}).reset_index()\n",
    "\n",
    "# Display the updated DataFrame\n",
    "merged_data_CapitalCS.head()"
   ]
  },
  {
   "cell_type": "code",
   "execution_count": 58,
   "id": "1aa45f4f",
   "metadata": {},
   "outputs": [
    {
     "data": {
      "text/html": [
       "<div>\n",
       "<style scoped>\n",
       "    .dataframe tbody tr th:only-of-type {\n",
       "        vertical-align: middle;\n",
       "    }\n",
       "\n",
       "    .dataframe tbody tr th {\n",
       "        vertical-align: top;\n",
       "    }\n",
       "\n",
       "    .dataframe thead th {\n",
       "        text-align: right;\n",
       "    }\n",
       "</style>\n",
       "<table border=\"1\" class=\"dataframe\">\n",
       "  <thead>\n",
       "    <tr style=\"text-align: right;\">\n",
       "      <th></th>\n",
       "      <th>Freight Dublin</th>\n",
       "      <th>Passengers Dublin</th>\n",
       "      <th>Freight Helsinki</th>\n",
       "      <th>Passengers Helsinki</th>\n",
       "      <th>Ireland Index</th>\n",
       "      <th>Finland Index</th>\n",
       "    </tr>\n",
       "  </thead>\n",
       "  <tbody>\n",
       "    <tr>\n",
       "      <th>count</th>\n",
       "      <td>39.000000</td>\n",
       "      <td>3.900000e+01</td>\n",
       "      <td>39.000000</td>\n",
       "      <td>3.900000e+01</td>\n",
       "      <td>37.000000</td>\n",
       "      <td>39.000000</td>\n",
       "    </tr>\n",
       "    <tr>\n",
       "      <th>mean</th>\n",
       "      <td>321864.102564</td>\n",
       "      <td>3.866760e+07</td>\n",
       "      <td>106064.410256</td>\n",
       "      <td>5.061796e+06</td>\n",
       "      <td>-0.030550</td>\n",
       "      <td>-0.029112</td>\n",
       "    </tr>\n",
       "    <tr>\n",
       "      <th>std</th>\n",
       "      <td>47725.191887</td>\n",
       "      <td>3.064167e+07</td>\n",
       "      <td>24229.047964</td>\n",
       "      <td>3.928291e+06</td>\n",
       "      <td>0.428248</td>\n",
       "      <td>0.518421</td>\n",
       "    </tr>\n",
       "    <tr>\n",
       "      <th>min</th>\n",
       "      <td>151200.000000</td>\n",
       "      <td>7.914000e+05</td>\n",
       "      <td>50781.000000</td>\n",
       "      <td>1.715040e+05</td>\n",
       "      <td>-1.710016</td>\n",
       "      <td>-1.674004</td>\n",
       "    </tr>\n",
       "    <tr>\n",
       "      <th>25%</th>\n",
       "      <td>309600.000000</td>\n",
       "      <td>8.737800e+06</td>\n",
       "      <td>92699.000000</td>\n",
       "      <td>1.182992e+06</td>\n",
       "      <td>-0.262287</td>\n",
       "      <td>-0.303208</td>\n",
       "    </tr>\n",
       "    <tr>\n",
       "      <th>50%</th>\n",
       "      <td>328000.000000</td>\n",
       "      <td>3.885900e+07</td>\n",
       "      <td>109160.000000</td>\n",
       "      <td>4.889872e+06</td>\n",
       "      <td>0.000000</td>\n",
       "      <td>0.033514</td>\n",
       "    </tr>\n",
       "    <tr>\n",
       "      <th>75%</th>\n",
       "      <td>345600.000000</td>\n",
       "      <td>6.792650e+07</td>\n",
       "      <td>117029.000000</td>\n",
       "      <td>8.733660e+06</td>\n",
       "      <td>0.228861</td>\n",
       "      <td>0.217170</td>\n",
       "    </tr>\n",
       "    <tr>\n",
       "      <th>max</th>\n",
       "      <td>384000.000000</td>\n",
       "      <td>9.239580e+07</td>\n",
       "      <td>154614.000000</td>\n",
       "      <td>1.293422e+07</td>\n",
       "      <td>0.592676</td>\n",
       "      <td>1.093043</td>\n",
       "    </tr>\n",
       "  </tbody>\n",
       "</table>\n",
       "</div>"
      ],
      "text/plain": [
       "       Freight Dublin  Passengers Dublin  Freight Helsinki  \\\n",
       "count       39.000000       3.900000e+01         39.000000   \n",
       "mean    321864.102564       3.866760e+07     106064.410256   \n",
       "std      47725.191887       3.064167e+07      24229.047964   \n",
       "min     151200.000000       7.914000e+05      50781.000000   \n",
       "25%     309600.000000       8.737800e+06      92699.000000   \n",
       "50%     328000.000000       3.885900e+07     109160.000000   \n",
       "75%     345600.000000       6.792650e+07     117029.000000   \n",
       "max     384000.000000       9.239580e+07     154614.000000   \n",
       "\n",
       "       Passengers Helsinki  Ireland Index  Finland Index  \n",
       "count         3.900000e+01      37.000000      39.000000  \n",
       "mean          5.061796e+06      -0.030550      -0.029112  \n",
       "std           3.928291e+06       0.428248       0.518421  \n",
       "min           1.715040e+05      -1.710016      -1.674004  \n",
       "25%           1.182992e+06      -0.262287      -0.303208  \n",
       "50%           4.889872e+06       0.000000       0.033514  \n",
       "75%           8.733660e+06       0.228861       0.217170  \n",
       "max           1.293422e+07       0.592676       1.093043  "
      ]
     },
     "execution_count": 58,
     "metadata": {},
     "output_type": "execute_result"
    }
   ],
   "source": [
    "merged_data_CapitalCS.describe()"
   ]
  },
  {
   "cell_type": "code",
   "execution_count": 52,
   "id": "40d10c85",
   "metadata": {},
   "outputs": [
    {
     "data": {
      "application/vnd.plotly.v1+json": {
       "config": {
        "plotlyServerURL": "https://plot.ly"
       },
       "data": [
        {
         "alignmentgroup": "True",
         "hovertemplate": "Variable=Freight Dublin<br>Month=%{x}<br>Freight=%{y}<extra></extra>",
         "legendgroup": "Freight Dublin",
         "marker": {
          "color": "#636efa",
          "pattern": {
           "shape": ""
          }
         },
         "name": "Freight Dublin",
         "offsetgroup": "Freight Dublin",
         "orientation": "v",
         "showlegend": true,
         "textposition": "auto",
         "type": "bar",
         "x": [
          "2020M01",
          "2020M02",
          "2020M03",
          "2020M04",
          "2020M05",
          "2020M06",
          "2020M07",
          "2020M08",
          "2020M09",
          "2020M10",
          "2020M11",
          "2020M12",
          "2021M01",
          "2021M02",
          "2021M03",
          "2021M04",
          "2021M05",
          "2021M06",
          "2021M07",
          "2021M08",
          "2021M09",
          "2021M10",
          "2021M11",
          "2021M12",
          "2022M01",
          "2022M02",
          "2022M03",
          "2022M04",
          "2022M05",
          "2022M06",
          "2022M07",
          "2022M08",
          "2022M09",
          "2022M10",
          "2022M11",
          "2022M12",
          "2023M01",
          "2023M02",
          "2023M03"
         ],
         "xaxis": "x",
         "y": [
          338400,
          323600,
          328000,
          238400,
          298000,
          326400,
          296400,
          267600,
          306400,
          315600,
          323200,
          356800,
          332000,
          318800,
          384000,
          361200,
          364800,
          345600,
          356000,
          344400,
          364800,
          381200,
          373200,
          367400,
          296800,
          298000,
          343600,
          312800,
          338000,
          332000,
          326800,
          323200,
          335200,
          344400,
          345600,
          324400,
          289200,
          151200,
          179300
         ],
         "yaxis": "y"
        },
        {
         "alignmentgroup": "True",
         "hovertemplate": "Variable=Freight Helsinki<br>Month=%{x}<br>Freight=%{y}<extra></extra>",
         "legendgroup": "Freight Helsinki",
         "marker": {
          "color": "#EF553B",
          "pattern": {
           "shape": ""
          }
         },
         "name": "Freight Helsinki",
         "offsetgroup": "Freight Helsinki",
         "orientation": "v",
         "showlegend": true,
         "textposition": "auto",
         "type": "bar",
         "x": [
          "2020M01",
          "2020M02",
          "2020M03",
          "2020M04",
          "2020M05",
          "2020M06",
          "2020M07",
          "2020M08",
          "2020M09",
          "2020M10",
          "2020M11",
          "2020M12",
          "2021M01",
          "2021M02",
          "2021M03",
          "2021M04",
          "2021M05",
          "2021M06",
          "2021M07",
          "2021M08",
          "2021M09",
          "2021M10",
          "2021M11",
          "2021M12",
          "2022M01",
          "2022M02",
          "2022M03",
          "2022M04",
          "2022M05",
          "2022M06",
          "2022M07",
          "2022M08",
          "2022M09",
          "2022M10",
          "2022M11",
          "2022M12",
          "2023M01",
          "2023M02",
          "2023M03"
         ],
         "xaxis": "x",
         "y": [
          133018,
          118552,
          109894,
          60176,
          81304,
          78814,
          74752,
          78974,
          86578,
          96968,
          113088,
          111726,
          90510,
          93334,
          120562,
          114916,
          108174,
          103582,
          97496,
          98024,
          122978,
          154584,
          154614,
          152664,
          137712,
          133466,
          109160,
          111152,
          117402,
          110130,
          111450,
          92064,
          108326,
          116656,
          107272,
          114448,
          102758,
          50781,
          58453
         ],
         "yaxis": "y"
        }
       ],
       "layout": {
        "barmode": "group",
        "legend": {
         "title": {
          "text": "Variable"
         },
         "tracegroupgap": 0
        },
        "template": {
         "data": {
          "bar": [
           {
            "error_x": {
             "color": "#2a3f5f"
            },
            "error_y": {
             "color": "#2a3f5f"
            },
            "marker": {
             "line": {
              "color": "#E5ECF6",
              "width": 0.5
             },
             "pattern": {
              "fillmode": "overlay",
              "size": 10,
              "solidity": 0.2
             }
            },
            "type": "bar"
           }
          ],
          "barpolar": [
           {
            "marker": {
             "line": {
              "color": "#E5ECF6",
              "width": 0.5
             },
             "pattern": {
              "fillmode": "overlay",
              "size": 10,
              "solidity": 0.2
             }
            },
            "type": "barpolar"
           }
          ],
          "carpet": [
           {
            "aaxis": {
             "endlinecolor": "#2a3f5f",
             "gridcolor": "white",
             "linecolor": "white",
             "minorgridcolor": "white",
             "startlinecolor": "#2a3f5f"
            },
            "baxis": {
             "endlinecolor": "#2a3f5f",
             "gridcolor": "white",
             "linecolor": "white",
             "minorgridcolor": "white",
             "startlinecolor": "#2a3f5f"
            },
            "type": "carpet"
           }
          ],
          "choropleth": [
           {
            "colorbar": {
             "outlinewidth": 0,
             "ticks": ""
            },
            "type": "choropleth"
           }
          ],
          "contour": [
           {
            "colorbar": {
             "outlinewidth": 0,
             "ticks": ""
            },
            "colorscale": [
             [
              0,
              "#0d0887"
             ],
             [
              0.1111111111111111,
              "#46039f"
             ],
             [
              0.2222222222222222,
              "#7201a8"
             ],
             [
              0.3333333333333333,
              "#9c179e"
             ],
             [
              0.4444444444444444,
              "#bd3786"
             ],
             [
              0.5555555555555556,
              "#d8576b"
             ],
             [
              0.6666666666666666,
              "#ed7953"
             ],
             [
              0.7777777777777778,
              "#fb9f3a"
             ],
             [
              0.8888888888888888,
              "#fdca26"
             ],
             [
              1,
              "#f0f921"
             ]
            ],
            "type": "contour"
           }
          ],
          "contourcarpet": [
           {
            "colorbar": {
             "outlinewidth": 0,
             "ticks": ""
            },
            "type": "contourcarpet"
           }
          ],
          "heatmap": [
           {
            "colorbar": {
             "outlinewidth": 0,
             "ticks": ""
            },
            "colorscale": [
             [
              0,
              "#0d0887"
             ],
             [
              0.1111111111111111,
              "#46039f"
             ],
             [
              0.2222222222222222,
              "#7201a8"
             ],
             [
              0.3333333333333333,
              "#9c179e"
             ],
             [
              0.4444444444444444,
              "#bd3786"
             ],
             [
              0.5555555555555556,
              "#d8576b"
             ],
             [
              0.6666666666666666,
              "#ed7953"
             ],
             [
              0.7777777777777778,
              "#fb9f3a"
             ],
             [
              0.8888888888888888,
              "#fdca26"
             ],
             [
              1,
              "#f0f921"
             ]
            ],
            "type": "heatmap"
           }
          ],
          "heatmapgl": [
           {
            "colorbar": {
             "outlinewidth": 0,
             "ticks": ""
            },
            "colorscale": [
             [
              0,
              "#0d0887"
             ],
             [
              0.1111111111111111,
              "#46039f"
             ],
             [
              0.2222222222222222,
              "#7201a8"
             ],
             [
              0.3333333333333333,
              "#9c179e"
             ],
             [
              0.4444444444444444,
              "#bd3786"
             ],
             [
              0.5555555555555556,
              "#d8576b"
             ],
             [
              0.6666666666666666,
              "#ed7953"
             ],
             [
              0.7777777777777778,
              "#fb9f3a"
             ],
             [
              0.8888888888888888,
              "#fdca26"
             ],
             [
              1,
              "#f0f921"
             ]
            ],
            "type": "heatmapgl"
           }
          ],
          "histogram": [
           {
            "marker": {
             "pattern": {
              "fillmode": "overlay",
              "size": 10,
              "solidity": 0.2
             }
            },
            "type": "histogram"
           }
          ],
          "histogram2d": [
           {
            "colorbar": {
             "outlinewidth": 0,
             "ticks": ""
            },
            "colorscale": [
             [
              0,
              "#0d0887"
             ],
             [
              0.1111111111111111,
              "#46039f"
             ],
             [
              0.2222222222222222,
              "#7201a8"
             ],
             [
              0.3333333333333333,
              "#9c179e"
             ],
             [
              0.4444444444444444,
              "#bd3786"
             ],
             [
              0.5555555555555556,
              "#d8576b"
             ],
             [
              0.6666666666666666,
              "#ed7953"
             ],
             [
              0.7777777777777778,
              "#fb9f3a"
             ],
             [
              0.8888888888888888,
              "#fdca26"
             ],
             [
              1,
              "#f0f921"
             ]
            ],
            "type": "histogram2d"
           }
          ],
          "histogram2dcontour": [
           {
            "colorbar": {
             "outlinewidth": 0,
             "ticks": ""
            },
            "colorscale": [
             [
              0,
              "#0d0887"
             ],
             [
              0.1111111111111111,
              "#46039f"
             ],
             [
              0.2222222222222222,
              "#7201a8"
             ],
             [
              0.3333333333333333,
              "#9c179e"
             ],
             [
              0.4444444444444444,
              "#bd3786"
             ],
             [
              0.5555555555555556,
              "#d8576b"
             ],
             [
              0.6666666666666666,
              "#ed7953"
             ],
             [
              0.7777777777777778,
              "#fb9f3a"
             ],
             [
              0.8888888888888888,
              "#fdca26"
             ],
             [
              1,
              "#f0f921"
             ]
            ],
            "type": "histogram2dcontour"
           }
          ],
          "mesh3d": [
           {
            "colorbar": {
             "outlinewidth": 0,
             "ticks": ""
            },
            "type": "mesh3d"
           }
          ],
          "parcoords": [
           {
            "line": {
             "colorbar": {
              "outlinewidth": 0,
              "ticks": ""
             }
            },
            "type": "parcoords"
           }
          ],
          "pie": [
           {
            "automargin": true,
            "type": "pie"
           }
          ],
          "scatter": [
           {
            "fillpattern": {
             "fillmode": "overlay",
             "size": 10,
             "solidity": 0.2
            },
            "type": "scatter"
           }
          ],
          "scatter3d": [
           {
            "line": {
             "colorbar": {
              "outlinewidth": 0,
              "ticks": ""
             }
            },
            "marker": {
             "colorbar": {
              "outlinewidth": 0,
              "ticks": ""
             }
            },
            "type": "scatter3d"
           }
          ],
          "scattercarpet": [
           {
            "marker": {
             "colorbar": {
              "outlinewidth": 0,
              "ticks": ""
             }
            },
            "type": "scattercarpet"
           }
          ],
          "scattergeo": [
           {
            "marker": {
             "colorbar": {
              "outlinewidth": 0,
              "ticks": ""
             }
            },
            "type": "scattergeo"
           }
          ],
          "scattergl": [
           {
            "marker": {
             "colorbar": {
              "outlinewidth": 0,
              "ticks": ""
             }
            },
            "type": "scattergl"
           }
          ],
          "scattermapbox": [
           {
            "marker": {
             "colorbar": {
              "outlinewidth": 0,
              "ticks": ""
             }
            },
            "type": "scattermapbox"
           }
          ],
          "scatterpolar": [
           {
            "marker": {
             "colorbar": {
              "outlinewidth": 0,
              "ticks": ""
             }
            },
            "type": "scatterpolar"
           }
          ],
          "scatterpolargl": [
           {
            "marker": {
             "colorbar": {
              "outlinewidth": 0,
              "ticks": ""
             }
            },
            "type": "scatterpolargl"
           }
          ],
          "scatterternary": [
           {
            "marker": {
             "colorbar": {
              "outlinewidth": 0,
              "ticks": ""
             }
            },
            "type": "scatterternary"
           }
          ],
          "surface": [
           {
            "colorbar": {
             "outlinewidth": 0,
             "ticks": ""
            },
            "colorscale": [
             [
              0,
              "#0d0887"
             ],
             [
              0.1111111111111111,
              "#46039f"
             ],
             [
              0.2222222222222222,
              "#7201a8"
             ],
             [
              0.3333333333333333,
              "#9c179e"
             ],
             [
              0.4444444444444444,
              "#bd3786"
             ],
             [
              0.5555555555555556,
              "#d8576b"
             ],
             [
              0.6666666666666666,
              "#ed7953"
             ],
             [
              0.7777777777777778,
              "#fb9f3a"
             ],
             [
              0.8888888888888888,
              "#fdca26"
             ],
             [
              1,
              "#f0f921"
             ]
            ],
            "type": "surface"
           }
          ],
          "table": [
           {
            "cells": {
             "fill": {
              "color": "#EBF0F8"
             },
             "line": {
              "color": "white"
             }
            },
            "header": {
             "fill": {
              "color": "#C8D4E3"
             },
             "line": {
              "color": "white"
             }
            },
            "type": "table"
           }
          ]
         },
         "layout": {
          "annotationdefaults": {
           "arrowcolor": "#2a3f5f",
           "arrowhead": 0,
           "arrowwidth": 1
          },
          "autotypenumbers": "strict",
          "coloraxis": {
           "colorbar": {
            "outlinewidth": 0,
            "ticks": ""
           }
          },
          "colorscale": {
           "diverging": [
            [
             0,
             "#8e0152"
            ],
            [
             0.1,
             "#c51b7d"
            ],
            [
             0.2,
             "#de77ae"
            ],
            [
             0.3,
             "#f1b6da"
            ],
            [
             0.4,
             "#fde0ef"
            ],
            [
             0.5,
             "#f7f7f7"
            ],
            [
             0.6,
             "#e6f5d0"
            ],
            [
             0.7,
             "#b8e186"
            ],
            [
             0.8,
             "#7fbc41"
            ],
            [
             0.9,
             "#4d9221"
            ],
            [
             1,
             "#276419"
            ]
           ],
           "sequential": [
            [
             0,
             "#0d0887"
            ],
            [
             0.1111111111111111,
             "#46039f"
            ],
            [
             0.2222222222222222,
             "#7201a8"
            ],
            [
             0.3333333333333333,
             "#9c179e"
            ],
            [
             0.4444444444444444,
             "#bd3786"
            ],
            [
             0.5555555555555556,
             "#d8576b"
            ],
            [
             0.6666666666666666,
             "#ed7953"
            ],
            [
             0.7777777777777778,
             "#fb9f3a"
            ],
            [
             0.8888888888888888,
             "#fdca26"
            ],
            [
             1,
             "#f0f921"
            ]
           ],
           "sequentialminus": [
            [
             0,
             "#0d0887"
            ],
            [
             0.1111111111111111,
             "#46039f"
            ],
            [
             0.2222222222222222,
             "#7201a8"
            ],
            [
             0.3333333333333333,
             "#9c179e"
            ],
            [
             0.4444444444444444,
             "#bd3786"
            ],
            [
             0.5555555555555556,
             "#d8576b"
            ],
            [
             0.6666666666666666,
             "#ed7953"
            ],
            [
             0.7777777777777778,
             "#fb9f3a"
            ],
            [
             0.8888888888888888,
             "#fdca26"
            ],
            [
             1,
             "#f0f921"
            ]
           ]
          },
          "colorway": [
           "#636efa",
           "#EF553B",
           "#00cc96",
           "#ab63fa",
           "#FFA15A",
           "#19d3f3",
           "#FF6692",
           "#B6E880",
           "#FF97FF",
           "#FECB52"
          ],
          "font": {
           "color": "#2a3f5f"
          },
          "geo": {
           "bgcolor": "white",
           "lakecolor": "white",
           "landcolor": "#E5ECF6",
           "showlakes": true,
           "showland": true,
           "subunitcolor": "white"
          },
          "hoverlabel": {
           "align": "left"
          },
          "hovermode": "closest",
          "mapbox": {
           "style": "light"
          },
          "paper_bgcolor": "white",
          "plot_bgcolor": "#E5ECF6",
          "polar": {
           "angularaxis": {
            "gridcolor": "white",
            "linecolor": "white",
            "ticks": ""
           },
           "bgcolor": "#E5ECF6",
           "radialaxis": {
            "gridcolor": "white",
            "linecolor": "white",
            "ticks": ""
           }
          },
          "scene": {
           "xaxis": {
            "backgroundcolor": "#E5ECF6",
            "gridcolor": "white",
            "gridwidth": 2,
            "linecolor": "white",
            "showbackground": true,
            "ticks": "",
            "zerolinecolor": "white"
           },
           "yaxis": {
            "backgroundcolor": "#E5ECF6",
            "gridcolor": "white",
            "gridwidth": 2,
            "linecolor": "white",
            "showbackground": true,
            "ticks": "",
            "zerolinecolor": "white"
           },
           "zaxis": {
            "backgroundcolor": "#E5ECF6",
            "gridcolor": "white",
            "gridwidth": 2,
            "linecolor": "white",
            "showbackground": true,
            "ticks": "",
            "zerolinecolor": "white"
           }
          },
          "shapedefaults": {
           "line": {
            "color": "#2a3f5f"
           }
          },
          "ternary": {
           "aaxis": {
            "gridcolor": "white",
            "linecolor": "white",
            "ticks": ""
           },
           "baxis": {
            "gridcolor": "white",
            "linecolor": "white",
            "ticks": ""
           },
           "bgcolor": "#E5ECF6",
           "caxis": {
            "gridcolor": "white",
            "linecolor": "white",
            "ticks": ""
           }
          },
          "title": {
           "x": 0.05
          },
          "xaxis": {
           "automargin": true,
           "gridcolor": "white",
           "linecolor": "white",
           "ticks": "",
           "title": {
            "standoff": 15
           },
           "zerolinecolor": "white",
           "zerolinewidth": 2
          },
          "yaxis": {
           "automargin": true,
           "gridcolor": "white",
           "linecolor": "white",
           "ticks": "",
           "title": {
            "standoff": 15
           },
           "zerolinecolor": "white",
           "zerolinewidth": 2
          }
         }
        },
        "title": {
         "text": "Freight Dublin vs Helsinki"
        },
        "xaxis": {
         "anchor": "y",
         "domain": [
          0,
          1
         ],
         "title": {
          "text": "Month"
         }
        },
        "yaxis": {
         "anchor": "x",
         "domain": [
          0,
          1
         ],
         "title": {
          "text": "Freight"
         }
        }
       }
      },
      "text/html": [
       "<div>                            <div id=\"2c697d46-7487-49eb-a8e7-890585bb32b3\" class=\"plotly-graph-div\" style=\"height:525px; width:100%;\"></div>            <script type=\"text/javascript\">                require([\"plotly\"], function(Plotly) {                    window.PLOTLYENV=window.PLOTLYENV || {};                                    if (document.getElementById(\"2c697d46-7487-49eb-a8e7-890585bb32b3\")) {                    Plotly.newPlot(                        \"2c697d46-7487-49eb-a8e7-890585bb32b3\",                        [{\"alignmentgroup\":\"True\",\"hovertemplate\":\"Variable=Freight Dublin<br>Month=%{x}<br>Freight=%{y}<extra></extra>\",\"legendgroup\":\"Freight Dublin\",\"marker\":{\"color\":\"#636efa\",\"pattern\":{\"shape\":\"\"}},\"name\":\"Freight Dublin\",\"offsetgroup\":\"Freight Dublin\",\"orientation\":\"v\",\"showlegend\":true,\"textposition\":\"auto\",\"x\":[\"2020M01\",\"2020M02\",\"2020M03\",\"2020M04\",\"2020M05\",\"2020M06\",\"2020M07\",\"2020M08\",\"2020M09\",\"2020M10\",\"2020M11\",\"2020M12\",\"2021M01\",\"2021M02\",\"2021M03\",\"2021M04\",\"2021M05\",\"2021M06\",\"2021M07\",\"2021M08\",\"2021M09\",\"2021M10\",\"2021M11\",\"2021M12\",\"2022M01\",\"2022M02\",\"2022M03\",\"2022M04\",\"2022M05\",\"2022M06\",\"2022M07\",\"2022M08\",\"2022M09\",\"2022M10\",\"2022M11\",\"2022M12\",\"2023M01\",\"2023M02\",\"2023M03\"],\"xaxis\":\"x\",\"y\":[338400.0,323600.0,328000.0,238400.0,298000.0,326400.0,296400.0,267600.0,306400.0,315600.0,323200.0,356800.0,332000.0,318800.0,384000.0,361200.0,364800.0,345600.0,356000.0,344400.0,364800.0,381200.0,373200.0,367400.0,296800.0,298000.0,343600.0,312800.0,338000.0,332000.0,326800.0,323200.0,335200.0,344400.0,345600.0,324400.0,289200.0,151200.0,179300.0],\"yaxis\":\"y\",\"type\":\"bar\"},{\"alignmentgroup\":\"True\",\"hovertemplate\":\"Variable=Freight Helsinki<br>Month=%{x}<br>Freight=%{y}<extra></extra>\",\"legendgroup\":\"Freight Helsinki\",\"marker\":{\"color\":\"#EF553B\",\"pattern\":{\"shape\":\"\"}},\"name\":\"Freight Helsinki\",\"offsetgroup\":\"Freight Helsinki\",\"orientation\":\"v\",\"showlegend\":true,\"textposition\":\"auto\",\"x\":[\"2020M01\",\"2020M02\",\"2020M03\",\"2020M04\",\"2020M05\",\"2020M06\",\"2020M07\",\"2020M08\",\"2020M09\",\"2020M10\",\"2020M11\",\"2020M12\",\"2021M01\",\"2021M02\",\"2021M03\",\"2021M04\",\"2021M05\",\"2021M06\",\"2021M07\",\"2021M08\",\"2021M09\",\"2021M10\",\"2021M11\",\"2021M12\",\"2022M01\",\"2022M02\",\"2022M03\",\"2022M04\",\"2022M05\",\"2022M06\",\"2022M07\",\"2022M08\",\"2022M09\",\"2022M10\",\"2022M11\",\"2022M12\",\"2023M01\",\"2023M02\",\"2023M03\"],\"xaxis\":\"x\",\"y\":[133018.0,118552.0,109894.0,60176.0,81304.0,78814.0,74752.0,78974.0,86578.0,96968.0,113088.0,111726.0,90510.0,93334.0,120562.0,114916.0,108174.0,103582.0,97496.0,98024.0,122978.0,154584.0,154614.0,152664.0,137712.0,133466.0,109160.0,111152.0,117402.0,110130.0,111450.0,92064.0,108326.0,116656.0,107272.0,114448.0,102758.0,50781.0,58453.0],\"yaxis\":\"y\",\"type\":\"bar\"}],                        {\"template\":{\"data\":{\"histogram2dcontour\":[{\"type\":\"histogram2dcontour\",\"colorbar\":{\"outlinewidth\":0,\"ticks\":\"\"},\"colorscale\":[[0.0,\"#0d0887\"],[0.1111111111111111,\"#46039f\"],[0.2222222222222222,\"#7201a8\"],[0.3333333333333333,\"#9c179e\"],[0.4444444444444444,\"#bd3786\"],[0.5555555555555556,\"#d8576b\"],[0.6666666666666666,\"#ed7953\"],[0.7777777777777778,\"#fb9f3a\"],[0.8888888888888888,\"#fdca26\"],[1.0,\"#f0f921\"]]}],\"choropleth\":[{\"type\":\"choropleth\",\"colorbar\":{\"outlinewidth\":0,\"ticks\":\"\"}}],\"histogram2d\":[{\"type\":\"histogram2d\",\"colorbar\":{\"outlinewidth\":0,\"ticks\":\"\"},\"colorscale\":[[0.0,\"#0d0887\"],[0.1111111111111111,\"#46039f\"],[0.2222222222222222,\"#7201a8\"],[0.3333333333333333,\"#9c179e\"],[0.4444444444444444,\"#bd3786\"],[0.5555555555555556,\"#d8576b\"],[0.6666666666666666,\"#ed7953\"],[0.7777777777777778,\"#fb9f3a\"],[0.8888888888888888,\"#fdca26\"],[1.0,\"#f0f921\"]]}],\"heatmap\":[{\"type\":\"heatmap\",\"colorbar\":{\"outlinewidth\":0,\"ticks\":\"\"},\"colorscale\":[[0.0,\"#0d0887\"],[0.1111111111111111,\"#46039f\"],[0.2222222222222222,\"#7201a8\"],[0.3333333333333333,\"#9c179e\"],[0.4444444444444444,\"#bd3786\"],[0.5555555555555556,\"#d8576b\"],[0.6666666666666666,\"#ed7953\"],[0.7777777777777778,\"#fb9f3a\"],[0.8888888888888888,\"#fdca26\"],[1.0,\"#f0f921\"]]}],\"heatmapgl\":[{\"type\":\"heatmapgl\",\"colorbar\":{\"outlinewidth\":0,\"ticks\":\"\"},\"colorscale\":[[0.0,\"#0d0887\"],[0.1111111111111111,\"#46039f\"],[0.2222222222222222,\"#7201a8\"],[0.3333333333333333,\"#9c179e\"],[0.4444444444444444,\"#bd3786\"],[0.5555555555555556,\"#d8576b\"],[0.6666666666666666,\"#ed7953\"],[0.7777777777777778,\"#fb9f3a\"],[0.8888888888888888,\"#fdca26\"],[1.0,\"#f0f921\"]]}],\"contourcarpet\":[{\"type\":\"contourcarpet\",\"colorbar\":{\"outlinewidth\":0,\"ticks\":\"\"}}],\"contour\":[{\"type\":\"contour\",\"colorbar\":{\"outlinewidth\":0,\"ticks\":\"\"},\"colorscale\":[[0.0,\"#0d0887\"],[0.1111111111111111,\"#46039f\"],[0.2222222222222222,\"#7201a8\"],[0.3333333333333333,\"#9c179e\"],[0.4444444444444444,\"#bd3786\"],[0.5555555555555556,\"#d8576b\"],[0.6666666666666666,\"#ed7953\"],[0.7777777777777778,\"#fb9f3a\"],[0.8888888888888888,\"#fdca26\"],[1.0,\"#f0f921\"]]}],\"surface\":[{\"type\":\"surface\",\"colorbar\":{\"outlinewidth\":0,\"ticks\":\"\"},\"colorscale\":[[0.0,\"#0d0887\"],[0.1111111111111111,\"#46039f\"],[0.2222222222222222,\"#7201a8\"],[0.3333333333333333,\"#9c179e\"],[0.4444444444444444,\"#bd3786\"],[0.5555555555555556,\"#d8576b\"],[0.6666666666666666,\"#ed7953\"],[0.7777777777777778,\"#fb9f3a\"],[0.8888888888888888,\"#fdca26\"],[1.0,\"#f0f921\"]]}],\"mesh3d\":[{\"type\":\"mesh3d\",\"colorbar\":{\"outlinewidth\":0,\"ticks\":\"\"}}],\"scatter\":[{\"fillpattern\":{\"fillmode\":\"overlay\",\"size\":10,\"solidity\":0.2},\"type\":\"scatter\"}],\"parcoords\":[{\"type\":\"parcoords\",\"line\":{\"colorbar\":{\"outlinewidth\":0,\"ticks\":\"\"}}}],\"scatterpolargl\":[{\"type\":\"scatterpolargl\",\"marker\":{\"colorbar\":{\"outlinewidth\":0,\"ticks\":\"\"}}}],\"bar\":[{\"error_x\":{\"color\":\"#2a3f5f\"},\"error_y\":{\"color\":\"#2a3f5f\"},\"marker\":{\"line\":{\"color\":\"#E5ECF6\",\"width\":0.5},\"pattern\":{\"fillmode\":\"overlay\",\"size\":10,\"solidity\":0.2}},\"type\":\"bar\"}],\"scattergeo\":[{\"type\":\"scattergeo\",\"marker\":{\"colorbar\":{\"outlinewidth\":0,\"ticks\":\"\"}}}],\"scatterpolar\":[{\"type\":\"scatterpolar\",\"marker\":{\"colorbar\":{\"outlinewidth\":0,\"ticks\":\"\"}}}],\"histogram\":[{\"marker\":{\"pattern\":{\"fillmode\":\"overlay\",\"size\":10,\"solidity\":0.2}},\"type\":\"histogram\"}],\"scattergl\":[{\"type\":\"scattergl\",\"marker\":{\"colorbar\":{\"outlinewidth\":0,\"ticks\":\"\"}}}],\"scatter3d\":[{\"type\":\"scatter3d\",\"line\":{\"colorbar\":{\"outlinewidth\":0,\"ticks\":\"\"}},\"marker\":{\"colorbar\":{\"outlinewidth\":0,\"ticks\":\"\"}}}],\"scattermapbox\":[{\"type\":\"scattermapbox\",\"marker\":{\"colorbar\":{\"outlinewidth\":0,\"ticks\":\"\"}}}],\"scatterternary\":[{\"type\":\"scatterternary\",\"marker\":{\"colorbar\":{\"outlinewidth\":0,\"ticks\":\"\"}}}],\"scattercarpet\":[{\"type\":\"scattercarpet\",\"marker\":{\"colorbar\":{\"outlinewidth\":0,\"ticks\":\"\"}}}],\"carpet\":[{\"aaxis\":{\"endlinecolor\":\"#2a3f5f\",\"gridcolor\":\"white\",\"linecolor\":\"white\",\"minorgridcolor\":\"white\",\"startlinecolor\":\"#2a3f5f\"},\"baxis\":{\"endlinecolor\":\"#2a3f5f\",\"gridcolor\":\"white\",\"linecolor\":\"white\",\"minorgridcolor\":\"white\",\"startlinecolor\":\"#2a3f5f\"},\"type\":\"carpet\"}],\"table\":[{\"cells\":{\"fill\":{\"color\":\"#EBF0F8\"},\"line\":{\"color\":\"white\"}},\"header\":{\"fill\":{\"color\":\"#C8D4E3\"},\"line\":{\"color\":\"white\"}},\"type\":\"table\"}],\"barpolar\":[{\"marker\":{\"line\":{\"color\":\"#E5ECF6\",\"width\":0.5},\"pattern\":{\"fillmode\":\"overlay\",\"size\":10,\"solidity\":0.2}},\"type\":\"barpolar\"}],\"pie\":[{\"automargin\":true,\"type\":\"pie\"}]},\"layout\":{\"autotypenumbers\":\"strict\",\"colorway\":[\"#636efa\",\"#EF553B\",\"#00cc96\",\"#ab63fa\",\"#FFA15A\",\"#19d3f3\",\"#FF6692\",\"#B6E880\",\"#FF97FF\",\"#FECB52\"],\"font\":{\"color\":\"#2a3f5f\"},\"hovermode\":\"closest\",\"hoverlabel\":{\"align\":\"left\"},\"paper_bgcolor\":\"white\",\"plot_bgcolor\":\"#E5ECF6\",\"polar\":{\"bgcolor\":\"#E5ECF6\",\"angularaxis\":{\"gridcolor\":\"white\",\"linecolor\":\"white\",\"ticks\":\"\"},\"radialaxis\":{\"gridcolor\":\"white\",\"linecolor\":\"white\",\"ticks\":\"\"}},\"ternary\":{\"bgcolor\":\"#E5ECF6\",\"aaxis\":{\"gridcolor\":\"white\",\"linecolor\":\"white\",\"ticks\":\"\"},\"baxis\":{\"gridcolor\":\"white\",\"linecolor\":\"white\",\"ticks\":\"\"},\"caxis\":{\"gridcolor\":\"white\",\"linecolor\":\"white\",\"ticks\":\"\"}},\"coloraxis\":{\"colorbar\":{\"outlinewidth\":0,\"ticks\":\"\"}},\"colorscale\":{\"sequential\":[[0.0,\"#0d0887\"],[0.1111111111111111,\"#46039f\"],[0.2222222222222222,\"#7201a8\"],[0.3333333333333333,\"#9c179e\"],[0.4444444444444444,\"#bd3786\"],[0.5555555555555556,\"#d8576b\"],[0.6666666666666666,\"#ed7953\"],[0.7777777777777778,\"#fb9f3a\"],[0.8888888888888888,\"#fdca26\"],[1.0,\"#f0f921\"]],\"sequentialminus\":[[0.0,\"#0d0887\"],[0.1111111111111111,\"#46039f\"],[0.2222222222222222,\"#7201a8\"],[0.3333333333333333,\"#9c179e\"],[0.4444444444444444,\"#bd3786\"],[0.5555555555555556,\"#d8576b\"],[0.6666666666666666,\"#ed7953\"],[0.7777777777777778,\"#fb9f3a\"],[0.8888888888888888,\"#fdca26\"],[1.0,\"#f0f921\"]],\"diverging\":[[0,\"#8e0152\"],[0.1,\"#c51b7d\"],[0.2,\"#de77ae\"],[0.3,\"#f1b6da\"],[0.4,\"#fde0ef\"],[0.5,\"#f7f7f7\"],[0.6,\"#e6f5d0\"],[0.7,\"#b8e186\"],[0.8,\"#7fbc41\"],[0.9,\"#4d9221\"],[1,\"#276419\"]]},\"xaxis\":{\"gridcolor\":\"white\",\"linecolor\":\"white\",\"ticks\":\"\",\"title\":{\"standoff\":15},\"zerolinecolor\":\"white\",\"automargin\":true,\"zerolinewidth\":2},\"yaxis\":{\"gridcolor\":\"white\",\"linecolor\":\"white\",\"ticks\":\"\",\"title\":{\"standoff\":15},\"zerolinecolor\":\"white\",\"automargin\":true,\"zerolinewidth\":2},\"scene\":{\"xaxis\":{\"backgroundcolor\":\"#E5ECF6\",\"gridcolor\":\"white\",\"linecolor\":\"white\",\"showbackground\":true,\"ticks\":\"\",\"zerolinecolor\":\"white\",\"gridwidth\":2},\"yaxis\":{\"backgroundcolor\":\"#E5ECF6\",\"gridcolor\":\"white\",\"linecolor\":\"white\",\"showbackground\":true,\"ticks\":\"\",\"zerolinecolor\":\"white\",\"gridwidth\":2},\"zaxis\":{\"backgroundcolor\":\"#E5ECF6\",\"gridcolor\":\"white\",\"linecolor\":\"white\",\"showbackground\":true,\"ticks\":\"\",\"zerolinecolor\":\"white\",\"gridwidth\":2}},\"shapedefaults\":{\"line\":{\"color\":\"#2a3f5f\"}},\"annotationdefaults\":{\"arrowcolor\":\"#2a3f5f\",\"arrowhead\":0,\"arrowwidth\":1},\"geo\":{\"bgcolor\":\"white\",\"landcolor\":\"#E5ECF6\",\"subunitcolor\":\"white\",\"showland\":true,\"showlakes\":true,\"lakecolor\":\"white\"},\"title\":{\"x\":0.05},\"mapbox\":{\"style\":\"light\"}}},\"xaxis\":{\"anchor\":\"y\",\"domain\":[0.0,1.0],\"title\":{\"text\":\"Month\"}},\"yaxis\":{\"anchor\":\"x\",\"domain\":[0.0,1.0],\"title\":{\"text\":\"Freight\"}},\"legend\":{\"title\":{\"text\":\"Variable\"},\"tracegroupgap\":0},\"title\":{\"text\":\"Freight Dublin vs Helsinki\"},\"barmode\":\"group\"},                        {\"responsive\": true}                    ).then(function(){\n",
       "                            \n",
       "var gd = document.getElementById('2c697d46-7487-49eb-a8e7-890585bb32b3');\n",
       "var x = new MutationObserver(function (mutations, observer) {{\n",
       "        var display = window.getComputedStyle(gd).display;\n",
       "        if (!display || display === 'none') {{\n",
       "            console.log([gd, 'removed!']);\n",
       "            Plotly.purge(gd);\n",
       "            observer.disconnect();\n",
       "        }}\n",
       "}});\n",
       "\n",
       "// Listen for the removal of the full notebook cells\n",
       "var notebookContainer = gd.closest('#notebook-container');\n",
       "if (notebookContainer) {{\n",
       "    x.observe(notebookContainer, {childList: true});\n",
       "}}\n",
       "\n",
       "// Listen for the clearing of the current output cell\n",
       "var outputEl = gd.closest('.output');\n",
       "if (outputEl) {{\n",
       "    x.observe(outputEl, {childList: true});\n",
       "}}\n",
       "\n",
       "                        })                };                });            </script>        </div>"
      ]
     },
     "metadata": {},
     "output_type": "display_data"
    }
   ],
   "source": [
    "# Select the columns for comparison\n",
    "columns_to_compare = [ 'Freight Dublin', 'Freight Helsinki']\n",
    "\n",
    "# Melt the DataFrame to long format for easy plotting\n",
    "melted_df = pd.melt(merged_data_CapitalCS, id_vars=['Month'], value_vars=columns_to_compare, var_name='Variable', value_name='Value')\n",
    "\n",
    "# Create side-by-side bar charts using plotly express\n",
    "fig = px.bar(melted_df, x='Month', y='Value', color='Variable',\n",
    "             title='Freight Dublin vs Helsinki',\n",
    "             labels={'Value': 'Freight'},\n",
    "             barmode='group')\n",
    "\n",
    "# Show the figure\n",
    "fig.show()"
   ]
  },
  {
   "cell_type": "code",
   "execution_count": 53,
   "id": "1275a5c9",
   "metadata": {},
   "outputs": [
    {
     "data": {
      "application/vnd.plotly.v1+json": {
       "config": {
        "plotlyServerURL": "https://plot.ly"
       },
       "data": [
        {
         "alignmentgroup": "True",
         "hovertemplate": "Variable=Passengers Dublin<br>Month=%{x}<br>Passengers=%{y}<extra></extra>",
         "legendgroup": "Passengers Dublin",
         "marker": {
          "color": "#636efa",
          "pattern": {
           "shape": ""
          }
         },
         "name": "Passengers Dublin",
         "offsetgroup": "Passengers Dublin",
         "orientation": "v",
         "showlegend": true,
         "textposition": "auto",
         "type": "bar",
         "x": [
          "2020M01",
          "2020M02",
          "2020M03",
          "2020M04",
          "2020M05",
          "2020M06",
          "2020M07",
          "2020M08",
          "2020M09",
          "2020M10",
          "2020M11",
          "2020M12",
          "2021M01",
          "2021M02",
          "2021M03",
          "2021M04",
          "2021M05",
          "2021M06",
          "2021M07",
          "2021M08",
          "2021M09",
          "2021M10",
          "2021M11",
          "2021M12",
          "2022M01",
          "2022M02",
          "2022M03",
          "2022M04",
          "2022M05",
          "2022M06",
          "2022M07",
          "2022M08",
          "2022M09",
          "2022M10",
          "2022M11",
          "2022M12",
          "2023M01",
          "2023M02",
          "2023M03"
         ],
         "xaxis": "x",
         "y": [
          69842400,
          68731800,
          34218000,
          791400,
          1427800,
          2988600,
          12359400,
          16713000,
          12715400,
          8379600,
          5514000,
          9096000,
          6265800,
          3047800,
          3533600,
          3927800,
          4957600,
          9270800,
          20677800,
          40227600,
          44093400,
          51445000,
          46828600,
          38859000,
          29707800,
          40740200,
          55956000,
          72879400,
          79029800,
          85992800,
          92170400,
          92395800,
          83508200,
          81824800,
          67121200,
          66771399.99999999,
          69249800,
          34141600,
          40635100
         ],
         "yaxis": "y"
        },
        {
         "alignmentgroup": "True",
         "hovertemplate": "Variable=Passengers Helsinki<br>Month=%{x}<br>Passengers=%{y}<extra></extra>",
         "legendgroup": "Passengers Helsinki",
         "marker": {
          "color": "#EF553B",
          "pattern": {
           "shape": ""
          }
         },
         "name": "Passengers Helsinki",
         "offsetgroup": "Passengers Helsinki",
         "orientation": "v",
         "showlegend": true,
         "textposition": "auto",
         "type": "bar",
         "x": [
          "2020M01",
          "2020M02",
          "2020M03",
          "2020M04",
          "2020M05",
          "2020M06",
          "2020M07",
          "2020M08",
          "2020M09",
          "2020M10",
          "2020M11",
          "2020M12",
          "2021M01",
          "2021M02",
          "2021M03",
          "2021M04",
          "2021M05",
          "2021M06",
          "2021M07",
          "2021M08",
          "2021M09",
          "2021M10",
          "2021M11",
          "2021M12",
          "2022M01",
          "2022M02",
          "2022M03",
          "2022M04",
          "2022M05",
          "2022M06",
          "2022M07",
          "2022M08",
          "2022M09",
          "2022M10",
          "2022M11",
          "2022M12",
          "2023M01",
          "2023M02",
          "2023M03"
         ],
         "xaxis": "x2",
         "y": [
          12934216,
          12053056,
          6004272,
          171504,
          293496,
          657264,
          1735184,
          2185824,
          1297120,
          1182768,
          981944,
          1183216,
          1064104,
          924808,
          956744,
          915480,
          1002088,
          1622224,
          2850024,
          3557224,
          3839688,
          5285464,
          5641920,
          6702544,
          4889872,
          4915416,
          6759392,
          7760752,
          9187552,
          10447648,
          11247256,
          10230160,
          10299696,
          10161072,
          8497928,
          9424872,
          8969392,
          4428264,
          5148608
         ],
         "yaxis": "y2"
        }
       ],
       "layout": {
        "annotations": [
         {
          "font": {},
          "showarrow": false,
          "text": "Variable=Passengers Dublin",
          "x": 0.245,
          "xanchor": "center",
          "xref": "paper",
          "y": 1,
          "yanchor": "bottom",
          "yref": "paper"
         },
         {
          "font": {},
          "showarrow": false,
          "text": "Variable=Passengers Helsinki",
          "x": 0.755,
          "xanchor": "center",
          "xref": "paper",
          "y": 1,
          "yanchor": "bottom",
          "yref": "paper"
         }
        ],
        "barmode": "relative",
        "height": 400,
        "legend": {
         "title": {
          "text": "Variable"
         },
         "tracegroupgap": 0
        },
        "template": {
         "data": {
          "bar": [
           {
            "error_x": {
             "color": "#2a3f5f"
            },
            "error_y": {
             "color": "#2a3f5f"
            },
            "marker": {
             "line": {
              "color": "#E5ECF6",
              "width": 0.5
             },
             "pattern": {
              "fillmode": "overlay",
              "size": 10,
              "solidity": 0.2
             }
            },
            "type": "bar"
           }
          ],
          "barpolar": [
           {
            "marker": {
             "line": {
              "color": "#E5ECF6",
              "width": 0.5
             },
             "pattern": {
              "fillmode": "overlay",
              "size": 10,
              "solidity": 0.2
             }
            },
            "type": "barpolar"
           }
          ],
          "carpet": [
           {
            "aaxis": {
             "endlinecolor": "#2a3f5f",
             "gridcolor": "white",
             "linecolor": "white",
             "minorgridcolor": "white",
             "startlinecolor": "#2a3f5f"
            },
            "baxis": {
             "endlinecolor": "#2a3f5f",
             "gridcolor": "white",
             "linecolor": "white",
             "minorgridcolor": "white",
             "startlinecolor": "#2a3f5f"
            },
            "type": "carpet"
           }
          ],
          "choropleth": [
           {
            "colorbar": {
             "outlinewidth": 0,
             "ticks": ""
            },
            "type": "choropleth"
           }
          ],
          "contour": [
           {
            "colorbar": {
             "outlinewidth": 0,
             "ticks": ""
            },
            "colorscale": [
             [
              0,
              "#0d0887"
             ],
             [
              0.1111111111111111,
              "#46039f"
             ],
             [
              0.2222222222222222,
              "#7201a8"
             ],
             [
              0.3333333333333333,
              "#9c179e"
             ],
             [
              0.4444444444444444,
              "#bd3786"
             ],
             [
              0.5555555555555556,
              "#d8576b"
             ],
             [
              0.6666666666666666,
              "#ed7953"
             ],
             [
              0.7777777777777778,
              "#fb9f3a"
             ],
             [
              0.8888888888888888,
              "#fdca26"
             ],
             [
              1,
              "#f0f921"
             ]
            ],
            "type": "contour"
           }
          ],
          "contourcarpet": [
           {
            "colorbar": {
             "outlinewidth": 0,
             "ticks": ""
            },
            "type": "contourcarpet"
           }
          ],
          "heatmap": [
           {
            "colorbar": {
             "outlinewidth": 0,
             "ticks": ""
            },
            "colorscale": [
             [
              0,
              "#0d0887"
             ],
             [
              0.1111111111111111,
              "#46039f"
             ],
             [
              0.2222222222222222,
              "#7201a8"
             ],
             [
              0.3333333333333333,
              "#9c179e"
             ],
             [
              0.4444444444444444,
              "#bd3786"
             ],
             [
              0.5555555555555556,
              "#d8576b"
             ],
             [
              0.6666666666666666,
              "#ed7953"
             ],
             [
              0.7777777777777778,
              "#fb9f3a"
             ],
             [
              0.8888888888888888,
              "#fdca26"
             ],
             [
              1,
              "#f0f921"
             ]
            ],
            "type": "heatmap"
           }
          ],
          "heatmapgl": [
           {
            "colorbar": {
             "outlinewidth": 0,
             "ticks": ""
            },
            "colorscale": [
             [
              0,
              "#0d0887"
             ],
             [
              0.1111111111111111,
              "#46039f"
             ],
             [
              0.2222222222222222,
              "#7201a8"
             ],
             [
              0.3333333333333333,
              "#9c179e"
             ],
             [
              0.4444444444444444,
              "#bd3786"
             ],
             [
              0.5555555555555556,
              "#d8576b"
             ],
             [
              0.6666666666666666,
              "#ed7953"
             ],
             [
              0.7777777777777778,
              "#fb9f3a"
             ],
             [
              0.8888888888888888,
              "#fdca26"
             ],
             [
              1,
              "#f0f921"
             ]
            ],
            "type": "heatmapgl"
           }
          ],
          "histogram": [
           {
            "marker": {
             "pattern": {
              "fillmode": "overlay",
              "size": 10,
              "solidity": 0.2
             }
            },
            "type": "histogram"
           }
          ],
          "histogram2d": [
           {
            "colorbar": {
             "outlinewidth": 0,
             "ticks": ""
            },
            "colorscale": [
             [
              0,
              "#0d0887"
             ],
             [
              0.1111111111111111,
              "#46039f"
             ],
             [
              0.2222222222222222,
              "#7201a8"
             ],
             [
              0.3333333333333333,
              "#9c179e"
             ],
             [
              0.4444444444444444,
              "#bd3786"
             ],
             [
              0.5555555555555556,
              "#d8576b"
             ],
             [
              0.6666666666666666,
              "#ed7953"
             ],
             [
              0.7777777777777778,
              "#fb9f3a"
             ],
             [
              0.8888888888888888,
              "#fdca26"
             ],
             [
              1,
              "#f0f921"
             ]
            ],
            "type": "histogram2d"
           }
          ],
          "histogram2dcontour": [
           {
            "colorbar": {
             "outlinewidth": 0,
             "ticks": ""
            },
            "colorscale": [
             [
              0,
              "#0d0887"
             ],
             [
              0.1111111111111111,
              "#46039f"
             ],
             [
              0.2222222222222222,
              "#7201a8"
             ],
             [
              0.3333333333333333,
              "#9c179e"
             ],
             [
              0.4444444444444444,
              "#bd3786"
             ],
             [
              0.5555555555555556,
              "#d8576b"
             ],
             [
              0.6666666666666666,
              "#ed7953"
             ],
             [
              0.7777777777777778,
              "#fb9f3a"
             ],
             [
              0.8888888888888888,
              "#fdca26"
             ],
             [
              1,
              "#f0f921"
             ]
            ],
            "type": "histogram2dcontour"
           }
          ],
          "mesh3d": [
           {
            "colorbar": {
             "outlinewidth": 0,
             "ticks": ""
            },
            "type": "mesh3d"
           }
          ],
          "parcoords": [
           {
            "line": {
             "colorbar": {
              "outlinewidth": 0,
              "ticks": ""
             }
            },
            "type": "parcoords"
           }
          ],
          "pie": [
           {
            "automargin": true,
            "type": "pie"
           }
          ],
          "scatter": [
           {
            "fillpattern": {
             "fillmode": "overlay",
             "size": 10,
             "solidity": 0.2
            },
            "type": "scatter"
           }
          ],
          "scatter3d": [
           {
            "line": {
             "colorbar": {
              "outlinewidth": 0,
              "ticks": ""
             }
            },
            "marker": {
             "colorbar": {
              "outlinewidth": 0,
              "ticks": ""
             }
            },
            "type": "scatter3d"
           }
          ],
          "scattercarpet": [
           {
            "marker": {
             "colorbar": {
              "outlinewidth": 0,
              "ticks": ""
             }
            },
            "type": "scattercarpet"
           }
          ],
          "scattergeo": [
           {
            "marker": {
             "colorbar": {
              "outlinewidth": 0,
              "ticks": ""
             }
            },
            "type": "scattergeo"
           }
          ],
          "scattergl": [
           {
            "marker": {
             "colorbar": {
              "outlinewidth": 0,
              "ticks": ""
             }
            },
            "type": "scattergl"
           }
          ],
          "scattermapbox": [
           {
            "marker": {
             "colorbar": {
              "outlinewidth": 0,
              "ticks": ""
             }
            },
            "type": "scattermapbox"
           }
          ],
          "scatterpolar": [
           {
            "marker": {
             "colorbar": {
              "outlinewidth": 0,
              "ticks": ""
             }
            },
            "type": "scatterpolar"
           }
          ],
          "scatterpolargl": [
           {
            "marker": {
             "colorbar": {
              "outlinewidth": 0,
              "ticks": ""
             }
            },
            "type": "scatterpolargl"
           }
          ],
          "scatterternary": [
           {
            "marker": {
             "colorbar": {
              "outlinewidth": 0,
              "ticks": ""
             }
            },
            "type": "scatterternary"
           }
          ],
          "surface": [
           {
            "colorbar": {
             "outlinewidth": 0,
             "ticks": ""
            },
            "colorscale": [
             [
              0,
              "#0d0887"
             ],
             [
              0.1111111111111111,
              "#46039f"
             ],
             [
              0.2222222222222222,
              "#7201a8"
             ],
             [
              0.3333333333333333,
              "#9c179e"
             ],
             [
              0.4444444444444444,
              "#bd3786"
             ],
             [
              0.5555555555555556,
              "#d8576b"
             ],
             [
              0.6666666666666666,
              "#ed7953"
             ],
             [
              0.7777777777777778,
              "#fb9f3a"
             ],
             [
              0.8888888888888888,
              "#fdca26"
             ],
             [
              1,
              "#f0f921"
             ]
            ],
            "type": "surface"
           }
          ],
          "table": [
           {
            "cells": {
             "fill": {
              "color": "#EBF0F8"
             },
             "line": {
              "color": "white"
             }
            },
            "header": {
             "fill": {
              "color": "#C8D4E3"
             },
             "line": {
              "color": "white"
             }
            },
            "type": "table"
           }
          ]
         },
         "layout": {
          "annotationdefaults": {
           "arrowcolor": "#2a3f5f",
           "arrowhead": 0,
           "arrowwidth": 1
          },
          "autotypenumbers": "strict",
          "coloraxis": {
           "colorbar": {
            "outlinewidth": 0,
            "ticks": ""
           }
          },
          "colorscale": {
           "diverging": [
            [
             0,
             "#8e0152"
            ],
            [
             0.1,
             "#c51b7d"
            ],
            [
             0.2,
             "#de77ae"
            ],
            [
             0.3,
             "#f1b6da"
            ],
            [
             0.4,
             "#fde0ef"
            ],
            [
             0.5,
             "#f7f7f7"
            ],
            [
             0.6,
             "#e6f5d0"
            ],
            [
             0.7,
             "#b8e186"
            ],
            [
             0.8,
             "#7fbc41"
            ],
            [
             0.9,
             "#4d9221"
            ],
            [
             1,
             "#276419"
            ]
           ],
           "sequential": [
            [
             0,
             "#0d0887"
            ],
            [
             0.1111111111111111,
             "#46039f"
            ],
            [
             0.2222222222222222,
             "#7201a8"
            ],
            [
             0.3333333333333333,
             "#9c179e"
            ],
            [
             0.4444444444444444,
             "#bd3786"
            ],
            [
             0.5555555555555556,
             "#d8576b"
            ],
            [
             0.6666666666666666,
             "#ed7953"
            ],
            [
             0.7777777777777778,
             "#fb9f3a"
            ],
            [
             0.8888888888888888,
             "#fdca26"
            ],
            [
             1,
             "#f0f921"
            ]
           ],
           "sequentialminus": [
            [
             0,
             "#0d0887"
            ],
            [
             0.1111111111111111,
             "#46039f"
            ],
            [
             0.2222222222222222,
             "#7201a8"
            ],
            [
             0.3333333333333333,
             "#9c179e"
            ],
            [
             0.4444444444444444,
             "#bd3786"
            ],
            [
             0.5555555555555556,
             "#d8576b"
            ],
            [
             0.6666666666666666,
             "#ed7953"
            ],
            [
             0.7777777777777778,
             "#fb9f3a"
            ],
            [
             0.8888888888888888,
             "#fdca26"
            ],
            [
             1,
             "#f0f921"
            ]
           ]
          },
          "colorway": [
           "#636efa",
           "#EF553B",
           "#00cc96",
           "#ab63fa",
           "#FFA15A",
           "#19d3f3",
           "#FF6692",
           "#B6E880",
           "#FF97FF",
           "#FECB52"
          ],
          "font": {
           "color": "#2a3f5f"
          },
          "geo": {
           "bgcolor": "white",
           "lakecolor": "white",
           "landcolor": "#E5ECF6",
           "showlakes": true,
           "showland": true,
           "subunitcolor": "white"
          },
          "hoverlabel": {
           "align": "left"
          },
          "hovermode": "closest",
          "mapbox": {
           "style": "light"
          },
          "paper_bgcolor": "white",
          "plot_bgcolor": "#E5ECF6",
          "polar": {
           "angularaxis": {
            "gridcolor": "white",
            "linecolor": "white",
            "ticks": ""
           },
           "bgcolor": "#E5ECF6",
           "radialaxis": {
            "gridcolor": "white",
            "linecolor": "white",
            "ticks": ""
           }
          },
          "scene": {
           "xaxis": {
            "backgroundcolor": "#E5ECF6",
            "gridcolor": "white",
            "gridwidth": 2,
            "linecolor": "white",
            "showbackground": true,
            "ticks": "",
            "zerolinecolor": "white"
           },
           "yaxis": {
            "backgroundcolor": "#E5ECF6",
            "gridcolor": "white",
            "gridwidth": 2,
            "linecolor": "white",
            "showbackground": true,
            "ticks": "",
            "zerolinecolor": "white"
           },
           "zaxis": {
            "backgroundcolor": "#E5ECF6",
            "gridcolor": "white",
            "gridwidth": 2,
            "linecolor": "white",
            "showbackground": true,
            "ticks": "",
            "zerolinecolor": "white"
           }
          },
          "shapedefaults": {
           "line": {
            "color": "#2a3f5f"
           }
          },
          "ternary": {
           "aaxis": {
            "gridcolor": "white",
            "linecolor": "white",
            "ticks": ""
           },
           "baxis": {
            "gridcolor": "white",
            "linecolor": "white",
            "ticks": ""
           },
           "bgcolor": "#E5ECF6",
           "caxis": {
            "gridcolor": "white",
            "linecolor": "white",
            "ticks": ""
           }
          },
          "title": {
           "x": 0.05
          },
          "xaxis": {
           "automargin": true,
           "gridcolor": "white",
           "linecolor": "white",
           "ticks": "",
           "title": {
            "standoff": 15
           },
           "zerolinecolor": "white",
           "zerolinewidth": 2
          },
          "yaxis": {
           "automargin": true,
           "gridcolor": "white",
           "linecolor": "white",
           "ticks": "",
           "title": {
            "standoff": 15
           },
           "zerolinecolor": "white",
           "zerolinewidth": 2
          }
         }
        },
        "title": {
         "text": "Passengers Dublin vs Helsinki"
        },
        "width": 1000,
        "xaxis": {
         "anchor": "y",
         "domain": [
          0,
          0.49
         ],
         "title": {
          "text": "Month"
         }
        },
        "xaxis2": {
         "anchor": "y2",
         "domain": [
          0.51,
          1
         ],
         "matches": "x",
         "title": {
          "text": "Month"
         }
        },
        "yaxis": {
         "anchor": "x",
         "domain": [
          0,
          1
         ],
         "title": {
          "text": "Passengers"
         }
        },
        "yaxis2": {
         "anchor": "x2",
         "domain": [
          0,
          1
         ],
         "matches": "y",
         "showticklabels": false
        }
       }
      },
      "text/html": [
       "<div>                            <div id=\"640aeabd-548d-4f45-a908-7c2c9ea7e9be\" class=\"plotly-graph-div\" style=\"height:400px; width:1000px;\"></div>            <script type=\"text/javascript\">                require([\"plotly\"], function(Plotly) {                    window.PLOTLYENV=window.PLOTLYENV || {};                                    if (document.getElementById(\"640aeabd-548d-4f45-a908-7c2c9ea7e9be\")) {                    Plotly.newPlot(                        \"640aeabd-548d-4f45-a908-7c2c9ea7e9be\",                        [{\"alignmentgroup\":\"True\",\"hovertemplate\":\"Variable=Passengers Dublin<br>Month=%{x}<br>Passengers=%{y}<extra></extra>\",\"legendgroup\":\"Passengers Dublin\",\"marker\":{\"color\":\"#636efa\",\"pattern\":{\"shape\":\"\"}},\"name\":\"Passengers Dublin\",\"offsetgroup\":\"Passengers Dublin\",\"orientation\":\"v\",\"showlegend\":true,\"textposition\":\"auto\",\"x\":[\"2020M01\",\"2020M02\",\"2020M03\",\"2020M04\",\"2020M05\",\"2020M06\",\"2020M07\",\"2020M08\",\"2020M09\",\"2020M10\",\"2020M11\",\"2020M12\",\"2021M01\",\"2021M02\",\"2021M03\",\"2021M04\",\"2021M05\",\"2021M06\",\"2021M07\",\"2021M08\",\"2021M09\",\"2021M10\",\"2021M11\",\"2021M12\",\"2022M01\",\"2022M02\",\"2022M03\",\"2022M04\",\"2022M05\",\"2022M06\",\"2022M07\",\"2022M08\",\"2022M09\",\"2022M10\",\"2022M11\",\"2022M12\",\"2023M01\",\"2023M02\",\"2023M03\"],\"xaxis\":\"x\",\"y\":[69842400.0,68731800.0,34218000.0,791400.0,1427800.0,2988600.0,12359400.0,16713000.0,12715400.0,8379600.0,5514000.0,9096000.0,6265800.0,3047800.0,3533600.0,3927800.0,4957600.0,9270800.0,20677800.0,40227600.0,44093400.0,51445000.0,46828600.0,38859000.0,29707800.0,40740200.0,55956000.0,72879400.0,79029800.0,85992800.0,92170400.0,92395800.0,83508200.0,81824800.0,67121200.0,66771399.99999999,69249800.0,34141600.0,40635100.0],\"yaxis\":\"y\",\"type\":\"bar\"},{\"alignmentgroup\":\"True\",\"hovertemplate\":\"Variable=Passengers Helsinki<br>Month=%{x}<br>Passengers=%{y}<extra></extra>\",\"legendgroup\":\"Passengers Helsinki\",\"marker\":{\"color\":\"#EF553B\",\"pattern\":{\"shape\":\"\"}},\"name\":\"Passengers Helsinki\",\"offsetgroup\":\"Passengers Helsinki\",\"orientation\":\"v\",\"showlegend\":true,\"textposition\":\"auto\",\"x\":[\"2020M01\",\"2020M02\",\"2020M03\",\"2020M04\",\"2020M05\",\"2020M06\",\"2020M07\",\"2020M08\",\"2020M09\",\"2020M10\",\"2020M11\",\"2020M12\",\"2021M01\",\"2021M02\",\"2021M03\",\"2021M04\",\"2021M05\",\"2021M06\",\"2021M07\",\"2021M08\",\"2021M09\",\"2021M10\",\"2021M11\",\"2021M12\",\"2022M01\",\"2022M02\",\"2022M03\",\"2022M04\",\"2022M05\",\"2022M06\",\"2022M07\",\"2022M08\",\"2022M09\",\"2022M10\",\"2022M11\",\"2022M12\",\"2023M01\",\"2023M02\",\"2023M03\"],\"xaxis\":\"x2\",\"y\":[12934216.0,12053056.0,6004272.0,171504.0,293496.0,657264.0,1735184.0,2185824.0,1297120.0,1182768.0,981944.0,1183216.0,1064104.0,924808.0,956744.0,915480.0,1002088.0,1622224.0,2850024.0,3557224.0,3839688.0,5285464.0,5641920.0,6702544.0,4889872.0,4915416.0,6759392.0,7760752.0,9187552.0,10447648.0,11247256.0,10230160.0,10299696.0,10161072.0,8497928.0,9424872.0,8969392.0,4428264.0,5148608.0],\"yaxis\":\"y2\",\"type\":\"bar\"}],                        {\"template\":{\"data\":{\"histogram2dcontour\":[{\"type\":\"histogram2dcontour\",\"colorbar\":{\"outlinewidth\":0,\"ticks\":\"\"},\"colorscale\":[[0.0,\"#0d0887\"],[0.1111111111111111,\"#46039f\"],[0.2222222222222222,\"#7201a8\"],[0.3333333333333333,\"#9c179e\"],[0.4444444444444444,\"#bd3786\"],[0.5555555555555556,\"#d8576b\"],[0.6666666666666666,\"#ed7953\"],[0.7777777777777778,\"#fb9f3a\"],[0.8888888888888888,\"#fdca26\"],[1.0,\"#f0f921\"]]}],\"choropleth\":[{\"type\":\"choropleth\",\"colorbar\":{\"outlinewidth\":0,\"ticks\":\"\"}}],\"histogram2d\":[{\"type\":\"histogram2d\",\"colorbar\":{\"outlinewidth\":0,\"ticks\":\"\"},\"colorscale\":[[0.0,\"#0d0887\"],[0.1111111111111111,\"#46039f\"],[0.2222222222222222,\"#7201a8\"],[0.3333333333333333,\"#9c179e\"],[0.4444444444444444,\"#bd3786\"],[0.5555555555555556,\"#d8576b\"],[0.6666666666666666,\"#ed7953\"],[0.7777777777777778,\"#fb9f3a\"],[0.8888888888888888,\"#fdca26\"],[1.0,\"#f0f921\"]]}],\"heatmap\":[{\"type\":\"heatmap\",\"colorbar\":{\"outlinewidth\":0,\"ticks\":\"\"},\"colorscale\":[[0.0,\"#0d0887\"],[0.1111111111111111,\"#46039f\"],[0.2222222222222222,\"#7201a8\"],[0.3333333333333333,\"#9c179e\"],[0.4444444444444444,\"#bd3786\"],[0.5555555555555556,\"#d8576b\"],[0.6666666666666666,\"#ed7953\"],[0.7777777777777778,\"#fb9f3a\"],[0.8888888888888888,\"#fdca26\"],[1.0,\"#f0f921\"]]}],\"heatmapgl\":[{\"type\":\"heatmapgl\",\"colorbar\":{\"outlinewidth\":0,\"ticks\":\"\"},\"colorscale\":[[0.0,\"#0d0887\"],[0.1111111111111111,\"#46039f\"],[0.2222222222222222,\"#7201a8\"],[0.3333333333333333,\"#9c179e\"],[0.4444444444444444,\"#bd3786\"],[0.5555555555555556,\"#d8576b\"],[0.6666666666666666,\"#ed7953\"],[0.7777777777777778,\"#fb9f3a\"],[0.8888888888888888,\"#fdca26\"],[1.0,\"#f0f921\"]]}],\"contourcarpet\":[{\"type\":\"contourcarpet\",\"colorbar\":{\"outlinewidth\":0,\"ticks\":\"\"}}],\"contour\":[{\"type\":\"contour\",\"colorbar\":{\"outlinewidth\":0,\"ticks\":\"\"},\"colorscale\":[[0.0,\"#0d0887\"],[0.1111111111111111,\"#46039f\"],[0.2222222222222222,\"#7201a8\"],[0.3333333333333333,\"#9c179e\"],[0.4444444444444444,\"#bd3786\"],[0.5555555555555556,\"#d8576b\"],[0.6666666666666666,\"#ed7953\"],[0.7777777777777778,\"#fb9f3a\"],[0.8888888888888888,\"#fdca26\"],[1.0,\"#f0f921\"]]}],\"surface\":[{\"type\":\"surface\",\"colorbar\":{\"outlinewidth\":0,\"ticks\":\"\"},\"colorscale\":[[0.0,\"#0d0887\"],[0.1111111111111111,\"#46039f\"],[0.2222222222222222,\"#7201a8\"],[0.3333333333333333,\"#9c179e\"],[0.4444444444444444,\"#bd3786\"],[0.5555555555555556,\"#d8576b\"],[0.6666666666666666,\"#ed7953\"],[0.7777777777777778,\"#fb9f3a\"],[0.8888888888888888,\"#fdca26\"],[1.0,\"#f0f921\"]]}],\"mesh3d\":[{\"type\":\"mesh3d\",\"colorbar\":{\"outlinewidth\":0,\"ticks\":\"\"}}],\"scatter\":[{\"fillpattern\":{\"fillmode\":\"overlay\",\"size\":10,\"solidity\":0.2},\"type\":\"scatter\"}],\"parcoords\":[{\"type\":\"parcoords\",\"line\":{\"colorbar\":{\"outlinewidth\":0,\"ticks\":\"\"}}}],\"scatterpolargl\":[{\"type\":\"scatterpolargl\",\"marker\":{\"colorbar\":{\"outlinewidth\":0,\"ticks\":\"\"}}}],\"bar\":[{\"error_x\":{\"color\":\"#2a3f5f\"},\"error_y\":{\"color\":\"#2a3f5f\"},\"marker\":{\"line\":{\"color\":\"#E5ECF6\",\"width\":0.5},\"pattern\":{\"fillmode\":\"overlay\",\"size\":10,\"solidity\":0.2}},\"type\":\"bar\"}],\"scattergeo\":[{\"type\":\"scattergeo\",\"marker\":{\"colorbar\":{\"outlinewidth\":0,\"ticks\":\"\"}}}],\"scatterpolar\":[{\"type\":\"scatterpolar\",\"marker\":{\"colorbar\":{\"outlinewidth\":0,\"ticks\":\"\"}}}],\"histogram\":[{\"marker\":{\"pattern\":{\"fillmode\":\"overlay\",\"size\":10,\"solidity\":0.2}},\"type\":\"histogram\"}],\"scattergl\":[{\"type\":\"scattergl\",\"marker\":{\"colorbar\":{\"outlinewidth\":0,\"ticks\":\"\"}}}],\"scatter3d\":[{\"type\":\"scatter3d\",\"line\":{\"colorbar\":{\"outlinewidth\":0,\"ticks\":\"\"}},\"marker\":{\"colorbar\":{\"outlinewidth\":0,\"ticks\":\"\"}}}],\"scattermapbox\":[{\"type\":\"scattermapbox\",\"marker\":{\"colorbar\":{\"outlinewidth\":0,\"ticks\":\"\"}}}],\"scatterternary\":[{\"type\":\"scatterternary\",\"marker\":{\"colorbar\":{\"outlinewidth\":0,\"ticks\":\"\"}}}],\"scattercarpet\":[{\"type\":\"scattercarpet\",\"marker\":{\"colorbar\":{\"outlinewidth\":0,\"ticks\":\"\"}}}],\"carpet\":[{\"aaxis\":{\"endlinecolor\":\"#2a3f5f\",\"gridcolor\":\"white\",\"linecolor\":\"white\",\"minorgridcolor\":\"white\",\"startlinecolor\":\"#2a3f5f\"},\"baxis\":{\"endlinecolor\":\"#2a3f5f\",\"gridcolor\":\"white\",\"linecolor\":\"white\",\"minorgridcolor\":\"white\",\"startlinecolor\":\"#2a3f5f\"},\"type\":\"carpet\"}],\"table\":[{\"cells\":{\"fill\":{\"color\":\"#EBF0F8\"},\"line\":{\"color\":\"white\"}},\"header\":{\"fill\":{\"color\":\"#C8D4E3\"},\"line\":{\"color\":\"white\"}},\"type\":\"table\"}],\"barpolar\":[{\"marker\":{\"line\":{\"color\":\"#E5ECF6\",\"width\":0.5},\"pattern\":{\"fillmode\":\"overlay\",\"size\":10,\"solidity\":0.2}},\"type\":\"barpolar\"}],\"pie\":[{\"automargin\":true,\"type\":\"pie\"}]},\"layout\":{\"autotypenumbers\":\"strict\",\"colorway\":[\"#636efa\",\"#EF553B\",\"#00cc96\",\"#ab63fa\",\"#FFA15A\",\"#19d3f3\",\"#FF6692\",\"#B6E880\",\"#FF97FF\",\"#FECB52\"],\"font\":{\"color\":\"#2a3f5f\"},\"hovermode\":\"closest\",\"hoverlabel\":{\"align\":\"left\"},\"paper_bgcolor\":\"white\",\"plot_bgcolor\":\"#E5ECF6\",\"polar\":{\"bgcolor\":\"#E5ECF6\",\"angularaxis\":{\"gridcolor\":\"white\",\"linecolor\":\"white\",\"ticks\":\"\"},\"radialaxis\":{\"gridcolor\":\"white\",\"linecolor\":\"white\",\"ticks\":\"\"}},\"ternary\":{\"bgcolor\":\"#E5ECF6\",\"aaxis\":{\"gridcolor\":\"white\",\"linecolor\":\"white\",\"ticks\":\"\"},\"baxis\":{\"gridcolor\":\"white\",\"linecolor\":\"white\",\"ticks\":\"\"},\"caxis\":{\"gridcolor\":\"white\",\"linecolor\":\"white\",\"ticks\":\"\"}},\"coloraxis\":{\"colorbar\":{\"outlinewidth\":0,\"ticks\":\"\"}},\"colorscale\":{\"sequential\":[[0.0,\"#0d0887\"],[0.1111111111111111,\"#46039f\"],[0.2222222222222222,\"#7201a8\"],[0.3333333333333333,\"#9c179e\"],[0.4444444444444444,\"#bd3786\"],[0.5555555555555556,\"#d8576b\"],[0.6666666666666666,\"#ed7953\"],[0.7777777777777778,\"#fb9f3a\"],[0.8888888888888888,\"#fdca26\"],[1.0,\"#f0f921\"]],\"sequentialminus\":[[0.0,\"#0d0887\"],[0.1111111111111111,\"#46039f\"],[0.2222222222222222,\"#7201a8\"],[0.3333333333333333,\"#9c179e\"],[0.4444444444444444,\"#bd3786\"],[0.5555555555555556,\"#d8576b\"],[0.6666666666666666,\"#ed7953\"],[0.7777777777777778,\"#fb9f3a\"],[0.8888888888888888,\"#fdca26\"],[1.0,\"#f0f921\"]],\"diverging\":[[0,\"#8e0152\"],[0.1,\"#c51b7d\"],[0.2,\"#de77ae\"],[0.3,\"#f1b6da\"],[0.4,\"#fde0ef\"],[0.5,\"#f7f7f7\"],[0.6,\"#e6f5d0\"],[0.7,\"#b8e186\"],[0.8,\"#7fbc41\"],[0.9,\"#4d9221\"],[1,\"#276419\"]]},\"xaxis\":{\"gridcolor\":\"white\",\"linecolor\":\"white\",\"ticks\":\"\",\"title\":{\"standoff\":15},\"zerolinecolor\":\"white\",\"automargin\":true,\"zerolinewidth\":2},\"yaxis\":{\"gridcolor\":\"white\",\"linecolor\":\"white\",\"ticks\":\"\",\"title\":{\"standoff\":15},\"zerolinecolor\":\"white\",\"automargin\":true,\"zerolinewidth\":2},\"scene\":{\"xaxis\":{\"backgroundcolor\":\"#E5ECF6\",\"gridcolor\":\"white\",\"linecolor\":\"white\",\"showbackground\":true,\"ticks\":\"\",\"zerolinecolor\":\"white\",\"gridwidth\":2},\"yaxis\":{\"backgroundcolor\":\"#E5ECF6\",\"gridcolor\":\"white\",\"linecolor\":\"white\",\"showbackground\":true,\"ticks\":\"\",\"zerolinecolor\":\"white\",\"gridwidth\":2},\"zaxis\":{\"backgroundcolor\":\"#E5ECF6\",\"gridcolor\":\"white\",\"linecolor\":\"white\",\"showbackground\":true,\"ticks\":\"\",\"zerolinecolor\":\"white\",\"gridwidth\":2}},\"shapedefaults\":{\"line\":{\"color\":\"#2a3f5f\"}},\"annotationdefaults\":{\"arrowcolor\":\"#2a3f5f\",\"arrowhead\":0,\"arrowwidth\":1},\"geo\":{\"bgcolor\":\"white\",\"landcolor\":\"#E5ECF6\",\"subunitcolor\":\"white\",\"showland\":true,\"showlakes\":true,\"lakecolor\":\"white\"},\"title\":{\"x\":0.05},\"mapbox\":{\"style\":\"light\"}}},\"xaxis\":{\"anchor\":\"y\",\"domain\":[0.0,0.49],\"title\":{\"text\":\"Month\"}},\"yaxis\":{\"anchor\":\"x\",\"domain\":[0.0,1.0],\"title\":{\"text\":\"Passengers\"}},\"xaxis2\":{\"anchor\":\"y2\",\"domain\":[0.51,1.0],\"matches\":\"x\",\"title\":{\"text\":\"Month\"}},\"yaxis2\":{\"anchor\":\"x2\",\"domain\":[0.0,1.0],\"matches\":\"y\",\"showticklabels\":false},\"annotations\":[{\"font\":{},\"showarrow\":false,\"text\":\"Variable=Passengers Dublin\",\"x\":0.245,\"xanchor\":\"center\",\"xref\":\"paper\",\"y\":1.0,\"yanchor\":\"bottom\",\"yref\":\"paper\"},{\"font\":{},\"showarrow\":false,\"text\":\"Variable=Passengers Helsinki\",\"x\":0.755,\"xanchor\":\"center\",\"xref\":\"paper\",\"y\":1.0,\"yanchor\":\"bottom\",\"yref\":\"paper\"}],\"legend\":{\"title\":{\"text\":\"Variable\"},\"tracegroupgap\":0},\"title\":{\"text\":\"Passengers Dublin vs Helsinki\"},\"barmode\":\"relative\",\"height\":400,\"width\":1000},                        {\"responsive\": true}                    ).then(function(){\n",
       "                            \n",
       "var gd = document.getElementById('640aeabd-548d-4f45-a908-7c2c9ea7e9be');\n",
       "var x = new MutationObserver(function (mutations, observer) {{\n",
       "        var display = window.getComputedStyle(gd).display;\n",
       "        if (!display || display === 'none') {{\n",
       "            console.log([gd, 'removed!']);\n",
       "            Plotly.purge(gd);\n",
       "            observer.disconnect();\n",
       "        }}\n",
       "}});\n",
       "\n",
       "// Listen for the removal of the full notebook cells\n",
       "var notebookContainer = gd.closest('#notebook-container');\n",
       "if (notebookContainer) {{\n",
       "    x.observe(notebookContainer, {childList: true});\n",
       "}}\n",
       "\n",
       "// Listen for the clearing of the current output cell\n",
       "var outputEl = gd.closest('.output');\n",
       "if (outputEl) {{\n",
       "    x.observe(outputEl, {childList: true});\n",
       "}}\n",
       "\n",
       "                        })                };                });            </script>        </div>"
      ]
     },
     "metadata": {},
     "output_type": "display_data"
    }
   ],
   "source": [
    "\n",
    "\n",
    "# Select the columns for comparison\n",
    "columns_to_compare = ['Passengers Dublin',  'Passengers Helsinki']\n",
    "\n",
    "# Melt the DataFrame to long format for easy plotting\n",
    "melted_df1 = pd.melt(merged_data_CapitalCS, id_vars=['Month'], value_vars=columns_to_compare, var_name='Variable', value_name='Value')\n",
    "\n",
    "# Create a dropdown menu for variable selection\n",
    "variable_dropdown = [dict(label=col, method='update', args=[{'visible': melted_df1['Variable'] == col}, {'title.text': f'Comparison of {col}'}]) for col in melted_df1['Variable'].unique()]\n",
    "\n",
    "# Create side-by-side bar charts with multiple y-axes\n",
    "fig = px.bar(melted_df1, x='Month', y='Value', color='Variable', facet_col='Variable',\n",
    "             labels={'Value': 'Passengers'},\n",
    "             title='Passengers Dublin vs Helsinki',\n",
    "             height=400, width=1000)\n",
    "\n",
    "\n",
    "\n",
    "# Show the figure\n",
    "fig.show()"
   ]
  },
  {
   "cell_type": "code",
   "execution_count": 54,
   "id": "9dde392c",
   "metadata": {},
   "outputs": [],
   "source": [
    "import numpy as np\n",
    "import plotly.express as px"
   ]
  },
  {
   "cell_type": "code",
   "execution_count": null,
   "id": "a155454d",
   "metadata": {},
   "outputs": [],
   "source": []
  },
  {
   "cell_type": "code",
   "execution_count": 55,
   "id": "e64cf830",
   "metadata": {},
   "outputs": [],
   "source": [
    "xmin, xmax = min(merged_data_Capital['Freight Dublin']), max(merged_data_Capital['Freight Dublin'])"
   ]
  },
  {
   "cell_type": "code",
   "execution_count": 56,
   "id": "0fbbd4cc",
   "metadata": {},
   "outputs": [],
   "source": [
    "ymin, ymax = min(merged_data_Capital[\"Freight Helsinki\"]), max(merged_data_Capital[\"Freight Helsinki\"]) "
   ]
  },
  {
   "cell_type": "code",
   "execution_count": 169,
   "id": "e90df7d1",
   "metadata": {},
   "outputs": [
    {
     "data": {
      "application/vnd.plotly.v1+json": {
       "config": {
        "plotlyServerURL": "https://plot.ly"
       },
       "data": [
        {
         "hovertemplate": "<b>%{hovertext}</b><br><br>Month=2020M01<br>Freight Dublin=%{x}<br>Passengers Dublin=%{y}<br>Ireland Index=%{marker.color}<extra></extra>",
         "hovertext": [
          "2020M01"
         ],
         "legendgroup": "",
         "marker": {
          "color": [
           0.5552279149215082
          ],
          "coloraxis": "coloraxis",
          "size": [
           0.5552279149215082
          ],
          "sizemode": "area",
          "sizeref": 0.0015823013165771416,
          "symbol": "circle"
         },
         "mode": "markers",
         "name": "",
         "orientation": "v",
         "showlegend": false,
         "type": "scatter",
         "x": [
          0.22112186062058514
         ],
         "xaxis": "x",
         "y": [
          0.4943580498143495
         ],
         "yaxis": "y"
        }
       ],
       "frames": [
        {
         "data": [
          {
           "hovertemplate": "<b>%{hovertext}</b><br><br>Month=2020M01<br>Freight Dublin=%{x}<br>Passengers Dublin=%{y}<br>Ireland Index=%{marker.color}<extra></extra>",
           "hovertext": [
            "2020M01"
           ],
           "legendgroup": "",
           "marker": {
            "color": [
             0.5552279149215082
            ],
            "coloraxis": "coloraxis",
            "size": [
             0.5552279149215082
            ],
            "sizemode": "area",
            "sizeref": 0.0015823013165771416,
            "symbol": "circle"
           },
           "mode": "markers",
           "name": "",
           "orientation": "v",
           "showlegend": false,
           "type": "scatter",
           "x": [
            0.22112186062058514
           ],
           "xaxis": "x",
           "y": [
            0.4943580498143495
           ],
           "yaxis": "y"
          }
         ],
         "name": "2020M01"
        },
        {
         "data": [
          {
           "hovertemplate": "<b>%{hovertext}</b><br><br>Month=2020M02<br>Freight Dublin=%{x}<br>Passengers Dublin=%{y}<br>Ireland Index=%{marker.color}<extra></extra>",
           "hovertext": [
            "2020M02"
           ],
           "legendgroup": "",
           "marker": {
            "color": [
             0.3498770844170012
            ],
            "coloraxis": "coloraxis",
            "size": [
             0.3498770844170012
            ],
            "sizemode": "area",
            "sizeref": 0.0015823013165771416,
            "symbol": "circle"
           },
           "mode": "markers",
           "name": "",
           "orientation": "v",
           "showlegend": false,
           "type": "scatter",
           "x": [
            0.746346528345875
           ],
           "xaxis": "x",
           "y": [
            0.520196534404634
           ],
           "yaxis": "y"
          }
         ],
         "name": "2020M02"
        },
        {
         "data": [
          {
           "hovertemplate": "<b>%{hovertext}</b><br><br>Month=2020M03<br>Freight Dublin=%{x}<br>Passengers Dublin=%{y}<br>Ireland Index=%{marker.color}<extra></extra>",
           "hovertext": [
            "2020M03"
           ],
           "legendgroup": "",
           "marker": {
            "color": [
             0.3314063502648239
            ],
            "coloraxis": "coloraxis",
            "size": [
             0.3314063502648239
            ],
            "sizemode": "area",
            "sizeref": 0.0015823013165771416,
            "symbol": "circle"
           },
           "mode": "markers",
           "name": "",
           "orientation": "v",
           "showlegend": false,
           "type": "scatter",
           "x": [
            0.7458263691627028
           ],
           "xaxis": "x",
           "y": [
            0.35514463446534245
           ],
           "yaxis": "y"
          }
         ],
         "name": "2020M03"
        },
        {
         "data": [
          {
           "hovertemplate": "<b>%{hovertext}</b><br><br>Month=2020M04<br>Freight Dublin=%{x}<br>Passengers Dublin=%{y}<br>Ireland Index=%{marker.color}<extra></extra>",
           "hovertext": [
            "2020M04"
           ],
           "legendgroup": "",
           "marker": {
            "color": [
             0.1384286248292988
            ],
            "coloraxis": "coloraxis",
            "size": [
             0.1384286248292988
            ],
            "sizemode": "area",
            "sizeref": 0.0015823013165771416,
            "symbol": "circle"
           },
           "mode": "markers",
           "name": "",
           "orientation": "v",
           "showlegend": false,
           "type": "scatter",
           "x": [
            0.6692407495649693
           ],
           "xaxis": "x",
           "y": [
            0.4608693886511459
           ],
           "yaxis": "y"
          }
         ],
         "name": "2020M04"
        },
        {
         "data": [
          {
           "hovertemplate": "<b>%{hovertext}</b><br><br>Month=2020M05<br>Freight Dublin=%{x}<br>Passengers Dublin=%{y}<br>Ireland Index=%{marker.color}<extra></extra>",
           "hovertext": [
            "2020M05"
           ],
           "legendgroup": "",
           "marker": {
            "color": [
             0.4322738246598545
            ],
            "coloraxis": "coloraxis",
            "size": [
             0.4322738246598545
            ],
            "sizemode": "area",
            "sizeref": 0.0015823013165771416,
            "symbol": "circle"
           },
           "mode": "markers",
           "name": "",
           "orientation": "v",
           "showlegend": false,
           "type": "scatter",
           "x": [
            0.4344814347311929
           ],
           "xaxis": "x",
           "y": [
            0.42767861526336054
           ],
           "yaxis": "y"
          }
         ],
         "name": "2020M05"
        },
        {
         "data": [
          {
           "hovertemplate": "<b>%{hovertext}</b><br><br>Month=2020M06<br>Freight Dublin=%{x}<br>Passengers Dublin=%{y}<br>Ireland Index=%{marker.color}<extra></extra>",
           "hovertext": [
            "2020M06"
           ],
           "legendgroup": "",
           "marker": {
            "color": [
             0.11552247938964486
            ],
            "coloraxis": "coloraxis",
            "size": [
             0.11552247938964486
            ],
            "sizemode": "area",
            "sizeref": 0.0015823013165771416,
            "symbol": "circle"
           },
           "mode": "markers",
           "name": "",
           "orientation": "v",
           "showlegend": false,
           "type": "scatter",
           "x": [
            0.6640702350473741
           ],
           "xaxis": "x",
           "y": [
            0.6528904845166597
           ],
           "yaxis": "y"
          }
         ],
         "name": "2020M06"
        },
        {
         "data": [
          {
           "hovertemplate": "<b>%{hovertext}</b><br><br>Month=2020M07<br>Freight Dublin=%{x}<br>Passengers Dublin=%{y}<br>Ireland Index=%{marker.color}<extra></extra>",
           "hovertext": [
            "2020M07"
           ],
           "legendgroup": "",
           "marker": {
            "color": [
             0.5534347107104922
            ],
            "coloraxis": "coloraxis",
            "size": [
             0.5534347107104922
            ],
            "sizemode": "area",
            "sizeref": 0.0015823013165771416,
            "symbol": "circle"
           },
           "mode": "markers",
           "name": "",
           "orientation": "v",
           "showlegend": false,
           "type": "scatter",
           "x": [
            0.43325382747381863
           ],
           "xaxis": "x",
           "y": [
            0.17758371208101933
           ],
           "yaxis": "y"
          }
         ],
         "name": "2020M07"
        },
        {
         "data": [
          {
           "hovertemplate": "<b>%{hovertext}</b><br><br>Month=2020M08<br>Freight Dublin=%{x}<br>Passengers Dublin=%{y}<br>Ireland Index=%{marker.color}<extra></extra>",
           "hovertext": [
            "2020M08"
           ],
           "legendgroup": "",
           "marker": {
            "color": [
             0.33429477020790466
            ],
            "coloraxis": "coloraxis",
            "size": [
             0.33429477020790466
            ],
            "sizemode": "area",
            "sizeref": 0.0015823013165771416,
            "symbol": "circle"
           },
           "mode": "markers",
           "name": "",
           "orientation": "v",
           "showlegend": false,
           "type": "scatter",
           "x": [
            0.5036532122109108
           ],
           "xaxis": "x",
           "y": [
            0.4087966153152307
           ],
           "yaxis": "y"
          }
         ],
         "name": "2020M08"
        },
        {
         "data": [
          {
           "hovertemplate": "<b>%{hovertext}</b><br><br>Month=2020M09<br>Freight Dublin=%{x}<br>Passengers Dublin=%{y}<br>Ireland Index=%{marker.color}<extra></extra>",
           "hovertext": [
            "2020M09"
           ],
           "legendgroup": "",
           "marker": {
            "color": [
             0.46420902659444246
            ],
            "coloraxis": "coloraxis",
            "size": [
             0.46420902659444246
            ],
            "sizemode": "area",
            "sizeref": 0.0015823013165771416,
            "symbol": "circle"
           },
           "mode": "markers",
           "name": "",
           "orientation": "v",
           "showlegend": false,
           "type": "scatter",
           "x": [
            0.7432779457370084
           ],
           "xaxis": "x",
           "y": [
            0.33094953857852255
           ],
           "yaxis": "y"
          }
         ],
         "name": "2020M09"
        },
        {
         "data": [
          {
           "hovertemplate": "<b>%{hovertext}</b><br><br>Month=2020M10<br>Freight Dublin=%{x}<br>Passengers Dublin=%{y}<br>Ireland Index=%{marker.color}<extra></extra>",
           "hovertext": [
            "2020M10"
           ],
           "legendgroup": "",
           "marker": {
            "color": [
             0.6320958643464951
            ],
            "coloraxis": "coloraxis",
            "size": [
             0.6320958643464951
            ],
            "sizemode": "area",
            "sizeref": 0.0015823013165771416,
            "symbol": "circle"
           },
           "mode": "markers",
           "name": "",
           "orientation": "v",
           "showlegend": false,
           "type": "scatter",
           "x": [
            0.2340119310736285
           ],
           "xaxis": "x",
           "y": [
            0.43447512572619784
           ],
           "yaxis": "y"
          }
         ],
         "name": "2020M10"
        },
        {
         "data": [
          {
           "hovertemplate": "<b>%{hovertext}</b><br><br>Month=2020M11<br>Freight Dublin=%{x}<br>Passengers Dublin=%{y}<br>Ireland Index=%{marker.color}<extra></extra>",
           "hovertext": [
            "2020M11"
           ],
           "legendgroup": "",
           "marker": {
            "color": [
             0.5069954420131284
            ],
            "coloraxis": "coloraxis",
            "size": [
             0.5069954420131284
            ],
            "sizemode": "area",
            "sizeref": 0.0015823013165771416,
            "symbol": "circle"
           },
           "mode": "markers",
           "name": "",
           "orientation": "v",
           "showlegend": false,
           "type": "scatter",
           "x": [
            0.6292698756809781
           ],
           "xaxis": "x",
           "y": [
            0.3058118745939193
           ],
           "yaxis": "y"
          }
         ],
         "name": "2020M11"
        },
        {
         "data": [
          {
           "hovertemplate": "<b>%{hovertext}</b><br><br>Month=2020M12<br>Freight Dublin=%{x}<br>Passengers Dublin=%{y}<br>Ireland Index=%{marker.color}<extra></extra>",
           "hovertext": [
            "2020M12"
           ],
           "legendgroup": "",
           "marker": {
            "color": [
             0.3622937993213794
            ],
            "coloraxis": "coloraxis",
            "size": [
             0.3622937993213794
            ],
            "sizemode": "area",
            "sizeref": 0.0015823013165771416,
            "symbol": "circle"
           },
           "mode": "markers",
           "name": "",
           "orientation": "v",
           "showlegend": false,
           "type": "scatter",
           "x": [
            0.6609283896050222
           ],
           "xaxis": "x",
           "y": [
            0.6502788054511467
           ],
           "yaxis": "y"
          }
         ],
         "name": "2020M12"
        },
        {
         "data": [
          {
           "hovertemplate": "<b>%{hovertext}</b><br><br>Month=2021M01<br>Freight Dublin=%{x}<br>Passengers Dublin=%{y}<br>Ireland Index=%{marker.color}<extra></extra>",
           "hovertext": [
            "2021M01"
           ],
           "legendgroup": "",
           "marker": {
            "color": [
             0.5213225048332402
            ],
            "coloraxis": "coloraxis",
            "size": [
             0.5213225048332402
            ],
            "sizemode": "area",
            "sizeref": 0.0015823013165771416,
            "symbol": "circle"
           },
           "mode": "markers",
           "name": "",
           "orientation": "v",
           "showlegend": false,
           "type": "scatter",
           "x": [
            0.8253880021245973
           ],
           "xaxis": "x",
           "y": [
            0.5583453730559536
           ],
           "yaxis": "y"
          }
         ],
         "name": "2021M01"
        },
        {
         "data": [
          {
           "hovertemplate": "<b>%{hovertext}</b><br><br>Month=2021M02<br>Freight Dublin=%{x}<br>Passengers Dublin=%{y}<br>Ireland Index=%{marker.color}<extra></extra>",
           "hovertext": [
            "2021M02"
           ],
           "legendgroup": "",
           "marker": {
            "color": [
             0.3825159459757087
            ],
            "coloraxis": "coloraxis",
            "size": [
             0.3825159459757087
            ],
            "sizemode": "area",
            "sizeref": 0.0015823013165771416,
            "symbol": "circle"
           },
           "mode": "markers",
           "name": "",
           "orientation": "v",
           "showlegend": false,
           "type": "scatter",
           "x": [
            0.7098125328304951
           ],
           "xaxis": "x",
           "y": [
            0.7364231770518535
           ],
           "yaxis": "y"
          }
         ],
         "name": "2021M02"
        },
        {
         "data": [
          {
           "hovertemplate": "<b>%{hovertext}</b><br><br>Month=2021M03<br>Freight Dublin=%{x}<br>Passengers Dublin=%{y}<br>Ireland Index=%{marker.color}<extra></extra>",
           "hovertext": [
            "2021M03"
           ],
           "legendgroup": "",
           "marker": {
            "color": [
             0.3725465830491281
            ],
            "coloraxis": "coloraxis",
            "size": [
             0.3725465830491281
            ],
            "sizemode": "area",
            "sizeref": 0.0015823013165771416,
            "symbol": "circle"
           },
           "mode": "markers",
           "name": "",
           "orientation": "v",
           "showlegend": false,
           "type": "scatter",
           "x": [
            0.4366186775027559
           ],
           "xaxis": "x",
           "y": [
            0.5972687946436926
           ],
           "yaxis": "y"
          }
         ],
         "name": "2021M03"
        },
        {
         "data": [
          {
           "hovertemplate": "<b>%{hovertext}</b><br><br>Month=2021M04<br>Freight Dublin=%{x}<br>Passengers Dublin=%{y}<br>Ireland Index=%{marker.color}<extra></extra>",
           "hovertext": [
            "2021M04"
           ],
           "legendgroup": "",
           "marker": {
            "color": [
             0.5355203421590025
            ],
            "coloraxis": "coloraxis",
            "size": [
             0.5355203421590025
            ],
            "sizemode": "area",
            "sizeref": 0.0015823013165771416,
            "symbol": "circle"
           },
           "mode": "markers",
           "name": "",
           "orientation": "v",
           "showlegend": false,
           "type": "scatter",
           "x": [
            0.29476019151963745
           ],
           "xaxis": "x",
           "y": [
            0.34288173750589607
           ],
           "yaxis": "y"
          }
         ],
         "name": "2021M04"
        },
        {
         "data": [
          {
           "hovertemplate": "<b>%{hovertext}</b><br><br>Month=2021M05<br>Freight Dublin=%{x}<br>Passengers Dublin=%{y}<br>Ireland Index=%{marker.color}<extra></extra>",
           "hovertext": [
            "2021M05"
           ],
           "legendgroup": "",
           "marker": {
            "color": [
             0.44638935010649533
            ],
            "coloraxis": "coloraxis",
            "size": [
             0.44638935010649533
            ],
            "sizemode": "area",
            "sizeref": 0.0015823013165771416,
            "symbol": "circle"
           },
           "mode": "markers",
           "name": "",
           "orientation": "v",
           "showlegend": false,
           "type": "scatter",
           "x": [
            0.24152112581211188
           ],
           "xaxis": "x",
           "y": [
            0.5135001789949862
           ],
           "yaxis": "y"
          }
         ],
         "name": "2021M05"
        },
        {
         "data": [
          {
           "hovertemplate": "<b>%{hovertext}</b><br><br>Month=2021M06<br>Freight Dublin=%{x}<br>Passengers Dublin=%{y}<br>Ireland Index=%{marker.color}<extra></extra>",
           "hovertext": [
            "2021M06"
           ],
           "legendgroup": "",
           "marker": {
            "color": [
             0.6329205266308566
            ],
            "coloraxis": "coloraxis",
            "size": [
             0.6329205266308566
            ],
            "sizemode": "area",
            "sizeref": 0.0015823013165771416,
            "symbol": "circle"
           },
           "mode": "markers",
           "name": "",
           "orientation": "v",
           "showlegend": false,
           "type": "scatter",
           "x": [
            0.5450821147656746
           ],
           "xaxis": "x",
           "y": [
            0.4658347547332248
           ],
           "yaxis": "y"
          }
         ],
         "name": "2021M06"
        },
        {
         "data": [
          {
           "hovertemplate": "<b>%{hovertext}</b><br><br>Month=2021M07<br>Freight Dublin=%{x}<br>Passengers Dublin=%{y}<br>Ireland Index=%{marker.color}<extra></extra>",
           "hovertext": [
            "2021M07"
           ],
           "legendgroup": "",
           "marker": {
            "color": [
             0.5727529859465608
            ],
            "coloraxis": "coloraxis",
            "size": [
             0.5727529859465608
            ],
            "sizemode": "area",
            "sizeref": 0.0015823013165771416,
            "symbol": "circle"
           },
           "mode": "markers",
           "name": "",
           "orientation": "v",
           "showlegend": false,
           "type": "scatter",
           "x": [
            0.6567711506679489
           ],
           "xaxis": "x",
           "y": [
            0.4010337282046989
           ],
           "yaxis": "y"
          }
         ],
         "name": "2021M07"
        },
        {
         "data": [
          {
           "hovertemplate": "<b>%{hovertext}</b><br><br>Month=2021M08<br>Freight Dublin=%{x}<br>Passengers Dublin=%{y}<br>Ireland Index=%{marker.color}<extra></extra>",
           "hovertext": [
            "2021M08"
           ],
           "legendgroup": "",
           "marker": {
            "color": [
             0.5995213269169366
            ],
            "coloraxis": "coloraxis",
            "size": [
             0.5995213269169366
            ],
            "sizemode": "area",
            "sizeref": 0.0015823013165771416,
            "symbol": "circle"
           },
           "mode": "markers",
           "name": "",
           "orientation": "v",
           "showlegend": false,
           "type": "scatter",
           "x": [
            0.6284347637385086
           ],
           "xaxis": "x",
           "y": [
            0.46620784716326946
           ],
           "yaxis": "y"
          }
         ],
         "name": "2021M08"
        },
        {
         "data": [
          {
           "hovertemplate": "<b>%{hovertext}</b><br><br>Month=2021M09<br>Freight Dublin=%{x}<br>Passengers Dublin=%{y}<br>Ireland Index=%{marker.color}<extra></extra>",
           "hovertext": [
            "2021M09"
           ],
           "legendgroup": "",
           "marker": {
            "color": [
             0.459753120287907
            ],
            "coloraxis": "coloraxis",
            "size": [
             0.459753120287907
            ],
            "sizemode": "area",
            "sizeref": 0.0015823013165771416,
            "symbol": "circle"
           },
           "mode": "markers",
           "name": "",
           "orientation": "v",
           "showlegend": false,
           "type": "scatter",
           "x": [
            0.45243057511579104
           ],
           "xaxis": "x",
           "y": [
            0.5458455215978254
           ],
           "yaxis": "y"
          }
         ],
         "name": "2021M09"
        },
        {
         "data": [
          {
           "hovertemplate": "<b>%{hovertext}</b><br><br>Month=2021M10<br>Freight Dublin=%{x}<br>Passengers Dublin=%{y}<br>Ireland Index=%{marker.color}<extra></extra>",
           "hovertext": [
            "2021M10"
           ],
           "legendgroup": "",
           "marker": {
            "color": [
             0.5299704674464967
            ],
            "coloraxis": "coloraxis",
            "size": [
             0.5299704674464967
            ],
            "sizemode": "area",
            "sizeref": 0.0015823013165771416,
            "symbol": "circle"
           },
           "mode": "markers",
           "name": "",
           "orientation": "v",
           "showlegend": false,
           "type": "scatter",
           "x": [
            0.43844460690904324
           ],
           "xaxis": "x",
           "y": [
            0.3146558972860834
           ],
           "yaxis": "y"
          }
         ],
         "name": "2021M10"
        },
        {
         "data": [
          {
           "hovertemplate": "<b>%{hovertext}</b><br><br>Month=2021M11<br>Freight Dublin=%{x}<br>Passengers Dublin=%{y}<br>Ireland Index=%{marker.color}<extra></extra>",
           "hovertext": [
            "2021M11"
           ],
           "legendgroup": "",
           "marker": {
            "color": [
             0.5165507689229674
            ],
            "coloraxis": "coloraxis",
            "size": [
             0.5165507689229674
            ],
            "sizemode": "area",
            "sizeref": 0.0015823013165771416,
            "symbol": "circle"
           },
           "mode": "markers",
           "name": "",
           "orientation": "v",
           "showlegend": false,
           "type": "scatter",
           "x": [
            0.3852465503558223
           ],
           "xaxis": "x",
           "y": [
            0.28622942665038825
           ],
           "yaxis": "y"
          }
         ],
         "name": "2021M11"
        },
        {
         "data": [
          {
           "hovertemplate": "<b>%{hovertext}</b><br><br>Month=2021M12<br>Freight Dublin=%{x}<br>Passengers Dublin=%{y}<br>Ireland Index=%{marker.color}<extra></extra>",
           "hovertext": [
            "2021M12"
           ],
           "legendgroup": "",
           "marker": {
            "color": [
             0.5520423106653043
            ],
            "coloraxis": "coloraxis",
            "size": [
             0.5520423106653043
            ],
            "sizemode": "area",
            "sizeref": 0.0015823013165771416,
            "symbol": "circle"
           },
           "mode": "markers",
           "name": "",
           "orientation": "v",
           "showlegend": false,
           "type": "scatter",
           "x": [
            0.32988374107017465
           ],
           "xaxis": "x",
           "y": [
            0.35245816903529015
           ],
           "yaxis": "y"
          }
         ],
         "name": "2021M12"
        },
        {
         "data": [
          {
           "hovertemplate": "<b>%{hovertext}</b><br><br>Month=2022M01<br>Freight Dublin=%{x}<br>Passengers Dublin=%{y}<br>Ireland Index=%{marker.color}<extra></extra>",
           "hovertext": [
            "2022M01"
           ],
           "legendgroup": "",
           "marker": {
            "color": [
             0.44345255318664606
            ],
            "coloraxis": "coloraxis",
            "size": [
             0.44345255318664606
            ],
            "sizemode": "area",
            "sizeref": 0.0015823013165771416,
            "symbol": "circle"
           },
           "mode": "markers",
           "name": "",
           "orientation": "v",
           "showlegend": false,
           "type": "scatter",
           "x": [
            0.6897802661666242
           ],
           "xaxis": "x",
           "y": [
            0.3974435780365007
           ],
           "yaxis": "y"
          }
         ],
         "name": "2022M01"
        },
        {
         "data": [
          {
           "hovertemplate": "<b>%{hovertext}</b><br><br>Month=2022M02<br>Freight Dublin=%{x}<br>Passengers Dublin=%{y}<br>Ireland Index=%{marker.color}<extra></extra>",
           "hovertext": [
            "2022M02"
           ],
           "legendgroup": "",
           "marker": {
            "color": [
             0.6028672596063889
            ],
            "coloraxis": "coloraxis",
            "size": [
             0.6028672596063889
            ],
            "sizemode": "area",
            "sizeref": 0.0015823013165771416,
            "symbol": "circle"
           },
           "mode": "markers",
           "name": "",
           "orientation": "v",
           "showlegend": false,
           "type": "scatter",
           "x": [
            0.3723614594249271
           ],
           "xaxis": "x",
           "y": [
            0.3889835841584487
           ],
           "yaxis": "y"
          }
         ],
         "name": "2022M02"
        },
        {
         "data": [
          {
           "hovertemplate": "<b>%{hovertext}</b><br><br>Month=2022M03<br>Freight Dublin=%{x}<br>Passengers Dublin=%{y}<br>Ireland Index=%{marker.color}<extra></extra>",
           "hovertext": [
            "2022M03"
           ],
           "legendgroup": "",
           "marker": {
            "color": [
             0.4304744736242159
            ],
            "coloraxis": "coloraxis",
            "size": [
             0.4304744736242159
            ],
            "sizemode": "area",
            "sizeref": 0.0015823013165771416,
            "symbol": "circle"
           },
           "mode": "markers",
           "name": "",
           "orientation": "v",
           "showlegend": false,
           "type": "scatter",
           "x": [
            0.6840963496733946
           ],
           "xaxis": "x",
           "y": [
            0.700060985944129
           ],
           "yaxis": "y"
          }
         ],
         "name": "2022M03"
        },
        {
         "data": [
          {
           "hovertemplate": "<b>%{hovertext}</b><br><br>Month=2022M04<br>Freight Dublin=%{x}<br>Passengers Dublin=%{y}<br>Ireland Index=%{marker.color}<extra></extra>",
           "hovertext": [
            "2022M04"
           ],
           "legendgroup": "",
           "marker": {
            "color": [
             0.6160984750217073
            ],
            "coloraxis": "coloraxis",
            "size": [
             0.6160984750217073
            ],
            "sizemode": "area",
            "sizeref": 0.0015823013165771416,
            "symbol": "circle"
           },
           "mode": "markers",
           "name": "",
           "orientation": "v",
           "showlegend": false,
           "type": "scatter",
           "x": [
            0.5055066167008655
           ],
           "xaxis": "x",
           "y": [
            0.4211569804309706
           ],
           "yaxis": "y"
          }
         ],
         "name": "2022M04"
        },
        {
         "data": [
          {
           "hovertemplate": "<b>%{hovertext}</b><br><br>Month=2022M05<br>Freight Dublin=%{x}<br>Passengers Dublin=%{y}<br>Ireland Index=%{marker.color}<extra></extra>",
           "hovertext": [
            "2022M05"
           ],
           "legendgroup": "",
           "marker": {
            "color": [
             0.4258801150095572
            ],
            "coloraxis": "coloraxis",
            "size": [
             0.4258801150095572
            ],
            "sizemode": "area",
            "sizeref": 0.0015823013165771416,
            "symbol": "circle"
           },
           "mode": "markers",
           "name": "",
           "orientation": "v",
           "showlegend": false,
           "type": "scatter",
           "x": [
            0.6291821824970114
           ],
           "xaxis": "x",
           "y": [
            0.582938780367864
           ],
           "yaxis": "y"
          }
         ],
         "name": "2022M05"
        },
        {
         "data": [
          {
           "hovertemplate": "<b>%{hovertext}</b><br><br>Month=2022M06<br>Freight Dublin=%{x}<br>Passengers Dublin=%{y}<br>Ireland Index=%{marker.color}<extra></extra>",
           "hovertext": [
            "2022M06"
           ],
           "legendgroup": "",
           "marker": {
            "color": [
             0.3325175199250659
            ],
            "coloraxis": "coloraxis",
            "size": [
             0.3325175199250659
            ],
            "sizemode": "area",
            "sizeref": 0.0015823013165771416,
            "symbol": "circle"
           },
           "mode": "markers",
           "name": "",
           "orientation": "v",
           "showlegend": false,
           "type": "scatter",
           "x": [
            0.8232798598015967
           ],
           "xaxis": "x",
           "y": [
            0.5497438753644976
           ],
           "yaxis": "y"
          }
         ],
         "name": "2022M06"
        },
        {
         "data": [
          {
           "hovertemplate": "<b>%{hovertext}</b><br><br>Month=2022M07<br>Freight Dublin=%{x}<br>Passengers Dublin=%{y}<br>Ireland Index=%{marker.color}<extra></extra>",
           "hovertext": [
            "2022M07"
           ],
           "legendgroup": "",
           "marker": {
            "color": [
             0.3342064404799262
            ],
            "coloraxis": "coloraxis",
            "size": [
             0.3342064404799262
            ],
            "sizemode": "area",
            "sizeref": 0.0015823013165771416,
            "symbol": "circle"
           },
           "mode": "markers",
           "name": "",
           "orientation": "v",
           "showlegend": false,
           "type": "scatter",
           "x": [
            0.33777026710254937
           ],
           "xaxis": "x",
           "y": [
            0.7414174079968056
           ],
           "yaxis": "y"
          }
         ],
         "name": "2022M07"
        },
        {
         "data": [
          {
           "hovertemplate": "<b>%{hovertext}</b><br><br>Month=2022M08<br>Freight Dublin=%{x}<br>Passengers Dublin=%{y}<br>Ireland Index=%{marker.color}<extra></extra>",
           "hovertext": [
            "2022M08"
           ],
           "legendgroup": "",
           "marker": {
            "color": [
             0.45980532646598865
            ],
            "coloraxis": "coloraxis",
            "size": [
             0.45980532646598865
            ],
            "sizemode": "area",
            "sizeref": 0.0015823013165771416,
            "symbol": "circle"
           },
           "mode": "markers",
           "name": "",
           "orientation": "v",
           "showlegend": false,
           "type": "scatter",
           "x": [
            0.30398467225204956
           ],
           "xaxis": "x",
           "y": [
            0.40076606417121996
           ],
           "yaxis": "y"
          }
         ],
         "name": "2022M08"
        },
        {
         "data": [
          {
           "hovertemplate": "<b>%{hovertext}</b><br><br>Month=2022M09<br>Freight Dublin=%{x}<br>Passengers Dublin=%{y}<br>Ireland Index=%{marker.color}<extra></extra>",
           "hovertext": [
            "2022M09"
           ],
           "legendgroup": "",
           "marker": {
            "color": [
             0.31601065300502124
            ],
            "coloraxis": "coloraxis",
            "size": [
             0.31601065300502124
            ],
            "sizemode": "area",
            "sizeref": 0.0015823013165771416,
            "symbol": "circle"
           },
           "mode": "markers",
           "name": "",
           "orientation": "v",
           "showlegend": false,
           "type": "scatter",
           "x": [
            0.5573243295536997
           ],
           "xaxis": "x",
           "y": [
            0.4613143643231171
           ],
           "yaxis": "y"
          }
         ],
         "name": "2022M09"
        },
        {
         "data": [
          {
           "hovertemplate": "<b>%{hovertext}</b><br><br>Month=2022M10<br>Freight Dublin=%{x}<br>Passengers Dublin=%{y}<br>Ireland Index=%{marker.color}<extra></extra>",
           "hovertext": [
            "2022M10"
           ],
           "legendgroup": "",
           "marker": {
            "color": [
             0.23425751127378475
            ],
            "coloraxis": "coloraxis",
            "size": [
             0.23425751127378475
            ],
            "sizemode": "area",
            "sizeref": 0.0015823013165771416,
            "symbol": "circle"
           },
           "mode": "markers",
           "name": "",
           "orientation": "v",
           "showlegend": false,
           "type": "scatter",
           "x": [
            0.6130580114942092
           ],
           "xaxis": "x",
           "y": [
            0.6369811284812087
           ],
           "yaxis": "y"
          }
         ],
         "name": "2022M10"
        },
        {
         "data": [
          {
           "hovertemplate": "<b>%{hovertext}</b><br><br>Month=2022M11<br>Freight Dublin=%{x}<br>Passengers Dublin=%{y}<br>Ireland Index=%{marker.color}<extra></extra>",
           "hovertext": [
            "2022M11"
           ],
           "legendgroup": "",
           "marker": {
            "color": [
             0.515045934599379
            ],
            "coloraxis": "coloraxis",
            "size": [
             0.515045934599379
            ],
            "sizemode": "area",
            "sizeref": 0.0015823013165771416,
            "symbol": "circle"
           },
           "mode": "markers",
           "name": "",
           "orientation": "v",
           "showlegend": false,
           "type": "scatter",
           "x": [
            0.7740079333508026
           ],
           "xaxis": "x",
           "y": [
            0.4532744115785266
           ],
           "yaxis": "y"
          }
         ],
         "name": "2022M11"
        },
        {
         "data": [
          {
           "hovertemplate": "<b>%{hovertext}</b><br><br>Month=2022M12<br>Freight Dublin=%{x}<br>Passengers Dublin=%{y}<br>Ireland Index=%{marker.color}<extra></extra>",
           "hovertext": [
            "2022M12"
           ],
           "legendgroup": "",
           "marker": {
            "color": [
             0.4771410135431025
            ],
            "coloraxis": "coloraxis",
            "size": [
             0.4771410135431025
            ],
            "sizemode": "area",
            "sizeref": 0.0015823013165771416,
            "symbol": "circle"
           },
           "mode": "markers",
           "name": "",
           "orientation": "v",
           "showlegend": false,
           "type": "scatter",
           "x": [
            0.27806099862571365
           ],
           "xaxis": "x",
           "y": [
            0.5704906520808599
           ],
           "yaxis": "y"
          }
         ],
         "name": "2022M12"
        },
        {
         "data": [
          {
           "hovertemplate": "<b>%{hovertext}</b><br><br>Month=2023M01<br>Freight Dublin=%{x}<br>Passengers Dublin=%{y}<br>Ireland Index=%{marker.color}<extra></extra>",
           "hovertext": [
            "2023M01"
           ],
           "legendgroup": "",
           "marker": {
            "color": [
             0.3627002834582286
            ],
            "coloraxis": "coloraxis",
            "size": [
             0.3627002834582286
            ],
            "sizemode": "area",
            "sizeref": 0.0015823013165771416,
            "symbol": "circle"
           },
           "mode": "markers",
           "name": "",
           "orientation": "v",
           "showlegend": false,
           "type": "scatter",
           "x": [
            0.32019458732234596
           ],
           "xaxis": "x",
           "y": [
            0.66219988277271
           ],
           "yaxis": "y"
          }
         ],
         "name": "2023M01"
        },
        {
         "data": [
          {
           "hovertemplate": "<b>%{hovertext}</b><br><br>Month=2023M02<br>Freight Dublin=%{x}<br>Passengers Dublin=%{y}<br>Ireland Index=%{marker.color}<extra></extra>",
           "hovertext": [
            "2023M02"
           ],
           "legendgroup": "",
           "marker": {
            "color": [
             0.5243166383844298
            ],
            "coloraxis": "coloraxis",
            "size": [
             0.5243166383844298
            ],
            "sizemode": "area",
            "sizeref": 0.0015823013165771416,
            "symbol": "circle"
           },
           "mode": "markers",
           "name": "",
           "orientation": "v",
           "showlegend": false,
           "type": "scatter",
           "x": [
            0.5995744038537637
           ],
           "xaxis": "x",
           "y": [
            0.6168758251552081
           ],
           "yaxis": "y"
          }
         ],
         "name": "2023M02"
        },
        {
         "data": [
          {
           "hovertemplate": "<b>%{hovertext}</b><br><br>Month=2023M03<br>Freight Dublin=%{x}<br>Passengers Dublin=%{y}<br>Ireland Index=%{marker.color}<extra></extra>",
           "hovertext": [
            "2023M03"
           ],
           "legendgroup": "",
           "marker": {
            "color": [
             0.48507157337575685
            ],
            "coloraxis": "coloraxis",
            "size": [
             0.48507157337575685
            ],
            "sizemode": "area",
            "sizeref": 0.0015823013165771416,
            "symbol": "circle"
           },
           "mode": "markers",
           "name": "",
           "orientation": "v",
           "showlegend": false,
           "type": "scatter",
           "x": [
            0.4249822941953268
           ],
           "xaxis": "x",
           "y": [
            0.8020191246738483
           ],
           "yaxis": "y"
          }
         ],
         "name": "2023M03"
        }
       ],
       "layout": {
        "coloraxis": {
         "colorbar": {
          "title": {
           "text": "Ireland Index"
          }
         },
         "colorscale": [
          [
           0,
           "#0d0887"
          ],
          [
           0.1111111111111111,
           "#46039f"
          ],
          [
           0.2222222222222222,
           "#7201a8"
          ],
          [
           0.3333333333333333,
           "#9c179e"
          ],
          [
           0.4444444444444444,
           "#bd3786"
          ],
          [
           0.5555555555555556,
           "#d8576b"
          ],
          [
           0.6666666666666666,
           "#ed7953"
          ],
          [
           0.7777777777777778,
           "#fb9f3a"
          ],
          [
           0.8888888888888888,
           "#fdca26"
          ],
          [
           1,
           "#f0f921"
          ]
         ]
        },
        "legend": {
         "itemsizing": "constant",
         "tracegroupgap": 0
        },
        "sliders": [
         {
          "active": 0,
          "currentvalue": {
           "prefix": "Month="
          },
          "len": 0.9,
          "pad": {
           "b": 10,
           "t": 60
          },
          "steps": [
           {
            "args": [
             [
              "2020M01"
             ],
             {
              "frame": {
               "duration": 0,
               "redraw": false
              },
              "fromcurrent": true,
              "mode": "immediate",
              "transition": {
               "duration": 0,
               "easing": "linear"
              }
             }
            ],
            "label": "2020M01",
            "method": "animate"
           },
           {
            "args": [
             [
              "2020M02"
             ],
             {
              "frame": {
               "duration": 0,
               "redraw": false
              },
              "fromcurrent": true,
              "mode": "immediate",
              "transition": {
               "duration": 0,
               "easing": "linear"
              }
             }
            ],
            "label": "2020M02",
            "method": "animate"
           },
           {
            "args": [
             [
              "2020M03"
             ],
             {
              "frame": {
               "duration": 0,
               "redraw": false
              },
              "fromcurrent": true,
              "mode": "immediate",
              "transition": {
               "duration": 0,
               "easing": "linear"
              }
             }
            ],
            "label": "2020M03",
            "method": "animate"
           },
           {
            "args": [
             [
              "2020M04"
             ],
             {
              "frame": {
               "duration": 0,
               "redraw": false
              },
              "fromcurrent": true,
              "mode": "immediate",
              "transition": {
               "duration": 0,
               "easing": "linear"
              }
             }
            ],
            "label": "2020M04",
            "method": "animate"
           },
           {
            "args": [
             [
              "2020M05"
             ],
             {
              "frame": {
               "duration": 0,
               "redraw": false
              },
              "fromcurrent": true,
              "mode": "immediate",
              "transition": {
               "duration": 0,
               "easing": "linear"
              }
             }
            ],
            "label": "2020M05",
            "method": "animate"
           },
           {
            "args": [
             [
              "2020M06"
             ],
             {
              "frame": {
               "duration": 0,
               "redraw": false
              },
              "fromcurrent": true,
              "mode": "immediate",
              "transition": {
               "duration": 0,
               "easing": "linear"
              }
             }
            ],
            "label": "2020M06",
            "method": "animate"
           },
           {
            "args": [
             [
              "2020M07"
             ],
             {
              "frame": {
               "duration": 0,
               "redraw": false
              },
              "fromcurrent": true,
              "mode": "immediate",
              "transition": {
               "duration": 0,
               "easing": "linear"
              }
             }
            ],
            "label": "2020M07",
            "method": "animate"
           },
           {
            "args": [
             [
              "2020M08"
             ],
             {
              "frame": {
               "duration": 0,
               "redraw": false
              },
              "fromcurrent": true,
              "mode": "immediate",
              "transition": {
               "duration": 0,
               "easing": "linear"
              }
             }
            ],
            "label": "2020M08",
            "method": "animate"
           },
           {
            "args": [
             [
              "2020M09"
             ],
             {
              "frame": {
               "duration": 0,
               "redraw": false
              },
              "fromcurrent": true,
              "mode": "immediate",
              "transition": {
               "duration": 0,
               "easing": "linear"
              }
             }
            ],
            "label": "2020M09",
            "method": "animate"
           },
           {
            "args": [
             [
              "2020M10"
             ],
             {
              "frame": {
               "duration": 0,
               "redraw": false
              },
              "fromcurrent": true,
              "mode": "immediate",
              "transition": {
               "duration": 0,
               "easing": "linear"
              }
             }
            ],
            "label": "2020M10",
            "method": "animate"
           },
           {
            "args": [
             [
              "2020M11"
             ],
             {
              "frame": {
               "duration": 0,
               "redraw": false
              },
              "fromcurrent": true,
              "mode": "immediate",
              "transition": {
               "duration": 0,
               "easing": "linear"
              }
             }
            ],
            "label": "2020M11",
            "method": "animate"
           },
           {
            "args": [
             [
              "2020M12"
             ],
             {
              "frame": {
               "duration": 0,
               "redraw": false
              },
              "fromcurrent": true,
              "mode": "immediate",
              "transition": {
               "duration": 0,
               "easing": "linear"
              }
             }
            ],
            "label": "2020M12",
            "method": "animate"
           },
           {
            "args": [
             [
              "2021M01"
             ],
             {
              "frame": {
               "duration": 0,
               "redraw": false
              },
              "fromcurrent": true,
              "mode": "immediate",
              "transition": {
               "duration": 0,
               "easing": "linear"
              }
             }
            ],
            "label": "2021M01",
            "method": "animate"
           },
           {
            "args": [
             [
              "2021M02"
             ],
             {
              "frame": {
               "duration": 0,
               "redraw": false
              },
              "fromcurrent": true,
              "mode": "immediate",
              "transition": {
               "duration": 0,
               "easing": "linear"
              }
             }
            ],
            "label": "2021M02",
            "method": "animate"
           },
           {
            "args": [
             [
              "2021M03"
             ],
             {
              "frame": {
               "duration": 0,
               "redraw": false
              },
              "fromcurrent": true,
              "mode": "immediate",
              "transition": {
               "duration": 0,
               "easing": "linear"
              }
             }
            ],
            "label": "2021M03",
            "method": "animate"
           },
           {
            "args": [
             [
              "2021M04"
             ],
             {
              "frame": {
               "duration": 0,
               "redraw": false
              },
              "fromcurrent": true,
              "mode": "immediate",
              "transition": {
               "duration": 0,
               "easing": "linear"
              }
             }
            ],
            "label": "2021M04",
            "method": "animate"
           },
           {
            "args": [
             [
              "2021M05"
             ],
             {
              "frame": {
               "duration": 0,
               "redraw": false
              },
              "fromcurrent": true,
              "mode": "immediate",
              "transition": {
               "duration": 0,
               "easing": "linear"
              }
             }
            ],
            "label": "2021M05",
            "method": "animate"
           },
           {
            "args": [
             [
              "2021M06"
             ],
             {
              "frame": {
               "duration": 0,
               "redraw": false
              },
              "fromcurrent": true,
              "mode": "immediate",
              "transition": {
               "duration": 0,
               "easing": "linear"
              }
             }
            ],
            "label": "2021M06",
            "method": "animate"
           },
           {
            "args": [
             [
              "2021M07"
             ],
             {
              "frame": {
               "duration": 0,
               "redraw": false
              },
              "fromcurrent": true,
              "mode": "immediate",
              "transition": {
               "duration": 0,
               "easing": "linear"
              }
             }
            ],
            "label": "2021M07",
            "method": "animate"
           },
           {
            "args": [
             [
              "2021M08"
             ],
             {
              "frame": {
               "duration": 0,
               "redraw": false
              },
              "fromcurrent": true,
              "mode": "immediate",
              "transition": {
               "duration": 0,
               "easing": "linear"
              }
             }
            ],
            "label": "2021M08",
            "method": "animate"
           },
           {
            "args": [
             [
              "2021M09"
             ],
             {
              "frame": {
               "duration": 0,
               "redraw": false
              },
              "fromcurrent": true,
              "mode": "immediate",
              "transition": {
               "duration": 0,
               "easing": "linear"
              }
             }
            ],
            "label": "2021M09",
            "method": "animate"
           },
           {
            "args": [
             [
              "2021M10"
             ],
             {
              "frame": {
               "duration": 0,
               "redraw": false
              },
              "fromcurrent": true,
              "mode": "immediate",
              "transition": {
               "duration": 0,
               "easing": "linear"
              }
             }
            ],
            "label": "2021M10",
            "method": "animate"
           },
           {
            "args": [
             [
              "2021M11"
             ],
             {
              "frame": {
               "duration": 0,
               "redraw": false
              },
              "fromcurrent": true,
              "mode": "immediate",
              "transition": {
               "duration": 0,
               "easing": "linear"
              }
             }
            ],
            "label": "2021M11",
            "method": "animate"
           },
           {
            "args": [
             [
              "2021M12"
             ],
             {
              "frame": {
               "duration": 0,
               "redraw": false
              },
              "fromcurrent": true,
              "mode": "immediate",
              "transition": {
               "duration": 0,
               "easing": "linear"
              }
             }
            ],
            "label": "2021M12",
            "method": "animate"
           },
           {
            "args": [
             [
              "2022M01"
             ],
             {
              "frame": {
               "duration": 0,
               "redraw": false
              },
              "fromcurrent": true,
              "mode": "immediate",
              "transition": {
               "duration": 0,
               "easing": "linear"
              }
             }
            ],
            "label": "2022M01",
            "method": "animate"
           },
           {
            "args": [
             [
              "2022M02"
             ],
             {
              "frame": {
               "duration": 0,
               "redraw": false
              },
              "fromcurrent": true,
              "mode": "immediate",
              "transition": {
               "duration": 0,
               "easing": "linear"
              }
             }
            ],
            "label": "2022M02",
            "method": "animate"
           },
           {
            "args": [
             [
              "2022M03"
             ],
             {
              "frame": {
               "duration": 0,
               "redraw": false
              },
              "fromcurrent": true,
              "mode": "immediate",
              "transition": {
               "duration": 0,
               "easing": "linear"
              }
             }
            ],
            "label": "2022M03",
            "method": "animate"
           },
           {
            "args": [
             [
              "2022M04"
             ],
             {
              "frame": {
               "duration": 0,
               "redraw": false
              },
              "fromcurrent": true,
              "mode": "immediate",
              "transition": {
               "duration": 0,
               "easing": "linear"
              }
             }
            ],
            "label": "2022M04",
            "method": "animate"
           },
           {
            "args": [
             [
              "2022M05"
             ],
             {
              "frame": {
               "duration": 0,
               "redraw": false
              },
              "fromcurrent": true,
              "mode": "immediate",
              "transition": {
               "duration": 0,
               "easing": "linear"
              }
             }
            ],
            "label": "2022M05",
            "method": "animate"
           },
           {
            "args": [
             [
              "2022M06"
             ],
             {
              "frame": {
               "duration": 0,
               "redraw": false
              },
              "fromcurrent": true,
              "mode": "immediate",
              "transition": {
               "duration": 0,
               "easing": "linear"
              }
             }
            ],
            "label": "2022M06",
            "method": "animate"
           },
           {
            "args": [
             [
              "2022M07"
             ],
             {
              "frame": {
               "duration": 0,
               "redraw": false
              },
              "fromcurrent": true,
              "mode": "immediate",
              "transition": {
               "duration": 0,
               "easing": "linear"
              }
             }
            ],
            "label": "2022M07",
            "method": "animate"
           },
           {
            "args": [
             [
              "2022M08"
             ],
             {
              "frame": {
               "duration": 0,
               "redraw": false
              },
              "fromcurrent": true,
              "mode": "immediate",
              "transition": {
               "duration": 0,
               "easing": "linear"
              }
             }
            ],
            "label": "2022M08",
            "method": "animate"
           },
           {
            "args": [
             [
              "2022M09"
             ],
             {
              "frame": {
               "duration": 0,
               "redraw": false
              },
              "fromcurrent": true,
              "mode": "immediate",
              "transition": {
               "duration": 0,
               "easing": "linear"
              }
             }
            ],
            "label": "2022M09",
            "method": "animate"
           },
           {
            "args": [
             [
              "2022M10"
             ],
             {
              "frame": {
               "duration": 0,
               "redraw": false
              },
              "fromcurrent": true,
              "mode": "immediate",
              "transition": {
               "duration": 0,
               "easing": "linear"
              }
             }
            ],
            "label": "2022M10",
            "method": "animate"
           },
           {
            "args": [
             [
              "2022M11"
             ],
             {
              "frame": {
               "duration": 0,
               "redraw": false
              },
              "fromcurrent": true,
              "mode": "immediate",
              "transition": {
               "duration": 0,
               "easing": "linear"
              }
             }
            ],
            "label": "2022M11",
            "method": "animate"
           },
           {
            "args": [
             [
              "2022M12"
             ],
             {
              "frame": {
               "duration": 0,
               "redraw": false
              },
              "fromcurrent": true,
              "mode": "immediate",
              "transition": {
               "duration": 0,
               "easing": "linear"
              }
             }
            ],
            "label": "2022M12",
            "method": "animate"
           },
           {
            "args": [
             [
              "2023M01"
             ],
             {
              "frame": {
               "duration": 0,
               "redraw": false
              },
              "fromcurrent": true,
              "mode": "immediate",
              "transition": {
               "duration": 0,
               "easing": "linear"
              }
             }
            ],
            "label": "2023M01",
            "method": "animate"
           },
           {
            "args": [
             [
              "2023M02"
             ],
             {
              "frame": {
               "duration": 0,
               "redraw": false
              },
              "fromcurrent": true,
              "mode": "immediate",
              "transition": {
               "duration": 0,
               "easing": "linear"
              }
             }
            ],
            "label": "2023M02",
            "method": "animate"
           },
           {
            "args": [
             [
              "2023M03"
             ],
             {
              "frame": {
               "duration": 0,
               "redraw": false
              },
              "fromcurrent": true,
              "mode": "immediate",
              "transition": {
               "duration": 0,
               "easing": "linear"
              }
             }
            ],
            "label": "2023M03",
            "method": "animate"
           }
          ],
          "x": 0.1,
          "xanchor": "left",
          "y": 0,
          "yanchor": "top"
         }
        ],
        "template": {
         "data": {
          "bar": [
           {
            "error_x": {
             "color": "#2a3f5f"
            },
            "error_y": {
             "color": "#2a3f5f"
            },
            "marker": {
             "line": {
              "color": "#E5ECF6",
              "width": 0.5
             },
             "pattern": {
              "fillmode": "overlay",
              "size": 10,
              "solidity": 0.2
             }
            },
            "type": "bar"
           }
          ],
          "barpolar": [
           {
            "marker": {
             "line": {
              "color": "#E5ECF6",
              "width": 0.5
             },
             "pattern": {
              "fillmode": "overlay",
              "size": 10,
              "solidity": 0.2
             }
            },
            "type": "barpolar"
           }
          ],
          "carpet": [
           {
            "aaxis": {
             "endlinecolor": "#2a3f5f",
             "gridcolor": "white",
             "linecolor": "white",
             "minorgridcolor": "white",
             "startlinecolor": "#2a3f5f"
            },
            "baxis": {
             "endlinecolor": "#2a3f5f",
             "gridcolor": "white",
             "linecolor": "white",
             "minorgridcolor": "white",
             "startlinecolor": "#2a3f5f"
            },
            "type": "carpet"
           }
          ],
          "choropleth": [
           {
            "colorbar": {
             "outlinewidth": 0,
             "ticks": ""
            },
            "type": "choropleth"
           }
          ],
          "contour": [
           {
            "colorbar": {
             "outlinewidth": 0,
             "ticks": ""
            },
            "colorscale": [
             [
              0,
              "#0d0887"
             ],
             [
              0.1111111111111111,
              "#46039f"
             ],
             [
              0.2222222222222222,
              "#7201a8"
             ],
             [
              0.3333333333333333,
              "#9c179e"
             ],
             [
              0.4444444444444444,
              "#bd3786"
             ],
             [
              0.5555555555555556,
              "#d8576b"
             ],
             [
              0.6666666666666666,
              "#ed7953"
             ],
             [
              0.7777777777777778,
              "#fb9f3a"
             ],
             [
              0.8888888888888888,
              "#fdca26"
             ],
             [
              1,
              "#f0f921"
             ]
            ],
            "type": "contour"
           }
          ],
          "contourcarpet": [
           {
            "colorbar": {
             "outlinewidth": 0,
             "ticks": ""
            },
            "type": "contourcarpet"
           }
          ],
          "heatmap": [
           {
            "colorbar": {
             "outlinewidth": 0,
             "ticks": ""
            },
            "colorscale": [
             [
              0,
              "#0d0887"
             ],
             [
              0.1111111111111111,
              "#46039f"
             ],
             [
              0.2222222222222222,
              "#7201a8"
             ],
             [
              0.3333333333333333,
              "#9c179e"
             ],
             [
              0.4444444444444444,
              "#bd3786"
             ],
             [
              0.5555555555555556,
              "#d8576b"
             ],
             [
              0.6666666666666666,
              "#ed7953"
             ],
             [
              0.7777777777777778,
              "#fb9f3a"
             ],
             [
              0.8888888888888888,
              "#fdca26"
             ],
             [
              1,
              "#f0f921"
             ]
            ],
            "type": "heatmap"
           }
          ],
          "heatmapgl": [
           {
            "colorbar": {
             "outlinewidth": 0,
             "ticks": ""
            },
            "colorscale": [
             [
              0,
              "#0d0887"
             ],
             [
              0.1111111111111111,
              "#46039f"
             ],
             [
              0.2222222222222222,
              "#7201a8"
             ],
             [
              0.3333333333333333,
              "#9c179e"
             ],
             [
              0.4444444444444444,
              "#bd3786"
             ],
             [
              0.5555555555555556,
              "#d8576b"
             ],
             [
              0.6666666666666666,
              "#ed7953"
             ],
             [
              0.7777777777777778,
              "#fb9f3a"
             ],
             [
              0.8888888888888888,
              "#fdca26"
             ],
             [
              1,
              "#f0f921"
             ]
            ],
            "type": "heatmapgl"
           }
          ],
          "histogram": [
           {
            "marker": {
             "pattern": {
              "fillmode": "overlay",
              "size": 10,
              "solidity": 0.2
             }
            },
            "type": "histogram"
           }
          ],
          "histogram2d": [
           {
            "colorbar": {
             "outlinewidth": 0,
             "ticks": ""
            },
            "colorscale": [
             [
              0,
              "#0d0887"
             ],
             [
              0.1111111111111111,
              "#46039f"
             ],
             [
              0.2222222222222222,
              "#7201a8"
             ],
             [
              0.3333333333333333,
              "#9c179e"
             ],
             [
              0.4444444444444444,
              "#bd3786"
             ],
             [
              0.5555555555555556,
              "#d8576b"
             ],
             [
              0.6666666666666666,
              "#ed7953"
             ],
             [
              0.7777777777777778,
              "#fb9f3a"
             ],
             [
              0.8888888888888888,
              "#fdca26"
             ],
             [
              1,
              "#f0f921"
             ]
            ],
            "type": "histogram2d"
           }
          ],
          "histogram2dcontour": [
           {
            "colorbar": {
             "outlinewidth": 0,
             "ticks": ""
            },
            "colorscale": [
             [
              0,
              "#0d0887"
             ],
             [
              0.1111111111111111,
              "#46039f"
             ],
             [
              0.2222222222222222,
              "#7201a8"
             ],
             [
              0.3333333333333333,
              "#9c179e"
             ],
             [
              0.4444444444444444,
              "#bd3786"
             ],
             [
              0.5555555555555556,
              "#d8576b"
             ],
             [
              0.6666666666666666,
              "#ed7953"
             ],
             [
              0.7777777777777778,
              "#fb9f3a"
             ],
             [
              0.8888888888888888,
              "#fdca26"
             ],
             [
              1,
              "#f0f921"
             ]
            ],
            "type": "histogram2dcontour"
           }
          ],
          "mesh3d": [
           {
            "colorbar": {
             "outlinewidth": 0,
             "ticks": ""
            },
            "type": "mesh3d"
           }
          ],
          "parcoords": [
           {
            "line": {
             "colorbar": {
              "outlinewidth": 0,
              "ticks": ""
             }
            },
            "type": "parcoords"
           }
          ],
          "pie": [
           {
            "automargin": true,
            "type": "pie"
           }
          ],
          "scatter": [
           {
            "fillpattern": {
             "fillmode": "overlay",
             "size": 10,
             "solidity": 0.2
            },
            "type": "scatter"
           }
          ],
          "scatter3d": [
           {
            "line": {
             "colorbar": {
              "outlinewidth": 0,
              "ticks": ""
             }
            },
            "marker": {
             "colorbar": {
              "outlinewidth": 0,
              "ticks": ""
             }
            },
            "type": "scatter3d"
           }
          ],
          "scattercarpet": [
           {
            "marker": {
             "colorbar": {
              "outlinewidth": 0,
              "ticks": ""
             }
            },
            "type": "scattercarpet"
           }
          ],
          "scattergeo": [
           {
            "marker": {
             "colorbar": {
              "outlinewidth": 0,
              "ticks": ""
             }
            },
            "type": "scattergeo"
           }
          ],
          "scattergl": [
           {
            "marker": {
             "colorbar": {
              "outlinewidth": 0,
              "ticks": ""
             }
            },
            "type": "scattergl"
           }
          ],
          "scattermapbox": [
           {
            "marker": {
             "colorbar": {
              "outlinewidth": 0,
              "ticks": ""
             }
            },
            "type": "scattermapbox"
           }
          ],
          "scatterpolar": [
           {
            "marker": {
             "colorbar": {
              "outlinewidth": 0,
              "ticks": ""
             }
            },
            "type": "scatterpolar"
           }
          ],
          "scatterpolargl": [
           {
            "marker": {
             "colorbar": {
              "outlinewidth": 0,
              "ticks": ""
             }
            },
            "type": "scatterpolargl"
           }
          ],
          "scatterternary": [
           {
            "marker": {
             "colorbar": {
              "outlinewidth": 0,
              "ticks": ""
             }
            },
            "type": "scatterternary"
           }
          ],
          "surface": [
           {
            "colorbar": {
             "outlinewidth": 0,
             "ticks": ""
            },
            "colorscale": [
             [
              0,
              "#0d0887"
             ],
             [
              0.1111111111111111,
              "#46039f"
             ],
             [
              0.2222222222222222,
              "#7201a8"
             ],
             [
              0.3333333333333333,
              "#9c179e"
             ],
             [
              0.4444444444444444,
              "#bd3786"
             ],
             [
              0.5555555555555556,
              "#d8576b"
             ],
             [
              0.6666666666666666,
              "#ed7953"
             ],
             [
              0.7777777777777778,
              "#fb9f3a"
             ],
             [
              0.8888888888888888,
              "#fdca26"
             ],
             [
              1,
              "#f0f921"
             ]
            ],
            "type": "surface"
           }
          ],
          "table": [
           {
            "cells": {
             "fill": {
              "color": "#EBF0F8"
             },
             "line": {
              "color": "white"
             }
            },
            "header": {
             "fill": {
              "color": "#C8D4E3"
             },
             "line": {
              "color": "white"
             }
            },
            "type": "table"
           }
          ]
         },
         "layout": {
          "annotationdefaults": {
           "arrowcolor": "#2a3f5f",
           "arrowhead": 0,
           "arrowwidth": 1
          },
          "autotypenumbers": "strict",
          "coloraxis": {
           "colorbar": {
            "outlinewidth": 0,
            "ticks": ""
           }
          },
          "colorscale": {
           "diverging": [
            [
             0,
             "#8e0152"
            ],
            [
             0.1,
             "#c51b7d"
            ],
            [
             0.2,
             "#de77ae"
            ],
            [
             0.3,
             "#f1b6da"
            ],
            [
             0.4,
             "#fde0ef"
            ],
            [
             0.5,
             "#f7f7f7"
            ],
            [
             0.6,
             "#e6f5d0"
            ],
            [
             0.7,
             "#b8e186"
            ],
            [
             0.8,
             "#7fbc41"
            ],
            [
             0.9,
             "#4d9221"
            ],
            [
             1,
             "#276419"
            ]
           ],
           "sequential": [
            [
             0,
             "#0d0887"
            ],
            [
             0.1111111111111111,
             "#46039f"
            ],
            [
             0.2222222222222222,
             "#7201a8"
            ],
            [
             0.3333333333333333,
             "#9c179e"
            ],
            [
             0.4444444444444444,
             "#bd3786"
            ],
            [
             0.5555555555555556,
             "#d8576b"
            ],
            [
             0.6666666666666666,
             "#ed7953"
            ],
            [
             0.7777777777777778,
             "#fb9f3a"
            ],
            [
             0.8888888888888888,
             "#fdca26"
            ],
            [
             1,
             "#f0f921"
            ]
           ],
           "sequentialminus": [
            [
             0,
             "#0d0887"
            ],
            [
             0.1111111111111111,
             "#46039f"
            ],
            [
             0.2222222222222222,
             "#7201a8"
            ],
            [
             0.3333333333333333,
             "#9c179e"
            ],
            [
             0.4444444444444444,
             "#bd3786"
            ],
            [
             0.5555555555555556,
             "#d8576b"
            ],
            [
             0.6666666666666666,
             "#ed7953"
            ],
            [
             0.7777777777777778,
             "#fb9f3a"
            ],
            [
             0.8888888888888888,
             "#fdca26"
            ],
            [
             1,
             "#f0f921"
            ]
           ]
          },
          "colorway": [
           "#636efa",
           "#EF553B",
           "#00cc96",
           "#ab63fa",
           "#FFA15A",
           "#19d3f3",
           "#FF6692",
           "#B6E880",
           "#FF97FF",
           "#FECB52"
          ],
          "font": {
           "color": "#2a3f5f"
          },
          "geo": {
           "bgcolor": "white",
           "lakecolor": "white",
           "landcolor": "#E5ECF6",
           "showlakes": true,
           "showland": true,
           "subunitcolor": "white"
          },
          "hoverlabel": {
           "align": "left"
          },
          "hovermode": "closest",
          "mapbox": {
           "style": "light"
          },
          "paper_bgcolor": "white",
          "plot_bgcolor": "#E5ECF6",
          "polar": {
           "angularaxis": {
            "gridcolor": "white",
            "linecolor": "white",
            "ticks": ""
           },
           "bgcolor": "#E5ECF6",
           "radialaxis": {
            "gridcolor": "white",
            "linecolor": "white",
            "ticks": ""
           }
          },
          "scene": {
           "xaxis": {
            "backgroundcolor": "#E5ECF6",
            "gridcolor": "white",
            "gridwidth": 2,
            "linecolor": "white",
            "showbackground": true,
            "ticks": "",
            "zerolinecolor": "white"
           },
           "yaxis": {
            "backgroundcolor": "#E5ECF6",
            "gridcolor": "white",
            "gridwidth": 2,
            "linecolor": "white",
            "showbackground": true,
            "ticks": "",
            "zerolinecolor": "white"
           },
           "zaxis": {
            "backgroundcolor": "#E5ECF6",
            "gridcolor": "white",
            "gridwidth": 2,
            "linecolor": "white",
            "showbackground": true,
            "ticks": "",
            "zerolinecolor": "white"
           }
          },
          "shapedefaults": {
           "line": {
            "color": "#2a3f5f"
           }
          },
          "ternary": {
           "aaxis": {
            "gridcolor": "white",
            "linecolor": "white",
            "ticks": ""
           },
           "baxis": {
            "gridcolor": "white",
            "linecolor": "white",
            "ticks": ""
           },
           "bgcolor": "#E5ECF6",
           "caxis": {
            "gridcolor": "white",
            "linecolor": "white",
            "ticks": ""
           }
          },
          "title": {
           "x": 0.05
          },
          "xaxis": {
           "automargin": true,
           "gridcolor": "white",
           "linecolor": "white",
           "ticks": "",
           "title": {
            "standoff": 15
           },
           "zerolinecolor": "white",
           "zerolinewidth": 2
          },
          "yaxis": {
           "automargin": true,
           "gridcolor": "white",
           "linecolor": "white",
           "ticks": "",
           "title": {
            "standoff": 15
           },
           "zerolinecolor": "white",
           "zerolinewidth": 2
          }
         }
        },
        "title": {
         "text": "Interactive Graph Ireland"
        },
        "updatemenus": [
         {
          "buttons": [
           {
            "args": [
             null,
             {
              "frame": {
               "duration": 1000,
               "redraw": true
              },
              "fromcurrent": true
             }
            ],
            "label": "Play",
            "method": "animate"
           },
           {
            "args": [
             null,
             {
              "frame": {
               "duration": 1000,
               "redraw": true
              },
              "fromcurrent": true
             }
            ],
            "label": "Play",
            "method": "animate"
           }
          ],
          "direction": "left",
          "pad": {
           "r": 10,
           "t": 70
          },
          "showactive": false,
          "type": "buttons",
          "x": 0.1,
          "xanchor": "right",
          "y": 0,
          "yanchor": "top"
         }
        ],
        "xaxis": {
         "anchor": "y",
         "domain": [
          0,
          1
         ],
         "range": [
          0.22112186062058514,
          0.8253880021245973
         ],
         "title": {
          "text": "Freight Dublin"
         }
        },
        "yaxis": {
         "anchor": "x",
         "domain": [
          0,
          1
         ],
         "range": [
          0.17758371208101933,
          0.8020191246738483
         ],
         "title": {
          "text": "Passengers Dublin"
         }
        }
       }
      },
      "text/html": [
       "<div>                            <div id=\"40a350ec-37f3-4c12-b286-ae311a4dcf0e\" class=\"plotly-graph-div\" style=\"height:525px; width:100%;\"></div>            <script type=\"text/javascript\">                require([\"plotly\"], function(Plotly) {                    window.PLOTLYENV=window.PLOTLYENV || {};                                    if (document.getElementById(\"40a350ec-37f3-4c12-b286-ae311a4dcf0e\")) {                    Plotly.newPlot(                        \"40a350ec-37f3-4c12-b286-ae311a4dcf0e\",                        [{\"hovertemplate\":\"<b>%{hovertext}</b><br><br>Month=2020M01<br>Freight Dublin=%{x}<br>Passengers Dublin=%{y}<br>Ireland Index=%{marker.color}<extra></extra>\",\"hovertext\":[\"2020M01\"],\"legendgroup\":\"\",\"marker\":{\"color\":[0.5552279149215082],\"coloraxis\":\"coloraxis\",\"size\":[0.5552279149215082],\"sizemode\":\"area\",\"sizeref\":0.0015823013165771416,\"symbol\":\"circle\"},\"mode\":\"markers\",\"name\":\"\",\"orientation\":\"v\",\"showlegend\":false,\"x\":[0.22112186062058514],\"xaxis\":\"x\",\"y\":[0.4943580498143495],\"yaxis\":\"y\",\"type\":\"scatter\"}],                        {\"template\":{\"data\":{\"histogram2dcontour\":[{\"type\":\"histogram2dcontour\",\"colorbar\":{\"outlinewidth\":0,\"ticks\":\"\"},\"colorscale\":[[0.0,\"#0d0887\"],[0.1111111111111111,\"#46039f\"],[0.2222222222222222,\"#7201a8\"],[0.3333333333333333,\"#9c179e\"],[0.4444444444444444,\"#bd3786\"],[0.5555555555555556,\"#d8576b\"],[0.6666666666666666,\"#ed7953\"],[0.7777777777777778,\"#fb9f3a\"],[0.8888888888888888,\"#fdca26\"],[1.0,\"#f0f921\"]]}],\"choropleth\":[{\"type\":\"choropleth\",\"colorbar\":{\"outlinewidth\":0,\"ticks\":\"\"}}],\"histogram2d\":[{\"type\":\"histogram2d\",\"colorbar\":{\"outlinewidth\":0,\"ticks\":\"\"},\"colorscale\":[[0.0,\"#0d0887\"],[0.1111111111111111,\"#46039f\"],[0.2222222222222222,\"#7201a8\"],[0.3333333333333333,\"#9c179e\"],[0.4444444444444444,\"#bd3786\"],[0.5555555555555556,\"#d8576b\"],[0.6666666666666666,\"#ed7953\"],[0.7777777777777778,\"#fb9f3a\"],[0.8888888888888888,\"#fdca26\"],[1.0,\"#f0f921\"]]}],\"heatmap\":[{\"type\":\"heatmap\",\"colorbar\":{\"outlinewidth\":0,\"ticks\":\"\"},\"colorscale\":[[0.0,\"#0d0887\"],[0.1111111111111111,\"#46039f\"],[0.2222222222222222,\"#7201a8\"],[0.3333333333333333,\"#9c179e\"],[0.4444444444444444,\"#bd3786\"],[0.5555555555555556,\"#d8576b\"],[0.6666666666666666,\"#ed7953\"],[0.7777777777777778,\"#fb9f3a\"],[0.8888888888888888,\"#fdca26\"],[1.0,\"#f0f921\"]]}],\"heatmapgl\":[{\"type\":\"heatmapgl\",\"colorbar\":{\"outlinewidth\":0,\"ticks\":\"\"},\"colorscale\":[[0.0,\"#0d0887\"],[0.1111111111111111,\"#46039f\"],[0.2222222222222222,\"#7201a8\"],[0.3333333333333333,\"#9c179e\"],[0.4444444444444444,\"#bd3786\"],[0.5555555555555556,\"#d8576b\"],[0.6666666666666666,\"#ed7953\"],[0.7777777777777778,\"#fb9f3a\"],[0.8888888888888888,\"#fdca26\"],[1.0,\"#f0f921\"]]}],\"contourcarpet\":[{\"type\":\"contourcarpet\",\"colorbar\":{\"outlinewidth\":0,\"ticks\":\"\"}}],\"contour\":[{\"type\":\"contour\",\"colorbar\":{\"outlinewidth\":0,\"ticks\":\"\"},\"colorscale\":[[0.0,\"#0d0887\"],[0.1111111111111111,\"#46039f\"],[0.2222222222222222,\"#7201a8\"],[0.3333333333333333,\"#9c179e\"],[0.4444444444444444,\"#bd3786\"],[0.5555555555555556,\"#d8576b\"],[0.6666666666666666,\"#ed7953\"],[0.7777777777777778,\"#fb9f3a\"],[0.8888888888888888,\"#fdca26\"],[1.0,\"#f0f921\"]]}],\"surface\":[{\"type\":\"surface\",\"colorbar\":{\"outlinewidth\":0,\"ticks\":\"\"},\"colorscale\":[[0.0,\"#0d0887\"],[0.1111111111111111,\"#46039f\"],[0.2222222222222222,\"#7201a8\"],[0.3333333333333333,\"#9c179e\"],[0.4444444444444444,\"#bd3786\"],[0.5555555555555556,\"#d8576b\"],[0.6666666666666666,\"#ed7953\"],[0.7777777777777778,\"#fb9f3a\"],[0.8888888888888888,\"#fdca26\"],[1.0,\"#f0f921\"]]}],\"mesh3d\":[{\"type\":\"mesh3d\",\"colorbar\":{\"outlinewidth\":0,\"ticks\":\"\"}}],\"scatter\":[{\"fillpattern\":{\"fillmode\":\"overlay\",\"size\":10,\"solidity\":0.2},\"type\":\"scatter\"}],\"parcoords\":[{\"type\":\"parcoords\",\"line\":{\"colorbar\":{\"outlinewidth\":0,\"ticks\":\"\"}}}],\"scatterpolargl\":[{\"type\":\"scatterpolargl\",\"marker\":{\"colorbar\":{\"outlinewidth\":0,\"ticks\":\"\"}}}],\"bar\":[{\"error_x\":{\"color\":\"#2a3f5f\"},\"error_y\":{\"color\":\"#2a3f5f\"},\"marker\":{\"line\":{\"color\":\"#E5ECF6\",\"width\":0.5},\"pattern\":{\"fillmode\":\"overlay\",\"size\":10,\"solidity\":0.2}},\"type\":\"bar\"}],\"scattergeo\":[{\"type\":\"scattergeo\",\"marker\":{\"colorbar\":{\"outlinewidth\":0,\"ticks\":\"\"}}}],\"scatterpolar\":[{\"type\":\"scatterpolar\",\"marker\":{\"colorbar\":{\"outlinewidth\":0,\"ticks\":\"\"}}}],\"histogram\":[{\"marker\":{\"pattern\":{\"fillmode\":\"overlay\",\"size\":10,\"solidity\":0.2}},\"type\":\"histogram\"}],\"scattergl\":[{\"type\":\"scattergl\",\"marker\":{\"colorbar\":{\"outlinewidth\":0,\"ticks\":\"\"}}}],\"scatter3d\":[{\"type\":\"scatter3d\",\"line\":{\"colorbar\":{\"outlinewidth\":0,\"ticks\":\"\"}},\"marker\":{\"colorbar\":{\"outlinewidth\":0,\"ticks\":\"\"}}}],\"scattermapbox\":[{\"type\":\"scattermapbox\",\"marker\":{\"colorbar\":{\"outlinewidth\":0,\"ticks\":\"\"}}}],\"scatterternary\":[{\"type\":\"scatterternary\",\"marker\":{\"colorbar\":{\"outlinewidth\":0,\"ticks\":\"\"}}}],\"scattercarpet\":[{\"type\":\"scattercarpet\",\"marker\":{\"colorbar\":{\"outlinewidth\":0,\"ticks\":\"\"}}}],\"carpet\":[{\"aaxis\":{\"endlinecolor\":\"#2a3f5f\",\"gridcolor\":\"white\",\"linecolor\":\"white\",\"minorgridcolor\":\"white\",\"startlinecolor\":\"#2a3f5f\"},\"baxis\":{\"endlinecolor\":\"#2a3f5f\",\"gridcolor\":\"white\",\"linecolor\":\"white\",\"minorgridcolor\":\"white\",\"startlinecolor\":\"#2a3f5f\"},\"type\":\"carpet\"}],\"table\":[{\"cells\":{\"fill\":{\"color\":\"#EBF0F8\"},\"line\":{\"color\":\"white\"}},\"header\":{\"fill\":{\"color\":\"#C8D4E3\"},\"line\":{\"color\":\"white\"}},\"type\":\"table\"}],\"barpolar\":[{\"marker\":{\"line\":{\"color\":\"#E5ECF6\",\"width\":0.5},\"pattern\":{\"fillmode\":\"overlay\",\"size\":10,\"solidity\":0.2}},\"type\":\"barpolar\"}],\"pie\":[{\"automargin\":true,\"type\":\"pie\"}]},\"layout\":{\"autotypenumbers\":\"strict\",\"colorway\":[\"#636efa\",\"#EF553B\",\"#00cc96\",\"#ab63fa\",\"#FFA15A\",\"#19d3f3\",\"#FF6692\",\"#B6E880\",\"#FF97FF\",\"#FECB52\"],\"font\":{\"color\":\"#2a3f5f\"},\"hovermode\":\"closest\",\"hoverlabel\":{\"align\":\"left\"},\"paper_bgcolor\":\"white\",\"plot_bgcolor\":\"#E5ECF6\",\"polar\":{\"bgcolor\":\"#E5ECF6\",\"angularaxis\":{\"gridcolor\":\"white\",\"linecolor\":\"white\",\"ticks\":\"\"},\"radialaxis\":{\"gridcolor\":\"white\",\"linecolor\":\"white\",\"ticks\":\"\"}},\"ternary\":{\"bgcolor\":\"#E5ECF6\",\"aaxis\":{\"gridcolor\":\"white\",\"linecolor\":\"white\",\"ticks\":\"\"},\"baxis\":{\"gridcolor\":\"white\",\"linecolor\":\"white\",\"ticks\":\"\"},\"caxis\":{\"gridcolor\":\"white\",\"linecolor\":\"white\",\"ticks\":\"\"}},\"coloraxis\":{\"colorbar\":{\"outlinewidth\":0,\"ticks\":\"\"}},\"colorscale\":{\"sequential\":[[0.0,\"#0d0887\"],[0.1111111111111111,\"#46039f\"],[0.2222222222222222,\"#7201a8\"],[0.3333333333333333,\"#9c179e\"],[0.4444444444444444,\"#bd3786\"],[0.5555555555555556,\"#d8576b\"],[0.6666666666666666,\"#ed7953\"],[0.7777777777777778,\"#fb9f3a\"],[0.8888888888888888,\"#fdca26\"],[1.0,\"#f0f921\"]],\"sequentialminus\":[[0.0,\"#0d0887\"],[0.1111111111111111,\"#46039f\"],[0.2222222222222222,\"#7201a8\"],[0.3333333333333333,\"#9c179e\"],[0.4444444444444444,\"#bd3786\"],[0.5555555555555556,\"#d8576b\"],[0.6666666666666666,\"#ed7953\"],[0.7777777777777778,\"#fb9f3a\"],[0.8888888888888888,\"#fdca26\"],[1.0,\"#f0f921\"]],\"diverging\":[[0,\"#8e0152\"],[0.1,\"#c51b7d\"],[0.2,\"#de77ae\"],[0.3,\"#f1b6da\"],[0.4,\"#fde0ef\"],[0.5,\"#f7f7f7\"],[0.6,\"#e6f5d0\"],[0.7,\"#b8e186\"],[0.8,\"#7fbc41\"],[0.9,\"#4d9221\"],[1,\"#276419\"]]},\"xaxis\":{\"gridcolor\":\"white\",\"linecolor\":\"white\",\"ticks\":\"\",\"title\":{\"standoff\":15},\"zerolinecolor\":\"white\",\"automargin\":true,\"zerolinewidth\":2},\"yaxis\":{\"gridcolor\":\"white\",\"linecolor\":\"white\",\"ticks\":\"\",\"title\":{\"standoff\":15},\"zerolinecolor\":\"white\",\"automargin\":true,\"zerolinewidth\":2},\"scene\":{\"xaxis\":{\"backgroundcolor\":\"#E5ECF6\",\"gridcolor\":\"white\",\"linecolor\":\"white\",\"showbackground\":true,\"ticks\":\"\",\"zerolinecolor\":\"white\",\"gridwidth\":2},\"yaxis\":{\"backgroundcolor\":\"#E5ECF6\",\"gridcolor\":\"white\",\"linecolor\":\"white\",\"showbackground\":true,\"ticks\":\"\",\"zerolinecolor\":\"white\",\"gridwidth\":2},\"zaxis\":{\"backgroundcolor\":\"#E5ECF6\",\"gridcolor\":\"white\",\"linecolor\":\"white\",\"showbackground\":true,\"ticks\":\"\",\"zerolinecolor\":\"white\",\"gridwidth\":2}},\"shapedefaults\":{\"line\":{\"color\":\"#2a3f5f\"}},\"annotationdefaults\":{\"arrowcolor\":\"#2a3f5f\",\"arrowhead\":0,\"arrowwidth\":1},\"geo\":{\"bgcolor\":\"white\",\"landcolor\":\"#E5ECF6\",\"subunitcolor\":\"white\",\"showland\":true,\"showlakes\":true,\"lakecolor\":\"white\"},\"title\":{\"x\":0.05},\"mapbox\":{\"style\":\"light\"}}},\"xaxis\":{\"anchor\":\"y\",\"domain\":[0.0,1.0],\"title\":{\"text\":\"Freight Dublin\"},\"range\":[0.22112186062058514,0.8253880021245973]},\"yaxis\":{\"anchor\":\"x\",\"domain\":[0.0,1.0],\"title\":{\"text\":\"Passengers Dublin\"},\"range\":[0.17758371208101933,0.8020191246738483]},\"coloraxis\":{\"colorbar\":{\"title\":{\"text\":\"Ireland Index\"}},\"colorscale\":[[0.0,\"#0d0887\"],[0.1111111111111111,\"#46039f\"],[0.2222222222222222,\"#7201a8\"],[0.3333333333333333,\"#9c179e\"],[0.4444444444444444,\"#bd3786\"],[0.5555555555555556,\"#d8576b\"],[0.6666666666666666,\"#ed7953\"],[0.7777777777777778,\"#fb9f3a\"],[0.8888888888888888,\"#fdca26\"],[1.0,\"#f0f921\"]]},\"legend\":{\"tracegroupgap\":0,\"itemsizing\":\"constant\"},\"title\":{\"text\":\"Interactive Graph Ireland\"},\"updatemenus\":[{\"buttons\":[{\"args\":[null,{\"frame\":{\"duration\":1000,\"redraw\":true},\"fromcurrent\":true}],\"label\":\"Play\",\"method\":\"animate\"},{\"args\":[null,{\"frame\":{\"duration\":1000,\"redraw\":true},\"fromcurrent\":true}],\"label\":\"Play\",\"method\":\"animate\"}],\"direction\":\"left\",\"pad\":{\"r\":10,\"t\":70},\"showactive\":false,\"type\":\"buttons\",\"x\":0.1,\"xanchor\":\"right\",\"y\":0,\"yanchor\":\"top\"}],\"sliders\":[{\"active\":0,\"currentvalue\":{\"prefix\":\"Month=\"},\"len\":0.9,\"pad\":{\"b\":10,\"t\":60},\"steps\":[{\"args\":[[\"2020M01\"],{\"frame\":{\"duration\":0,\"redraw\":false},\"mode\":\"immediate\",\"fromcurrent\":true,\"transition\":{\"duration\":0,\"easing\":\"linear\"}}],\"label\":\"2020M01\",\"method\":\"animate\"},{\"args\":[[\"2020M02\"],{\"frame\":{\"duration\":0,\"redraw\":false},\"mode\":\"immediate\",\"fromcurrent\":true,\"transition\":{\"duration\":0,\"easing\":\"linear\"}}],\"label\":\"2020M02\",\"method\":\"animate\"},{\"args\":[[\"2020M03\"],{\"frame\":{\"duration\":0,\"redraw\":false},\"mode\":\"immediate\",\"fromcurrent\":true,\"transition\":{\"duration\":0,\"easing\":\"linear\"}}],\"label\":\"2020M03\",\"method\":\"animate\"},{\"args\":[[\"2020M04\"],{\"frame\":{\"duration\":0,\"redraw\":false},\"mode\":\"immediate\",\"fromcurrent\":true,\"transition\":{\"duration\":0,\"easing\":\"linear\"}}],\"label\":\"2020M04\",\"method\":\"animate\"},{\"args\":[[\"2020M05\"],{\"frame\":{\"duration\":0,\"redraw\":false},\"mode\":\"immediate\",\"fromcurrent\":true,\"transition\":{\"duration\":0,\"easing\":\"linear\"}}],\"label\":\"2020M05\",\"method\":\"animate\"},{\"args\":[[\"2020M06\"],{\"frame\":{\"duration\":0,\"redraw\":false},\"mode\":\"immediate\",\"fromcurrent\":true,\"transition\":{\"duration\":0,\"easing\":\"linear\"}}],\"label\":\"2020M06\",\"method\":\"animate\"},{\"args\":[[\"2020M07\"],{\"frame\":{\"duration\":0,\"redraw\":false},\"mode\":\"immediate\",\"fromcurrent\":true,\"transition\":{\"duration\":0,\"easing\":\"linear\"}}],\"label\":\"2020M07\",\"method\":\"animate\"},{\"args\":[[\"2020M08\"],{\"frame\":{\"duration\":0,\"redraw\":false},\"mode\":\"immediate\",\"fromcurrent\":true,\"transition\":{\"duration\":0,\"easing\":\"linear\"}}],\"label\":\"2020M08\",\"method\":\"animate\"},{\"args\":[[\"2020M09\"],{\"frame\":{\"duration\":0,\"redraw\":false},\"mode\":\"immediate\",\"fromcurrent\":true,\"transition\":{\"duration\":0,\"easing\":\"linear\"}}],\"label\":\"2020M09\",\"method\":\"animate\"},{\"args\":[[\"2020M10\"],{\"frame\":{\"duration\":0,\"redraw\":false},\"mode\":\"immediate\",\"fromcurrent\":true,\"transition\":{\"duration\":0,\"easing\":\"linear\"}}],\"label\":\"2020M10\",\"method\":\"animate\"},{\"args\":[[\"2020M11\"],{\"frame\":{\"duration\":0,\"redraw\":false},\"mode\":\"immediate\",\"fromcurrent\":true,\"transition\":{\"duration\":0,\"easing\":\"linear\"}}],\"label\":\"2020M11\",\"method\":\"animate\"},{\"args\":[[\"2020M12\"],{\"frame\":{\"duration\":0,\"redraw\":false},\"mode\":\"immediate\",\"fromcurrent\":true,\"transition\":{\"duration\":0,\"easing\":\"linear\"}}],\"label\":\"2020M12\",\"method\":\"animate\"},{\"args\":[[\"2021M01\"],{\"frame\":{\"duration\":0,\"redraw\":false},\"mode\":\"immediate\",\"fromcurrent\":true,\"transition\":{\"duration\":0,\"easing\":\"linear\"}}],\"label\":\"2021M01\",\"method\":\"animate\"},{\"args\":[[\"2021M02\"],{\"frame\":{\"duration\":0,\"redraw\":false},\"mode\":\"immediate\",\"fromcurrent\":true,\"transition\":{\"duration\":0,\"easing\":\"linear\"}}],\"label\":\"2021M02\",\"method\":\"animate\"},{\"args\":[[\"2021M03\"],{\"frame\":{\"duration\":0,\"redraw\":false},\"mode\":\"immediate\",\"fromcurrent\":true,\"transition\":{\"duration\":0,\"easing\":\"linear\"}}],\"label\":\"2021M03\",\"method\":\"animate\"},{\"args\":[[\"2021M04\"],{\"frame\":{\"duration\":0,\"redraw\":false},\"mode\":\"immediate\",\"fromcurrent\":true,\"transition\":{\"duration\":0,\"easing\":\"linear\"}}],\"label\":\"2021M04\",\"method\":\"animate\"},{\"args\":[[\"2021M05\"],{\"frame\":{\"duration\":0,\"redraw\":false},\"mode\":\"immediate\",\"fromcurrent\":true,\"transition\":{\"duration\":0,\"easing\":\"linear\"}}],\"label\":\"2021M05\",\"method\":\"animate\"},{\"args\":[[\"2021M06\"],{\"frame\":{\"duration\":0,\"redraw\":false},\"mode\":\"immediate\",\"fromcurrent\":true,\"transition\":{\"duration\":0,\"easing\":\"linear\"}}],\"label\":\"2021M06\",\"method\":\"animate\"},{\"args\":[[\"2021M07\"],{\"frame\":{\"duration\":0,\"redraw\":false},\"mode\":\"immediate\",\"fromcurrent\":true,\"transition\":{\"duration\":0,\"easing\":\"linear\"}}],\"label\":\"2021M07\",\"method\":\"animate\"},{\"args\":[[\"2021M08\"],{\"frame\":{\"duration\":0,\"redraw\":false},\"mode\":\"immediate\",\"fromcurrent\":true,\"transition\":{\"duration\":0,\"easing\":\"linear\"}}],\"label\":\"2021M08\",\"method\":\"animate\"},{\"args\":[[\"2021M09\"],{\"frame\":{\"duration\":0,\"redraw\":false},\"mode\":\"immediate\",\"fromcurrent\":true,\"transition\":{\"duration\":0,\"easing\":\"linear\"}}],\"label\":\"2021M09\",\"method\":\"animate\"},{\"args\":[[\"2021M10\"],{\"frame\":{\"duration\":0,\"redraw\":false},\"mode\":\"immediate\",\"fromcurrent\":true,\"transition\":{\"duration\":0,\"easing\":\"linear\"}}],\"label\":\"2021M10\",\"method\":\"animate\"},{\"args\":[[\"2021M11\"],{\"frame\":{\"duration\":0,\"redraw\":false},\"mode\":\"immediate\",\"fromcurrent\":true,\"transition\":{\"duration\":0,\"easing\":\"linear\"}}],\"label\":\"2021M11\",\"method\":\"animate\"},{\"args\":[[\"2021M12\"],{\"frame\":{\"duration\":0,\"redraw\":false},\"mode\":\"immediate\",\"fromcurrent\":true,\"transition\":{\"duration\":0,\"easing\":\"linear\"}}],\"label\":\"2021M12\",\"method\":\"animate\"},{\"args\":[[\"2022M01\"],{\"frame\":{\"duration\":0,\"redraw\":false},\"mode\":\"immediate\",\"fromcurrent\":true,\"transition\":{\"duration\":0,\"easing\":\"linear\"}}],\"label\":\"2022M01\",\"method\":\"animate\"},{\"args\":[[\"2022M02\"],{\"frame\":{\"duration\":0,\"redraw\":false},\"mode\":\"immediate\",\"fromcurrent\":true,\"transition\":{\"duration\":0,\"easing\":\"linear\"}}],\"label\":\"2022M02\",\"method\":\"animate\"},{\"args\":[[\"2022M03\"],{\"frame\":{\"duration\":0,\"redraw\":false},\"mode\":\"immediate\",\"fromcurrent\":true,\"transition\":{\"duration\":0,\"easing\":\"linear\"}}],\"label\":\"2022M03\",\"method\":\"animate\"},{\"args\":[[\"2022M04\"],{\"frame\":{\"duration\":0,\"redraw\":false},\"mode\":\"immediate\",\"fromcurrent\":true,\"transition\":{\"duration\":0,\"easing\":\"linear\"}}],\"label\":\"2022M04\",\"method\":\"animate\"},{\"args\":[[\"2022M05\"],{\"frame\":{\"duration\":0,\"redraw\":false},\"mode\":\"immediate\",\"fromcurrent\":true,\"transition\":{\"duration\":0,\"easing\":\"linear\"}}],\"label\":\"2022M05\",\"method\":\"animate\"},{\"args\":[[\"2022M06\"],{\"frame\":{\"duration\":0,\"redraw\":false},\"mode\":\"immediate\",\"fromcurrent\":true,\"transition\":{\"duration\":0,\"easing\":\"linear\"}}],\"label\":\"2022M06\",\"method\":\"animate\"},{\"args\":[[\"2022M07\"],{\"frame\":{\"duration\":0,\"redraw\":false},\"mode\":\"immediate\",\"fromcurrent\":true,\"transition\":{\"duration\":0,\"easing\":\"linear\"}}],\"label\":\"2022M07\",\"method\":\"animate\"},{\"args\":[[\"2022M08\"],{\"frame\":{\"duration\":0,\"redraw\":false},\"mode\":\"immediate\",\"fromcurrent\":true,\"transition\":{\"duration\":0,\"easing\":\"linear\"}}],\"label\":\"2022M08\",\"method\":\"animate\"},{\"args\":[[\"2022M09\"],{\"frame\":{\"duration\":0,\"redraw\":false},\"mode\":\"immediate\",\"fromcurrent\":true,\"transition\":{\"duration\":0,\"easing\":\"linear\"}}],\"label\":\"2022M09\",\"method\":\"animate\"},{\"args\":[[\"2022M10\"],{\"frame\":{\"duration\":0,\"redraw\":false},\"mode\":\"immediate\",\"fromcurrent\":true,\"transition\":{\"duration\":0,\"easing\":\"linear\"}}],\"label\":\"2022M10\",\"method\":\"animate\"},{\"args\":[[\"2022M11\"],{\"frame\":{\"duration\":0,\"redraw\":false},\"mode\":\"immediate\",\"fromcurrent\":true,\"transition\":{\"duration\":0,\"easing\":\"linear\"}}],\"label\":\"2022M11\",\"method\":\"animate\"},{\"args\":[[\"2022M12\"],{\"frame\":{\"duration\":0,\"redraw\":false},\"mode\":\"immediate\",\"fromcurrent\":true,\"transition\":{\"duration\":0,\"easing\":\"linear\"}}],\"label\":\"2022M12\",\"method\":\"animate\"},{\"args\":[[\"2023M01\"],{\"frame\":{\"duration\":0,\"redraw\":false},\"mode\":\"immediate\",\"fromcurrent\":true,\"transition\":{\"duration\":0,\"easing\":\"linear\"}}],\"label\":\"2023M01\",\"method\":\"animate\"},{\"args\":[[\"2023M02\"],{\"frame\":{\"duration\":0,\"redraw\":false},\"mode\":\"immediate\",\"fromcurrent\":true,\"transition\":{\"duration\":0,\"easing\":\"linear\"}}],\"label\":\"2023M02\",\"method\":\"animate\"},{\"args\":[[\"2023M03\"],{\"frame\":{\"duration\":0,\"redraw\":false},\"mode\":\"immediate\",\"fromcurrent\":true,\"transition\":{\"duration\":0,\"easing\":\"linear\"}}],\"label\":\"2023M03\",\"method\":\"animate\"}],\"x\":0.1,\"xanchor\":\"left\",\"y\":0,\"yanchor\":\"top\"}]},                        {\"responsive\": true}                    ).then(function(){\n",
       "                            Plotly.addFrames('40a350ec-37f3-4c12-b286-ae311a4dcf0e', [{\"data\":[{\"hovertemplate\":\"<b>%{hovertext}</b><br><br>Month=2020M01<br>Freight Dublin=%{x}<br>Passengers Dublin=%{y}<br>Ireland Index=%{marker.color}<extra></extra>\",\"hovertext\":[\"2020M01\"],\"legendgroup\":\"\",\"marker\":{\"color\":[0.5552279149215082],\"coloraxis\":\"coloraxis\",\"size\":[0.5552279149215082],\"sizemode\":\"area\",\"sizeref\":0.0015823013165771416,\"symbol\":\"circle\"},\"mode\":\"markers\",\"name\":\"\",\"orientation\":\"v\",\"showlegend\":false,\"x\":[0.22112186062058514],\"xaxis\":\"x\",\"y\":[0.4943580498143495],\"yaxis\":\"y\",\"type\":\"scatter\"}],\"name\":\"2020M01\"},{\"data\":[{\"hovertemplate\":\"<b>%{hovertext}</b><br><br>Month=2020M02<br>Freight Dublin=%{x}<br>Passengers Dublin=%{y}<br>Ireland Index=%{marker.color}<extra></extra>\",\"hovertext\":[\"2020M02\"],\"legendgroup\":\"\",\"marker\":{\"color\":[0.3498770844170012],\"coloraxis\":\"coloraxis\",\"size\":[0.3498770844170012],\"sizemode\":\"area\",\"sizeref\":0.0015823013165771416,\"symbol\":\"circle\"},\"mode\":\"markers\",\"name\":\"\",\"orientation\":\"v\",\"showlegend\":false,\"x\":[0.746346528345875],\"xaxis\":\"x\",\"y\":[0.520196534404634],\"yaxis\":\"y\",\"type\":\"scatter\"}],\"name\":\"2020M02\"},{\"data\":[{\"hovertemplate\":\"<b>%{hovertext}</b><br><br>Month=2020M03<br>Freight Dublin=%{x}<br>Passengers Dublin=%{y}<br>Ireland Index=%{marker.color}<extra></extra>\",\"hovertext\":[\"2020M03\"],\"legendgroup\":\"\",\"marker\":{\"color\":[0.3314063502648239],\"coloraxis\":\"coloraxis\",\"size\":[0.3314063502648239],\"sizemode\":\"area\",\"sizeref\":0.0015823013165771416,\"symbol\":\"circle\"},\"mode\":\"markers\",\"name\":\"\",\"orientation\":\"v\",\"showlegend\":false,\"x\":[0.7458263691627028],\"xaxis\":\"x\",\"y\":[0.35514463446534245],\"yaxis\":\"y\",\"type\":\"scatter\"}],\"name\":\"2020M03\"},{\"data\":[{\"hovertemplate\":\"<b>%{hovertext}</b><br><br>Month=2020M04<br>Freight Dublin=%{x}<br>Passengers Dublin=%{y}<br>Ireland Index=%{marker.color}<extra></extra>\",\"hovertext\":[\"2020M04\"],\"legendgroup\":\"\",\"marker\":{\"color\":[0.1384286248292988],\"coloraxis\":\"coloraxis\",\"size\":[0.1384286248292988],\"sizemode\":\"area\",\"sizeref\":0.0015823013165771416,\"symbol\":\"circle\"},\"mode\":\"markers\",\"name\":\"\",\"orientation\":\"v\",\"showlegend\":false,\"x\":[0.6692407495649693],\"xaxis\":\"x\",\"y\":[0.4608693886511459],\"yaxis\":\"y\",\"type\":\"scatter\"}],\"name\":\"2020M04\"},{\"data\":[{\"hovertemplate\":\"<b>%{hovertext}</b><br><br>Month=2020M05<br>Freight Dublin=%{x}<br>Passengers Dublin=%{y}<br>Ireland Index=%{marker.color}<extra></extra>\",\"hovertext\":[\"2020M05\"],\"legendgroup\":\"\",\"marker\":{\"color\":[0.4322738246598545],\"coloraxis\":\"coloraxis\",\"size\":[0.4322738246598545],\"sizemode\":\"area\",\"sizeref\":0.0015823013165771416,\"symbol\":\"circle\"},\"mode\":\"markers\",\"name\":\"\",\"orientation\":\"v\",\"showlegend\":false,\"x\":[0.4344814347311929],\"xaxis\":\"x\",\"y\":[0.42767861526336054],\"yaxis\":\"y\",\"type\":\"scatter\"}],\"name\":\"2020M05\"},{\"data\":[{\"hovertemplate\":\"<b>%{hovertext}</b><br><br>Month=2020M06<br>Freight Dublin=%{x}<br>Passengers Dublin=%{y}<br>Ireland Index=%{marker.color}<extra></extra>\",\"hovertext\":[\"2020M06\"],\"legendgroup\":\"\",\"marker\":{\"color\":[0.11552247938964486],\"coloraxis\":\"coloraxis\",\"size\":[0.11552247938964486],\"sizemode\":\"area\",\"sizeref\":0.0015823013165771416,\"symbol\":\"circle\"},\"mode\":\"markers\",\"name\":\"\",\"orientation\":\"v\",\"showlegend\":false,\"x\":[0.6640702350473741],\"xaxis\":\"x\",\"y\":[0.6528904845166597],\"yaxis\":\"y\",\"type\":\"scatter\"}],\"name\":\"2020M06\"},{\"data\":[{\"hovertemplate\":\"<b>%{hovertext}</b><br><br>Month=2020M07<br>Freight Dublin=%{x}<br>Passengers Dublin=%{y}<br>Ireland Index=%{marker.color}<extra></extra>\",\"hovertext\":[\"2020M07\"],\"legendgroup\":\"\",\"marker\":{\"color\":[0.5534347107104922],\"coloraxis\":\"coloraxis\",\"size\":[0.5534347107104922],\"sizemode\":\"area\",\"sizeref\":0.0015823013165771416,\"symbol\":\"circle\"},\"mode\":\"markers\",\"name\":\"\",\"orientation\":\"v\",\"showlegend\":false,\"x\":[0.43325382747381863],\"xaxis\":\"x\",\"y\":[0.17758371208101933],\"yaxis\":\"y\",\"type\":\"scatter\"}],\"name\":\"2020M07\"},{\"data\":[{\"hovertemplate\":\"<b>%{hovertext}</b><br><br>Month=2020M08<br>Freight Dublin=%{x}<br>Passengers Dublin=%{y}<br>Ireland Index=%{marker.color}<extra></extra>\",\"hovertext\":[\"2020M08\"],\"legendgroup\":\"\",\"marker\":{\"color\":[0.33429477020790466],\"coloraxis\":\"coloraxis\",\"size\":[0.33429477020790466],\"sizemode\":\"area\",\"sizeref\":0.0015823013165771416,\"symbol\":\"circle\"},\"mode\":\"markers\",\"name\":\"\",\"orientation\":\"v\",\"showlegend\":false,\"x\":[0.5036532122109108],\"xaxis\":\"x\",\"y\":[0.4087966153152307],\"yaxis\":\"y\",\"type\":\"scatter\"}],\"name\":\"2020M08\"},{\"data\":[{\"hovertemplate\":\"<b>%{hovertext}</b><br><br>Month=2020M09<br>Freight Dublin=%{x}<br>Passengers Dublin=%{y}<br>Ireland Index=%{marker.color}<extra></extra>\",\"hovertext\":[\"2020M09\"],\"legendgroup\":\"\",\"marker\":{\"color\":[0.46420902659444246],\"coloraxis\":\"coloraxis\",\"size\":[0.46420902659444246],\"sizemode\":\"area\",\"sizeref\":0.0015823013165771416,\"symbol\":\"circle\"},\"mode\":\"markers\",\"name\":\"\",\"orientation\":\"v\",\"showlegend\":false,\"x\":[0.7432779457370084],\"xaxis\":\"x\",\"y\":[0.33094953857852255],\"yaxis\":\"y\",\"type\":\"scatter\"}],\"name\":\"2020M09\"},{\"data\":[{\"hovertemplate\":\"<b>%{hovertext}</b><br><br>Month=2020M10<br>Freight Dublin=%{x}<br>Passengers Dublin=%{y}<br>Ireland Index=%{marker.color}<extra></extra>\",\"hovertext\":[\"2020M10\"],\"legendgroup\":\"\",\"marker\":{\"color\":[0.6320958643464951],\"coloraxis\":\"coloraxis\",\"size\":[0.6320958643464951],\"sizemode\":\"area\",\"sizeref\":0.0015823013165771416,\"symbol\":\"circle\"},\"mode\":\"markers\",\"name\":\"\",\"orientation\":\"v\",\"showlegend\":false,\"x\":[0.2340119310736285],\"xaxis\":\"x\",\"y\":[0.43447512572619784],\"yaxis\":\"y\",\"type\":\"scatter\"}],\"name\":\"2020M10\"},{\"data\":[{\"hovertemplate\":\"<b>%{hovertext}</b><br><br>Month=2020M11<br>Freight Dublin=%{x}<br>Passengers Dublin=%{y}<br>Ireland Index=%{marker.color}<extra></extra>\",\"hovertext\":[\"2020M11\"],\"legendgroup\":\"\",\"marker\":{\"color\":[0.5069954420131284],\"coloraxis\":\"coloraxis\",\"size\":[0.5069954420131284],\"sizemode\":\"area\",\"sizeref\":0.0015823013165771416,\"symbol\":\"circle\"},\"mode\":\"markers\",\"name\":\"\",\"orientation\":\"v\",\"showlegend\":false,\"x\":[0.6292698756809781],\"xaxis\":\"x\",\"y\":[0.3058118745939193],\"yaxis\":\"y\",\"type\":\"scatter\"}],\"name\":\"2020M11\"},{\"data\":[{\"hovertemplate\":\"<b>%{hovertext}</b><br><br>Month=2020M12<br>Freight Dublin=%{x}<br>Passengers Dublin=%{y}<br>Ireland Index=%{marker.color}<extra></extra>\",\"hovertext\":[\"2020M12\"],\"legendgroup\":\"\",\"marker\":{\"color\":[0.3622937993213794],\"coloraxis\":\"coloraxis\",\"size\":[0.3622937993213794],\"sizemode\":\"area\",\"sizeref\":0.0015823013165771416,\"symbol\":\"circle\"},\"mode\":\"markers\",\"name\":\"\",\"orientation\":\"v\",\"showlegend\":false,\"x\":[0.6609283896050222],\"xaxis\":\"x\",\"y\":[0.6502788054511467],\"yaxis\":\"y\",\"type\":\"scatter\"}],\"name\":\"2020M12\"},{\"data\":[{\"hovertemplate\":\"<b>%{hovertext}</b><br><br>Month=2021M01<br>Freight Dublin=%{x}<br>Passengers Dublin=%{y}<br>Ireland Index=%{marker.color}<extra></extra>\",\"hovertext\":[\"2021M01\"],\"legendgroup\":\"\",\"marker\":{\"color\":[0.5213225048332402],\"coloraxis\":\"coloraxis\",\"size\":[0.5213225048332402],\"sizemode\":\"area\",\"sizeref\":0.0015823013165771416,\"symbol\":\"circle\"},\"mode\":\"markers\",\"name\":\"\",\"orientation\":\"v\",\"showlegend\":false,\"x\":[0.8253880021245973],\"xaxis\":\"x\",\"y\":[0.5583453730559536],\"yaxis\":\"y\",\"type\":\"scatter\"}],\"name\":\"2021M01\"},{\"data\":[{\"hovertemplate\":\"<b>%{hovertext}</b><br><br>Month=2021M02<br>Freight Dublin=%{x}<br>Passengers Dublin=%{y}<br>Ireland Index=%{marker.color}<extra></extra>\",\"hovertext\":[\"2021M02\"],\"legendgroup\":\"\",\"marker\":{\"color\":[0.3825159459757087],\"coloraxis\":\"coloraxis\",\"size\":[0.3825159459757087],\"sizemode\":\"area\",\"sizeref\":0.0015823013165771416,\"symbol\":\"circle\"},\"mode\":\"markers\",\"name\":\"\",\"orientation\":\"v\",\"showlegend\":false,\"x\":[0.7098125328304951],\"xaxis\":\"x\",\"y\":[0.7364231770518535],\"yaxis\":\"y\",\"type\":\"scatter\"}],\"name\":\"2021M02\"},{\"data\":[{\"hovertemplate\":\"<b>%{hovertext}</b><br><br>Month=2021M03<br>Freight Dublin=%{x}<br>Passengers Dublin=%{y}<br>Ireland Index=%{marker.color}<extra></extra>\",\"hovertext\":[\"2021M03\"],\"legendgroup\":\"\",\"marker\":{\"color\":[0.3725465830491281],\"coloraxis\":\"coloraxis\",\"size\":[0.3725465830491281],\"sizemode\":\"area\",\"sizeref\":0.0015823013165771416,\"symbol\":\"circle\"},\"mode\":\"markers\",\"name\":\"\",\"orientation\":\"v\",\"showlegend\":false,\"x\":[0.4366186775027559],\"xaxis\":\"x\",\"y\":[0.5972687946436926],\"yaxis\":\"y\",\"type\":\"scatter\"}],\"name\":\"2021M03\"},{\"data\":[{\"hovertemplate\":\"<b>%{hovertext}</b><br><br>Month=2021M04<br>Freight Dublin=%{x}<br>Passengers Dublin=%{y}<br>Ireland Index=%{marker.color}<extra></extra>\",\"hovertext\":[\"2021M04\"],\"legendgroup\":\"\",\"marker\":{\"color\":[0.5355203421590025],\"coloraxis\":\"coloraxis\",\"size\":[0.5355203421590025],\"sizemode\":\"area\",\"sizeref\":0.0015823013165771416,\"symbol\":\"circle\"},\"mode\":\"markers\",\"name\":\"\",\"orientation\":\"v\",\"showlegend\":false,\"x\":[0.29476019151963745],\"xaxis\":\"x\",\"y\":[0.34288173750589607],\"yaxis\":\"y\",\"type\":\"scatter\"}],\"name\":\"2021M04\"},{\"data\":[{\"hovertemplate\":\"<b>%{hovertext}</b><br><br>Month=2021M05<br>Freight Dublin=%{x}<br>Passengers Dublin=%{y}<br>Ireland Index=%{marker.color}<extra></extra>\",\"hovertext\":[\"2021M05\"],\"legendgroup\":\"\",\"marker\":{\"color\":[0.44638935010649533],\"coloraxis\":\"coloraxis\",\"size\":[0.44638935010649533],\"sizemode\":\"area\",\"sizeref\":0.0015823013165771416,\"symbol\":\"circle\"},\"mode\":\"markers\",\"name\":\"\",\"orientation\":\"v\",\"showlegend\":false,\"x\":[0.24152112581211188],\"xaxis\":\"x\",\"y\":[0.5135001789949862],\"yaxis\":\"y\",\"type\":\"scatter\"}],\"name\":\"2021M05\"},{\"data\":[{\"hovertemplate\":\"<b>%{hovertext}</b><br><br>Month=2021M06<br>Freight Dublin=%{x}<br>Passengers Dublin=%{y}<br>Ireland Index=%{marker.color}<extra></extra>\",\"hovertext\":[\"2021M06\"],\"legendgroup\":\"\",\"marker\":{\"color\":[0.6329205266308566],\"coloraxis\":\"coloraxis\",\"size\":[0.6329205266308566],\"sizemode\":\"area\",\"sizeref\":0.0015823013165771416,\"symbol\":\"circle\"},\"mode\":\"markers\",\"name\":\"\",\"orientation\":\"v\",\"showlegend\":false,\"x\":[0.5450821147656746],\"xaxis\":\"x\",\"y\":[0.4658347547332248],\"yaxis\":\"y\",\"type\":\"scatter\"}],\"name\":\"2021M06\"},{\"data\":[{\"hovertemplate\":\"<b>%{hovertext}</b><br><br>Month=2021M07<br>Freight Dublin=%{x}<br>Passengers Dublin=%{y}<br>Ireland Index=%{marker.color}<extra></extra>\",\"hovertext\":[\"2021M07\"],\"legendgroup\":\"\",\"marker\":{\"color\":[0.5727529859465608],\"coloraxis\":\"coloraxis\",\"size\":[0.5727529859465608],\"sizemode\":\"area\",\"sizeref\":0.0015823013165771416,\"symbol\":\"circle\"},\"mode\":\"markers\",\"name\":\"\",\"orientation\":\"v\",\"showlegend\":false,\"x\":[0.6567711506679489],\"xaxis\":\"x\",\"y\":[0.4010337282046989],\"yaxis\":\"y\",\"type\":\"scatter\"}],\"name\":\"2021M07\"},{\"data\":[{\"hovertemplate\":\"<b>%{hovertext}</b><br><br>Month=2021M08<br>Freight Dublin=%{x}<br>Passengers Dublin=%{y}<br>Ireland Index=%{marker.color}<extra></extra>\",\"hovertext\":[\"2021M08\"],\"legendgroup\":\"\",\"marker\":{\"color\":[0.5995213269169366],\"coloraxis\":\"coloraxis\",\"size\":[0.5995213269169366],\"sizemode\":\"area\",\"sizeref\":0.0015823013165771416,\"symbol\":\"circle\"},\"mode\":\"markers\",\"name\":\"\",\"orientation\":\"v\",\"showlegend\":false,\"x\":[0.6284347637385086],\"xaxis\":\"x\",\"y\":[0.46620784716326946],\"yaxis\":\"y\",\"type\":\"scatter\"}],\"name\":\"2021M08\"},{\"data\":[{\"hovertemplate\":\"<b>%{hovertext}</b><br><br>Month=2021M09<br>Freight Dublin=%{x}<br>Passengers Dublin=%{y}<br>Ireland Index=%{marker.color}<extra></extra>\",\"hovertext\":[\"2021M09\"],\"legendgroup\":\"\",\"marker\":{\"color\":[0.459753120287907],\"coloraxis\":\"coloraxis\",\"size\":[0.459753120287907],\"sizemode\":\"area\",\"sizeref\":0.0015823013165771416,\"symbol\":\"circle\"},\"mode\":\"markers\",\"name\":\"\",\"orientation\":\"v\",\"showlegend\":false,\"x\":[0.45243057511579104],\"xaxis\":\"x\",\"y\":[0.5458455215978254],\"yaxis\":\"y\",\"type\":\"scatter\"}],\"name\":\"2021M09\"},{\"data\":[{\"hovertemplate\":\"<b>%{hovertext}</b><br><br>Month=2021M10<br>Freight Dublin=%{x}<br>Passengers Dublin=%{y}<br>Ireland Index=%{marker.color}<extra></extra>\",\"hovertext\":[\"2021M10\"],\"legendgroup\":\"\",\"marker\":{\"color\":[0.5299704674464967],\"coloraxis\":\"coloraxis\",\"size\":[0.5299704674464967],\"sizemode\":\"area\",\"sizeref\":0.0015823013165771416,\"symbol\":\"circle\"},\"mode\":\"markers\",\"name\":\"\",\"orientation\":\"v\",\"showlegend\":false,\"x\":[0.43844460690904324],\"xaxis\":\"x\",\"y\":[0.3146558972860834],\"yaxis\":\"y\",\"type\":\"scatter\"}],\"name\":\"2021M10\"},{\"data\":[{\"hovertemplate\":\"<b>%{hovertext}</b><br><br>Month=2021M11<br>Freight Dublin=%{x}<br>Passengers Dublin=%{y}<br>Ireland Index=%{marker.color}<extra></extra>\",\"hovertext\":[\"2021M11\"],\"legendgroup\":\"\",\"marker\":{\"color\":[0.5165507689229674],\"coloraxis\":\"coloraxis\",\"size\":[0.5165507689229674],\"sizemode\":\"area\",\"sizeref\":0.0015823013165771416,\"symbol\":\"circle\"},\"mode\":\"markers\",\"name\":\"\",\"orientation\":\"v\",\"showlegend\":false,\"x\":[0.3852465503558223],\"xaxis\":\"x\",\"y\":[0.28622942665038825],\"yaxis\":\"y\",\"type\":\"scatter\"}],\"name\":\"2021M11\"},{\"data\":[{\"hovertemplate\":\"<b>%{hovertext}</b><br><br>Month=2021M12<br>Freight Dublin=%{x}<br>Passengers Dublin=%{y}<br>Ireland Index=%{marker.color}<extra></extra>\",\"hovertext\":[\"2021M12\"],\"legendgroup\":\"\",\"marker\":{\"color\":[0.5520423106653043],\"coloraxis\":\"coloraxis\",\"size\":[0.5520423106653043],\"sizemode\":\"area\",\"sizeref\":0.0015823013165771416,\"symbol\":\"circle\"},\"mode\":\"markers\",\"name\":\"\",\"orientation\":\"v\",\"showlegend\":false,\"x\":[0.32988374107017465],\"xaxis\":\"x\",\"y\":[0.35245816903529015],\"yaxis\":\"y\",\"type\":\"scatter\"}],\"name\":\"2021M12\"},{\"data\":[{\"hovertemplate\":\"<b>%{hovertext}</b><br><br>Month=2022M01<br>Freight Dublin=%{x}<br>Passengers Dublin=%{y}<br>Ireland Index=%{marker.color}<extra></extra>\",\"hovertext\":[\"2022M01\"],\"legendgroup\":\"\",\"marker\":{\"color\":[0.44345255318664606],\"coloraxis\":\"coloraxis\",\"size\":[0.44345255318664606],\"sizemode\":\"area\",\"sizeref\":0.0015823013165771416,\"symbol\":\"circle\"},\"mode\":\"markers\",\"name\":\"\",\"orientation\":\"v\",\"showlegend\":false,\"x\":[0.6897802661666242],\"xaxis\":\"x\",\"y\":[0.3974435780365007],\"yaxis\":\"y\",\"type\":\"scatter\"}],\"name\":\"2022M01\"},{\"data\":[{\"hovertemplate\":\"<b>%{hovertext}</b><br><br>Month=2022M02<br>Freight Dublin=%{x}<br>Passengers Dublin=%{y}<br>Ireland Index=%{marker.color}<extra></extra>\",\"hovertext\":[\"2022M02\"],\"legendgroup\":\"\",\"marker\":{\"color\":[0.6028672596063889],\"coloraxis\":\"coloraxis\",\"size\":[0.6028672596063889],\"sizemode\":\"area\",\"sizeref\":0.0015823013165771416,\"symbol\":\"circle\"},\"mode\":\"markers\",\"name\":\"\",\"orientation\":\"v\",\"showlegend\":false,\"x\":[0.3723614594249271],\"xaxis\":\"x\",\"y\":[0.3889835841584487],\"yaxis\":\"y\",\"type\":\"scatter\"}],\"name\":\"2022M02\"},{\"data\":[{\"hovertemplate\":\"<b>%{hovertext}</b><br><br>Month=2022M03<br>Freight Dublin=%{x}<br>Passengers Dublin=%{y}<br>Ireland Index=%{marker.color}<extra></extra>\",\"hovertext\":[\"2022M03\"],\"legendgroup\":\"\",\"marker\":{\"color\":[0.4304744736242159],\"coloraxis\":\"coloraxis\",\"size\":[0.4304744736242159],\"sizemode\":\"area\",\"sizeref\":0.0015823013165771416,\"symbol\":\"circle\"},\"mode\":\"markers\",\"name\":\"\",\"orientation\":\"v\",\"showlegend\":false,\"x\":[0.6840963496733946],\"xaxis\":\"x\",\"y\":[0.700060985944129],\"yaxis\":\"y\",\"type\":\"scatter\"}],\"name\":\"2022M03\"},{\"data\":[{\"hovertemplate\":\"<b>%{hovertext}</b><br><br>Month=2022M04<br>Freight Dublin=%{x}<br>Passengers Dublin=%{y}<br>Ireland Index=%{marker.color}<extra></extra>\",\"hovertext\":[\"2022M04\"],\"legendgroup\":\"\",\"marker\":{\"color\":[0.6160984750217073],\"coloraxis\":\"coloraxis\",\"size\":[0.6160984750217073],\"sizemode\":\"area\",\"sizeref\":0.0015823013165771416,\"symbol\":\"circle\"},\"mode\":\"markers\",\"name\":\"\",\"orientation\":\"v\",\"showlegend\":false,\"x\":[0.5055066167008655],\"xaxis\":\"x\",\"y\":[0.4211569804309706],\"yaxis\":\"y\",\"type\":\"scatter\"}],\"name\":\"2022M04\"},{\"data\":[{\"hovertemplate\":\"<b>%{hovertext}</b><br><br>Month=2022M05<br>Freight Dublin=%{x}<br>Passengers Dublin=%{y}<br>Ireland Index=%{marker.color}<extra></extra>\",\"hovertext\":[\"2022M05\"],\"legendgroup\":\"\",\"marker\":{\"color\":[0.4258801150095572],\"coloraxis\":\"coloraxis\",\"size\":[0.4258801150095572],\"sizemode\":\"area\",\"sizeref\":0.0015823013165771416,\"symbol\":\"circle\"},\"mode\":\"markers\",\"name\":\"\",\"orientation\":\"v\",\"showlegend\":false,\"x\":[0.6291821824970114],\"xaxis\":\"x\",\"y\":[0.582938780367864],\"yaxis\":\"y\",\"type\":\"scatter\"}],\"name\":\"2022M05\"},{\"data\":[{\"hovertemplate\":\"<b>%{hovertext}</b><br><br>Month=2022M06<br>Freight Dublin=%{x}<br>Passengers Dublin=%{y}<br>Ireland Index=%{marker.color}<extra></extra>\",\"hovertext\":[\"2022M06\"],\"legendgroup\":\"\",\"marker\":{\"color\":[0.3325175199250659],\"coloraxis\":\"coloraxis\",\"size\":[0.3325175199250659],\"sizemode\":\"area\",\"sizeref\":0.0015823013165771416,\"symbol\":\"circle\"},\"mode\":\"markers\",\"name\":\"\",\"orientation\":\"v\",\"showlegend\":false,\"x\":[0.8232798598015967],\"xaxis\":\"x\",\"y\":[0.5497438753644976],\"yaxis\":\"y\",\"type\":\"scatter\"}],\"name\":\"2022M06\"},{\"data\":[{\"hovertemplate\":\"<b>%{hovertext}</b><br><br>Month=2022M07<br>Freight Dublin=%{x}<br>Passengers Dublin=%{y}<br>Ireland Index=%{marker.color}<extra></extra>\",\"hovertext\":[\"2022M07\"],\"legendgroup\":\"\",\"marker\":{\"color\":[0.3342064404799262],\"coloraxis\":\"coloraxis\",\"size\":[0.3342064404799262],\"sizemode\":\"area\",\"sizeref\":0.0015823013165771416,\"symbol\":\"circle\"},\"mode\":\"markers\",\"name\":\"\",\"orientation\":\"v\",\"showlegend\":false,\"x\":[0.33777026710254937],\"xaxis\":\"x\",\"y\":[0.7414174079968056],\"yaxis\":\"y\",\"type\":\"scatter\"}],\"name\":\"2022M07\"},{\"data\":[{\"hovertemplate\":\"<b>%{hovertext}</b><br><br>Month=2022M08<br>Freight Dublin=%{x}<br>Passengers Dublin=%{y}<br>Ireland Index=%{marker.color}<extra></extra>\",\"hovertext\":[\"2022M08\"],\"legendgroup\":\"\",\"marker\":{\"color\":[0.45980532646598865],\"coloraxis\":\"coloraxis\",\"size\":[0.45980532646598865],\"sizemode\":\"area\",\"sizeref\":0.0015823013165771416,\"symbol\":\"circle\"},\"mode\":\"markers\",\"name\":\"\",\"orientation\":\"v\",\"showlegend\":false,\"x\":[0.30398467225204956],\"xaxis\":\"x\",\"y\":[0.40076606417121996],\"yaxis\":\"y\",\"type\":\"scatter\"}],\"name\":\"2022M08\"},{\"data\":[{\"hovertemplate\":\"<b>%{hovertext}</b><br><br>Month=2022M09<br>Freight Dublin=%{x}<br>Passengers Dublin=%{y}<br>Ireland Index=%{marker.color}<extra></extra>\",\"hovertext\":[\"2022M09\"],\"legendgroup\":\"\",\"marker\":{\"color\":[0.31601065300502124],\"coloraxis\":\"coloraxis\",\"size\":[0.31601065300502124],\"sizemode\":\"area\",\"sizeref\":0.0015823013165771416,\"symbol\":\"circle\"},\"mode\":\"markers\",\"name\":\"\",\"orientation\":\"v\",\"showlegend\":false,\"x\":[0.5573243295536997],\"xaxis\":\"x\",\"y\":[0.4613143643231171],\"yaxis\":\"y\",\"type\":\"scatter\"}],\"name\":\"2022M09\"},{\"data\":[{\"hovertemplate\":\"<b>%{hovertext}</b><br><br>Month=2022M10<br>Freight Dublin=%{x}<br>Passengers Dublin=%{y}<br>Ireland Index=%{marker.color}<extra></extra>\",\"hovertext\":[\"2022M10\"],\"legendgroup\":\"\",\"marker\":{\"color\":[0.23425751127378475],\"coloraxis\":\"coloraxis\",\"size\":[0.23425751127378475],\"sizemode\":\"area\",\"sizeref\":0.0015823013165771416,\"symbol\":\"circle\"},\"mode\":\"markers\",\"name\":\"\",\"orientation\":\"v\",\"showlegend\":false,\"x\":[0.6130580114942092],\"xaxis\":\"x\",\"y\":[0.6369811284812087],\"yaxis\":\"y\",\"type\":\"scatter\"}],\"name\":\"2022M10\"},{\"data\":[{\"hovertemplate\":\"<b>%{hovertext}</b><br><br>Month=2022M11<br>Freight Dublin=%{x}<br>Passengers Dublin=%{y}<br>Ireland Index=%{marker.color}<extra></extra>\",\"hovertext\":[\"2022M11\"],\"legendgroup\":\"\",\"marker\":{\"color\":[0.515045934599379],\"coloraxis\":\"coloraxis\",\"size\":[0.515045934599379],\"sizemode\":\"area\",\"sizeref\":0.0015823013165771416,\"symbol\":\"circle\"},\"mode\":\"markers\",\"name\":\"\",\"orientation\":\"v\",\"showlegend\":false,\"x\":[0.7740079333508026],\"xaxis\":\"x\",\"y\":[0.4532744115785266],\"yaxis\":\"y\",\"type\":\"scatter\"}],\"name\":\"2022M11\"},{\"data\":[{\"hovertemplate\":\"<b>%{hovertext}</b><br><br>Month=2022M12<br>Freight Dublin=%{x}<br>Passengers Dublin=%{y}<br>Ireland Index=%{marker.color}<extra></extra>\",\"hovertext\":[\"2022M12\"],\"legendgroup\":\"\",\"marker\":{\"color\":[0.4771410135431025],\"coloraxis\":\"coloraxis\",\"size\":[0.4771410135431025],\"sizemode\":\"area\",\"sizeref\":0.0015823013165771416,\"symbol\":\"circle\"},\"mode\":\"markers\",\"name\":\"\",\"orientation\":\"v\",\"showlegend\":false,\"x\":[0.27806099862571365],\"xaxis\":\"x\",\"y\":[0.5704906520808599],\"yaxis\":\"y\",\"type\":\"scatter\"}],\"name\":\"2022M12\"},{\"data\":[{\"hovertemplate\":\"<b>%{hovertext}</b><br><br>Month=2023M01<br>Freight Dublin=%{x}<br>Passengers Dublin=%{y}<br>Ireland Index=%{marker.color}<extra></extra>\",\"hovertext\":[\"2023M01\"],\"legendgroup\":\"\",\"marker\":{\"color\":[0.3627002834582286],\"coloraxis\":\"coloraxis\",\"size\":[0.3627002834582286],\"sizemode\":\"area\",\"sizeref\":0.0015823013165771416,\"symbol\":\"circle\"},\"mode\":\"markers\",\"name\":\"\",\"orientation\":\"v\",\"showlegend\":false,\"x\":[0.32019458732234596],\"xaxis\":\"x\",\"y\":[0.66219988277271],\"yaxis\":\"y\",\"type\":\"scatter\"}],\"name\":\"2023M01\"},{\"data\":[{\"hovertemplate\":\"<b>%{hovertext}</b><br><br>Month=2023M02<br>Freight Dublin=%{x}<br>Passengers Dublin=%{y}<br>Ireland Index=%{marker.color}<extra></extra>\",\"hovertext\":[\"2023M02\"],\"legendgroup\":\"\",\"marker\":{\"color\":[0.5243166383844298],\"coloraxis\":\"coloraxis\",\"size\":[0.5243166383844298],\"sizemode\":\"area\",\"sizeref\":0.0015823013165771416,\"symbol\":\"circle\"},\"mode\":\"markers\",\"name\":\"\",\"orientation\":\"v\",\"showlegend\":false,\"x\":[0.5995744038537637],\"xaxis\":\"x\",\"y\":[0.6168758251552081],\"yaxis\":\"y\",\"type\":\"scatter\"}],\"name\":\"2023M02\"},{\"data\":[{\"hovertemplate\":\"<b>%{hovertext}</b><br><br>Month=2023M03<br>Freight Dublin=%{x}<br>Passengers Dublin=%{y}<br>Ireland Index=%{marker.color}<extra></extra>\",\"hovertext\":[\"2023M03\"],\"legendgroup\":\"\",\"marker\":{\"color\":[0.48507157337575685],\"coloraxis\":\"coloraxis\",\"size\":[0.48507157337575685],\"sizemode\":\"area\",\"sizeref\":0.0015823013165771416,\"symbol\":\"circle\"},\"mode\":\"markers\",\"name\":\"\",\"orientation\":\"v\",\"showlegend\":false,\"x\":[0.4249822941953268],\"xaxis\":\"x\",\"y\":[0.8020191246738483],\"yaxis\":\"y\",\"type\":\"scatter\"}],\"name\":\"2023M03\"}]);\n",
       "                        }).then(function(){\n",
       "                            \n",
       "var gd = document.getElementById('40a350ec-37f3-4c12-b286-ae311a4dcf0e');\n",
       "var x = new MutationObserver(function (mutations, observer) {{\n",
       "        var display = window.getComputedStyle(gd).display;\n",
       "        if (!display || display === 'none') {{\n",
       "            console.log([gd, 'removed!']);\n",
       "            Plotly.purge(gd);\n",
       "            observer.disconnect();\n",
       "        }}\n",
       "}});\n",
       "\n",
       "// Listen for the removal of the full notebook cells\n",
       "var notebookContainer = gd.closest('#notebook-container');\n",
       "if (notebookContainer) {{\n",
       "    x.observe(notebookContainer, {childList: true});\n",
       "}}\n",
       "\n",
       "// Listen for the clearing of the current output cell\n",
       "var outputEl = gd.closest('.output');\n",
       "if (outputEl) {{\n",
       "    x.observe(outputEl, {childList: true});\n",
       "}}\n",
       "\n",
       "                        })                };                });            </script>        </div>"
      ]
     },
     "metadata": {},
     "output_type": "display_data"
    }
   ],
   "source": [
    "\n",
    "fig = px.scatter(\n",
    "    merged_data_CapitalCS,\n",
    "    x=\"Freight Dublin\",\n",
    "    y=\"Passengers Dublin\",\n",
    "    animation_frame=\"Month\",\n",
    "    hover_name=\"Month\",\n",
    "    color=\"Ireland Index\",\n",
    "    size=\"Ireland Index\",\n",
    "    title=\"Interactive Graph Ireland\",\n",
    "    labels={\"Freight Dublin\": \"Freight Dublin\", \"Passengers Dublin\": \"Passengers Dublin\"},\n",
    "    range_x=[merged_data_CapitalCS[\"Freight Dublin\"].min(), merged_data_CapitalCS[\"Freight Dublin\"].max()],\n",
    "    range_y=[merged_data_CapitalCS[\"Passengers Dublin\"].min(), merged_data_CapitalCS[\"Passengers Dublin\"].max()],\n",
    "    color_continuous_scale=\"Plasma\",\n",
    ")\n",
    "\n",
    "# Adjust animation speed\n",
    "fig.update_layout(updatemenus=[dict(type='buttons', showactive=False, buttons=[dict(label='Play',\n",
    "                                method='animate', args=[None, dict(frame=dict(duration=1000, redraw=True), fromcurrent=True)])])])\n",
    "\n",
    "# Show the figure\n",
    "fig.show()"
   ]
  },
  {
   "cell_type": "code",
   "execution_count": 170,
   "id": "416bee82",
   "metadata": {},
   "outputs": [
    {
     "data": {
      "application/vnd.plotly.v1+json": {
       "config": {
        "plotlyServerURL": "https://plot.ly"
       },
       "data": [
        {
         "hovertemplate": "<b>%{hovertext}</b><br><br>Month=2020M01<br>Freight Helsinki=%{x}<br>Passengers Helsinki=%{y}<br>Finland Index=%{marker.color}<extra></extra>",
         "hovertext": [
          "2020M01"
         ],
         "legendgroup": "",
         "marker": {
          "color": [
           0.5641107690598279
          ],
          "coloraxis": "coloraxis",
          "size": [
           0.5641107690598279
          ],
          "sizemode": "area",
          "sizeref": 0.00201771064847021,
          "symbol": "circle"
         },
         "mode": "markers",
         "name": "",
         "orientation": "v",
         "showlegend": false,
         "type": "scatter",
         "x": [
          0.30330496610048374
         ],
         "xaxis": "x",
         "y": [
          0.5498733071180396
         ],
         "yaxis": "y"
        }
       ],
       "frames": [
        {
         "data": [
          {
           "hovertemplate": "<b>%{hovertext}</b><br><br>Month=2020M01<br>Freight Helsinki=%{x}<br>Passengers Helsinki=%{y}<br>Finland Index=%{marker.color}<extra></extra>",
           "hovertext": [
            "2020M01"
           ],
           "legendgroup": "",
           "marker": {
            "color": [
             0.5641107690598279
            ],
            "coloraxis": "coloraxis",
            "size": [
             0.5641107690598279
            ],
            "sizemode": "area",
            "sizeref": 0.00201771064847021,
            "symbol": "circle"
           },
           "mode": "markers",
           "name": "",
           "orientation": "v",
           "showlegend": false,
           "type": "scatter",
           "x": [
            0.30330496610048374
           ],
           "xaxis": "x",
           "y": [
            0.5498733071180396
           ],
           "yaxis": "y"
          }
         ],
         "name": "2020M01"
        },
        {
         "data": [
          {
           "hovertemplate": "<b>%{hovertext}</b><br><br>Month=2020M02<br>Freight Helsinki=%{x}<br>Passengers Helsinki=%{y}<br>Finland Index=%{marker.color}<extra></extra>",
           "hovertext": [
            "2020M02"
           ],
           "legendgroup": "",
           "marker": {
            "color": [
             0.37355382433165174
            ],
            "coloraxis": "coloraxis",
            "size": [
             0.37355382433165174
            ],
            "sizemode": "area",
            "sizeref": 0.00201771064847021,
            "symbol": "circle"
           },
           "mode": "markers",
           "name": "",
           "orientation": "v",
           "showlegend": false,
           "type": "scatter",
           "x": [
            0.7058996938450103
           ],
           "xaxis": "x",
           "y": [
            0.6221832453006227
           ],
           "yaxis": "y"
          }
         ],
         "name": "2020M02"
        },
        {
         "data": [
          {
           "hovertemplate": "<b>%{hovertext}</b><br><br>Month=2020M03<br>Freight Helsinki=%{x}<br>Passengers Helsinki=%{y}<br>Finland Index=%{marker.color}<extra></extra>",
           "hovertext": [
            "2020M03"
           ],
           "legendgroup": "",
           "marker": {
            "color": [
             0.34199974891095
            ],
            "coloraxis": "coloraxis",
            "size": [
             0.34199974891095
            ],
            "sizemode": "area",
            "sizeref": 0.00201771064847021,
            "symbol": "circle"
           },
           "mode": "markers",
           "name": "",
           "orientation": "v",
           "showlegend": false,
           "type": "scatter",
           "x": [
            0.5885799315571661
           ],
           "xaxis": "x",
           "y": [
            0.4659266183965278
           ],
           "yaxis": "y"
          }
         ],
         "name": "2020M03"
        },
        {
         "data": [
          {
           "hovertemplate": "<b>%{hovertext}</b><br><br>Month=2020M04<br>Freight Helsinki=%{x}<br>Passengers Helsinki=%{y}<br>Finland Index=%{marker.color}<extra></extra>",
           "hovertext": [
            "2020M04"
           ],
           "legendgroup": "",
           "marker": {
            "color": [
             0.2538435440894672
            ],
            "coloraxis": "coloraxis",
            "size": [
             0.2538435440894672
            ],
            "sizemode": "area",
            "sizeref": 0.00201771064847021,
            "symbol": "circle"
           },
           "mode": "markers",
           "name": "",
           "orientation": "v",
           "showlegend": false,
           "type": "scatter",
           "x": [
            0.7873766554735461
           ],
           "xaxis": "x",
           "y": [
            0.5154570211532806
           ],
           "yaxis": "y"
          }
         ],
         "name": "2020M04"
        },
        {
         "data": [
          {
           "hovertemplate": "<b>%{hovertext}</b><br><br>Month=2020M05<br>Freight Helsinki=%{x}<br>Passengers Helsinki=%{y}<br>Finland Index=%{marker.color}<extra></extra>",
           "hovertext": [
            "2020M05"
           ],
           "legendgroup": "",
           "marker": {
            "color": [
             0.5113854927608261
            ],
            "coloraxis": "coloraxis",
            "size": [
             0.5113854927608261
            ],
            "sizemode": "area",
            "sizeref": 0.00201771064847021,
            "symbol": "circle"
           },
           "mode": "markers",
           "name": "",
           "orientation": "v",
           "showlegend": false,
           "type": "scatter",
           "x": [
            0.4947519353087332
           ],
           "xaxis": "x",
           "y": [
            0.5912940860263276
           ],
           "yaxis": "y"
          }
         ],
         "name": "2020M05"
        },
        {
         "data": [
          {
           "hovertemplate": "<b>%{hovertext}</b><br><br>Month=2020M06<br>Freight Helsinki=%{x}<br>Passengers Helsinki=%{y}<br>Finland Index=%{marker.color}<extra></extra>",
           "hovertext": [
            "2020M06"
           ],
           "legendgroup": "",
           "marker": {
            "color": [
             0.3204084792881322
            ],
            "coloraxis": "coloraxis",
            "size": [
             0.3204084792881322
            ],
            "sizemode": "area",
            "sizeref": 0.00201771064847021,
            "symbol": "circle"
           },
           "mode": "markers",
           "name": "",
           "orientation": "v",
           "showlegend": false,
           "type": "scatter",
           "x": [
            0.6849768693282448
           ],
           "xaxis": "x",
           "y": [
            0.6969248431541883
           ],
           "yaxis": "y"
          }
         ],
         "name": "2020M06"
        },
        {
         "data": [
          {
           "hovertemplate": "<b>%{hovertext}</b><br><br>Month=2020M07<br>Freight Helsinki=%{x}<br>Passengers Helsinki=%{y}<br>Finland Index=%{marker.color}<extra></extra>",
           "hovertext": [
            "2020M07"
           ],
           "legendgroup": "",
           "marker": {
            "color": [
             0.7167365389722862
            ],
            "coloraxis": "coloraxis",
            "size": [
             0.7167365389722862
            ],
            "sizemode": "area",
            "sizeref": 0.00201771064847021,
            "symbol": "circle"
           },
           "mode": "markers",
           "name": "",
           "orientation": "v",
           "showlegend": false,
           "type": "scatter",
           "x": [
            0.41308300918871366
           ],
           "xaxis": "x",
           "y": [
            0.1816333596482307
           ],
           "yaxis": "y"
          }
         ],
         "name": "2020M07"
        },
        {
         "data": [
          {
           "hovertemplate": "<b>%{hovertext}</b><br><br>Month=2020M08<br>Freight Helsinki=%{x}<br>Passengers Helsinki=%{y}<br>Finland Index=%{marker.color}<extra></extra>",
           "hovertext": [
            "2020M08"
           ],
           "legendgroup": "",
           "marker": {
            "color": [
             0.5002211402252776
            ],
            "coloraxis": "coloraxis",
            "size": [
             0.5002211402252776
            ],
            "sizemode": "area",
            "sizeref": 0.00201771064847021,
            "symbol": "circle"
           },
           "mode": "markers",
           "name": "",
           "orientation": "v",
           "showlegend": false,
           "type": "scatter",
           "x": [
            0.5288613168414465
           ],
           "xaxis": "x",
           "y": [
            0.47501174396108414
           ],
           "yaxis": "y"
          }
         ],
         "name": "2020M08"
        },
        {
         "data": [
          {
           "hovertemplate": "<b>%{hovertext}</b><br><br>Month=2020M09<br>Freight Helsinki=%{x}<br>Passengers Helsinki=%{y}<br>Finland Index=%{marker.color}<extra></extra>",
           "hovertext": [
            "2020M09"
           ],
           "legendgroup": "",
           "marker": {
            "color": [
             0.5593823068227035
            ],
            "coloraxis": "coloraxis",
            "size": [
             0.5593823068227035
            ],
            "sizemode": "area",
            "sizeref": 0.00201771064847021,
            "symbol": "circle"
           },
           "mode": "markers",
           "name": "",
           "orientation": "v",
           "showlegend": false,
           "type": "scatter",
           "x": [
            0.582994031163106
           ],
           "xaxis": "x",
           "y": [
            0.491503496845183
           ],
           "yaxis": "y"
          }
         ],
         "name": "2020M09"
        },
        {
         "data": [
          {
           "hovertemplate": "<b>%{hovertext}</b><br><br>Month=2020M10<br>Freight Helsinki=%{x}<br>Passengers Helsinki=%{y}<br>Finland Index=%{marker.color}<extra></extra>",
           "hovertext": [
            "2020M10"
           ],
           "legendgroup": "",
           "marker": {
            "color": [
             0.584358059551986
            ],
            "coloraxis": "coloraxis",
            "size": [
             0.584358059551986
            ],
            "sizemode": "area",
            "sizeref": 0.00201771064847021,
            "symbol": "circle"
           },
           "mode": "markers",
           "name": "",
           "orientation": "v",
           "showlegend": false,
           "type": "scatter",
           "x": [
            0.3460057889031455
           ],
           "xaxis": "x",
           "y": [
            0.5302768441436393
           ],
           "yaxis": "y"
          }
         ],
         "name": "2020M10"
        },
        {
         "data": [
          {
           "hovertemplate": "<b>%{hovertext}</b><br><br>Month=2020M11<br>Freight Helsinki=%{x}<br>Passengers Helsinki=%{y}<br>Finland Index=%{marker.color}<extra></extra>",
           "hovertext": [
            "2020M11"
           ],
           "legendgroup": "",
           "marker": {
            "color": [
             0.5490074372716854
            ],
            "coloraxis": "coloraxis",
            "size": [
             0.5490074372716854
            ],
            "sizemode": "area",
            "sizeref": 0.00201771064847021,
            "symbol": "circle"
           },
           "mode": "markers",
           "name": "",
           "orientation": "v",
           "showlegend": false,
           "type": "scatter",
           "x": [
            0.5908610846259589
           ],
           "xaxis": "x",
           "y": [
            0.30657324679006415
           ],
           "yaxis": "y"
          }
         ],
         "name": "2020M11"
        },
        {
         "data": [
          {
           "hovertemplate": "<b>%{hovertext}</b><br><br>Month=2020M12<br>Freight Helsinki=%{x}<br>Passengers Helsinki=%{y}<br>Finland Index=%{marker.color}<extra></extra>",
           "hovertext": [
            "2020M12"
           ],
           "legendgroup": "",
           "marker": {
            "color": [
             0.4569689710106736
            ],
            "coloraxis": "coloraxis",
            "size": [
             0.4569689710106736
            ],
            "sizemode": "area",
            "sizeref": 0.00201771064847021,
            "symbol": "circle"
           },
           "mode": "markers",
           "name": "",
           "orientation": "v",
           "showlegend": false,
           "type": "scatter",
           "x": [
            0.6816327473671925
           ],
           "xaxis": "x",
           "y": [
            0.7114932683786486
           ],
           "yaxis": "y"
          }
         ],
         "name": "2020M12"
        },
        {
         "data": [
          {
           "hovertemplate": "<b>%{hovertext}</b><br><br>Month=2021M01<br>Freight Helsinki=%{x}<br>Passengers Helsinki=%{y}<br>Finland Index=%{marker.color}<extra></extra>",
           "hovertext": [
            "2021M01"
           ],
           "legendgroup": "",
           "marker": {
            "color": [
             0.6285893046169828
            ],
            "coloraxis": "coloraxis",
            "size": [
             0.6285893046169828
            ],
            "sizemode": "area",
            "sizeref": 0.00201771064847021,
            "symbol": "circle"
           },
           "mode": "markers",
           "name": "",
           "orientation": "v",
           "showlegend": false,
           "type": "scatter",
           "x": [
            0.5893332458699598
           ],
           "xaxis": "x",
           "y": [
            0.5652965546967766
           ],
           "yaxis": "y"
          }
         ],
         "name": "2021M01"
        },
        {
         "data": [
          {
           "hovertemplate": "<b>%{hovertext}</b><br><br>Month=2021M02<br>Freight Helsinki=%{x}<br>Passengers Helsinki=%{y}<br>Finland Index=%{marker.color}<extra></extra>",
           "hovertext": [
            "2021M02"
           ],
           "legendgroup": "",
           "marker": {
            "color": [
             0.5113945307879557
            ],
            "coloraxis": "coloraxis",
            "size": [
             0.5113945307879557
            ],
            "sizemode": "area",
            "sizeref": 0.00201771064847021,
            "symbol": "circle"
           },
           "mode": "markers",
           "name": "",
           "orientation": "v",
           "showlegend": false,
           "type": "scatter",
           "x": [
            0.7703449033922389
           ],
           "xaxis": "x",
           "y": [
            0.7575839977739591
           ],
           "yaxis": "y"
          }
         ],
         "name": "2021M02"
        },
        {
         "data": [
          {
           "hovertemplate": "<b>%{hovertext}</b><br><br>Month=2021M03<br>Freight Helsinki=%{x}<br>Passengers Helsinki=%{y}<br>Finland Index=%{marker.color}<extra></extra>",
           "hovertext": [
            "2021M03"
           ],
           "legendgroup": "",
           "marker": {
            "color": [
             0.5954878477864323
            ],
            "coloraxis": "coloraxis",
            "size": [
             0.5954878477864323
            ],
            "sizemode": "area",
            "sizeref": 0.00201771064847021,
            "symbol": "circle"
           },
           "mode": "markers",
           "name": "",
           "orientation": "v",
           "showlegend": false,
           "type": "scatter",
           "x": [
            0.4985329012395504
           ],
           "xaxis": "x",
           "y": [
            0.5940803253369541
           ],
           "yaxis": "y"
          }
         ],
         "name": "2021M03"
        },
        {
         "data": [
          {
           "hovertemplate": "<b>%{hovertext}</b><br><br>Month=2021M04<br>Freight Helsinki=%{x}<br>Passengers Helsinki=%{y}<br>Finland Index=%{marker.color}<extra></extra>",
           "hovertext": [
            "2021M04"
           ],
           "legendgroup": "",
           "marker": {
            "color": [
             0.5277952100031246
            ],
            "coloraxis": "coloraxis",
            "size": [
             0.5277952100031246
            ],
            "sizemode": "area",
            "sizeref": 0.00201771064847021,
            "symbol": "circle"
           },
           "mode": "markers",
           "name": "",
           "orientation": "v",
           "showlegend": false,
           "type": "scatter",
           "x": [
            0.3286267712554348
           ],
           "xaxis": "x",
           "y": [
            0.4962554591315228
           ],
           "yaxis": "y"
          }
         ],
         "name": "2021M04"
        },
        {
         "data": [
          {
           "hovertemplate": "<b>%{hovertext}</b><br><br>Month=2021M05<br>Freight Helsinki=%{x}<br>Passengers Helsinki=%{y}<br>Finland Index=%{marker.color}<extra></extra>",
           "hovertext": [
            "2021M05"
           ],
           "legendgroup": "",
           "marker": {
            "color": [
             0.5061231737547213
            ],
            "coloraxis": "coloraxis",
            "size": [
             0.5061231737547213
            ],
            "sizemode": "area",
            "sizeref": 0.00201771064847021,
            "symbol": "circle"
           },
           "mode": "markers",
           "name": "",
           "orientation": "v",
           "showlegend": false,
           "type": "scatter",
           "x": [
            0.32198184819480125
           ],
           "xaxis": "x",
           "y": [
            0.4462749521065883
           ],
           "yaxis": "y"
          }
         ],
         "name": "2021M05"
        },
        {
         "data": [
          {
           "hovertemplate": "<b>%{hovertext}</b><br><br>Month=2021M06<br>Freight Helsinki=%{x}<br>Passengers Helsinki=%{y}<br>Finland Index=%{marker.color}<extra></extra>",
           "hovertext": [
            "2021M06"
           ],
           "legendgroup": "",
           "marker": {
            "color": [
             0.7262708909149259
            ],
            "coloraxis": "coloraxis",
            "size": [
             0.7262708909149259
            ],
            "sizemode": "area",
            "sizeref": 0.00201771064847021,
            "symbol": "circle"
           },
           "mode": "markers",
           "name": "",
           "orientation": "v",
           "showlegend": false,
           "type": "scatter",
           "x": [
            0.4758309676277974
           ],
           "xaxis": "x",
           "y": [
            0.4391116352528306
           ],
           "yaxis": "y"
          }
         ],
         "name": "2021M06"
        },
        {
         "data": [
          {
           "hovertemplate": "<b>%{hovertext}</b><br><br>Month=2021M07<br>Freight Helsinki=%{x}<br>Passengers Helsinki=%{y}<br>Finland Index=%{marker.color}<extra></extra>",
           "hovertext": [
            "2021M07"
           ],
           "legendgroup": "",
           "marker": {
            "color": [
             0.6389566764025584
            ],
            "coloraxis": "coloraxis",
            "size": [
             0.6389566764025584
            ],
            "sizemode": "area",
            "sizeref": 0.00201771064847021,
            "symbol": "circle"
           },
           "mode": "markers",
           "name": "",
           "orientation": "v",
           "showlegend": false,
           "type": "scatter",
           "x": [
            0.638130038789955
           ],
           "xaxis": "x",
           "y": [
            0.4152407720865835
           ],
           "yaxis": "y"
          }
         ],
         "name": "2021M07"
        },
        {
         "data": [
          {
           "hovertemplate": "<b>%{hovertext}</b><br><br>Month=2021M08<br>Freight Helsinki=%{x}<br>Passengers Helsinki=%{y}<br>Finland Index=%{marker.color}<extra></extra>",
           "hovertext": [
            "2021M08"
           ],
           "legendgroup": "",
           "marker": {
            "color": [
             0.807084259388084
            ],
            "coloraxis": "coloraxis",
            "size": [
             0.807084259388084
            ],
            "sizemode": "area",
            "sizeref": 0.00201771064847021,
            "symbol": "circle"
           },
           "mode": "markers",
           "name": "",
           "orientation": "v",
           "showlegend": false,
           "type": "scatter",
           "x": [
            0.4768953985930199
           ],
           "xaxis": "x",
           "y": [
            0.5097278390534125
           ],
           "yaxis": "y"
          }
         ],
         "name": "2021M08"
        },
        {
         "data": [
          {
           "hovertemplate": "<b>%{hovertext}</b><br><br>Month=2021M09<br>Freight Helsinki=%{x}<br>Passengers Helsinki=%{y}<br>Finland Index=%{marker.color}<extra></extra>",
           "hovertext": [
            "2021M09"
           ],
           "legendgroup": "",
           "marker": {
            "color": [
             0.5810735465051501
            ],
            "coloraxis": "coloraxis",
            "size": [
             0.5810735465051501
            ],
            "sizemode": "area",
            "sizeref": 0.00201771064847021,
            "symbol": "circle"
           },
           "mode": "markers",
           "name": "",
           "orientation": "v",
           "showlegend": false,
           "type": "scatter",
           "x": [
            0.4534964491171696
           ],
           "xaxis": "x",
           "y": [
            0.5228761619660212
           ],
           "yaxis": "y"
          }
         ],
         "name": "2021M09"
        },
        {
         "data": [
          {
           "hovertemplate": "<b>%{hovertext}</b><br><br>Month=2021M10<br>Freight Helsinki=%{x}<br>Passengers Helsinki=%{y}<br>Finland Index=%{marker.color}<extra></extra>",
           "hovertext": [
            "2021M10"
           ],
           "legendgroup": "",
           "marker": {
            "color": [
             0.6071079374417556
            ],
            "coloraxis": "coloraxis",
            "size": [
             0.6071079374417556
            ],
            "sizemode": "area",
            "sizeref": 0.00201771064847021,
            "symbol": "circle"
           },
           "mode": "markers",
           "name": "",
           "orientation": "v",
           "showlegend": false,
           "type": "scatter",
           "x": [
            0.540236239671694
           ],
           "xaxis": "x",
           "y": [
            0.46415272134085495
           ],
           "yaxis": "y"
          }
         ],
         "name": "2021M10"
        },
        {
         "data": [
          {
           "hovertemplate": "<b>%{hovertext}</b><br><br>Month=2021M11<br>Freight Helsinki=%{x}<br>Passengers Helsinki=%{y}<br>Finland Index=%{marker.color}<extra></extra>",
           "hovertext": [
            "2021M11"
           ],
           "legendgroup": "",
           "marker": {
            "color": [
             0.7146240827841884
            ],
            "coloraxis": "coloraxis",
            "size": [
             0.7146240827841884
            ],
            "sizemode": "area",
            "sizeref": 0.00201771064847021,
            "symbol": "circle"
           },
           "mode": "markers",
           "name": "",
           "orientation": "v",
           "showlegend": false,
           "type": "scatter",
           "x": [
            0.3530119876591371
           ],
           "xaxis": "x",
           "y": [
            0.20580810878128686
           ],
           "yaxis": "y"
          }
         ],
         "name": "2021M11"
        },
        {
         "data": [
          {
           "hovertemplate": "<b>%{hovertext}</b><br><br>Month=2021M12<br>Freight Helsinki=%{x}<br>Passengers Helsinki=%{y}<br>Finland Index=%{marker.color}<extra></extra>",
           "hovertext": [
            "2021M12"
           ],
           "legendgroup": "",
           "marker": {
            "color": [
             0.6288751022546506
            ],
            "coloraxis": "coloraxis",
            "size": [
             0.6288751022546506
            ],
            "sizemode": "area",
            "sizeref": 0.00201771064847021,
            "symbol": "circle"
           },
           "mode": "markers",
           "name": "",
           "orientation": "v",
           "showlegend": false,
           "type": "scatter",
           "x": [
            0.43104778829435864
           ],
           "xaxis": "x",
           "y": [
            0.45912323461882254
           ],
           "yaxis": "y"
          }
         ],
         "name": "2021M12"
        },
        {
         "data": [
          {
           "hovertemplate": "<b>%{hovertext}</b><br><br>Month=2022M01<br>Freight Helsinki=%{x}<br>Passengers Helsinki=%{y}<br>Finland Index=%{marker.color}<extra></extra>",
           "hovertext": [
            "2022M01"
           ],
           "legendgroup": "",
           "marker": {
            "color": [
             0.5306828518753084
            ],
            "coloraxis": "coloraxis",
            "size": [
             0.5306828518753084
            ],
            "sizemode": "area",
            "sizeref": 0.00201771064847021,
            "symbol": "circle"
           },
           "mode": "markers",
           "name": "",
           "orientation": "v",
           "showlegend": false,
           "type": "scatter",
           "x": [
            0.6685379011942009
           ],
           "xaxis": "x",
           "y": [
            0.39598495673097833
           ],
           "yaxis": "y"
          }
         ],
         "name": "2022M01"
        },
        {
         "data": [
          {
           "hovertemplate": "<b>%{hovertext}</b><br><br>Month=2022M02<br>Freight Helsinki=%{x}<br>Passengers Helsinki=%{y}<br>Finland Index=%{marker.color}<extra></extra>",
           "hovertext": [
            "2022M02"
           ],
           "legendgroup": "",
           "marker": {
            "color": [
             0.7866088645539909
            ],
            "coloraxis": "coloraxis",
            "size": [
             0.7866088645539909
            ],
            "sizemode": "area",
            "sizeref": 0.00201771064847021,
            "symbol": "circle"
           },
           "mode": "markers",
           "name": "",
           "orientation": "v",
           "showlegend": false,
           "type": "scatter",
           "x": [
            0.421175069634602
           ],
           "xaxis": "x",
           "y": [
            0.34554474613023367
           ],
           "yaxis": "y"
          }
         ],
         "name": "2022M02"
        },
        {
         "data": [
          {
           "hovertemplate": "<b>%{hovertext}</b><br><br>Month=2022M03<br>Freight Helsinki=%{x}<br>Passengers Helsinki=%{y}<br>Finland Index=%{marker.color}<extra></extra>",
           "hovertext": [
            "2022M03"
           ],
           "legendgroup": "",
           "marker": {
            "color": [
             0.7010508563250221
            ],
            "coloraxis": "coloraxis",
            "size": [
             0.7010508563250221
            ],
            "sizemode": "area",
            "sizeref": 0.00201771064847021,
            "symbol": "circle"
           },
           "mode": "markers",
           "name": "",
           "orientation": "v",
           "showlegend": false,
           "type": "scatter",
           "x": [
            0.6625406143899726
           ],
           "xaxis": "x",
           "y": [
            0.48079654976840003
           ],
           "yaxis": "y"
          }
         ],
         "name": "2022M03"
        },
        {
         "data": [
          {
           "hovertemplate": "<b>%{hovertext}</b><br><br>Month=2022M04<br>Freight Helsinki=%{x}<br>Passengers Helsinki=%{y}<br>Finland Index=%{marker.color}<extra></extra>",
           "hovertext": [
            "2022M04"
           ],
           "legendgroup": "",
           "marker": {
            "color": [
             0.6294307888030015
            ],
            "coloraxis": "coloraxis",
            "size": [
             0.6294307888030015
            ],
            "sizemode": "area",
            "sizeref": 0.00201771064847021,
            "symbol": "circle"
           },
           "mode": "markers",
           "name": "",
           "orientation": "v",
           "showlegend": false,
           "type": "scatter",
           "x": [
            0.4519183403877502
           ],
           "xaxis": "x",
           "y": [
            0.32408670458655964
           ],
           "yaxis": "y"
          }
         ],
         "name": "2022M04"
        },
        {
         "data": [
          {
           "hovertemplate": "<b>%{hovertext}</b><br><br>Month=2022M05<br>Freight Helsinki=%{x}<br>Passengers Helsinki=%{y}<br>Finland Index=%{marker.color}<extra></extra>",
           "hovertext": [
            "2022M05"
           ],
           "legendgroup": "",
           "marker": {
            "color": [
             0.5149544661113031
            ],
            "coloraxis": "coloraxis",
            "size": [
             0.5149544661113031
            ],
            "sizemode": "area",
            "sizeref": 0.00201771064847021,
            "symbol": "circle"
           },
           "mode": "markers",
           "name": "",
           "orientation": "v",
           "showlegend": false,
           "type": "scatter",
           "x": [
            0.7113465544095204
           ],
           "xaxis": "x",
           "y": [
            0.542456799413429
           ],
           "yaxis": "y"
          }
         ],
         "name": "2022M05"
        },
        {
         "data": [
          {
           "hovertemplate": "<b>%{hovertext}</b><br><br>Month=2022M06<br>Freight Helsinki=%{x}<br>Passengers Helsinki=%{y}<br>Finland Index=%{marker.color}<extra></extra>",
           "hovertext": [
            "2022M06"
           ],
           "legendgroup": "",
           "marker": {
            "color": [
             0.41478967203735384
            ],
            "coloraxis": "coloraxis",
            "size": [
             0.41478967203735384
            ],
            "sizemode": "area",
            "sizeref": 0.00201771064847021,
            "symbol": "circle"
           },
           "mode": "markers",
           "name": "",
           "orientation": "v",
           "showlegend": false,
           "type": "scatter",
           "x": [
            0.7762797387755568
           ],
           "xaxis": "x",
           "y": [
            0.6842183734208532
           ],
           "yaxis": "y"
          }
         ],
         "name": "2022M06"
        },
        {
         "data": [
          {
           "hovertemplate": "<b>%{hovertext}</b><br><br>Month=2022M07<br>Freight Helsinki=%{x}<br>Passengers Helsinki=%{y}<br>Finland Index=%{marker.color}<extra></extra>",
           "hovertext": [
            "2022M07"
           ],
           "legendgroup": "",
           "marker": {
            "color": [
             0.368746519183059
            ],
            "coloraxis": "coloraxis",
            "size": [
             0.368746519183059
            ],
            "sizemode": "area",
            "sizeref": 0.00201771064847021,
            "symbol": "circle"
           },
           "mode": "markers",
           "name": "",
           "orientation": "v",
           "showlegend": false,
           "type": "scatter",
           "x": [
            0.5182978618728874
           ],
           "xaxis": "x",
           "y": [
            0.7946848595520022
           ],
           "yaxis": "y"
          }
         ],
         "name": "2022M07"
        },
        {
         "data": [
          {
           "hovertemplate": "<b>%{hovertext}</b><br><br>Month=2022M08<br>Freight Helsinki=%{x}<br>Passengers Helsinki=%{y}<br>Finland Index=%{marker.color}<extra></extra>",
           "hovertext": [
            "2022M08"
           ],
           "legendgroup": "",
           "marker": {
            "color": [
             0.5692780990802047
            ],
            "coloraxis": "coloraxis",
            "size": [
             0.5692780990802047
            ],
            "sizemode": "area",
            "sizeref": 0.00201771064847021,
            "symbol": "circle"
           },
           "mode": "markers",
           "name": "",
           "orientation": "v",
           "showlegend": false,
           "type": "scatter",
           "x": [
            0.4577295954840531
           ],
           "xaxis": "x",
           "y": [
            0.4474960699144269
           ],
           "yaxis": "y"
          }
         ],
         "name": "2022M08"
        },
        {
         "data": [
          {
           "hovertemplate": "<b>%{hovertext}</b><br><br>Month=2022M09<br>Freight Helsinki=%{x}<br>Passengers Helsinki=%{y}<br>Finland Index=%{marker.color}<extra></extra>",
           "hovertext": [
            "2022M09"
           ],
           "legendgroup": "",
           "marker": {
            "color": [
             0.3394839027253961
            ],
            "coloraxis": "coloraxis",
            "size": [
             0.3394839027253961
            ],
            "sizemode": "area",
            "sizeref": 0.00201771064847021,
            "symbol": "circle"
           },
           "mode": "markers",
           "name": "",
           "orientation": "v",
           "showlegend": false,
           "type": "scatter",
           "x": [
            0.5552828708555017
           ],
           "xaxis": "x",
           "y": [
            0.5063475551362306
           ],
           "yaxis": "y"
          }
         ],
         "name": "2022M09"
        },
        {
         "data": [
          {
           "hovertemplate": "<b>%{hovertext}</b><br><br>Month=2022M10<br>Freight Helsinki=%{x}<br>Passengers Helsinki=%{y}<br>Finland Index=%{marker.color}<extra></extra>",
           "hovertext": [
            "2022M10"
           ],
           "legendgroup": "",
           "marker": {
            "color": [
             0.2661502180642986
            ],
            "coloraxis": "coloraxis",
            "size": [
             0.2661502180642986
            ],
            "sizemode": "area",
            "sizeref": 0.00201771064847021,
            "symbol": "circle"
           },
           "mode": "markers",
           "name": "",
           "orientation": "v",
           "showlegend": false,
           "type": "scatter",
           "x": [
            0.7390740210991259
           ],
           "xaxis": "x",
           "y": [
            0.7158348580025428
           ],
           "yaxis": "y"
          }
         ],
         "name": "2022M10"
        },
        {
         "data": [
          {
           "hovertemplate": "<b>%{hovertext}</b><br><br>Month=2022M11<br>Freight Helsinki=%{x}<br>Passengers Helsinki=%{y}<br>Finland Index=%{marker.color}<extra></extra>",
           "hovertext": [
            "2022M11"
           ],
           "legendgroup": "",
           "marker": {
            "color": [
             0.5803762516657387
            ],
            "coloraxis": "coloraxis",
            "size": [
             0.5803762516657387
            ],
            "sizemode": "area",
            "sizeref": 0.00201771064847021,
            "symbol": "circle"
           },
           "mode": "markers",
           "name": "",
           "orientation": "v",
           "showlegend": false,
           "type": "scatter",
           "x": [
            0.5723807688730792
           ],
           "xaxis": "x",
           "y": [
            0.4479762000044595
           ],
           "yaxis": "y"
          }
         ],
         "name": "2022M11"
        },
        {
         "data": [
          {
           "hovertemplate": "<b>%{hovertext}</b><br><br>Month=2022M12<br>Freight Helsinki=%{x}<br>Passengers Helsinki=%{y}<br>Finland Index=%{marker.color}<extra></extra>",
           "hovertext": [
            "2022M12"
           ],
           "legendgroup": "",
           "marker": {
            "color": [
             0.6061522797738027
            ],
            "coloraxis": "coloraxis",
            "size": [
             0.6061522797738027
            ],
            "sizemode": "area",
            "sizeref": 0.00201771064847021,
            "symbol": "circle"
           },
           "mode": "markers",
           "name": "",
           "orientation": "v",
           "showlegend": false,
           "type": "scatter",
           "x": [
            0.3372458054274821
           ],
           "xaxis": "x",
           "y": [
            0.45831986855745666
           ],
           "yaxis": "y"
          }
         ],
         "name": "2022M12"
        },
        {
         "data": [
          {
           "hovertemplate": "<b>%{hovertext}</b><br><br>Month=2023M01<br>Freight Helsinki=%{x}<br>Passengers Helsinki=%{y}<br>Finland Index=%{marker.color}<extra></extra>",
           "hovertext": [
            "2023M01"
           ],
           "legendgroup": "",
           "marker": {
            "color": [
             0.35102694942804413
            ],
            "coloraxis": "coloraxis",
            "size": [
             0.35102694942804413
            ],
            "sizemode": "area",
            "sizeref": 0.00201771064847021,
            "symbol": "circle"
           },
           "mode": "markers",
           "name": "",
           "orientation": "v",
           "showlegend": false,
           "type": "scatter",
           "x": [
            0.49386301992052234
           ],
           "xaxis": "x",
           "y": [
            0.6958628693007756
           ],
           "yaxis": "y"
          }
         ],
         "name": "2023M01"
        },
        {
         "data": [
          {
           "hovertemplate": "<b>%{hovertext}</b><br><br>Month=2023M02<br>Freight Helsinki=%{x}<br>Passengers Helsinki=%{y}<br>Finland Index=%{marker.color}<extra></extra>",
           "hovertext": [
            "2023M02"
           ],
           "legendgroup": "",
           "marker": {
            "color": [
             0.4768342668315789
            ],
            "coloraxis": "coloraxis",
            "size": [
             0.4768342668315789
            ],
            "sizemode": "area",
            "sizeref": 0.00201771064847021,
            "symbol": "circle"
           },
           "mode": "markers",
           "name": "",
           "orientation": "v",
           "showlegend": false,
           "type": "scatter",
           "x": [
            0.7100019077520381
           ],
           "xaxis": "x",
           "y": [
            0.714779302250113
           ],
           "yaxis": "y"
          }
         ],
         "name": "2023M02"
        },
        {
         "data": [
          {
           "hovertemplate": "<b>%{hovertext}</b><br><br>Month=2023M03<br>Freight Helsinki=%{x}<br>Passengers Helsinki=%{y}<br>Finland Index=%{marker.color}<extra></extra>",
           "hovertext": [
            "2023M03"
           ],
           "legendgroup": "",
           "marker": {
            "color": [
             0.4035825391723248
            ],
            "coloraxis": "coloraxis",
            "size": [
             0.4035825391723248
            ],
            "sizemode": "area",
            "sizeref": 0.00201771064847021,
            "symbol": "circle"
           },
           "mode": "markers",
           "name": "",
           "orientation": "v",
           "showlegend": false,
           "type": "scatter",
           "x": [
            0.5729780132419139
           ],
           "xaxis": "x",
           "y": [
            0.8325148121724716
           ],
           "yaxis": "y"
          }
         ],
         "name": "2023M03"
        }
       ],
       "layout": {
        "coloraxis": {
         "colorbar": {
          "title": {
           "text": "Finland Index"
          }
         },
         "colorscale": [
          [
           0,
           "#0d0887"
          ],
          [
           0.1111111111111111,
           "#46039f"
          ],
          [
           0.2222222222222222,
           "#7201a8"
          ],
          [
           0.3333333333333333,
           "#9c179e"
          ],
          [
           0.4444444444444444,
           "#bd3786"
          ],
          [
           0.5555555555555556,
           "#d8576b"
          ],
          [
           0.6666666666666666,
           "#ed7953"
          ],
          [
           0.7777777777777778,
           "#fb9f3a"
          ],
          [
           0.8888888888888888,
           "#fdca26"
          ],
          [
           1,
           "#f0f921"
          ]
         ]
        },
        "legend": {
         "itemsizing": "constant",
         "tracegroupgap": 0
        },
        "sliders": [
         {
          "active": 0,
          "currentvalue": {
           "prefix": "Month="
          },
          "len": 0.9,
          "pad": {
           "b": 10,
           "t": 60
          },
          "steps": [
           {
            "args": [
             [
              "2020M01"
             ],
             {
              "frame": {
               "duration": 0,
               "redraw": false
              },
              "fromcurrent": true,
              "mode": "immediate",
              "transition": {
               "duration": 0,
               "easing": "linear"
              }
             }
            ],
            "label": "2020M01",
            "method": "animate"
           },
           {
            "args": [
             [
              "2020M02"
             ],
             {
              "frame": {
               "duration": 0,
               "redraw": false
              },
              "fromcurrent": true,
              "mode": "immediate",
              "transition": {
               "duration": 0,
               "easing": "linear"
              }
             }
            ],
            "label": "2020M02",
            "method": "animate"
           },
           {
            "args": [
             [
              "2020M03"
             ],
             {
              "frame": {
               "duration": 0,
               "redraw": false
              },
              "fromcurrent": true,
              "mode": "immediate",
              "transition": {
               "duration": 0,
               "easing": "linear"
              }
             }
            ],
            "label": "2020M03",
            "method": "animate"
           },
           {
            "args": [
             [
              "2020M04"
             ],
             {
              "frame": {
               "duration": 0,
               "redraw": false
              },
              "fromcurrent": true,
              "mode": "immediate",
              "transition": {
               "duration": 0,
               "easing": "linear"
              }
             }
            ],
            "label": "2020M04",
            "method": "animate"
           },
           {
            "args": [
             [
              "2020M05"
             ],
             {
              "frame": {
               "duration": 0,
               "redraw": false
              },
              "fromcurrent": true,
              "mode": "immediate",
              "transition": {
               "duration": 0,
               "easing": "linear"
              }
             }
            ],
            "label": "2020M05",
            "method": "animate"
           },
           {
            "args": [
             [
              "2020M06"
             ],
             {
              "frame": {
               "duration": 0,
               "redraw": false
              },
              "fromcurrent": true,
              "mode": "immediate",
              "transition": {
               "duration": 0,
               "easing": "linear"
              }
             }
            ],
            "label": "2020M06",
            "method": "animate"
           },
           {
            "args": [
             [
              "2020M07"
             ],
             {
              "frame": {
               "duration": 0,
               "redraw": false
              },
              "fromcurrent": true,
              "mode": "immediate",
              "transition": {
               "duration": 0,
               "easing": "linear"
              }
             }
            ],
            "label": "2020M07",
            "method": "animate"
           },
           {
            "args": [
             [
              "2020M08"
             ],
             {
              "frame": {
               "duration": 0,
               "redraw": false
              },
              "fromcurrent": true,
              "mode": "immediate",
              "transition": {
               "duration": 0,
               "easing": "linear"
              }
             }
            ],
            "label": "2020M08",
            "method": "animate"
           },
           {
            "args": [
             [
              "2020M09"
             ],
             {
              "frame": {
               "duration": 0,
               "redraw": false
              },
              "fromcurrent": true,
              "mode": "immediate",
              "transition": {
               "duration": 0,
               "easing": "linear"
              }
             }
            ],
            "label": "2020M09",
            "method": "animate"
           },
           {
            "args": [
             [
              "2020M10"
             ],
             {
              "frame": {
               "duration": 0,
               "redraw": false
              },
              "fromcurrent": true,
              "mode": "immediate",
              "transition": {
               "duration": 0,
               "easing": "linear"
              }
             }
            ],
            "label": "2020M10",
            "method": "animate"
           },
           {
            "args": [
             [
              "2020M11"
             ],
             {
              "frame": {
               "duration": 0,
               "redraw": false
              },
              "fromcurrent": true,
              "mode": "immediate",
              "transition": {
               "duration": 0,
               "easing": "linear"
              }
             }
            ],
            "label": "2020M11",
            "method": "animate"
           },
           {
            "args": [
             [
              "2020M12"
             ],
             {
              "frame": {
               "duration": 0,
               "redraw": false
              },
              "fromcurrent": true,
              "mode": "immediate",
              "transition": {
               "duration": 0,
               "easing": "linear"
              }
             }
            ],
            "label": "2020M12",
            "method": "animate"
           },
           {
            "args": [
             [
              "2021M01"
             ],
             {
              "frame": {
               "duration": 0,
               "redraw": false
              },
              "fromcurrent": true,
              "mode": "immediate",
              "transition": {
               "duration": 0,
               "easing": "linear"
              }
             }
            ],
            "label": "2021M01",
            "method": "animate"
           },
           {
            "args": [
             [
              "2021M02"
             ],
             {
              "frame": {
               "duration": 0,
               "redraw": false
              },
              "fromcurrent": true,
              "mode": "immediate",
              "transition": {
               "duration": 0,
               "easing": "linear"
              }
             }
            ],
            "label": "2021M02",
            "method": "animate"
           },
           {
            "args": [
             [
              "2021M03"
             ],
             {
              "frame": {
               "duration": 0,
               "redraw": false
              },
              "fromcurrent": true,
              "mode": "immediate",
              "transition": {
               "duration": 0,
               "easing": "linear"
              }
             }
            ],
            "label": "2021M03",
            "method": "animate"
           },
           {
            "args": [
             [
              "2021M04"
             ],
             {
              "frame": {
               "duration": 0,
               "redraw": false
              },
              "fromcurrent": true,
              "mode": "immediate",
              "transition": {
               "duration": 0,
               "easing": "linear"
              }
             }
            ],
            "label": "2021M04",
            "method": "animate"
           },
           {
            "args": [
             [
              "2021M05"
             ],
             {
              "frame": {
               "duration": 0,
               "redraw": false
              },
              "fromcurrent": true,
              "mode": "immediate",
              "transition": {
               "duration": 0,
               "easing": "linear"
              }
             }
            ],
            "label": "2021M05",
            "method": "animate"
           },
           {
            "args": [
             [
              "2021M06"
             ],
             {
              "frame": {
               "duration": 0,
               "redraw": false
              },
              "fromcurrent": true,
              "mode": "immediate",
              "transition": {
               "duration": 0,
               "easing": "linear"
              }
             }
            ],
            "label": "2021M06",
            "method": "animate"
           },
           {
            "args": [
             [
              "2021M07"
             ],
             {
              "frame": {
               "duration": 0,
               "redraw": false
              },
              "fromcurrent": true,
              "mode": "immediate",
              "transition": {
               "duration": 0,
               "easing": "linear"
              }
             }
            ],
            "label": "2021M07",
            "method": "animate"
           },
           {
            "args": [
             [
              "2021M08"
             ],
             {
              "frame": {
               "duration": 0,
               "redraw": false
              },
              "fromcurrent": true,
              "mode": "immediate",
              "transition": {
               "duration": 0,
               "easing": "linear"
              }
             }
            ],
            "label": "2021M08",
            "method": "animate"
           },
           {
            "args": [
             [
              "2021M09"
             ],
             {
              "frame": {
               "duration": 0,
               "redraw": false
              },
              "fromcurrent": true,
              "mode": "immediate",
              "transition": {
               "duration": 0,
               "easing": "linear"
              }
             }
            ],
            "label": "2021M09",
            "method": "animate"
           },
           {
            "args": [
             [
              "2021M10"
             ],
             {
              "frame": {
               "duration": 0,
               "redraw": false
              },
              "fromcurrent": true,
              "mode": "immediate",
              "transition": {
               "duration": 0,
               "easing": "linear"
              }
             }
            ],
            "label": "2021M10",
            "method": "animate"
           },
           {
            "args": [
             [
              "2021M11"
             ],
             {
              "frame": {
               "duration": 0,
               "redraw": false
              },
              "fromcurrent": true,
              "mode": "immediate",
              "transition": {
               "duration": 0,
               "easing": "linear"
              }
             }
            ],
            "label": "2021M11",
            "method": "animate"
           },
           {
            "args": [
             [
              "2021M12"
             ],
             {
              "frame": {
               "duration": 0,
               "redraw": false
              },
              "fromcurrent": true,
              "mode": "immediate",
              "transition": {
               "duration": 0,
               "easing": "linear"
              }
             }
            ],
            "label": "2021M12",
            "method": "animate"
           },
           {
            "args": [
             [
              "2022M01"
             ],
             {
              "frame": {
               "duration": 0,
               "redraw": false
              },
              "fromcurrent": true,
              "mode": "immediate",
              "transition": {
               "duration": 0,
               "easing": "linear"
              }
             }
            ],
            "label": "2022M01",
            "method": "animate"
           },
           {
            "args": [
             [
              "2022M02"
             ],
             {
              "frame": {
               "duration": 0,
               "redraw": false
              },
              "fromcurrent": true,
              "mode": "immediate",
              "transition": {
               "duration": 0,
               "easing": "linear"
              }
             }
            ],
            "label": "2022M02",
            "method": "animate"
           },
           {
            "args": [
             [
              "2022M03"
             ],
             {
              "frame": {
               "duration": 0,
               "redraw": false
              },
              "fromcurrent": true,
              "mode": "immediate",
              "transition": {
               "duration": 0,
               "easing": "linear"
              }
             }
            ],
            "label": "2022M03",
            "method": "animate"
           },
           {
            "args": [
             [
              "2022M04"
             ],
             {
              "frame": {
               "duration": 0,
               "redraw": false
              },
              "fromcurrent": true,
              "mode": "immediate",
              "transition": {
               "duration": 0,
               "easing": "linear"
              }
             }
            ],
            "label": "2022M04",
            "method": "animate"
           },
           {
            "args": [
             [
              "2022M05"
             ],
             {
              "frame": {
               "duration": 0,
               "redraw": false
              },
              "fromcurrent": true,
              "mode": "immediate",
              "transition": {
               "duration": 0,
               "easing": "linear"
              }
             }
            ],
            "label": "2022M05",
            "method": "animate"
           },
           {
            "args": [
             [
              "2022M06"
             ],
             {
              "frame": {
               "duration": 0,
               "redraw": false
              },
              "fromcurrent": true,
              "mode": "immediate",
              "transition": {
               "duration": 0,
               "easing": "linear"
              }
             }
            ],
            "label": "2022M06",
            "method": "animate"
           },
           {
            "args": [
             [
              "2022M07"
             ],
             {
              "frame": {
               "duration": 0,
               "redraw": false
              },
              "fromcurrent": true,
              "mode": "immediate",
              "transition": {
               "duration": 0,
               "easing": "linear"
              }
             }
            ],
            "label": "2022M07",
            "method": "animate"
           },
           {
            "args": [
             [
              "2022M08"
             ],
             {
              "frame": {
               "duration": 0,
               "redraw": false
              },
              "fromcurrent": true,
              "mode": "immediate",
              "transition": {
               "duration": 0,
               "easing": "linear"
              }
             }
            ],
            "label": "2022M08",
            "method": "animate"
           },
           {
            "args": [
             [
              "2022M09"
             ],
             {
              "frame": {
               "duration": 0,
               "redraw": false
              },
              "fromcurrent": true,
              "mode": "immediate",
              "transition": {
               "duration": 0,
               "easing": "linear"
              }
             }
            ],
            "label": "2022M09",
            "method": "animate"
           },
           {
            "args": [
             [
              "2022M10"
             ],
             {
              "frame": {
               "duration": 0,
               "redraw": false
              },
              "fromcurrent": true,
              "mode": "immediate",
              "transition": {
               "duration": 0,
               "easing": "linear"
              }
             }
            ],
            "label": "2022M10",
            "method": "animate"
           },
           {
            "args": [
             [
              "2022M11"
             ],
             {
              "frame": {
               "duration": 0,
               "redraw": false
              },
              "fromcurrent": true,
              "mode": "immediate",
              "transition": {
               "duration": 0,
               "easing": "linear"
              }
             }
            ],
            "label": "2022M11",
            "method": "animate"
           },
           {
            "args": [
             [
              "2022M12"
             ],
             {
              "frame": {
               "duration": 0,
               "redraw": false
              },
              "fromcurrent": true,
              "mode": "immediate",
              "transition": {
               "duration": 0,
               "easing": "linear"
              }
             }
            ],
            "label": "2022M12",
            "method": "animate"
           },
           {
            "args": [
             [
              "2023M01"
             ],
             {
              "frame": {
               "duration": 0,
               "redraw": false
              },
              "fromcurrent": true,
              "mode": "immediate",
              "transition": {
               "duration": 0,
               "easing": "linear"
              }
             }
            ],
            "label": "2023M01",
            "method": "animate"
           },
           {
            "args": [
             [
              "2023M02"
             ],
             {
              "frame": {
               "duration": 0,
               "redraw": false
              },
              "fromcurrent": true,
              "mode": "immediate",
              "transition": {
               "duration": 0,
               "easing": "linear"
              }
             }
            ],
            "label": "2023M02",
            "method": "animate"
           },
           {
            "args": [
             [
              "2023M03"
             ],
             {
              "frame": {
               "duration": 0,
               "redraw": false
              },
              "fromcurrent": true,
              "mode": "immediate",
              "transition": {
               "duration": 0,
               "easing": "linear"
              }
             }
            ],
            "label": "2023M03",
            "method": "animate"
           }
          ],
          "x": 0.1,
          "xanchor": "left",
          "y": 0,
          "yanchor": "top"
         }
        ],
        "template": {
         "data": {
          "bar": [
           {
            "error_x": {
             "color": "#2a3f5f"
            },
            "error_y": {
             "color": "#2a3f5f"
            },
            "marker": {
             "line": {
              "color": "#E5ECF6",
              "width": 0.5
             },
             "pattern": {
              "fillmode": "overlay",
              "size": 10,
              "solidity": 0.2
             }
            },
            "type": "bar"
           }
          ],
          "barpolar": [
           {
            "marker": {
             "line": {
              "color": "#E5ECF6",
              "width": 0.5
             },
             "pattern": {
              "fillmode": "overlay",
              "size": 10,
              "solidity": 0.2
             }
            },
            "type": "barpolar"
           }
          ],
          "carpet": [
           {
            "aaxis": {
             "endlinecolor": "#2a3f5f",
             "gridcolor": "white",
             "linecolor": "white",
             "minorgridcolor": "white",
             "startlinecolor": "#2a3f5f"
            },
            "baxis": {
             "endlinecolor": "#2a3f5f",
             "gridcolor": "white",
             "linecolor": "white",
             "minorgridcolor": "white",
             "startlinecolor": "#2a3f5f"
            },
            "type": "carpet"
           }
          ],
          "choropleth": [
           {
            "colorbar": {
             "outlinewidth": 0,
             "ticks": ""
            },
            "type": "choropleth"
           }
          ],
          "contour": [
           {
            "colorbar": {
             "outlinewidth": 0,
             "ticks": ""
            },
            "colorscale": [
             [
              0,
              "#0d0887"
             ],
             [
              0.1111111111111111,
              "#46039f"
             ],
             [
              0.2222222222222222,
              "#7201a8"
             ],
             [
              0.3333333333333333,
              "#9c179e"
             ],
             [
              0.4444444444444444,
              "#bd3786"
             ],
             [
              0.5555555555555556,
              "#d8576b"
             ],
             [
              0.6666666666666666,
              "#ed7953"
             ],
             [
              0.7777777777777778,
              "#fb9f3a"
             ],
             [
              0.8888888888888888,
              "#fdca26"
             ],
             [
              1,
              "#f0f921"
             ]
            ],
            "type": "contour"
           }
          ],
          "contourcarpet": [
           {
            "colorbar": {
             "outlinewidth": 0,
             "ticks": ""
            },
            "type": "contourcarpet"
           }
          ],
          "heatmap": [
           {
            "colorbar": {
             "outlinewidth": 0,
             "ticks": ""
            },
            "colorscale": [
             [
              0,
              "#0d0887"
             ],
             [
              0.1111111111111111,
              "#46039f"
             ],
             [
              0.2222222222222222,
              "#7201a8"
             ],
             [
              0.3333333333333333,
              "#9c179e"
             ],
             [
              0.4444444444444444,
              "#bd3786"
             ],
             [
              0.5555555555555556,
              "#d8576b"
             ],
             [
              0.6666666666666666,
              "#ed7953"
             ],
             [
              0.7777777777777778,
              "#fb9f3a"
             ],
             [
              0.8888888888888888,
              "#fdca26"
             ],
             [
              1,
              "#f0f921"
             ]
            ],
            "type": "heatmap"
           }
          ],
          "heatmapgl": [
           {
            "colorbar": {
             "outlinewidth": 0,
             "ticks": ""
            },
            "colorscale": [
             [
              0,
              "#0d0887"
             ],
             [
              0.1111111111111111,
              "#46039f"
             ],
             [
              0.2222222222222222,
              "#7201a8"
             ],
             [
              0.3333333333333333,
              "#9c179e"
             ],
             [
              0.4444444444444444,
              "#bd3786"
             ],
             [
              0.5555555555555556,
              "#d8576b"
             ],
             [
              0.6666666666666666,
              "#ed7953"
             ],
             [
              0.7777777777777778,
              "#fb9f3a"
             ],
             [
              0.8888888888888888,
              "#fdca26"
             ],
             [
              1,
              "#f0f921"
             ]
            ],
            "type": "heatmapgl"
           }
          ],
          "histogram": [
           {
            "marker": {
             "pattern": {
              "fillmode": "overlay",
              "size": 10,
              "solidity": 0.2
             }
            },
            "type": "histogram"
           }
          ],
          "histogram2d": [
           {
            "colorbar": {
             "outlinewidth": 0,
             "ticks": ""
            },
            "colorscale": [
             [
              0,
              "#0d0887"
             ],
             [
              0.1111111111111111,
              "#46039f"
             ],
             [
              0.2222222222222222,
              "#7201a8"
             ],
             [
              0.3333333333333333,
              "#9c179e"
             ],
             [
              0.4444444444444444,
              "#bd3786"
             ],
             [
              0.5555555555555556,
              "#d8576b"
             ],
             [
              0.6666666666666666,
              "#ed7953"
             ],
             [
              0.7777777777777778,
              "#fb9f3a"
             ],
             [
              0.8888888888888888,
              "#fdca26"
             ],
             [
              1,
              "#f0f921"
             ]
            ],
            "type": "histogram2d"
           }
          ],
          "histogram2dcontour": [
           {
            "colorbar": {
             "outlinewidth": 0,
             "ticks": ""
            },
            "colorscale": [
             [
              0,
              "#0d0887"
             ],
             [
              0.1111111111111111,
              "#46039f"
             ],
             [
              0.2222222222222222,
              "#7201a8"
             ],
             [
              0.3333333333333333,
              "#9c179e"
             ],
             [
              0.4444444444444444,
              "#bd3786"
             ],
             [
              0.5555555555555556,
              "#d8576b"
             ],
             [
              0.6666666666666666,
              "#ed7953"
             ],
             [
              0.7777777777777778,
              "#fb9f3a"
             ],
             [
              0.8888888888888888,
              "#fdca26"
             ],
             [
              1,
              "#f0f921"
             ]
            ],
            "type": "histogram2dcontour"
           }
          ],
          "mesh3d": [
           {
            "colorbar": {
             "outlinewidth": 0,
             "ticks": ""
            },
            "type": "mesh3d"
           }
          ],
          "parcoords": [
           {
            "line": {
             "colorbar": {
              "outlinewidth": 0,
              "ticks": ""
             }
            },
            "type": "parcoords"
           }
          ],
          "pie": [
           {
            "automargin": true,
            "type": "pie"
           }
          ],
          "scatter": [
           {
            "fillpattern": {
             "fillmode": "overlay",
             "size": 10,
             "solidity": 0.2
            },
            "type": "scatter"
           }
          ],
          "scatter3d": [
           {
            "line": {
             "colorbar": {
              "outlinewidth": 0,
              "ticks": ""
             }
            },
            "marker": {
             "colorbar": {
              "outlinewidth": 0,
              "ticks": ""
             }
            },
            "type": "scatter3d"
           }
          ],
          "scattercarpet": [
           {
            "marker": {
             "colorbar": {
              "outlinewidth": 0,
              "ticks": ""
             }
            },
            "type": "scattercarpet"
           }
          ],
          "scattergeo": [
           {
            "marker": {
             "colorbar": {
              "outlinewidth": 0,
              "ticks": ""
             }
            },
            "type": "scattergeo"
           }
          ],
          "scattergl": [
           {
            "marker": {
             "colorbar": {
              "outlinewidth": 0,
              "ticks": ""
             }
            },
            "type": "scattergl"
           }
          ],
          "scattermapbox": [
           {
            "marker": {
             "colorbar": {
              "outlinewidth": 0,
              "ticks": ""
             }
            },
            "type": "scattermapbox"
           }
          ],
          "scatterpolar": [
           {
            "marker": {
             "colorbar": {
              "outlinewidth": 0,
              "ticks": ""
             }
            },
            "type": "scatterpolar"
           }
          ],
          "scatterpolargl": [
           {
            "marker": {
             "colorbar": {
              "outlinewidth": 0,
              "ticks": ""
             }
            },
            "type": "scatterpolargl"
           }
          ],
          "scatterternary": [
           {
            "marker": {
             "colorbar": {
              "outlinewidth": 0,
              "ticks": ""
             }
            },
            "type": "scatterternary"
           }
          ],
          "surface": [
           {
            "colorbar": {
             "outlinewidth": 0,
             "ticks": ""
            },
            "colorscale": [
             [
              0,
              "#0d0887"
             ],
             [
              0.1111111111111111,
              "#46039f"
             ],
             [
              0.2222222222222222,
              "#7201a8"
             ],
             [
              0.3333333333333333,
              "#9c179e"
             ],
             [
              0.4444444444444444,
              "#bd3786"
             ],
             [
              0.5555555555555556,
              "#d8576b"
             ],
             [
              0.6666666666666666,
              "#ed7953"
             ],
             [
              0.7777777777777778,
              "#fb9f3a"
             ],
             [
              0.8888888888888888,
              "#fdca26"
             ],
             [
              1,
              "#f0f921"
             ]
            ],
            "type": "surface"
           }
          ],
          "table": [
           {
            "cells": {
             "fill": {
              "color": "#EBF0F8"
             },
             "line": {
              "color": "white"
             }
            },
            "header": {
             "fill": {
              "color": "#C8D4E3"
             },
             "line": {
              "color": "white"
             }
            },
            "type": "table"
           }
          ]
         },
         "layout": {
          "annotationdefaults": {
           "arrowcolor": "#2a3f5f",
           "arrowhead": 0,
           "arrowwidth": 1
          },
          "autotypenumbers": "strict",
          "coloraxis": {
           "colorbar": {
            "outlinewidth": 0,
            "ticks": ""
           }
          },
          "colorscale": {
           "diverging": [
            [
             0,
             "#8e0152"
            ],
            [
             0.1,
             "#c51b7d"
            ],
            [
             0.2,
             "#de77ae"
            ],
            [
             0.3,
             "#f1b6da"
            ],
            [
             0.4,
             "#fde0ef"
            ],
            [
             0.5,
             "#f7f7f7"
            ],
            [
             0.6,
             "#e6f5d0"
            ],
            [
             0.7,
             "#b8e186"
            ],
            [
             0.8,
             "#7fbc41"
            ],
            [
             0.9,
             "#4d9221"
            ],
            [
             1,
             "#276419"
            ]
           ],
           "sequential": [
            [
             0,
             "#0d0887"
            ],
            [
             0.1111111111111111,
             "#46039f"
            ],
            [
             0.2222222222222222,
             "#7201a8"
            ],
            [
             0.3333333333333333,
             "#9c179e"
            ],
            [
             0.4444444444444444,
             "#bd3786"
            ],
            [
             0.5555555555555556,
             "#d8576b"
            ],
            [
             0.6666666666666666,
             "#ed7953"
            ],
            [
             0.7777777777777778,
             "#fb9f3a"
            ],
            [
             0.8888888888888888,
             "#fdca26"
            ],
            [
             1,
             "#f0f921"
            ]
           ],
           "sequentialminus": [
            [
             0,
             "#0d0887"
            ],
            [
             0.1111111111111111,
             "#46039f"
            ],
            [
             0.2222222222222222,
             "#7201a8"
            ],
            [
             0.3333333333333333,
             "#9c179e"
            ],
            [
             0.4444444444444444,
             "#bd3786"
            ],
            [
             0.5555555555555556,
             "#d8576b"
            ],
            [
             0.6666666666666666,
             "#ed7953"
            ],
            [
             0.7777777777777778,
             "#fb9f3a"
            ],
            [
             0.8888888888888888,
             "#fdca26"
            ],
            [
             1,
             "#f0f921"
            ]
           ]
          },
          "colorway": [
           "#636efa",
           "#EF553B",
           "#00cc96",
           "#ab63fa",
           "#FFA15A",
           "#19d3f3",
           "#FF6692",
           "#B6E880",
           "#FF97FF",
           "#FECB52"
          ],
          "font": {
           "color": "#2a3f5f"
          },
          "geo": {
           "bgcolor": "white",
           "lakecolor": "white",
           "landcolor": "#E5ECF6",
           "showlakes": true,
           "showland": true,
           "subunitcolor": "white"
          },
          "hoverlabel": {
           "align": "left"
          },
          "hovermode": "closest",
          "mapbox": {
           "style": "light"
          },
          "paper_bgcolor": "white",
          "plot_bgcolor": "#E5ECF6",
          "polar": {
           "angularaxis": {
            "gridcolor": "white",
            "linecolor": "white",
            "ticks": ""
           },
           "bgcolor": "#E5ECF6",
           "radialaxis": {
            "gridcolor": "white",
            "linecolor": "white",
            "ticks": ""
           }
          },
          "scene": {
           "xaxis": {
            "backgroundcolor": "#E5ECF6",
            "gridcolor": "white",
            "gridwidth": 2,
            "linecolor": "white",
            "showbackground": true,
            "ticks": "",
            "zerolinecolor": "white"
           },
           "yaxis": {
            "backgroundcolor": "#E5ECF6",
            "gridcolor": "white",
            "gridwidth": 2,
            "linecolor": "white",
            "showbackground": true,
            "ticks": "",
            "zerolinecolor": "white"
           },
           "zaxis": {
            "backgroundcolor": "#E5ECF6",
            "gridcolor": "white",
            "gridwidth": 2,
            "linecolor": "white",
            "showbackground": true,
            "ticks": "",
            "zerolinecolor": "white"
           }
          },
          "shapedefaults": {
           "line": {
            "color": "#2a3f5f"
           }
          },
          "ternary": {
           "aaxis": {
            "gridcolor": "white",
            "linecolor": "white",
            "ticks": ""
           },
           "baxis": {
            "gridcolor": "white",
            "linecolor": "white",
            "ticks": ""
           },
           "bgcolor": "#E5ECF6",
           "caxis": {
            "gridcolor": "white",
            "linecolor": "white",
            "ticks": ""
           }
          },
          "title": {
           "x": 0.05
          },
          "xaxis": {
           "automargin": true,
           "gridcolor": "white",
           "linecolor": "white",
           "ticks": "",
           "title": {
            "standoff": 15
           },
           "zerolinecolor": "white",
           "zerolinewidth": 2
          },
          "yaxis": {
           "automargin": true,
           "gridcolor": "white",
           "linecolor": "white",
           "ticks": "",
           "title": {
            "standoff": 15
           },
           "zerolinecolor": "white",
           "zerolinewidth": 2
          }
         }
        },
        "title": {
         "text": "Interactive Graph Finland"
        },
        "updatemenus": [
         {
          "buttons": [
           {
            "args": [
             null,
             {
              "frame": {
               "duration": 1000,
               "redraw": true
              },
              "fromcurrent": true
             }
            ],
            "label": "Play",
            "method": "animate"
           },
           {
            "args": [
             null,
             {
              "frame": {
               "duration": 1000,
               "redraw": true
              },
              "fromcurrent": true
             }
            ],
            "label": "Play",
            "method": "animate"
           }
          ],
          "direction": "left",
          "pad": {
           "r": 10,
           "t": 70
          },
          "showactive": false,
          "type": "buttons",
          "x": 0.1,
          "xanchor": "right",
          "y": 0,
          "yanchor": "top"
         }
        ],
        "xaxis": {
         "anchor": "y",
         "domain": [
          0,
          1
         ],
         "range": [
          0.30330496610048374,
          0.7873766554735461
         ],
         "title": {
          "text": "Freight Helsinki"
         }
        },
        "yaxis": {
         "anchor": "x",
         "domain": [
          0,
          1
         ],
         "range": [
          0.1816333596482307,
          0.8325148121724716
         ],
         "title": {
          "text": "Passengers Helsinki"
         }
        }
       }
      },
      "text/html": [
       "<div>                            <div id=\"ccd4abfc-c9a4-4923-a8c8-8c221b7fc07c\" class=\"plotly-graph-div\" style=\"height:525px; width:100%;\"></div>            <script type=\"text/javascript\">                require([\"plotly\"], function(Plotly) {                    window.PLOTLYENV=window.PLOTLYENV || {};                                    if (document.getElementById(\"ccd4abfc-c9a4-4923-a8c8-8c221b7fc07c\")) {                    Plotly.newPlot(                        \"ccd4abfc-c9a4-4923-a8c8-8c221b7fc07c\",                        [{\"hovertemplate\":\"<b>%{hovertext}</b><br><br>Month=2020M01<br>Freight Helsinki=%{x}<br>Passengers Helsinki=%{y}<br>Finland Index=%{marker.color}<extra></extra>\",\"hovertext\":[\"2020M01\"],\"legendgroup\":\"\",\"marker\":{\"color\":[0.5641107690598279],\"coloraxis\":\"coloraxis\",\"size\":[0.5641107690598279],\"sizemode\":\"area\",\"sizeref\":0.00201771064847021,\"symbol\":\"circle\"},\"mode\":\"markers\",\"name\":\"\",\"orientation\":\"v\",\"showlegend\":false,\"x\":[0.30330496610048374],\"xaxis\":\"x\",\"y\":[0.5498733071180396],\"yaxis\":\"y\",\"type\":\"scatter\"}],                        {\"template\":{\"data\":{\"histogram2dcontour\":[{\"type\":\"histogram2dcontour\",\"colorbar\":{\"outlinewidth\":0,\"ticks\":\"\"},\"colorscale\":[[0.0,\"#0d0887\"],[0.1111111111111111,\"#46039f\"],[0.2222222222222222,\"#7201a8\"],[0.3333333333333333,\"#9c179e\"],[0.4444444444444444,\"#bd3786\"],[0.5555555555555556,\"#d8576b\"],[0.6666666666666666,\"#ed7953\"],[0.7777777777777778,\"#fb9f3a\"],[0.8888888888888888,\"#fdca26\"],[1.0,\"#f0f921\"]]}],\"choropleth\":[{\"type\":\"choropleth\",\"colorbar\":{\"outlinewidth\":0,\"ticks\":\"\"}}],\"histogram2d\":[{\"type\":\"histogram2d\",\"colorbar\":{\"outlinewidth\":0,\"ticks\":\"\"},\"colorscale\":[[0.0,\"#0d0887\"],[0.1111111111111111,\"#46039f\"],[0.2222222222222222,\"#7201a8\"],[0.3333333333333333,\"#9c179e\"],[0.4444444444444444,\"#bd3786\"],[0.5555555555555556,\"#d8576b\"],[0.6666666666666666,\"#ed7953\"],[0.7777777777777778,\"#fb9f3a\"],[0.8888888888888888,\"#fdca26\"],[1.0,\"#f0f921\"]]}],\"heatmap\":[{\"type\":\"heatmap\",\"colorbar\":{\"outlinewidth\":0,\"ticks\":\"\"},\"colorscale\":[[0.0,\"#0d0887\"],[0.1111111111111111,\"#46039f\"],[0.2222222222222222,\"#7201a8\"],[0.3333333333333333,\"#9c179e\"],[0.4444444444444444,\"#bd3786\"],[0.5555555555555556,\"#d8576b\"],[0.6666666666666666,\"#ed7953\"],[0.7777777777777778,\"#fb9f3a\"],[0.8888888888888888,\"#fdca26\"],[1.0,\"#f0f921\"]]}],\"heatmapgl\":[{\"type\":\"heatmapgl\",\"colorbar\":{\"outlinewidth\":0,\"ticks\":\"\"},\"colorscale\":[[0.0,\"#0d0887\"],[0.1111111111111111,\"#46039f\"],[0.2222222222222222,\"#7201a8\"],[0.3333333333333333,\"#9c179e\"],[0.4444444444444444,\"#bd3786\"],[0.5555555555555556,\"#d8576b\"],[0.6666666666666666,\"#ed7953\"],[0.7777777777777778,\"#fb9f3a\"],[0.8888888888888888,\"#fdca26\"],[1.0,\"#f0f921\"]]}],\"contourcarpet\":[{\"type\":\"contourcarpet\",\"colorbar\":{\"outlinewidth\":0,\"ticks\":\"\"}}],\"contour\":[{\"type\":\"contour\",\"colorbar\":{\"outlinewidth\":0,\"ticks\":\"\"},\"colorscale\":[[0.0,\"#0d0887\"],[0.1111111111111111,\"#46039f\"],[0.2222222222222222,\"#7201a8\"],[0.3333333333333333,\"#9c179e\"],[0.4444444444444444,\"#bd3786\"],[0.5555555555555556,\"#d8576b\"],[0.6666666666666666,\"#ed7953\"],[0.7777777777777778,\"#fb9f3a\"],[0.8888888888888888,\"#fdca26\"],[1.0,\"#f0f921\"]]}],\"surface\":[{\"type\":\"surface\",\"colorbar\":{\"outlinewidth\":0,\"ticks\":\"\"},\"colorscale\":[[0.0,\"#0d0887\"],[0.1111111111111111,\"#46039f\"],[0.2222222222222222,\"#7201a8\"],[0.3333333333333333,\"#9c179e\"],[0.4444444444444444,\"#bd3786\"],[0.5555555555555556,\"#d8576b\"],[0.6666666666666666,\"#ed7953\"],[0.7777777777777778,\"#fb9f3a\"],[0.8888888888888888,\"#fdca26\"],[1.0,\"#f0f921\"]]}],\"mesh3d\":[{\"type\":\"mesh3d\",\"colorbar\":{\"outlinewidth\":0,\"ticks\":\"\"}}],\"scatter\":[{\"fillpattern\":{\"fillmode\":\"overlay\",\"size\":10,\"solidity\":0.2},\"type\":\"scatter\"}],\"parcoords\":[{\"type\":\"parcoords\",\"line\":{\"colorbar\":{\"outlinewidth\":0,\"ticks\":\"\"}}}],\"scatterpolargl\":[{\"type\":\"scatterpolargl\",\"marker\":{\"colorbar\":{\"outlinewidth\":0,\"ticks\":\"\"}}}],\"bar\":[{\"error_x\":{\"color\":\"#2a3f5f\"},\"error_y\":{\"color\":\"#2a3f5f\"},\"marker\":{\"line\":{\"color\":\"#E5ECF6\",\"width\":0.5},\"pattern\":{\"fillmode\":\"overlay\",\"size\":10,\"solidity\":0.2}},\"type\":\"bar\"}],\"scattergeo\":[{\"type\":\"scattergeo\",\"marker\":{\"colorbar\":{\"outlinewidth\":0,\"ticks\":\"\"}}}],\"scatterpolar\":[{\"type\":\"scatterpolar\",\"marker\":{\"colorbar\":{\"outlinewidth\":0,\"ticks\":\"\"}}}],\"histogram\":[{\"marker\":{\"pattern\":{\"fillmode\":\"overlay\",\"size\":10,\"solidity\":0.2}},\"type\":\"histogram\"}],\"scattergl\":[{\"type\":\"scattergl\",\"marker\":{\"colorbar\":{\"outlinewidth\":0,\"ticks\":\"\"}}}],\"scatter3d\":[{\"type\":\"scatter3d\",\"line\":{\"colorbar\":{\"outlinewidth\":0,\"ticks\":\"\"}},\"marker\":{\"colorbar\":{\"outlinewidth\":0,\"ticks\":\"\"}}}],\"scattermapbox\":[{\"type\":\"scattermapbox\",\"marker\":{\"colorbar\":{\"outlinewidth\":0,\"ticks\":\"\"}}}],\"scatterternary\":[{\"type\":\"scatterternary\",\"marker\":{\"colorbar\":{\"outlinewidth\":0,\"ticks\":\"\"}}}],\"scattercarpet\":[{\"type\":\"scattercarpet\",\"marker\":{\"colorbar\":{\"outlinewidth\":0,\"ticks\":\"\"}}}],\"carpet\":[{\"aaxis\":{\"endlinecolor\":\"#2a3f5f\",\"gridcolor\":\"white\",\"linecolor\":\"white\",\"minorgridcolor\":\"white\",\"startlinecolor\":\"#2a3f5f\"},\"baxis\":{\"endlinecolor\":\"#2a3f5f\",\"gridcolor\":\"white\",\"linecolor\":\"white\",\"minorgridcolor\":\"white\",\"startlinecolor\":\"#2a3f5f\"},\"type\":\"carpet\"}],\"table\":[{\"cells\":{\"fill\":{\"color\":\"#EBF0F8\"},\"line\":{\"color\":\"white\"}},\"header\":{\"fill\":{\"color\":\"#C8D4E3\"},\"line\":{\"color\":\"white\"}},\"type\":\"table\"}],\"barpolar\":[{\"marker\":{\"line\":{\"color\":\"#E5ECF6\",\"width\":0.5},\"pattern\":{\"fillmode\":\"overlay\",\"size\":10,\"solidity\":0.2}},\"type\":\"barpolar\"}],\"pie\":[{\"automargin\":true,\"type\":\"pie\"}]},\"layout\":{\"autotypenumbers\":\"strict\",\"colorway\":[\"#636efa\",\"#EF553B\",\"#00cc96\",\"#ab63fa\",\"#FFA15A\",\"#19d3f3\",\"#FF6692\",\"#B6E880\",\"#FF97FF\",\"#FECB52\"],\"font\":{\"color\":\"#2a3f5f\"},\"hovermode\":\"closest\",\"hoverlabel\":{\"align\":\"left\"},\"paper_bgcolor\":\"white\",\"plot_bgcolor\":\"#E5ECF6\",\"polar\":{\"bgcolor\":\"#E5ECF6\",\"angularaxis\":{\"gridcolor\":\"white\",\"linecolor\":\"white\",\"ticks\":\"\"},\"radialaxis\":{\"gridcolor\":\"white\",\"linecolor\":\"white\",\"ticks\":\"\"}},\"ternary\":{\"bgcolor\":\"#E5ECF6\",\"aaxis\":{\"gridcolor\":\"white\",\"linecolor\":\"white\",\"ticks\":\"\"},\"baxis\":{\"gridcolor\":\"white\",\"linecolor\":\"white\",\"ticks\":\"\"},\"caxis\":{\"gridcolor\":\"white\",\"linecolor\":\"white\",\"ticks\":\"\"}},\"coloraxis\":{\"colorbar\":{\"outlinewidth\":0,\"ticks\":\"\"}},\"colorscale\":{\"sequential\":[[0.0,\"#0d0887\"],[0.1111111111111111,\"#46039f\"],[0.2222222222222222,\"#7201a8\"],[0.3333333333333333,\"#9c179e\"],[0.4444444444444444,\"#bd3786\"],[0.5555555555555556,\"#d8576b\"],[0.6666666666666666,\"#ed7953\"],[0.7777777777777778,\"#fb9f3a\"],[0.8888888888888888,\"#fdca26\"],[1.0,\"#f0f921\"]],\"sequentialminus\":[[0.0,\"#0d0887\"],[0.1111111111111111,\"#46039f\"],[0.2222222222222222,\"#7201a8\"],[0.3333333333333333,\"#9c179e\"],[0.4444444444444444,\"#bd3786\"],[0.5555555555555556,\"#d8576b\"],[0.6666666666666666,\"#ed7953\"],[0.7777777777777778,\"#fb9f3a\"],[0.8888888888888888,\"#fdca26\"],[1.0,\"#f0f921\"]],\"diverging\":[[0,\"#8e0152\"],[0.1,\"#c51b7d\"],[0.2,\"#de77ae\"],[0.3,\"#f1b6da\"],[0.4,\"#fde0ef\"],[0.5,\"#f7f7f7\"],[0.6,\"#e6f5d0\"],[0.7,\"#b8e186\"],[0.8,\"#7fbc41\"],[0.9,\"#4d9221\"],[1,\"#276419\"]]},\"xaxis\":{\"gridcolor\":\"white\",\"linecolor\":\"white\",\"ticks\":\"\",\"title\":{\"standoff\":15},\"zerolinecolor\":\"white\",\"automargin\":true,\"zerolinewidth\":2},\"yaxis\":{\"gridcolor\":\"white\",\"linecolor\":\"white\",\"ticks\":\"\",\"title\":{\"standoff\":15},\"zerolinecolor\":\"white\",\"automargin\":true,\"zerolinewidth\":2},\"scene\":{\"xaxis\":{\"backgroundcolor\":\"#E5ECF6\",\"gridcolor\":\"white\",\"linecolor\":\"white\",\"showbackground\":true,\"ticks\":\"\",\"zerolinecolor\":\"white\",\"gridwidth\":2},\"yaxis\":{\"backgroundcolor\":\"#E5ECF6\",\"gridcolor\":\"white\",\"linecolor\":\"white\",\"showbackground\":true,\"ticks\":\"\",\"zerolinecolor\":\"white\",\"gridwidth\":2},\"zaxis\":{\"backgroundcolor\":\"#E5ECF6\",\"gridcolor\":\"white\",\"linecolor\":\"white\",\"showbackground\":true,\"ticks\":\"\",\"zerolinecolor\":\"white\",\"gridwidth\":2}},\"shapedefaults\":{\"line\":{\"color\":\"#2a3f5f\"}},\"annotationdefaults\":{\"arrowcolor\":\"#2a3f5f\",\"arrowhead\":0,\"arrowwidth\":1},\"geo\":{\"bgcolor\":\"white\",\"landcolor\":\"#E5ECF6\",\"subunitcolor\":\"white\",\"showland\":true,\"showlakes\":true,\"lakecolor\":\"white\"},\"title\":{\"x\":0.05},\"mapbox\":{\"style\":\"light\"}}},\"xaxis\":{\"anchor\":\"y\",\"domain\":[0.0,1.0],\"title\":{\"text\":\"Freight Helsinki\"},\"range\":[0.30330496610048374,0.7873766554735461]},\"yaxis\":{\"anchor\":\"x\",\"domain\":[0.0,1.0],\"title\":{\"text\":\"Passengers Helsinki\"},\"range\":[0.1816333596482307,0.8325148121724716]},\"coloraxis\":{\"colorbar\":{\"title\":{\"text\":\"Finland Index\"}},\"colorscale\":[[0.0,\"#0d0887\"],[0.1111111111111111,\"#46039f\"],[0.2222222222222222,\"#7201a8\"],[0.3333333333333333,\"#9c179e\"],[0.4444444444444444,\"#bd3786\"],[0.5555555555555556,\"#d8576b\"],[0.6666666666666666,\"#ed7953\"],[0.7777777777777778,\"#fb9f3a\"],[0.8888888888888888,\"#fdca26\"],[1.0,\"#f0f921\"]]},\"legend\":{\"tracegroupgap\":0,\"itemsizing\":\"constant\"},\"title\":{\"text\":\"Interactive Graph Finland\"},\"updatemenus\":[{\"buttons\":[{\"args\":[null,{\"frame\":{\"duration\":1000,\"redraw\":true},\"fromcurrent\":true}],\"label\":\"Play\",\"method\":\"animate\"},{\"args\":[null,{\"frame\":{\"duration\":1000,\"redraw\":true},\"fromcurrent\":true}],\"label\":\"Play\",\"method\":\"animate\"}],\"direction\":\"left\",\"pad\":{\"r\":10,\"t\":70},\"showactive\":false,\"type\":\"buttons\",\"x\":0.1,\"xanchor\":\"right\",\"y\":0,\"yanchor\":\"top\"}],\"sliders\":[{\"active\":0,\"currentvalue\":{\"prefix\":\"Month=\"},\"len\":0.9,\"pad\":{\"b\":10,\"t\":60},\"steps\":[{\"args\":[[\"2020M01\"],{\"frame\":{\"duration\":0,\"redraw\":false},\"mode\":\"immediate\",\"fromcurrent\":true,\"transition\":{\"duration\":0,\"easing\":\"linear\"}}],\"label\":\"2020M01\",\"method\":\"animate\"},{\"args\":[[\"2020M02\"],{\"frame\":{\"duration\":0,\"redraw\":false},\"mode\":\"immediate\",\"fromcurrent\":true,\"transition\":{\"duration\":0,\"easing\":\"linear\"}}],\"label\":\"2020M02\",\"method\":\"animate\"},{\"args\":[[\"2020M03\"],{\"frame\":{\"duration\":0,\"redraw\":false},\"mode\":\"immediate\",\"fromcurrent\":true,\"transition\":{\"duration\":0,\"easing\":\"linear\"}}],\"label\":\"2020M03\",\"method\":\"animate\"},{\"args\":[[\"2020M04\"],{\"frame\":{\"duration\":0,\"redraw\":false},\"mode\":\"immediate\",\"fromcurrent\":true,\"transition\":{\"duration\":0,\"easing\":\"linear\"}}],\"label\":\"2020M04\",\"method\":\"animate\"},{\"args\":[[\"2020M05\"],{\"frame\":{\"duration\":0,\"redraw\":false},\"mode\":\"immediate\",\"fromcurrent\":true,\"transition\":{\"duration\":0,\"easing\":\"linear\"}}],\"label\":\"2020M05\",\"method\":\"animate\"},{\"args\":[[\"2020M06\"],{\"frame\":{\"duration\":0,\"redraw\":false},\"mode\":\"immediate\",\"fromcurrent\":true,\"transition\":{\"duration\":0,\"easing\":\"linear\"}}],\"label\":\"2020M06\",\"method\":\"animate\"},{\"args\":[[\"2020M07\"],{\"frame\":{\"duration\":0,\"redraw\":false},\"mode\":\"immediate\",\"fromcurrent\":true,\"transition\":{\"duration\":0,\"easing\":\"linear\"}}],\"label\":\"2020M07\",\"method\":\"animate\"},{\"args\":[[\"2020M08\"],{\"frame\":{\"duration\":0,\"redraw\":false},\"mode\":\"immediate\",\"fromcurrent\":true,\"transition\":{\"duration\":0,\"easing\":\"linear\"}}],\"label\":\"2020M08\",\"method\":\"animate\"},{\"args\":[[\"2020M09\"],{\"frame\":{\"duration\":0,\"redraw\":false},\"mode\":\"immediate\",\"fromcurrent\":true,\"transition\":{\"duration\":0,\"easing\":\"linear\"}}],\"label\":\"2020M09\",\"method\":\"animate\"},{\"args\":[[\"2020M10\"],{\"frame\":{\"duration\":0,\"redraw\":false},\"mode\":\"immediate\",\"fromcurrent\":true,\"transition\":{\"duration\":0,\"easing\":\"linear\"}}],\"label\":\"2020M10\",\"method\":\"animate\"},{\"args\":[[\"2020M11\"],{\"frame\":{\"duration\":0,\"redraw\":false},\"mode\":\"immediate\",\"fromcurrent\":true,\"transition\":{\"duration\":0,\"easing\":\"linear\"}}],\"label\":\"2020M11\",\"method\":\"animate\"},{\"args\":[[\"2020M12\"],{\"frame\":{\"duration\":0,\"redraw\":false},\"mode\":\"immediate\",\"fromcurrent\":true,\"transition\":{\"duration\":0,\"easing\":\"linear\"}}],\"label\":\"2020M12\",\"method\":\"animate\"},{\"args\":[[\"2021M01\"],{\"frame\":{\"duration\":0,\"redraw\":false},\"mode\":\"immediate\",\"fromcurrent\":true,\"transition\":{\"duration\":0,\"easing\":\"linear\"}}],\"label\":\"2021M01\",\"method\":\"animate\"},{\"args\":[[\"2021M02\"],{\"frame\":{\"duration\":0,\"redraw\":false},\"mode\":\"immediate\",\"fromcurrent\":true,\"transition\":{\"duration\":0,\"easing\":\"linear\"}}],\"label\":\"2021M02\",\"method\":\"animate\"},{\"args\":[[\"2021M03\"],{\"frame\":{\"duration\":0,\"redraw\":false},\"mode\":\"immediate\",\"fromcurrent\":true,\"transition\":{\"duration\":0,\"easing\":\"linear\"}}],\"label\":\"2021M03\",\"method\":\"animate\"},{\"args\":[[\"2021M04\"],{\"frame\":{\"duration\":0,\"redraw\":false},\"mode\":\"immediate\",\"fromcurrent\":true,\"transition\":{\"duration\":0,\"easing\":\"linear\"}}],\"label\":\"2021M04\",\"method\":\"animate\"},{\"args\":[[\"2021M05\"],{\"frame\":{\"duration\":0,\"redraw\":false},\"mode\":\"immediate\",\"fromcurrent\":true,\"transition\":{\"duration\":0,\"easing\":\"linear\"}}],\"label\":\"2021M05\",\"method\":\"animate\"},{\"args\":[[\"2021M06\"],{\"frame\":{\"duration\":0,\"redraw\":false},\"mode\":\"immediate\",\"fromcurrent\":true,\"transition\":{\"duration\":0,\"easing\":\"linear\"}}],\"label\":\"2021M06\",\"method\":\"animate\"},{\"args\":[[\"2021M07\"],{\"frame\":{\"duration\":0,\"redraw\":false},\"mode\":\"immediate\",\"fromcurrent\":true,\"transition\":{\"duration\":0,\"easing\":\"linear\"}}],\"label\":\"2021M07\",\"method\":\"animate\"},{\"args\":[[\"2021M08\"],{\"frame\":{\"duration\":0,\"redraw\":false},\"mode\":\"immediate\",\"fromcurrent\":true,\"transition\":{\"duration\":0,\"easing\":\"linear\"}}],\"label\":\"2021M08\",\"method\":\"animate\"},{\"args\":[[\"2021M09\"],{\"frame\":{\"duration\":0,\"redraw\":false},\"mode\":\"immediate\",\"fromcurrent\":true,\"transition\":{\"duration\":0,\"easing\":\"linear\"}}],\"label\":\"2021M09\",\"method\":\"animate\"},{\"args\":[[\"2021M10\"],{\"frame\":{\"duration\":0,\"redraw\":false},\"mode\":\"immediate\",\"fromcurrent\":true,\"transition\":{\"duration\":0,\"easing\":\"linear\"}}],\"label\":\"2021M10\",\"method\":\"animate\"},{\"args\":[[\"2021M11\"],{\"frame\":{\"duration\":0,\"redraw\":false},\"mode\":\"immediate\",\"fromcurrent\":true,\"transition\":{\"duration\":0,\"easing\":\"linear\"}}],\"label\":\"2021M11\",\"method\":\"animate\"},{\"args\":[[\"2021M12\"],{\"frame\":{\"duration\":0,\"redraw\":false},\"mode\":\"immediate\",\"fromcurrent\":true,\"transition\":{\"duration\":0,\"easing\":\"linear\"}}],\"label\":\"2021M12\",\"method\":\"animate\"},{\"args\":[[\"2022M01\"],{\"frame\":{\"duration\":0,\"redraw\":false},\"mode\":\"immediate\",\"fromcurrent\":true,\"transition\":{\"duration\":0,\"easing\":\"linear\"}}],\"label\":\"2022M01\",\"method\":\"animate\"},{\"args\":[[\"2022M02\"],{\"frame\":{\"duration\":0,\"redraw\":false},\"mode\":\"immediate\",\"fromcurrent\":true,\"transition\":{\"duration\":0,\"easing\":\"linear\"}}],\"label\":\"2022M02\",\"method\":\"animate\"},{\"args\":[[\"2022M03\"],{\"frame\":{\"duration\":0,\"redraw\":false},\"mode\":\"immediate\",\"fromcurrent\":true,\"transition\":{\"duration\":0,\"easing\":\"linear\"}}],\"label\":\"2022M03\",\"method\":\"animate\"},{\"args\":[[\"2022M04\"],{\"frame\":{\"duration\":0,\"redraw\":false},\"mode\":\"immediate\",\"fromcurrent\":true,\"transition\":{\"duration\":0,\"easing\":\"linear\"}}],\"label\":\"2022M04\",\"method\":\"animate\"},{\"args\":[[\"2022M05\"],{\"frame\":{\"duration\":0,\"redraw\":false},\"mode\":\"immediate\",\"fromcurrent\":true,\"transition\":{\"duration\":0,\"easing\":\"linear\"}}],\"label\":\"2022M05\",\"method\":\"animate\"},{\"args\":[[\"2022M06\"],{\"frame\":{\"duration\":0,\"redraw\":false},\"mode\":\"immediate\",\"fromcurrent\":true,\"transition\":{\"duration\":0,\"easing\":\"linear\"}}],\"label\":\"2022M06\",\"method\":\"animate\"},{\"args\":[[\"2022M07\"],{\"frame\":{\"duration\":0,\"redraw\":false},\"mode\":\"immediate\",\"fromcurrent\":true,\"transition\":{\"duration\":0,\"easing\":\"linear\"}}],\"label\":\"2022M07\",\"method\":\"animate\"},{\"args\":[[\"2022M08\"],{\"frame\":{\"duration\":0,\"redraw\":false},\"mode\":\"immediate\",\"fromcurrent\":true,\"transition\":{\"duration\":0,\"easing\":\"linear\"}}],\"label\":\"2022M08\",\"method\":\"animate\"},{\"args\":[[\"2022M09\"],{\"frame\":{\"duration\":0,\"redraw\":false},\"mode\":\"immediate\",\"fromcurrent\":true,\"transition\":{\"duration\":0,\"easing\":\"linear\"}}],\"label\":\"2022M09\",\"method\":\"animate\"},{\"args\":[[\"2022M10\"],{\"frame\":{\"duration\":0,\"redraw\":false},\"mode\":\"immediate\",\"fromcurrent\":true,\"transition\":{\"duration\":0,\"easing\":\"linear\"}}],\"label\":\"2022M10\",\"method\":\"animate\"},{\"args\":[[\"2022M11\"],{\"frame\":{\"duration\":0,\"redraw\":false},\"mode\":\"immediate\",\"fromcurrent\":true,\"transition\":{\"duration\":0,\"easing\":\"linear\"}}],\"label\":\"2022M11\",\"method\":\"animate\"},{\"args\":[[\"2022M12\"],{\"frame\":{\"duration\":0,\"redraw\":false},\"mode\":\"immediate\",\"fromcurrent\":true,\"transition\":{\"duration\":0,\"easing\":\"linear\"}}],\"label\":\"2022M12\",\"method\":\"animate\"},{\"args\":[[\"2023M01\"],{\"frame\":{\"duration\":0,\"redraw\":false},\"mode\":\"immediate\",\"fromcurrent\":true,\"transition\":{\"duration\":0,\"easing\":\"linear\"}}],\"label\":\"2023M01\",\"method\":\"animate\"},{\"args\":[[\"2023M02\"],{\"frame\":{\"duration\":0,\"redraw\":false},\"mode\":\"immediate\",\"fromcurrent\":true,\"transition\":{\"duration\":0,\"easing\":\"linear\"}}],\"label\":\"2023M02\",\"method\":\"animate\"},{\"args\":[[\"2023M03\"],{\"frame\":{\"duration\":0,\"redraw\":false},\"mode\":\"immediate\",\"fromcurrent\":true,\"transition\":{\"duration\":0,\"easing\":\"linear\"}}],\"label\":\"2023M03\",\"method\":\"animate\"}],\"x\":0.1,\"xanchor\":\"left\",\"y\":0,\"yanchor\":\"top\"}]},                        {\"responsive\": true}                    ).then(function(){\n",
       "                            Plotly.addFrames('ccd4abfc-c9a4-4923-a8c8-8c221b7fc07c', [{\"data\":[{\"hovertemplate\":\"<b>%{hovertext}</b><br><br>Month=2020M01<br>Freight Helsinki=%{x}<br>Passengers Helsinki=%{y}<br>Finland Index=%{marker.color}<extra></extra>\",\"hovertext\":[\"2020M01\"],\"legendgroup\":\"\",\"marker\":{\"color\":[0.5641107690598279],\"coloraxis\":\"coloraxis\",\"size\":[0.5641107690598279],\"sizemode\":\"area\",\"sizeref\":0.00201771064847021,\"symbol\":\"circle\"},\"mode\":\"markers\",\"name\":\"\",\"orientation\":\"v\",\"showlegend\":false,\"x\":[0.30330496610048374],\"xaxis\":\"x\",\"y\":[0.5498733071180396],\"yaxis\":\"y\",\"type\":\"scatter\"}],\"name\":\"2020M01\"},{\"data\":[{\"hovertemplate\":\"<b>%{hovertext}</b><br><br>Month=2020M02<br>Freight Helsinki=%{x}<br>Passengers Helsinki=%{y}<br>Finland Index=%{marker.color}<extra></extra>\",\"hovertext\":[\"2020M02\"],\"legendgroup\":\"\",\"marker\":{\"color\":[0.37355382433165174],\"coloraxis\":\"coloraxis\",\"size\":[0.37355382433165174],\"sizemode\":\"area\",\"sizeref\":0.00201771064847021,\"symbol\":\"circle\"},\"mode\":\"markers\",\"name\":\"\",\"orientation\":\"v\",\"showlegend\":false,\"x\":[0.7058996938450103],\"xaxis\":\"x\",\"y\":[0.6221832453006227],\"yaxis\":\"y\",\"type\":\"scatter\"}],\"name\":\"2020M02\"},{\"data\":[{\"hovertemplate\":\"<b>%{hovertext}</b><br><br>Month=2020M03<br>Freight Helsinki=%{x}<br>Passengers Helsinki=%{y}<br>Finland Index=%{marker.color}<extra></extra>\",\"hovertext\":[\"2020M03\"],\"legendgroup\":\"\",\"marker\":{\"color\":[0.34199974891095],\"coloraxis\":\"coloraxis\",\"size\":[0.34199974891095],\"sizemode\":\"area\",\"sizeref\":0.00201771064847021,\"symbol\":\"circle\"},\"mode\":\"markers\",\"name\":\"\",\"orientation\":\"v\",\"showlegend\":false,\"x\":[0.5885799315571661],\"xaxis\":\"x\",\"y\":[0.4659266183965278],\"yaxis\":\"y\",\"type\":\"scatter\"}],\"name\":\"2020M03\"},{\"data\":[{\"hovertemplate\":\"<b>%{hovertext}</b><br><br>Month=2020M04<br>Freight Helsinki=%{x}<br>Passengers Helsinki=%{y}<br>Finland Index=%{marker.color}<extra></extra>\",\"hovertext\":[\"2020M04\"],\"legendgroup\":\"\",\"marker\":{\"color\":[0.2538435440894672],\"coloraxis\":\"coloraxis\",\"size\":[0.2538435440894672],\"sizemode\":\"area\",\"sizeref\":0.00201771064847021,\"symbol\":\"circle\"},\"mode\":\"markers\",\"name\":\"\",\"orientation\":\"v\",\"showlegend\":false,\"x\":[0.7873766554735461],\"xaxis\":\"x\",\"y\":[0.5154570211532806],\"yaxis\":\"y\",\"type\":\"scatter\"}],\"name\":\"2020M04\"},{\"data\":[{\"hovertemplate\":\"<b>%{hovertext}</b><br><br>Month=2020M05<br>Freight Helsinki=%{x}<br>Passengers Helsinki=%{y}<br>Finland Index=%{marker.color}<extra></extra>\",\"hovertext\":[\"2020M05\"],\"legendgroup\":\"\",\"marker\":{\"color\":[0.5113854927608261],\"coloraxis\":\"coloraxis\",\"size\":[0.5113854927608261],\"sizemode\":\"area\",\"sizeref\":0.00201771064847021,\"symbol\":\"circle\"},\"mode\":\"markers\",\"name\":\"\",\"orientation\":\"v\",\"showlegend\":false,\"x\":[0.4947519353087332],\"xaxis\":\"x\",\"y\":[0.5912940860263276],\"yaxis\":\"y\",\"type\":\"scatter\"}],\"name\":\"2020M05\"},{\"data\":[{\"hovertemplate\":\"<b>%{hovertext}</b><br><br>Month=2020M06<br>Freight Helsinki=%{x}<br>Passengers Helsinki=%{y}<br>Finland Index=%{marker.color}<extra></extra>\",\"hovertext\":[\"2020M06\"],\"legendgroup\":\"\",\"marker\":{\"color\":[0.3204084792881322],\"coloraxis\":\"coloraxis\",\"size\":[0.3204084792881322],\"sizemode\":\"area\",\"sizeref\":0.00201771064847021,\"symbol\":\"circle\"},\"mode\":\"markers\",\"name\":\"\",\"orientation\":\"v\",\"showlegend\":false,\"x\":[0.6849768693282448],\"xaxis\":\"x\",\"y\":[0.6969248431541883],\"yaxis\":\"y\",\"type\":\"scatter\"}],\"name\":\"2020M06\"},{\"data\":[{\"hovertemplate\":\"<b>%{hovertext}</b><br><br>Month=2020M07<br>Freight Helsinki=%{x}<br>Passengers Helsinki=%{y}<br>Finland Index=%{marker.color}<extra></extra>\",\"hovertext\":[\"2020M07\"],\"legendgroup\":\"\",\"marker\":{\"color\":[0.7167365389722862],\"coloraxis\":\"coloraxis\",\"size\":[0.7167365389722862],\"sizemode\":\"area\",\"sizeref\":0.00201771064847021,\"symbol\":\"circle\"},\"mode\":\"markers\",\"name\":\"\",\"orientation\":\"v\",\"showlegend\":false,\"x\":[0.41308300918871366],\"xaxis\":\"x\",\"y\":[0.1816333596482307],\"yaxis\":\"y\",\"type\":\"scatter\"}],\"name\":\"2020M07\"},{\"data\":[{\"hovertemplate\":\"<b>%{hovertext}</b><br><br>Month=2020M08<br>Freight Helsinki=%{x}<br>Passengers Helsinki=%{y}<br>Finland Index=%{marker.color}<extra></extra>\",\"hovertext\":[\"2020M08\"],\"legendgroup\":\"\",\"marker\":{\"color\":[0.5002211402252776],\"coloraxis\":\"coloraxis\",\"size\":[0.5002211402252776],\"sizemode\":\"area\",\"sizeref\":0.00201771064847021,\"symbol\":\"circle\"},\"mode\":\"markers\",\"name\":\"\",\"orientation\":\"v\",\"showlegend\":false,\"x\":[0.5288613168414465],\"xaxis\":\"x\",\"y\":[0.47501174396108414],\"yaxis\":\"y\",\"type\":\"scatter\"}],\"name\":\"2020M08\"},{\"data\":[{\"hovertemplate\":\"<b>%{hovertext}</b><br><br>Month=2020M09<br>Freight Helsinki=%{x}<br>Passengers Helsinki=%{y}<br>Finland Index=%{marker.color}<extra></extra>\",\"hovertext\":[\"2020M09\"],\"legendgroup\":\"\",\"marker\":{\"color\":[0.5593823068227035],\"coloraxis\":\"coloraxis\",\"size\":[0.5593823068227035],\"sizemode\":\"area\",\"sizeref\":0.00201771064847021,\"symbol\":\"circle\"},\"mode\":\"markers\",\"name\":\"\",\"orientation\":\"v\",\"showlegend\":false,\"x\":[0.582994031163106],\"xaxis\":\"x\",\"y\":[0.491503496845183],\"yaxis\":\"y\",\"type\":\"scatter\"}],\"name\":\"2020M09\"},{\"data\":[{\"hovertemplate\":\"<b>%{hovertext}</b><br><br>Month=2020M10<br>Freight Helsinki=%{x}<br>Passengers Helsinki=%{y}<br>Finland Index=%{marker.color}<extra></extra>\",\"hovertext\":[\"2020M10\"],\"legendgroup\":\"\",\"marker\":{\"color\":[0.584358059551986],\"coloraxis\":\"coloraxis\",\"size\":[0.584358059551986],\"sizemode\":\"area\",\"sizeref\":0.00201771064847021,\"symbol\":\"circle\"},\"mode\":\"markers\",\"name\":\"\",\"orientation\":\"v\",\"showlegend\":false,\"x\":[0.3460057889031455],\"xaxis\":\"x\",\"y\":[0.5302768441436393],\"yaxis\":\"y\",\"type\":\"scatter\"}],\"name\":\"2020M10\"},{\"data\":[{\"hovertemplate\":\"<b>%{hovertext}</b><br><br>Month=2020M11<br>Freight Helsinki=%{x}<br>Passengers Helsinki=%{y}<br>Finland Index=%{marker.color}<extra></extra>\",\"hovertext\":[\"2020M11\"],\"legendgroup\":\"\",\"marker\":{\"color\":[0.5490074372716854],\"coloraxis\":\"coloraxis\",\"size\":[0.5490074372716854],\"sizemode\":\"area\",\"sizeref\":0.00201771064847021,\"symbol\":\"circle\"},\"mode\":\"markers\",\"name\":\"\",\"orientation\":\"v\",\"showlegend\":false,\"x\":[0.5908610846259589],\"xaxis\":\"x\",\"y\":[0.30657324679006415],\"yaxis\":\"y\",\"type\":\"scatter\"}],\"name\":\"2020M11\"},{\"data\":[{\"hovertemplate\":\"<b>%{hovertext}</b><br><br>Month=2020M12<br>Freight Helsinki=%{x}<br>Passengers Helsinki=%{y}<br>Finland Index=%{marker.color}<extra></extra>\",\"hovertext\":[\"2020M12\"],\"legendgroup\":\"\",\"marker\":{\"color\":[0.4569689710106736],\"coloraxis\":\"coloraxis\",\"size\":[0.4569689710106736],\"sizemode\":\"area\",\"sizeref\":0.00201771064847021,\"symbol\":\"circle\"},\"mode\":\"markers\",\"name\":\"\",\"orientation\":\"v\",\"showlegend\":false,\"x\":[0.6816327473671925],\"xaxis\":\"x\",\"y\":[0.7114932683786486],\"yaxis\":\"y\",\"type\":\"scatter\"}],\"name\":\"2020M12\"},{\"data\":[{\"hovertemplate\":\"<b>%{hovertext}</b><br><br>Month=2021M01<br>Freight Helsinki=%{x}<br>Passengers Helsinki=%{y}<br>Finland Index=%{marker.color}<extra></extra>\",\"hovertext\":[\"2021M01\"],\"legendgroup\":\"\",\"marker\":{\"color\":[0.6285893046169828],\"coloraxis\":\"coloraxis\",\"size\":[0.6285893046169828],\"sizemode\":\"area\",\"sizeref\":0.00201771064847021,\"symbol\":\"circle\"},\"mode\":\"markers\",\"name\":\"\",\"orientation\":\"v\",\"showlegend\":false,\"x\":[0.5893332458699598],\"xaxis\":\"x\",\"y\":[0.5652965546967766],\"yaxis\":\"y\",\"type\":\"scatter\"}],\"name\":\"2021M01\"},{\"data\":[{\"hovertemplate\":\"<b>%{hovertext}</b><br><br>Month=2021M02<br>Freight Helsinki=%{x}<br>Passengers Helsinki=%{y}<br>Finland Index=%{marker.color}<extra></extra>\",\"hovertext\":[\"2021M02\"],\"legendgroup\":\"\",\"marker\":{\"color\":[0.5113945307879557],\"coloraxis\":\"coloraxis\",\"size\":[0.5113945307879557],\"sizemode\":\"area\",\"sizeref\":0.00201771064847021,\"symbol\":\"circle\"},\"mode\":\"markers\",\"name\":\"\",\"orientation\":\"v\",\"showlegend\":false,\"x\":[0.7703449033922389],\"xaxis\":\"x\",\"y\":[0.7575839977739591],\"yaxis\":\"y\",\"type\":\"scatter\"}],\"name\":\"2021M02\"},{\"data\":[{\"hovertemplate\":\"<b>%{hovertext}</b><br><br>Month=2021M03<br>Freight Helsinki=%{x}<br>Passengers Helsinki=%{y}<br>Finland Index=%{marker.color}<extra></extra>\",\"hovertext\":[\"2021M03\"],\"legendgroup\":\"\",\"marker\":{\"color\":[0.5954878477864323],\"coloraxis\":\"coloraxis\",\"size\":[0.5954878477864323],\"sizemode\":\"area\",\"sizeref\":0.00201771064847021,\"symbol\":\"circle\"},\"mode\":\"markers\",\"name\":\"\",\"orientation\":\"v\",\"showlegend\":false,\"x\":[0.4985329012395504],\"xaxis\":\"x\",\"y\":[0.5940803253369541],\"yaxis\":\"y\",\"type\":\"scatter\"}],\"name\":\"2021M03\"},{\"data\":[{\"hovertemplate\":\"<b>%{hovertext}</b><br><br>Month=2021M04<br>Freight Helsinki=%{x}<br>Passengers Helsinki=%{y}<br>Finland Index=%{marker.color}<extra></extra>\",\"hovertext\":[\"2021M04\"],\"legendgroup\":\"\",\"marker\":{\"color\":[0.5277952100031246],\"coloraxis\":\"coloraxis\",\"size\":[0.5277952100031246],\"sizemode\":\"area\",\"sizeref\":0.00201771064847021,\"symbol\":\"circle\"},\"mode\":\"markers\",\"name\":\"\",\"orientation\":\"v\",\"showlegend\":false,\"x\":[0.3286267712554348],\"xaxis\":\"x\",\"y\":[0.4962554591315228],\"yaxis\":\"y\",\"type\":\"scatter\"}],\"name\":\"2021M04\"},{\"data\":[{\"hovertemplate\":\"<b>%{hovertext}</b><br><br>Month=2021M05<br>Freight Helsinki=%{x}<br>Passengers Helsinki=%{y}<br>Finland Index=%{marker.color}<extra></extra>\",\"hovertext\":[\"2021M05\"],\"legendgroup\":\"\",\"marker\":{\"color\":[0.5061231737547213],\"coloraxis\":\"coloraxis\",\"size\":[0.5061231737547213],\"sizemode\":\"area\",\"sizeref\":0.00201771064847021,\"symbol\":\"circle\"},\"mode\":\"markers\",\"name\":\"\",\"orientation\":\"v\",\"showlegend\":false,\"x\":[0.32198184819480125],\"xaxis\":\"x\",\"y\":[0.4462749521065883],\"yaxis\":\"y\",\"type\":\"scatter\"}],\"name\":\"2021M05\"},{\"data\":[{\"hovertemplate\":\"<b>%{hovertext}</b><br><br>Month=2021M06<br>Freight Helsinki=%{x}<br>Passengers Helsinki=%{y}<br>Finland Index=%{marker.color}<extra></extra>\",\"hovertext\":[\"2021M06\"],\"legendgroup\":\"\",\"marker\":{\"color\":[0.7262708909149259],\"coloraxis\":\"coloraxis\",\"size\":[0.7262708909149259],\"sizemode\":\"area\",\"sizeref\":0.00201771064847021,\"symbol\":\"circle\"},\"mode\":\"markers\",\"name\":\"\",\"orientation\":\"v\",\"showlegend\":false,\"x\":[0.4758309676277974],\"xaxis\":\"x\",\"y\":[0.4391116352528306],\"yaxis\":\"y\",\"type\":\"scatter\"}],\"name\":\"2021M06\"},{\"data\":[{\"hovertemplate\":\"<b>%{hovertext}</b><br><br>Month=2021M07<br>Freight Helsinki=%{x}<br>Passengers Helsinki=%{y}<br>Finland Index=%{marker.color}<extra></extra>\",\"hovertext\":[\"2021M07\"],\"legendgroup\":\"\",\"marker\":{\"color\":[0.6389566764025584],\"coloraxis\":\"coloraxis\",\"size\":[0.6389566764025584],\"sizemode\":\"area\",\"sizeref\":0.00201771064847021,\"symbol\":\"circle\"},\"mode\":\"markers\",\"name\":\"\",\"orientation\":\"v\",\"showlegend\":false,\"x\":[0.638130038789955],\"xaxis\":\"x\",\"y\":[0.4152407720865835],\"yaxis\":\"y\",\"type\":\"scatter\"}],\"name\":\"2021M07\"},{\"data\":[{\"hovertemplate\":\"<b>%{hovertext}</b><br><br>Month=2021M08<br>Freight Helsinki=%{x}<br>Passengers Helsinki=%{y}<br>Finland Index=%{marker.color}<extra></extra>\",\"hovertext\":[\"2021M08\"],\"legendgroup\":\"\",\"marker\":{\"color\":[0.807084259388084],\"coloraxis\":\"coloraxis\",\"size\":[0.807084259388084],\"sizemode\":\"area\",\"sizeref\":0.00201771064847021,\"symbol\":\"circle\"},\"mode\":\"markers\",\"name\":\"\",\"orientation\":\"v\",\"showlegend\":false,\"x\":[0.4768953985930199],\"xaxis\":\"x\",\"y\":[0.5097278390534125],\"yaxis\":\"y\",\"type\":\"scatter\"}],\"name\":\"2021M08\"},{\"data\":[{\"hovertemplate\":\"<b>%{hovertext}</b><br><br>Month=2021M09<br>Freight Helsinki=%{x}<br>Passengers Helsinki=%{y}<br>Finland Index=%{marker.color}<extra></extra>\",\"hovertext\":[\"2021M09\"],\"legendgroup\":\"\",\"marker\":{\"color\":[0.5810735465051501],\"coloraxis\":\"coloraxis\",\"size\":[0.5810735465051501],\"sizemode\":\"area\",\"sizeref\":0.00201771064847021,\"symbol\":\"circle\"},\"mode\":\"markers\",\"name\":\"\",\"orientation\":\"v\",\"showlegend\":false,\"x\":[0.4534964491171696],\"xaxis\":\"x\",\"y\":[0.5228761619660212],\"yaxis\":\"y\",\"type\":\"scatter\"}],\"name\":\"2021M09\"},{\"data\":[{\"hovertemplate\":\"<b>%{hovertext}</b><br><br>Month=2021M10<br>Freight Helsinki=%{x}<br>Passengers Helsinki=%{y}<br>Finland Index=%{marker.color}<extra></extra>\",\"hovertext\":[\"2021M10\"],\"legendgroup\":\"\",\"marker\":{\"color\":[0.6071079374417556],\"coloraxis\":\"coloraxis\",\"size\":[0.6071079374417556],\"sizemode\":\"area\",\"sizeref\":0.00201771064847021,\"symbol\":\"circle\"},\"mode\":\"markers\",\"name\":\"\",\"orientation\":\"v\",\"showlegend\":false,\"x\":[0.540236239671694],\"xaxis\":\"x\",\"y\":[0.46415272134085495],\"yaxis\":\"y\",\"type\":\"scatter\"}],\"name\":\"2021M10\"},{\"data\":[{\"hovertemplate\":\"<b>%{hovertext}</b><br><br>Month=2021M11<br>Freight Helsinki=%{x}<br>Passengers Helsinki=%{y}<br>Finland Index=%{marker.color}<extra></extra>\",\"hovertext\":[\"2021M11\"],\"legendgroup\":\"\",\"marker\":{\"color\":[0.7146240827841884],\"coloraxis\":\"coloraxis\",\"size\":[0.7146240827841884],\"sizemode\":\"area\",\"sizeref\":0.00201771064847021,\"symbol\":\"circle\"},\"mode\":\"markers\",\"name\":\"\",\"orientation\":\"v\",\"showlegend\":false,\"x\":[0.3530119876591371],\"xaxis\":\"x\",\"y\":[0.20580810878128686],\"yaxis\":\"y\",\"type\":\"scatter\"}],\"name\":\"2021M11\"},{\"data\":[{\"hovertemplate\":\"<b>%{hovertext}</b><br><br>Month=2021M12<br>Freight Helsinki=%{x}<br>Passengers Helsinki=%{y}<br>Finland Index=%{marker.color}<extra></extra>\",\"hovertext\":[\"2021M12\"],\"legendgroup\":\"\",\"marker\":{\"color\":[0.6288751022546506],\"coloraxis\":\"coloraxis\",\"size\":[0.6288751022546506],\"sizemode\":\"area\",\"sizeref\":0.00201771064847021,\"symbol\":\"circle\"},\"mode\":\"markers\",\"name\":\"\",\"orientation\":\"v\",\"showlegend\":false,\"x\":[0.43104778829435864],\"xaxis\":\"x\",\"y\":[0.45912323461882254],\"yaxis\":\"y\",\"type\":\"scatter\"}],\"name\":\"2021M12\"},{\"data\":[{\"hovertemplate\":\"<b>%{hovertext}</b><br><br>Month=2022M01<br>Freight Helsinki=%{x}<br>Passengers Helsinki=%{y}<br>Finland Index=%{marker.color}<extra></extra>\",\"hovertext\":[\"2022M01\"],\"legendgroup\":\"\",\"marker\":{\"color\":[0.5306828518753084],\"coloraxis\":\"coloraxis\",\"size\":[0.5306828518753084],\"sizemode\":\"area\",\"sizeref\":0.00201771064847021,\"symbol\":\"circle\"},\"mode\":\"markers\",\"name\":\"\",\"orientation\":\"v\",\"showlegend\":false,\"x\":[0.6685379011942009],\"xaxis\":\"x\",\"y\":[0.39598495673097833],\"yaxis\":\"y\",\"type\":\"scatter\"}],\"name\":\"2022M01\"},{\"data\":[{\"hovertemplate\":\"<b>%{hovertext}</b><br><br>Month=2022M02<br>Freight Helsinki=%{x}<br>Passengers Helsinki=%{y}<br>Finland Index=%{marker.color}<extra></extra>\",\"hovertext\":[\"2022M02\"],\"legendgroup\":\"\",\"marker\":{\"color\":[0.7866088645539909],\"coloraxis\":\"coloraxis\",\"size\":[0.7866088645539909],\"sizemode\":\"area\",\"sizeref\":0.00201771064847021,\"symbol\":\"circle\"},\"mode\":\"markers\",\"name\":\"\",\"orientation\":\"v\",\"showlegend\":false,\"x\":[0.421175069634602],\"xaxis\":\"x\",\"y\":[0.34554474613023367],\"yaxis\":\"y\",\"type\":\"scatter\"}],\"name\":\"2022M02\"},{\"data\":[{\"hovertemplate\":\"<b>%{hovertext}</b><br><br>Month=2022M03<br>Freight Helsinki=%{x}<br>Passengers Helsinki=%{y}<br>Finland Index=%{marker.color}<extra></extra>\",\"hovertext\":[\"2022M03\"],\"legendgroup\":\"\",\"marker\":{\"color\":[0.7010508563250221],\"coloraxis\":\"coloraxis\",\"size\":[0.7010508563250221],\"sizemode\":\"area\",\"sizeref\":0.00201771064847021,\"symbol\":\"circle\"},\"mode\":\"markers\",\"name\":\"\",\"orientation\":\"v\",\"showlegend\":false,\"x\":[0.6625406143899726],\"xaxis\":\"x\",\"y\":[0.48079654976840003],\"yaxis\":\"y\",\"type\":\"scatter\"}],\"name\":\"2022M03\"},{\"data\":[{\"hovertemplate\":\"<b>%{hovertext}</b><br><br>Month=2022M04<br>Freight Helsinki=%{x}<br>Passengers Helsinki=%{y}<br>Finland Index=%{marker.color}<extra></extra>\",\"hovertext\":[\"2022M04\"],\"legendgroup\":\"\",\"marker\":{\"color\":[0.6294307888030015],\"coloraxis\":\"coloraxis\",\"size\":[0.6294307888030015],\"sizemode\":\"area\",\"sizeref\":0.00201771064847021,\"symbol\":\"circle\"},\"mode\":\"markers\",\"name\":\"\",\"orientation\":\"v\",\"showlegend\":false,\"x\":[0.4519183403877502],\"xaxis\":\"x\",\"y\":[0.32408670458655964],\"yaxis\":\"y\",\"type\":\"scatter\"}],\"name\":\"2022M04\"},{\"data\":[{\"hovertemplate\":\"<b>%{hovertext}</b><br><br>Month=2022M05<br>Freight Helsinki=%{x}<br>Passengers Helsinki=%{y}<br>Finland Index=%{marker.color}<extra></extra>\",\"hovertext\":[\"2022M05\"],\"legendgroup\":\"\",\"marker\":{\"color\":[0.5149544661113031],\"coloraxis\":\"coloraxis\",\"size\":[0.5149544661113031],\"sizemode\":\"area\",\"sizeref\":0.00201771064847021,\"symbol\":\"circle\"},\"mode\":\"markers\",\"name\":\"\",\"orientation\":\"v\",\"showlegend\":false,\"x\":[0.7113465544095204],\"xaxis\":\"x\",\"y\":[0.542456799413429],\"yaxis\":\"y\",\"type\":\"scatter\"}],\"name\":\"2022M05\"},{\"data\":[{\"hovertemplate\":\"<b>%{hovertext}</b><br><br>Month=2022M06<br>Freight Helsinki=%{x}<br>Passengers Helsinki=%{y}<br>Finland Index=%{marker.color}<extra></extra>\",\"hovertext\":[\"2022M06\"],\"legendgroup\":\"\",\"marker\":{\"color\":[0.41478967203735384],\"coloraxis\":\"coloraxis\",\"size\":[0.41478967203735384],\"sizemode\":\"area\",\"sizeref\":0.00201771064847021,\"symbol\":\"circle\"},\"mode\":\"markers\",\"name\":\"\",\"orientation\":\"v\",\"showlegend\":false,\"x\":[0.7762797387755568],\"xaxis\":\"x\",\"y\":[0.6842183734208532],\"yaxis\":\"y\",\"type\":\"scatter\"}],\"name\":\"2022M06\"},{\"data\":[{\"hovertemplate\":\"<b>%{hovertext}</b><br><br>Month=2022M07<br>Freight Helsinki=%{x}<br>Passengers Helsinki=%{y}<br>Finland Index=%{marker.color}<extra></extra>\",\"hovertext\":[\"2022M07\"],\"legendgroup\":\"\",\"marker\":{\"color\":[0.368746519183059],\"coloraxis\":\"coloraxis\",\"size\":[0.368746519183059],\"sizemode\":\"area\",\"sizeref\":0.00201771064847021,\"symbol\":\"circle\"},\"mode\":\"markers\",\"name\":\"\",\"orientation\":\"v\",\"showlegend\":false,\"x\":[0.5182978618728874],\"xaxis\":\"x\",\"y\":[0.7946848595520022],\"yaxis\":\"y\",\"type\":\"scatter\"}],\"name\":\"2022M07\"},{\"data\":[{\"hovertemplate\":\"<b>%{hovertext}</b><br><br>Month=2022M08<br>Freight Helsinki=%{x}<br>Passengers Helsinki=%{y}<br>Finland Index=%{marker.color}<extra></extra>\",\"hovertext\":[\"2022M08\"],\"legendgroup\":\"\",\"marker\":{\"color\":[0.5692780990802047],\"coloraxis\":\"coloraxis\",\"size\":[0.5692780990802047],\"sizemode\":\"area\",\"sizeref\":0.00201771064847021,\"symbol\":\"circle\"},\"mode\":\"markers\",\"name\":\"\",\"orientation\":\"v\",\"showlegend\":false,\"x\":[0.4577295954840531],\"xaxis\":\"x\",\"y\":[0.4474960699144269],\"yaxis\":\"y\",\"type\":\"scatter\"}],\"name\":\"2022M08\"},{\"data\":[{\"hovertemplate\":\"<b>%{hovertext}</b><br><br>Month=2022M09<br>Freight Helsinki=%{x}<br>Passengers Helsinki=%{y}<br>Finland Index=%{marker.color}<extra></extra>\",\"hovertext\":[\"2022M09\"],\"legendgroup\":\"\",\"marker\":{\"color\":[0.3394839027253961],\"coloraxis\":\"coloraxis\",\"size\":[0.3394839027253961],\"sizemode\":\"area\",\"sizeref\":0.00201771064847021,\"symbol\":\"circle\"},\"mode\":\"markers\",\"name\":\"\",\"orientation\":\"v\",\"showlegend\":false,\"x\":[0.5552828708555017],\"xaxis\":\"x\",\"y\":[0.5063475551362306],\"yaxis\":\"y\",\"type\":\"scatter\"}],\"name\":\"2022M09\"},{\"data\":[{\"hovertemplate\":\"<b>%{hovertext}</b><br><br>Month=2022M10<br>Freight Helsinki=%{x}<br>Passengers Helsinki=%{y}<br>Finland Index=%{marker.color}<extra></extra>\",\"hovertext\":[\"2022M10\"],\"legendgroup\":\"\",\"marker\":{\"color\":[0.2661502180642986],\"coloraxis\":\"coloraxis\",\"size\":[0.2661502180642986],\"sizemode\":\"area\",\"sizeref\":0.00201771064847021,\"symbol\":\"circle\"},\"mode\":\"markers\",\"name\":\"\",\"orientation\":\"v\",\"showlegend\":false,\"x\":[0.7390740210991259],\"xaxis\":\"x\",\"y\":[0.7158348580025428],\"yaxis\":\"y\",\"type\":\"scatter\"}],\"name\":\"2022M10\"},{\"data\":[{\"hovertemplate\":\"<b>%{hovertext}</b><br><br>Month=2022M11<br>Freight Helsinki=%{x}<br>Passengers Helsinki=%{y}<br>Finland Index=%{marker.color}<extra></extra>\",\"hovertext\":[\"2022M11\"],\"legendgroup\":\"\",\"marker\":{\"color\":[0.5803762516657387],\"coloraxis\":\"coloraxis\",\"size\":[0.5803762516657387],\"sizemode\":\"area\",\"sizeref\":0.00201771064847021,\"symbol\":\"circle\"},\"mode\":\"markers\",\"name\":\"\",\"orientation\":\"v\",\"showlegend\":false,\"x\":[0.5723807688730792],\"xaxis\":\"x\",\"y\":[0.4479762000044595],\"yaxis\":\"y\",\"type\":\"scatter\"}],\"name\":\"2022M11\"},{\"data\":[{\"hovertemplate\":\"<b>%{hovertext}</b><br><br>Month=2022M12<br>Freight Helsinki=%{x}<br>Passengers Helsinki=%{y}<br>Finland Index=%{marker.color}<extra></extra>\",\"hovertext\":[\"2022M12\"],\"legendgroup\":\"\",\"marker\":{\"color\":[0.6061522797738027],\"coloraxis\":\"coloraxis\",\"size\":[0.6061522797738027],\"sizemode\":\"area\",\"sizeref\":0.00201771064847021,\"symbol\":\"circle\"},\"mode\":\"markers\",\"name\":\"\",\"orientation\":\"v\",\"showlegend\":false,\"x\":[0.3372458054274821],\"xaxis\":\"x\",\"y\":[0.45831986855745666],\"yaxis\":\"y\",\"type\":\"scatter\"}],\"name\":\"2022M12\"},{\"data\":[{\"hovertemplate\":\"<b>%{hovertext}</b><br><br>Month=2023M01<br>Freight Helsinki=%{x}<br>Passengers Helsinki=%{y}<br>Finland Index=%{marker.color}<extra></extra>\",\"hovertext\":[\"2023M01\"],\"legendgroup\":\"\",\"marker\":{\"color\":[0.35102694942804413],\"coloraxis\":\"coloraxis\",\"size\":[0.35102694942804413],\"sizemode\":\"area\",\"sizeref\":0.00201771064847021,\"symbol\":\"circle\"},\"mode\":\"markers\",\"name\":\"\",\"orientation\":\"v\",\"showlegend\":false,\"x\":[0.49386301992052234],\"xaxis\":\"x\",\"y\":[0.6958628693007756],\"yaxis\":\"y\",\"type\":\"scatter\"}],\"name\":\"2023M01\"},{\"data\":[{\"hovertemplate\":\"<b>%{hovertext}</b><br><br>Month=2023M02<br>Freight Helsinki=%{x}<br>Passengers Helsinki=%{y}<br>Finland Index=%{marker.color}<extra></extra>\",\"hovertext\":[\"2023M02\"],\"legendgroup\":\"\",\"marker\":{\"color\":[0.4768342668315789],\"coloraxis\":\"coloraxis\",\"size\":[0.4768342668315789],\"sizemode\":\"area\",\"sizeref\":0.00201771064847021,\"symbol\":\"circle\"},\"mode\":\"markers\",\"name\":\"\",\"orientation\":\"v\",\"showlegend\":false,\"x\":[0.7100019077520381],\"xaxis\":\"x\",\"y\":[0.714779302250113],\"yaxis\":\"y\",\"type\":\"scatter\"}],\"name\":\"2023M02\"},{\"data\":[{\"hovertemplate\":\"<b>%{hovertext}</b><br><br>Month=2023M03<br>Freight Helsinki=%{x}<br>Passengers Helsinki=%{y}<br>Finland Index=%{marker.color}<extra></extra>\",\"hovertext\":[\"2023M03\"],\"legendgroup\":\"\",\"marker\":{\"color\":[0.4035825391723248],\"coloraxis\":\"coloraxis\",\"size\":[0.4035825391723248],\"sizemode\":\"area\",\"sizeref\":0.00201771064847021,\"symbol\":\"circle\"},\"mode\":\"markers\",\"name\":\"\",\"orientation\":\"v\",\"showlegend\":false,\"x\":[0.5729780132419139],\"xaxis\":\"x\",\"y\":[0.8325148121724716],\"yaxis\":\"y\",\"type\":\"scatter\"}],\"name\":\"2023M03\"}]);\n",
       "                        }).then(function(){\n",
       "                            \n",
       "var gd = document.getElementById('ccd4abfc-c9a4-4923-a8c8-8c221b7fc07c');\n",
       "var x = new MutationObserver(function (mutations, observer) {{\n",
       "        var display = window.getComputedStyle(gd).display;\n",
       "        if (!display || display === 'none') {{\n",
       "            console.log([gd, 'removed!']);\n",
       "            Plotly.purge(gd);\n",
       "            observer.disconnect();\n",
       "        }}\n",
       "}});\n",
       "\n",
       "// Listen for the removal of the full notebook cells\n",
       "var notebookContainer = gd.closest('#notebook-container');\n",
       "if (notebookContainer) {{\n",
       "    x.observe(notebookContainer, {childList: true});\n",
       "}}\n",
       "\n",
       "// Listen for the clearing of the current output cell\n",
       "var outputEl = gd.closest('.output');\n",
       "if (outputEl) {{\n",
       "    x.observe(outputEl, {childList: true});\n",
       "}}\n",
       "\n",
       "                        })                };                });            </script>        </div>"
      ]
     },
     "metadata": {},
     "output_type": "display_data"
    }
   ],
   "source": [
    "fig = px.scatter(\n",
    "    merged_data_CapitalCS,\n",
    "    x=\"Freight Helsinki\",\n",
    "    y=\"Passengers Helsinki\",\n",
    "    animation_frame=\"Month\",\n",
    "    hover_name=\"Month\",\n",
    "    color=\"Finland Index\",\n",
    "    size=\"Finland Index\",\n",
    "    title=\"Interactive Graph Finland\",\n",
    "    labels={\"Freight Helsinki\": \"Freight Helsinki\", \"Passengers Helsinki\": \"Passengers Helsinki\"},\n",
    "    range_x=[merged_data_CapitalCS[\"Freight Helsinki\"].min(), merged_data_CapitalCS[\"Freight Helsinki\"].max()],\n",
    "    range_y=[merged_data_CapitalCS[\"Passengers Helsinki\"].min(), merged_data_CapitalCS[\"Passengers Helsinki\"].max()],\n",
    "    color_continuous_scale=\"Plasma\",\n",
    ")\n",
    "\n",
    "# Adjust animation speed\n",
    "fig.update_layout(updatemenus=[dict(type='buttons', showactive=False, buttons=[dict(label='Play',\n",
    "                                method='animate', args=[None, dict(frame=dict(duration=1000, redraw=True), fromcurrent=True)])])])\n",
    "\n",
    "# Show the figure\n",
    "fig.show()"
   ]
  },
  {
   "cell_type": "markdown",
   "id": "e4975beb",
   "metadata": {},
   "source": [
    "Statistics"
   ]
  },
  {
   "cell_type": "markdown",
   "id": "36e00e1d",
   "metadata": {},
   "source": [
    "Confidence intervals"
   ]
  },
  {
   "cell_type": "code",
   "execution_count": 60,
   "id": "bab1eaf3",
   "metadata": {},
   "outputs": [
    {
     "data": {
      "text/plain": [
       "(array([30395308.67320818]), array([46939896.45499695]))"
      ]
     },
     "execution_count": 60,
     "metadata": {},
     "output_type": "execute_result"
    }
   ],
   "source": [
    "import numpy as np\n",
    "import scipy.stats as st\n",
    "#what is average of Dublin passengers. 90% confidence\n",
    "X=merged_data_CapitalCS.iloc[:,2:3].values\n",
    "#create  confidence interval using student T @90% confidence\n",
    "st.t.interval(confidence=0.90, df=len(X)-1,loc=np.mean(X),scale=st.sem(X))"
   ]
  },
  {
   "cell_type": "code",
   "execution_count": 61,
   "id": "a8beb4fe",
   "metadata": {},
   "outputs": [
    {
     "data": {
      "text/plain": [
       "(array([308979.79098804]), array([334748.41414017]))"
      ]
     },
     "execution_count": 61,
     "metadata": {},
     "output_type": "execute_result"
    }
   ],
   "source": [
    "#what is average of Dublin Freight. 90% confidence\n",
    "X=merged_data_CapitalCS.iloc[:,1:2].values\n",
    "#create  confidence interval using student T @90% confidence\n",
    "st.t.interval(confidence=0.90, df=len(X)-1,loc=np.mean(X),scale=st.sem(X))"
   ]
  },
  {
   "cell_type": "code",
   "execution_count": 62,
   "id": "470d2bf5",
   "metadata": {},
   "outputs": [
    {
     "data": {
      "text/plain": [
       "(array([4001280.43551497]), array([6122312.17986965]))"
      ]
     },
     "execution_count": 62,
     "metadata": {},
     "output_type": "execute_result"
    }
   ],
   "source": [
    "#what is average of Helsinki passengers. 90% confidence\n",
    "X=merged_data_CapitalCS.iloc[:,4:5].values\n",
    "#create  confidence interval using student T @90% confidence\n",
    "st.t.interval(confidence=0.90, df=len(X)-1,loc=np.mean(X),scale=st.sem(X))"
   ]
  },
  {
   "cell_type": "code",
   "execution_count": 63,
   "id": "a6a4d1b0",
   "metadata": {},
   "outputs": [
    {
     "data": {
      "text/plain": [
       "(array([99523.32386534]), array([112605.49664748]))"
      ]
     },
     "execution_count": 63,
     "metadata": {},
     "output_type": "execute_result"
    }
   ],
   "source": [
    "#what is average of Helsinki Freight. 90% confidence\n",
    "X=merged_data_CapitalCS.iloc[:,3:4].values\n",
    "#create  confidence interval using student T @90% confidence\n",
    "st.t.interval(confidence=0.90, df=len(X)-1,loc=np.mean(X),scale=st.sem(X))"
   ]
  },
  {
   "cell_type": "code",
   "execution_count": 99,
   "id": "a7cac4e8",
   "metadata": {},
   "outputs": [
    {
     "data": {
      "image/png": "[encoded data removed]",
      "text/plain": [
       "<Figure size 640x480 with 1 Axes>"
      ]
     },
     "metadata": {},
     "output_type": "display_data"
    }
   ],
   "source": [
    "# Define data for Dublin Freight\n",
    "X_dublin_freight = merged_data_CapitalCS['Freight Dublin'].values\n",
    "conf_interval_dublin_freight = st.t.interval(confidence=0.90, df=len(X_dublin_freight)-1, loc=np.mean(X_dublin_freight), scale=st.sem(X_dublin_freight))\n",
    "\n",
    "# Define data for Helsinki Freight\n",
    "X_helsinki_freight = merged_data_CapitalCS['Freight Helsinki'].values\n",
    "conf_interval_helsinki_freight = st.t.interval(confidence=0.90, df=len(X_helsinki_freight)-1, loc=np.mean(X_helsinki_freight), scale=st.sem(X_helsinki_freight))\n",
    "\n",
    "# Plot bar chart with error bars\n",
    "fig, ax = plt.subplots()\n",
    "\n",
    "ax.bar(x=['Dublin Freight', 'Helsinki Freight'],\n",
    "       height=[np.mean(X_dublin_freight), np.mean(X_helsinki_freight)],\n",
    "       yerr=[[conf_interval_dublin_freight[1] - np.mean(X_dublin_freight),\n",
    "              conf_interval_helsinki_freight[1] - np.mean(X_helsinki_freight)]],\n",
    "       capsize=5)\n",
    "\n",
    "ax.set_title('Average Freight with 90% Confidence Intervals')\n",
    "ax.set_ylabel('Value, tonnes')\n",
    "plt.show()"
   ]
  },
  {
   "cell_type": "code",
   "execution_count": 102,
   "id": "2ecb453b",
   "metadata": {},
   "outputs": [
    {
     "data": {
      "image/png": "[encoded data removed]",
      "text/plain": [
       "<Figure size 640x480 with 1 Axes>"
      ]
     },
     "metadata": {},
     "output_type": "display_data"
    }
   ],
   "source": [
    "# Define data for Dublin Freight\n",
    "X_helsinki_passengers = merged_data_CapitalCS['Passengers Helsinki'].values\n",
    "conf_interval_helsinki_passengers = st.t.interval(confidence=0.90, df=len(X_helsinki_passengers)-1, loc=np.mean(X_helsinki_passengers), scale=st.sem(X_helsinki_passengers))\n",
    "\n",
    "# Convert values to millions\n",
    "X_dublin_passengers_in_millions = X_dublin_passengers / 1000000\n",
    "X_helsinki_passengers_in_millions = X_helsinki_passengers / 1000000\n",
    "\n",
    "# Convert confidence intervals to millions\n",
    "conf_interval_dublin_passengers_in_millions = np.array(conf_interval_dublin_passengers) / 1000000\n",
    "conf_interval_helsinki_passengers_in_millions = np.array(conf_interval_helsinki_passengers) / 1000000\n",
    "\n",
    "# Plot bar chart with error bars\n",
    "fig, ax = plt.subplots()\n",
    "\n",
    "ax.bar(x=['Dublin Passengers', 'Helsinki Passengers'],\n",
    "       height=[np.mean(X_dublin_passengers_in_millions), np.mean(X_helsinki_passengers_in_millions)],\n",
    "       yerr=[[conf_interval_dublin_passengers_in_millions[1] - np.mean(X_dublin_passengers_in_millions),\n",
    "              conf_interval_helsinki_passengers_in_millions[1] - np.mean(X_helsinki_passengers_in_millions)]],\n",
    "       capsize=5)\n",
    "\n",
    "ax.set_title('Average number of Passengers with 90% Confidence Intervals')\n",
    "ax.set_ylabel('Value (Mln Passengers)')\n",
    "plt.show()"
   ]
  },
  {
   "cell_type": "markdown",
   "id": "c4318226",
   "metadata": {},
   "source": [
    "Paramentric T-test, Shapiro normality test, Levene's test"
   ]
  },
  {
   "cell_type": "code",
   "execution_count": 103,
   "id": "d90e0cad",
   "metadata": {},
   "outputs": [
    {
     "name": "stdout",
     "output_type": "stream",
     "text": [
      "Parametric assumptions not met. Consider non-parametric tests.\n"
     ]
    }
   ],
   "source": [
    "from scipy.stats import ttest_ind\n",
    "\n",
    "# Compare Passengers Dublin and Passengers Helsinki using t-test\n",
    "data_dublin = merged_data_CapitalCS['Passengers Dublin']\n",
    "data_helsinki = merged_data_CapitalCS['Passengers Helsinki']\n",
    "\n",
    "# Check assumptions\n",
    "# 1. Normality (Shapiro test)\n",
    "_, p_dublin = st.shapiro(data_dublin)\n",
    "_, p_helsinki = st.shapiro(data_helsinki)\n",
    "\n",
    "# 2. Homogeneity of variances (Levene's test)\n",
    "_, p_var = st.levene(data_dublin, data_helsinki)\n",
    "\n",
    "# Perform t-test if assumptions are met\n",
    "if p_dublin > 0.05 and p_helsinki > 0.05 and p_var > 0.05:\n",
    "    t_stat, p_value = ttest_ind(data_dublin, data_helsinki)\n",
    "    print(f\"T-Test: t_stat = {t_stat}, p_value = {p_value}\")\n",
    "else:\n",
    "    print(\"Parametric assumptions not met. Consider non-parametric tests.\")"
   ]
  },
  {
   "cell_type": "markdown",
   "id": "41c1b2de",
   "metadata": {},
   "source": [
    "Mannwhitneyu non paramentric test"
   ]
  },
  {
   "cell_type": "code",
   "execution_count": 108,
   "id": "c35df24e",
   "metadata": {},
   "outputs": [
    {
     "name": "stdout",
     "output_type": "stream",
     "text": [
      "Mann-Whitney U Test: U_stat = 1518.0, p_value = 3.8703936962412065e-14\n"
     ]
    }
   ],
   "source": [
    "from scipy.stats import mannwhitneyu\n",
    "# Non Parametric test for Passengers:  Mann-Whitney U test for Passengers Dublin and Passengers Helsinki\n",
    "u_stat, p_value_mannwhitney = mannwhitneyu(data_dublin, data_helsinki)\n",
    "print(f\"Mann-Whitney U Test: U_stat = {u_stat}, p_value = {p_value_mannwhitney}\")"
   ]
  },
  {
   "cell_type": "markdown",
   "id": "35594dd8",
   "metadata": {},
   "source": [
    "As p value less than 0.05 we reject H0.  At 5% significance level there is no evidance to say that the Passenger numbers in Dublin and Helsinki are equal"
   ]
  },
  {
   "cell_type": "markdown",
   "id": "e4255198",
   "metadata": {},
   "source": [
    "Chi-squared test"
   ]
  },
  {
   "cell_type": "code",
   "execution_count": 114,
   "id": "6c1c4184",
   "metadata": {},
   "outputs": [
    {
     "name": "stdout",
     "output_type": "stream",
     "text": [
      "Chi-squared value: 1482.000000000001\n",
      "P-value: 0.23780643207803892\n"
     ]
    }
   ],
   "source": [
    "from scipy.stats import chi2_contingency\n",
    "\n",
    "# Contingency table\n",
    "contingency_table = pd.crosstab(merged_data_CapitalCS['Freight Helsinki'], merged_data_CapitalCS['Finland Index'])\n",
    "\n",
    "# Perform the chi-squared test\n",
    "chi2, p, _, _ = chi2_contingency(contingency_table)\n",
    "\n",
    "# Display the results\n",
    "print(f\"Chi-squared value: {chi2}\")\n",
    "print(f\"P-value: {p}\")"
   ]
  },
  {
   "cell_type": "markdown",
   "id": "fc733347",
   "metadata": {},
   "source": [
    "p-value ≤ 0.05) indicates strong evidence against the null hypothesis, so we reject the null hypothesis.\n",
    "\n",
    "p-value 0.23780643207803892 indicates  P value is greater than 0.05 and we accept H0.  This indicates that Freight Helsinki is assoicated with Finland  Consumer Index"
   ]
  },
  {
   "cell_type": "code",
   "execution_count": 116,
   "id": "97fc8d49",
   "metadata": {},
   "outputs": [
    {
     "name": "stdout",
     "output_type": "stream",
     "text": [
      "Chi-squared value: 1482.0000000000007\n",
      "P-value: 0.23780643207804017\n"
     ]
    }
   ],
   "source": [
    "# Contingency table\n",
    "contingency_table = pd.crosstab(merged_data_CapitalCS['Passengers Helsinki'], merged_data_CapitalCS['Finland Index'])\n",
    "\n",
    "# Perform the chi-squared test\n",
    "chi2, p, _, _ = chi2_contingency(contingency_table)\n",
    "\n",
    "# Display the results\n",
    "print(f\"Chi-squared value: {chi2}\")\n",
    "print(f\"P-value: {p}\")"
   ]
  },
  {
   "cell_type": "markdown",
   "id": "bed84bbe",
   "metadata": {},
   "source": [
    "p-value 0.23780643207804017 indicates  P value is greater than0.05 and we accept H0.  This indicates that Passengers Helsinki is assoicated with Finland  Consumer Index"
   ]
  },
  {
   "cell_type": "code",
   "execution_count": 117,
   "id": "07fbbec6",
   "metadata": {},
   "outputs": [
    {
     "name": "stdout",
     "output_type": "stream",
     "text": [
      "Chi-squared value: 1331.9999999999998\n",
      "P-value: 0.2376975125175564\n"
     ]
    }
   ],
   "source": [
    "# Contingency table\n",
    "contingency_table = pd.crosstab(merged_data_CapitalCS['Passengers Dublin'], merged_data_CapitalCS['Ireland Index'])\n",
    "\n",
    "# Perform the chi-squared test\n",
    "chi2, p, _, _ = chi2_contingency(contingency_table)\n",
    "\n",
    "# Display the results\n",
    "print(f\"Chi-squared value: {chi2}\")\n",
    "print(f\"P-value: {p}\")"
   ]
  },
  {
   "cell_type": "markdown",
   "id": "ec04904b",
   "metadata": {},
   "source": [
    "p-value 0.2376975125175564 indicates  P value is greater than0.05 and we accept H0.  This indicates that Passengers Dublin is assoicated with Ireland Consumer Index"
   ]
  },
  {
   "cell_type": "code",
   "execution_count": 118,
   "id": "964abfb0",
   "metadata": {},
   "outputs": [
    {
     "name": "stdout",
     "output_type": "stream",
     "text": [
      "Chi-squared value: 1110.0\n",
      "P-value: 0.2565792513077524\n"
     ]
    }
   ],
   "source": [
    "# Contingency table\n",
    "contingency_table = pd.crosstab(merged_data_CapitalCS['Freight Dublin'], merged_data_CapitalCS['Ireland Index'])\n",
    "\n",
    "# Perform the chi-squared test\n",
    "chi2, p, _, _ = chi2_contingency(contingency_table)\n",
    "\n",
    "# Display the results\n",
    "print(f\"Chi-squared value: {chi2}\")\n",
    "print(f\"P-value: {p}\")"
   ]
  },
  {
   "cell_type": "markdown",
   "id": "ce2371aa",
   "metadata": {},
   "source": [
    "p-value 0.2565792513077524 indicates  P value is greater than 0.05 and we accept H0.  This indicates that Freight Dublin is assoicated with Ireland Consumer Index"
   ]
  },
  {
   "cell_type": "markdown",
   "id": "ee537ce6",
   "metadata": {},
   "source": [
    " Wilcoxon signed-rank test"
   ]
  },
  {
   "cell_type": "code",
   "execution_count": 122,
   "id": "33b0c91d",
   "metadata": {},
   "outputs": [
    {
     "name": "stdout",
     "output_type": "stream",
     "text": [
      "Wilcoxon Signed-Rank Test:\n",
      "Statistic: 0.0\n",
      "P-value: 3.637978807091713e-12\n",
      "Reject the null hypothesis. There is a significant difference between the two variables.\n"
     ]
    }
   ],
   "source": [
    "from scipy.stats import wilcoxon\n",
    "data = merged_data_CapitalCS[['Freight Dublin', 'Freight Helsinki']].dropna()\n",
    "\n",
    "# Perform Wilcoxon signed-rank test\n",
    "statistic, p_value = wilcoxon(data['Freight Dublin'], data['Freight Helsinki'], zero_method='zsplit')\n",
    "\n",
    "# Display the results\n",
    "print(f\"Wilcoxon Signed-Rank Test:\")\n",
    "print(f\"Statistic: {statistic}\")\n",
    "print(f\"P-value: {p_value}\")\n",
    "\n",
    "# Interpret the results\n",
    "if p_value < 0.05:\n",
    "    print(\"Reject the null hypothesis. There is a significant difference between the two variables.\")\n",
    "else:\n",
    "    print(\"Fail to reject the null hypothesis. There is not enough evidence to suggest a significant difference.\")"
   ]
  },
  {
   "cell_type": "code",
   "execution_count": 126,
   "id": "8ae77ebd",
   "metadata": {},
   "outputs": [
    {
     "name": "stdout",
     "output_type": "stream",
     "text": [
      "Wilcoxon Signed-Rank Test:\n",
      "Statistic: 309.0\n",
      "P-value: 0.530683740216773\n",
      "Fail to reject the null hypothesis, accept H0. There is not enough evidence to suggest a significant difference between Consumer indecies in Finland and Ireland.\n"
     ]
    }
   ],
   "source": [
    "data = merged_data_CapitalCS[['Ireland Index', 'Finland Index']].dropna()\n",
    "\n",
    "# Perform Wilcoxon signed-rank test\n",
    "statistic, p_value = wilcoxon(data['Ireland Index'], data['Finland Index'], zero_method='zsplit')\n",
    "\n",
    "# Display the results\n",
    "print(f\"Wilcoxon Signed-Rank Test:\")\n",
    "print(f\"Statistic: {statistic}\")\n",
    "print(f\"P-value: {p_value}\")\n",
    "\n",
    "# Interpret the results\n",
    "if p_value < 0.05:\n",
    "    print(\"Reject the null hypothesis. There is a significant difference between the two variables.\")\n",
    "else:\n",
    "    print(\"Fail to reject the null hypothesis, accept H0. There is not enough evidence to suggest a significant difference between Consumer indecies in Finland and Ireland.\")"
   ]
  },
  {
   "cell_type": "markdown",
   "id": "54d0934e",
   "metadata": {},
   "source": [
    "Machine Learning"
   ]
  },
  {
   "cell_type": "code",
   "execution_count": 151,
   "id": "f81775a1",
   "metadata": {},
   "outputs": [
    {
     "name": "stdout",
     "output_type": "stream",
     "text": [
      "Original Data:\n",
      "     Month  Freight Dublin  Passengers Dublin  Freight Helsinki  \\\n",
      "0  2020M01        0.221122           0.494358          0.303305   \n",
      "1  2020M02        0.746347           0.520197          0.705900   \n",
      "2  2020M03        0.745826           0.355145          0.588580   \n",
      "3  2020M04        0.669241           0.460869          0.787377   \n",
      "4  2020M05        0.434481           0.427679          0.494752   \n",
      "\n",
      "   Passengers Helsinki  Ireland Index  Finland Index  \n",
      "0             0.549873       0.555228       0.564111  \n",
      "1             0.622183       0.349877       0.373554  \n",
      "2             0.465927       0.331406       0.342000  \n",
      "3             0.515457       0.138429       0.253844  \n",
      "4             0.591294       0.432274       0.511385  \n",
      "\n",
      "Synthetic Data:\n",
      "       Month  Freight Dublin  Passengers Dublin  Freight Helsinki  \\\n",
      "995  2020M02        0.613058           0.427679          0.684977   \n",
      "996  2020M06        0.684096           0.461314          0.705900   \n",
      "997  2020M04        0.629270           0.802019          0.572381   \n",
      "998  2020M08        0.557324           0.453274          0.476895   \n",
      "999  2020M11        0.278061           0.736423          0.337246   \n",
      "\n",
      "     Passengers Helsinki  Ireland Index  Finland Index  \n",
      "995             0.475012       0.535520       0.714624  \n",
      "996             0.439112       0.332518       0.530683  \n",
      "997             0.509728       0.552042       0.559382  \n",
      "998             0.594080       0.459805       0.373554  \n",
      "999             0.491503       0.599521       0.342000  \n"
     ]
    }
   ],
   "source": [
    "#Generate Synthetic data,contaninf 1000 records\n",
    "\n",
    "original_data = pd.DataFrame({\n",
    "    'Month':merged_data_CapitalCS['Month'],\n",
    "    'Freight Dublin': merged_data_CapitalCS['Freight Dublin'],\n",
    "    'Passengers Dublin': merged_data_CapitalCS['Passengers Dublin'],\n",
    "    'Freight Helsinki': merged_data_CapitalCS['Freight Helsinki'],\n",
    "    'Passengers Helsinki': merged_data_CapitalCS['Passengers Helsinki'],\n",
    "    'Ireland Index': merged_data_CapitalCS['Ireland Index'],\n",
    "    'Finland Index': merged_data_CapitalCS['Finland Index']\n",
    "})\n",
    "# Function to generate synthetic data using bootstrapping\n",
    "def generate_synthetic_data(original_data, num_samples=1000):\n",
    "    synthetic_data = pd.DataFrame()\n",
    "\n",
    "    for column in original_data.columns:\n",
    "        # Use bootstrapping to generate synthetic data for each column\n",
    "        synthetic_column = np.random.choice(original_data[column], size=num_samples, replace=True)\n",
    "        synthetic_data[column] = synthetic_column\n",
    "\n",
    "    return synthetic_data\n",
    "\n",
    "# Generate synthetic data with 1000 samples\n",
    "synthetic_data = generate_synthetic_data(original_data, num_samples=1000)\n",
    "\n",
    "# Ensure the synthetic dataset has the same structure as the original data\n",
    "synthetic_data.columns = original_data.columns\n",
    "\n",
    "# Validate synthetic data\n",
    "print(\"Original Data:\")\n",
    "print(original_data.head())\n",
    "\n",
    "print(\"\\nSynthetic Data:\")\n",
    "print(synthetic_data.tail())\n"
   ]
  },
  {
   "cell_type": "code",
   "execution_count": 149,
   "id": "ded0dcd4",
   "metadata": {},
   "outputs": [
    {
     "name": "stdout",
     "output_type": "stream",
     "text": [
      "<class 'pandas.core.frame.DataFrame'>\n",
      "RangeIndex: 1000 entries, 0 to 999\n",
      "Data columns (total 7 columns):\n",
      " #   Column               Non-Null Count  Dtype  \n",
      "---  ------               --------------  -----  \n",
      " 0   Month                1000 non-null   object \n",
      " 1   Freight Dublin       1000 non-null   float64\n",
      " 2   Passengers Dublin    1000 non-null   float64\n",
      " 3   Freight Helsinki     1000 non-null   float64\n",
      " 4   Passengers Helsinki  1000 non-null   float64\n",
      " 5   Ireland Index        1000 non-null   float64\n",
      " 6   Finland Index        1000 non-null   float64\n",
      "dtypes: float64(6), object(1)\n",
      "memory usage: 54.8+ KB\n"
     ]
    }
   ],
   "source": [
    "synthetic_data.info()"
   ]
  },
  {
   "cell_type": "code",
   "execution_count": 269,
   "id": "e1eb711e",
   "metadata": {},
   "outputs": [
    {
     "name": "stdout",
     "output_type": "stream",
     "text": [
      "       Freight Dublin  Passengers Dublin  Freight Helsinki  \\\n",
      "count       39.000000          39.000000         39.000000   \n",
      "mean         0.526745           0.491933          0.544473   \n",
      "std          0.179357           0.142282          0.138526   \n",
      "min          0.221122           0.177584          0.303305   \n",
      "25%          0.378804           0.399105          0.452707   \n",
      "50%          0.545082           0.465835          0.540236   \n",
      "75%          0.666655           0.590104          0.665539   \n",
      "max          0.825388           0.802019          0.787377   \n",
      "\n",
      "       Passengers Helsinki  Ireland Index  Finland Index  \n",
      "count            39.000000      39.000000      39.000000  \n",
      "mean              0.523092       0.447634       0.531910  \n",
      "std               0.149656       0.124699       0.138819  \n",
      "min               0.181633       0.115522       0.253844  \n",
      "25%               0.447736       0.362497       0.435879  \n",
      "50%               0.506348       0.459805       0.549007  \n",
      "75%               0.608132       0.532745       0.617849  \n",
      "max               0.832515       0.632921       0.807084  \n",
      "       Freight Dublin  Passengers Dublin  Freight Helsinki  \\\n",
      "count     1000.000000        1000.000000       1000.000000   \n",
      "mean         0.522294           0.495146          0.539151   \n",
      "std          0.181229           0.140867          0.136690   \n",
      "min          0.221122           0.177584          0.303305   \n",
      "25%          0.337770           0.399935          0.451918   \n",
      "50%          0.545082           0.466208          0.528861   \n",
      "75%          0.669241           0.597269          0.662541   \n",
      "max          0.825388           0.802019          0.787377   \n",
      "\n",
      "       Passengers Helsinki  Ireland Index  Finland Index  \n",
      "count          1000.000000    1000.000000    1000.000000  \n",
      "mean              0.530206       0.440724       0.529168  \n",
      "std               0.147854       0.126748       0.139247  \n",
      "min               0.181633       0.115522       0.253844  \n",
      "25%               0.447976       0.349877       0.414790  \n",
      "50%               0.509728       0.459753       0.530683  \n",
      "75%               0.622183       0.535520       0.628589  \n",
      "max               0.832515       0.632921       0.807084  \n"
     ]
    }
   ],
   "source": [
    "#to ensure that synthetic_data maintain the same  statistical properties and relationships as merged_data_CapitalCS\n",
    "print(merged_data_CapitalCS.describe())\n",
    "print(synthetic_data.describe())"
   ]
  },
  {
   "cell_type": "markdown",
   "id": "7c4b415b",
   "metadata": {},
   "source": [
    "ANN Classification"
   ]
  },
  {
   "cell_type": "code",
   "execution_count": 272,
   "id": "15805099",
   "metadata": {},
   "outputs": [
    {
     "name": "stdout",
     "output_type": "stream",
     "text": [
      "Accuracy: 0.495\n",
      "              precision    recall  f1-score   support\n",
      "\n",
      "        High       0.47      0.45      0.46        87\n",
      "         Low       0.51      0.66      0.58        91\n",
      "      Medium       0.00      0.00      0.00        22\n",
      "\n",
      "    accuracy                           0.49       200\n",
      "   macro avg       0.33      0.37      0.35       200\n",
      "weighted avg       0.44      0.49      0.46       200\n",
      "\n"
     ]
    },
    {
     "name": "stderr",
     "output_type": "stream",
     "text": [
      "C:\\Users\\learn\\anaconda3\\lib\\site-packages\\sklearn\\metrics\\_classification.py:1344: UndefinedMetricWarning:\n",
      "\n",
      "Precision and F-score are ill-defined and being set to 0.0 in labels with no predicted samples. Use `zero_division` parameter to control this behavior.\n",
      "\n",
      "C:\\Users\\learn\\anaconda3\\lib\\site-packages\\sklearn\\metrics\\_classification.py:1344: UndefinedMetricWarning:\n",
      "\n",
      "Precision and F-score are ill-defined and being set to 0.0 in labels with no predicted samples. Use `zero_division` parameter to control this behavior.\n",
      "\n",
      "C:\\Users\\learn\\anaconda3\\lib\\site-packages\\sklearn\\metrics\\_classification.py:1344: UndefinedMetricWarning:\n",
      "\n",
      "Precision and F-score are ill-defined and being set to 0.0 in labels with no predicted samples. Use `zero_division` parameter to control this behavior.\n",
      "\n"
     ]
    }
   ],
   "source": [
    "\n",
    "from sklearn.model_selection import train_test_split\n",
    "from sklearn.ensemble import RandomForestClassifier\n",
    "from sklearn.metrics import accuracy_score, classification_report\n",
    "\n",
    "\n",
    "# Define classes based on some criteria\n",
    "threshold1 = 0.49 #mean of Passengers Dublin\n",
    "threshold2 = 0.52 #mean of Freight Dublin\n",
    "synthetic_data['Class'] = pd.cut(synthetic_data[['Freight Dublin', 'Passengers Dublin']].mean(axis=1), bins=[-float('inf'), threshold1, threshold2, float('inf')], labels=['Low', 'Medium', 'High'])\n",
    "\n",
    "# Prepare data\n",
    "X = synthetic_data[['Ireland Index']]\n",
    "y = synthetic_data['Class']\n",
    "\n",
    "# Split data into training and testing sets\n",
    "X_train, X_test, y_train, y_test = train_test_split(X, y, test_size=0.2, random_state=42)\n",
    "\n",
    "# Choose a classification model (e.g., RandomForestClassifier)\n",
    "model = RandomForestClassifier()\n",
    "\n",
    "# Train the model\n",
    "model.fit(X_train, y_train)\n",
    "\n",
    "# Make predictions\n",
    "y_pred = model.predict(X_test)\n",
    "\n",
    "# Evaluate model performance\n",
    "accuracy = accuracy_score(y_test, y_pred)\n",
    "print(f'Accuracy: {accuracy}')\n",
    "print(classification_report(y_test, y_pred))"
   ]
  },
  {
   "cell_type": "code",
   "execution_count": 274,
   "id": "5d73bbc8",
   "metadata": {},
   "outputs": [
    {
     "name": "stdout",
     "output_type": "stream",
     "text": [
      "Confusion Matrix:\n",
      "[[39 48  0]\n",
      " [31 60  0]\n",
      " [13  9  0]]\n"
     ]
    }
   ],
   "source": [
    "from sklearn.metrics import confusion_matrix\n",
    "\n",
    "# Assuming y_test contains the true labels and y_pred contains the predicted labels\n",
    "conf_matrix = confusion_matrix(y_test, y_pred)\n",
    "\n",
    "print(\"Confusion Matrix:\")\n",
    "print(conf_matrix)"
   ]
  },
  {
   "cell_type": "code",
   "execution_count": 276,
   "id": "3df39351",
   "metadata": {},
   "outputs": [
    {
     "data": {
      "image/png": "[encoded data removed]",
      "text/plain": [
       "<Figure size 800x600 with 1 Axes>"
      ]
     },
     "metadata": {},
     "output_type": "display_data"
    }
   ],
   "source": [
    "import matplotlib.pyplot as plt\n",
    "import seaborn as sns\n",
    "from sklearn.metrics import confusion_matrix\n",
    "\n",
    "plt.figure(figsize=(8, 6))\n",
    "sns.heatmap(conf_matrix, annot=True, fmt='d', cmap='Blues', cbar=False,\n",
    "            xticklabels=['Class 1', 'Class 2', 'Class 3'],\n",
    "            yticklabels=['Class 1', 'Class 2', 'Class 3'])\n",
    "plt.xlabel('Predicted Labels')\n",
    "plt.ylabel('True Labels')\n",
    "plt.title('Confusion Matrix')\n",
    "plt.show()"
   ]
  },
  {
   "cell_type": "code",
   "execution_count": 278,
   "id": "7fd958ea",
   "metadata": {},
   "outputs": [],
   "source": [
    "from keras.models import Sequential\n",
    "from keras import models\n",
    "from keras import layers\n",
    "\n",
    "# Start creating neural network\n",
    "network = models.Sequential()\n",
    "\n",
    "# Added fully connected layer using ReLU as activation function\n",
    "network.add(layers.Dense(units = 16, activation = \"relu\", input_shape = (7,)))\n",
    "\n",
    "# Added fully connected layer using ReLU as activation function\n",
    "network.add(layers.Dense(units = 16, activation = \"relu\"))\n",
    "\n",
    "# Added fully connected layer that uses sigmoid function as activation function\n",
    "network.add(layers.Dense(units = 1, activation = \"sigmoid\"))\n",
    "\n",
    "#Compile neural network\n",
    "network . compile ( loss = \"binary_crossentropy\" , # cross entropy\n",
    "                optimizer = \"rmsprop\" ,   # root mean square propagation method\n",
    "                metrics = [ \"accuracy\" ]) # performance indicators は accuracy"
   ]
  },
  {
   "cell_type": "code",
   "execution_count": 279,
   "id": "4d0feb5c",
   "metadata": {},
   "outputs": [],
   "source": [
    "# pip install ucimlrepo"
   ]
  },
  {
   "cell_type": "code",
   "execution_count": 280,
   "id": "779ad185",
   "metadata": {},
   "outputs": [
    {
     "name": "stdout",
     "output_type": "stream",
     "text": [
      "{'uci_id': 545, 'name': 'Rice (Cammeo and Osmancik)', 'repository_url': 'https://archive.ics.uci.edu/dataset/545/rice+cammeo+and+osmancik', 'data_url': 'https://archive.ics.uci.edu/static/public/545/data.csv', 'abstract': \"A total of 3810 rice grain's images were taken for the two species, processed and feature inferences were made. 7 morphological features were obtained for each grain of rice.\", 'area': 'Biology', 'tasks': ['Classification'], 'characteristics': ['Multivariate'], 'num_instances': 3810, 'num_features': 7, 'feature_types': ['Real'], 'demographics': [], 'target_col': ['Class'], 'index_col': None, 'has_missing_values': 'no', 'missing_values_symbol': None, 'year_of_dataset_creation': 2019, 'last_updated': 'Fri Nov 03 2023', 'dataset_doi': '10.24432/C5MW4Z', 'creators': [], 'intro_paper': {'title': 'Classification of Rice Varieties Using Artificial Intelligence Methods', 'authors': 'Ilkay Cinar, M. Koklu', 'published_in': 'International Journal of Intelligent Systems and Applications in Engineering', 'year': 2019, 'url': 'https://www.semanticscholar.org/paper/4e508bb906c8fdc04ead6f20bd8918fcb3605d1c', 'doi': '10.18201/ijisae.2019355381'}, 'additional_info': {'summary': \"Among  the certified rice grown in TURKEY,  the  Osmancik species, which has a large planting area since 1997 and the Cammeo species grown since 2014 have been selected for the study.  When  looking  at  the  general  characteristics  of  Osmancik species, they have a wide, long, glassy and dull appearance.  When looking at the general characteristics of the Cammeo species, they have wide and long, glassy and dull in appearance.  A total of 3810 rice grain's images were taken for the two species, processed and feature inferences were made. 7 morphological features were obtained for each grain of rice. \", 'purpose': None, 'funded_by': None, 'instances_represent': None, 'recommended_data_splits': None, 'sensitive_data': None, 'preprocessing_description': None, 'variable_info': '1.) Area: Returns  the  number  of  pixels  within  the boundaries of the rice grain.\\r\\n2.) Perimeter: Calculates the circumference by calculating  the  distance  between  pixels around the boundaries of the rice grain.\\r\\n3.) Major Axis Length: The longest line that can be drawn on the rice  grain,  i.e.  the  main  axis  distance, gives.\\r\\n4.) Minor Axis Length: The shortest line that can be drawn on the rice  grain,  i.e.  the  small  axis  distance, gives.\\r\\n5.) Eccentricity: It measures how round the ellipse, which has  the  same  moments  as  the  rice  grain, is.\\r\\n6.) Convex Area: Returns  the  pixel  count  of  the  smallest convex shell of the region formed by the rice grain.\\r\\n7.) Extent: Returns the ratio of the regionformed by the rice grain to the bounding box pixels.\\r\\n8.) Class: Cammeo and Osmancik rices', 'citation': None}}\n",
      "                name     role        type demographic  \\\n",
      "0               Area  Feature     Integer        None   \n",
      "1          Perimeter  Feature  Continuous        None   \n",
      "2  Major_Axis_Length  Feature  Continuous        None   \n",
      "3  Minor_Axis_Length  Feature  Continuous        None   \n",
      "4       Eccentricity  Feature  Continuous        None   \n",
      "5        Convex_Area  Feature     Integer        None   \n",
      "6             Extent  Feature  Continuous        None   \n",
      "7              Class   Target      Binary        None   \n",
      "\n",
      "                                         description units missing_values  \n",
      "0  Returns the number of pixels within the bounda...    px             no  \n",
      "1  Calculates the circumference by calculating th...    px             no  \n",
      "2  The longest line that can be drawn on the rice...  None             no  \n",
      "3  The shortest line that can be drawn on the ric...  None             no  \n",
      "4  It measures how round the ellipse, which has t...  None             no  \n",
      "5  Returns the pixel count of the smallest convex...  None             no  \n",
      "6  Returns the ratio of the region formed by the ...  None             no  \n",
      "7                                Cammeo and Osmancik  None             no  \n"
     ]
    }
   ],
   "source": [
    "from ucimlrepo import fetch_ucirepo \n",
    "  \n",
    "# fetch dataset \n",
    "rice_cammeo_and_osmancik = fetch_ucirepo(id=545) \n",
    "  \n",
    "# data (as pandas dataframes) \n",
    "X = rice_cammeo_and_osmancik.data.features \n",
    "y = rice_cammeo_and_osmancik.data.targets \n",
    "  \n",
    "# metadata \n",
    "print(rice_cammeo_and_osmancik.metadata) \n",
    "  \n",
    "# variable information \n",
    "print(rice_cammeo_and_osmancik.variables) \n"
   ]
  },
  {
   "cell_type": "code",
   "execution_count": 281,
   "id": "f4f61a76",
   "metadata": {},
   "outputs": [
    {
     "name": "stdout",
     "output_type": "stream",
     "text": [
      "<class 'pandas.core.frame.DataFrame'>\n",
      "RangeIndex: 1000 entries, 0 to 999\n",
      "Data columns (total 8 columns):\n",
      " #   Column               Non-Null Count  Dtype   \n",
      "---  ------               --------------  -----   \n",
      " 0   Month                1000 non-null   object  \n",
      " 1   Freight Dublin       1000 non-null   float64 \n",
      " 2   Passengers Dublin    1000 non-null   float64 \n",
      " 3   Freight Helsinki     1000 non-null   float64 \n",
      " 4   Passengers Helsinki  1000 non-null   float64 \n",
      " 5   Ireland Index        1000 non-null   float64 \n",
      " 6   Finland Index        1000 non-null   float64 \n",
      " 7   Class                1000 non-null   category\n",
      "dtypes: category(1), float64(6), object(1)\n",
      "memory usage: 55.9+ KB\n"
     ]
    }
   ],
   "source": [
    "synthetic_data.info()"
   ]
  },
  {
   "cell_type": "code",
   "execution_count": 284,
   "id": "08221fe1",
   "metadata": {},
   "outputs": [
    {
     "data": {
      "text/html": [
       "<div>\n",
       "<style scoped>\n",
       "    .dataframe tbody tr th:only-of-type {\n",
       "        vertical-align: middle;\n",
       "    }\n",
       "\n",
       "    .dataframe tbody tr th {\n",
       "        vertical-align: top;\n",
       "    }\n",
       "\n",
       "    .dataframe thead th {\n",
       "        text-align: right;\n",
       "    }\n",
       "</style>\n",
       "<table border=\"1\" class=\"dataframe\">\n",
       "  <thead>\n",
       "    <tr style=\"text-align: right;\">\n",
       "      <th></th>\n",
       "      <th>Class</th>\n",
       "    </tr>\n",
       "  </thead>\n",
       "  <tbody>\n",
       "    <tr>\n",
       "      <th>0</th>\n",
       "      <td>Low</td>\n",
       "    </tr>\n",
       "    <tr>\n",
       "      <th>1</th>\n",
       "      <td>Low</td>\n",
       "    </tr>\n",
       "    <tr>\n",
       "      <th>2</th>\n",
       "      <td>Low</td>\n",
       "    </tr>\n",
       "    <tr>\n",
       "      <th>3</th>\n",
       "      <td>High</td>\n",
       "    </tr>\n",
       "    <tr>\n",
       "      <th>4</th>\n",
       "      <td>High</td>\n",
       "    </tr>\n",
       "  </tbody>\n",
       "</table>\n",
       "</div>"
      ],
      "text/plain": [
       "  Class\n",
       "0   Low\n",
       "1   Low\n",
       "2   Low\n",
       "3  High\n",
       "4  High"
      ]
     },
     "execution_count": 284,
     "metadata": {},
     "output_type": "execute_result"
    }
   ],
   "source": [
    "from sklearn import preprocessing\n",
    "\n",
    "# select all categorical variables\n",
    "synthetic_data_categorical = synthetic_data.select_dtypes(include=['category'])\n",
    "synthetic_data_categorical.head()"
   ]
  },
  {
   "cell_type": "code",
   "execution_count": 285,
   "id": "3949383d",
   "metadata": {},
   "outputs": [
    {
     "data": {
      "text/html": [
       "<div>\n",
       "<style scoped>\n",
       "    .dataframe tbody tr th:only-of-type {\n",
       "        vertical-align: middle;\n",
       "    }\n",
       "\n",
       "    .dataframe tbody tr th {\n",
       "        vertical-align: top;\n",
       "    }\n",
       "\n",
       "    .dataframe thead th {\n",
       "        text-align: right;\n",
       "    }\n",
       "</style>\n",
       "<table border=\"1\" class=\"dataframe\">\n",
       "  <thead>\n",
       "    <tr style=\"text-align: right;\">\n",
       "      <th></th>\n",
       "      <th>Class</th>\n",
       "    </tr>\n",
       "  </thead>\n",
       "  <tbody>\n",
       "    <tr>\n",
       "      <th>0</th>\n",
       "      <td>1</td>\n",
       "    </tr>\n",
       "    <tr>\n",
       "      <th>1</th>\n",
       "      <td>1</td>\n",
       "    </tr>\n",
       "    <tr>\n",
       "      <th>2</th>\n",
       "      <td>1</td>\n",
       "    </tr>\n",
       "    <tr>\n",
       "      <th>3</th>\n",
       "      <td>0</td>\n",
       "    </tr>\n",
       "    <tr>\n",
       "      <th>4</th>\n",
       "      <td>0</td>\n",
       "    </tr>\n",
       "  </tbody>\n",
       "</table>\n",
       "</div>"
      ],
      "text/plain": [
       "   Class\n",
       "0      1\n",
       "1      1\n",
       "2      1\n",
       "3      0\n",
       "4      0"
      ]
     },
     "execution_count": 285,
     "metadata": {},
     "output_type": "execute_result"
    }
   ],
   "source": [
    "# Apply Label encoder to synthetic_data_categorical\n",
    "\n",
    "label_encoder = preprocessing.LabelEncoder()\n",
    "synthetic_data_categorical = synthetic_data_categorical.apply(label_encoder.fit_transform)\n",
    "synthetic_data_categorical.head()"
   ]
  },
  {
   "cell_type": "code",
   "execution_count": 286,
   "id": "8666cce0",
   "metadata": {},
   "outputs": [
    {
     "data": {
      "text/html": [
       "<div>\n",
       "<style scoped>\n",
       "    .dataframe tbody tr th:only-of-type {\n",
       "        vertical-align: middle;\n",
       "    }\n",
       "\n",
       "    .dataframe tbody tr th {\n",
       "        vertical-align: top;\n",
       "    }\n",
       "\n",
       "    .dataframe thead th {\n",
       "        text-align: right;\n",
       "    }\n",
       "</style>\n",
       "<table border=\"1\" class=\"dataframe\">\n",
       "  <thead>\n",
       "    <tr style=\"text-align: right;\">\n",
       "      <th></th>\n",
       "      <th>Month</th>\n",
       "      <th>Freight Dublin</th>\n",
       "      <th>Passengers Dublin</th>\n",
       "      <th>Freight Helsinki</th>\n",
       "      <th>Passengers Helsinki</th>\n",
       "      <th>Ireland Index</th>\n",
       "      <th>Finland Index</th>\n",
       "      <th>Class</th>\n",
       "    </tr>\n",
       "  </thead>\n",
       "  <tbody>\n",
       "    <tr>\n",
       "      <th>0</th>\n",
       "      <td>2020M10</td>\n",
       "      <td>0.234012</td>\n",
       "      <td>0.494358</td>\n",
       "      <td>0.457730</td>\n",
       "      <td>0.515457</td>\n",
       "      <td>0.516551</td>\n",
       "      <td>0.403583</td>\n",
       "      <td>1</td>\n",
       "    </tr>\n",
       "    <tr>\n",
       "      <th>1</th>\n",
       "      <td>2021M10</td>\n",
       "      <td>0.241521</td>\n",
       "      <td>0.662200</td>\n",
       "      <td>0.555283</td>\n",
       "      <td>0.395985</td>\n",
       "      <td>0.599521</td>\n",
       "      <td>0.807084</td>\n",
       "      <td>1</td>\n",
       "    </tr>\n",
       "    <tr>\n",
       "      <th>2</th>\n",
       "      <td>2020M03</td>\n",
       "      <td>0.278061</td>\n",
       "      <td>0.636981</td>\n",
       "      <td>0.681633</td>\n",
       "      <td>0.715835</td>\n",
       "      <td>0.372547</td>\n",
       "      <td>0.584358</td>\n",
       "      <td>1</td>\n",
       "    </tr>\n",
       "    <tr>\n",
       "      <th>3</th>\n",
       "      <td>2020M10</td>\n",
       "      <td>0.503653</td>\n",
       "      <td>0.736423</td>\n",
       "      <td>0.739074</td>\n",
       "      <td>0.480797</td>\n",
       "      <td>0.316011</td>\n",
       "      <td>0.514954</td>\n",
       "      <td>0</td>\n",
       "    </tr>\n",
       "    <tr>\n",
       "      <th>4</th>\n",
       "      <td>2020M07</td>\n",
       "      <td>0.599574</td>\n",
       "      <td>0.741417</td>\n",
       "      <td>0.421175</td>\n",
       "      <td>0.447496</td>\n",
       "      <td>0.382516</td>\n",
       "      <td>0.527795</td>\n",
       "      <td>0</td>\n",
       "    </tr>\n",
       "  </tbody>\n",
       "</table>\n",
       "</div>"
      ],
      "text/plain": [
       "     Month  Freight Dublin  Passengers Dublin  Freight Helsinki  \\\n",
       "0  2020M10        0.234012           0.494358          0.457730   \n",
       "1  2021M10        0.241521           0.662200          0.555283   \n",
       "2  2020M03        0.278061           0.636981          0.681633   \n",
       "3  2020M10        0.503653           0.736423          0.739074   \n",
       "4  2020M07        0.599574           0.741417          0.421175   \n",
       "\n",
       "   Passengers Helsinki  Ireland Index  Finland Index  Class  \n",
       "0             0.515457       0.516551       0.403583      1  \n",
       "1             0.395985       0.599521       0.807084      1  \n",
       "2             0.715835       0.372547       0.584358      1  \n",
       "3             0.480797       0.316011       0.514954      0  \n",
       "4             0.447496       0.382516       0.527795      0  "
      ]
     },
     "execution_count": 286,
     "metadata": {},
     "output_type": "execute_result"
    }
   ],
   "source": [
    "# concat synthetic_data_categorical with original synthetic_data\n",
    "synthetic_data = synthetic_data.drop(synthetic_data_categorical.columns, axis=1)\n",
    "synthetic_data = pd.concat([synthetic_data, synthetic_data_categorical], axis=1)\n",
    "synthetic_data.head()"
   ]
  },
  {
   "cell_type": "code",
   "execution_count": 291,
   "id": "3c5fa444",
   "metadata": {},
   "outputs": [],
   "source": [
    "#data standardization  to transform the numeric variables so that each variable has zero mean and unit variance.\n",
    "from sklearn import preprocessing\n",
    "# Extract numeric columns only\n",
    "numeric_columns = synthetic_data.select_dtypes(include='number')\n",
    "\n",
    "# Scale numeric columns\n",
    "synthetic_data_scaled = preprocessing.scale(numeric_columns)\n",
    "\n",
    "numeric_columns = synthetic_data.select_dtypes(include='number')\n"
   ]
  },
  {
   "cell_type": "code",
   "execution_count": 292,
   "id": "231ae0f3",
   "metadata": {},
   "outputs": [],
   "source": [
    "# Create a DataFrame with the scaled data and the corresponding columns\n",
    "synthetic_data_scaled = pd.DataFrame(synthetic_data_scaled, columns=numeric_columns.columns)"
   ]
  },
  {
   "cell_type": "code",
   "execution_count": 293,
   "id": "60096fe6",
   "metadata": {},
   "outputs": [
    {
     "data": {
      "text/html": [
       "<div>\n",
       "<style scoped>\n",
       "    .dataframe tbody tr th:only-of-type {\n",
       "        vertical-align: middle;\n",
       "    }\n",
       "\n",
       "    .dataframe tbody tr th {\n",
       "        vertical-align: top;\n",
       "    }\n",
       "\n",
       "    .dataframe thead th {\n",
       "        text-align: right;\n",
       "    }\n",
       "</style>\n",
       "<table border=\"1\" class=\"dataframe\">\n",
       "  <thead>\n",
       "    <tr style=\"text-align: right;\">\n",
       "      <th></th>\n",
       "      <th>Freight Dublin</th>\n",
       "      <th>Passengers Dublin</th>\n",
       "      <th>Freight Helsinki</th>\n",
       "      <th>Passengers Helsinki</th>\n",
       "      <th>Ireland Index</th>\n",
       "      <th>Finland Index</th>\n",
       "      <th>Class</th>\n",
       "    </tr>\n",
       "  </thead>\n",
       "  <tbody>\n",
       "    <tr>\n",
       "      <th>0</th>\n",
       "      <td>-1.591505</td>\n",
       "      <td>-0.005598</td>\n",
       "      <td>-0.595960</td>\n",
       "      <td>-0.099802</td>\n",
       "      <td>0.598551</td>\n",
       "      <td>-0.902345</td>\n",
       "      <td>1</td>\n",
       "    </tr>\n",
       "    <tr>\n",
       "      <th>1</th>\n",
       "      <td>-1.550049</td>\n",
       "      <td>1.186492</td>\n",
       "      <td>0.118078</td>\n",
       "      <td>-0.908248</td>\n",
       "      <td>1.253489</td>\n",
       "      <td>1.996856</td>\n",
       "      <td>1</td>\n",
       "    </tr>\n",
       "    <tr>\n",
       "      <th>2</th>\n",
       "      <td>-1.348325</td>\n",
       "      <td>1.007377</td>\n",
       "      <td>1.042893</td>\n",
       "      <td>1.256119</td>\n",
       "      <td>-0.538164</td>\n",
       "      <td>0.396546</td>\n",
       "      <td>1</td>\n",
       "    </tr>\n",
       "    <tr>\n",
       "      <th>3</th>\n",
       "      <td>-0.102908</td>\n",
       "      <td>1.713660</td>\n",
       "      <td>1.463333</td>\n",
       "      <td>-0.334343</td>\n",
       "      <td>-0.984438</td>\n",
       "      <td>-0.102126</td>\n",
       "      <td>0</td>\n",
       "    </tr>\n",
       "    <tr>\n",
       "      <th>4</th>\n",
       "      <td>0.426640</td>\n",
       "      <td>1.749131</td>\n",
       "      <td>-0.863520</td>\n",
       "      <td>-0.559681</td>\n",
       "      <td>-0.459470</td>\n",
       "      <td>-0.009864</td>\n",
       "      <td>0</td>\n",
       "    </tr>\n",
       "  </tbody>\n",
       "</table>\n",
       "</div>"
      ],
      "text/plain": [
       "   Freight Dublin  Passengers Dublin  Freight Helsinki  Passengers Helsinki  \\\n",
       "0       -1.591505          -0.005598         -0.595960            -0.099802   \n",
       "1       -1.550049           1.186492          0.118078            -0.908248   \n",
       "2       -1.348325           1.007377          1.042893             1.256119   \n",
       "3       -0.102908           1.713660          1.463333            -0.334343   \n",
       "4        0.426640           1.749131         -0.863520            -0.559681   \n",
       "\n",
       "   Ireland Index  Finland Index  Class  \n",
       "0       0.598551      -0.902345      1  \n",
       "1       1.253489       1.996856      1  \n",
       "2      -0.538164       0.396546      1  \n",
       "3      -0.984438      -0.102126      0  \n",
       "4      -0.459470      -0.009864      0  "
      ]
     },
     "execution_count": 293,
     "metadata": {},
     "output_type": "execute_result"
    }
   ],
   "source": [
    "synthetic_data_scaled['Class'] = synthetic_data['Class']\n",
    "synthetic_data = synthetic_data_scaled\n",
    "\n",
    "synthetic_data.head()"
   ]
  },
  {
   "cell_type": "code",
   "execution_count": 294,
   "id": "c329e115",
   "metadata": {},
   "outputs": [
    {
     "data": {
      "text/html": [
       "<div>\n",
       "<style scoped>\n",
       "    .dataframe tbody tr th:only-of-type {\n",
       "        vertical-align: middle;\n",
       "    }\n",
       "\n",
       "    .dataframe tbody tr th {\n",
       "        vertical-align: top;\n",
       "    }\n",
       "\n",
       "    .dataframe thead th {\n",
       "        text-align: right;\n",
       "    }\n",
       "</style>\n",
       "<table border=\"1\" class=\"dataframe\">\n",
       "  <thead>\n",
       "    <tr style=\"text-align: right;\">\n",
       "      <th></th>\n",
       "      <th>Freight Dublin</th>\n",
       "      <th>Passengers Dublin</th>\n",
       "      <th>Freight Helsinki</th>\n",
       "      <th>Passengers Helsinki</th>\n",
       "      <th>Ireland Index</th>\n",
       "      <th>Finland Index</th>\n",
       "    </tr>\n",
       "  </thead>\n",
       "  <tbody>\n",
       "    <tr>\n",
       "      <th>0</th>\n",
       "      <td>-1.591505</td>\n",
       "      <td>-0.005598</td>\n",
       "      <td>-0.595960</td>\n",
       "      <td>-0.099802</td>\n",
       "      <td>0.598551</td>\n",
       "      <td>-0.902345</td>\n",
       "    </tr>\n",
       "    <tr>\n",
       "      <th>1</th>\n",
       "      <td>-1.550049</td>\n",
       "      <td>1.186492</td>\n",
       "      <td>0.118078</td>\n",
       "      <td>-0.908248</td>\n",
       "      <td>1.253489</td>\n",
       "      <td>1.996856</td>\n",
       "    </tr>\n",
       "    <tr>\n",
       "      <th>2</th>\n",
       "      <td>-1.348325</td>\n",
       "      <td>1.007377</td>\n",
       "      <td>1.042893</td>\n",
       "      <td>1.256119</td>\n",
       "      <td>-0.538164</td>\n",
       "      <td>0.396546</td>\n",
       "    </tr>\n",
       "    <tr>\n",
       "      <th>3</th>\n",
       "      <td>-0.102908</td>\n",
       "      <td>1.713660</td>\n",
       "      <td>1.463333</td>\n",
       "      <td>-0.334343</td>\n",
       "      <td>-0.984438</td>\n",
       "      <td>-0.102126</td>\n",
       "    </tr>\n",
       "    <tr>\n",
       "      <th>4</th>\n",
       "      <td>0.426640</td>\n",
       "      <td>1.749131</td>\n",
       "      <td>-0.863520</td>\n",
       "      <td>-0.559681</td>\n",
       "      <td>-0.459470</td>\n",
       "      <td>-0.009864</td>\n",
       "    </tr>\n",
       "    <tr>\n",
       "      <th>...</th>\n",
       "      <td>...</td>\n",
       "      <td>...</td>\n",
       "      <td>...</td>\n",
       "      <td>...</td>\n",
       "      <td>...</td>\n",
       "      <td>...</td>\n",
       "    </tr>\n",
       "    <tr>\n",
       "      <th>995</th>\n",
       "      <td>0.501078</td>\n",
       "      <td>-0.479186</td>\n",
       "      <td>1.067371</td>\n",
       "      <td>-0.373488</td>\n",
       "      <td>0.748289</td>\n",
       "      <td>1.332520</td>\n",
       "    </tr>\n",
       "    <tr>\n",
       "      <th>996</th>\n",
       "      <td>0.893257</td>\n",
       "      <td>-0.240290</td>\n",
       "      <td>1.220515</td>\n",
       "      <td>-0.616417</td>\n",
       "      <td>-0.854139</td>\n",
       "      <td>0.010884</td>\n",
       "    </tr>\n",
       "    <tr>\n",
       "      <th>997</th>\n",
       "      <td>0.590579</td>\n",
       "      <td>2.179552</td>\n",
       "      <td>0.243226</td>\n",
       "      <td>-0.138570</td>\n",
       "      <td>0.878708</td>\n",
       "      <td>0.217092</td>\n",
       "    </tr>\n",
       "    <tr>\n",
       "      <th>998</th>\n",
       "      <td>0.193392</td>\n",
       "      <td>-0.297393</td>\n",
       "      <td>-0.455677</td>\n",
       "      <td>0.432228</td>\n",
       "      <td>0.150623</td>\n",
       "      <td>-1.118104</td>\n",
       "    </tr>\n",
       "    <tr>\n",
       "      <th>999</th>\n",
       "      <td>-1.348325</td>\n",
       "      <td>1.713660</td>\n",
       "      <td>-1.477839</td>\n",
       "      <td>-0.261891</td>\n",
       "      <td>1.253489</td>\n",
       "      <td>-1.344823</td>\n",
       "    </tr>\n",
       "  </tbody>\n",
       "</table>\n",
       "<p>1000 rows × 6 columns</p>\n",
       "</div>"
      ],
      "text/plain": [
       "     Freight Dublin  Passengers Dublin  Freight Helsinki  Passengers Helsinki  \\\n",
       "0         -1.591505          -0.005598         -0.595960            -0.099802   \n",
       "1         -1.550049           1.186492          0.118078            -0.908248   \n",
       "2         -1.348325           1.007377          1.042893             1.256119   \n",
       "3         -0.102908           1.713660          1.463333            -0.334343   \n",
       "4          0.426640           1.749131         -0.863520            -0.559681   \n",
       "..              ...                ...               ...                  ...   \n",
       "995        0.501078          -0.479186          1.067371            -0.373488   \n",
       "996        0.893257          -0.240290          1.220515            -0.616417   \n",
       "997        0.590579           2.179552          0.243226            -0.138570   \n",
       "998        0.193392          -0.297393         -0.455677             0.432228   \n",
       "999       -1.348325           1.713660         -1.477839            -0.261891   \n",
       "\n",
       "     Ireland Index  Finland Index  \n",
       "0         0.598551      -0.902345  \n",
       "1         1.253489       1.996856  \n",
       "2        -0.538164       0.396546  \n",
       "3        -0.984438      -0.102126  \n",
       "4        -0.459470      -0.009864  \n",
       "..             ...            ...  \n",
       "995       0.748289       1.332520  \n",
       "996      -0.854139       0.010884  \n",
       "997       0.878708       0.217092  \n",
       "998       0.150623      -1.118104  \n",
       "999       1.253489      -1.344823  \n",
       "\n",
       "[1000 rows x 6 columns]"
      ]
     },
     "execution_count": 294,
     "metadata": {},
     "output_type": "execute_result"
    }
   ],
   "source": [
    "from sklearn.model_selection import train_test_split\n",
    "X = synthetic_data.loc[:, synthetic_data.columns != 'Class']\n",
    "y = synthetic_data.loc[:, 'Class']\n",
    "\n",
    "# Display the scaled data for independent columms\n",
    "X"
   ]
  },
  {
   "cell_type": "code",
   "execution_count": 295,
   "id": "cbc22c01",
   "metadata": {},
   "outputs": [],
   "source": [
    "# split the data into training and testing\n",
    "X_train, X_test, y_train, y_test = train_test_split(X, y, test_size = 0.2, random_state = 1)"
   ]
  },
  {
   "cell_type": "code",
   "execution_count": 296,
   "id": "00c8c408",
   "metadata": {},
   "outputs": [
    {
     "data": {
      "text/plain": [
       "((800, 6), (200, 6), (800,), (200,))"
      ]
     },
     "execution_count": 296,
     "metadata": {},
     "output_type": "execute_result"
    }
   ],
   "source": [
    "X_train.shape, X_test.shape, y_train.shape, y_test.shape"
   ]
  },
  {
   "cell_type": "code",
   "execution_count": 301,
   "id": "3844453d",
   "metadata": {},
   "outputs": [],
   "source": [
    "# Fixing a random seed ensures reproducible results\n",
    "\n",
    "import random\n",
    "import tensorflow\n",
    "tensorflow.random.set_seed(9)\n",
    "np.random.seed(1)\n",
    "random.seed(1)"
   ]
  },
  {
   "cell_type": "code",
   "execution_count": 335,
   "id": "04add86f",
   "metadata": {},
   "outputs": [
    {
     "name": "stdout",
     "output_type": "stream",
     "text": [
      "Epoch 1/200\n",
      "WARNING:tensorflow:From C:\\Users\\learn\\anaconda3\\lib\\site-packages\\keras\\src\\utils\\tf_utils.py:492: The name tf.ragged.RaggedTensorValue is deprecated. Please use tf.compat.v1.ragged.RaggedTensorValue instead.\n",
      "\n",
      "WARNING:tensorflow:From C:\\Users\\learn\\anaconda3\\lib\\site-packages\\keras\\src\\engine\\base_layer_utils.py:384: The name tf.executing_eagerly_outside_functions is deprecated. Please use tf.compat.v1.executing_eagerly_outside_functions instead.\n",
      "\n",
      "25/25 [==============================] - 1s 2ms/step - loss: 0.6789 - accuracy: 0.4800\n",
      "Epoch 2/200\n",
      "25/25 [==============================] - 0s 1ms/step - loss: 0.6375 - accuracy: 0.5387\n",
      "Epoch 3/200\n",
      "25/25 [==============================] - 0s 1ms/step - loss: 0.5964 - accuracy: 0.6087\n",
      "Epoch 4/200\n",
      "25/25 [==============================] - 0s 1ms/step - loss: 0.5502 - accuracy: 0.6700\n",
      "Epoch 5/200\n",
      "25/25 [==============================] - 0s 1ms/step - loss: 0.4963 - accuracy: 0.7163\n",
      "Epoch 6/200\n",
      "25/25 [==============================] - 0s 1ms/step - loss: 0.4381 - accuracy: 0.7538\n",
      "Epoch 7/200\n",
      "25/25 [==============================] - 0s 1ms/step - loss: 0.3773 - accuracy: 0.7925\n",
      "Epoch 8/200\n",
      "25/25 [==============================] - 0s 1ms/step - loss: 0.3195 - accuracy: 0.8087\n",
      "Epoch 9/200\n",
      "25/25 [==============================] - 0s 1ms/step - loss: 0.2683 - accuracy: 0.8275\n",
      "Epoch 10/200\n",
      "25/25 [==============================] - 0s 1ms/step - loss: 0.2212 - accuracy: 0.8275\n",
      "Epoch 11/200\n",
      "25/25 [==============================] - 0s 1ms/step - loss: 0.1802 - accuracy: 0.8413\n",
      "Epoch 12/200\n",
      "25/25 [==============================] - 0s 1ms/step - loss: 0.1446 - accuracy: 0.8413\n",
      "Epoch 13/200\n",
      "25/25 [==============================] - 0s 1ms/step - loss: 0.1138 - accuracy: 0.8363\n",
      "Epoch 14/200\n",
      "25/25 [==============================] - 0s 2ms/step - loss: 0.0850 - accuracy: 0.8375\n",
      "Epoch 15/200\n",
      "25/25 [==============================] - 0s 2ms/step - loss: 0.0578 - accuracy: 0.8438\n",
      "Epoch 16/200\n",
      "25/25 [==============================] - 0s 1ms/step - loss: 0.0328 - accuracy: 0.8350\n",
      "Epoch 17/200\n",
      "25/25 [==============================] - 0s 1ms/step - loss: 0.0102 - accuracy: 0.8400\n",
      "Epoch 18/200\n",
      "25/25 [==============================] - 0s 1ms/step - loss: -0.0109 - accuracy: 0.8475\n",
      "Epoch 19/200\n",
      "25/25 [==============================] - 0s 1ms/step - loss: -0.0312 - accuracy: 0.8350\n",
      "Epoch 20/200\n",
      "25/25 [==============================] - 0s 1ms/step - loss: -0.0521 - accuracy: 0.8313\n",
      "Epoch 21/200\n",
      "25/25 [==============================] - 0s 1ms/step - loss: -0.0741 - accuracy: 0.8338\n",
      "Epoch 22/200\n",
      "25/25 [==============================] - 0s 1ms/step - loss: -0.0916 - accuracy: 0.8500\n",
      "Epoch 23/200\n",
      "25/25 [==============================] - 0s 1ms/step - loss: -0.1122 - accuracy: 0.8388\n",
      "Epoch 24/200\n",
      "25/25 [==============================] - 0s 1ms/step - loss: -0.1334 - accuracy: 0.8500\n",
      "Epoch 25/200\n",
      "25/25 [==============================] - 0s 2ms/step - loss: -0.1536 - accuracy: 0.8425\n",
      "Epoch 26/200\n",
      "25/25 [==============================] - 0s 1ms/step - loss: -0.1744 - accuracy: 0.8375\n",
      "Epoch 27/200\n",
      "25/25 [==============================] - 0s 1ms/step - loss: -0.1962 - accuracy: 0.8413\n",
      "Epoch 28/200\n",
      "25/25 [==============================] - 0s 1ms/step - loss: -0.2179 - accuracy: 0.8450\n",
      "Epoch 29/200\n",
      "25/25 [==============================] - 0s 1ms/step - loss: -0.2396 - accuracy: 0.8450\n",
      "Epoch 30/200\n",
      "25/25 [==============================] - 0s 1ms/step - loss: -0.2628 - accuracy: 0.8438\n",
      "Epoch 31/200\n",
      "25/25 [==============================] - 0s 2ms/step - loss: -0.2866 - accuracy: 0.8438\n",
      "Epoch 32/200\n",
      "25/25 [==============================] - 0s 1ms/step - loss: -0.3119 - accuracy: 0.8562\n",
      "Epoch 33/200\n",
      "25/25 [==============================] - 0s 1ms/step - loss: -0.3348 - accuracy: 0.8400\n",
      "Epoch 34/200\n",
      "25/25 [==============================] - 0s 2ms/step - loss: -0.3612 - accuracy: 0.8438\n",
      "Epoch 35/200\n",
      "25/25 [==============================] - 0s 1ms/step - loss: -0.3873 - accuracy: 0.8475\n",
      "Epoch 36/200\n",
      "25/25 [==============================] - 0s 2ms/step - loss: -0.4184 - accuracy: 0.8438\n",
      "Epoch 37/200\n",
      "25/25 [==============================] - 0s 2ms/step - loss: -0.4470 - accuracy: 0.8487\n",
      "Epoch 38/200\n",
      "25/25 [==============================] - 0s 1ms/step - loss: -0.4792 - accuracy: 0.8450\n",
      "Epoch 39/200\n",
      "25/25 [==============================] - 0s 2ms/step - loss: -0.5118 - accuracy: 0.8475\n",
      "Epoch 40/200\n",
      "25/25 [==============================] - 0s 1ms/step - loss: -0.5487 - accuracy: 0.8462\n",
      "Epoch 41/200\n",
      "25/25 [==============================] - 0s 1ms/step - loss: -0.5841 - accuracy: 0.8462\n",
      "Epoch 42/200\n",
      "25/25 [==============================] - 0s 1ms/step - loss: -0.6204 - accuracy: 0.8487\n",
      "Epoch 43/200\n",
      "25/25 [==============================] - 0s 1ms/step - loss: -0.6578 - accuracy: 0.8438\n",
      "Epoch 44/200\n",
      "25/25 [==============================] - 0s 1ms/step - loss: -0.6965 - accuracy: 0.8450\n",
      "Epoch 45/200\n",
      "25/25 [==============================] - 0s 1ms/step - loss: -0.7331 - accuracy: 0.8462\n",
      "Epoch 46/200\n",
      "25/25 [==============================] - 0s 1ms/step - loss: -0.7719 - accuracy: 0.8438\n",
      "Epoch 47/200\n",
      "25/25 [==============================] - 0s 2ms/step - loss: -0.8102 - accuracy: 0.8388\n",
      "Epoch 48/200\n",
      "25/25 [==============================] - 0s 1ms/step - loss: -0.8489 - accuracy: 0.8487\n",
      "Epoch 49/200\n",
      "25/25 [==============================] - 0s 2ms/step - loss: -0.8966 - accuracy: 0.8438\n",
      "Epoch 50/200\n",
      "25/25 [==============================] - 0s 1ms/step - loss: -0.9471 - accuracy: 0.8425\n",
      "Epoch 51/200\n",
      "25/25 [==============================] - 0s 1ms/step - loss: -0.9993 - accuracy: 0.8438\n",
      "Epoch 52/200\n",
      "25/25 [==============================] - 0s 1ms/step - loss: -1.0481 - accuracy: 0.8425\n",
      "Epoch 53/200\n",
      "25/25 [==============================] - 0s 1ms/step - loss: -1.1024 - accuracy: 0.8462\n",
      "Epoch 54/200\n",
      "25/25 [==============================] - 0s 1ms/step - loss: -1.1566 - accuracy: 0.8487\n",
      "Epoch 55/200\n",
      "25/25 [==============================] - 0s 1ms/step - loss: -1.2101 - accuracy: 0.8425\n",
      "Epoch 56/200\n",
      "25/25 [==============================] - 0s 1ms/step - loss: -1.2664 - accuracy: 0.8475\n",
      "Epoch 57/200\n",
      "25/25 [==============================] - 0s 1ms/step - loss: -1.3262 - accuracy: 0.8462\n",
      "Epoch 58/200\n",
      "25/25 [==============================] - 0s 1ms/step - loss: -1.3812 - accuracy: 0.8500\n",
      "Epoch 59/200\n",
      "25/25 [==============================] - 0s 1ms/step - loss: -1.4427 - accuracy: 0.8462\n",
      "Epoch 60/200\n",
      "25/25 [==============================] - 0s 1ms/step - loss: -1.4977 - accuracy: 0.8487\n",
      "Epoch 61/200\n",
      "25/25 [==============================] - 0s 1ms/step - loss: -1.5610 - accuracy: 0.8512\n",
      "Epoch 62/200\n",
      "25/25 [==============================] - 0s 1ms/step - loss: -1.6248 - accuracy: 0.8438\n",
      "Epoch 63/200\n",
      "25/25 [==============================] - 0s 1ms/step - loss: -1.6934 - accuracy: 0.8475\n",
      "Epoch 64/200\n",
      "25/25 [==============================] - 0s 1ms/step - loss: -1.7602 - accuracy: 0.8450\n",
      "Epoch 65/200\n",
      "25/25 [==============================] - 0s 2ms/step - loss: -1.8330 - accuracy: 0.8475\n",
      "Epoch 66/200\n",
      "25/25 [==============================] - 0s 2ms/step - loss: -1.9091 - accuracy: 0.8500\n",
      "Epoch 67/200\n",
      "25/25 [==============================] - 0s 1ms/step - loss: -1.9825 - accuracy: 0.8462\n",
      "Epoch 68/200\n",
      "25/25 [==============================] - 0s 1ms/step - loss: -2.0648 - accuracy: 0.8450\n",
      "Epoch 69/200\n",
      "25/25 [==============================] - 0s 1ms/step - loss: -2.1412 - accuracy: 0.8462\n",
      "Epoch 70/200\n",
      "25/25 [==============================] - 0s 1ms/step - loss: -2.2197 - accuracy: 0.8487\n",
      "Epoch 71/200\n",
      "25/25 [==============================] - 0s 1ms/step - loss: -2.3020 - accuracy: 0.8462\n",
      "Epoch 72/200\n",
      "25/25 [==============================] - 0s 1ms/step - loss: -2.3916 - accuracy: 0.8500\n",
      "Epoch 73/200\n",
      "25/25 [==============================] - 0s 1ms/step - loss: -2.4885 - accuracy: 0.8512\n",
      "Epoch 74/200\n",
      "25/25 [==============================] - 0s 1ms/step - loss: -2.5794 - accuracy: 0.8462\n",
      "Epoch 75/200\n",
      "25/25 [==============================] - 0s 1ms/step - loss: -2.6741 - accuracy: 0.8512\n",
      "Epoch 76/200\n",
      "25/25 [==============================] - 0s 1ms/step - loss: -2.7696 - accuracy: 0.8450\n",
      "Epoch 77/200\n",
      "25/25 [==============================] - 0s 1ms/step - loss: -2.8524 - accuracy: 0.8500\n",
      "Epoch 78/200\n",
      "25/25 [==============================] - 0s 1ms/step - loss: -2.9461 - accuracy: 0.8512\n",
      "Epoch 79/200\n",
      "25/25 [==============================] - 0s 1ms/step - loss: -3.0427 - accuracy: 0.8475\n",
      "Epoch 80/200\n",
      "25/25 [==============================] - 0s 1ms/step - loss: -3.1501 - accuracy: 0.8512\n",
      "Epoch 81/200\n",
      "25/25 [==============================] - 0s 1ms/step - loss: -3.2551 - accuracy: 0.8462\n",
      "Epoch 82/200\n",
      "25/25 [==============================] - 0s 1ms/step - loss: -3.3585 - accuracy: 0.8500\n",
      "Epoch 83/200\n",
      "25/25 [==============================] - 0s 1ms/step - loss: -3.4634 - accuracy: 0.8512\n",
      "Epoch 84/200\n",
      "25/25 [==============================] - 0s 1ms/step - loss: -3.5739 - accuracy: 0.8475\n",
      "Epoch 85/200\n",
      "25/25 [==============================] - 0s 1ms/step - loss: -3.6843 - accuracy: 0.8500\n",
      "Epoch 86/200\n",
      "25/25 [==============================] - 0s 1ms/step - loss: -3.8066 - accuracy: 0.8450\n",
      "Epoch 87/200\n",
      "25/25 [==============================] - 0s 1ms/step - loss: -3.9187 - accuracy: 0.8512\n",
      "Epoch 88/200\n",
      "25/25 [==============================] - 0s 1ms/step - loss: -4.0403 - accuracy: 0.8475\n",
      "Epoch 89/200\n",
      "25/25 [==============================] - 0s 1ms/step - loss: -4.1636 - accuracy: 0.8462\n",
      "Epoch 90/200\n",
      "25/25 [==============================] - 0s 1ms/step - loss: -4.2825 - accuracy: 0.8475\n",
      "Epoch 91/200\n",
      "25/25 [==============================] - 0s 1ms/step - loss: -4.4171 - accuracy: 0.8525\n",
      "Epoch 92/200\n",
      "25/25 [==============================] - 0s 1ms/step - loss: -4.5517 - accuracy: 0.8487\n",
      "Epoch 93/200\n",
      "25/25 [==============================] - 0s 1ms/step - loss: -4.6874 - accuracy: 0.8500\n",
      "Epoch 94/200\n",
      "25/25 [==============================] - 0s 1ms/step - loss: -4.8239 - accuracy: 0.8487\n",
      "Epoch 95/200\n",
      "25/25 [==============================] - 0s 1ms/step - loss: -4.9495 - accuracy: 0.8512\n",
      "Epoch 96/200\n",
      "25/25 [==============================] - 0s 1ms/step - loss: -5.0829 - accuracy: 0.8475\n",
      "Epoch 97/200\n",
      "25/25 [==============================] - 0s 1ms/step - loss: -5.2210 - accuracy: 0.8500\n",
      "Epoch 98/200\n",
      "25/25 [==============================] - 0s 1ms/step - loss: -5.3725 - accuracy: 0.8525\n",
      "Epoch 99/200\n",
      "25/25 [==============================] - 0s 1ms/step - loss: -5.5291 - accuracy: 0.8500\n",
      "Epoch 100/200\n",
      "25/25 [==============================] - 0s 1ms/step - loss: -5.6775 - accuracy: 0.8462\n",
      "Epoch 101/200\n",
      "25/25 [==============================] - 0s 1ms/step - loss: -5.8468 - accuracy: 0.8550\n",
      "Epoch 102/200\n",
      "25/25 [==============================] - 0s 1ms/step - loss: -6.0144 - accuracy: 0.8500\n",
      "Epoch 103/200\n",
      "25/25 [==============================] - 0s 1ms/step - loss: -6.1870 - accuracy: 0.8500\n",
      "Epoch 104/200\n",
      "25/25 [==============================] - 0s 1ms/step - loss: -6.3514 - accuracy: 0.8512\n",
      "Epoch 105/200\n",
      "25/25 [==============================] - 0s 1ms/step - loss: -6.5314 - accuracy: 0.8500\n",
      "Epoch 106/200\n",
      "25/25 [==============================] - 0s 1ms/step - loss: -6.6912 - accuracy: 0.8525\n",
      "Epoch 107/200\n",
      "25/25 [==============================] - 0s 1ms/step - loss: -6.8586 - accuracy: 0.8525\n",
      "Epoch 108/200\n",
      "25/25 [==============================] - 0s 1ms/step - loss: -7.0410 - accuracy: 0.8475\n",
      "Epoch 109/200\n",
      "25/25 [==============================] - 0s 2ms/step - loss: -7.2230 - accuracy: 0.8512\n",
      "Epoch 110/200\n",
      "25/25 [==============================] - 0s 1ms/step - loss: -7.4093 - accuracy: 0.8525\n",
      "Epoch 111/200\n",
      "25/25 [==============================] - 0s 1ms/step - loss: -7.5817 - accuracy: 0.8475\n",
      "Epoch 112/200\n",
      "25/25 [==============================] - 0s 1ms/step - loss: -7.7756 - accuracy: 0.8525\n",
      "Epoch 113/200\n",
      "25/25 [==============================] - 0s 1ms/step - loss: -7.9791 - accuracy: 0.8500\n",
      "Epoch 114/200\n",
      "25/25 [==============================] - 0s 1ms/step - loss: -8.1741 - accuracy: 0.8500\n",
      "Epoch 115/200\n",
      "25/25 [==============================] - 0s 1ms/step - loss: -8.3736 - accuracy: 0.8512\n",
      "Epoch 116/200\n",
      "25/25 [==============================] - 0s 1ms/step - loss: -8.5740 - accuracy: 0.8475\n",
      "Epoch 117/200\n",
      "25/25 [==============================] - 0s 1ms/step - loss: -8.7766 - accuracy: 0.8512\n",
      "Epoch 118/200\n",
      "25/25 [==============================] - 0s 1ms/step - loss: -8.9831 - accuracy: 0.8487\n",
      "Epoch 119/200\n",
      "25/25 [==============================] - 0s 1ms/step - loss: -9.2060 - accuracy: 0.8537\n",
      "Epoch 120/200\n",
      "25/25 [==============================] - 0s 1ms/step - loss: -9.4346 - accuracy: 0.8487\n",
      "Epoch 121/200\n",
      "25/25 [==============================] - 0s 1ms/step - loss: -9.6460 - accuracy: 0.8500\n",
      "Epoch 122/200\n",
      "25/25 [==============================] - 0s 1ms/step - loss: -9.8874 - accuracy: 0.8500\n",
      "Epoch 123/200\n",
      "25/25 [==============================] - 0s 1ms/step - loss: -10.1196 - accuracy: 0.8500\n",
      "Epoch 124/200\n",
      "25/25 [==============================] - 0s 1ms/step - loss: -10.3489 - accuracy: 0.8487\n",
      "Epoch 125/200\n",
      "25/25 [==============================] - 0s 1ms/step - loss: -10.5942 - accuracy: 0.8512\n",
      "Epoch 126/200\n",
      "25/25 [==============================] - 0s 1ms/step - loss: -10.8581 - accuracy: 0.8537\n",
      "Epoch 127/200\n",
      "25/25 [==============================] - 0s 1ms/step - loss: -11.1170 - accuracy: 0.8425\n",
      "Epoch 128/200\n",
      "25/25 [==============================] - 0s 1ms/step - loss: -11.3761 - accuracy: 0.8512\n",
      "Epoch 129/200\n",
      "25/25 [==============================] - 0s 1ms/step - loss: -11.6529 - accuracy: 0.8487\n",
      "Epoch 130/200\n",
      "25/25 [==============================] - 0s 1ms/step - loss: -11.9084 - accuracy: 0.8512\n",
      "Epoch 131/200\n",
      "25/25 [==============================] - 0s 1ms/step - loss: -12.1455 - accuracy: 0.8462\n",
      "Epoch 132/200\n",
      "25/25 [==============================] - 0s 1ms/step - loss: -12.4233 - accuracy: 0.8512\n",
      "Epoch 133/200\n",
      "25/25 [==============================] - 0s 1ms/step - loss: -12.6692 - accuracy: 0.8487\n",
      "Epoch 134/200\n",
      "25/25 [==============================] - 0s 1ms/step - loss: -12.9467 - accuracy: 0.8475\n",
      "Epoch 135/200\n",
      "25/25 [==============================] - 0s 1ms/step - loss: -13.2143 - accuracy: 0.8512\n",
      "Epoch 136/200\n",
      "25/25 [==============================] - 0s 1ms/step - loss: -13.4542 - accuracy: 0.8500\n",
      "Epoch 137/200\n",
      "25/25 [==============================] - 0s 1ms/step - loss: -13.7404 - accuracy: 0.8500\n",
      "Epoch 138/200\n",
      "25/25 [==============================] - 0s 1ms/step - loss: -14.0251 - accuracy: 0.8525\n",
      "Epoch 139/200\n",
      "25/25 [==============================] - 0s 1ms/step - loss: -14.2812 - accuracy: 0.8487\n",
      "Epoch 140/200\n",
      "25/25 [==============================] - 0s 1ms/step - loss: -14.5938 - accuracy: 0.8500\n",
      "Epoch 141/200\n",
      "25/25 [==============================] - 0s 1ms/step - loss: -14.9001 - accuracy: 0.8512\n",
      "Epoch 142/200\n",
      "25/25 [==============================] - 0s 1ms/step - loss: -15.1941 - accuracy: 0.8450\n",
      "Epoch 143/200\n",
      "25/25 [==============================] - 0s 1ms/step - loss: -15.5061 - accuracy: 0.8537\n",
      "Epoch 144/200\n",
      "25/25 [==============================] - 0s 1ms/step - loss: -15.8057 - accuracy: 0.8487\n",
      "Epoch 145/200\n",
      "25/25 [==============================] - 0s 1ms/step - loss: -16.1700 - accuracy: 0.8512\n",
      "Epoch 146/200\n",
      "25/25 [==============================] - 0s 1ms/step - loss: -16.4892 - accuracy: 0.8500\n",
      "Epoch 147/200\n",
      "25/25 [==============================] - 0s 1ms/step - loss: -16.8496 - accuracy: 0.8450\n",
      "Epoch 148/200\n",
      "25/25 [==============================] - 0s 1ms/step - loss: -17.1814 - accuracy: 0.8537\n",
      "Epoch 149/200\n",
      "25/25 [==============================] - 0s 1ms/step - loss: -17.5386 - accuracy: 0.8462\n",
      "Epoch 150/200\n",
      "25/25 [==============================] - 0s 1ms/step - loss: -17.8968 - accuracy: 0.8525\n",
      "Epoch 151/200\n",
      "25/25 [==============================] - 0s 1ms/step - loss: -18.2422 - accuracy: 0.8487\n",
      "Epoch 152/200\n",
      "25/25 [==============================] - 0s 1ms/step - loss: -18.6020 - accuracy: 0.8500\n",
      "Epoch 153/200\n",
      "25/25 [==============================] - 0s 1ms/step - loss: -18.9400 - accuracy: 0.8525\n",
      "Epoch 154/200\n",
      "25/25 [==============================] - 0s 1ms/step - loss: -19.3231 - accuracy: 0.8525\n",
      "Epoch 155/200\n",
      "25/25 [==============================] - 0s 1ms/step - loss: -19.6819 - accuracy: 0.8512\n",
      "Epoch 156/200\n",
      "25/25 [==============================] - 0s 1ms/step - loss: -20.0516 - accuracy: 0.8450\n",
      "Epoch 157/200\n",
      "25/25 [==============================] - 0s 1ms/step - loss: -20.4267 - accuracy: 0.8487\n",
      "Epoch 158/200\n",
      "25/25 [==============================] - 0s 1ms/step - loss: -20.7997 - accuracy: 0.8500\n",
      "Epoch 159/200\n",
      "25/25 [==============================] - 0s 1ms/step - loss: -21.2202 - accuracy: 0.8512\n",
      "Epoch 160/200\n",
      "25/25 [==============================] - 0s 1ms/step - loss: -21.6505 - accuracy: 0.8487\n",
      "Epoch 161/200\n",
      "25/25 [==============================] - 0s 1ms/step - loss: -22.0199 - accuracy: 0.8487\n",
      "Epoch 162/200\n",
      "25/25 [==============================] - 0s 1ms/step - loss: -22.4379 - accuracy: 0.8475\n",
      "Epoch 163/200\n",
      "25/25 [==============================] - 0s 1ms/step - loss: -22.8269 - accuracy: 0.8450\n",
      "Epoch 164/200\n",
      "25/25 [==============================] - 0s 1ms/step - loss: -23.2427 - accuracy: 0.8487\n",
      "Epoch 165/200\n",
      "25/25 [==============================] - 0s 1ms/step - loss: -23.6602 - accuracy: 0.8537\n",
      "Epoch 166/200\n",
      "25/25 [==============================] - 0s 1ms/step - loss: -24.0573 - accuracy: 0.8475\n",
      "Epoch 167/200\n",
      "25/25 [==============================] - 0s 1ms/step - loss: -24.4486 - accuracy: 0.8487\n",
      "Epoch 168/200\n",
      "25/25 [==============================] - 0s 1ms/step - loss: -24.9080 - accuracy: 0.8475\n",
      "Epoch 169/200\n",
      "25/25 [==============================] - 0s 1ms/step - loss: -25.3138 - accuracy: 0.8487\n",
      "Epoch 170/200\n",
      "25/25 [==============================] - 0s 1ms/step - loss: -25.7203 - accuracy: 0.8500\n",
      "Epoch 171/200\n",
      "25/25 [==============================] - 0s 1ms/step - loss: -26.1396 - accuracy: 0.8487\n",
      "Epoch 172/200\n",
      "25/25 [==============================] - 0s 1ms/step - loss: -26.6192 - accuracy: 0.8500\n",
      "Epoch 173/200\n",
      "25/25 [==============================] - 0s 1ms/step - loss: -27.1227 - accuracy: 0.8475\n",
      "Epoch 174/200\n",
      "25/25 [==============================] - 0s 1ms/step - loss: -27.5818 - accuracy: 0.8512\n",
      "Epoch 175/200\n",
      "25/25 [==============================] - 0s 1ms/step - loss: -28.0969 - accuracy: 0.8462\n",
      "Epoch 176/200\n",
      "25/25 [==============================] - 0s 1ms/step - loss: -28.5830 - accuracy: 0.8525\n",
      "Epoch 177/200\n",
      "25/25 [==============================] - 0s 1ms/step - loss: -29.1319 - accuracy: 0.8475\n",
      "Epoch 178/200\n",
      "25/25 [==============================] - 0s 1ms/step - loss: -29.6700 - accuracy: 0.8475\n",
      "Epoch 179/200\n",
      "25/25 [==============================] - 0s 1ms/step - loss: -30.1318 - accuracy: 0.8487\n",
      "Epoch 180/200\n",
      "25/25 [==============================] - 0s 1ms/step - loss: -30.6536 - accuracy: 0.8487\n",
      "Epoch 181/200\n",
      "25/25 [==============================] - 0s 1ms/step - loss: -31.1582 - accuracy: 0.8475\n",
      "Epoch 182/200\n",
      "25/25 [==============================] - 0s 1ms/step - loss: -31.6452 - accuracy: 0.8487\n",
      "Epoch 183/200\n",
      "25/25 [==============================] - 0s 1ms/step - loss: -32.2095 - accuracy: 0.8487\n",
      "Epoch 184/200\n",
      "25/25 [==============================] - 0s 1ms/step - loss: -32.7286 - accuracy: 0.8487\n",
      "Epoch 185/200\n",
      "25/25 [==============================] - 0s 1ms/step - loss: -33.2696 - accuracy: 0.8512\n",
      "Epoch 186/200\n",
      "25/25 [==============================] - 0s 1ms/step - loss: -33.7894 - accuracy: 0.8512\n",
      "Epoch 187/200\n",
      "25/25 [==============================] - 0s 1ms/step - loss: -34.2947 - accuracy: 0.8475\n",
      "Epoch 188/200\n",
      "25/25 [==============================] - 0s 1ms/step - loss: -34.8401 - accuracy: 0.8525\n",
      "Epoch 189/200\n",
      "25/25 [==============================] - 0s 1ms/step - loss: -35.4056 - accuracy: 0.8487\n",
      "Epoch 190/200\n",
      "25/25 [==============================] - 0s 1ms/step - loss: -35.9392 - accuracy: 0.8487\n",
      "Epoch 191/200\n",
      "25/25 [==============================] - 0s 1ms/step - loss: -36.5333 - accuracy: 0.8512\n",
      "Epoch 192/200\n",
      "25/25 [==============================] - 0s 1ms/step - loss: -37.1563 - accuracy: 0.8500\n",
      "Epoch 193/200\n",
      "25/25 [==============================] - 0s 1ms/step - loss: -37.7391 - accuracy: 0.8512\n",
      "Epoch 194/200\n",
      "25/25 [==============================] - 0s 1ms/step - loss: -38.3289 - accuracy: 0.8500\n",
      "Epoch 195/200\n",
      "25/25 [==============================] - 0s 1ms/step - loss: -38.9090 - accuracy: 0.8500\n",
      "Epoch 196/200\n",
      "25/25 [==============================] - 0s 1ms/step - loss: -39.5600 - accuracy: 0.8500\n",
      "Epoch 197/200\n",
      "25/25 [==============================] - 0s 1ms/step - loss: -40.1475 - accuracy: 0.8487\n",
      "Epoch 198/200\n",
      "25/25 [==============================] - 0s 1ms/step - loss: -40.7811 - accuracy: 0.8475\n",
      "Epoch 199/200\n",
      "25/25 [==============================] - 0s 2ms/step - loss: -41.4659 - accuracy: 0.8487\n",
      "Epoch 200/200\n",
      "25/25 [==============================] - 0s 1ms/step - loss: -42.1423 - accuracy: 0.8487\n"
     ]
    },
    {
     "data": {
      "text/plain": [
       "<keras.src.callbacks.History at 0x20a76657880>"
      ]
     },
     "execution_count": 335,
     "metadata": {},
     "output_type": "execute_result"
    }
   ],
   "source": [
    "network = models.Sequential()\n",
    "network.add(layers.Dense(units=16, activation=\"relu\", input_shape=(6,)))\n",
    "network.add(layers.Dense(units=16, activation=\"relu\"))\n",
    "network.add(layers.Dense(units=1, activation=\"sigmoid\"))\n",
    "network.compile(loss=\"binary_crossentropy\", optimizer=\"rmsprop\", metrics=[\"accuracy\"])\n",
    "\n",
    "# Train the model\n",
    "network.fit(X_train_reshaped, y_train, epochs=200)"
   ]
  },
  {
   "cell_type": "code",
   "execution_count": null,
   "id": "f888757e",
   "metadata": {},
   "outputs": [],
   "source": []
  }
 ],
 "metadata": {
  "kernelspec": {
   "display_name": "Python 3 (ipykernel)",
   "language": "python",
   "name": "python3"
  },
  "language_info": {
   "codemirror_mode": {
    "name": "ipython",
    "version": 3
   },
   "file_extension": ".py",
   "mimetype": "text/x-python",
   "name": "python",
   "nbconvert_exporter": "python",
   "pygments_lexer": "ipython3",
   "version": "3.10.9"
  }
 },
 "nbformat": 4,
 "nbformat_minor": 5
}
