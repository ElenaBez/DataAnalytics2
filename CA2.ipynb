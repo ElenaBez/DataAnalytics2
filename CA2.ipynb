{
 "cells": [
  {
   "cell_type": "code",
   "execution_count": 2,
   "id": "70bb6cd1",
   "metadata": {},
   "outputs": [],
   "source": [
    "import pandas as pd"
   ]
  },
  {
   "cell_type": "code",
   "execution_count": 3,
   "id": "1a457d29",
   "metadata": {},
   "outputs": [
    {
     "data": {
      "text/html": [
       "<div>\n",
       "<style scoped>\n",
       "    .dataframe tbody tr th:only-of-type {\n",
       "        vertical-align: middle;\n",
       "    }\n",
       "\n",
       "    .dataframe tbody tr th {\n",
       "        vertical-align: top;\n",
       "    }\n",
       "\n",
       "    .dataframe thead th {\n",
       "        text-align: right;\n",
       "    }\n",
       "</style>\n",
       "<table border=\"1\" class=\"dataframe\">\n",
       "  <thead>\n",
       "    <tr style=\"text-align: right;\">\n",
       "      <th></th>\n",
       "      <th>Statistic Label</th>\n",
       "      <th>Month</th>\n",
       "      <th>Airports in Ireland</th>\n",
       "      <th>Country</th>\n",
       "      <th>Direction</th>\n",
       "      <th>Flight Type</th>\n",
       "      <th>UNIT</th>\n",
       "      <th>VALUE</th>\n",
       "    </tr>\n",
       "  </thead>\n",
       "  <tbody>\n",
       "    <tr>\n",
       "      <th>0</th>\n",
       "      <td>Passengers</td>\n",
       "      <td>2013M01</td>\n",
       "      <td>All main airports</td>\n",
       "      <td>All Countries</td>\n",
       "      <td>All directions</td>\n",
       "      <td>All flights</td>\n",
       "      <td>Thousand</td>\n",
       "      <td>1398.7</td>\n",
       "    </tr>\n",
       "    <tr>\n",
       "      <th>1</th>\n",
       "      <td>Passengers</td>\n",
       "      <td>2013M01</td>\n",
       "      <td>All main airports</td>\n",
       "      <td>All Countries</td>\n",
       "      <td>All directions</td>\n",
       "      <td>Scheduled</td>\n",
       "      <td>Thousand</td>\n",
       "      <td>1372.4</td>\n",
       "    </tr>\n",
       "    <tr>\n",
       "      <th>2</th>\n",
       "      <td>Passengers</td>\n",
       "      <td>2013M01</td>\n",
       "      <td>All main airports</td>\n",
       "      <td>All Countries</td>\n",
       "      <td>All directions</td>\n",
       "      <td>Unscheduled</td>\n",
       "      <td>Thousand</td>\n",
       "      <td>26.3</td>\n",
       "    </tr>\n",
       "    <tr>\n",
       "      <th>3</th>\n",
       "      <td>Passengers</td>\n",
       "      <td>2013M01</td>\n",
       "      <td>All main airports</td>\n",
       "      <td>All Countries</td>\n",
       "      <td>Arrival</td>\n",
       "      <td>All flights</td>\n",
       "      <td>Thousand</td>\n",
       "      <td>687.1</td>\n",
       "    </tr>\n",
       "    <tr>\n",
       "      <th>4</th>\n",
       "      <td>Passengers</td>\n",
       "      <td>2013M01</td>\n",
       "      <td>All main airports</td>\n",
       "      <td>All Countries</td>\n",
       "      <td>Arrival</td>\n",
       "      <td>Scheduled</td>\n",
       "      <td>Thousand</td>\n",
       "      <td>674.0</td>\n",
       "    </tr>\n",
       "  </tbody>\n",
       "</table>\n",
       "</div>"
      ],
      "text/plain": [
       "  Statistic Label    Month Airports in Ireland        Country       Direction  \\\n",
       "0      Passengers  2013M01   All main airports  All Countries  All directions   \n",
       "1      Passengers  2013M01   All main airports  All Countries  All directions   \n",
       "2      Passengers  2013M01   All main airports  All Countries  All directions   \n",
       "3      Passengers  2013M01   All main airports  All Countries         Arrival   \n",
       "4      Passengers  2013M01   All main airports  All Countries         Arrival   \n",
       "\n",
       "   Flight Type      UNIT   VALUE  \n",
       "0  All flights  Thousand  1398.7  \n",
       "1    Scheduled  Thousand  1372.4  \n",
       "2  Unscheduled  Thousand    26.3  \n",
       "3  All flights  Thousand   687.1  \n",
       "4    Scheduled  Thousand   674.0  "
      ]
     },
     "execution_count": 3,
     "metadata": {},
     "output_type": "execute_result"
    }
   ],
   "source": [
    "Ireland = pd.read_csv('Ireland.csv')\n",
    "Ireland.head()"
   ]
  },
  {
   "cell_type": "code",
   "execution_count": 4,
   "id": "07a65a86",
   "metadata": {},
   "outputs": [
    {
     "data": {
      "text/html": [
       "<div>\n",
       "<style scoped>\n",
       "    .dataframe tbody tr th:only-of-type {\n",
       "        vertical-align: middle;\n",
       "    }\n",
       "\n",
       "    .dataframe tbody tr th {\n",
       "        vertical-align: top;\n",
       "    }\n",
       "\n",
       "    .dataframe thead th {\n",
       "        text-align: right;\n",
       "    }\n",
       "</style>\n",
       "<table border=\"1\" class=\"dataframe\">\n",
       "  <thead>\n",
       "    <tr style=\"text-align: right;\">\n",
       "      <th></th>\n",
       "      <th>Month</th>\n",
       "      <th>Reporting airport</th>\n",
       "      <th>Type of flight</th>\n",
       "      <th>Arrival/departure</th>\n",
       "      <th>Total Number of passengers</th>\n",
       "      <th>Total Freight and mail total, tonne</th>\n",
       "      <th>Total Number of passengers, cumulative from the beginning of the year</th>\n",
       "      <th>Total Freight and mail, cumulative from the beginning of the year, tonnes</th>\n",
       "      <th>Helsinki-Vantaa Number of passengers</th>\n",
       "      <th>Helsinki-Vantaa Freight and mail total, tonne</th>\n",
       "      <th>Helsinki-Vantaa Number of passengers, cumulative from the beginning of the year</th>\n",
       "      <th>Helsinki-Vantaa Freight and mail, cumulative from the beginning of the year, tonnes</th>\n",
       "      <th>Other domestic airports Number of passengers</th>\n",
       "      <th>Other domestic airports Freight and mail total, tonne</th>\n",
       "      <th>Other domestic airports Number of passengers, cumulative from the beginning of the year</th>\n",
       "      <th>Other domestic airports Freight and mail, cumulative from the beginning of the year, tonnes</th>\n",
       "      <th>International Number of passengers</th>\n",
       "      <th>International Freight and mail total, tonne</th>\n",
       "      <th>International Number of passengers, cumulative from the beginning of the year</th>\n",
       "      <th>International Freight and mail, cumulative from the beginning of the year, tonnes</th>\n",
       "    </tr>\n",
       "  </thead>\n",
       "  <tbody>\n",
       "    <tr>\n",
       "      <th>0</th>\n",
       "      <td>2019M01</td>\n",
       "      <td>Total</td>\n",
       "      <td>Total</td>\n",
       "      <td>Arrivals/departures total</td>\n",
       "      <td>1969169</td>\n",
       "      <td>16265</td>\n",
       "      <td>1969169</td>\n",
       "      <td>16265</td>\n",
       "      <td>276932</td>\n",
       "      <td>55</td>\n",
       "      <td>276932</td>\n",
       "      <td>55</td>\n",
       "      <td>279130</td>\n",
       "      <td>177</td>\n",
       "      <td>279130</td>\n",
       "      <td>177</td>\n",
       "      <td>1413107</td>\n",
       "      <td>16033</td>\n",
       "      <td>1413107</td>\n",
       "      <td>16033</td>\n",
       "    </tr>\n",
       "    <tr>\n",
       "      <th>1</th>\n",
       "      <td>2019M01</td>\n",
       "      <td>Total</td>\n",
       "      <td>Total</td>\n",
       "      <td>Arrivals</td>\n",
       "      <td>984340</td>\n",
       "      <td>7550</td>\n",
       "      <td>984340</td>\n",
       "      <td>7550</td>\n",
       "      <td>129975</td>\n",
       "      <td>41</td>\n",
       "      <td>129975</td>\n",
       "      <td>41</td>\n",
       "      <td>147386</td>\n",
       "      <td>13</td>\n",
       "      <td>147386</td>\n",
       "      <td>13</td>\n",
       "      <td>706979</td>\n",
       "      <td>7495</td>\n",
       "      <td>706979</td>\n",
       "      <td>7495</td>\n",
       "    </tr>\n",
       "    <tr>\n",
       "      <th>2</th>\n",
       "      <td>2019M01</td>\n",
       "      <td>Total</td>\n",
       "      <td>Total</td>\n",
       "      <td>Departures</td>\n",
       "      <td>984829</td>\n",
       "      <td>8715</td>\n",
       "      <td>984829</td>\n",
       "      <td>8715</td>\n",
       "      <td>146957</td>\n",
       "      <td>13</td>\n",
       "      <td>146957</td>\n",
       "      <td>13</td>\n",
       "      <td>131744</td>\n",
       "      <td>164</td>\n",
       "      <td>131744</td>\n",
       "      <td>164</td>\n",
       "      <td>706128</td>\n",
       "      <td>8538</td>\n",
       "      <td>706128</td>\n",
       "      <td>8538</td>\n",
       "    </tr>\n",
       "    <tr>\n",
       "      <th>3</th>\n",
       "      <td>2019M01</td>\n",
       "      <td>Total</td>\n",
       "      <td>Scheduled flight</td>\n",
       "      <td>Arrivals/departures total</td>\n",
       "      <td>1857115</td>\n",
       "      <td>14743</td>\n",
       "      <td>1857115</td>\n",
       "      <td>14743</td>\n",
       "      <td>276649</td>\n",
       "      <td>55</td>\n",
       "      <td>276649</td>\n",
       "      <td>55</td>\n",
       "      <td>278772</td>\n",
       "      <td>177</td>\n",
       "      <td>278772</td>\n",
       "      <td>177</td>\n",
       "      <td>1301694</td>\n",
       "      <td>14511</td>\n",
       "      <td>1301694</td>\n",
       "      <td>14511</td>\n",
       "    </tr>\n",
       "    <tr>\n",
       "      <th>4</th>\n",
       "      <td>2019M01</td>\n",
       "      <td>Total</td>\n",
       "      <td>Scheduled flight</td>\n",
       "      <td>Arrivals</td>\n",
       "      <td>931756</td>\n",
       "      <td>6733</td>\n",
       "      <td>931756</td>\n",
       "      <td>6733</td>\n",
       "      <td>129719</td>\n",
       "      <td>41</td>\n",
       "      <td>129719</td>\n",
       "      <td>41</td>\n",
       "      <td>147185</td>\n",
       "      <td>13</td>\n",
       "      <td>147185</td>\n",
       "      <td>13</td>\n",
       "      <td>654852</td>\n",
       "      <td>6678</td>\n",
       "      <td>654852</td>\n",
       "      <td>6678</td>\n",
       "    </tr>\n",
       "  </tbody>\n",
       "</table>\n",
       "</div>"
      ],
      "text/plain": [
       "     Month Reporting airport    Type of flight          Arrival/departure  \\\n",
       "0  2019M01             Total             Total  Arrivals/departures total   \n",
       "1  2019M01             Total             Total                   Arrivals   \n",
       "2  2019M01             Total             Total                 Departures   \n",
       "3  2019M01             Total  Scheduled flight  Arrivals/departures total   \n",
       "4  2019M01             Total  Scheduled flight                   Arrivals   \n",
       "\n",
       "   Total Number of passengers  Total Freight and mail total, tonne  \\\n",
       "0                     1969169                                16265   \n",
       "1                      984340                                 7550   \n",
       "2                      984829                                 8715   \n",
       "3                     1857115                                14743   \n",
       "4                      931756                                 6733   \n",
       "\n",
       "   Total Number of passengers, cumulative from the beginning of the year  \\\n",
       "0                                            1969169                       \n",
       "1                                             984340                       \n",
       "2                                             984829                       \n",
       "3                                            1857115                       \n",
       "4                                             931756                       \n",
       "\n",
       "   Total Freight and mail, cumulative from the beginning of the year, tonnes  \\\n",
       "0                                              16265                           \n",
       "1                                               7550                           \n",
       "2                                               8715                           \n",
       "3                                              14743                           \n",
       "4                                               6733                           \n",
       "\n",
       "   Helsinki-Vantaa Number of passengers  \\\n",
       "0                                276932   \n",
       "1                                129975   \n",
       "2                                146957   \n",
       "3                                276649   \n",
       "4                                129719   \n",
       "\n",
       "   Helsinki-Vantaa Freight and mail total, tonne  \\\n",
       "0                                             55   \n",
       "1                                             41   \n",
       "2                                             13   \n",
       "3                                             55   \n",
       "4                                             41   \n",
       "\n",
       "   Helsinki-Vantaa Number of passengers, cumulative from the beginning of the year  \\\n",
       "0                                             276932                                 \n",
       "1                                             129975                                 \n",
       "2                                             146957                                 \n",
       "3                                             276649                                 \n",
       "4                                             129719                                 \n",
       "\n",
       "   Helsinki-Vantaa Freight and mail, cumulative from the beginning of the year, tonnes  \\\n",
       "0                                                 55                                     \n",
       "1                                                 41                                     \n",
       "2                                                 13                                     \n",
       "3                                                 55                                     \n",
       "4                                                 41                                     \n",
       "\n",
       "   Other domestic airports Number of passengers  \\\n",
       "0                                        279130   \n",
       "1                                        147386   \n",
       "2                                        131744   \n",
       "3                                        278772   \n",
       "4                                        147185   \n",
       "\n",
       "   Other domestic airports Freight and mail total, tonne  \\\n",
       "0                                                177       \n",
       "1                                                 13       \n",
       "2                                                164       \n",
       "3                                                177       \n",
       "4                                                 13       \n",
       "\n",
       "   Other domestic airports Number of passengers, cumulative from the beginning of the year  \\\n",
       "0                                             279130                                         \n",
       "1                                             147386                                         \n",
       "2                                             131744                                         \n",
       "3                                             278772                                         \n",
       "4                                             147185                                         \n",
       "\n",
       "   Other domestic airports Freight and mail, cumulative from the beginning of the year, tonnes  \\\n",
       "0                                                177                                             \n",
       "1                                                 13                                             \n",
       "2                                                164                                             \n",
       "3                                                177                                             \n",
       "4                                                 13                                             \n",
       "\n",
       "   International Number of passengers  \\\n",
       "0                             1413107   \n",
       "1                              706979   \n",
       "2                              706128   \n",
       "3                             1301694   \n",
       "4                              654852   \n",
       "\n",
       "   International Freight and mail total, tonne  \\\n",
       "0                                        16033   \n",
       "1                                         7495   \n",
       "2                                         8538   \n",
       "3                                        14511   \n",
       "4                                         6678   \n",
       "\n",
       "   International Number of passengers, cumulative from the beginning of the year  \\\n",
       "0                                            1413107                               \n",
       "1                                             706979                               \n",
       "2                                             706128                               \n",
       "3                                            1301694                               \n",
       "4                                             654852                               \n",
       "\n",
       "   International Freight and mail, cumulative from the beginning of the year, tonnes  \n",
       "0                                              16033                                  \n",
       "1                                               7495                                  \n",
       "2                                               8538                                  \n",
       "3                                              14511                                  \n",
       "4                                               6678                                  "
      ]
     },
     "execution_count": 4,
     "metadata": {},
     "output_type": "execute_result"
    }
   ],
   "source": [
    "Finland = pd.read_csv('Finland.csv', encoding='latin-1')\n",
    "Finland.head()"
   ]
  },
  {
   "cell_type": "code",
   "execution_count": 5,
   "id": "a0302ff2",
   "metadata": {},
   "outputs": [
    {
     "name": "stdout",
     "output_type": "stream",
     "text": [
      "['Passengers' 'Freight']\n"
     ]
    }
   ],
   "source": [
    "unique_values = Ireland['Statistic Label'].unique()\n",
    "print(unique_values)"
   ]
  },
  {
   "cell_type": "code",
   "execution_count": 6,
   "id": "179f3e32",
   "metadata": {},
   "outputs": [
    {
     "name": "stdout",
     "output_type": "stream",
     "text": [
      "<class 'pandas.core.frame.DataFrame'>\n",
      "RangeIndex: 783756 entries, 0 to 783755\n",
      "Data columns (total 8 columns):\n",
      " #   Column               Non-Null Count   Dtype  \n",
      "---  ------               --------------   -----  \n",
      " 0   Statistic Label      783756 non-null  object \n",
      " 1   Month                783756 non-null  object \n",
      " 2   Airports in Ireland  783756 non-null  object \n",
      " 3   Country              783756 non-null  object \n",
      " 4   Direction            783756 non-null  object \n",
      " 5   Flight Type          783756 non-null  object \n",
      " 6   UNIT                 783756 non-null  object \n",
      " 7   VALUE                783756 non-null  float64\n",
      "dtypes: float64(1), object(7)\n",
      "memory usage: 47.8+ MB\n"
     ]
    }
   ],
   "source": [
    "Ireland.info()"
   ]
  },
  {
   "cell_type": "code",
   "execution_count": 7,
   "id": "e807e7a7",
   "metadata": {},
   "outputs": [
    {
     "data": {
      "text/html": [
       "<div>\n",
       "<style scoped>\n",
       "    .dataframe tbody tr th:only-of-type {\n",
       "        vertical-align: middle;\n",
       "    }\n",
       "\n",
       "    .dataframe tbody tr th {\n",
       "        vertical-align: top;\n",
       "    }\n",
       "\n",
       "    .dataframe thead th {\n",
       "        text-align: right;\n",
       "    }\n",
       "</style>\n",
       "<table border=\"1\" class=\"dataframe\">\n",
       "  <thead>\n",
       "    <tr style=\"text-align: right;\">\n",
       "      <th></th>\n",
       "      <th>Statistic Label</th>\n",
       "      <th>Month</th>\n",
       "      <th>Airports in Ireland</th>\n",
       "      <th>Country</th>\n",
       "      <th>Direction</th>\n",
       "      <th>Flight Type</th>\n",
       "      <th>UNIT</th>\n",
       "      <th>VALUE</th>\n",
       "      <th>Passengers</th>\n",
       "      <th>Freight</th>\n",
       "    </tr>\n",
       "  </thead>\n",
       "  <tbody>\n",
       "    <tr>\n",
       "      <th>783751</th>\n",
       "      <td>Freight</td>\n",
       "      <td>2023M03</td>\n",
       "      <td>Shannon</td>\n",
       "      <td>Oceania and Polar regions (1)</td>\n",
       "      <td>Arrival</td>\n",
       "      <td>Scheduled</td>\n",
       "      <td>000 Tonnes</td>\n",
       "      <td>0.0</td>\n",
       "      <td>0.0</td>\n",
       "      <td>0.0</td>\n",
       "    </tr>\n",
       "    <tr>\n",
       "      <th>783752</th>\n",
       "      <td>Freight</td>\n",
       "      <td>2023M03</td>\n",
       "      <td>Shannon</td>\n",
       "      <td>Oceania and Polar regions (1)</td>\n",
       "      <td>Arrival</td>\n",
       "      <td>Unscheduled</td>\n",
       "      <td>000 Tonnes</td>\n",
       "      <td>0.0</td>\n",
       "      <td>0.0</td>\n",
       "      <td>0.0</td>\n",
       "    </tr>\n",
       "    <tr>\n",
       "      <th>783753</th>\n",
       "      <td>Freight</td>\n",
       "      <td>2023M03</td>\n",
       "      <td>Shannon</td>\n",
       "      <td>Oceania and Polar regions (1)</td>\n",
       "      <td>Departure</td>\n",
       "      <td>All flights</td>\n",
       "      <td>000 Tonnes</td>\n",
       "      <td>0.0</td>\n",
       "      <td>0.0</td>\n",
       "      <td>0.0</td>\n",
       "    </tr>\n",
       "    <tr>\n",
       "      <th>783754</th>\n",
       "      <td>Freight</td>\n",
       "      <td>2023M03</td>\n",
       "      <td>Shannon</td>\n",
       "      <td>Oceania and Polar regions (1)</td>\n",
       "      <td>Departure</td>\n",
       "      <td>Scheduled</td>\n",
       "      <td>000 Tonnes</td>\n",
       "      <td>0.0</td>\n",
       "      <td>0.0</td>\n",
       "      <td>0.0</td>\n",
       "    </tr>\n",
       "    <tr>\n",
       "      <th>783755</th>\n",
       "      <td>Freight</td>\n",
       "      <td>2023M03</td>\n",
       "      <td>Shannon</td>\n",
       "      <td>Oceania and Polar regions (1)</td>\n",
       "      <td>Departure</td>\n",
       "      <td>Unscheduled</td>\n",
       "      <td>000 Tonnes</td>\n",
       "      <td>0.0</td>\n",
       "      <td>0.0</td>\n",
       "      <td>0.0</td>\n",
       "    </tr>\n",
       "  </tbody>\n",
       "</table>\n",
       "</div>"
      ],
      "text/plain": [
       "       Statistic Label    Month Airports in Ireland  \\\n",
       "783751         Freight  2023M03             Shannon   \n",
       "783752         Freight  2023M03             Shannon   \n",
       "783753         Freight  2023M03             Shannon   \n",
       "783754         Freight  2023M03             Shannon   \n",
       "783755         Freight  2023M03             Shannon   \n",
       "\n",
       "                              Country  Direction  Flight Type        UNIT  \\\n",
       "783751  Oceania and Polar regions (1)    Arrival    Scheduled  000 Tonnes   \n",
       "783752  Oceania and Polar regions (1)    Arrival  Unscheduled  000 Tonnes   \n",
       "783753  Oceania and Polar regions (1)  Departure  All flights  000 Tonnes   \n",
       "783754  Oceania and Polar regions (1)  Departure    Scheduled  000 Tonnes   \n",
       "783755  Oceania and Polar regions (1)  Departure  Unscheduled  000 Tonnes   \n",
       "\n",
       "        VALUE  Passengers  Freight  \n",
       "783751    0.0         0.0      0.0  \n",
       "783752    0.0         0.0      0.0  \n",
       "783753    0.0         0.0      0.0  \n",
       "783754    0.0         0.0      0.0  \n",
       "783755    0.0         0.0      0.0  "
      ]
     },
     "execution_count": 7,
     "metadata": {},
     "output_type": "execute_result"
    }
   ],
   "source": [
    "# Create 'Passengers' and 'Freight' columns based on 'Statistic Label'\n",
    "Ireland['Passengers'] = (Ireland['Statistic Label'] == 'Passengers') * Ireland['VALUE']\n",
    "Ireland['Freight'] = (Ireland['Statistic Label'] == 'Freight') * Ireland['VALUE']\n",
    "\n",
    "Ireland.tail()"
   ]
  },
  {
   "cell_type": "code",
   "execution_count": 8,
   "id": "91380648",
   "metadata": {},
   "outputs": [
    {
     "name": "stdout",
     "output_type": "stream",
     "text": [
      "<class 'pandas.core.frame.DataFrame'>\n",
      "RangeIndex: 783756 entries, 0 to 783755\n",
      "Data columns (total 4 columns):\n",
      " #   Column               Non-Null Count   Dtype  \n",
      "---  ------               --------------   -----  \n",
      " 0   Month                783756 non-null  object \n",
      " 1   Airports in Ireland  783756 non-null  object \n",
      " 2   Passengers           783756 non-null  float64\n",
      " 3   Freight              783756 non-null  float64\n",
      "dtypes: float64(2), object(2)\n",
      "memory usage: 23.9+ MB\n"
     ]
    }
   ],
   "source": [
    "columns_to_drop = [\"Statistic Label\",\n",
    "    \"Country\", \"Direction\", \"Flight Type\", \"UNIT\", \"VALUE\", \"Type of flight\"]\n",
    "\n",
    "# Ensure column names exist in the DataFrame before dropping\n",
    "columns_to_drop = [col for col in columns_to_drop if col in Ireland.columns]\n",
    "\n",
    "# Drop the specified columns\n",
    "Ireland.drop(columns=columns_to_drop, axis=1, inplace=True)\n",
    "Ireland.info()"
   ]
  },
  {
   "cell_type": "code",
   "execution_count": 9,
   "id": "00825aa0",
   "metadata": {},
   "outputs": [],
   "source": [
    "Ireland_gr=Ireland.groupby(['Month', 'Airports in Ireland']).agg({'Passengers': 'sum', 'Freight': 'sum'}).reset_index()"
   ]
  },
  {
   "cell_type": "code",
   "execution_count": 10,
   "id": "387c7350",
   "metadata": {},
   "outputs": [
    {
     "data": {
      "text/html": [
       "<div>\n",
       "<style scoped>\n",
       "    .dataframe tbody tr th:only-of-type {\n",
       "        vertical-align: middle;\n",
       "    }\n",
       "\n",
       "    .dataframe tbody tr th {\n",
       "        vertical-align: top;\n",
       "    }\n",
       "\n",
       "    .dataframe thead th {\n",
       "        text-align: right;\n",
       "    }\n",
       "</style>\n",
       "<table border=\"1\" class=\"dataframe\">\n",
       "  <thead>\n",
       "    <tr style=\"text-align: right;\">\n",
       "      <th></th>\n",
       "      <th>Month</th>\n",
       "      <th>Airports in Ireland</th>\n",
       "      <th>Passengers</th>\n",
       "      <th>Freight</th>\n",
       "    </tr>\n",
       "  </thead>\n",
       "  <tbody>\n",
       "    <tr>\n",
       "      <th>1</th>\n",
       "      <td>2013M01</td>\n",
       "      <td>Cork</td>\n",
       "      <td>2461600.0</td>\n",
       "      <td>400.0</td>\n",
       "    </tr>\n",
       "    <tr>\n",
       "      <th>2</th>\n",
       "      <td>2013M01</td>\n",
       "      <td>Dublin</td>\n",
       "      <td>19657800.0</td>\n",
       "      <td>141900.0</td>\n",
       "    </tr>\n",
       "    <tr>\n",
       "      <th>3</th>\n",
       "      <td>2013M01</td>\n",
       "      <td>Kerry</td>\n",
       "      <td>256200.0</td>\n",
       "      <td>0.0</td>\n",
       "    </tr>\n",
       "    <tr>\n",
       "      <th>4</th>\n",
       "      <td>2013M01</td>\n",
       "      <td>Knock</td>\n",
       "      <td>634800.0</td>\n",
       "      <td>0.0</td>\n",
       "    </tr>\n",
       "    <tr>\n",
       "      <th>5</th>\n",
       "      <td>2013M01</td>\n",
       "      <td>Shannon</td>\n",
       "      <td>1073100.0</td>\n",
       "      <td>20000.0</td>\n",
       "    </tr>\n",
       "  </tbody>\n",
       "</table>\n",
       "</div>"
      ],
      "text/plain": [
       "     Month Airports in Ireland  Passengers   Freight\n",
       "1  2013M01                Cork   2461600.0     400.0\n",
       "2  2013M01              Dublin  19657800.0  141900.0\n",
       "3  2013M01               Kerry    256200.0       0.0\n",
       "4  2013M01               Knock    634800.0       0.0\n",
       "5  2013M01             Shannon   1073100.0   20000.0"
      ]
     },
     "execution_count": 10,
     "metadata": {},
     "output_type": "execute_result"
    }
   ],
   "source": [
    "Ireland_gr= Ireland_gr[Ireland_gr['Airports in Ireland'] != 'All main airports']\n",
    "Ireland_gr[['Passengers', 'Freight']] *= 1000\n",
    "Ireland_gr.head()"
   ]
  },
  {
   "cell_type": "code",
   "execution_count": 146,
   "id": "2eb0b355",
   "metadata": {},
   "outputs": [
    {
     "data": {
      "text/html": [
       "<div>\n",
       "<style scoped>\n",
       "    .dataframe tbody tr th:only-of-type {\n",
       "        vertical-align: middle;\n",
       "    }\n",
       "\n",
       "    .dataframe tbody tr th {\n",
       "        vertical-align: top;\n",
       "    }\n",
       "\n",
       "    .dataframe thead th {\n",
       "        text-align: right;\n",
       "    }\n",
       "</style>\n",
       "<table border=\"1\" class=\"dataframe\">\n",
       "  <thead>\n",
       "    <tr style=\"text-align: right;\">\n",
       "      <th></th>\n",
       "      <th>Month</th>\n",
       "      <th>Airports in Ireland</th>\n",
       "      <th>Passengers</th>\n",
       "      <th>Freight</th>\n",
       "    </tr>\n",
       "  </thead>\n",
       "  <tbody>\n",
       "    <tr>\n",
       "      <th>1</th>\n",
       "      <td>2013M01</td>\n",
       "      <td>Cork</td>\n",
       "      <td>2461600.0</td>\n",
       "      <td>400.0</td>\n",
       "    </tr>\n",
       "    <tr>\n",
       "      <th>2</th>\n",
       "      <td>2013M01</td>\n",
       "      <td>Dublin</td>\n",
       "      <td>19657800.0</td>\n",
       "      <td>141900.0</td>\n",
       "    </tr>\n",
       "    <tr>\n",
       "      <th>3</th>\n",
       "      <td>2013M01</td>\n",
       "      <td>Kerry</td>\n",
       "      <td>256200.0</td>\n",
       "      <td>0.0</td>\n",
       "    </tr>\n",
       "    <tr>\n",
       "      <th>4</th>\n",
       "      <td>2013M01</td>\n",
       "      <td>Knock</td>\n",
       "      <td>634800.0</td>\n",
       "      <td>0.0</td>\n",
       "    </tr>\n",
       "    <tr>\n",
       "      <th>5</th>\n",
       "      <td>2013M01</td>\n",
       "      <td>Shannon</td>\n",
       "      <td>1073100.0</td>\n",
       "      <td>20000.0</td>\n",
       "    </tr>\n",
       "    <tr>\n",
       "      <th>...</th>\n",
       "      <td>...</td>\n",
       "      <td>...</td>\n",
       "      <td>...</td>\n",
       "      <td>...</td>\n",
       "    </tr>\n",
       "    <tr>\n",
       "      <th>733</th>\n",
       "      <td>2023M03</td>\n",
       "      <td>Cork</td>\n",
       "      <td>3334400.0</td>\n",
       "      <td>0.0</td>\n",
       "    </tr>\n",
       "    <tr>\n",
       "      <th>734</th>\n",
       "      <td>2023M03</td>\n",
       "      <td>Dublin</td>\n",
       "      <td>40635100.0</td>\n",
       "      <td>179300.0</td>\n",
       "    </tr>\n",
       "    <tr>\n",
       "      <th>735</th>\n",
       "      <td>2023M03</td>\n",
       "      <td>Kerry</td>\n",
       "      <td>459800.0</td>\n",
       "      <td>0.0</td>\n",
       "    </tr>\n",
       "    <tr>\n",
       "      <th>736</th>\n",
       "      <td>2023M03</td>\n",
       "      <td>Knock</td>\n",
       "      <td>1004000.0</td>\n",
       "      <td>0.0</td>\n",
       "    </tr>\n",
       "    <tr>\n",
       "      <th>737</th>\n",
       "      <td>2023M03</td>\n",
       "      <td>Shannon</td>\n",
       "      <td>2190700.0</td>\n",
       "      <td>22900.0</td>\n",
       "    </tr>\n",
       "  </tbody>\n",
       "</table>\n",
       "<p>555 rows × 4 columns</p>\n",
       "</div>"
      ],
      "text/plain": [
       "       Month Airports in Ireland  Passengers   Freight\n",
       "1    2013M01                Cork   2461600.0     400.0\n",
       "2    2013M01              Dublin  19657800.0  141900.0\n",
       "3    2013M01               Kerry    256200.0       0.0\n",
       "4    2013M01               Knock    634800.0       0.0\n",
       "5    2013M01             Shannon   1073100.0   20000.0\n",
       "..       ...                 ...         ...       ...\n",
       "733  2023M03                Cork   3334400.0       0.0\n",
       "734  2023M03              Dublin  40635100.0  179300.0\n",
       "735  2023M03               Kerry    459800.0       0.0\n",
       "736  2023M03               Knock   1004000.0       0.0\n",
       "737  2023M03             Shannon   2190700.0   22900.0\n",
       "\n",
       "[555 rows x 4 columns]"
      ]
     },
     "execution_count": 146,
     "metadata": {},
     "output_type": "execute_result"
    }
   ],
   "source": [
    "import re\n",
    "# Define the pattern to exclude\n",
    "pattern_to_exclude = re.compile(r'^(201[3-8]|2019M(0[1-9]|1[0-2]))$')\n",
    "\n",
    "# Use the pattern to filter rows\n",
    "Ireland_gr_fil = Ireland_gr[~Ireland_gr['Month'].str.match(pattern_to_exclude)]\n",
    "\n",
    "# Display the result\n",
    "Ireland_gr_fil"
   ]
  },
  {
   "cell_type": "code",
   "execution_count": 12,
   "id": "29c3d10f",
   "metadata": {},
   "outputs": [
    {
     "name": "stdout",
     "output_type": "stream",
     "text": [
      "<class 'pandas.core.frame.DataFrame'>\n",
      "RangeIndex: 11151 entries, 0 to 11150\n",
      "Data columns (total 4 columns):\n",
      " #   Column                               Non-Null Count  Dtype \n",
      "---  ------                               --------------  ----- \n",
      " 0   Month                                11151 non-null  object\n",
      " 1   Reporting airport                    11151 non-null  object\n",
      " 2   Total Number of passengers           11151 non-null  int64 \n",
      " 3   Total Freight and mail total, tonne  11151 non-null  int64 \n",
      "dtypes: int64(2), object(2)\n",
      "memory usage: 348.6+ KB\n"
     ]
    }
   ],
   "source": [
    "columns_to_drop = [\"Type of flight\",\n",
    "    \"Arrival/departure\", \"Total Number of passengers, cumulative from the beginning of the year\",\n",
    "    \"Total Freight and mail, cumulative from the beginning of the year, tonnes\",\n",
    "    \"Helsinki-Vantaa Number of passengers\", \"Helsinki-Vantaa Freight and mail total, tonne\",\n",
    "    \"Helsinki-Vantaa Number of passengers, cumulative from the beginning of the year\",\n",
    "    \"Helsinki-Vantaa Freight and mail, cumulative from the beginning of the year, tonnes\",\n",
    "    \"Other domestic airports Number of passengers\",\n",
    "    \"Other domestic airports Freight and mail total, tonne\",\n",
    "    \"Other domestic airports Number of passengers, cumulative from the beginning of the year\",\n",
    "    \"Other domestic airports Number of passengers, cumulative from the beginning of the year\",\n",
    "    \"Other domestic airports Freight and mail, cumulative from the beginning of the year, tonnes\",\n",
    "    \"International Number of passengers\",\n",
    "    \"International Freight and mail total, tonne\",\n",
    "    \"International Number of passengers, cumulative from the beginning of the year\",\n",
    "    \"International Freight and mail, cumulative from the beginning of the year, tonnes\"\n",
    "]\n",
    "\n",
    "# Ensure column names exist in the DataFrame before dropping\n",
    "columns_to_drop = [col for col in columns_to_drop if col in Finland.columns]\n",
    "\n",
    "# Drop the specified columns\n",
    "Finland.drop(columns=columns_to_drop, axis=1, inplace=True)\n",
    "Finland.info()"
   ]
  },
  {
   "cell_type": "code",
   "execution_count": 13,
   "id": "479dddc0",
   "metadata": {},
   "outputs": [
    {
     "data": {
      "text/html": [
       "<div>\n",
       "<style scoped>\n",
       "    .dataframe tbody tr th:only-of-type {\n",
       "        vertical-align: middle;\n",
       "    }\n",
       "\n",
       "    .dataframe tbody tr th {\n",
       "        vertical-align: top;\n",
       "    }\n",
       "\n",
       "    .dataframe thead th {\n",
       "        text-align: right;\n",
       "    }\n",
       "</style>\n",
       "<table border=\"1\" class=\"dataframe\">\n",
       "  <thead>\n",
       "    <tr style=\"text-align: right;\">\n",
       "      <th></th>\n",
       "      <th>Month</th>\n",
       "      <th>Reporting airport</th>\n",
       "      <th>Total Number of passengers</th>\n",
       "      <th>Total Freight and mail total, tonne</th>\n",
       "    </tr>\n",
       "  </thead>\n",
       "  <tbody>\n",
       "    <tr>\n",
       "      <th>9</th>\n",
       "      <td>2019M01</td>\n",
       "      <td>Helsinki-Vantaa</td>\n",
       "      <td>1574950</td>\n",
       "      <td>15841</td>\n",
       "    </tr>\n",
       "    <tr>\n",
       "      <th>10</th>\n",
       "      <td>2019M01</td>\n",
       "      <td>Helsinki-Vantaa</td>\n",
       "      <td>798402</td>\n",
       "      <td>7322</td>\n",
       "    </tr>\n",
       "    <tr>\n",
       "      <th>11</th>\n",
       "      <td>2019M01</td>\n",
       "      <td>Helsinki-Vantaa</td>\n",
       "      <td>776548</td>\n",
       "      <td>8518</td>\n",
       "    </tr>\n",
       "    <tr>\n",
       "      <th>12</th>\n",
       "      <td>2019M01</td>\n",
       "      <td>Helsinki-Vantaa</td>\n",
       "      <td>1525370</td>\n",
       "      <td>14328</td>\n",
       "    </tr>\n",
       "    <tr>\n",
       "      <th>13</th>\n",
       "      <td>2019M01</td>\n",
       "      <td>Helsinki-Vantaa</td>\n",
       "      <td>774769</td>\n",
       "      <td>6509</td>\n",
       "    </tr>\n",
       "    <tr>\n",
       "      <th>...</th>\n",
       "      <td>...</td>\n",
       "      <td>...</td>\n",
       "      <td>...</td>\n",
       "      <td>...</td>\n",
       "    </tr>\n",
       "    <tr>\n",
       "      <th>11146</th>\n",
       "      <td>2023M11</td>\n",
       "      <td>Vaasa</td>\n",
       "      <td>5721</td>\n",
       "      <td>0</td>\n",
       "    </tr>\n",
       "    <tr>\n",
       "      <th>11147</th>\n",
       "      <td>2023M11</td>\n",
       "      <td>Vaasa</td>\n",
       "      <td>5784</td>\n",
       "      <td>0</td>\n",
       "    </tr>\n",
       "    <tr>\n",
       "      <th>11148</th>\n",
       "      <td>2023M11</td>\n",
       "      <td>Vaasa</td>\n",
       "      <td>2735</td>\n",
       "      <td>0</td>\n",
       "    </tr>\n",
       "    <tr>\n",
       "      <th>11149</th>\n",
       "      <td>2023M11</td>\n",
       "      <td>Vaasa</td>\n",
       "      <td>1358</td>\n",
       "      <td>0</td>\n",
       "    </tr>\n",
       "    <tr>\n",
       "      <th>11150</th>\n",
       "      <td>2023M11</td>\n",
       "      <td>Vaasa</td>\n",
       "      <td>1377</td>\n",
       "      <td>0</td>\n",
       "    </tr>\n",
       "  </tbody>\n",
       "</table>\n",
       "<p>10620 rows × 4 columns</p>\n",
       "</div>"
      ],
      "text/plain": [
       "         Month Reporting airport  Total Number of passengers  \\\n",
       "9      2019M01   Helsinki-Vantaa                     1574950   \n",
       "10     2019M01   Helsinki-Vantaa                      798402   \n",
       "11     2019M01   Helsinki-Vantaa                      776548   \n",
       "12     2019M01   Helsinki-Vantaa                     1525370   \n",
       "13     2019M01   Helsinki-Vantaa                      774769   \n",
       "...        ...               ...                         ...   \n",
       "11146  2023M11             Vaasa                        5721   \n",
       "11147  2023M11             Vaasa                        5784   \n",
       "11148  2023M11             Vaasa                        2735   \n",
       "11149  2023M11             Vaasa                        1358   \n",
       "11150  2023M11             Vaasa                        1377   \n",
       "\n",
       "       Total Freight and mail total, tonne  \n",
       "9                                    15841  \n",
       "10                                    7322  \n",
       "11                                    8518  \n",
       "12                                   14328  \n",
       "13                                    6509  \n",
       "...                                    ...  \n",
       "11146                                    0  \n",
       "11147                                    0  \n",
       "11148                                    0  \n",
       "11149                                    0  \n",
       "11150                                    0  \n",
       "\n",
       "[10620 rows x 4 columns]"
      ]
     },
     "execution_count": 13,
     "metadata": {},
     "output_type": "execute_result"
    }
   ],
   "source": [
    "Finland = Finland[Finland['Reporting airport'] != 'Total']\n",
    "Finland"
   ]
  },
  {
   "cell_type": "code",
   "execution_count": 14,
   "id": "38a6aede",
   "metadata": {},
   "outputs": [],
   "source": [
    "Finland.rename(columns={\"Reporting airport\": \"Airports in Finland\", \"Total Number of passengers\":\"Passengers Finland\",\"Total Freight and mail total, tonne\":\"Freight Finland\" }, inplace=True)"
   ]
  },
  {
   "cell_type": "code",
   "execution_count": 15,
   "id": "0de3e9e3",
   "metadata": {},
   "outputs": [],
   "source": [
    "Finland_gr=Finland.groupby(['Month', 'Airports in Finland']).agg({'Passengers Finland': 'sum', 'Freight Finland': 'sum'}).reset_index()"
   ]
  },
  {
   "cell_type": "code",
   "execution_count": 16,
   "id": "a646ed26",
   "metadata": {},
   "outputs": [
    {
     "data": {
      "text/html": [
       "<div>\n",
       "<style scoped>\n",
       "    .dataframe tbody tr th:only-of-type {\n",
       "        vertical-align: middle;\n",
       "    }\n",
       "\n",
       "    .dataframe tbody tr th {\n",
       "        vertical-align: top;\n",
       "    }\n",
       "\n",
       "    .dataframe thead th {\n",
       "        text-align: right;\n",
       "    }\n",
       "</style>\n",
       "<table border=\"1\" class=\"dataframe\">\n",
       "  <thead>\n",
       "    <tr style=\"text-align: right;\">\n",
       "      <th></th>\n",
       "      <th>Month</th>\n",
       "      <th>Airports in Finland</th>\n",
       "      <th>Passengers Finland</th>\n",
       "      <th>Freight Finland</th>\n",
       "    </tr>\n",
       "  </thead>\n",
       "  <tbody>\n",
       "    <tr>\n",
       "      <th>0</th>\n",
       "      <td>2019M01</td>\n",
       "      <td>Enontekiö</td>\n",
       "      <td>7076</td>\n",
       "      <td>0</td>\n",
       "    </tr>\n",
       "    <tr>\n",
       "      <th>1</th>\n",
       "      <td>2019M01</td>\n",
       "      <td>Helsinki-Vantaa</td>\n",
       "      <td>6299800</td>\n",
       "      <td>63361</td>\n",
       "    </tr>\n",
       "    <tr>\n",
       "      <th>2</th>\n",
       "      <td>2019M01</td>\n",
       "      <td>Ivalo</td>\n",
       "      <td>136644</td>\n",
       "      <td>0</td>\n",
       "    </tr>\n",
       "    <tr>\n",
       "      <th>3</th>\n",
       "      <td>2019M01</td>\n",
       "      <td>Joensuu</td>\n",
       "      <td>35368</td>\n",
       "      <td>8</td>\n",
       "    </tr>\n",
       "    <tr>\n",
       "      <th>4</th>\n",
       "      <td>2019M01</td>\n",
       "      <td>Jyväskylä</td>\n",
       "      <td>17200</td>\n",
       "      <td>4</td>\n",
       "    </tr>\n",
       "  </tbody>\n",
       "</table>\n",
       "</div>"
      ],
      "text/plain": [
       "     Month Airports in Finland  Passengers Finland  Freight Finland\n",
       "0  2019M01           Enontekiö                7076                0\n",
       "1  2019M01     Helsinki-Vantaa             6299800            63361\n",
       "2  2019M01               Ivalo              136644                0\n",
       "3  2019M01             Joensuu               35368                8\n",
       "4  2019M01           Jyväskylä               17200                4"
      ]
     },
     "execution_count": 16,
     "metadata": {},
     "output_type": "execute_result"
    }
   ],
   "source": [
    "Finland_gr.head()"
   ]
  },
  {
   "cell_type": "code",
   "execution_count": 17,
   "id": "750b2c01",
   "metadata": {},
   "outputs": [
    {
     "data": {
      "text/html": [
       "<div>\n",
       "<style scoped>\n",
       "    .dataframe tbody tr th:only-of-type {\n",
       "        vertical-align: middle;\n",
       "    }\n",
       "\n",
       "    .dataframe tbody tr th {\n",
       "        vertical-align: top;\n",
       "    }\n",
       "\n",
       "    .dataframe thead th {\n",
       "        text-align: right;\n",
       "    }\n",
       "</style>\n",
       "<table border=\"1\" class=\"dataframe\">\n",
       "  <thead>\n",
       "    <tr style=\"text-align: right;\">\n",
       "      <th></th>\n",
       "      <th>Month</th>\n",
       "      <th>Airports in Finland</th>\n",
       "      <th>Passengers Finland</th>\n",
       "      <th>Freight Finland</th>\n",
       "    </tr>\n",
       "  </thead>\n",
       "  <tbody>\n",
       "    <tr>\n",
       "      <th>0</th>\n",
       "      <td>2019M01</td>\n",
       "      <td>Enontekiö</td>\n",
       "      <td>7076</td>\n",
       "      <td>0</td>\n",
       "    </tr>\n",
       "    <tr>\n",
       "      <th>1</th>\n",
       "      <td>2019M01</td>\n",
       "      <td>Helsinki-Vantaa</td>\n",
       "      <td>6299800</td>\n",
       "      <td>63361</td>\n",
       "    </tr>\n",
       "    <tr>\n",
       "      <th>2</th>\n",
       "      <td>2019M01</td>\n",
       "      <td>Ivalo</td>\n",
       "      <td>136644</td>\n",
       "      <td>0</td>\n",
       "    </tr>\n",
       "    <tr>\n",
       "      <th>3</th>\n",
       "      <td>2019M01</td>\n",
       "      <td>Joensuu</td>\n",
       "      <td>35368</td>\n",
       "      <td>8</td>\n",
       "    </tr>\n",
       "    <tr>\n",
       "      <th>4</th>\n",
       "      <td>2019M01</td>\n",
       "      <td>Jyväskylä</td>\n",
       "      <td>17200</td>\n",
       "      <td>4</td>\n",
       "    </tr>\n",
       "    <tr>\n",
       "      <th>...</th>\n",
       "      <td>...</td>\n",
       "      <td>...</td>\n",
       "      <td>...</td>\n",
       "      <td>...</td>\n",
       "    </tr>\n",
       "    <tr>\n",
       "      <th>1015</th>\n",
       "      <td>2023M03</td>\n",
       "      <td>Rovaniemi</td>\n",
       "      <td>326800</td>\n",
       "      <td>24</td>\n",
       "    </tr>\n",
       "    <tr>\n",
       "      <th>1016</th>\n",
       "      <td>2023M03</td>\n",
       "      <td>Savonlinna</td>\n",
       "      <td>624</td>\n",
       "      <td>0</td>\n",
       "    </tr>\n",
       "    <tr>\n",
       "      <th>1017</th>\n",
       "      <td>2023M03</td>\n",
       "      <td>Tampere-Pirkkala</td>\n",
       "      <td>60796</td>\n",
       "      <td>56</td>\n",
       "    </tr>\n",
       "    <tr>\n",
       "      <th>1018</th>\n",
       "      <td>2023M03</td>\n",
       "      <td>Turku</td>\n",
       "      <td>76452</td>\n",
       "      <td>1576</td>\n",
       "    </tr>\n",
       "    <tr>\n",
       "      <th>1019</th>\n",
       "      <td>2023M03</td>\n",
       "      <td>Vaasa</td>\n",
       "      <td>47532</td>\n",
       "      <td>0</td>\n",
       "    </tr>\n",
       "  </tbody>\n",
       "</table>\n",
       "<p>1020 rows × 4 columns</p>\n",
       "</div>"
      ],
      "text/plain": [
       "        Month Airports in Finland  Passengers Finland  Freight Finland\n",
       "0     2019M01           Enontekiö                7076                0\n",
       "1     2019M01     Helsinki-Vantaa             6299800            63361\n",
       "2     2019M01               Ivalo              136644                0\n",
       "3     2019M01             Joensuu               35368                8\n",
       "4     2019M01           Jyväskylä               17200                4\n",
       "...       ...                 ...                 ...              ...\n",
       "1015  2023M03           Rovaniemi              326800               24\n",
       "1016  2023M03          Savonlinna                 624                0\n",
       "1017  2023M03    Tampere-Pirkkala               60796               56\n",
       "1018  2023M03               Turku               76452             1576\n",
       "1019  2023M03               Vaasa               47532                0\n",
       "\n",
       "[1020 rows x 4 columns]"
      ]
     },
     "execution_count": 17,
     "metadata": {},
     "output_type": "execute_result"
    }
   ],
   "source": [
    "#Drop totals from the dataset\n",
    "# Define the pattern to exclude\n",
    "pattern_to_exclude = re.compile(r'^2023M(0[4-9]|1[0-1])$')\n",
    "\n",
    "# Use the pattern to filter rows\n",
    "Finland_gr_fil = Finland_gr[~Finland_gr['Month'].str.match(pattern_to_exclude)]\n",
    "\n",
    "# Display the result\n",
    "Finland_gr_fil"
   ]
  },
  {
   "cell_type": "code",
   "execution_count": 37,
   "id": "ce9abee7",
   "metadata": {},
   "outputs": [
    {
     "data": {
      "text/html": [
       "<div>\n",
       "<style scoped>\n",
       "    .dataframe tbody tr th:only-of-type {\n",
       "        vertical-align: middle;\n",
       "    }\n",
       "\n",
       "    .dataframe tbody tr th {\n",
       "        vertical-align: top;\n",
       "    }\n",
       "\n",
       "    .dataframe thead th {\n",
       "        text-align: right;\n",
       "    }\n",
       "</style>\n",
       "<table border=\"1\" class=\"dataframe\">\n",
       "  <thead>\n",
       "    <tr style=\"text-align: right;\">\n",
       "      <th></th>\n",
       "      <th>Month</th>\n",
       "      <th>Passengers Finland</th>\n",
       "    </tr>\n",
       "  </thead>\n",
       "  <tbody>\n",
       "    <tr>\n",
       "      <th>0</th>\n",
       "      <td>2019M01</td>\n",
       "      <td>6299800</td>\n",
       "    </tr>\n",
       "    <tr>\n",
       "      <th>1</th>\n",
       "      <td>2019M02</td>\n",
       "      <td>6158928</td>\n",
       "    </tr>\n",
       "    <tr>\n",
       "      <th>2</th>\n",
       "      <td>2019M03</td>\n",
       "      <td>7031408</td>\n",
       "    </tr>\n",
       "    <tr>\n",
       "      <th>3</th>\n",
       "      <td>2019M04</td>\n",
       "      <td>7231532</td>\n",
       "    </tr>\n",
       "    <tr>\n",
       "      <th>4</th>\n",
       "      <td>2019M05</td>\n",
       "      <td>7782008</td>\n",
       "    </tr>\n",
       "  </tbody>\n",
       "</table>\n",
       "</div>"
      ],
      "text/plain": [
       "     Month  Passengers Finland\n",
       "0  2019M01             6299800\n",
       "1  2019M02             6158928\n",
       "2  2019M03             7031408\n",
       "3  2019M04             7231532\n",
       "4  2019M05             7782008"
      ]
     },
     "execution_count": 37,
     "metadata": {},
     "output_type": "execute_result"
    }
   ],
   "source": [
    "#Create two dataset for Finland, grouping Passengers and Freight in the capital and province\n",
    "\n",
    "# Create passenger and freight  dataset for Finland  capital\n",
    "# Filter on \"Helsinki-Vantaa\" airport\n",
    "df_Helsinki_Pass = Finland_gr_fil[Finland_gr_fil['Airports in Finland'] == 'Helsinki-Vantaa']\n",
    "\n",
    "# Group by Month and sum the values in Passengers Finland\n",
    "df_Helsinki_Pass = df_Helsinki_Pass.groupby('Month')['Passengers Finland'].sum().reset_index()\n",
    "\n",
    "# Print\n",
    "df_Helsinki_Pass.head()"
   ]
  },
  {
   "cell_type": "code",
   "execution_count": 40,
   "id": "1f4bde1c",
   "metadata": {},
   "outputs": [
    {
     "data": {
      "text/html": [
       "<div>\n",
       "<style scoped>\n",
       "    .dataframe tbody tr th:only-of-type {\n",
       "        vertical-align: middle;\n",
       "    }\n",
       "\n",
       "    .dataframe tbody tr th {\n",
       "        vertical-align: top;\n",
       "    }\n",
       "\n",
       "    .dataframe thead th {\n",
       "        text-align: right;\n",
       "    }\n",
       "</style>\n",
       "<table border=\"1\" class=\"dataframe\">\n",
       "  <thead>\n",
       "    <tr style=\"text-align: right;\">\n",
       "      <th></th>\n",
       "      <th>Month</th>\n",
       "      <th>Freight Finland</th>\n",
       "    </tr>\n",
       "  </thead>\n",
       "  <tbody>\n",
       "    <tr>\n",
       "      <th>0</th>\n",
       "      <td>2019M01</td>\n",
       "      <td>63361</td>\n",
       "    </tr>\n",
       "    <tr>\n",
       "      <th>1</th>\n",
       "      <td>2019M02</td>\n",
       "      <td>58079</td>\n",
       "    </tr>\n",
       "    <tr>\n",
       "      <th>2</th>\n",
       "      <td>2019M03</td>\n",
       "      <td>72316</td>\n",
       "    </tr>\n",
       "    <tr>\n",
       "      <th>3</th>\n",
       "      <td>2019M04</td>\n",
       "      <td>72131</td>\n",
       "    </tr>\n",
       "    <tr>\n",
       "      <th>4</th>\n",
       "      <td>2019M05</td>\n",
       "      <td>78331</td>\n",
       "    </tr>\n",
       "  </tbody>\n",
       "</table>\n",
       "</div>"
      ],
      "text/plain": [
       "     Month  Freight Finland\n",
       "0  2019M01            63361\n",
       "1  2019M02            58079\n",
       "2  2019M03            72316\n",
       "3  2019M04            72131\n",
       "4  2019M05            78331"
      ]
     },
     "execution_count": 40,
     "metadata": {},
     "output_type": "execute_result"
    }
   ],
   "source": [
    "\n",
    "# Create  freight  dataset for Finland  capital\n",
    "# Filter on \"Helsinki-Vantaa\" airport\n",
    "df_Helsinki_Freight = Finland_gr_fil[Finland_gr_fil['Airports in Finland'] == 'Helsinki-Vantaa']\n",
    "\n",
    "# Group by Month and sum the values in Passengers Finland\n",
    "df_Helsinki_Freight = df_Helsinki_Freight.groupby('Month')['Freight Finland'].sum().reset_index()\n",
    "\n",
    "# Print \n",
    "df_Helsinki_Freight.head()"
   ]
  },
  {
   "cell_type": "code",
   "execution_count": 34,
   "id": "027519f4",
   "metadata": {},
   "outputs": [],
   "source": [
    "#Combine freight and passengers dataset for Helsinki\n",
    "merged_data_Helsinki = pd.merge(df_Helsinki_Freight, df_Helsinki_Pass, on=[\"Month\"], how=\"right\")\n",
    "# Rename 'Freight Finland' to Freight Helsinki\n",
    "merged_data_Helsinki.rename(columns={'Freight Finland': 'Freight Helsinki'}, inplace=True)\n",
    "# Rename 'Passengers Finland' to Passenger Helsinki\n",
    "merged_data_Helsinki.rename(columns={'Passengers Finland': 'Passengers Helsinki'}, inplace=True)\n",
    "#  Reset the index and drop the default index column\n",
    "merged_data_Helsinki = merged_data_Helsinki.reset_index(drop=True)\n"
   ]
  },
  {
   "cell_type": "code",
   "execution_count": 35,
   "id": "483e013e",
   "metadata": {},
   "outputs": [
    {
     "data": {
      "text/html": [
       "<div>\n",
       "<style scoped>\n",
       "    .dataframe tbody tr th:only-of-type {\n",
       "        vertical-align: middle;\n",
       "    }\n",
       "\n",
       "    .dataframe tbody tr th {\n",
       "        vertical-align: top;\n",
       "    }\n",
       "\n",
       "    .dataframe thead th {\n",
       "        text-align: right;\n",
       "    }\n",
       "</style>\n",
       "<table border=\"1\" class=\"dataframe\">\n",
       "  <thead>\n",
       "    <tr style=\"text-align: right;\">\n",
       "      <th></th>\n",
       "      <th>Month</th>\n",
       "      <th>Freight Helsinki</th>\n",
       "      <th>Passengers Helsinki</th>\n",
       "    </tr>\n",
       "  </thead>\n",
       "  <tbody>\n",
       "    <tr>\n",
       "      <th>0</th>\n",
       "      <td>2019M01</td>\n",
       "      <td>63361</td>\n",
       "      <td>6299800</td>\n",
       "    </tr>\n",
       "    <tr>\n",
       "      <th>1</th>\n",
       "      <td>2019M02</td>\n",
       "      <td>58079</td>\n",
       "      <td>6158928</td>\n",
       "    </tr>\n",
       "    <tr>\n",
       "      <th>2</th>\n",
       "      <td>2019M03</td>\n",
       "      <td>72316</td>\n",
       "      <td>7031408</td>\n",
       "    </tr>\n",
       "    <tr>\n",
       "      <th>3</th>\n",
       "      <td>2019M04</td>\n",
       "      <td>72131</td>\n",
       "      <td>7231532</td>\n",
       "    </tr>\n",
       "    <tr>\n",
       "      <th>4</th>\n",
       "      <td>2019M05</td>\n",
       "      <td>78331</td>\n",
       "      <td>7782008</td>\n",
       "    </tr>\n",
       "  </tbody>\n",
       "</table>\n",
       "</div>"
      ],
      "text/plain": [
       "     Month  Freight Helsinki  Passengers Helsinki\n",
       "0  2019M01             63361              6299800\n",
       "1  2019M02             58079              6158928\n",
       "2  2019M03             72316              7031408\n",
       "3  2019M04             72131              7231532\n",
       "4  2019M05             78331              7782008"
      ]
     },
     "execution_count": 35,
     "metadata": {},
     "output_type": "execute_result"
    }
   ],
   "source": [
    "merged_data_Helsinki.head()"
   ]
  },
  {
   "cell_type": "code",
   "execution_count": 43,
   "id": "1fc34d8d",
   "metadata": {},
   "outputs": [
    {
     "data": {
      "text/html": [
       "<div>\n",
       "<style scoped>\n",
       "    .dataframe tbody tr th:only-of-type {\n",
       "        vertical-align: middle;\n",
       "    }\n",
       "\n",
       "    .dataframe tbody tr th {\n",
       "        vertical-align: top;\n",
       "    }\n",
       "\n",
       "    .dataframe thead th {\n",
       "        text-align: right;\n",
       "    }\n",
       "</style>\n",
       "<table border=\"1\" class=\"dataframe\">\n",
       "  <thead>\n",
       "    <tr style=\"text-align: right;\">\n",
       "      <th></th>\n",
       "      <th>Month</th>\n",
       "      <th>Passengers</th>\n",
       "    </tr>\n",
       "  </thead>\n",
       "  <tbody>\n",
       "    <tr>\n",
       "      <th>0</th>\n",
       "      <td>2013M01</td>\n",
       "      <td>19657800.0</td>\n",
       "    </tr>\n",
       "    <tr>\n",
       "      <th>1</th>\n",
       "      <td>2013M02</td>\n",
       "      <td>20100200.0</td>\n",
       "    </tr>\n",
       "    <tr>\n",
       "      <th>2</th>\n",
       "      <td>2013M03</td>\n",
       "      <td>26334900.0</td>\n",
       "    </tr>\n",
       "    <tr>\n",
       "      <th>3</th>\n",
       "      <td>2013M04</td>\n",
       "      <td>27151000.0</td>\n",
       "    </tr>\n",
       "    <tr>\n",
       "      <th>4</th>\n",
       "      <td>2013M05</td>\n",
       "      <td>30912800.0</td>\n",
       "    </tr>\n",
       "  </tbody>\n",
       "</table>\n",
       "</div>"
      ],
      "text/plain": [
       "     Month  Passengers\n",
       "0  2013M01  19657800.0\n",
       "1  2013M02  20100200.0\n",
       "2  2013M03  26334900.0\n",
       "3  2013M04  27151000.0\n",
       "4  2013M05  30912800.0"
      ]
     },
     "execution_count": 43,
     "metadata": {},
     "output_type": "execute_result"
    }
   ],
   "source": [
    "#Create two dataset for Ireland, grouping Passengers and Freight in the capital and province\n",
    "\n",
    "# Create passenger and freight  dataset for Finland  capital\n",
    "# Filter on \"Helsinki-Vantaa\" airport\n",
    "df_Dublin_Pass = Ireland_gr_fil[Ireland_gr_fil['Airports in Ireland'] == 'Dublin']\n",
    "\n",
    "# Group by Month and sum the values in Passengers Finland\n",
    "df_Dublin_Pass = df_Dublin_Pass.groupby('Month')['Passengers'].sum().reset_index()\n",
    "\n",
    "# Print\n",
    "df_Dublin_Pass.head()"
   ]
  },
  {
   "cell_type": "code",
   "execution_count": 44,
   "id": "c02bfa3f",
   "metadata": {},
   "outputs": [
    {
     "data": {
      "text/html": [
       "<div>\n",
       "<style scoped>\n",
       "    .dataframe tbody tr th:only-of-type {\n",
       "        vertical-align: middle;\n",
       "    }\n",
       "\n",
       "    .dataframe tbody tr th {\n",
       "        vertical-align: top;\n",
       "    }\n",
       "\n",
       "    .dataframe thead th {\n",
       "        text-align: right;\n",
       "    }\n",
       "</style>\n",
       "<table border=\"1\" class=\"dataframe\">\n",
       "  <thead>\n",
       "    <tr style=\"text-align: right;\">\n",
       "      <th></th>\n",
       "      <th>Month</th>\n",
       "      <th>Freight</th>\n",
       "    </tr>\n",
       "  </thead>\n",
       "  <tbody>\n",
       "    <tr>\n",
       "      <th>0</th>\n",
       "      <td>2013M01</td>\n",
       "      <td>141900.0</td>\n",
       "    </tr>\n",
       "    <tr>\n",
       "      <th>1</th>\n",
       "      <td>2013M02</td>\n",
       "      <td>134300.0</td>\n",
       "    </tr>\n",
       "    <tr>\n",
       "      <th>2</th>\n",
       "      <td>2013M03</td>\n",
       "      <td>142400.0</td>\n",
       "    </tr>\n",
       "    <tr>\n",
       "      <th>3</th>\n",
       "      <td>2013M04</td>\n",
       "      <td>134200.0</td>\n",
       "    </tr>\n",
       "    <tr>\n",
       "      <th>4</th>\n",
       "      <td>2013M05</td>\n",
       "      <td>141600.0</td>\n",
       "    </tr>\n",
       "  </tbody>\n",
       "</table>\n",
       "</div>"
      ],
      "text/plain": [
       "     Month   Freight\n",
       "0  2013M01  141900.0\n",
       "1  2013M02  134300.0\n",
       "2  2013M03  142400.0\n",
       "3  2013M04  134200.0\n",
       "4  2013M05  141600.0"
      ]
     },
     "execution_count": 44,
     "metadata": {},
     "output_type": "execute_result"
    }
   ],
   "source": [
    "# Create  freight  dataset for Ireland's capital\n",
    "# Filter on \"Dublin\" airport\n",
    "df_Dublin_Freight = Ireland_gr_fil[Ireland_gr_fil['Airports in Ireland'] == 'Dublin']\n",
    "\n",
    "# Group by Month and sum the values in Passengers Finland\n",
    "df_Dublin_Freight = df_Dublin_Freight.groupby('Month')['Freight'].sum().reset_index()\n",
    "\n",
    "# Print \n",
    "df_Dublin_Freight.head()"
   ]
  },
  {
   "cell_type": "code",
   "execution_count": 99,
   "id": "88c88af7",
   "metadata": {},
   "outputs": [
    {
     "data": {
      "text/html": [
       "<div>\n",
       "<style scoped>\n",
       "    .dataframe tbody tr th:only-of-type {\n",
       "        vertical-align: middle;\n",
       "    }\n",
       "\n",
       "    .dataframe tbody tr th {\n",
       "        vertical-align: top;\n",
       "    }\n",
       "\n",
       "    .dataframe thead th {\n",
       "        text-align: right;\n",
       "    }\n",
       "</style>\n",
       "<table border=\"1\" class=\"dataframe\">\n",
       "  <thead>\n",
       "    <tr style=\"text-align: right;\">\n",
       "      <th></th>\n",
       "      <th>Month</th>\n",
       "      <th>Freight Dublin</th>\n",
       "      <th>Passengers Dublin</th>\n",
       "    </tr>\n",
       "  </thead>\n",
       "  <tbody>\n",
       "    <tr>\n",
       "      <th>0</th>\n",
       "      <td>2013M01</td>\n",
       "      <td>141900.0</td>\n",
       "      <td>19657800.0</td>\n",
       "    </tr>\n",
       "    <tr>\n",
       "      <th>1</th>\n",
       "      <td>2013M02</td>\n",
       "      <td>134300.0</td>\n",
       "      <td>20100200.0</td>\n",
       "    </tr>\n",
       "    <tr>\n",
       "      <th>2</th>\n",
       "      <td>2013M03</td>\n",
       "      <td>142400.0</td>\n",
       "      <td>26334900.0</td>\n",
       "    </tr>\n",
       "    <tr>\n",
       "      <th>3</th>\n",
       "      <td>2013M04</td>\n",
       "      <td>134200.0</td>\n",
       "      <td>27151000.0</td>\n",
       "    </tr>\n",
       "    <tr>\n",
       "      <th>4</th>\n",
       "      <td>2013M05</td>\n",
       "      <td>141600.0</td>\n",
       "      <td>30912800.0</td>\n",
       "    </tr>\n",
       "  </tbody>\n",
       "</table>\n",
       "</div>"
      ],
      "text/plain": [
       "     Month  Freight Dublin  Passengers Dublin\n",
       "0  2013M01        141900.0         19657800.0\n",
       "1  2013M02        134300.0         20100200.0\n",
       "2  2013M03        142400.0         26334900.0\n",
       "3  2013M04        134200.0         27151000.0\n",
       "4  2013M05        141600.0         30912800.0"
      ]
     },
     "execution_count": 99,
     "metadata": {},
     "output_type": "execute_result"
    }
   ],
   "source": [
    "#Combine freight and passengers dataset for Dublin\n",
    "merged_data_Dublin = pd.merge(df_Dublin_Freight, df_Dublin_Pass, on=[\"Month\"], how=\"inner\")\n",
    "# Rename 'Freight Finland' to Freight Helsinki\n",
    "merged_data_Dublin.rename(columns={'Freight': 'Freight Dublin'}, inplace=True)\n",
    "# Rename 'Passengers Finland' to Passenger Helsinki\n",
    "merged_data_Dublin.rename(columns={'Passengers': 'Passengers Dublin'}, inplace=True)\n",
    "#  Reset the index and drop the default index column\n",
    "merged_data_Dublin = merged_data_Dublin.reset_index(drop=True)\n",
    "merged_data_Dublin.head()"
   ]
  },
  {
   "cell_type": "code",
   "execution_count": 89,
   "id": "cda8de6f",
   "metadata": {},
   "outputs": [
    {
     "data": {
      "text/html": [
       "<div>\n",
       "<style scoped>\n",
       "    .dataframe tbody tr th:only-of-type {\n",
       "        vertical-align: middle;\n",
       "    }\n",
       "\n",
       "    .dataframe tbody tr th {\n",
       "        vertical-align: top;\n",
       "    }\n",
       "\n",
       "    .dataframe thead th {\n",
       "        text-align: right;\n",
       "    }\n",
       "</style>\n",
       "<table border=\"1\" class=\"dataframe\">\n",
       "  <thead>\n",
       "    <tr style=\"text-align: right;\">\n",
       "      <th></th>\n",
       "      <th>Month</th>\n",
       "      <th>Freight Dublin</th>\n",
       "      <th>Passengers Dublin</th>\n",
       "      <th>Freight Helsinki</th>\n",
       "      <th>Passengers Helsinki</th>\n",
       "    </tr>\n",
       "  </thead>\n",
       "  <tbody>\n",
       "    <tr>\n",
       "      <th>0</th>\n",
       "      <td>2020M01</td>\n",
       "      <td>169200.0</td>\n",
       "      <td>34921200.0</td>\n",
       "      <td>66509</td>\n",
       "      <td>6467108</td>\n",
       "    </tr>\n",
       "    <tr>\n",
       "      <th>1</th>\n",
       "      <td>2020M02</td>\n",
       "      <td>161800.0</td>\n",
       "      <td>34365900.0</td>\n",
       "      <td>59276</td>\n",
       "      <td>6026528</td>\n",
       "    </tr>\n",
       "    <tr>\n",
       "      <th>2</th>\n",
       "      <td>2020M03</td>\n",
       "      <td>164000.0</td>\n",
       "      <td>17109000.0</td>\n",
       "      <td>54947</td>\n",
       "      <td>3002136</td>\n",
       "    </tr>\n",
       "    <tr>\n",
       "      <th>3</th>\n",
       "      <td>2020M04</td>\n",
       "      <td>119200.0</td>\n",
       "      <td>395700.0</td>\n",
       "      <td>30088</td>\n",
       "      <td>85752</td>\n",
       "    </tr>\n",
       "    <tr>\n",
       "      <th>4</th>\n",
       "      <td>2020M05</td>\n",
       "      <td>149000.0</td>\n",
       "      <td>713900.0</td>\n",
       "      <td>40652</td>\n",
       "      <td>146748</td>\n",
       "    </tr>\n",
       "  </tbody>\n",
       "</table>\n",
       "</div>"
      ],
      "text/plain": [
       "     Month  Freight Dublin  Passengers Dublin  Freight Helsinki  \\\n",
       "0  2020M01        169200.0         34921200.0             66509   \n",
       "1  2020M02        161800.0         34365900.0             59276   \n",
       "2  2020M03        164000.0         17109000.0             54947   \n",
       "3  2020M04        119200.0           395700.0             30088   \n",
       "4  2020M05        149000.0           713900.0             40652   \n",
       "\n",
       "   Passengers Helsinki  \n",
       "0              6467108  \n",
       "1              6026528  \n",
       "2              3002136  \n",
       "3                85752  \n",
       "4               146748  "
      ]
     },
     "execution_count": 89,
     "metadata": {},
     "output_type": "execute_result"
    }
   ],
   "source": [
    "# Merge data for Finland and Ireland capital\n",
    "merged_data_Capital=pd.merge(merged_data_Dublin,merged_data_Helsinki,on=[\"Month\"], how=\"inner\") \n",
    "merged_data_Capital.head()"
   ]
  },
  {
   "cell_type": "code",
   "execution_count": 73,
   "id": "6a4ff80b",
   "metadata": {},
   "outputs": [
    {
     "name": "stdout",
     "output_type": "stream",
     "text": [
      "    Country      Time     Value\n",
      "0   Ireland  Jan-2020  0.182677\n",
      "1   Ireland  Feb-2020  0.202604\n",
      "2   Ireland  Mar-2020 -0.283073\n",
      "3   Ireland  Apr-2020 -1.710016\n",
      "4   Ireland  May-2020  0.378210\n",
      "..      ...       ...       ...\n",
      "79  Finland  Jul-2023 -0.016982\n",
      "80  Finland  Aug-2023  0.118892\n",
      "81  Finland  Sep-2023 -0.610718\n",
      "82  Finland  Oct-2023 -0.102412\n",
      "83  Finland  Nov-2023  0.051258\n",
      "\n",
      "[84 rows x 3 columns]\n"
     ]
    }
   ],
   "source": [
    "# Read the 'CS.csv' dataset and keep only specified columns\n",
    "Consumer = pd.read_csv('CS.csv', usecols=['Country', 'Time', 'Value'])\n",
    "\n",
    "# Display the DataFrame\n",
    "print(Consumer)"
   ]
  },
  {
   "cell_type": "code",
   "execution_count": 108,
   "id": "9502f2e1",
   "metadata": {},
   "outputs": [
    {
     "name": "stdout",
     "output_type": "stream",
     "text": [
      "    Country     Time     Value\n",
      "0   Ireland  2020M01  0.182677\n",
      "1   Ireland  2020M02  0.202604\n",
      "2   Ireland  2020M03 -0.283073\n",
      "3   Ireland  2020M04 -1.710016\n",
      "4   Ireland  2020M05  0.378210\n",
      "..      ...      ...       ...\n",
      "79  Finland  2023M07 -0.016982\n",
      "80  Finland  2023M08  0.118892\n",
      "81  Finland  2023M09 -0.610718\n",
      "82  Finland  2023M10 -0.102412\n",
      "83  Finland  2023M11  0.051258\n",
      "\n",
      "[84 rows x 3 columns]\n"
     ]
    }
   ],
   "source": [
    "\n",
    "# Convert 'Time' column to datetime\n",
    "Consumer['Time'] = pd.to_datetime(Consumer['Time'], format='%b-%Y')\n",
    "\n",
    "# Format 'Time' column as \"2020M01\" and convert to object\n",
    "Consumer['Time'] = Consumer['Time'].dt.strftime('%YM%m').astype(str)\n",
    "\n",
    "# Display the updated DataFrame\n",
    "print(Consumer)"
   ]
  },
  {
   "cell_type": "code",
   "execution_count": 109,
   "id": "5c5cd4c6",
   "metadata": {},
   "outputs": [
    {
     "name": "stdout",
     "output_type": "stream",
     "text": [
      "Country     object\n",
      "Time        object\n",
      "Value      float64\n",
      "dtype: object\n"
     ]
    }
   ],
   "source": [
    "print(Consumer.dtypes)"
   ]
  },
  {
   "cell_type": "code",
   "execution_count": 116,
   "id": "5ccbcf4f",
   "metadata": {},
   "outputs": [
    {
     "data": {
      "text/html": [
       "<div>\n",
       "<style scoped>\n",
       "    .dataframe tbody tr th:only-of-type {\n",
       "        vertical-align: middle;\n",
       "    }\n",
       "\n",
       "    .dataframe tbody tr th {\n",
       "        vertical-align: top;\n",
       "    }\n",
       "\n",
       "    .dataframe thead th {\n",
       "        text-align: right;\n",
       "    }\n",
       "</style>\n",
       "<table border=\"1\" class=\"dataframe\">\n",
       "  <thead>\n",
       "    <tr style=\"text-align: right;\">\n",
       "      <th></th>\n",
       "      <th>Month</th>\n",
       "      <th>Freight Dublin</th>\n",
       "      <th>Passengers Dublin</th>\n",
       "      <th>Freight Helsinki</th>\n",
       "      <th>Passengers Helsinki</th>\n",
       "      <th>Ireland Index</th>\n",
       "      <th>Finland Index</th>\n",
       "    </tr>\n",
       "  </thead>\n",
       "  <tbody>\n",
       "    <tr>\n",
       "      <th>0</th>\n",
       "      <td>2020M01</td>\n",
       "      <td>338400.0</td>\n",
       "      <td>69842400.0</td>\n",
       "      <td>133018</td>\n",
       "      <td>12934216</td>\n",
       "      <td>0.182677</td>\n",
       "      <td>0.050559</td>\n",
       "    </tr>\n",
       "    <tr>\n",
       "      <th>1</th>\n",
       "      <td>2020M02</td>\n",
       "      <td>323600.0</td>\n",
       "      <td>68731800.0</td>\n",
       "      <td>118552</td>\n",
       "      <td>12053056</td>\n",
       "      <td>0.202604</td>\n",
       "      <td>-0.117911</td>\n",
       "    </tr>\n",
       "    <tr>\n",
       "      <th>2</th>\n",
       "      <td>2020M03</td>\n",
       "      <td>328000.0</td>\n",
       "      <td>34218000.0</td>\n",
       "      <td>109894</td>\n",
       "      <td>6004272</td>\n",
       "      <td>-0.283073</td>\n",
       "      <td>-0.387878</td>\n",
       "    </tr>\n",
       "    <tr>\n",
       "      <th>3</th>\n",
       "      <td>2020M04</td>\n",
       "      <td>238400.0</td>\n",
       "      <td>791400.0</td>\n",
       "      <td>60176</td>\n",
       "      <td>171504</td>\n",
       "      <td>-1.710016</td>\n",
       "      <td>-1.100445</td>\n",
       "    </tr>\n",
       "    <tr>\n",
       "      <th>4</th>\n",
       "      <td>2020M05</td>\n",
       "      <td>298000.0</td>\n",
       "      <td>1427800.0</td>\n",
       "      <td>81304</td>\n",
       "      <td>293496</td>\n",
       "      <td>0.378210</td>\n",
       "      <td>0.873033</td>\n",
       "    </tr>\n",
       "  </tbody>\n",
       "</table>\n",
       "</div>"
      ],
      "text/plain": [
       "     Month  Freight Dublin  Passengers Dublin  Freight Helsinki  \\\n",
       "0  2020M01        338400.0         69842400.0            133018   \n",
       "1  2020M02        323600.0         68731800.0            118552   \n",
       "2  2020M03        328000.0         34218000.0            109894   \n",
       "3  2020M04        238400.0           791400.0             60176   \n",
       "4  2020M05        298000.0          1427800.0             81304   \n",
       "\n",
       "   Passengers Helsinki  Ireland Index  Finland Index  \n",
       "0             12934216       0.182677       0.050559  \n",
       "1             12053056       0.202604      -0.117911  \n",
       "2              6004272      -0.283073      -0.387878  \n",
       "3               171504      -1.710016      -1.100445  \n",
       "4               293496       0.378210       0.873033  "
      ]
     },
     "execution_count": 116,
     "metadata": {},
     "output_type": "execute_result"
    }
   ],
   "source": [
    " #Merge the two DataFrames based on 'Time' columns with a left join\n",
    "merged_data_CapitalCS = pd.merge(merged_data_Capital, Consumer, left_on='Month', right_on='Time', how='inner')\n",
    "# Create new columns 'Ireland Index' and 'Finland Index' based on the 'Country' variable\n",
    "merged_data_CapitalCS['Ireland Index'] = merged_data_CapitalCS.apply(lambda row: row['Value'] if row['Country'] == 'Ireland' else None, axis=1)\n",
    "merged_data_CapitalCS['Finland Index'] = merged_data_CapitalCS.apply(lambda row: row['Value'] if row['Country'] == 'Finland' else None, axis=1)\n",
    "\n",
    "# Group by 'Month' and aggregate the values\n",
    "merged_data_CapitalCS = merged_data_CapitalCS.groupby('Month').agg({\n",
    "    'Freight Dublin': 'sum',\n",
    "    'Passengers Dublin': 'sum',\n",
    "    'Freight Helsinki': 'sum',\n",
    "    'Passengers Helsinki': 'sum',\n",
    "    'Ireland Index': 'first',  # Assuming 'Ireland Index' is the same for both Finland and Ireland\n",
    "    'Finland Index': 'first'   # Assuming 'Finland Index' is the same for both Finland and Ireland\n",
    "}).reset_index()\n",
    "\n",
    "# Display the updated DataFrame\n",
    "merged_data_CapitalCS.head()"
   ]
  },
  {
   "cell_type": "code",
   "execution_count": 142,
   "id": "b8d3520b",
   "metadata": {},
   "outputs": [],
   "source": [
    "import numpy as np\n",
    "import plotly.express as px"
   ]
  },
  {
   "cell_type": "code",
   "execution_count": 143,
   "id": "035ace51",
   "metadata": {},
   "outputs": [],
   "source": [
    "xmin, xmax = min(merged_data_Capital['Freight Dublin']), max(merged_data_Capital['Freight Dublin'])"
   ]
  },
  {
   "cell_type": "code",
   "execution_count": 144,
   "id": "d62f45dc",
   "metadata": {},
   "outputs": [],
   "source": [
    "ymin, ymax = min(merged_data_Capital[\"Freight Helsinki\"]), max(merged_data_Capital[\"Freight Helsinki\"]) "
   ]
  },
  {
   "cell_type": "code",
   "execution_count": 145,
   "id": "e90df7d1",
   "metadata": {},
   "outputs": [
    {
     "data": {
      "application/vnd.plotly.v1+json": {
       "config": {
        "plotlyServerURL": "https://plot.ly"
       },
       "data": [
        {
         "hovertemplate": "<b>%{hovertext}</b><br><br>Month=2020M01<br>Ireland Index=%{x}<br>Finland Index=%{y}<br>Freight Dublin=%{marker.color}<extra></extra>",
         "hovertext": [
          "2020M01"
         ],
         "legendgroup": "",
         "marker": {
          "color": [
           338400
          ],
          "coloraxis": "coloraxis",
          "symbol": "circle"
         },
         "mode": "markers",
         "name": "",
         "orientation": "v",
         "showlegend": false,
         "type": "scatter",
         "x": [
          0.182677
         ],
         "xaxis": "x",
         "y": [
          0.05055866
         ],
         "yaxis": "y"
        }
       ],
       "frames": [
        {
         "data": [
          {
           "hovertemplate": "<b>%{hovertext}</b><br><br>Month=2020M01<br>Ireland Index=%{x}<br>Finland Index=%{y}<br>Freight Dublin=%{marker.color}<extra></extra>",
           "hovertext": [
            "2020M01"
           ],
           "legendgroup": "",
           "marker": {
            "color": [
             338400
            ],
            "coloraxis": "coloraxis",
            "symbol": "circle"
           },
           "mode": "markers",
           "name": "",
           "orientation": "v",
           "showlegend": false,
           "type": "scatter",
           "x": [
            0.182677
           ],
           "xaxis": "x",
           "y": [
            0.05055866
           ],
           "yaxis": "y"
          }
         ],
         "name": "2020M01"
        },
        {
         "data": [
          {
           "hovertemplate": "<b>%{hovertext}</b><br><br>Month=2020M02<br>Ireland Index=%{x}<br>Finland Index=%{y}<br>Freight Dublin=%{marker.color}<extra></extra>",
           "hovertext": [
            "2020M02"
           ],
           "legendgroup": "",
           "marker": {
            "color": [
             323600
            ],
            "coloraxis": "coloraxis",
            "symbol": "circle"
           },
           "mode": "markers",
           "name": "",
           "orientation": "v",
           "showlegend": false,
           "type": "scatter",
           "x": [
            0.2026044
           ],
           "xaxis": "x",
           "y": [
            -0.1179106
           ],
           "yaxis": "y"
          }
         ],
         "name": "2020M02"
        },
        {
         "data": [
          {
           "hovertemplate": "<b>%{hovertext}</b><br><br>Month=2020M03<br>Ireland Index=%{x}<br>Finland Index=%{y}<br>Freight Dublin=%{marker.color}<extra></extra>",
           "hovertext": [
            "2020M03"
           ],
           "legendgroup": "",
           "marker": {
            "color": [
             328000
            ],
            "coloraxis": "coloraxis",
            "symbol": "circle"
           },
           "mode": "markers",
           "name": "",
           "orientation": "v",
           "showlegend": false,
           "type": "scatter",
           "x": [
            -0.2830726
           ],
           "xaxis": "x",
           "y": [
            -0.3878779
           ],
           "yaxis": "y"
          }
         ],
         "name": "2020M03"
        },
        {
         "data": [
          {
           "hovertemplate": "<b>%{hovertext}</b><br><br>Month=2020M04<br>Ireland Index=%{x}<br>Finland Index=%{y}<br>Freight Dublin=%{marker.color}<extra></extra>",
           "hovertext": [
            "2020M04"
           ],
           "legendgroup": "",
           "marker": {
            "color": [
             238400
            ],
            "coloraxis": "coloraxis",
            "symbol": "circle"
           },
           "mode": "markers",
           "name": "",
           "orientation": "v",
           "showlegend": false,
           "type": "scatter",
           "x": [
            -1.710016
           ],
           "xaxis": "x",
           "y": [
            -1.100445
           ],
           "yaxis": "y"
          }
         ],
         "name": "2020M04"
        },
        {
         "data": [
          {
           "hovertemplate": "<b>%{hovertext}</b><br><br>Month=2020M05<br>Ireland Index=%{x}<br>Finland Index=%{y}<br>Freight Dublin=%{marker.color}<extra></extra>",
           "hovertext": [
            "2020M05"
           ],
           "legendgroup": "",
           "marker": {
            "color": [
             298000
            ],
            "coloraxis": "coloraxis",
            "symbol": "circle"
           },
           "mode": "markers",
           "name": "",
           "orientation": "v",
           "showlegend": false,
           "type": "scatter",
           "x": [
            0.37821
           ],
           "xaxis": "x",
           "y": [
            0.8730333
           ],
           "yaxis": "y"
          }
         ],
         "name": "2020M05"
        },
        {
         "data": [
          {
           "hovertemplate": "<b>%{hovertext}</b><br><br>Month=2020M06<br>Ireland Index=%{x}<br>Finland Index=%{y}<br>Freight Dublin=%{marker.color}<extra></extra>",
           "hovertext": [
            "2020M06"
           ],
           "legendgroup": "",
           "marker": {
            "color": [
             326400
            ],
            "coloraxis": "coloraxis",
            "symbol": "circle"
           },
           "mode": "markers",
           "name": "",
           "orientation": "v",
           "showlegend": false,
           "type": "scatter",
           "x": [
            0.4110382
           ],
           "xaxis": "x",
           "y": [
            0.7636566
           ],
           "yaxis": "y"
          }
         ],
         "name": "2020M06"
        },
        {
         "data": [
          {
           "hovertemplate": "<b>%{hovertext}</b><br><br>Month=2020M07<br>Ireland Index=%{x}<br>Finland Index=%{y}<br>Freight Dublin=%{marker.color}<extra></extra>",
           "hovertext": [
            "2020M07"
           ],
           "legendgroup": "",
           "marker": {
            "color": [
             296400
            ],
            "coloraxis": "coloraxis",
            "symbol": "circle"
           },
           "mode": "markers",
           "name": "",
           "orientation": "v",
           "showlegend": false,
           "type": "scatter",
           "x": [
            0.1910326
           ],
           "xaxis": "x",
           "y": [
            0.2863061
           ],
           "yaxis": "y"
          }
         ],
         "name": "2020M07"
        },
        {
         "data": [
          {
           "hovertemplate": "<b>%{hovertext}</b><br><br>Month=2020M08<br>Ireland Index=%{x}<br>Finland Index=%{y}<br>Freight Dublin=%{marker.color}<extra></extra>",
           "hovertext": [
            "2020M08"
           ],
           "legendgroup": "",
           "marker": {
            "color": [
             267600
            ],
            "coloraxis": "coloraxis",
            "symbol": "circle"
           },
           "mode": "markers",
           "name": "",
           "orientation": "v",
           "showlegend": false,
           "type": "scatter",
           "x": [
            -0.09533417
           ],
           "xaxis": "x",
           "y": [
            -0.4534232
           ],
           "yaxis": "y"
          }
         ],
         "name": "2020M08"
        },
        {
         "data": [
          {
           "hovertemplate": "<b>%{hovertext}</b><br><br>Month=2020M09<br>Ireland Index=%{x}<br>Finland Index=%{y}<br>Freight Dublin=%{marker.color}<extra></extra>",
           "hovertext": [
            "2020M09"
           ],
           "legendgroup": "",
           "marker": {
            "color": [
             306400
            ],
            "coloraxis": "coloraxis",
            "symbol": "circle"
           },
           "mode": "markers",
           "name": "",
           "orientation": "v",
           "showlegend": false,
           "type": "scatter",
           "x": [
            0.05452865
           ],
           "xaxis": "x",
           "y": [
            -0.1855694
           ],
           "yaxis": "y"
          }
         ],
         "name": "2020M09"
        },
        {
         "data": [
          {
           "hovertemplate": "<b>%{hovertext}</b><br><br>Month=2020M10<br>Ireland Index=%{x}<br>Finland Index=%{y}<br>Freight Dublin=%{marker.color}<extra></extra>",
           "hovertext": [
            "2020M10"
           ],
           "legendgroup": "",
           "marker": {
            "color": [
             315600
            ],
            "coloraxis": "coloraxis",
            "symbol": "circle"
           },
           "mode": "markers",
           "name": "",
           "orientation": "v",
           "showlegend": false,
           "type": "scatter",
           "x": [
            0
           ],
           "xaxis": "x",
           "y": [
            -0.219717
           ],
           "yaxis": "y"
          }
         ],
         "name": "2020M10"
        },
        {
         "data": [
          {
           "hovertemplate": "<b>%{hovertext}</b><br><br>Month=2020M11<br>Ireland Index=%{x}<br>Finland Index=%{y}<br>Freight Dublin=%{marker.color}<extra></extra>",
           "hovertext": [
            "2020M11"
           ],
           "legendgroup": "",
           "marker": {
            "color": [
             323200
            ],
            "coloraxis": "coloraxis",
            "symbol": "circle"
           },
           "mode": "markers",
           "name": "",
           "orientation": "v",
           "showlegend": false,
           "type": "scatter",
           "x": [
            0.5926759
           ],
           "xaxis": "x",
           "y": [
            0.4234631
           ],
           "yaxis": "y"
          }
         ],
         "name": "2020M11"
        },
        {
         "data": [
          {
           "hovertemplate": "<b>%{hovertext}</b><br><br>Month=2020M12<br>Ireland Index=%{x}<br>Finland Index=%{y}<br>Freight Dublin=%{marker.color}<extra></extra>",
           "hovertext": [
            "2020M12"
           ],
           "legendgroup": "",
           "marker": {
            "color": [
             356800
            ],
            "coloraxis": "coloraxis",
            "symbol": "circle"
           },
           "mode": "markers",
           "name": "",
           "orientation": "v",
           "showlegend": false,
           "type": "scatter",
           "x": [
            0.2912059
           ],
           "xaxis": "x",
           "y": [
            0.0674684
           ],
           "yaxis": "y"
          }
         ],
         "name": "2020M12"
        },
        {
         "data": [
          {
           "hovertemplate": "<b>%{hovertext}</b><br><br>Month=2021M01<br>Ireland Index=%{x}<br>Finland Index=%{y}<br>Freight Dublin=%{marker.color}<extra></extra>",
           "hovertext": [
            "2021M01"
           ],
           "legendgroup": "",
           "marker": {
            "color": [
             332000
            ],
            "coloraxis": "coloraxis",
            "symbol": "circle"
           },
           "mode": "markers",
           "name": "",
           "orientation": "v",
           "showlegend": false,
           "type": "scatter",
           "x": [
            -0.5402053
           ],
           "xaxis": "x",
           "y": [
            0.5899504
           ],
           "yaxis": "y"
          }
         ],
         "name": "2021M01"
        },
        {
         "data": [
          {
           "hovertemplate": "<b>%{hovertext}</b><br><br>Month=2021M02<br>Ireland Index=%{x}<br>Finland Index=%{y}<br>Freight Dublin=%{marker.color}<extra></extra>",
           "hovertext": [
            "2021M02"
           ],
           "legendgroup": "",
           "marker": {
            "color": [
             318800
            ],
            "coloraxis": "coloraxis",
            "symbol": "circle"
           },
           "mode": "markers",
           "name": "",
           "orientation": "v",
           "showlegend": false,
           "type": "scatter",
           "x": [
            0.5295609
           ],
           "xaxis": "x",
           "y": [
            0.03351373
           ],
           "yaxis": "y"
          }
         ],
         "name": "2021M02"
        },
        {
         "data": [
          {
           "hovertemplate": "<b>%{hovertext}</b><br><br>Month=2021M03<br>Ireland Index=%{x}<br>Finland Index=%{y}<br>Freight Dublin=%{marker.color}<extra></extra>",
           "hovertext": [
            "2021M03"
           ],
           "legendgroup": "",
           "marker": {
            "color": [
             384000
            ],
            "coloraxis": "coloraxis",
            "symbol": "circle"
           },
           "mode": "markers",
           "name": "",
           "orientation": "v",
           "showlegend": false,
           "type": "scatter",
           "x": [
            0.1350696
           ],
           "xaxis": "x",
           "y": [
            -0.3852789
           ],
           "yaxis": "y"
          }
         ],
         "name": "2021M03"
        },
        {
         "data": [
          {
           "hovertemplate": "<b>%{hovertext}</b><br><br>Month=2021M04<br>Ireland Index=%{x}<br>Finland Index=%{y}<br>Freight Dublin=%{marker.color}<extra></extra>",
           "hovertext": [
            "2021M04"
           ],
           "legendgroup": "",
           "marker": {
            "color": [
             361200
            ],
            "coloraxis": "coloraxis",
            "symbol": "circle"
           },
           "mode": "markers",
           "name": "",
           "orientation": "v",
           "showlegend": false,
           "type": "scatter",
           "x": [
            0.1955867
           ],
           "xaxis": "x",
           "y": [
            1.093043
           ],
           "yaxis": "y"
          }
         ],
         "name": "2021M04"
        },
        {
         "data": [
          {
           "hovertemplate": "<b>%{hovertext}</b><br><br>Month=2021M05<br>Ireland Index=%{x}<br>Finland Index=%{y}<br>Freight Dublin=%{marker.color}<extra></extra>",
           "hovertext": [
            "2021M05"
           ],
           "legendgroup": "",
           "marker": {
            "color": [
             364800
            ],
            "coloraxis": "coloraxis",
            "symbol": "circle"
           },
           "mode": "markers",
           "name": "",
           "orientation": "v",
           "showlegend": false,
           "type": "scatter",
           "x": [
            0.2288609
           ],
           "xaxis": "x",
           "y": [
            0
           ],
           "yaxis": "y"
          }
         ],
         "name": "2021M05"
        },
        {
         "data": [
          {
           "hovertemplate": "<b>%{hovertext}</b><br><br>Month=2021M06<br>Ireland Index=%{x}<br>Finland Index=%{y}<br>Freight Dublin=%{marker.color}<extra></extra>",
           "hovertext": [
            "2021M06"
           ],
           "legendgroup": "",
           "marker": {
            "color": [
             345600
            ],
            "coloraxis": "coloraxis",
            "symbol": "circle"
           },
           "mode": "markers",
           "name": "",
           "orientation": "v",
           "showlegend": false,
           "type": "scatter",
           "x": [
            -0.201475
           ],
           "xaxis": "x",
           "y": [
            0.2162449
           ],
           "yaxis": "y"
          }
         ],
         "name": "2021M06"
        },
        {
         "data": [
          {
           "hovertemplate": "<b>%{hovertext}</b><br><br>Month=2021M07<br>Ireland Index=%{x}<br>Finland Index=%{y}<br>Freight Dublin=%{marker.color}<extra></extra>",
           "hovertext": [
            "2021M07"
           ],
           "legendgroup": "",
           "marker": {
            "color": [
             356000
            ],
            "coloraxis": "coloraxis",
            "symbol": "circle"
           },
           "mode": "markers",
           "name": "",
           "orientation": "v",
           "showlegend": false,
           "type": "scatter",
           "x": [
            -0.1345879
           ],
           "xaxis": "x",
           "y": [
            -0.08299159
           ],
           "yaxis": "y"
          }
         ],
         "name": "2021M07"
        },
        {
         "data": [
          {
           "hovertemplate": "<b>%{hovertext}</b><br><br>Month=2021M08<br>Ireland Index=%{x}<br>Finland Index=%{y}<br>Freight Dublin=%{marker.color}<extra></extra>",
           "hovertext": [
            "2021M08"
           ],
           "legendgroup": "",
           "marker": {
            "color": [
             344400
            ],
            "coloraxis": "coloraxis",
            "symbol": "circle"
           },
           "mode": "markers",
           "name": "",
           "orientation": "v",
           "showlegend": false,
           "type": "scatter",
           "x": [
            0.2425846
           ],
           "xaxis": "x",
           "y": [
            -0.06644855
           ],
           "yaxis": "y"
          }
         ],
         "name": "2021M08"
        },
        {
         "data": [
          {
           "hovertemplate": "<b>%{hovertext}</b><br><br>Month=2021M09<br>Ireland Index=%{x}<br>Finland Index=%{y}<br>Freight Dublin=%{marker.color}<extra></extra>",
           "hovertext": [
            "2021M09"
           ],
           "legendgroup": "",
           "marker": {
            "color": [
             364800
            ],
            "coloraxis": "coloraxis",
            "symbol": "circle"
           },
           "mode": "markers",
           "name": "",
           "orientation": "v",
           "showlegend": false,
           "type": "scatter",
           "x": [
            -0.0470551
           ],
           "xaxis": "x",
           "y": [
            0.2825938
           ],
           "yaxis": "y"
          }
         ],
         "name": "2021M09"
        },
        {
         "data": [
          {
           "hovertemplate": "<b>%{hovertext}</b><br><br>Month=2021M10<br>Ireland Index=%{x}<br>Finland Index=%{y}<br>Freight Dublin=%{marker.color}<extra></extra>",
           "hovertext": [
            "2021M10"
           ],
           "legendgroup": "",
           "marker": {
            "color": [
             381200
            ],
            "coloraxis": "coloraxis",
            "symbol": "circle"
           },
           "mode": "markers",
           "name": "",
           "orientation": "v",
           "showlegend": false,
           "type": "scatter",
           "x": [
            -0.2622874
           ],
           "xaxis": "x",
           "y": [
            -0.5304423
           ],
           "yaxis": "y"
          }
         ],
         "name": "2021M10"
        },
        {
         "data": [
          {
           "hovertemplate": "<b>%{hovertext}</b><br><br>Month=2021M11<br>Ireland Index=%{x}<br>Finland Index=%{y}<br>Freight Dublin=%{marker.color}<extra></extra>",
           "hovertext": [
            "2021M11"
           ],
           "legendgroup": "",
           "marker": {
            "color": [
             373200
            ],
            "coloraxis": "coloraxis",
            "symbol": "circle"
           },
           "mode": "markers",
           "name": "",
           "orientation": "v",
           "showlegend": false,
           "type": "scatter",
           "x": [
            -0.06068699
           ],
           "xaxis": "x",
           "y": [
            -0.2999649
           ],
           "yaxis": "y"
          }
         ],
         "name": "2021M11"
        },
        {
         "data": [
          {
           "hovertemplate": "<b>%{hovertext}</b><br><br>Month=2021M12<br>Ireland Index=%{x}<br>Finland Index=%{y}<br>Freight Dublin=%{marker.color}<extra></extra>",
           "hovertext": [
            "2021M12"
           ],
           "legendgroup": "",
           "marker": {
            "color": [
             367400
            ],
            "coloraxis": "coloraxis",
            "symbol": "circle"
           },
           "mode": "markers",
           "name": "",
           "orientation": "v",
           "showlegend": false,
           "type": "scatter",
           "x": [
            -0.3508491
           ],
           "xaxis": "x",
           "y": [
            -0.5515903
           ],
           "yaxis": "y"
          }
         ],
         "name": "2021M12"
        },
        {
         "data": [
          {
           "hovertemplate": "<b>%{hovertext}</b><br><br>Month=2022M01<br>Ireland Index=%{x}<br>Finland Index=%{y}<br>Freight Dublin=%{marker.color}<extra></extra>",
           "hovertext": [
            "2022M01"
           ],
           "legendgroup": "",
           "marker": {
            "color": [
             296800
            ],
            "coloraxis": "coloraxis",
            "symbol": "circle"
           },
           "mode": "markers",
           "name": "",
           "orientation": "v",
           "showlegend": false,
           "type": "scatter",
           "x": [
            0.1151045
           ],
           "xaxis": "x",
           "y": [
            0.1848832
           ],
           "yaxis": "y"
          }
         ],
         "name": "2022M01"
        },
        {
         "data": [
          {
           "hovertemplate": "<b>%{hovertext}</b><br><br>Month=2022M02<br>Ireland Index=%{x}<br>Finland Index=%{y}<br>Freight Dublin=%{marker.color}<extra></extra>",
           "hovertext": [
            "2022M02"
           ],
           "legendgroup": "",
           "marker": {
            "color": [
             298000
            ],
            "coloraxis": "coloraxis",
            "symbol": "circle"
           },
           "mode": "markers",
           "name": "",
           "orientation": "v",
           "showlegend": false,
           "type": "scatter",
           "x": [
            -0.4193104
           ],
           "xaxis": "x",
           "y": [
            0.2180952
           ],
           "yaxis": "y"
          }
         ],
         "name": "2022M02"
        },
        {
         "data": [
          {
           "hovertemplate": "<b>%{hovertext}</b><br><br>Month=2022M03<br>Ireland Index=%{x}<br>Finland Index=%{y}<br>Freight Dublin=%{marker.color}<extra></extra>",
           "hovertext": [
            "2022M03"
           ],
           "legendgroup": "",
           "marker": {
            "color": [
             343600
            ],
            "coloraxis": "coloraxis",
            "symbol": "circle"
           },
           "mode": "markers",
           "name": "",
           "orientation": "v",
           "showlegend": false,
           "type": "scatter",
           "x": [
            -0.8081941
           ],
           "xaxis": "x",
           "y": [
            -1.674004
           ],
           "yaxis": "y"
          }
         ],
         "name": "2022M03"
        },
        {
         "data": [
          {
           "hovertemplate": "<b>%{hovertext}</b><br><br>Month=2022M04<br>Ireland Index=%{x}<br>Finland Index=%{y}<br>Freight Dublin=%{marker.color}<extra></extra>",
           "hovertext": [
            "2022M04"
           ],
           "legendgroup": "",
           "marker": {
            "color": [
             312800
            ],
            "coloraxis": "coloraxis",
            "symbol": "circle"
           },
           "mode": "markers",
           "name": "",
           "orientation": "v",
           "showlegend": false,
           "type": "scatter",
           "x": [
            -0.1027033
           ],
           "xaxis": "x",
           "y": [
            -0.3064507
           ],
           "yaxis": "y"
          }
         ],
         "name": "2022M04"
        },
        {
         "data": [
          {
           "hovertemplate": "<b>%{hovertext}</b><br><br>Month=2022M05<br>Ireland Index=%{x}<br>Finland Index=%{y}<br>Freight Dublin=%{marker.color}<extra></extra>",
           "hovertext": [
            "2022M05"
           ],
           "legendgroup": "",
           "marker": {
            "color": [
             338000
            ],
            "coloraxis": "coloraxis",
            "symbol": "circle"
           },
           "mode": "markers",
           "name": "",
           "orientation": "v",
           "showlegend": false,
           "type": "scatter",
           "x": [
            0.1165167
           ],
           "xaxis": "x",
           "y": [
            0.03415474
           ],
           "yaxis": "y"
          }
         ],
         "name": "2022M05"
        },
        {
         "data": [
          {
           "hovertemplate": "<b>%{hovertext}</b><br><br>Month=2022M06<br>Ireland Index=%{x}<br>Finland Index=%{y}<br>Freight Dublin=%{marker.color}<extra></extra>",
           "hovertext": [
            "2022M06"
           ],
           "legendgroup": "",
           "marker": {
            "color": [
             332000
            ],
            "coloraxis": "coloraxis",
            "symbol": "circle"
           },
           "mode": "markers",
           "name": "",
           "orientation": "v",
           "showlegend": false,
           "type": "scatter",
           "x": [
            -0.3970649
           ],
           "xaxis": "x",
           "y": [
            -0.3243593
           ],
           "yaxis": "y"
          }
         ],
         "name": "2022M06"
        },
        {
         "data": [
          {
           "hovertemplate": "<b>%{hovertext}</b><br><br>Month=2022M07<br>Ireland Index=%{x}<br>Finland Index=%{y}<br>Freight Dublin=%{marker.color}<extra></extra>",
           "hovertext": [
            "2022M07"
           ],
           "legendgroup": "",
           "marker": {
            "color": [
             326800
            ],
            "coloraxis": "coloraxis",
            "symbol": "circle"
           },
           "mode": "markers",
           "name": "",
           "orientation": "v",
           "showlegend": false,
           "type": "scatter",
           "x": [
            -0.3230422
           ],
           "xaxis": "x",
           "y": [
            -0.2397793
           ],
           "yaxis": "y"
          }
         ],
         "name": "2022M07"
        },
        {
         "data": [
          {
           "hovertemplate": "<b>%{hovertext}</b><br><br>Month=2022M08<br>Ireland Index=%{x}<br>Finland Index=%{y}<br>Freight Dublin=%{marker.color}<extra></extra>",
           "hovertext": [
            "2022M08"
           ],
           "legendgroup": "",
           "marker": {
            "color": [
             323200
            ],
            "coloraxis": "coloraxis",
            "symbol": "circle"
           },
           "mode": "markers",
           "name": "",
           "orientation": "v",
           "showlegend": false,
           "type": "scatter",
           "x": [
            0.3999397
           ],
           "xaxis": "x",
           "y": [
            0.05150479
           ],
           "yaxis": "y"
          }
         ],
         "name": "2022M08"
        },
        {
         "data": [
          {
           "hovertemplate": "<b>%{hovertext}</b><br><br>Month=2022M09<br>Ireland Index=%{x}<br>Finland Index=%{y}<br>Freight Dublin=%{marker.color}<extra></extra>",
           "hovertext": [
            "2022M09"
           ],
           "legendgroup": "",
           "marker": {
            "color": [
             335200
            ],
            "coloraxis": "coloraxis",
            "symbol": "circle"
           },
           "mode": "markers",
           "name": "",
           "orientation": "v",
           "showlegend": false,
           "type": "scatter",
           "x": [
            -0.3708744
           ],
           "xaxis": "x",
           "y": [
            -0.6520581
           ],
           "yaxis": "y"
          }
         ],
         "name": "2022M09"
        },
        {
         "data": [
          {
           "hovertemplate": "<b>%{hovertext}</b><br><br>Month=2022M10<br>Ireland Index=%{x}<br>Finland Index=%{y}<br>Freight Dublin=%{marker.color}<extra></extra>",
           "hovertext": [
            "2022M10"
           ],
           "legendgroup": "",
           "marker": {
            "color": [
             344400
            ],
            "coloraxis": "coloraxis",
            "symbol": "circle"
           },
           "mode": "markers",
           "name": "",
           "orientation": "v",
           "showlegend": false,
           "type": "scatter",
           "x": [
            0.4067231
           ],
           "xaxis": "x",
           "y": [
            0.2245366
           ],
           "yaxis": "y"
          }
         ],
         "name": "2022M10"
        },
        {
         "data": [
          {
           "hovertemplate": "<b>%{hovertext}</b><br><br>Month=2022M11<br>Ireland Index=%{x}<br>Finland Index=%{y}<br>Freight Dublin=%{marker.color}<extra></extra>",
           "hovertext": [
            "2022M11"
           ],
           "legendgroup": "",
           "marker": {
            "color": [
             345600
            ],
            "coloraxis": "coloraxis",
            "symbol": "circle"
           },
           "mode": "markers",
           "name": "",
           "orientation": "v",
           "showlegend": false,
           "type": "scatter",
           "x": [
            -0.09611961
           ],
           "xaxis": "x",
           "y": [
            0.1378668
           ],
           "yaxis": "y"
          }
         ],
         "name": "2022M11"
        },
        {
         "data": [
          {
           "hovertemplate": "<b>%{hovertext}</b><br><br>Month=2022M12<br>Ireland Index=%{x}<br>Finland Index=%{y}<br>Freight Dublin=%{marker.color}<extra></extra>",
           "hovertext": [
            "2022M12"
           ],
           "legendgroup": "",
           "marker": {
            "color": [
             324400
            ],
            "coloraxis": "coloraxis",
            "symbol": "circle"
           },
           "mode": "markers",
           "name": "",
           "orientation": "v",
           "showlegend": false,
           "type": "scatter",
           "x": [
            0.4054652
           ],
           "xaxis": "x",
           "y": [
            -0.1720963
           ],
           "yaxis": "y"
          }
         ],
         "name": "2022M12"
        },
        {
         "data": [
          {
           "hovertemplate": "<b>%{hovertext}</b><br><br>Month=2023M01<br>Ireland Index=%{x}<br>Finland Index=%{y}<br>Freight Dublin=%{marker.color}<extra></extra>",
           "hovertext": [
            "2023M01"
           ],
           "legendgroup": "",
           "marker": {
            "color": [
             289200
            ],
            "coloraxis": "coloraxis",
            "symbol": "circle"
           },
           "mode": "markers",
           "name": "",
           "orientation": "v",
           "showlegend": false,
           "type": "scatter",
           "x": [
            -0.006844537
           ],
           "xaxis": "x",
           "y": [
            0.879204
           ],
           "yaxis": "y"
          }
         ],
         "name": "2023M01"
        },
        {
         "data": [
          {
           "hovertemplate": "<b>%{hovertext}</b><br><br>Month=2023M02<br>Ireland Index=%{x}<br>Finland Index=%{y}<br>Freight Dublin=%{marker.color}<extra></extra>",
           "hovertext": [
            "2023M02"
           ],
           "legendgroup": "",
           "marker": {
            "color": [
             151200
            ],
            "coloraxis": "coloraxis",
            "symbol": "circle"
           },
           "mode": "markers",
           "name": "",
           "orientation": "v",
           "showlegend": false,
           "type": "scatter",
           "x": [
            null
           ],
           "xaxis": "x",
           "y": [
            0.1025343
           ],
           "yaxis": "y"
          }
         ],
         "name": "2023M02"
        },
        {
         "data": [
          {
           "hovertemplate": "<b>%{hovertext}</b><br><br>Month=2023M03<br>Ireland Index=%{x}<br>Finland Index=%{y}<br>Freight Dublin=%{marker.color}<extra></extra>",
           "hovertext": [
            "2023M03"
           ],
           "legendgroup": "",
           "marker": {
            "color": [
             179300
            ],
            "coloraxis": "coloraxis",
            "symbol": "circle"
           },
           "mode": "markers",
           "name": "",
           "orientation": "v",
           "showlegend": false,
           "type": "scatter",
           "x": [
            null
           ],
           "xaxis": "x",
           "y": [
            0.1024293
           ],
           "yaxis": "y"
          }
         ],
         "name": "2023M03"
        }
       ],
       "layout": {
        "coloraxis": {
         "colorbar": {
          "title": {
           "text": "Freight Dublin"
          }
         },
         "colorscale": [
          [
           0,
           "#0d0887"
          ],
          [
           0.1111111111111111,
           "#46039f"
          ],
          [
           0.2222222222222222,
           "#7201a8"
          ],
          [
           0.3333333333333333,
           "#9c179e"
          ],
          [
           0.4444444444444444,
           "#bd3786"
          ],
          [
           0.5555555555555556,
           "#d8576b"
          ],
          [
           0.6666666666666666,
           "#ed7953"
          ],
          [
           0.7777777777777778,
           "#fb9f3a"
          ],
          [
           0.8888888888888888,
           "#fdca26"
          ],
          [
           1,
           "#f0f921"
          ]
         ]
        },
        "legend": {
         "tracegroupgap": 0
        },
        "sliders": [
         {
          "active": 0,
          "currentvalue": {
           "prefix": "Month="
          },
          "len": 0.9,
          "pad": {
           "b": 10,
           "t": 60
          },
          "steps": [
           {
            "args": [
             [
              "2020M01"
             ],
             {
              "frame": {
               "duration": 0,
               "redraw": false
              },
              "fromcurrent": true,
              "mode": "immediate",
              "transition": {
               "duration": 0,
               "easing": "linear"
              }
             }
            ],
            "label": "2020M01",
            "method": "animate"
           },
           {
            "args": [
             [
              "2020M02"
             ],
             {
              "frame": {
               "duration": 0,
               "redraw": false
              },
              "fromcurrent": true,
              "mode": "immediate",
              "transition": {
               "duration": 0,
               "easing": "linear"
              }
             }
            ],
            "label": "2020M02",
            "method": "animate"
           },
           {
            "args": [
             [
              "2020M03"
             ],
             {
              "frame": {
               "duration": 0,
               "redraw": false
              },
              "fromcurrent": true,
              "mode": "immediate",
              "transition": {
               "duration": 0,
               "easing": "linear"
              }
             }
            ],
            "label": "2020M03",
            "method": "animate"
           },
           {
            "args": [
             [
              "2020M04"
             ],
             {
              "frame": {
               "duration": 0,
               "redraw": false
              },
              "fromcurrent": true,
              "mode": "immediate",
              "transition": {
               "duration": 0,
               "easing": "linear"
              }
             }
            ],
            "label": "2020M04",
            "method": "animate"
           },
           {
            "args": [
             [
              "2020M05"
             ],
             {
              "frame": {
               "duration": 0,
               "redraw": false
              },
              "fromcurrent": true,
              "mode": "immediate",
              "transition": {
               "duration": 0,
               "easing": "linear"
              }
             }
            ],
            "label": "2020M05",
            "method": "animate"
           },
           {
            "args": [
             [
              "2020M06"
             ],
             {
              "frame": {
               "duration": 0,
               "redraw": false
              },
              "fromcurrent": true,
              "mode": "immediate",
              "transition": {
               "duration": 0,
               "easing": "linear"
              }
             }
            ],
            "label": "2020M06",
            "method": "animate"
           },
           {
            "args": [
             [
              "2020M07"
             ],
             {
              "frame": {
               "duration": 0,
               "redraw": false
              },
              "fromcurrent": true,
              "mode": "immediate",
              "transition": {
               "duration": 0,
               "easing": "linear"
              }
             }
            ],
            "label": "2020M07",
            "method": "animate"
           },
           {
            "args": [
             [
              "2020M08"
             ],
             {
              "frame": {
               "duration": 0,
               "redraw": false
              },
              "fromcurrent": true,
              "mode": "immediate",
              "transition": {
               "duration": 0,
               "easing": "linear"
              }
             }
            ],
            "label": "2020M08",
            "method": "animate"
           },
           {
            "args": [
             [
              "2020M09"
             ],
             {
              "frame": {
               "duration": 0,
               "redraw": false
              },
              "fromcurrent": true,
              "mode": "immediate",
              "transition": {
               "duration": 0,
               "easing": "linear"
              }
             }
            ],
            "label": "2020M09",
            "method": "animate"
           },
           {
            "args": [
             [
              "2020M10"
             ],
             {
              "frame": {
               "duration": 0,
               "redraw": false
              },
              "fromcurrent": true,
              "mode": "immediate",
              "transition": {
               "duration": 0,
               "easing": "linear"
              }
             }
            ],
            "label": "2020M10",
            "method": "animate"
           },
           {
            "args": [
             [
              "2020M11"
             ],
             {
              "frame": {
               "duration": 0,
               "redraw": false
              },
              "fromcurrent": true,
              "mode": "immediate",
              "transition": {
               "duration": 0,
               "easing": "linear"
              }
             }
            ],
            "label": "2020M11",
            "method": "animate"
           },
           {
            "args": [
             [
              "2020M12"
             ],
             {
              "frame": {
               "duration": 0,
               "redraw": false
              },
              "fromcurrent": true,
              "mode": "immediate",
              "transition": {
               "duration": 0,
               "easing": "linear"
              }
             }
            ],
            "label": "2020M12",
            "method": "animate"
           },
           {
            "args": [
             [
              "2021M01"
             ],
             {
              "frame": {
               "duration": 0,
               "redraw": false
              },
              "fromcurrent": true,
              "mode": "immediate",
              "transition": {
               "duration": 0,
               "easing": "linear"
              }
             }
            ],
            "label": "2021M01",
            "method": "animate"
           },
           {
            "args": [
             [
              "2021M02"
             ],
             {
              "frame": {
               "duration": 0,
               "redraw": false
              },
              "fromcurrent": true,
              "mode": "immediate",
              "transition": {
               "duration": 0,
               "easing": "linear"
              }
             }
            ],
            "label": "2021M02",
            "method": "animate"
           },
           {
            "args": [
             [
              "2021M03"
             ],
             {
              "frame": {
               "duration": 0,
               "redraw": false
              },
              "fromcurrent": true,
              "mode": "immediate",
              "transition": {
               "duration": 0,
               "easing": "linear"
              }
             }
            ],
            "label": "2021M03",
            "method": "animate"
           },
           {
            "args": [
             [
              "2021M04"
             ],
             {
              "frame": {
               "duration": 0,
               "redraw": false
              },
              "fromcurrent": true,
              "mode": "immediate",
              "transition": {
               "duration": 0,
               "easing": "linear"
              }
             }
            ],
            "label": "2021M04",
            "method": "animate"
           },
           {
            "args": [
             [
              "2021M05"
             ],
             {
              "frame": {
               "duration": 0,
               "redraw": false
              },
              "fromcurrent": true,
              "mode": "immediate",
              "transition": {
               "duration": 0,
               "easing": "linear"
              }
             }
            ],
            "label": "2021M05",
            "method": "animate"
           },
           {
            "args": [
             [
              "2021M06"
             ],
             {
              "frame": {
               "duration": 0,
               "redraw": false
              },
              "fromcurrent": true,
              "mode": "immediate",
              "transition": {
               "duration": 0,
               "easing": "linear"
              }
             }
            ],
            "label": "2021M06",
            "method": "animate"
           },
           {
            "args": [
             [
              "2021M07"
             ],
             {
              "frame": {
               "duration": 0,
               "redraw": false
              },
              "fromcurrent": true,
              "mode": "immediate",
              "transition": {
               "duration": 0,
               "easing": "linear"
              }
             }
            ],
            "label": "2021M07",
            "method": "animate"
           },
           {
            "args": [
             [
              "2021M08"
             ],
             {
              "frame": {
               "duration": 0,
               "redraw": false
              },
              "fromcurrent": true,
              "mode": "immediate",
              "transition": {
               "duration": 0,
               "easing": "linear"
              }
             }
            ],
            "label": "2021M08",
            "method": "animate"
           },
           {
            "args": [
             [
              "2021M09"
             ],
             {
              "frame": {
               "duration": 0,
               "redraw": false
              },
              "fromcurrent": true,
              "mode": "immediate",
              "transition": {
               "duration": 0,
               "easing": "linear"
              }
             }
            ],
            "label": "2021M09",
            "method": "animate"
           },
           {
            "args": [
             [
              "2021M10"
             ],
             {
              "frame": {
               "duration": 0,
               "redraw": false
              },
              "fromcurrent": true,
              "mode": "immediate",
              "transition": {
               "duration": 0,
               "easing": "linear"
              }
             }
            ],
            "label": "2021M10",
            "method": "animate"
           },
           {
            "args": [
             [
              "2021M11"
             ],
             {
              "frame": {
               "duration": 0,
               "redraw": false
              },
              "fromcurrent": true,
              "mode": "immediate",
              "transition": {
               "duration": 0,
               "easing": "linear"
              }
             }
            ],
            "label": "2021M11",
            "method": "animate"
           },
           {
            "args": [
             [
              "2021M12"
             ],
             {
              "frame": {
               "duration": 0,
               "redraw": false
              },
              "fromcurrent": true,
              "mode": "immediate",
              "transition": {
               "duration": 0,
               "easing": "linear"
              }
             }
            ],
            "label": "2021M12",
            "method": "animate"
           },
           {
            "args": [
             [
              "2022M01"
             ],
             {
              "frame": {
               "duration": 0,
               "redraw": false
              },
              "fromcurrent": true,
              "mode": "immediate",
              "transition": {
               "duration": 0,
               "easing": "linear"
              }
             }
            ],
            "label": "2022M01",
            "method": "animate"
           },
           {
            "args": [
             [
              "2022M02"
             ],
             {
              "frame": {
               "duration": 0,
               "redraw": false
              },
              "fromcurrent": true,
              "mode": "immediate",
              "transition": {
               "duration": 0,
               "easing": "linear"
              }
             }
            ],
            "label": "2022M02",
            "method": "animate"
           },
           {
            "args": [
             [
              "2022M03"
             ],
             {
              "frame": {
               "duration": 0,
               "redraw": false
              },
              "fromcurrent": true,
              "mode": "immediate",
              "transition": {
               "duration": 0,
               "easing": "linear"
              }
             }
            ],
            "label": "2022M03",
            "method": "animate"
           },
           {
            "args": [
             [
              "2022M04"
             ],
             {
              "frame": {
               "duration": 0,
               "redraw": false
              },
              "fromcurrent": true,
              "mode": "immediate",
              "transition": {
               "duration": 0,
               "easing": "linear"
              }
             }
            ],
            "label": "2022M04",
            "method": "animate"
           },
           {
            "args": [
             [
              "2022M05"
             ],
             {
              "frame": {
               "duration": 0,
               "redraw": false
              },
              "fromcurrent": true,
              "mode": "immediate",
              "transition": {
               "duration": 0,
               "easing": "linear"
              }
             }
            ],
            "label": "2022M05",
            "method": "animate"
           },
           {
            "args": [
             [
              "2022M06"
             ],
             {
              "frame": {
               "duration": 0,
               "redraw": false
              },
              "fromcurrent": true,
              "mode": "immediate",
              "transition": {
               "duration": 0,
               "easing": "linear"
              }
             }
            ],
            "label": "2022M06",
            "method": "animate"
           },
           {
            "args": [
             [
              "2022M07"
             ],
             {
              "frame": {
               "duration": 0,
               "redraw": false
              },
              "fromcurrent": true,
              "mode": "immediate",
              "transition": {
               "duration": 0,
               "easing": "linear"
              }
             }
            ],
            "label": "2022M07",
            "method": "animate"
           },
           {
            "args": [
             [
              "2022M08"
             ],
             {
              "frame": {
               "duration": 0,
               "redraw": false
              },
              "fromcurrent": true,
              "mode": "immediate",
              "transition": {
               "duration": 0,
               "easing": "linear"
              }
             }
            ],
            "label": "2022M08",
            "method": "animate"
           },
           {
            "args": [
             [
              "2022M09"
             ],
             {
              "frame": {
               "duration": 0,
               "redraw": false
              },
              "fromcurrent": true,
              "mode": "immediate",
              "transition": {
               "duration": 0,
               "easing": "linear"
              }
             }
            ],
            "label": "2022M09",
            "method": "animate"
           },
           {
            "args": [
             [
              "2022M10"
             ],
             {
              "frame": {
               "duration": 0,
               "redraw": false
              },
              "fromcurrent": true,
              "mode": "immediate",
              "transition": {
               "duration": 0,
               "easing": "linear"
              }
             }
            ],
            "label": "2022M10",
            "method": "animate"
           },
           {
            "args": [
             [
              "2022M11"
             ],
             {
              "frame": {
               "duration": 0,
               "redraw": false
              },
              "fromcurrent": true,
              "mode": "immediate",
              "transition": {
               "duration": 0,
               "easing": "linear"
              }
             }
            ],
            "label": "2022M11",
            "method": "animate"
           },
           {
            "args": [
             [
              "2022M12"
             ],
             {
              "frame": {
               "duration": 0,
               "redraw": false
              },
              "fromcurrent": true,
              "mode": "immediate",
              "transition": {
               "duration": 0,
               "easing": "linear"
              }
             }
            ],
            "label": "2022M12",
            "method": "animate"
           },
           {
            "args": [
             [
              "2023M01"
             ],
             {
              "frame": {
               "duration": 0,
               "redraw": false
              },
              "fromcurrent": true,
              "mode": "immediate",
              "transition": {
               "duration": 0,
               "easing": "linear"
              }
             }
            ],
            "label": "2023M01",
            "method": "animate"
           },
           {
            "args": [
             [
              "2023M02"
             ],
             {
              "frame": {
               "duration": 0,
               "redraw": false
              },
              "fromcurrent": true,
              "mode": "immediate",
              "transition": {
               "duration": 0,
               "easing": "linear"
              }
             }
            ],
            "label": "2023M02",
            "method": "animate"
           },
           {
            "args": [
             [
              "2023M03"
             ],
             {
              "frame": {
               "duration": 0,
               "redraw": false
              },
              "fromcurrent": true,
              "mode": "immediate",
              "transition": {
               "duration": 0,
               "easing": "linear"
              }
             }
            ],
            "label": "2023M03",
            "method": "animate"
           }
          ],
          "x": 0.1,
          "xanchor": "left",
          "y": 0,
          "yanchor": "top"
         }
        ],
        "template": {
         "data": {
          "bar": [
           {
            "error_x": {
             "color": "#2a3f5f"
            },
            "error_y": {
             "color": "#2a3f5f"
            },
            "marker": {
             "line": {
              "color": "#E5ECF6",
              "width": 0.5
             },
             "pattern": {
              "fillmode": "overlay",
              "size": 10,
              "solidity": 0.2
             }
            },
            "type": "bar"
           }
          ],
          "barpolar": [
           {
            "marker": {
             "line": {
              "color": "#E5ECF6",
              "width": 0.5
             },
             "pattern": {
              "fillmode": "overlay",
              "size": 10,
              "solidity": 0.2
             }
            },
            "type": "barpolar"
           }
          ],
          "carpet": [
           {
            "aaxis": {
             "endlinecolor": "#2a3f5f",
             "gridcolor": "white",
             "linecolor": "white",
             "minorgridcolor": "white",
             "startlinecolor": "#2a3f5f"
            },
            "baxis": {
             "endlinecolor": "#2a3f5f",
             "gridcolor": "white",
             "linecolor": "white",
             "minorgridcolor": "white",
             "startlinecolor": "#2a3f5f"
            },
            "type": "carpet"
           }
          ],
          "choropleth": [
           {
            "colorbar": {
             "outlinewidth": 0,
             "ticks": ""
            },
            "type": "choropleth"
           }
          ],
          "contour": [
           {
            "colorbar": {
             "outlinewidth": 0,
             "ticks": ""
            },
            "colorscale": [
             [
              0,
              "#0d0887"
             ],
             [
              0.1111111111111111,
              "#46039f"
             ],
             [
              0.2222222222222222,
              "#7201a8"
             ],
             [
              0.3333333333333333,
              "#9c179e"
             ],
             [
              0.4444444444444444,
              "#bd3786"
             ],
             [
              0.5555555555555556,
              "#d8576b"
             ],
             [
              0.6666666666666666,
              "#ed7953"
             ],
             [
              0.7777777777777778,
              "#fb9f3a"
             ],
             [
              0.8888888888888888,
              "#fdca26"
             ],
             [
              1,
              "#f0f921"
             ]
            ],
            "type": "contour"
           }
          ],
          "contourcarpet": [
           {
            "colorbar": {
             "outlinewidth": 0,
             "ticks": ""
            },
            "type": "contourcarpet"
           }
          ],
          "heatmap": [
           {
            "colorbar": {
             "outlinewidth": 0,
             "ticks": ""
            },
            "colorscale": [
             [
              0,
              "#0d0887"
             ],
             [
              0.1111111111111111,
              "#46039f"
             ],
             [
              0.2222222222222222,
              "#7201a8"
             ],
             [
              0.3333333333333333,
              "#9c179e"
             ],
             [
              0.4444444444444444,
              "#bd3786"
             ],
             [
              0.5555555555555556,
              "#d8576b"
             ],
             [
              0.6666666666666666,
              "#ed7953"
             ],
             [
              0.7777777777777778,
              "#fb9f3a"
             ],
             [
              0.8888888888888888,
              "#fdca26"
             ],
             [
              1,
              "#f0f921"
             ]
            ],
            "type": "heatmap"
           }
          ],
          "heatmapgl": [
           {
            "colorbar": {
             "outlinewidth": 0,
             "ticks": ""
            },
            "colorscale": [
             [
              0,
              "#0d0887"
             ],
             [
              0.1111111111111111,
              "#46039f"
             ],
             [
              0.2222222222222222,
              "#7201a8"
             ],
             [
              0.3333333333333333,
              "#9c179e"
             ],
             [
              0.4444444444444444,
              "#bd3786"
             ],
             [
              0.5555555555555556,
              "#d8576b"
             ],
             [
              0.6666666666666666,
              "#ed7953"
             ],
             [
              0.7777777777777778,
              "#fb9f3a"
             ],
             [
              0.8888888888888888,
              "#fdca26"
             ],
             [
              1,
              "#f0f921"
             ]
            ],
            "type": "heatmapgl"
           }
          ],
          "histogram": [
           {
            "marker": {
             "pattern": {
              "fillmode": "overlay",
              "size": 10,
              "solidity": 0.2
             }
            },
            "type": "histogram"
           }
          ],
          "histogram2d": [
           {
            "colorbar": {
             "outlinewidth": 0,
             "ticks": ""
            },
            "colorscale": [
             [
              0,
              "#0d0887"
             ],
             [
              0.1111111111111111,
              "#46039f"
             ],
             [
              0.2222222222222222,
              "#7201a8"
             ],
             [
              0.3333333333333333,
              "#9c179e"
             ],
             [
              0.4444444444444444,
              "#bd3786"
             ],
             [
              0.5555555555555556,
              "#d8576b"
             ],
             [
              0.6666666666666666,
              "#ed7953"
             ],
             [
              0.7777777777777778,
              "#fb9f3a"
             ],
             [
              0.8888888888888888,
              "#fdca26"
             ],
             [
              1,
              "#f0f921"
             ]
            ],
            "type": "histogram2d"
           }
          ],
          "histogram2dcontour": [
           {
            "colorbar": {
             "outlinewidth": 0,
             "ticks": ""
            },
            "colorscale": [
             [
              0,
              "#0d0887"
             ],
             [
              0.1111111111111111,
              "#46039f"
             ],
             [
              0.2222222222222222,
              "#7201a8"
             ],
             [
              0.3333333333333333,
              "#9c179e"
             ],
             [
              0.4444444444444444,
              "#bd3786"
             ],
             [
              0.5555555555555556,
              "#d8576b"
             ],
             [
              0.6666666666666666,
              "#ed7953"
             ],
             [
              0.7777777777777778,
              "#fb9f3a"
             ],
             [
              0.8888888888888888,
              "#fdca26"
             ],
             [
              1,
              "#f0f921"
             ]
            ],
            "type": "histogram2dcontour"
           }
          ],
          "mesh3d": [
           {
            "colorbar": {
             "outlinewidth": 0,
             "ticks": ""
            },
            "type": "mesh3d"
           }
          ],
          "parcoords": [
           {
            "line": {
             "colorbar": {
              "outlinewidth": 0,
              "ticks": ""
             }
            },
            "type": "parcoords"
           }
          ],
          "pie": [
           {
            "automargin": true,
            "type": "pie"
           }
          ],
          "scatter": [
           {
            "fillpattern": {
             "fillmode": "overlay",
             "size": 10,
             "solidity": 0.2
            },
            "type": "scatter"
           }
          ],
          "scatter3d": [
           {
            "line": {
             "colorbar": {
              "outlinewidth": 0,
              "ticks": ""
             }
            },
            "marker": {
             "colorbar": {
              "outlinewidth": 0,
              "ticks": ""
             }
            },
            "type": "scatter3d"
           }
          ],
          "scattercarpet": [
           {
            "marker": {
             "colorbar": {
              "outlinewidth": 0,
              "ticks": ""
             }
            },
            "type": "scattercarpet"
           }
          ],
          "scattergeo": [
           {
            "marker": {
             "colorbar": {
              "outlinewidth": 0,
              "ticks": ""
             }
            },
            "type": "scattergeo"
           }
          ],
          "scattergl": [
           {
            "marker": {
             "colorbar": {
              "outlinewidth": 0,
              "ticks": ""
             }
            },
            "type": "scattergl"
           }
          ],
          "scattermapbox": [
           {
            "marker": {
             "colorbar": {
              "outlinewidth": 0,
              "ticks": ""
             }
            },
            "type": "scattermapbox"
           }
          ],
          "scatterpolar": [
           {
            "marker": {
             "colorbar": {
              "outlinewidth": 0,
              "ticks": ""
             }
            },
            "type": "scatterpolar"
           }
          ],
          "scatterpolargl": [
           {
            "marker": {
             "colorbar": {
              "outlinewidth": 0,
              "ticks": ""
             }
            },
            "type": "scatterpolargl"
           }
          ],
          "scatterternary": [
           {
            "marker": {
             "colorbar": {
              "outlinewidth": 0,
              "ticks": ""
             }
            },
            "type": "scatterternary"
           }
          ],
          "surface": [
           {
            "colorbar": {
             "outlinewidth": 0,
             "ticks": ""
            },
            "colorscale": [
             [
              0,
              "#0d0887"
             ],
             [
              0.1111111111111111,
              "#46039f"
             ],
             [
              0.2222222222222222,
              "#7201a8"
             ],
             [
              0.3333333333333333,
              "#9c179e"
             ],
             [
              0.4444444444444444,
              "#bd3786"
             ],
             [
              0.5555555555555556,
              "#d8576b"
             ],
             [
              0.6666666666666666,
              "#ed7953"
             ],
             [
              0.7777777777777778,
              "#fb9f3a"
             ],
             [
              0.8888888888888888,
              "#fdca26"
             ],
             [
              1,
              "#f0f921"
             ]
            ],
            "type": "surface"
           }
          ],
          "table": [
           {
            "cells": {
             "fill": {
              "color": "#EBF0F8"
             },
             "line": {
              "color": "white"
             }
            },
            "header": {
             "fill": {
              "color": "#C8D4E3"
             },
             "line": {
              "color": "white"
             }
            },
            "type": "table"
           }
          ]
         },
         "layout": {
          "annotationdefaults": {
           "arrowcolor": "#2a3f5f",
           "arrowhead": 0,
           "arrowwidth": 1
          },
          "autotypenumbers": "strict",
          "coloraxis": {
           "colorbar": {
            "outlinewidth": 0,
            "ticks": ""
           }
          },
          "colorscale": {
           "diverging": [
            [
             0,
             "#8e0152"
            ],
            [
             0.1,
             "#c51b7d"
            ],
            [
             0.2,
             "#de77ae"
            ],
            [
             0.3,
             "#f1b6da"
            ],
            [
             0.4,
             "#fde0ef"
            ],
            [
             0.5,
             "#f7f7f7"
            ],
            [
             0.6,
             "#e6f5d0"
            ],
            [
             0.7,
             "#b8e186"
            ],
            [
             0.8,
             "#7fbc41"
            ],
            [
             0.9,
             "#4d9221"
            ],
            [
             1,
             "#276419"
            ]
           ],
           "sequential": [
            [
             0,
             "#0d0887"
            ],
            [
             0.1111111111111111,
             "#46039f"
            ],
            [
             0.2222222222222222,
             "#7201a8"
            ],
            [
             0.3333333333333333,
             "#9c179e"
            ],
            [
             0.4444444444444444,
             "#bd3786"
            ],
            [
             0.5555555555555556,
             "#d8576b"
            ],
            [
             0.6666666666666666,
             "#ed7953"
            ],
            [
             0.7777777777777778,
             "#fb9f3a"
            ],
            [
             0.8888888888888888,
             "#fdca26"
            ],
            [
             1,
             "#f0f921"
            ]
           ],
           "sequentialminus": [
            [
             0,
             "#0d0887"
            ],
            [
             0.1111111111111111,
             "#46039f"
            ],
            [
             0.2222222222222222,
             "#7201a8"
            ],
            [
             0.3333333333333333,
             "#9c179e"
            ],
            [
             0.4444444444444444,
             "#bd3786"
            ],
            [
             0.5555555555555556,
             "#d8576b"
            ],
            [
             0.6666666666666666,
             "#ed7953"
            ],
            [
             0.7777777777777778,
             "#fb9f3a"
            ],
            [
             0.8888888888888888,
             "#fdca26"
            ],
            [
             1,
             "#f0f921"
            ]
           ]
          },
          "colorway": [
           "#636efa",
           "#EF553B",
           "#00cc96",
           "#ab63fa",
           "#FFA15A",
           "#19d3f3",
           "#FF6692",
           "#B6E880",
           "#FF97FF",
           "#FECB52"
          ],
          "font": {
           "color": "#2a3f5f"
          },
          "geo": {
           "bgcolor": "white",
           "lakecolor": "white",
           "landcolor": "#E5ECF6",
           "showlakes": true,
           "showland": true,
           "subunitcolor": "white"
          },
          "hoverlabel": {
           "align": "left"
          },
          "hovermode": "closest",
          "mapbox": {
           "style": "light"
          },
          "paper_bgcolor": "white",
          "plot_bgcolor": "#E5ECF6",
          "polar": {
           "angularaxis": {
            "gridcolor": "white",
            "linecolor": "white",
            "ticks": ""
           },
           "bgcolor": "#E5ECF6",
           "radialaxis": {
            "gridcolor": "white",
            "linecolor": "white",
            "ticks": ""
           }
          },
          "scene": {
           "xaxis": {
            "backgroundcolor": "#E5ECF6",
            "gridcolor": "white",
            "gridwidth": 2,
            "linecolor": "white",
            "showbackground": true,
            "ticks": "",
            "zerolinecolor": "white"
           },
           "yaxis": {
            "backgroundcolor": "#E5ECF6",
            "gridcolor": "white",
            "gridwidth": 2,
            "linecolor": "white",
            "showbackground": true,
            "ticks": "",
            "zerolinecolor": "white"
           },
           "zaxis": {
            "backgroundcolor": "#E5ECF6",
            "gridcolor": "white",
            "gridwidth": 2,
            "linecolor": "white",
            "showbackground": true,
            "ticks": "",
            "zerolinecolor": "white"
           }
          },
          "shapedefaults": {
           "line": {
            "color": "#2a3f5f"
           }
          },
          "ternary": {
           "aaxis": {
            "gridcolor": "white",
            "linecolor": "white",
            "ticks": ""
           },
           "baxis": {
            "gridcolor": "white",
            "linecolor": "white",
            "ticks": ""
           },
           "bgcolor": "#E5ECF6",
           "caxis": {
            "gridcolor": "white",
            "linecolor": "white",
            "ticks": ""
           }
          },
          "title": {
           "x": 0.05
          },
          "xaxis": {
           "automargin": true,
           "gridcolor": "white",
           "linecolor": "white",
           "ticks": "",
           "title": {
            "standoff": 15
           },
           "zerolinecolor": "white",
           "zerolinewidth": 2
          },
          "yaxis": {
           "automargin": true,
           "gridcolor": "white",
           "linecolor": "white",
           "ticks": "",
           "title": {
            "standoff": 15
           },
           "zerolinecolor": "white",
           "zerolinewidth": 2
          }
         }
        },
        "title": {
         "text": "Interactive Graph"
        },
        "updatemenus": [
         {
          "buttons": [
           {
            "args": [
             null,
             {
              "frame": {
               "duration": 500,
               "redraw": false
              },
              "fromcurrent": true,
              "mode": "immediate",
              "transition": {
               "duration": 500,
               "easing": "linear"
              }
             }
            ],
            "label": "&#9654;",
            "method": "animate"
           },
           {
            "args": [
             [
              null
             ],
             {
              "frame": {
               "duration": 0,
               "redraw": false
              },
              "fromcurrent": true,
              "mode": "immediate",
              "transition": {
               "duration": 0,
               "easing": "linear"
              }
             }
            ],
            "label": "&#9724;",
            "method": "animate"
           }
          ],
          "direction": "left",
          "pad": {
           "r": 10,
           "t": 70
          },
          "showactive": false,
          "type": "buttons",
          "x": 0.1,
          "xanchor": "right",
          "y": 0,
          "yanchor": "top"
         }
        ],
        "xaxis": {
         "anchor": "y",
         "domain": [
          0,
          1
         ],
         "range": [
          -1.710016,
          0.5926759
         ],
         "title": {
          "text": "Ireland Index"
         }
        },
        "yaxis": {
         "anchor": "x",
         "domain": [
          0,
          1
         ],
         "range": [
          -1.674004,
          1.093043
         ],
         "title": {
          "text": "Finland Index"
         }
        }
       }
      },
      "text/html": [
       "<div>                            <div id=\"e8f2926a-aae4-406d-9839-0323253b1225\" class=\"plotly-graph-div\" style=\"height:525px; width:100%;\"></div>            <script type=\"text/javascript\">                require([\"plotly\"], function(Plotly) {                    window.PLOTLYENV=window.PLOTLYENV || {};                                    if (document.getElementById(\"e8f2926a-aae4-406d-9839-0323253b1225\")) {                    Plotly.newPlot(                        \"e8f2926a-aae4-406d-9839-0323253b1225\",                        [{\"hovertemplate\":\"<b>%{hovertext}</b><br><br>Month=2020M01<br>Ireland Index=%{x}<br>Finland Index=%{y}<br>Freight Dublin=%{marker.color}<extra></extra>\",\"hovertext\":[\"2020M01\"],\"legendgroup\":\"\",\"marker\":{\"color\":[338400.0],\"coloraxis\":\"coloraxis\",\"symbol\":\"circle\"},\"mode\":\"markers\",\"name\":\"\",\"orientation\":\"v\",\"showlegend\":false,\"x\":[0.182677],\"xaxis\":\"x\",\"y\":[0.05055866],\"yaxis\":\"y\",\"type\":\"scatter\"}],                        {\"template\":{\"data\":{\"histogram2dcontour\":[{\"type\":\"histogram2dcontour\",\"colorbar\":{\"outlinewidth\":0,\"ticks\":\"\"},\"colorscale\":[[0.0,\"#0d0887\"],[0.1111111111111111,\"#46039f\"],[0.2222222222222222,\"#7201a8\"],[0.3333333333333333,\"#9c179e\"],[0.4444444444444444,\"#bd3786\"],[0.5555555555555556,\"#d8576b\"],[0.6666666666666666,\"#ed7953\"],[0.7777777777777778,\"#fb9f3a\"],[0.8888888888888888,\"#fdca26\"],[1.0,\"#f0f921\"]]}],\"choropleth\":[{\"type\":\"choropleth\",\"colorbar\":{\"outlinewidth\":0,\"ticks\":\"\"}}],\"histogram2d\":[{\"type\":\"histogram2d\",\"colorbar\":{\"outlinewidth\":0,\"ticks\":\"\"},\"colorscale\":[[0.0,\"#0d0887\"],[0.1111111111111111,\"#46039f\"],[0.2222222222222222,\"#7201a8\"],[0.3333333333333333,\"#9c179e\"],[0.4444444444444444,\"#bd3786\"],[0.5555555555555556,\"#d8576b\"],[0.6666666666666666,\"#ed7953\"],[0.7777777777777778,\"#fb9f3a\"],[0.8888888888888888,\"#fdca26\"],[1.0,\"#f0f921\"]]}],\"heatmap\":[{\"type\":\"heatmap\",\"colorbar\":{\"outlinewidth\":0,\"ticks\":\"\"},\"colorscale\":[[0.0,\"#0d0887\"],[0.1111111111111111,\"#46039f\"],[0.2222222222222222,\"#7201a8\"],[0.3333333333333333,\"#9c179e\"],[0.4444444444444444,\"#bd3786\"],[0.5555555555555556,\"#d8576b\"],[0.6666666666666666,\"#ed7953\"],[0.7777777777777778,\"#fb9f3a\"],[0.8888888888888888,\"#fdca26\"],[1.0,\"#f0f921\"]]}],\"heatmapgl\":[{\"type\":\"heatmapgl\",\"colorbar\":{\"outlinewidth\":0,\"ticks\":\"\"},\"colorscale\":[[0.0,\"#0d0887\"],[0.1111111111111111,\"#46039f\"],[0.2222222222222222,\"#7201a8\"],[0.3333333333333333,\"#9c179e\"],[0.4444444444444444,\"#bd3786\"],[0.5555555555555556,\"#d8576b\"],[0.6666666666666666,\"#ed7953\"],[0.7777777777777778,\"#fb9f3a\"],[0.8888888888888888,\"#fdca26\"],[1.0,\"#f0f921\"]]}],\"contourcarpet\":[{\"type\":\"contourcarpet\",\"colorbar\":{\"outlinewidth\":0,\"ticks\":\"\"}}],\"contour\":[{\"type\":\"contour\",\"colorbar\":{\"outlinewidth\":0,\"ticks\":\"\"},\"colorscale\":[[0.0,\"#0d0887\"],[0.1111111111111111,\"#46039f\"],[0.2222222222222222,\"#7201a8\"],[0.3333333333333333,\"#9c179e\"],[0.4444444444444444,\"#bd3786\"],[0.5555555555555556,\"#d8576b\"],[0.6666666666666666,\"#ed7953\"],[0.7777777777777778,\"#fb9f3a\"],[0.8888888888888888,\"#fdca26\"],[1.0,\"#f0f921\"]]}],\"surface\":[{\"type\":\"surface\",\"colorbar\":{\"outlinewidth\":0,\"ticks\":\"\"},\"colorscale\":[[0.0,\"#0d0887\"],[0.1111111111111111,\"#46039f\"],[0.2222222222222222,\"#7201a8\"],[0.3333333333333333,\"#9c179e\"],[0.4444444444444444,\"#bd3786\"],[0.5555555555555556,\"#d8576b\"],[0.6666666666666666,\"#ed7953\"],[0.7777777777777778,\"#fb9f3a\"],[0.8888888888888888,\"#fdca26\"],[1.0,\"#f0f921\"]]}],\"mesh3d\":[{\"type\":\"mesh3d\",\"colorbar\":{\"outlinewidth\":0,\"ticks\":\"\"}}],\"scatter\":[{\"fillpattern\":{\"fillmode\":\"overlay\",\"size\":10,\"solidity\":0.2},\"type\":\"scatter\"}],\"parcoords\":[{\"type\":\"parcoords\",\"line\":{\"colorbar\":{\"outlinewidth\":0,\"ticks\":\"\"}}}],\"scatterpolargl\":[{\"type\":\"scatterpolargl\",\"marker\":{\"colorbar\":{\"outlinewidth\":0,\"ticks\":\"\"}}}],\"bar\":[{\"error_x\":{\"color\":\"#2a3f5f\"},\"error_y\":{\"color\":\"#2a3f5f\"},\"marker\":{\"line\":{\"color\":\"#E5ECF6\",\"width\":0.5},\"pattern\":{\"fillmode\":\"overlay\",\"size\":10,\"solidity\":0.2}},\"type\":\"bar\"}],\"scattergeo\":[{\"type\":\"scattergeo\",\"marker\":{\"colorbar\":{\"outlinewidth\":0,\"ticks\":\"\"}}}],\"scatterpolar\":[{\"type\":\"scatterpolar\",\"marker\":{\"colorbar\":{\"outlinewidth\":0,\"ticks\":\"\"}}}],\"histogram\":[{\"marker\":{\"pattern\":{\"fillmode\":\"overlay\",\"size\":10,\"solidity\":0.2}},\"type\":\"histogram\"}],\"scattergl\":[{\"type\":\"scattergl\",\"marker\":{\"colorbar\":{\"outlinewidth\":0,\"ticks\":\"\"}}}],\"scatter3d\":[{\"type\":\"scatter3d\",\"line\":{\"colorbar\":{\"outlinewidth\":0,\"ticks\":\"\"}},\"marker\":{\"colorbar\":{\"outlinewidth\":0,\"ticks\":\"\"}}}],\"scattermapbox\":[{\"type\":\"scattermapbox\",\"marker\":{\"colorbar\":{\"outlinewidth\":0,\"ticks\":\"\"}}}],\"scatterternary\":[{\"type\":\"scatterternary\",\"marker\":{\"colorbar\":{\"outlinewidth\":0,\"ticks\":\"\"}}}],\"scattercarpet\":[{\"type\":\"scattercarpet\",\"marker\":{\"colorbar\":{\"outlinewidth\":0,\"ticks\":\"\"}}}],\"carpet\":[{\"aaxis\":{\"endlinecolor\":\"#2a3f5f\",\"gridcolor\":\"white\",\"linecolor\":\"white\",\"minorgridcolor\":\"white\",\"startlinecolor\":\"#2a3f5f\"},\"baxis\":{\"endlinecolor\":\"#2a3f5f\",\"gridcolor\":\"white\",\"linecolor\":\"white\",\"minorgridcolor\":\"white\",\"startlinecolor\":\"#2a3f5f\"},\"type\":\"carpet\"}],\"table\":[{\"cells\":{\"fill\":{\"color\":\"#EBF0F8\"},\"line\":{\"color\":\"white\"}},\"header\":{\"fill\":{\"color\":\"#C8D4E3\"},\"line\":{\"color\":\"white\"}},\"type\":\"table\"}],\"barpolar\":[{\"marker\":{\"line\":{\"color\":\"#E5ECF6\",\"width\":0.5},\"pattern\":{\"fillmode\":\"overlay\",\"size\":10,\"solidity\":0.2}},\"type\":\"barpolar\"}],\"pie\":[{\"automargin\":true,\"type\":\"pie\"}]},\"layout\":{\"autotypenumbers\":\"strict\",\"colorway\":[\"#636efa\",\"#EF553B\",\"#00cc96\",\"#ab63fa\",\"#FFA15A\",\"#19d3f3\",\"#FF6692\",\"#B6E880\",\"#FF97FF\",\"#FECB52\"],\"font\":{\"color\":\"#2a3f5f\"},\"hovermode\":\"closest\",\"hoverlabel\":{\"align\":\"left\"},\"paper_bgcolor\":\"white\",\"plot_bgcolor\":\"#E5ECF6\",\"polar\":{\"bgcolor\":\"#E5ECF6\",\"angularaxis\":{\"gridcolor\":\"white\",\"linecolor\":\"white\",\"ticks\":\"\"},\"radialaxis\":{\"gridcolor\":\"white\",\"linecolor\":\"white\",\"ticks\":\"\"}},\"ternary\":{\"bgcolor\":\"#E5ECF6\",\"aaxis\":{\"gridcolor\":\"white\",\"linecolor\":\"white\",\"ticks\":\"\"},\"baxis\":{\"gridcolor\":\"white\",\"linecolor\":\"white\",\"ticks\":\"\"},\"caxis\":{\"gridcolor\":\"white\",\"linecolor\":\"white\",\"ticks\":\"\"}},\"coloraxis\":{\"colorbar\":{\"outlinewidth\":0,\"ticks\":\"\"}},\"colorscale\":{\"sequential\":[[0.0,\"#0d0887\"],[0.1111111111111111,\"#46039f\"],[0.2222222222222222,\"#7201a8\"],[0.3333333333333333,\"#9c179e\"],[0.4444444444444444,\"#bd3786\"],[0.5555555555555556,\"#d8576b\"],[0.6666666666666666,\"#ed7953\"],[0.7777777777777778,\"#fb9f3a\"],[0.8888888888888888,\"#fdca26\"],[1.0,\"#f0f921\"]],\"sequentialminus\":[[0.0,\"#0d0887\"],[0.1111111111111111,\"#46039f\"],[0.2222222222222222,\"#7201a8\"],[0.3333333333333333,\"#9c179e\"],[0.4444444444444444,\"#bd3786\"],[0.5555555555555556,\"#d8576b\"],[0.6666666666666666,\"#ed7953\"],[0.7777777777777778,\"#fb9f3a\"],[0.8888888888888888,\"#fdca26\"],[1.0,\"#f0f921\"]],\"diverging\":[[0,\"#8e0152\"],[0.1,\"#c51b7d\"],[0.2,\"#de77ae\"],[0.3,\"#f1b6da\"],[0.4,\"#fde0ef\"],[0.5,\"#f7f7f7\"],[0.6,\"#e6f5d0\"],[0.7,\"#b8e186\"],[0.8,\"#7fbc41\"],[0.9,\"#4d9221\"],[1,\"#276419\"]]},\"xaxis\":{\"gridcolor\":\"white\",\"linecolor\":\"white\",\"ticks\":\"\",\"title\":{\"standoff\":15},\"zerolinecolor\":\"white\",\"automargin\":true,\"zerolinewidth\":2},\"yaxis\":{\"gridcolor\":\"white\",\"linecolor\":\"white\",\"ticks\":\"\",\"title\":{\"standoff\":15},\"zerolinecolor\":\"white\",\"automargin\":true,\"zerolinewidth\":2},\"scene\":{\"xaxis\":{\"backgroundcolor\":\"#E5ECF6\",\"gridcolor\":\"white\",\"linecolor\":\"white\",\"showbackground\":true,\"ticks\":\"\",\"zerolinecolor\":\"white\",\"gridwidth\":2},\"yaxis\":{\"backgroundcolor\":\"#E5ECF6\",\"gridcolor\":\"white\",\"linecolor\":\"white\",\"showbackground\":true,\"ticks\":\"\",\"zerolinecolor\":\"white\",\"gridwidth\":2},\"zaxis\":{\"backgroundcolor\":\"#E5ECF6\",\"gridcolor\":\"white\",\"linecolor\":\"white\",\"showbackground\":true,\"ticks\":\"\",\"zerolinecolor\":\"white\",\"gridwidth\":2}},\"shapedefaults\":{\"line\":{\"color\":\"#2a3f5f\"}},\"annotationdefaults\":{\"arrowcolor\":\"#2a3f5f\",\"arrowhead\":0,\"arrowwidth\":1},\"geo\":{\"bgcolor\":\"white\",\"landcolor\":\"#E5ECF6\",\"subunitcolor\":\"white\",\"showland\":true,\"showlakes\":true,\"lakecolor\":\"white\"},\"title\":{\"x\":0.05},\"mapbox\":{\"style\":\"light\"}}},\"xaxis\":{\"anchor\":\"y\",\"domain\":[0.0,1.0],\"title\":{\"text\":\"Ireland Index\"},\"range\":[-1.710016,0.5926759]},\"yaxis\":{\"anchor\":\"x\",\"domain\":[0.0,1.0],\"title\":{\"text\":\"Finland Index\"},\"range\":[-1.674004,1.093043]},\"coloraxis\":{\"colorbar\":{\"title\":{\"text\":\"Freight Dublin\"}},\"colorscale\":[[0.0,\"#0d0887\"],[0.1111111111111111,\"#46039f\"],[0.2222222222222222,\"#7201a8\"],[0.3333333333333333,\"#9c179e\"],[0.4444444444444444,\"#bd3786\"],[0.5555555555555556,\"#d8576b\"],[0.6666666666666666,\"#ed7953\"],[0.7777777777777778,\"#fb9f3a\"],[0.8888888888888888,\"#fdca26\"],[1.0,\"#f0f921\"]]},\"legend\":{\"tracegroupgap\":0},\"title\":{\"text\":\"Interactive Graph\"},\"updatemenus\":[{\"buttons\":[{\"args\":[null,{\"frame\":{\"duration\":500,\"redraw\":false},\"mode\":\"immediate\",\"fromcurrent\":true,\"transition\":{\"duration\":500,\"easing\":\"linear\"}}],\"label\":\"&#9654;\",\"method\":\"animate\"},{\"args\":[[null],{\"frame\":{\"duration\":0,\"redraw\":false},\"mode\":\"immediate\",\"fromcurrent\":true,\"transition\":{\"duration\":0,\"easing\":\"linear\"}}],\"label\":\"&#9724;\",\"method\":\"animate\"}],\"direction\":\"left\",\"pad\":{\"r\":10,\"t\":70},\"showactive\":false,\"type\":\"buttons\",\"x\":0.1,\"xanchor\":\"right\",\"y\":0,\"yanchor\":\"top\"}],\"sliders\":[{\"active\":0,\"currentvalue\":{\"prefix\":\"Month=\"},\"len\":0.9,\"pad\":{\"b\":10,\"t\":60},\"steps\":[{\"args\":[[\"2020M01\"],{\"frame\":{\"duration\":0,\"redraw\":false},\"mode\":\"immediate\",\"fromcurrent\":true,\"transition\":{\"duration\":0,\"easing\":\"linear\"}}],\"label\":\"2020M01\",\"method\":\"animate\"},{\"args\":[[\"2020M02\"],{\"frame\":{\"duration\":0,\"redraw\":false},\"mode\":\"immediate\",\"fromcurrent\":true,\"transition\":{\"duration\":0,\"easing\":\"linear\"}}],\"label\":\"2020M02\",\"method\":\"animate\"},{\"args\":[[\"2020M03\"],{\"frame\":{\"duration\":0,\"redraw\":false},\"mode\":\"immediate\",\"fromcurrent\":true,\"transition\":{\"duration\":0,\"easing\":\"linear\"}}],\"label\":\"2020M03\",\"method\":\"animate\"},{\"args\":[[\"2020M04\"],{\"frame\":{\"duration\":0,\"redraw\":false},\"mode\":\"immediate\",\"fromcurrent\":true,\"transition\":{\"duration\":0,\"easing\":\"linear\"}}],\"label\":\"2020M04\",\"method\":\"animate\"},{\"args\":[[\"2020M05\"],{\"frame\":{\"duration\":0,\"redraw\":false},\"mode\":\"immediate\",\"fromcurrent\":true,\"transition\":{\"duration\":0,\"easing\":\"linear\"}}],\"label\":\"2020M05\",\"method\":\"animate\"},{\"args\":[[\"2020M06\"],{\"frame\":{\"duration\":0,\"redraw\":false},\"mode\":\"immediate\",\"fromcurrent\":true,\"transition\":{\"duration\":0,\"easing\":\"linear\"}}],\"label\":\"2020M06\",\"method\":\"animate\"},{\"args\":[[\"2020M07\"],{\"frame\":{\"duration\":0,\"redraw\":false},\"mode\":\"immediate\",\"fromcurrent\":true,\"transition\":{\"duration\":0,\"easing\":\"linear\"}}],\"label\":\"2020M07\",\"method\":\"animate\"},{\"args\":[[\"2020M08\"],{\"frame\":{\"duration\":0,\"redraw\":false},\"mode\":\"immediate\",\"fromcurrent\":true,\"transition\":{\"duration\":0,\"easing\":\"linear\"}}],\"label\":\"2020M08\",\"method\":\"animate\"},{\"args\":[[\"2020M09\"],{\"frame\":{\"duration\":0,\"redraw\":false},\"mode\":\"immediate\",\"fromcurrent\":true,\"transition\":{\"duration\":0,\"easing\":\"linear\"}}],\"label\":\"2020M09\",\"method\":\"animate\"},{\"args\":[[\"2020M10\"],{\"frame\":{\"duration\":0,\"redraw\":false},\"mode\":\"immediate\",\"fromcurrent\":true,\"transition\":{\"duration\":0,\"easing\":\"linear\"}}],\"label\":\"2020M10\",\"method\":\"animate\"},{\"args\":[[\"2020M11\"],{\"frame\":{\"duration\":0,\"redraw\":false},\"mode\":\"immediate\",\"fromcurrent\":true,\"transition\":{\"duration\":0,\"easing\":\"linear\"}}],\"label\":\"2020M11\",\"method\":\"animate\"},{\"args\":[[\"2020M12\"],{\"frame\":{\"duration\":0,\"redraw\":false},\"mode\":\"immediate\",\"fromcurrent\":true,\"transition\":{\"duration\":0,\"easing\":\"linear\"}}],\"label\":\"2020M12\",\"method\":\"animate\"},{\"args\":[[\"2021M01\"],{\"frame\":{\"duration\":0,\"redraw\":false},\"mode\":\"immediate\",\"fromcurrent\":true,\"transition\":{\"duration\":0,\"easing\":\"linear\"}}],\"label\":\"2021M01\",\"method\":\"animate\"},{\"args\":[[\"2021M02\"],{\"frame\":{\"duration\":0,\"redraw\":false},\"mode\":\"immediate\",\"fromcurrent\":true,\"transition\":{\"duration\":0,\"easing\":\"linear\"}}],\"label\":\"2021M02\",\"method\":\"animate\"},{\"args\":[[\"2021M03\"],{\"frame\":{\"duration\":0,\"redraw\":false},\"mode\":\"immediate\",\"fromcurrent\":true,\"transition\":{\"duration\":0,\"easing\":\"linear\"}}],\"label\":\"2021M03\",\"method\":\"animate\"},{\"args\":[[\"2021M04\"],{\"frame\":{\"duration\":0,\"redraw\":false},\"mode\":\"immediate\",\"fromcurrent\":true,\"transition\":{\"duration\":0,\"easing\":\"linear\"}}],\"label\":\"2021M04\",\"method\":\"animate\"},{\"args\":[[\"2021M05\"],{\"frame\":{\"duration\":0,\"redraw\":false},\"mode\":\"immediate\",\"fromcurrent\":true,\"transition\":{\"duration\":0,\"easing\":\"linear\"}}],\"label\":\"2021M05\",\"method\":\"animate\"},{\"args\":[[\"2021M06\"],{\"frame\":{\"duration\":0,\"redraw\":false},\"mode\":\"immediate\",\"fromcurrent\":true,\"transition\":{\"duration\":0,\"easing\":\"linear\"}}],\"label\":\"2021M06\",\"method\":\"animate\"},{\"args\":[[\"2021M07\"],{\"frame\":{\"duration\":0,\"redraw\":false},\"mode\":\"immediate\",\"fromcurrent\":true,\"transition\":{\"duration\":0,\"easing\":\"linear\"}}],\"label\":\"2021M07\",\"method\":\"animate\"},{\"args\":[[\"2021M08\"],{\"frame\":{\"duration\":0,\"redraw\":false},\"mode\":\"immediate\",\"fromcurrent\":true,\"transition\":{\"duration\":0,\"easing\":\"linear\"}}],\"label\":\"2021M08\",\"method\":\"animate\"},{\"args\":[[\"2021M09\"],{\"frame\":{\"duration\":0,\"redraw\":false},\"mode\":\"immediate\",\"fromcurrent\":true,\"transition\":{\"duration\":0,\"easing\":\"linear\"}}],\"label\":\"2021M09\",\"method\":\"animate\"},{\"args\":[[\"2021M10\"],{\"frame\":{\"duration\":0,\"redraw\":false},\"mode\":\"immediate\",\"fromcurrent\":true,\"transition\":{\"duration\":0,\"easing\":\"linear\"}}],\"label\":\"2021M10\",\"method\":\"animate\"},{\"args\":[[\"2021M11\"],{\"frame\":{\"duration\":0,\"redraw\":false},\"mode\":\"immediate\",\"fromcurrent\":true,\"transition\":{\"duration\":0,\"easing\":\"linear\"}}],\"label\":\"2021M11\",\"method\":\"animate\"},{\"args\":[[\"2021M12\"],{\"frame\":{\"duration\":0,\"redraw\":false},\"mode\":\"immediate\",\"fromcurrent\":true,\"transition\":{\"duration\":0,\"easing\":\"linear\"}}],\"label\":\"2021M12\",\"method\":\"animate\"},{\"args\":[[\"2022M01\"],{\"frame\":{\"duration\":0,\"redraw\":false},\"mode\":\"immediate\",\"fromcurrent\":true,\"transition\":{\"duration\":0,\"easing\":\"linear\"}}],\"label\":\"2022M01\",\"method\":\"animate\"},{\"args\":[[\"2022M02\"],{\"frame\":{\"duration\":0,\"redraw\":false},\"mode\":\"immediate\",\"fromcurrent\":true,\"transition\":{\"duration\":0,\"easing\":\"linear\"}}],\"label\":\"2022M02\",\"method\":\"animate\"},{\"args\":[[\"2022M03\"],{\"frame\":{\"duration\":0,\"redraw\":false},\"mode\":\"immediate\",\"fromcurrent\":true,\"transition\":{\"duration\":0,\"easing\":\"linear\"}}],\"label\":\"2022M03\",\"method\":\"animate\"},{\"args\":[[\"2022M04\"],{\"frame\":{\"duration\":0,\"redraw\":false},\"mode\":\"immediate\",\"fromcurrent\":true,\"transition\":{\"duration\":0,\"easing\":\"linear\"}}],\"label\":\"2022M04\",\"method\":\"animate\"},{\"args\":[[\"2022M05\"],{\"frame\":{\"duration\":0,\"redraw\":false},\"mode\":\"immediate\",\"fromcurrent\":true,\"transition\":{\"duration\":0,\"easing\":\"linear\"}}],\"label\":\"2022M05\",\"method\":\"animate\"},{\"args\":[[\"2022M06\"],{\"frame\":{\"duration\":0,\"redraw\":false},\"mode\":\"immediate\",\"fromcurrent\":true,\"transition\":{\"duration\":0,\"easing\":\"linear\"}}],\"label\":\"2022M06\",\"method\":\"animate\"},{\"args\":[[\"2022M07\"],{\"frame\":{\"duration\":0,\"redraw\":false},\"mode\":\"immediate\",\"fromcurrent\":true,\"transition\":{\"duration\":0,\"easing\":\"linear\"}}],\"label\":\"2022M07\",\"method\":\"animate\"},{\"args\":[[\"2022M08\"],{\"frame\":{\"duration\":0,\"redraw\":false},\"mode\":\"immediate\",\"fromcurrent\":true,\"transition\":{\"duration\":0,\"easing\":\"linear\"}}],\"label\":\"2022M08\",\"method\":\"animate\"},{\"args\":[[\"2022M09\"],{\"frame\":{\"duration\":0,\"redraw\":false},\"mode\":\"immediate\",\"fromcurrent\":true,\"transition\":{\"duration\":0,\"easing\":\"linear\"}}],\"label\":\"2022M09\",\"method\":\"animate\"},{\"args\":[[\"2022M10\"],{\"frame\":{\"duration\":0,\"redraw\":false},\"mode\":\"immediate\",\"fromcurrent\":true,\"transition\":{\"duration\":0,\"easing\":\"linear\"}}],\"label\":\"2022M10\",\"method\":\"animate\"},{\"args\":[[\"2022M11\"],{\"frame\":{\"duration\":0,\"redraw\":false},\"mode\":\"immediate\",\"fromcurrent\":true,\"transition\":{\"duration\":0,\"easing\":\"linear\"}}],\"label\":\"2022M11\",\"method\":\"animate\"},{\"args\":[[\"2022M12\"],{\"frame\":{\"duration\":0,\"redraw\":false},\"mode\":\"immediate\",\"fromcurrent\":true,\"transition\":{\"duration\":0,\"easing\":\"linear\"}}],\"label\":\"2022M12\",\"method\":\"animate\"},{\"args\":[[\"2023M01\"],{\"frame\":{\"duration\":0,\"redraw\":false},\"mode\":\"immediate\",\"fromcurrent\":true,\"transition\":{\"duration\":0,\"easing\":\"linear\"}}],\"label\":\"2023M01\",\"method\":\"animate\"},{\"args\":[[\"2023M02\"],{\"frame\":{\"duration\":0,\"redraw\":false},\"mode\":\"immediate\",\"fromcurrent\":true,\"transition\":{\"duration\":0,\"easing\":\"linear\"}}],\"label\":\"2023M02\",\"method\":\"animate\"},{\"args\":[[\"2023M03\"],{\"frame\":{\"duration\":0,\"redraw\":false},\"mode\":\"immediate\",\"fromcurrent\":true,\"transition\":{\"duration\":0,\"easing\":\"linear\"}}],\"label\":\"2023M03\",\"method\":\"animate\"}],\"x\":0.1,\"xanchor\":\"left\",\"y\":0,\"yanchor\":\"top\"}]},                        {\"responsive\": true}                    ).then(function(){\n",
       "                            Plotly.addFrames('e8f2926a-aae4-406d-9839-0323253b1225', [{\"data\":[{\"hovertemplate\":\"<b>%{hovertext}</b><br><br>Month=2020M01<br>Ireland Index=%{x}<br>Finland Index=%{y}<br>Freight Dublin=%{marker.color}<extra></extra>\",\"hovertext\":[\"2020M01\"],\"legendgroup\":\"\",\"marker\":{\"color\":[338400.0],\"coloraxis\":\"coloraxis\",\"symbol\":\"circle\"},\"mode\":\"markers\",\"name\":\"\",\"orientation\":\"v\",\"showlegend\":false,\"x\":[0.182677],\"xaxis\":\"x\",\"y\":[0.05055866],\"yaxis\":\"y\",\"type\":\"scatter\"}],\"name\":\"2020M01\"},{\"data\":[{\"hovertemplate\":\"<b>%{hovertext}</b><br><br>Month=2020M02<br>Ireland Index=%{x}<br>Finland Index=%{y}<br>Freight Dublin=%{marker.color}<extra></extra>\",\"hovertext\":[\"2020M02\"],\"legendgroup\":\"\",\"marker\":{\"color\":[323600.0],\"coloraxis\":\"coloraxis\",\"symbol\":\"circle\"},\"mode\":\"markers\",\"name\":\"\",\"orientation\":\"v\",\"showlegend\":false,\"x\":[0.2026044],\"xaxis\":\"x\",\"y\":[-0.1179106],\"yaxis\":\"y\",\"type\":\"scatter\"}],\"name\":\"2020M02\"},{\"data\":[{\"hovertemplate\":\"<b>%{hovertext}</b><br><br>Month=2020M03<br>Ireland Index=%{x}<br>Finland Index=%{y}<br>Freight Dublin=%{marker.color}<extra></extra>\",\"hovertext\":[\"2020M03\"],\"legendgroup\":\"\",\"marker\":{\"color\":[328000.0],\"coloraxis\":\"coloraxis\",\"symbol\":\"circle\"},\"mode\":\"markers\",\"name\":\"\",\"orientation\":\"v\",\"showlegend\":false,\"x\":[-0.2830726],\"xaxis\":\"x\",\"y\":[-0.3878779],\"yaxis\":\"y\",\"type\":\"scatter\"}],\"name\":\"2020M03\"},{\"data\":[{\"hovertemplate\":\"<b>%{hovertext}</b><br><br>Month=2020M04<br>Ireland Index=%{x}<br>Finland Index=%{y}<br>Freight Dublin=%{marker.color}<extra></extra>\",\"hovertext\":[\"2020M04\"],\"legendgroup\":\"\",\"marker\":{\"color\":[238400.0],\"coloraxis\":\"coloraxis\",\"symbol\":\"circle\"},\"mode\":\"markers\",\"name\":\"\",\"orientation\":\"v\",\"showlegend\":false,\"x\":[-1.710016],\"xaxis\":\"x\",\"y\":[-1.100445],\"yaxis\":\"y\",\"type\":\"scatter\"}],\"name\":\"2020M04\"},{\"data\":[{\"hovertemplate\":\"<b>%{hovertext}</b><br><br>Month=2020M05<br>Ireland Index=%{x}<br>Finland Index=%{y}<br>Freight Dublin=%{marker.color}<extra></extra>\",\"hovertext\":[\"2020M05\"],\"legendgroup\":\"\",\"marker\":{\"color\":[298000.0],\"coloraxis\":\"coloraxis\",\"symbol\":\"circle\"},\"mode\":\"markers\",\"name\":\"\",\"orientation\":\"v\",\"showlegend\":false,\"x\":[0.37821],\"xaxis\":\"x\",\"y\":[0.8730333],\"yaxis\":\"y\",\"type\":\"scatter\"}],\"name\":\"2020M05\"},{\"data\":[{\"hovertemplate\":\"<b>%{hovertext}</b><br><br>Month=2020M06<br>Ireland Index=%{x}<br>Finland Index=%{y}<br>Freight Dublin=%{marker.color}<extra></extra>\",\"hovertext\":[\"2020M06\"],\"legendgroup\":\"\",\"marker\":{\"color\":[326400.0],\"coloraxis\":\"coloraxis\",\"symbol\":\"circle\"},\"mode\":\"markers\",\"name\":\"\",\"orientation\":\"v\",\"showlegend\":false,\"x\":[0.4110382],\"xaxis\":\"x\",\"y\":[0.7636566],\"yaxis\":\"y\",\"type\":\"scatter\"}],\"name\":\"2020M06\"},{\"data\":[{\"hovertemplate\":\"<b>%{hovertext}</b><br><br>Month=2020M07<br>Ireland Index=%{x}<br>Finland Index=%{y}<br>Freight Dublin=%{marker.color}<extra></extra>\",\"hovertext\":[\"2020M07\"],\"legendgroup\":\"\",\"marker\":{\"color\":[296400.0],\"coloraxis\":\"coloraxis\",\"symbol\":\"circle\"},\"mode\":\"markers\",\"name\":\"\",\"orientation\":\"v\",\"showlegend\":false,\"x\":[0.1910326],\"xaxis\":\"x\",\"y\":[0.2863061],\"yaxis\":\"y\",\"type\":\"scatter\"}],\"name\":\"2020M07\"},{\"data\":[{\"hovertemplate\":\"<b>%{hovertext}</b><br><br>Month=2020M08<br>Ireland Index=%{x}<br>Finland Index=%{y}<br>Freight Dublin=%{marker.color}<extra></extra>\",\"hovertext\":[\"2020M08\"],\"legendgroup\":\"\",\"marker\":{\"color\":[267600.0],\"coloraxis\":\"coloraxis\",\"symbol\":\"circle\"},\"mode\":\"markers\",\"name\":\"\",\"orientation\":\"v\",\"showlegend\":false,\"x\":[-0.09533417],\"xaxis\":\"x\",\"y\":[-0.4534232],\"yaxis\":\"y\",\"type\":\"scatter\"}],\"name\":\"2020M08\"},{\"data\":[{\"hovertemplate\":\"<b>%{hovertext}</b><br><br>Month=2020M09<br>Ireland Index=%{x}<br>Finland Index=%{y}<br>Freight Dublin=%{marker.color}<extra></extra>\",\"hovertext\":[\"2020M09\"],\"legendgroup\":\"\",\"marker\":{\"color\":[306400.0],\"coloraxis\":\"coloraxis\",\"symbol\":\"circle\"},\"mode\":\"markers\",\"name\":\"\",\"orientation\":\"v\",\"showlegend\":false,\"x\":[0.05452865],\"xaxis\":\"x\",\"y\":[-0.1855694],\"yaxis\":\"y\",\"type\":\"scatter\"}],\"name\":\"2020M09\"},{\"data\":[{\"hovertemplate\":\"<b>%{hovertext}</b><br><br>Month=2020M10<br>Ireland Index=%{x}<br>Finland Index=%{y}<br>Freight Dublin=%{marker.color}<extra></extra>\",\"hovertext\":[\"2020M10\"],\"legendgroup\":\"\",\"marker\":{\"color\":[315600.0],\"coloraxis\":\"coloraxis\",\"symbol\":\"circle\"},\"mode\":\"markers\",\"name\":\"\",\"orientation\":\"v\",\"showlegend\":false,\"x\":[0.0],\"xaxis\":\"x\",\"y\":[-0.219717],\"yaxis\":\"y\",\"type\":\"scatter\"}],\"name\":\"2020M10\"},{\"data\":[{\"hovertemplate\":\"<b>%{hovertext}</b><br><br>Month=2020M11<br>Ireland Index=%{x}<br>Finland Index=%{y}<br>Freight Dublin=%{marker.color}<extra></extra>\",\"hovertext\":[\"2020M11\"],\"legendgroup\":\"\",\"marker\":{\"color\":[323200.0],\"coloraxis\":\"coloraxis\",\"symbol\":\"circle\"},\"mode\":\"markers\",\"name\":\"\",\"orientation\":\"v\",\"showlegend\":false,\"x\":[0.5926759],\"xaxis\":\"x\",\"y\":[0.4234631],\"yaxis\":\"y\",\"type\":\"scatter\"}],\"name\":\"2020M11\"},{\"data\":[{\"hovertemplate\":\"<b>%{hovertext}</b><br><br>Month=2020M12<br>Ireland Index=%{x}<br>Finland Index=%{y}<br>Freight Dublin=%{marker.color}<extra></extra>\",\"hovertext\":[\"2020M12\"],\"legendgroup\":\"\",\"marker\":{\"color\":[356800.0],\"coloraxis\":\"coloraxis\",\"symbol\":\"circle\"},\"mode\":\"markers\",\"name\":\"\",\"orientation\":\"v\",\"showlegend\":false,\"x\":[0.2912059],\"xaxis\":\"x\",\"y\":[0.0674684],\"yaxis\":\"y\",\"type\":\"scatter\"}],\"name\":\"2020M12\"},{\"data\":[{\"hovertemplate\":\"<b>%{hovertext}</b><br><br>Month=2021M01<br>Ireland Index=%{x}<br>Finland Index=%{y}<br>Freight Dublin=%{marker.color}<extra></extra>\",\"hovertext\":[\"2021M01\"],\"legendgroup\":\"\",\"marker\":{\"color\":[332000.0],\"coloraxis\":\"coloraxis\",\"symbol\":\"circle\"},\"mode\":\"markers\",\"name\":\"\",\"orientation\":\"v\",\"showlegend\":false,\"x\":[-0.5402053],\"xaxis\":\"x\",\"y\":[0.5899504],\"yaxis\":\"y\",\"type\":\"scatter\"}],\"name\":\"2021M01\"},{\"data\":[{\"hovertemplate\":\"<b>%{hovertext}</b><br><br>Month=2021M02<br>Ireland Index=%{x}<br>Finland Index=%{y}<br>Freight Dublin=%{marker.color}<extra></extra>\",\"hovertext\":[\"2021M02\"],\"legendgroup\":\"\",\"marker\":{\"color\":[318800.0],\"coloraxis\":\"coloraxis\",\"symbol\":\"circle\"},\"mode\":\"markers\",\"name\":\"\",\"orientation\":\"v\",\"showlegend\":false,\"x\":[0.5295609],\"xaxis\":\"x\",\"y\":[0.03351373],\"yaxis\":\"y\",\"type\":\"scatter\"}],\"name\":\"2021M02\"},{\"data\":[{\"hovertemplate\":\"<b>%{hovertext}</b><br><br>Month=2021M03<br>Ireland Index=%{x}<br>Finland Index=%{y}<br>Freight Dublin=%{marker.color}<extra></extra>\",\"hovertext\":[\"2021M03\"],\"legendgroup\":\"\",\"marker\":{\"color\":[384000.0],\"coloraxis\":\"coloraxis\",\"symbol\":\"circle\"},\"mode\":\"markers\",\"name\":\"\",\"orientation\":\"v\",\"showlegend\":false,\"x\":[0.1350696],\"xaxis\":\"x\",\"y\":[-0.3852789],\"yaxis\":\"y\",\"type\":\"scatter\"}],\"name\":\"2021M03\"},{\"data\":[{\"hovertemplate\":\"<b>%{hovertext}</b><br><br>Month=2021M04<br>Ireland Index=%{x}<br>Finland Index=%{y}<br>Freight Dublin=%{marker.color}<extra></extra>\",\"hovertext\":[\"2021M04\"],\"legendgroup\":\"\",\"marker\":{\"color\":[361200.0],\"coloraxis\":\"coloraxis\",\"symbol\":\"circle\"},\"mode\":\"markers\",\"name\":\"\",\"orientation\":\"v\",\"showlegend\":false,\"x\":[0.1955867],\"xaxis\":\"x\",\"y\":[1.093043],\"yaxis\":\"y\",\"type\":\"scatter\"}],\"name\":\"2021M04\"},{\"data\":[{\"hovertemplate\":\"<b>%{hovertext}</b><br><br>Month=2021M05<br>Ireland Index=%{x}<br>Finland Index=%{y}<br>Freight Dublin=%{marker.color}<extra></extra>\",\"hovertext\":[\"2021M05\"],\"legendgroup\":\"\",\"marker\":{\"color\":[364800.0],\"coloraxis\":\"coloraxis\",\"symbol\":\"circle\"},\"mode\":\"markers\",\"name\":\"\",\"orientation\":\"v\",\"showlegend\":false,\"x\":[0.2288609],\"xaxis\":\"x\",\"y\":[0.0],\"yaxis\":\"y\",\"type\":\"scatter\"}],\"name\":\"2021M05\"},{\"data\":[{\"hovertemplate\":\"<b>%{hovertext}</b><br><br>Month=2021M06<br>Ireland Index=%{x}<br>Finland Index=%{y}<br>Freight Dublin=%{marker.color}<extra></extra>\",\"hovertext\":[\"2021M06\"],\"legendgroup\":\"\",\"marker\":{\"color\":[345600.0],\"coloraxis\":\"coloraxis\",\"symbol\":\"circle\"},\"mode\":\"markers\",\"name\":\"\",\"orientation\":\"v\",\"showlegend\":false,\"x\":[-0.201475],\"xaxis\":\"x\",\"y\":[0.2162449],\"yaxis\":\"y\",\"type\":\"scatter\"}],\"name\":\"2021M06\"},{\"data\":[{\"hovertemplate\":\"<b>%{hovertext}</b><br><br>Month=2021M07<br>Ireland Index=%{x}<br>Finland Index=%{y}<br>Freight Dublin=%{marker.color}<extra></extra>\",\"hovertext\":[\"2021M07\"],\"legendgroup\":\"\",\"marker\":{\"color\":[356000.0],\"coloraxis\":\"coloraxis\",\"symbol\":\"circle\"},\"mode\":\"markers\",\"name\":\"\",\"orientation\":\"v\",\"showlegend\":false,\"x\":[-0.1345879],\"xaxis\":\"x\",\"y\":[-0.08299159],\"yaxis\":\"y\",\"type\":\"scatter\"}],\"name\":\"2021M07\"},{\"data\":[{\"hovertemplate\":\"<b>%{hovertext}</b><br><br>Month=2021M08<br>Ireland Index=%{x}<br>Finland Index=%{y}<br>Freight Dublin=%{marker.color}<extra></extra>\",\"hovertext\":[\"2021M08\"],\"legendgroup\":\"\",\"marker\":{\"color\":[344400.0],\"coloraxis\":\"coloraxis\",\"symbol\":\"circle\"},\"mode\":\"markers\",\"name\":\"\",\"orientation\":\"v\",\"showlegend\":false,\"x\":[0.2425846],\"xaxis\":\"x\",\"y\":[-0.06644855],\"yaxis\":\"y\",\"type\":\"scatter\"}],\"name\":\"2021M08\"},{\"data\":[{\"hovertemplate\":\"<b>%{hovertext}</b><br><br>Month=2021M09<br>Ireland Index=%{x}<br>Finland Index=%{y}<br>Freight Dublin=%{marker.color}<extra></extra>\",\"hovertext\":[\"2021M09\"],\"legendgroup\":\"\",\"marker\":{\"color\":[364800.0],\"coloraxis\":\"coloraxis\",\"symbol\":\"circle\"},\"mode\":\"markers\",\"name\":\"\",\"orientation\":\"v\",\"showlegend\":false,\"x\":[-0.0470551],\"xaxis\":\"x\",\"y\":[0.2825938],\"yaxis\":\"y\",\"type\":\"scatter\"}],\"name\":\"2021M09\"},{\"data\":[{\"hovertemplate\":\"<b>%{hovertext}</b><br><br>Month=2021M10<br>Ireland Index=%{x}<br>Finland Index=%{y}<br>Freight Dublin=%{marker.color}<extra></extra>\",\"hovertext\":[\"2021M10\"],\"legendgroup\":\"\",\"marker\":{\"color\":[381200.0],\"coloraxis\":\"coloraxis\",\"symbol\":\"circle\"},\"mode\":\"markers\",\"name\":\"\",\"orientation\":\"v\",\"showlegend\":false,\"x\":[-0.2622874],\"xaxis\":\"x\",\"y\":[-0.5304423],\"yaxis\":\"y\",\"type\":\"scatter\"}],\"name\":\"2021M10\"},{\"data\":[{\"hovertemplate\":\"<b>%{hovertext}</b><br><br>Month=2021M11<br>Ireland Index=%{x}<br>Finland Index=%{y}<br>Freight Dublin=%{marker.color}<extra></extra>\",\"hovertext\":[\"2021M11\"],\"legendgroup\":\"\",\"marker\":{\"color\":[373200.0],\"coloraxis\":\"coloraxis\",\"symbol\":\"circle\"},\"mode\":\"markers\",\"name\":\"\",\"orientation\":\"v\",\"showlegend\":false,\"x\":[-0.06068699],\"xaxis\":\"x\",\"y\":[-0.2999649],\"yaxis\":\"y\",\"type\":\"scatter\"}],\"name\":\"2021M11\"},{\"data\":[{\"hovertemplate\":\"<b>%{hovertext}</b><br><br>Month=2021M12<br>Ireland Index=%{x}<br>Finland Index=%{y}<br>Freight Dublin=%{marker.color}<extra></extra>\",\"hovertext\":[\"2021M12\"],\"legendgroup\":\"\",\"marker\":{\"color\":[367400.0],\"coloraxis\":\"coloraxis\",\"symbol\":\"circle\"},\"mode\":\"markers\",\"name\":\"\",\"orientation\":\"v\",\"showlegend\":false,\"x\":[-0.3508491],\"xaxis\":\"x\",\"y\":[-0.5515903],\"yaxis\":\"y\",\"type\":\"scatter\"}],\"name\":\"2021M12\"},{\"data\":[{\"hovertemplate\":\"<b>%{hovertext}</b><br><br>Month=2022M01<br>Ireland Index=%{x}<br>Finland Index=%{y}<br>Freight Dublin=%{marker.color}<extra></extra>\",\"hovertext\":[\"2022M01\"],\"legendgroup\":\"\",\"marker\":{\"color\":[296800.0],\"coloraxis\":\"coloraxis\",\"symbol\":\"circle\"},\"mode\":\"markers\",\"name\":\"\",\"orientation\":\"v\",\"showlegend\":false,\"x\":[0.1151045],\"xaxis\":\"x\",\"y\":[0.1848832],\"yaxis\":\"y\",\"type\":\"scatter\"}],\"name\":\"2022M01\"},{\"data\":[{\"hovertemplate\":\"<b>%{hovertext}</b><br><br>Month=2022M02<br>Ireland Index=%{x}<br>Finland Index=%{y}<br>Freight Dublin=%{marker.color}<extra></extra>\",\"hovertext\":[\"2022M02\"],\"legendgroup\":\"\",\"marker\":{\"color\":[298000.0],\"coloraxis\":\"coloraxis\",\"symbol\":\"circle\"},\"mode\":\"markers\",\"name\":\"\",\"orientation\":\"v\",\"showlegend\":false,\"x\":[-0.4193104],\"xaxis\":\"x\",\"y\":[0.2180952],\"yaxis\":\"y\",\"type\":\"scatter\"}],\"name\":\"2022M02\"},{\"data\":[{\"hovertemplate\":\"<b>%{hovertext}</b><br><br>Month=2022M03<br>Ireland Index=%{x}<br>Finland Index=%{y}<br>Freight Dublin=%{marker.color}<extra></extra>\",\"hovertext\":[\"2022M03\"],\"legendgroup\":\"\",\"marker\":{\"color\":[343600.0],\"coloraxis\":\"coloraxis\",\"symbol\":\"circle\"},\"mode\":\"markers\",\"name\":\"\",\"orientation\":\"v\",\"showlegend\":false,\"x\":[-0.8081941],\"xaxis\":\"x\",\"y\":[-1.674004],\"yaxis\":\"y\",\"type\":\"scatter\"}],\"name\":\"2022M03\"},{\"data\":[{\"hovertemplate\":\"<b>%{hovertext}</b><br><br>Month=2022M04<br>Ireland Index=%{x}<br>Finland Index=%{y}<br>Freight Dublin=%{marker.color}<extra></extra>\",\"hovertext\":[\"2022M04\"],\"legendgroup\":\"\",\"marker\":{\"color\":[312800.0],\"coloraxis\":\"coloraxis\",\"symbol\":\"circle\"},\"mode\":\"markers\",\"name\":\"\",\"orientation\":\"v\",\"showlegend\":false,\"x\":[-0.1027033],\"xaxis\":\"x\",\"y\":[-0.3064507],\"yaxis\":\"y\",\"type\":\"scatter\"}],\"name\":\"2022M04\"},{\"data\":[{\"hovertemplate\":\"<b>%{hovertext}</b><br><br>Month=2022M05<br>Ireland Index=%{x}<br>Finland Index=%{y}<br>Freight Dublin=%{marker.color}<extra></extra>\",\"hovertext\":[\"2022M05\"],\"legendgroup\":\"\",\"marker\":{\"color\":[338000.0],\"coloraxis\":\"coloraxis\",\"symbol\":\"circle\"},\"mode\":\"markers\",\"name\":\"\",\"orientation\":\"v\",\"showlegend\":false,\"x\":[0.1165167],\"xaxis\":\"x\",\"y\":[0.03415474],\"yaxis\":\"y\",\"type\":\"scatter\"}],\"name\":\"2022M05\"},{\"data\":[{\"hovertemplate\":\"<b>%{hovertext}</b><br><br>Month=2022M06<br>Ireland Index=%{x}<br>Finland Index=%{y}<br>Freight Dublin=%{marker.color}<extra></extra>\",\"hovertext\":[\"2022M06\"],\"legendgroup\":\"\",\"marker\":{\"color\":[332000.0],\"coloraxis\":\"coloraxis\",\"symbol\":\"circle\"},\"mode\":\"markers\",\"name\":\"\",\"orientation\":\"v\",\"showlegend\":false,\"x\":[-0.3970649],\"xaxis\":\"x\",\"y\":[-0.3243593],\"yaxis\":\"y\",\"type\":\"scatter\"}],\"name\":\"2022M06\"},{\"data\":[{\"hovertemplate\":\"<b>%{hovertext}</b><br><br>Month=2022M07<br>Ireland Index=%{x}<br>Finland Index=%{y}<br>Freight Dublin=%{marker.color}<extra></extra>\",\"hovertext\":[\"2022M07\"],\"legendgroup\":\"\",\"marker\":{\"color\":[326800.0],\"coloraxis\":\"coloraxis\",\"symbol\":\"circle\"},\"mode\":\"markers\",\"name\":\"\",\"orientation\":\"v\",\"showlegend\":false,\"x\":[-0.3230422],\"xaxis\":\"x\",\"y\":[-0.2397793],\"yaxis\":\"y\",\"type\":\"scatter\"}],\"name\":\"2022M07\"},{\"data\":[{\"hovertemplate\":\"<b>%{hovertext}</b><br><br>Month=2022M08<br>Ireland Index=%{x}<br>Finland Index=%{y}<br>Freight Dublin=%{marker.color}<extra></extra>\",\"hovertext\":[\"2022M08\"],\"legendgroup\":\"\",\"marker\":{\"color\":[323200.0],\"coloraxis\":\"coloraxis\",\"symbol\":\"circle\"},\"mode\":\"markers\",\"name\":\"\",\"orientation\":\"v\",\"showlegend\":false,\"x\":[0.3999397],\"xaxis\":\"x\",\"y\":[0.05150479],\"yaxis\":\"y\",\"type\":\"scatter\"}],\"name\":\"2022M08\"},{\"data\":[{\"hovertemplate\":\"<b>%{hovertext}</b><br><br>Month=2022M09<br>Ireland Index=%{x}<br>Finland Index=%{y}<br>Freight Dublin=%{marker.color}<extra></extra>\",\"hovertext\":[\"2022M09\"],\"legendgroup\":\"\",\"marker\":{\"color\":[335200.0],\"coloraxis\":\"coloraxis\",\"symbol\":\"circle\"},\"mode\":\"markers\",\"name\":\"\",\"orientation\":\"v\",\"showlegend\":false,\"x\":[-0.3708744],\"xaxis\":\"x\",\"y\":[-0.6520581],\"yaxis\":\"y\",\"type\":\"scatter\"}],\"name\":\"2022M09\"},{\"data\":[{\"hovertemplate\":\"<b>%{hovertext}</b><br><br>Month=2022M10<br>Ireland Index=%{x}<br>Finland Index=%{y}<br>Freight Dublin=%{marker.color}<extra></extra>\",\"hovertext\":[\"2022M10\"],\"legendgroup\":\"\",\"marker\":{\"color\":[344400.0],\"coloraxis\":\"coloraxis\",\"symbol\":\"circle\"},\"mode\":\"markers\",\"name\":\"\",\"orientation\":\"v\",\"showlegend\":false,\"x\":[0.4067231],\"xaxis\":\"x\",\"y\":[0.2245366],\"yaxis\":\"y\",\"type\":\"scatter\"}],\"name\":\"2022M10\"},{\"data\":[{\"hovertemplate\":\"<b>%{hovertext}</b><br><br>Month=2022M11<br>Ireland Index=%{x}<br>Finland Index=%{y}<br>Freight Dublin=%{marker.color}<extra></extra>\",\"hovertext\":[\"2022M11\"],\"legendgroup\":\"\",\"marker\":{\"color\":[345600.0],\"coloraxis\":\"coloraxis\",\"symbol\":\"circle\"},\"mode\":\"markers\",\"name\":\"\",\"orientation\":\"v\",\"showlegend\":false,\"x\":[-0.09611961],\"xaxis\":\"x\",\"y\":[0.1378668],\"yaxis\":\"y\",\"type\":\"scatter\"}],\"name\":\"2022M11\"},{\"data\":[{\"hovertemplate\":\"<b>%{hovertext}</b><br><br>Month=2022M12<br>Ireland Index=%{x}<br>Finland Index=%{y}<br>Freight Dublin=%{marker.color}<extra></extra>\",\"hovertext\":[\"2022M12\"],\"legendgroup\":\"\",\"marker\":{\"color\":[324400.0],\"coloraxis\":\"coloraxis\",\"symbol\":\"circle\"},\"mode\":\"markers\",\"name\":\"\",\"orientation\":\"v\",\"showlegend\":false,\"x\":[0.4054652],\"xaxis\":\"x\",\"y\":[-0.1720963],\"yaxis\":\"y\",\"type\":\"scatter\"}],\"name\":\"2022M12\"},{\"data\":[{\"hovertemplate\":\"<b>%{hovertext}</b><br><br>Month=2023M01<br>Ireland Index=%{x}<br>Finland Index=%{y}<br>Freight Dublin=%{marker.color}<extra></extra>\",\"hovertext\":[\"2023M01\"],\"legendgroup\":\"\",\"marker\":{\"color\":[289200.0],\"coloraxis\":\"coloraxis\",\"symbol\":\"circle\"},\"mode\":\"markers\",\"name\":\"\",\"orientation\":\"v\",\"showlegend\":false,\"x\":[-0.006844537],\"xaxis\":\"x\",\"y\":[0.879204],\"yaxis\":\"y\",\"type\":\"scatter\"}],\"name\":\"2023M01\"},{\"data\":[{\"hovertemplate\":\"<b>%{hovertext}</b><br><br>Month=2023M02<br>Ireland Index=%{x}<br>Finland Index=%{y}<br>Freight Dublin=%{marker.color}<extra></extra>\",\"hovertext\":[\"2023M02\"],\"legendgroup\":\"\",\"marker\":{\"color\":[151200.0],\"coloraxis\":\"coloraxis\",\"symbol\":\"circle\"},\"mode\":\"markers\",\"name\":\"\",\"orientation\":\"v\",\"showlegend\":false,\"x\":[null],\"xaxis\":\"x\",\"y\":[0.1025343],\"yaxis\":\"y\",\"type\":\"scatter\"}],\"name\":\"2023M02\"},{\"data\":[{\"hovertemplate\":\"<b>%{hovertext}</b><br><br>Month=2023M03<br>Ireland Index=%{x}<br>Finland Index=%{y}<br>Freight Dublin=%{marker.color}<extra></extra>\",\"hovertext\":[\"2023M03\"],\"legendgroup\":\"\",\"marker\":{\"color\":[179300.0],\"coloraxis\":\"coloraxis\",\"symbol\":\"circle\"},\"mode\":\"markers\",\"name\":\"\",\"orientation\":\"v\",\"showlegend\":false,\"x\":[null],\"xaxis\":\"x\",\"y\":[0.1024293],\"yaxis\":\"y\",\"type\":\"scatter\"}],\"name\":\"2023M03\"}]);\n",
       "                        }).then(function(){\n",
       "                            \n",
       "var gd = document.getElementById('e8f2926a-aae4-406d-9839-0323253b1225');\n",
       "var x = new MutationObserver(function (mutations, observer) {{\n",
       "        var display = window.getComputedStyle(gd).display;\n",
       "        if (!display || display === 'none') {{\n",
       "            console.log([gd, 'removed!']);\n",
       "            Plotly.purge(gd);\n",
       "            observer.disconnect();\n",
       "        }}\n",
       "}});\n",
       "\n",
       "// Listen for the removal of the full notebook cells\n",
       "var notebookContainer = gd.closest('#notebook-container');\n",
       "if (notebookContainer) {{\n",
       "    x.observe(notebookContainer, {childList: true});\n",
       "}}\n",
       "\n",
       "// Listen for the clearing of the current output cell\n",
       "var outputEl = gd.closest('.output');\n",
       "if (outputEl) {{\n",
       "    x.observe(outputEl, {childList: true});\n",
       "}}\n",
       "\n",
       "                        })                };                });            </script>        </div>"
      ]
     },
     "metadata": {},
     "output_type": "display_data"
    }
   ],
   "source": [
    "fig = px.scatter(\n",
    "    merged_data_CapitalCS,\n",
    "    x=\"Ireland Index\",\n",
    "    y=\"Finland Index\",\n",
    "    animation_frame=\"Month\",\n",
    "    hover_name=\"Month\",\n",
    "    \n",
    "    color=\"Freight Dublin\",\n",
    "    \n",
    "    title=\"Interactive Graph\",\n",
    "    labels={\"Ireland Index\": \"Ireland Index\", \"Finland Index\": \"Finland Index\"},\n",
    "    range_x=[merged_data_CapitalCS[\"Ireland Index\"].min(), merged_data_CapitalCS[\"Ireland Index\"].max()],\n",
    "    range_y=[merged_data_CapitalCS[\"Finland Index\"].min(), merged_data_CapitalCS[\"Finland Index\"].max()],\n",
    ")\n",
    "\n",
    "# Show the figure\n",
    "fig.show()\n"
   ]
  },
  {
   "cell_type": "code",
   "execution_count": null,
   "id": "8a59efc4",
   "metadata": {},
   "outputs": [],
   "source": []
  },
  {
   "cell_type": "code",
   "execution_count": null,
   "id": "bab1eaf3",
   "metadata": {},
   "outputs": [],
   "source": []
  }
 ],
 "metadata": {
  "kernelspec": {
   "display_name": "Python 3 (ipykernel)",
   "language": "python",
   "name": "python3"
  },
  "language_info": {
   "codemirror_mode": {
    "name": "ipython",
    "version": 3
   },
   "file_extension": ".py",
   "mimetype": "text/x-python",
   "name": "python",
   "nbconvert_exporter": "python",
   "pygments_lexer": "ipython3",
   "version": "3.10.9"
  }
 },
 "nbformat": 4,
 "nbformat_minor": 5
}
